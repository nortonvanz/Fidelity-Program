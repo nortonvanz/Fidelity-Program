{
 "cells": [
  {
   "cell_type": "markdown",
   "metadata": {
    "ExecuteTime": {
     "end_time": "2021-03-27T20:58:22.276780Z",
     "start_time": "2021-03-27T20:58:22.274533Z"
    }
   },
   "source": [
    "# PA005: High Value Customer Identification"
   ]
  },
  {
   "cell_type": "markdown",
   "metadata": {},
   "source": [
    "# 0.0. Imports"
   ]
  },
  {
   "cell_type": "code",
   "execution_count": 130,
   "metadata": {
    "ExecuteTime": {
     "end_time": "2021-09-15T00:36:41.198376Z",
     "start_time": "2021-09-15T00:36:41.181039Z"
    }
   },
   "outputs": [],
   "source": [
    "import re\n",
    "import numpy   as np\n",
    "import pandas  as pd\n",
    "import seaborn as sns\n",
    "\n",
    "import umap.umap_ as umap\n",
    "\n",
    "from matplotlib import pyplot as plt\n",
    "\n",
    "from sklearn import cluster       as c\n",
    "from sklearn import metrics       as m\n",
    "from sklearn import ensemble      as en\n",
    "from sklearn import preprocessing as pp\n",
    "from sklearn import decomposition as dd\n",
    "from sklearn import manifold      as mn\n",
    "from sklearn import mixture       as mx\n",
    "\n",
    "from plotly import express as px\n",
    "from scipy.cluster import hierarchy as hc\n",
    "from sqlalchemy import create_engine"
   ]
  },
  {
   "cell_type": "markdown",
   "metadata": {},
   "source": [
    "## 0.2. Load dataset"
   ]
  },
  {
   "cell_type": "code",
   "execution_count": 138,
   "metadata": {
    "ExecuteTime": {
     "end_time": "2021-09-15T01:11:08.301644Z",
     "start_time": "2021-09-15T01:11:08.283304Z"
    }
   },
   "outputs": [
    {
     "data": {
      "text/plain": [
       "'/Users/meigarom.lopes/repos/pa005_insiders_clustering/insiders_clustering/notebooks'"
      ]
     },
     "execution_count": 138,
     "metadata": {},
     "output_type": "execute_result"
    }
   ],
   "source": [
    "pwd"
   ]
  },
  {
   "cell_type": "code",
   "execution_count": 139,
   "metadata": {
    "ExecuteTime": {
     "end_time": "2021-09-15T01:11:32.368828Z",
     "start_time": "2021-09-15T01:11:30.080444Z"
    }
   },
   "outputs": [],
   "source": [
    "# load data\n",
    "path = '/Users/meigarom.lopes/repos/pa005_insiders_clustering/insiders_clustering/'\n",
    "df_raw = pd.read_csv( path + 'data/raw/Ecommerce.csv' )\n",
    "\n",
    "# drop extra column\n",
    "df_raw = df_raw.drop( columns=['Unnamed: 8'], axis=1 )"
   ]
  },
  {
   "cell_type": "markdown",
   "metadata": {},
   "source": [
    "# <font color='red'> 1.0. Descrição dos dados </font>"
   ]
  },
  {
   "cell_type": "code",
   "execution_count": 3,
   "metadata": {
    "ExecuteTime": {
     "end_time": "2021-09-14T23:38:32.608131Z",
     "start_time": "2021-09-14T23:38:32.577483Z"
    }
   },
   "outputs": [],
   "source": [
    "df1 = df_raw.copy()"
   ]
  },
  {
   "cell_type": "code",
   "execution_count": 4,
   "metadata": {
    "ExecuteTime": {
     "end_time": "2021-09-14T23:38:32.674577Z",
     "start_time": "2021-09-14T23:38:32.617551Z"
    }
   },
   "outputs": [
    {
     "data": {
      "text/html": [
       "<div>\n",
       "<style scoped>\n",
       "    .dataframe tbody tr th:only-of-type {\n",
       "        vertical-align: middle;\n",
       "    }\n",
       "\n",
       "    .dataframe tbody tr th {\n",
       "        vertical-align: top;\n",
       "    }\n",
       "\n",
       "    .dataframe thead th {\n",
       "        text-align: right;\n",
       "    }\n",
       "</style>\n",
       "<table border=\"1\" class=\"dataframe\">\n",
       "  <thead>\n",
       "    <tr style=\"text-align: right;\">\n",
       "      <th></th>\n",
       "      <th>InvoiceNo</th>\n",
       "      <th>StockCode</th>\n",
       "      <th>Description</th>\n",
       "      <th>Quantity</th>\n",
       "      <th>InvoiceDate</th>\n",
       "      <th>UnitPrice</th>\n",
       "      <th>CustomerID</th>\n",
       "      <th>Country</th>\n",
       "    </tr>\n",
       "  </thead>\n",
       "  <tbody>\n",
       "    <tr>\n",
       "      <th>0</th>\n",
       "      <td>536365</td>\n",
       "      <td>85123A</td>\n",
       "      <td>WHITE HANGING HEART T-LIGHT HOLDER</td>\n",
       "      <td>6</td>\n",
       "      <td>29-Nov-16</td>\n",
       "      <td>2.55</td>\n",
       "      <td>17850.0</td>\n",
       "      <td>United Kingdom</td>\n",
       "    </tr>\n",
       "    <tr>\n",
       "      <th>1</th>\n",
       "      <td>536365</td>\n",
       "      <td>71053</td>\n",
       "      <td>WHITE METAL LANTERN</td>\n",
       "      <td>6</td>\n",
       "      <td>29-Nov-16</td>\n",
       "      <td>3.39</td>\n",
       "      <td>17850.0</td>\n",
       "      <td>United Kingdom</td>\n",
       "    </tr>\n",
       "    <tr>\n",
       "      <th>2</th>\n",
       "      <td>536365</td>\n",
       "      <td>84406B</td>\n",
       "      <td>CREAM CUPID HEARTS COAT HANGER</td>\n",
       "      <td>8</td>\n",
       "      <td>29-Nov-16</td>\n",
       "      <td>2.75</td>\n",
       "      <td>17850.0</td>\n",
       "      <td>United Kingdom</td>\n",
       "    </tr>\n",
       "    <tr>\n",
       "      <th>3</th>\n",
       "      <td>536365</td>\n",
       "      <td>84029G</td>\n",
       "      <td>KNITTED UNION FLAG HOT WATER BOTTLE</td>\n",
       "      <td>6</td>\n",
       "      <td>29-Nov-16</td>\n",
       "      <td>3.39</td>\n",
       "      <td>17850.0</td>\n",
       "      <td>United Kingdom</td>\n",
       "    </tr>\n",
       "    <tr>\n",
       "      <th>4</th>\n",
       "      <td>536365</td>\n",
       "      <td>84029E</td>\n",
       "      <td>RED WOOLLY HOTTIE WHITE HEART.</td>\n",
       "      <td>6</td>\n",
       "      <td>29-Nov-16</td>\n",
       "      <td>3.39</td>\n",
       "      <td>17850.0</td>\n",
       "      <td>United Kingdom</td>\n",
       "    </tr>\n",
       "  </tbody>\n",
       "</table>\n",
       "</div>"
      ],
      "text/plain": [
       "  InvoiceNo StockCode                          Description  Quantity  \\\n",
       "0    536365    85123A   WHITE HANGING HEART T-LIGHT HOLDER         6   \n",
       "1    536365     71053                  WHITE METAL LANTERN         6   \n",
       "2    536365    84406B       CREAM CUPID HEARTS COAT HANGER         8   \n",
       "3    536365    84029G  KNITTED UNION FLAG HOT WATER BOTTLE         6   \n",
       "4    536365    84029E       RED WOOLLY HOTTIE WHITE HEART.         6   \n",
       "\n",
       "  InvoiceDate  UnitPrice  CustomerID         Country  \n",
       "0   29-Nov-16       2.55     17850.0  United Kingdom  \n",
       "1   29-Nov-16       3.39     17850.0  United Kingdom  \n",
       "2   29-Nov-16       2.75     17850.0  United Kingdom  \n",
       "3   29-Nov-16       3.39     17850.0  United Kingdom  \n",
       "4   29-Nov-16       3.39     17850.0  United Kingdom  "
      ]
     },
     "execution_count": 4,
     "metadata": {},
     "output_type": "execute_result"
    }
   ],
   "source": [
    "df1.head()"
   ]
  },
  {
   "cell_type": "code",
   "execution_count": null,
   "metadata": {},
   "outputs": [],
   "source": []
  },
  {
   "cell_type": "markdown",
   "metadata": {},
   "source": [
    "## 1.1. Rename columuns"
   ]
  },
  {
   "cell_type": "code",
   "execution_count": 5,
   "metadata": {
    "ExecuteTime": {
     "end_time": "2021-09-14T23:38:32.694386Z",
     "start_time": "2021-09-14T23:38:32.679849Z"
    }
   },
   "outputs": [],
   "source": [
    "cols_new = ['invoice_no', 'stock_code', 'description', 'quantity', 'invoice_date', 'unit_price', 'customer_id', 'country']\n",
    "df1.columns = cols_new"
   ]
  },
  {
   "cell_type": "markdown",
   "metadata": {},
   "source": [
    "## 1.2. Data dimensions"
   ]
  },
  {
   "cell_type": "code",
   "execution_count": 6,
   "metadata": {
    "ExecuteTime": {
     "end_time": "2021-09-14T23:38:32.714878Z",
     "start_time": "2021-09-14T23:38:32.704527Z"
    }
   },
   "outputs": [
    {
     "name": "stdout",
     "output_type": "stream",
     "text": [
      "Number of rows: 541909\n",
      "Number of cols: 8\n"
     ]
    }
   ],
   "source": [
    "print( 'Number of rows: {}'.format( df1.shape[0] ) )\n",
    "print( 'Number of cols: {}'.format( df1.shape[1] ) )"
   ]
  },
  {
   "cell_type": "markdown",
   "metadata": {},
   "source": [
    "## 1.3. Data types"
   ]
  },
  {
   "cell_type": "code",
   "execution_count": 7,
   "metadata": {
    "ExecuteTime": {
     "end_time": "2021-09-14T23:38:32.747843Z",
     "start_time": "2021-09-14T23:38:32.725963Z"
    }
   },
   "outputs": [
    {
     "data": {
      "text/plain": [
       "invoice_no       object\n",
       "stock_code       object\n",
       "description      object\n",
       "quantity          int64\n",
       "invoice_date     object\n",
       "unit_price      float64\n",
       "customer_id     float64\n",
       "country          object\n",
       "dtype: object"
      ]
     },
     "execution_count": 7,
     "metadata": {},
     "output_type": "execute_result"
    }
   ],
   "source": [
    "df1.dtypes"
   ]
  },
  {
   "cell_type": "markdown",
   "metadata": {},
   "source": [
    "## 1.4. Check NA"
   ]
  },
  {
   "cell_type": "code",
   "execution_count": 8,
   "metadata": {
    "ExecuteTime": {
     "end_time": "2021-09-14T23:38:33.075316Z",
     "start_time": "2021-09-14T23:38:32.763197Z"
    }
   },
   "outputs": [
    {
     "data": {
      "text/plain": [
       "invoice_no           0\n",
       "stock_code           0\n",
       "description       1454\n",
       "quantity             0\n",
       "invoice_date         0\n",
       "unit_price           0\n",
       "customer_id     135080\n",
       "country              0\n",
       "dtype: int64"
      ]
     },
     "execution_count": 8,
     "metadata": {},
     "output_type": "execute_result"
    }
   ],
   "source": [
    "df1.isna().sum()"
   ]
  },
  {
   "cell_type": "markdown",
   "metadata": {},
   "source": [
    "## 1.5. Replace NA"
   ]
  },
  {
   "cell_type": "code",
   "execution_count": 9,
   "metadata": {
    "ExecuteTime": {
     "end_time": "2021-09-14T23:38:33.092413Z",
     "start_time": "2021-09-14T23:38:33.081511Z"
    }
   },
   "outputs": [],
   "source": [
    "# Precisamos resolver o problema do NA"
   ]
  },
  {
   "cell_type": "code",
   "execution_count": 10,
   "metadata": {
    "ExecuteTime": {
     "end_time": "2021-09-14T23:38:33.183943Z",
     "start_time": "2021-09-14T23:38:33.097757Z"
    }
   },
   "outputs": [],
   "source": [
    "df_missing = df1.loc[df1['customer_id'].isna(), :]\n",
    "df_not_missing = df1.loc[~df1['customer_id'].isna(), :]"
   ]
  },
  {
   "cell_type": "code",
   "execution_count": 11,
   "metadata": {
    "ExecuteTime": {
     "end_time": "2021-09-14T23:38:33.854323Z",
     "start_time": "2021-09-14T23:38:33.190683Z"
    }
   },
   "outputs": [],
   "source": [
    "# create reference\n",
    "df_backup = pd.DataFrame( df_missing['invoice_no'].drop_duplicates() )\n",
    "df_backup['customer_id'] = np.arange( 19000, 19000+len( df_backup ), 1)\n",
    "\n",
    "# merge original with reference dataframe\n",
    "df1 = pd.merge( df1, df_backup, on='invoice_no', how='left' )\n",
    "\n",
    "# coalesce \n",
    "df1['customer_id'] = df1['customer_id_x'].combine_first( df1['customer_id_y'] )\n",
    "\n",
    "# drop extra columns\n",
    "df1 = df1.drop( columns=['customer_id_x', 'customer_id_y'], axis=1 )"
   ]
  },
  {
   "cell_type": "code",
   "execution_count": 12,
   "metadata": {
    "ExecuteTime": {
     "end_time": "2021-09-14T23:38:34.112281Z",
     "start_time": "2021-09-14T23:38:33.862664Z"
    }
   },
   "outputs": [
    {
     "data": {
      "text/plain": [
       "invoice_no         0\n",
       "stock_code         0\n",
       "description     1454\n",
       "quantity           0\n",
       "invoice_date       0\n",
       "unit_price         0\n",
       "country            0\n",
       "customer_id        0\n",
       "dtype: int64"
      ]
     },
     "execution_count": 12,
     "metadata": {},
     "output_type": "execute_result"
    }
   ],
   "source": [
    "df1.isna().sum()"
   ]
  },
  {
   "cell_type": "markdown",
   "metadata": {},
   "source": [
    "## 1.6. Change dtypes"
   ]
  },
  {
   "cell_type": "code",
   "execution_count": 13,
   "metadata": {
    "ExecuteTime": {
     "end_time": "2021-09-14T23:38:34.323776Z",
     "start_time": "2021-09-14T23:38:34.116970Z"
    }
   },
   "outputs": [
    {
     "data": {
      "text/html": [
       "<div>\n",
       "<style scoped>\n",
       "    .dataframe tbody tr th:only-of-type {\n",
       "        vertical-align: middle;\n",
       "    }\n",
       "\n",
       "    .dataframe tbody tr th {\n",
       "        vertical-align: top;\n",
       "    }\n",
       "\n",
       "    .dataframe thead th {\n",
       "        text-align: right;\n",
       "    }\n",
       "</style>\n",
       "<table border=\"1\" class=\"dataframe\">\n",
       "  <thead>\n",
       "    <tr style=\"text-align: right;\">\n",
       "      <th></th>\n",
       "      <th>invoice_no</th>\n",
       "      <th>stock_code</th>\n",
       "      <th>description</th>\n",
       "      <th>quantity</th>\n",
       "      <th>invoice_date</th>\n",
       "      <th>unit_price</th>\n",
       "      <th>country</th>\n",
       "      <th>customer_id</th>\n",
       "    </tr>\n",
       "  </thead>\n",
       "  <tbody>\n",
       "    <tr>\n",
       "      <th>0</th>\n",
       "      <td>536365</td>\n",
       "      <td>85123A</td>\n",
       "      <td>WHITE HANGING HEART T-LIGHT HOLDER</td>\n",
       "      <td>6</td>\n",
       "      <td>2016-11-29</td>\n",
       "      <td>2.55</td>\n",
       "      <td>United Kingdom</td>\n",
       "      <td>17850</td>\n",
       "    </tr>\n",
       "    <tr>\n",
       "      <th>1</th>\n",
       "      <td>536365</td>\n",
       "      <td>71053</td>\n",
       "      <td>WHITE METAL LANTERN</td>\n",
       "      <td>6</td>\n",
       "      <td>2016-11-29</td>\n",
       "      <td>3.39</td>\n",
       "      <td>United Kingdom</td>\n",
       "      <td>17850</td>\n",
       "    </tr>\n",
       "    <tr>\n",
       "      <th>2</th>\n",
       "      <td>536365</td>\n",
       "      <td>84406B</td>\n",
       "      <td>CREAM CUPID HEARTS COAT HANGER</td>\n",
       "      <td>8</td>\n",
       "      <td>2016-11-29</td>\n",
       "      <td>2.75</td>\n",
       "      <td>United Kingdom</td>\n",
       "      <td>17850</td>\n",
       "    </tr>\n",
       "    <tr>\n",
       "      <th>3</th>\n",
       "      <td>536365</td>\n",
       "      <td>84029G</td>\n",
       "      <td>KNITTED UNION FLAG HOT WATER BOTTLE</td>\n",
       "      <td>6</td>\n",
       "      <td>2016-11-29</td>\n",
       "      <td>3.39</td>\n",
       "      <td>United Kingdom</td>\n",
       "      <td>17850</td>\n",
       "    </tr>\n",
       "    <tr>\n",
       "      <th>4</th>\n",
       "      <td>536365</td>\n",
       "      <td>84029E</td>\n",
       "      <td>RED WOOLLY HOTTIE WHITE HEART.</td>\n",
       "      <td>6</td>\n",
       "      <td>2016-11-29</td>\n",
       "      <td>3.39</td>\n",
       "      <td>United Kingdom</td>\n",
       "      <td>17850</td>\n",
       "    </tr>\n",
       "  </tbody>\n",
       "</table>\n",
       "</div>"
      ],
      "text/plain": [
       "  invoice_no stock_code                          description  quantity  \\\n",
       "0     536365     85123A   WHITE HANGING HEART T-LIGHT HOLDER         6   \n",
       "1     536365      71053                  WHITE METAL LANTERN         6   \n",
       "2     536365     84406B       CREAM CUPID HEARTS COAT HANGER         8   \n",
       "3     536365     84029G  KNITTED UNION FLAG HOT WATER BOTTLE         6   \n",
       "4     536365     84029E       RED WOOLLY HOTTIE WHITE HEART.         6   \n",
       "\n",
       "  invoice_date  unit_price         country  customer_id  \n",
       "0   2016-11-29        2.55  United Kingdom        17850  \n",
       "1   2016-11-29        3.39  United Kingdom        17850  \n",
       "2   2016-11-29        2.75  United Kingdom        17850  \n",
       "3   2016-11-29        3.39  United Kingdom        17850  \n",
       "4   2016-11-29        3.39  United Kingdom        17850  "
      ]
     },
     "execution_count": 13,
     "metadata": {},
     "output_type": "execute_result"
    }
   ],
   "source": [
    "# invoice date\n",
    "df1['invoice_date'] = pd.to_datetime( df1['invoice_date'], format='%d-%b-%y' )\n",
    "\n",
    "# customer id\n",
    "df1['customer_id'] = df1['customer_id'].astype( int )\n",
    "df1.head()"
   ]
  },
  {
   "cell_type": "code",
   "execution_count": 14,
   "metadata": {
    "ExecuteTime": {
     "end_time": "2021-09-14T23:38:34.334365Z",
     "start_time": "2021-09-14T23:38:34.326260Z"
    }
   },
   "outputs": [
    {
     "data": {
      "text/plain": [
       "invoice_no              object\n",
       "stock_code              object\n",
       "description             object\n",
       "quantity                 int64\n",
       "invoice_date    datetime64[ns]\n",
       "unit_price             float64\n",
       "country                 object\n",
       "customer_id              int64\n",
       "dtype: object"
      ]
     },
     "execution_count": 14,
     "metadata": {},
     "output_type": "execute_result"
    }
   ],
   "source": [
    "df1.dtypes"
   ]
  },
  {
   "cell_type": "markdown",
   "metadata": {},
   "source": [
    "## 1.7. Descriptive Statistics"
   ]
  },
  {
   "cell_type": "code",
   "execution_count": 15,
   "metadata": {
    "ExecuteTime": {
     "end_time": "2021-09-14T23:38:34.402478Z",
     "start_time": "2021-09-14T23:38:34.343277Z"
    }
   },
   "outputs": [],
   "source": [
    "num_attributes = df1.select_dtypes( include=['int64', 'float64'] )\n",
    "cat_attributes = df1.select_dtypes( exclude=['int64', 'float64', 'datetime64[ns]'] )"
   ]
  },
  {
   "cell_type": "markdown",
   "metadata": {},
   "source": [
    "### 1.7.1. Numerical Attributs"
   ]
  },
  {
   "cell_type": "code",
   "execution_count": 67,
   "metadata": {
    "ExecuteTime": {
     "end_time": "2021-09-14T23:52:00.849112Z",
     "start_time": "2021-09-14T23:52:00.369660Z"
    }
   },
   "outputs": [
    {
     "data": {
      "text/html": [
       "<div>\n",
       "<style scoped>\n",
       "    .dataframe tbody tr th:only-of-type {\n",
       "        vertical-align: middle;\n",
       "    }\n",
       "\n",
       "    .dataframe tbody tr th {\n",
       "        vertical-align: top;\n",
       "    }\n",
       "\n",
       "    .dataframe thead th {\n",
       "        text-align: right;\n",
       "    }\n",
       "</style>\n",
       "<table border=\"1\" class=\"dataframe\">\n",
       "  <thead>\n",
       "    <tr style=\"text-align: right;\">\n",
       "      <th></th>\n",
       "      <th>attributes</th>\n",
       "      <th>min</th>\n",
       "      <th>max</th>\n",
       "      <th>range</th>\n",
       "      <th>mean</th>\n",
       "      <th>mediana</th>\n",
       "      <th>std</th>\n",
       "      <th>skew</th>\n",
       "      <th>kurtosis</th>\n",
       "    </tr>\n",
       "  </thead>\n",
       "  <tbody>\n",
       "    <tr>\n",
       "      <th>0</th>\n",
       "      <td>quantity</td>\n",
       "      <td>-80995.00</td>\n",
       "      <td>80995.0</td>\n",
       "      <td>161990.00</td>\n",
       "      <td>9.552250</td>\n",
       "      <td>3.00</td>\n",
       "      <td>218.080957</td>\n",
       "      <td>-0.264076</td>\n",
       "      <td>119769.160031</td>\n",
       "    </tr>\n",
       "    <tr>\n",
       "      <th>1</th>\n",
       "      <td>unit_price</td>\n",
       "      <td>-11062.06</td>\n",
       "      <td>38970.0</td>\n",
       "      <td>50032.06</td>\n",
       "      <td>4.611114</td>\n",
       "      <td>2.08</td>\n",
       "      <td>96.759764</td>\n",
       "      <td>186.506972</td>\n",
       "      <td>59005.719097</td>\n",
       "    </tr>\n",
       "    <tr>\n",
       "      <th>2</th>\n",
       "      <td>customer_id</td>\n",
       "      <td>12346.00</td>\n",
       "      <td>22709.0</td>\n",
       "      <td>10363.00</td>\n",
       "      <td>16688.840453</td>\n",
       "      <td>16249.00</td>\n",
       "      <td>2911.408666</td>\n",
       "      <td>0.487449</td>\n",
       "      <td>-0.804287</td>\n",
       "    </tr>\n",
       "  </tbody>\n",
       "</table>\n",
       "</div>"
      ],
      "text/plain": [
       "    attributes       min      max      range          mean   mediana  \\\n",
       "0     quantity -80995.00  80995.0  161990.00      9.552250      3.00   \n",
       "1   unit_price -11062.06  38970.0   50032.06      4.611114      2.08   \n",
       "2  customer_id  12346.00  22709.0   10363.00  16688.840453  16249.00   \n",
       "\n",
       "           std        skew       kurtosis  \n",
       "0   218.080957   -0.264076  119769.160031  \n",
       "1    96.759764  186.506972   59005.719097  \n",
       "2  2911.408666    0.487449      -0.804287  "
      ]
     },
     "execution_count": 67,
     "metadata": {},
     "output_type": "execute_result"
    }
   ],
   "source": [
    "# central tendency - mean, median\n",
    "ct1 = pd.DataFrame( num_attributes.apply( np.mean ) ).T\n",
    "ct2 = pd.DataFrame( num_attributes.apply( np.median ) ).T\n",
    "             \n",
    "# dispersion - desvio padrão, minimo, maximo, range, skew, kurtosis\n",
    "d1 = pd.DataFrame( num_attributes.apply( np.std ) ).T\n",
    "d2 = pd.DataFrame( num_attributes.apply( np.min ) ).T\n",
    "d3 = pd.DataFrame( num_attributes.apply( np.max ) ).T\n",
    "d4 = pd.DataFrame( num_attributes.apply( lambda x: x.max() - x.min() ) ).T\n",
    "d5 = pd.DataFrame( num_attributes.apply( lambda x: x.skew() ) ).T\n",
    "d6 = pd.DataFrame( num_attributes.apply( lambda x: x.kurtosis() ) ).T\n",
    "\n",
    "# concatenate\n",
    "m1 = pd.concat( [d2, d3, d4, ct1, ct2, d1, d5, d6] ).T.reset_index()\n",
    "m1.columns = ['attributes', 'min', 'max', 'range', 'mean', 'mediana', 'std', 'skew', 'kurtosis']\n",
    "m1"
   ]
  },
  {
   "cell_type": "markdown",
   "metadata": {},
   "source": [
    "### 1.7.2. Categorical Attributs"
   ]
  },
  {
   "cell_type": "markdown",
   "metadata": {},
   "source": [
    "#### Invoice No"
   ]
  },
  {
   "cell_type": "code",
   "execution_count": 19,
   "metadata": {
    "ExecuteTime": {
     "end_time": "2021-09-14T23:38:59.875795Z",
     "start_time": "2021-09-14T23:38:57.872578Z"
    }
   },
   "outputs": [
    {
     "name": "stdout",
     "output_type": "stream",
     "text": [
      "Total number of invoices: 9291\n",
      "Total number of negative quantity: 9288\n"
     ]
    }
   ],
   "source": [
    "# problema: Temos invoice com letras e numeros\n",
    "#df1['invoice_no'].astype( int )\n",
    "\n",
    "# identficacao: \n",
    "df_letter_invoices = df1.loc[df1['invoice_no'].apply( lambda x: bool( re.search( '[^0-9]+', x ) ) ), :]\n",
    "df_letter_invoices.head()\n",
    "\n",
    "print( 'Total number of invoices: {}'.format( len( df_letter_invoices ) ) )\n",
    "print( 'Total number of negative quantity: {}'.format( len( df_letter_invoices[ df_letter_invoices['quantity'] < 0 ] ) ) )"
   ]
  },
  {
   "cell_type": "markdown",
   "metadata": {},
   "source": [
    "#### Stock Code"
   ]
  },
  {
   "cell_type": "code",
   "execution_count": 20,
   "metadata": {
    "ExecuteTime": {
     "end_time": "2021-09-14T23:39:02.477039Z",
     "start_time": "2021-09-14T23:39:00.505700Z"
    }
   },
   "outputs": [
    {
     "data": {
      "text/plain": [
       "array(['POST', 'D', 'DOT', 'M', 'S', 'AMAZONFEE', 'm', 'DCGSSBOY',\n",
       "       'DCGSSGIRL', 'PADS', 'B', 'CRUK'], dtype=object)"
      ]
     },
     "execution_count": 20,
     "metadata": {},
     "output_type": "execute_result"
    }
   ],
   "source": [
    "# check stock codes only characters\n",
    "df1.loc[df1['stock_code'].apply( lambda x: bool( re.search( '^[a-zA-Z]+$', x ) ) ), 'stock_code'].unique()\n",
    "\n",
    "# Acão:\n",
    "## 1. Remove stock_code in ['POST', 'D', 'M', 'PADS', 'DOT', 'CRUK']"
   ]
  },
  {
   "cell_type": "markdown",
   "metadata": {},
   "source": [
    "# <font color='red'> 2.0. Filtragem de Variáveis </font>"
   ]
  },
  {
   "cell_type": "code",
   "execution_count": 21,
   "metadata": {
    "ExecuteTime": {
     "end_time": "2021-09-14T23:39:02.606423Z",
     "start_time": "2021-09-14T23:39:02.563210Z"
    }
   },
   "outputs": [],
   "source": [
    "df2 = df1.copy()"
   ]
  },
  {
   "cell_type": "code",
   "execution_count": 22,
   "metadata": {
    "ExecuteTime": {
     "end_time": "2021-09-14T23:39:03.014328Z",
     "start_time": "2021-09-14T23:39:02.998841Z"
    }
   },
   "outputs": [
    {
     "data": {
      "text/plain": [
       "invoice_no              object\n",
       "stock_code              object\n",
       "description             object\n",
       "quantity                 int64\n",
       "invoice_date    datetime64[ns]\n",
       "unit_price             float64\n",
       "country                 object\n",
       "customer_id              int64\n",
       "dtype: object"
      ]
     },
     "execution_count": 22,
     "metadata": {},
     "output_type": "execute_result"
    }
   ],
   "source": [
    "df2.dtypes"
   ]
  },
  {
   "cell_type": "code",
   "execution_count": 23,
   "metadata": {
    "ExecuteTime": {
     "end_time": "2021-09-14T23:39:04.824481Z",
     "start_time": "2021-09-14T23:39:04.267409Z"
    }
   },
   "outputs": [],
   "source": [
    "# === Numerical attributes ====\n",
    "df2 = df2.loc[df2['unit_price'] >= 0.04, :]\n",
    "\n",
    "# === Categorical attributes ====\n",
    "df2 = df2[~df2['stock_code'].isin( ['POST', 'D', 'DOT', 'M', 'S', 'AMAZONFEE', 'm', 'DCGSSBOY', 'DCGSSGIRL', 'PADS', 'B', 'CRUK'] ) ]\n",
    "\n",
    "# description\n",
    "df2 = df2.drop( columns='description', axis=1 )\n",
    "\n",
    "# map -  \n",
    "df2 = df2[~df2['country'].isin( ['European Community', 'Unspecified' ] ) ]\n",
    "\n",
    "# bad users\n",
    "df2 = df2[~df2['customer_id'].isin( [16446] )]\n",
    "\n",
    "# quantity\n",
    "df2_returns = df2.loc[df1['quantity'] < 0, :]\n",
    "df2_purchases = df2.loc[df1['quantity'] >= 0, :]"
   ]
  },
  {
   "cell_type": "markdown",
   "metadata": {},
   "source": [
    "# <font color='red'> 3.0. Feature Engineering </font>"
   ]
  },
  {
   "cell_type": "code",
   "execution_count": 24,
   "metadata": {
    "ExecuteTime": {
     "end_time": "2021-09-14T23:39:09.954705Z",
     "start_time": "2021-09-14T23:39:09.911937Z"
    }
   },
   "outputs": [],
   "source": [
    "df3 = df2.copy()"
   ]
  },
  {
   "cell_type": "markdown",
   "metadata": {},
   "source": [
    "## 3.1. Feature Creation"
   ]
  },
  {
   "cell_type": "code",
   "execution_count": 40,
   "metadata": {
    "ExecuteTime": {
     "end_time": "2021-09-14T23:41:51.533963Z",
     "start_time": "2021-09-14T23:41:51.473077Z"
    }
   },
   "outputs": [],
   "source": [
    "# data reference\n",
    "df_ref = df3.drop( ['invoice_no', 'stock_code', 'quantity', 'invoice_date', 'unit_price', 'country'], axis=1 ).drop_duplicates( ignore_index=True )"
   ]
  },
  {
   "cell_type": "code",
   "execution_count": 41,
   "metadata": {
    "ExecuteTime": {
     "end_time": "2021-09-14T23:41:51.830811Z",
     "start_time": "2021-09-14T23:41:51.826243Z"
    }
   },
   "outputs": [
    {
     "data": {
      "text/plain": [
       "(5786, 1)"
      ]
     },
     "execution_count": 41,
     "metadata": {},
     "output_type": "execute_result"
    }
   ],
   "source": [
    "df_ref.shape"
   ]
  },
  {
   "cell_type": "code",
   "execution_count": 42,
   "metadata": {
    "ExecuteTime": {
     "end_time": "2021-09-14T23:41:52.366872Z",
     "start_time": "2021-09-14T23:41:52.348446Z"
    }
   },
   "outputs": [
    {
     "data": {
      "text/plain": [
       "customer_id    0\n",
       "dtype: int64"
      ]
     },
     "execution_count": 42,
     "metadata": {},
     "output_type": "execute_result"
    }
   ],
   "source": [
    "df_ref.isna().sum()"
   ]
  },
  {
   "cell_type": "markdown",
   "metadata": {},
   "source": [
    "### 3.1.1. Gross Revenue"
   ]
  },
  {
   "cell_type": "code",
   "execution_count": 43,
   "metadata": {
    "ExecuteTime": {
     "end_time": "2021-09-14T23:41:54.324201Z",
     "start_time": "2021-09-14T23:41:54.234659Z"
    }
   },
   "outputs": [
    {
     "name": "stderr",
     "output_type": "stream",
     "text": [
      "/Users/meigarom.lopes/.pyenv/versions/3.8.0/envs/pa005insidersclustering/lib/python3.8/site-packages/pandas/core/indexing.py:1676: SettingWithCopyWarning: \n",
      "A value is trying to be set on a copy of a slice from a DataFrame.\n",
      "Try using .loc[row_indexer,col_indexer] = value instead\n",
      "\n",
      "See the caveats in the documentation: https://pandas.pydata.org/pandas-docs/stable/user_guide/indexing.html#returning-a-view-versus-a-copy\n",
      "  self._setitem_single_column(ilocs[0], value, pi)\n"
     ]
    },
    {
     "data": {
      "text/plain": [
       "customer_id       0\n",
       "gross_revenue    91\n",
       "dtype: int64"
      ]
     },
     "execution_count": 43,
     "metadata": {},
     "output_type": "execute_result"
    }
   ],
   "source": [
    "# Gross Revenue ( Faturamento ) quantity * price\n",
    "df2_purchases.loc[:, 'gross_revenue'] = df2_purchases.loc[:, 'quantity'] * df2_purchases.loc[:, 'unit_price']\n",
    "\n",
    "# Monetary\n",
    "df_monetary = df2_purchases.loc[:, ['customer_id', 'gross_revenue']].groupby( 'customer_id' ).sum().reset_index()\n",
    "df_ref = pd.merge( df_ref, df_monetary, on='customer_id', how='left' )\n",
    "df_ref.isna().sum()"
   ]
  },
  {
   "cell_type": "markdown",
   "metadata": {},
   "source": [
    "### 3.1.2. Recency - Day from last purchase"
   ]
  },
  {
   "cell_type": "code",
   "execution_count": 44,
   "metadata": {
    "ExecuteTime": {
     "end_time": "2021-09-14T23:41:54.928214Z",
     "start_time": "2021-09-14T23:41:54.831394Z"
    }
   },
   "outputs": [
    {
     "data": {
      "text/plain": [
       "customer_id       0\n",
       "gross_revenue    91\n",
       "recency_days     91\n",
       "dtype: int64"
      ]
     },
     "execution_count": 44,
     "metadata": {},
     "output_type": "execute_result"
    }
   ],
   "source": [
    "# Recency - Last day purchase\n",
    "df_recency = df2_purchases.loc[:, ['customer_id', 'invoice_date']].groupby( 'customer_id' ).max().reset_index()\n",
    "df_recency['recency_days'] = ( df2['invoice_date'].max() - df_recency['invoice_date'] ).dt.days\n",
    "df_recency = df_recency[['customer_id', 'recency_days']].copy()\n",
    "df_ref = pd.merge( df_ref, df_recency, on='customer_id', how='left' )\n",
    "df_ref.isna().sum()"
   ]
  },
  {
   "cell_type": "markdown",
   "metadata": {},
   "source": [
    "### 3.1.5. Quantity of products purchased "
   ]
  },
  {
   "cell_type": "code",
   "execution_count": 45,
   "metadata": {
    "ExecuteTime": {
     "end_time": "2021-09-14T23:41:56.911690Z",
     "start_time": "2021-09-14T23:41:56.777879Z"
    }
   },
   "outputs": [
    {
     "data": {
      "text/plain": [
       "customer_id       0\n",
       "gross_revenue    91\n",
       "recency_days     91\n",
       "qtde_products    91\n",
       "dtype: int64"
      ]
     },
     "execution_count": 45,
     "metadata": {},
     "output_type": "execute_result"
    }
   ],
   "source": [
    "# Numero de produtos\n",
    "df_freq = (df2_purchases.loc[:, ['customer_id', 'stock_code']].groupby( 'customer_id' ).count()\n",
    "                                                           .reset_index()\n",
    "                                                           .rename( columns={'stock_code': 'qtde_products'} ) )\n",
    "df_ref = pd.merge( df_ref, df_freq, on='customer_id', how='left' )\n",
    "df_ref.isna().sum()"
   ]
  },
  {
   "cell_type": "markdown",
   "metadata": {},
   "source": [
    "### 3.1.8. Frequency Purchase "
   ]
  },
  {
   "cell_type": "code",
   "execution_count": 46,
   "metadata": {
    "ExecuteTime": {
     "end_time": "2021-09-14T23:42:02.227672Z",
     "start_time": "2021-09-14T23:41:58.129922Z"
    }
   },
   "outputs": [
    {
     "data": {
      "text/plain": [
       "customer_id       0\n",
       "gross_revenue    91\n",
       "recency_days     91\n",
       "qtde_products    91\n",
       "frequency        91\n",
       "dtype: int64"
      ]
     },
     "execution_count": 46,
     "metadata": {},
     "output_type": "execute_result"
    }
   ],
   "source": [
    "df_aux = ( df2_purchases[['customer_id', 'invoice_no', 'invoice_date']].drop_duplicates()\n",
    "                                                             .groupby( 'customer_id')\n",
    "                                                             .agg( max_ = ( 'invoice_date', 'max' ), \n",
    "                                                                   min_ = ( 'invoice_date', 'min' ),\n",
    "                                                                   days_= ( 'invoice_date', lambda x: ( ( x.max() - x.min() ).days ) + 1 ),\n",
    "                                                                   buy_ = ( 'invoice_no', 'count' ) ) ).reset_index()\n",
    "# Frequency\n",
    "df_aux['frequency'] = df_aux[['buy_', 'days_']].apply( lambda x: x['buy_'] / x['days_'] if  x['days_'] != 0 else 0, axis=1 )\n",
    "\n",
    "# Merge\n",
    "df_ref = pd.merge( df_ref, df_aux[['customer_id', 'frequency']], on='customer_id', how='left' )\n",
    "\n",
    "df_ref.isna().sum()"
   ]
  },
  {
   "cell_type": "markdown",
   "metadata": {},
   "source": [
    "### 3.1.9. Number of Returns "
   ]
  },
  {
   "cell_type": "code",
   "execution_count": 47,
   "metadata": {
    "ExecuteTime": {
     "end_time": "2021-09-14T23:42:02.313581Z",
     "start_time": "2021-09-14T23:42:02.233384Z"
    }
   },
   "outputs": [
    {
     "data": {
      "text/plain": [
       "customer_id       0\n",
       "gross_revenue    91\n",
       "recency_days     91\n",
       "qtde_products    91\n",
       "frequency        91\n",
       "qtde_returns      0\n",
       "dtype: int64"
      ]
     },
     "execution_count": 47,
     "metadata": {},
     "output_type": "execute_result"
    }
   ],
   "source": [
    "# Number of Returns\n",
    "df_returns = df2_returns[['customer_id', 'quantity']].groupby( 'customer_id' ).sum().reset_index().rename( columns={'quantity':'qtde_returns'} )\n",
    "df_returns['qtde_returns'] = df_returns['qtde_returns'] * -1\n",
    "\n",
    "df_ref = pd.merge( df_ref, df_returns, how='left', on='customer_id' )\n",
    "df_ref.loc[df_ref['qtde_returns'].isna(), 'qtde_returns'] = 0\n",
    "\n",
    "df_ref.isna().sum()"
   ]
  },
  {
   "cell_type": "markdown",
   "metadata": {},
   "source": [
    "# <font color='red'> 4.0. EDA ( Exploratory Data Analysis ) </font>"
   ]
  },
  {
   "cell_type": "code",
   "execution_count": 48,
   "metadata": {
    "ExecuteTime": {
     "end_time": "2021-09-14T23:42:33.696456Z",
     "start_time": "2021-09-14T23:42:33.678430Z"
    }
   },
   "outputs": [
    {
     "data": {
      "text/plain": [
       "customer_id      0\n",
       "gross_revenue    0\n",
       "recency_days     0\n",
       "qtde_products    0\n",
       "frequency        0\n",
       "qtde_returns     0\n",
       "dtype: int64"
      ]
     },
     "execution_count": 48,
     "metadata": {},
     "output_type": "execute_result"
    }
   ],
   "source": [
    "df4 = df_ref.dropna()\n",
    "df4.isna().sum()"
   ]
  },
  {
   "cell_type": "markdown",
   "metadata": {},
   "source": [
    "## 4.3. Estudo do Espaço"
   ]
  },
  {
   "cell_type": "code",
   "execution_count": 50,
   "metadata": {
    "ExecuteTime": {
     "end_time": "2021-09-14T23:43:50.129178Z",
     "start_time": "2021-09-14T23:43:50.121864Z"
    }
   },
   "outputs": [],
   "source": [
    "# selected dataset\n",
    "cols_selected = ['customer_id', 'gross_revenue', 'recency_days', 'qtde_products', 'frequency', 'qtde_returns']\n",
    "df43 = df4[ cols_selected ].drop( columns='customer_id', axis=1 )"
   ]
  },
  {
   "cell_type": "code",
   "execution_count": 52,
   "metadata": {
    "ExecuteTime": {
     "end_time": "2021-09-14T23:44:21.224175Z",
     "start_time": "2021-09-14T23:44:21.173202Z"
    }
   },
   "outputs": [],
   "source": [
    "mm = pp.MinMaxScaler()\n",
    "\n",
    "df43['gross_revenue'] = mm.fit_transform( df43[['gross_revenue']] )\n",
    "df43['recency_days']  = mm.fit_transform( df43[['recency_days']] )\n",
    "df43['qtde_products'] = mm.fit_transform( df43[['qtde_products']])\n",
    "df43['frequency']     = mm.fit_transform( df43[['frequency']])\n",
    "df43['qtde_returns']  = mm.fit_transform( df43[['qtde_returns']])\n",
    "\n",
    "X = df43.copy()"
   ]
  },
  {
   "cell_type": "code",
   "execution_count": 54,
   "metadata": {
    "ExecuteTime": {
     "end_time": "2021-09-14T23:44:38.114956Z",
     "start_time": "2021-09-14T23:44:38.101576Z"
    }
   },
   "outputs": [
    {
     "data": {
      "text/plain": [
       "(5695, 5)"
      ]
     },
     "execution_count": 54,
     "metadata": {},
     "output_type": "execute_result"
    }
   ],
   "source": [
    "X.shape"
   ]
  },
  {
   "cell_type": "markdown",
   "metadata": {},
   "source": [
    "### 4.3.1. PCA"
   ]
  },
  {
   "cell_type": "code",
   "execution_count": 55,
   "metadata": {
    "ExecuteTime": {
     "end_time": "2021-09-14T23:44:40.710081Z",
     "start_time": "2021-09-14T23:44:40.354524Z"
    }
   },
   "outputs": [
    {
     "data": {
      "image/png": "[encoded data removed]",
      "text/plain": [
       "<Figure size 432x288 with 1 Axes>"
      ]
     },
     "metadata": {
      "needs_background": "light"
     },
     "output_type": "display_data"
    }
   ],
   "source": [
    "pca = dd.PCA( n_components=X.shape[1] )\n",
    "\n",
    "principal_components = pca.fit_transform( X )\n",
    "\n",
    "# plot explained variable\n",
    "features = range( pca.n_components_ )\n",
    "\n",
    "plt.bar( features, pca.explained_variance_ratio_, color='black' )\n",
    "\n",
    "# pca component\n",
    "df_pca = pd.DataFrame( principal_components )"
   ]
  },
  {
   "cell_type": "code",
   "execution_count": 56,
   "metadata": {
    "ExecuteTime": {
     "end_time": "2021-09-14T23:44:46.203615Z",
     "start_time": "2021-09-14T23:44:45.812401Z"
    }
   },
   "outputs": [
    {
     "data": {
      "text/plain": [
       "<AxesSubplot:xlabel='0', ylabel='1'>"
      ]
     },
     "execution_count": 56,
     "metadata": {},
     "output_type": "execute_result"
    },
    {
     "data": {
      "image/png": "[encoded data removed]",
      "text/plain": [
       "<Figure size 432x288 with 1 Axes>"
      ]
     },
     "metadata": {
      "needs_background": "light"
     },
     "output_type": "display_data"
    }
   ],
   "source": [
    "sns.scatterplot( x=0, y=1, data=df_pca )"
   ]
  },
  {
   "cell_type": "markdown",
   "metadata": {},
   "source": [
    "### 4.3.2. UMAP"
   ]
  },
  {
   "cell_type": "code",
   "execution_count": 57,
   "metadata": {
    "ExecuteTime": {
     "end_time": "2021-09-14T23:46:16.339325Z",
     "start_time": "2021-09-14T23:45:11.233289Z"
    }
   },
   "outputs": [
    {
     "data": {
      "text/plain": [
       "<AxesSubplot:xlabel='embedding_x', ylabel='embedding_y'>"
      ]
     },
     "execution_count": 57,
     "metadata": {},
     "output_type": "execute_result"
    },
    {
     "data": {
      "image/png": "[encoded data removed]",
      "text/plain": [
       "<Figure size 432x288 with 1 Axes>"
      ]
     },
     "metadata": {
      "needs_background": "light"
     },
     "output_type": "display_data"
    }
   ],
   "source": [
    "reducer = umap.UMAP( random_state=42 )\n",
    "embedding = reducer.fit_transform( X )\n",
    "\n",
    "# embedding\n",
    "df_umap = pd.DataFrame()\n",
    "df_umap['embedding_x'] = embedding[:, 0]\n",
    "df_umap['embedding_y'] = embedding[:, 1]\n",
    "\n",
    "# plot UMAP\n",
    "sns.scatterplot( x='embedding_x', \n",
    "                 y='embedding_y', \n",
    "                 data=df_umap )"
   ]
  },
  {
   "cell_type": "markdown",
   "metadata": {},
   "source": [
    "### 4.3.3. t-SNE"
   ]
  },
  {
   "cell_type": "code",
   "execution_count": 59,
   "metadata": {
    "ExecuteTime": {
     "end_time": "2021-09-14T23:48:31.891507Z",
     "start_time": "2021-09-14T23:47:31.637085Z"
    }
   },
   "outputs": [
    {
     "data": {
      "text/plain": [
       "<AxesSubplot:xlabel='embedding_x', ylabel='embedding_y'>"
      ]
     },
     "execution_count": 59,
     "metadata": {},
     "output_type": "execute_result"
    },
    {
     "data": {
      "image/png": "[encoded data removed]",
      "text/plain": [
       "<Figure size 432x288 with 1 Axes>"
      ]
     },
     "metadata": {
      "needs_background": "light"
     },
     "output_type": "display_data"
    }
   ],
   "source": [
    "reducer = mn.TSNE( n_components=2, n_jobs=-1, random_state=42 )\n",
    "embedding = reducer.fit_transform( X )\n",
    "\n",
    "# embedding\n",
    "df_tsne = pd.DataFrame()\n",
    "df_tsne['embedding_x'] = embedding[:, 0]\n",
    "df_tsne['embedding_y'] = embedding[:, 1]\n",
    "\n",
    "# plot UMAP\n",
    "sns.scatterplot( x='embedding_x', \n",
    "                 y='embedding_y', \n",
    "                 data=df_tsne )"
   ]
  },
  {
   "cell_type": "markdown",
   "metadata": {},
   "source": [
    "### 4.3.4. Tree-Based Embedding"
   ]
  },
  {
   "cell_type": "code",
   "execution_count": null,
   "metadata": {},
   "outputs": [],
   "source": [
    "#model = load_picke( 'rf_model.pkl' )\n",
    "#\n",
    "#X1 # 20 new users\n",
    "#\n",
    "#df_leaf = model.apply( X1 )\n",
    "#\n",
    "#KMeans ->"
   ]
  },
  {
   "cell_type": "code",
   "execution_count": 60,
   "metadata": {
    "ExecuteTime": {
     "end_time": "2021-09-14T23:48:35.453525Z",
     "start_time": "2021-09-14T23:48:31.905368Z"
    }
   },
   "outputs": [],
   "source": [
    "# training dataset\n",
    "X = df43.drop( columns=['gross_revenue'], axis=1 )\n",
    "y = df43['gross_revenue']\n",
    "\n",
    "# model definition\n",
    "rf_model = en.RandomForestRegressor( n_estimators=100, random_state=42 )\n",
    "\n",
    "# model training\n",
    "rf_model.fit( X, y )\n",
    "\n",
    "# Leaf \n",
    "df_leaf = pd.DataFrame( rf_model.apply( X ) )"
   ]
  },
  {
   "cell_type": "code",
   "execution_count": 61,
   "metadata": {
    "ExecuteTime": {
     "end_time": "2021-09-14T23:49:00.797747Z",
     "start_time": "2021-09-14T23:48:35.475144Z"
    }
   },
   "outputs": [
    {
     "name": "stderr",
     "output_type": "stream",
     "text": [
      "/Users/meigarom.lopes/.pyenv/versions/3.8.0/envs/pa005insidersclustering/lib/python3.8/site-packages/sklearn/manifold/_spectral_embedding.py:245: UserWarning: Graph is not fully connected, spectral embedding may not work as expected.\n",
      "  warnings.warn(\"Graph is not fully connected, spectral embedding\"\n"
     ]
    },
    {
     "data": {
      "text/plain": [
       "<AxesSubplot:xlabel='embedding_x', ylabel='embedding_y'>"
      ]
     },
     "execution_count": 61,
     "metadata": {},
     "output_type": "execute_result"
    },
    {
     "data": {
      "image/png": "[encoded data removed]",
      "text/plain": [
       "<Figure size 432x288 with 1 Axes>"
      ]
     },
     "metadata": {
      "needs_background": "light"
     },
     "output_type": "display_data"
    }
   ],
   "source": [
    "# Reduzer dimensionality\n",
    "reducer = umap.UMAP( random_state=42 )\n",
    "embedding = reducer.fit_transform( df_leaf )\n",
    "\n",
    "# embedding\n",
    "df_tree = pd.DataFrame()\n",
    "df_tree['embedding_x'] = embedding[:, 0]\n",
    "df_tree['embedding_y'] = embedding[:, 1]\n",
    "\n",
    "# plot UMAP\n",
    "sns.scatterplot( x='embedding_x', \n",
    "                 y='embedding_y', \n",
    "                 data=df_tree )"
   ]
  },
  {
   "cell_type": "markdown",
   "metadata": {},
   "source": [
    "# <font color='red'> 5.0. Data Preparation </font>"
   ]
  },
  {
   "cell_type": "code",
   "execution_count": 113,
   "metadata": {
    "ExecuteTime": {
     "end_time": "2021-09-15T00:30:06.193237Z",
     "start_time": "2021-09-15T00:30:06.122370Z"
    }
   },
   "outputs": [],
   "source": [
    "# Tree-Based Embedding\n",
    "df5 = df_tree.copy()\n",
    "\n",
    "# UMAP Embedding\n",
    "#df5 = df_umap.copy()\n",
    "\n",
    "# TSNE Embedding\n",
    "#df5 = df_tsne.copy()"
   ]
  },
  {
   "cell_type": "markdown",
   "metadata": {},
   "source": [
    "# <font color='red'> 7.0. Hyperparameter Fine-Tunning </font>"
   ]
  },
  {
   "cell_type": "code",
   "execution_count": 98,
   "metadata": {
    "ExecuteTime": {
     "end_time": "2021-09-15T00:11:56.575498Z",
     "start_time": "2021-09-15T00:11:56.567389Z"
    }
   },
   "outputs": [],
   "source": [
    "X = df5.copy()"
   ]
  },
  {
   "cell_type": "code",
   "execution_count": 99,
   "metadata": {
    "ExecuteTime": {
     "end_time": "2021-09-15T00:11:56.745669Z",
     "start_time": "2021-09-15T00:11:56.724116Z"
    }
   },
   "outputs": [
    {
     "data": {
      "text/html": [
       "<div>\n",
       "<style scoped>\n",
       "    .dataframe tbody tr th:only-of-type {\n",
       "        vertical-align: middle;\n",
       "    }\n",
       "\n",
       "    .dataframe tbody tr th {\n",
       "        vertical-align: top;\n",
       "    }\n",
       "\n",
       "    .dataframe thead th {\n",
       "        text-align: right;\n",
       "    }\n",
       "</style>\n",
       "<table border=\"1\" class=\"dataframe\">\n",
       "  <thead>\n",
       "    <tr style=\"text-align: right;\">\n",
       "      <th></th>\n",
       "      <th>embedding_x</th>\n",
       "      <th>embedding_y</th>\n",
       "    </tr>\n",
       "  </thead>\n",
       "  <tbody>\n",
       "    <tr>\n",
       "      <th>0</th>\n",
       "      <td>85.918800</td>\n",
       "      <td>0.608064</td>\n",
       "    </tr>\n",
       "    <tr>\n",
       "      <th>1</th>\n",
       "      <td>17.627523</td>\n",
       "      <td>-14.321408</td>\n",
       "    </tr>\n",
       "    <tr>\n",
       "      <th>2</th>\n",
       "      <td>-23.264635</td>\n",
       "      <td>11.990655</td>\n",
       "    </tr>\n",
       "    <tr>\n",
       "      <th>3</th>\n",
       "      <td>57.321079</td>\n",
       "      <td>-25.540344</td>\n",
       "    </tr>\n",
       "    <tr>\n",
       "      <th>4</th>\n",
       "      <td>41.654823</td>\n",
       "      <td>-46.860424</td>\n",
       "    </tr>\n",
       "  </tbody>\n",
       "</table>\n",
       "</div>"
      ],
      "text/plain": [
       "   embedding_x  embedding_y\n",
       "0    85.918800     0.608064\n",
       "1    17.627523   -14.321408\n",
       "2   -23.264635    11.990655\n",
       "3    57.321079   -25.540344\n",
       "4    41.654823   -46.860424"
      ]
     },
     "execution_count": 99,
     "metadata": {},
     "output_type": "execute_result"
    }
   ],
   "source": [
    "X.head()"
   ]
  },
  {
   "cell_type": "code",
   "execution_count": 100,
   "metadata": {
    "ExecuteTime": {
     "end_time": "2021-09-15T00:11:56.927758Z",
     "start_time": "2021-09-15T00:11:56.920223Z"
    }
   },
   "outputs": [
    {
     "data": {
      "text/plain": [
       "array([ 2,  3,  4,  5,  6,  7,  8,  9, 10, 11, 12, 13, 14, 15, 16, 17, 18,\n",
       "       19, 20, 21, 22, 23, 24])"
      ]
     },
     "execution_count": 100,
     "metadata": {},
     "output_type": "execute_result"
    }
   ],
   "source": [
    "#clusters = [2, 3, 4, 5, 6, 7, 8, 9]\n",
    "clusters = np.arange( 2, 25, 1)\n",
    "clusters"
   ]
  },
  {
   "cell_type": "markdown",
   "metadata": {},
   "source": [
    "## 7.1. K-Means"
   ]
  },
  {
   "cell_type": "code",
   "execution_count": 101,
   "metadata": {
    "ExecuteTime": {
     "end_time": "2021-09-15T00:15:33.548662Z",
     "start_time": "2021-09-15T00:11:57.210591Z"
    }
   },
   "outputs": [],
   "source": [
    "kmeans_list = []\n",
    "for k in clusters:\n",
    "    # model definition\n",
    "    kmeans_model = c.KMeans( n_clusters=k, n_init=100, random_state=42 )\n",
    "\n",
    "    # model training\n",
    "    kmeans_model.fit( X )\n",
    "\n",
    "    # model predict\n",
    "    labels = kmeans_model.predict( X )\n",
    "\n",
    "    # model performance\n",
    "    sil = m.silhouette_score( X, labels, metric='euclidean' )\n",
    "    kmeans_list.append( sil )"
   ]
  },
  {
   "cell_type": "code",
   "execution_count": 102,
   "metadata": {
    "ExecuteTime": {
     "end_time": "2021-09-15T00:15:34.091920Z",
     "start_time": "2021-09-15T00:15:33.559193Z"
    }
   },
   "outputs": [
    {
     "data": {
      "image/png": "[encoded data removed]",
      "text/plain": [
       "<Figure size 432x288 with 1 Axes>"
      ]
     },
     "metadata": {
      "needs_background": "light"
     },
     "output_type": "display_data"
    }
   ],
   "source": [
    "plt.plot( clusters, kmeans_list, linestyle='--', marker='o', color='b' )\n",
    "plt.xlabel( 'K' );\n",
    "plt.ylabel( 'Silhouette Score' );\n",
    "plt.title( 'Silhouette Score x K' );"
   ]
  },
  {
   "cell_type": "markdown",
   "metadata": {},
   "source": [
    "## 7.2. GMM"
   ]
  },
  {
   "cell_type": "code",
   "execution_count": 103,
   "metadata": {
    "ExecuteTime": {
     "end_time": "2021-09-15T00:18:07.269999Z",
     "start_time": "2021-09-15T00:15:34.101375Z"
    }
   },
   "outputs": [],
   "source": [
    "gmm_list = []\n",
    "for k in clusters:\n",
    "    # model definition\n",
    "    gmm_model = mx.GaussianMixture( n_components=k, n_init=10, random_state=42 )\n",
    "\n",
    "    # model training\n",
    "    gmm_model.fit( X )\n",
    "\n",
    "    # model predict\n",
    "    labels = gmm_model.predict( X )\n",
    "\n",
    "    # model performance\n",
    "    sil = m.silhouette_score( X, labels, metric='euclidean' )\n",
    "    gmm_list.append( sil )"
   ]
  },
  {
   "cell_type": "code",
   "execution_count": 104,
   "metadata": {
    "ExecuteTime": {
     "end_time": "2021-09-15T00:18:07.697602Z",
     "start_time": "2021-09-15T00:18:07.274947Z"
    }
   },
   "outputs": [
    {
     "data": {
      "image/png": "[encoded data removed]",
      "text/plain": [
       "<Figure size 432x288 with 1 Axes>"
      ]
     },
     "metadata": {
      "needs_background": "light"
     },
     "output_type": "display_data"
    }
   ],
   "source": [
    "plt.plot( clusters, gmm_list, linestyle='--', marker='o', color='b' )\n",
    "plt.xlabel( 'k');\n",
    "plt.ylabel( 'Silhouette Score');\n",
    "plt.title( 'Sil x K');"
   ]
  },
  {
   "cell_type": "markdown",
   "metadata": {},
   "source": [
    "## 7.3. Hierarchical Clustering"
   ]
  },
  {
   "cell_type": "code",
   "execution_count": 105,
   "metadata": {
    "ExecuteTime": {
     "end_time": "2021-09-15T00:18:09.505993Z",
     "start_time": "2021-09-15T00:18:07.702695Z"
    }
   },
   "outputs": [],
   "source": [
    "# model definition and training\n",
    "hc_model = hc.linkage( X, 'ward' )"
   ]
  },
  {
   "cell_type": "markdown",
   "metadata": {},
   "source": [
    "### 7.3.1. HClustering Silhouette Score"
   ]
  },
  {
   "cell_type": "code",
   "execution_count": 106,
   "metadata": {
    "ExecuteTime": {
     "end_time": "2021-09-15T00:19:15.247420Z",
     "start_time": "2021-09-15T00:18:09.520162Z"
    }
   },
   "outputs": [],
   "source": [
    "hc_list = []\n",
    "for k in clusters:\n",
    "    # model definition & training\n",
    "    hc_model = hc.linkage( X, 'ward' )\n",
    "\n",
    "    # model predict\n",
    "    labels = hc.fcluster( hc_model, k, criterion='maxclust' )\n",
    "\n",
    "    # metrics\n",
    "    sil = m.silhouette_score( X, labels, metric='euclidean' )\n",
    "    hc_list.append( sil )"
   ]
  },
  {
   "cell_type": "code",
   "execution_count": 107,
   "metadata": {
    "ExecuteTime": {
     "end_time": "2021-09-15T00:19:15.776428Z",
     "start_time": "2021-09-15T00:19:15.252332Z"
    }
   },
   "outputs": [
    {
     "data": {
      "text/plain": [
       "[<matplotlib.lines.Line2D at 0x15f306be0>]"
      ]
     },
     "execution_count": 107,
     "metadata": {},
     "output_type": "execute_result"
    },
    {
     "data": {
      "image/png": "[encoded data removed]",
      "text/plain": [
       "<Figure size 432x288 with 1 Axes>"
      ]
     },
     "metadata": {
      "needs_background": "light"
     },
     "output_type": "display_data"
    }
   ],
   "source": [
    "plt.plot( clusters,  hc_list, linestyle='--', marker='o', color='b' )"
   ]
  },
  {
   "cell_type": "code",
   "execution_count": 77,
   "metadata": {
    "ExecuteTime": {
     "end_time": "2021-09-14T23:58:52.153423Z",
     "start_time": "2021-09-14T23:58:51.953768Z"
    },
    "cell_style": "split"
   },
   "outputs": [
    {
     "data": {
      "text/html": [
       "<style  type=\"text/css\" >\n",
       "#T_51ed1_row0_col21,#T_51ed1_row1_col22,#T_51ed1_row2_col22{\n",
       "            background-color:  lightgreen;\n",
       "        }</style><table id=\"T_51ed1_\" ><thead>    <tr>        <th class=\"blank level0\" ></th>        <th class=\"col_heading level0 col0\" >2</th>        <th class=\"col_heading level0 col1\" >3</th>        <th class=\"col_heading level0 col2\" >4</th>        <th class=\"col_heading level0 col3\" >5</th>        <th class=\"col_heading level0 col4\" >6</th>        <th class=\"col_heading level0 col5\" >7</th>        <th class=\"col_heading level0 col6\" >8</th>        <th class=\"col_heading level0 col7\" >9</th>        <th class=\"col_heading level0 col8\" >10</th>        <th class=\"col_heading level0 col9\" >11</th>        <th class=\"col_heading level0 col10\" >12</th>        <th class=\"col_heading level0 col11\" >13</th>        <th class=\"col_heading level0 col12\" >14</th>        <th class=\"col_heading level0 col13\" >15</th>        <th class=\"col_heading level0 col14\" >16</th>        <th class=\"col_heading level0 col15\" >17</th>        <th class=\"col_heading level0 col16\" >18</th>        <th class=\"col_heading level0 col17\" >19</th>        <th class=\"col_heading level0 col18\" >20</th>        <th class=\"col_heading level0 col19\" >21</th>        <th class=\"col_heading level0 col20\" >22</th>        <th class=\"col_heading level0 col21\" >23</th>        <th class=\"col_heading level0 col22\" >24</th>    </tr></thead><tbody>\n",
       "                <tr>\n",
       "                        <th id=\"T_51ed1_level0_row0\" class=\"row_heading level0 row0\" >KMeans</th>\n",
       "                        <td id=\"T_51ed1_row0_col0\" class=\"data row0 col0\" >0.384878</td>\n",
       "                        <td id=\"T_51ed1_row0_col1\" class=\"data row0 col1\" >0.435276</td>\n",
       "                        <td id=\"T_51ed1_row0_col2\" class=\"data row0 col2\" >0.415935</td>\n",
       "                        <td id=\"T_51ed1_row0_col3\" class=\"data row0 col3\" >0.413867</td>\n",
       "                        <td id=\"T_51ed1_row0_col4\" class=\"data row0 col4\" >0.426120</td>\n",
       "                        <td id=\"T_51ed1_row0_col5\" class=\"data row0 col5\" >0.455816</td>\n",
       "                        <td id=\"T_51ed1_row0_col6\" class=\"data row0 col6\" >0.467683</td>\n",
       "                        <td id=\"T_51ed1_row0_col7\" class=\"data row0 col7\" >0.474953</td>\n",
       "                        <td id=\"T_51ed1_row0_col8\" class=\"data row0 col8\" >0.483002</td>\n",
       "                        <td id=\"T_51ed1_row0_col9\" class=\"data row0 col9\" >0.506716</td>\n",
       "                        <td id=\"T_51ed1_row0_col10\" class=\"data row0 col10\" >0.494112</td>\n",
       "                        <td id=\"T_51ed1_row0_col11\" class=\"data row0 col11\" >0.506738</td>\n",
       "                        <td id=\"T_51ed1_row0_col12\" class=\"data row0 col12\" >0.516893</td>\n",
       "                        <td id=\"T_51ed1_row0_col13\" class=\"data row0 col13\" >0.523964</td>\n",
       "                        <td id=\"T_51ed1_row0_col14\" class=\"data row0 col14\" >0.532443</td>\n",
       "                        <td id=\"T_51ed1_row0_col15\" class=\"data row0 col15\" >0.536114</td>\n",
       "                        <td id=\"T_51ed1_row0_col16\" class=\"data row0 col16\" >0.542866</td>\n",
       "                        <td id=\"T_51ed1_row0_col17\" class=\"data row0 col17\" >0.549088</td>\n",
       "                        <td id=\"T_51ed1_row0_col18\" class=\"data row0 col18\" >0.553164</td>\n",
       "                        <td id=\"T_51ed1_row0_col19\" class=\"data row0 col19\" >0.549008</td>\n",
       "                        <td id=\"T_51ed1_row0_col20\" class=\"data row0 col20\" >0.551395</td>\n",
       "                        <td id=\"T_51ed1_row0_col21\" class=\"data row0 col21\" >0.566837</td>\n",
       "                        <td id=\"T_51ed1_row0_col22\" class=\"data row0 col22\" >0.554462</td>\n",
       "            </tr>\n",
       "            <tr>\n",
       "                        <th id=\"T_51ed1_level0_row1\" class=\"row_heading level0 row1\" >GMM</th>\n",
       "                        <td id=\"T_51ed1_row1_col0\" class=\"data row1 col0\" >0.373586</td>\n",
       "                        <td id=\"T_51ed1_row1_col1\" class=\"data row1 col1\" >0.419229</td>\n",
       "                        <td id=\"T_51ed1_row1_col2\" class=\"data row1 col2\" >0.350174</td>\n",
       "                        <td id=\"T_51ed1_row1_col3\" class=\"data row1 col3\" >0.366365</td>\n",
       "                        <td id=\"T_51ed1_row1_col4\" class=\"data row1 col4\" >0.376614</td>\n",
       "                        <td id=\"T_51ed1_row1_col5\" class=\"data row1 col5\" >0.349411</td>\n",
       "                        <td id=\"T_51ed1_row1_col6\" class=\"data row1 col6\" >0.369294</td>\n",
       "                        <td id=\"T_51ed1_row1_col7\" class=\"data row1 col7\" >0.412470</td>\n",
       "                        <td id=\"T_51ed1_row1_col8\" class=\"data row1 col8\" >0.379995</td>\n",
       "                        <td id=\"T_51ed1_row1_col9\" class=\"data row1 col9\" >0.421448</td>\n",
       "                        <td id=\"T_51ed1_row1_col10\" class=\"data row1 col10\" >0.426783</td>\n",
       "                        <td id=\"T_51ed1_row1_col11\" class=\"data row1 col11\" >0.447962</td>\n",
       "                        <td id=\"T_51ed1_row1_col12\" class=\"data row1 col12\" >0.391807</td>\n",
       "                        <td id=\"T_51ed1_row1_col13\" class=\"data row1 col13\" >0.357913</td>\n",
       "                        <td id=\"T_51ed1_row1_col14\" class=\"data row1 col14\" >0.435757</td>\n",
       "                        <td id=\"T_51ed1_row1_col15\" class=\"data row1 col15\" >0.432590</td>\n",
       "                        <td id=\"T_51ed1_row1_col16\" class=\"data row1 col16\" >0.466358</td>\n",
       "                        <td id=\"T_51ed1_row1_col17\" class=\"data row1 col17\" >0.462465</td>\n",
       "                        <td id=\"T_51ed1_row1_col18\" class=\"data row1 col18\" >0.438726</td>\n",
       "                        <td id=\"T_51ed1_row1_col19\" class=\"data row1 col19\" >0.502377</td>\n",
       "                        <td id=\"T_51ed1_row1_col20\" class=\"data row1 col20\" >0.471635</td>\n",
       "                        <td id=\"T_51ed1_row1_col21\" class=\"data row1 col21\" >0.497178</td>\n",
       "                        <td id=\"T_51ed1_row1_col22\" class=\"data row1 col22\" >0.526851</td>\n",
       "            </tr>\n",
       "            <tr>\n",
       "                        <th id=\"T_51ed1_level0_row2\" class=\"row_heading level0 row2\" >HC</th>\n",
       "                        <td id=\"T_51ed1_row2_col0\" class=\"data row2 col0\" >0.356498</td>\n",
       "                        <td id=\"T_51ed1_row2_col1\" class=\"data row2 col1\" >0.434095</td>\n",
       "                        <td id=\"T_51ed1_row2_col2\" class=\"data row2 col2\" >0.406597</td>\n",
       "                        <td id=\"T_51ed1_row2_col3\" class=\"data row2 col3\" >0.399741</td>\n",
       "                        <td id=\"T_51ed1_row2_col4\" class=\"data row2 col4\" >0.405392</td>\n",
       "                        <td id=\"T_51ed1_row2_col5\" class=\"data row2 col5\" >0.425592</td>\n",
       "                        <td id=\"T_51ed1_row2_col6\" class=\"data row2 col6\" >0.435218</td>\n",
       "                        <td id=\"T_51ed1_row2_col7\" class=\"data row2 col7\" >0.431544</td>\n",
       "                        <td id=\"T_51ed1_row2_col8\" class=\"data row2 col8\" >0.453526</td>\n",
       "                        <td id=\"T_51ed1_row2_col9\" class=\"data row2 col9\" >0.473803</td>\n",
       "                        <td id=\"T_51ed1_row2_col10\" class=\"data row2 col10\" >0.483710</td>\n",
       "                        <td id=\"T_51ed1_row2_col11\" class=\"data row2 col11\" >0.479540</td>\n",
       "                        <td id=\"T_51ed1_row2_col12\" class=\"data row2 col12\" >0.488032</td>\n",
       "                        <td id=\"T_51ed1_row2_col13\" class=\"data row2 col13\" >0.494947</td>\n",
       "                        <td id=\"T_51ed1_row2_col14\" class=\"data row2 col14\" >0.512086</td>\n",
       "                        <td id=\"T_51ed1_row2_col15\" class=\"data row2 col15\" >0.519452</td>\n",
       "                        <td id=\"T_51ed1_row2_col16\" class=\"data row2 col16\" >0.524149</td>\n",
       "                        <td id=\"T_51ed1_row2_col17\" class=\"data row2 col17\" >0.533170</td>\n",
       "                        <td id=\"T_51ed1_row2_col18\" class=\"data row2 col18\" >0.538828</td>\n",
       "                        <td id=\"T_51ed1_row2_col19\" class=\"data row2 col19\" >0.542747</td>\n",
       "                        <td id=\"T_51ed1_row2_col20\" class=\"data row2 col20\" >0.544609</td>\n",
       "                        <td id=\"T_51ed1_row2_col21\" class=\"data row2 col21\" >0.551538</td>\n",
       "                        <td id=\"T_51ed1_row2_col22\" class=\"data row2 col22\" >0.554107</td>\n",
       "            </tr>\n",
       "    </tbody></table>"
      ],
      "text/plain": [
       "<pandas.io.formats.style.Styler at 0x15f620910>"
      ]
     },
     "execution_count": 77,
     "metadata": {},
     "output_type": "execute_result"
    }
   ],
   "source": [
    "## 7.5. Results - Tree Based Embedding\n",
    "\n",
    "df_results = pd.DataFrame( \n",
    "    {'KMeans': kmeans_list, \n",
    "     'GMM': gmm_list, \n",
    "     'HC': hc_list}\n",
    ").T\n",
    "\n",
    "df_results.columns = clusters\n",
    "df_results.style.highlight_max( color='lightgreen', axis=1 )"
   ]
  },
  {
   "cell_type": "code",
   "execution_count": 90,
   "metadata": {
    "ExecuteTime": {
     "end_time": "2021-09-15T00:19:15.903309Z",
     "start_time": "2021-09-15T00:19:15.782467Z"
    },
    "cell_style": "split"
   },
   "outputs": [
    {
     "data": {
      "text/html": [
       "<style  type=\"text/css\" >\n",
       "#T_ab8b4_row0_col20,#T_ab8b4_row1_col19,#T_ab8b4_row2_col22{\n",
       "            background-color:  lightgreen;\n",
       "        }</style><table id=\"T_ab8b4_\" ><thead>    <tr>        <th class=\"blank level0\" ></th>        <th class=\"col_heading level0 col0\" >2</th>        <th class=\"col_heading level0 col1\" >3</th>        <th class=\"col_heading level0 col2\" >4</th>        <th class=\"col_heading level0 col3\" >5</th>        <th class=\"col_heading level0 col4\" >6</th>        <th class=\"col_heading level0 col5\" >7</th>        <th class=\"col_heading level0 col6\" >8</th>        <th class=\"col_heading level0 col7\" >9</th>        <th class=\"col_heading level0 col8\" >10</th>        <th class=\"col_heading level0 col9\" >11</th>        <th class=\"col_heading level0 col10\" >12</th>        <th class=\"col_heading level0 col11\" >13</th>        <th class=\"col_heading level0 col12\" >14</th>        <th class=\"col_heading level0 col13\" >15</th>        <th class=\"col_heading level0 col14\" >16</th>        <th class=\"col_heading level0 col15\" >17</th>        <th class=\"col_heading level0 col16\" >18</th>        <th class=\"col_heading level0 col17\" >19</th>        <th class=\"col_heading level0 col18\" >20</th>        <th class=\"col_heading level0 col19\" >21</th>        <th class=\"col_heading level0 col20\" >22</th>        <th class=\"col_heading level0 col21\" >23</th>        <th class=\"col_heading level0 col22\" >24</th>    </tr></thead><tbody>\n",
       "                <tr>\n",
       "                        <th id=\"T_ab8b4_level0_row0\" class=\"row_heading level0 row0\" >KMeans</th>\n",
       "                        <td id=\"T_ab8b4_row0_col0\" class=\"data row0 col0\" >0.462763</td>\n",
       "                        <td id=\"T_ab8b4_row0_col1\" class=\"data row0 col1\" >0.464687</td>\n",
       "                        <td id=\"T_ab8b4_row0_col2\" class=\"data row0 col2\" >0.479246</td>\n",
       "                        <td id=\"T_ab8b4_row0_col3\" class=\"data row0 col3\" >0.436679</td>\n",
       "                        <td id=\"T_ab8b4_row0_col4\" class=\"data row0 col4\" >0.429635</td>\n",
       "                        <td id=\"T_ab8b4_row0_col5\" class=\"data row0 col5\" >0.430718</td>\n",
       "                        <td id=\"T_ab8b4_row0_col6\" class=\"data row0 col6\" >0.460260</td>\n",
       "                        <td id=\"T_ab8b4_row0_col7\" class=\"data row0 col7\" >0.471190</td>\n",
       "                        <td id=\"T_ab8b4_row0_col8\" class=\"data row0 col8\" >0.492538</td>\n",
       "                        <td id=\"T_ab8b4_row0_col9\" class=\"data row0 col9\" >0.497854</td>\n",
       "                        <td id=\"T_ab8b4_row0_col10\" class=\"data row0 col10\" >0.511828</td>\n",
       "                        <td id=\"T_ab8b4_row0_col11\" class=\"data row0 col11\" >0.530110</td>\n",
       "                        <td id=\"T_ab8b4_row0_col12\" class=\"data row0 col12\" >0.543490</td>\n",
       "                        <td id=\"T_ab8b4_row0_col13\" class=\"data row0 col13\" >0.559884</td>\n",
       "                        <td id=\"T_ab8b4_row0_col14\" class=\"data row0 col14\" >0.568609</td>\n",
       "                        <td id=\"T_ab8b4_row0_col15\" class=\"data row0 col15\" >0.554499</td>\n",
       "                        <td id=\"T_ab8b4_row0_col16\" class=\"data row0 col16\" >0.561636</td>\n",
       "                        <td id=\"T_ab8b4_row0_col17\" class=\"data row0 col17\" >0.570978</td>\n",
       "                        <td id=\"T_ab8b4_row0_col18\" class=\"data row0 col18\" >0.556315</td>\n",
       "                        <td id=\"T_ab8b4_row0_col19\" class=\"data row0 col19\" >0.565205</td>\n",
       "                        <td id=\"T_ab8b4_row0_col20\" class=\"data row0 col20\" >0.573266</td>\n",
       "                        <td id=\"T_ab8b4_row0_col21\" class=\"data row0 col21\" >0.570386</td>\n",
       "                        <td id=\"T_ab8b4_row0_col22\" class=\"data row0 col22\" >0.570045</td>\n",
       "            </tr>\n",
       "            <tr>\n",
       "                        <th id=\"T_ab8b4_level0_row1\" class=\"row_heading level0 row1\" >GMM</th>\n",
       "                        <td id=\"T_ab8b4_row1_col0\" class=\"data row1 col0\" >0.416528</td>\n",
       "                        <td id=\"T_ab8b4_row1_col1\" class=\"data row1 col1\" >0.405993</td>\n",
       "                        <td id=\"T_ab8b4_row1_col2\" class=\"data row1 col2\" >0.431845</td>\n",
       "                        <td id=\"T_ab8b4_row1_col3\" class=\"data row1 col3\" >0.408330</td>\n",
       "                        <td id=\"T_ab8b4_row1_col4\" class=\"data row1 col4\" >0.342230</td>\n",
       "                        <td id=\"T_ab8b4_row1_col5\" class=\"data row1 col5\" >0.294475</td>\n",
       "                        <td id=\"T_ab8b4_row1_col6\" class=\"data row1 col6\" >0.402129</td>\n",
       "                        <td id=\"T_ab8b4_row1_col7\" class=\"data row1 col7\" >0.371061</td>\n",
       "                        <td id=\"T_ab8b4_row1_col8\" class=\"data row1 col8\" >0.427949</td>\n",
       "                        <td id=\"T_ab8b4_row1_col9\" class=\"data row1 col9\" >0.453559</td>\n",
       "                        <td id=\"T_ab8b4_row1_col10\" class=\"data row1 col10\" >0.481312</td>\n",
       "                        <td id=\"T_ab8b4_row1_col11\" class=\"data row1 col11\" >0.459412</td>\n",
       "                        <td id=\"T_ab8b4_row1_col12\" class=\"data row1 col12\" >0.470171</td>\n",
       "                        <td id=\"T_ab8b4_row1_col13\" class=\"data row1 col13\" >0.418294</td>\n",
       "                        <td id=\"T_ab8b4_row1_col14\" class=\"data row1 col14\" >0.518707</td>\n",
       "                        <td id=\"T_ab8b4_row1_col15\" class=\"data row1 col15\" >0.421809</td>\n",
       "                        <td id=\"T_ab8b4_row1_col16\" class=\"data row1 col16\" >0.517470</td>\n",
       "                        <td id=\"T_ab8b4_row1_col17\" class=\"data row1 col17\" >0.536945</td>\n",
       "                        <td id=\"T_ab8b4_row1_col18\" class=\"data row1 col18\" >0.539812</td>\n",
       "                        <td id=\"T_ab8b4_row1_col19\" class=\"data row1 col19\" >0.545298</td>\n",
       "                        <td id=\"T_ab8b4_row1_col20\" class=\"data row1 col20\" >0.505348</td>\n",
       "                        <td id=\"T_ab8b4_row1_col21\" class=\"data row1 col21\" >0.524814</td>\n",
       "                        <td id=\"T_ab8b4_row1_col22\" class=\"data row1 col22\" >0.493645</td>\n",
       "            </tr>\n",
       "            <tr>\n",
       "                        <th id=\"T_ab8b4_level0_row2\" class=\"row_heading level0 row2\" >HC</th>\n",
       "                        <td id=\"T_ab8b4_row2_col0\" class=\"data row2 col0\" >0.402606</td>\n",
       "                        <td id=\"T_ab8b4_row2_col1\" class=\"data row2 col1\" >0.440373</td>\n",
       "                        <td id=\"T_ab8b4_row2_col2\" class=\"data row2 col2\" >0.468183</td>\n",
       "                        <td id=\"T_ab8b4_row2_col3\" class=\"data row2 col3\" >0.433809</td>\n",
       "                        <td id=\"T_ab8b4_row2_col4\" class=\"data row2 col4\" >0.441999</td>\n",
       "                        <td id=\"T_ab8b4_row2_col5\" class=\"data row2 col5\" >0.435187</td>\n",
       "                        <td id=\"T_ab8b4_row2_col6\" class=\"data row2 col6\" >0.452925</td>\n",
       "                        <td id=\"T_ab8b4_row2_col7\" class=\"data row2 col7\" >0.469839</td>\n",
       "                        <td id=\"T_ab8b4_row2_col8\" class=\"data row2 col8\" >0.491768</td>\n",
       "                        <td id=\"T_ab8b4_row2_col9\" class=\"data row2 col9\" >0.490059</td>\n",
       "                        <td id=\"T_ab8b4_row2_col10\" class=\"data row2 col10\" >0.503466</td>\n",
       "                        <td id=\"T_ab8b4_row2_col11\" class=\"data row2 col11\" >0.521688</td>\n",
       "                        <td id=\"T_ab8b4_row2_col12\" class=\"data row2 col12\" >0.533568</td>\n",
       "                        <td id=\"T_ab8b4_row2_col13\" class=\"data row2 col13\" >0.549158</td>\n",
       "                        <td id=\"T_ab8b4_row2_col14\" class=\"data row2 col14\" >0.560996</td>\n",
       "                        <td id=\"T_ab8b4_row2_col15\" class=\"data row2 col15\" >0.562903</td>\n",
       "                        <td id=\"T_ab8b4_row2_col16\" class=\"data row2 col16\" >0.553427</td>\n",
       "                        <td id=\"T_ab8b4_row2_col17\" class=\"data row2 col17\" >0.560538</td>\n",
       "                        <td id=\"T_ab8b4_row2_col18\" class=\"data row2 col18\" >0.567952</td>\n",
       "                        <td id=\"T_ab8b4_row2_col19\" class=\"data row2 col19\" >0.559368</td>\n",
       "                        <td id=\"T_ab8b4_row2_col20\" class=\"data row2 col20\" >0.556919</td>\n",
       "                        <td id=\"T_ab8b4_row2_col21\" class=\"data row2 col21\" >0.560276</td>\n",
       "                        <td id=\"T_ab8b4_row2_col22\" class=\"data row2 col22\" >0.573352</td>\n",
       "            </tr>\n",
       "    </tbody></table>"
      ],
      "text/plain": [
       "<pandas.io.formats.style.Styler at 0x15bb9da00>"
      ]
     },
     "execution_count": 90,
     "metadata": {},
     "output_type": "execute_result"
    }
   ],
   "source": [
    "## 7.6. Results - UMAP Embedding\n",
    "\n",
    "df_results = pd.DataFrame( \n",
    "    {'KMeans': kmeans_list, \n",
    "     'GMM': gmm_list, \n",
    "     'HC': hc_list}\n",
    ").T\n",
    "\n",
    "df_results.columns = clusters\n",
    "df_results.style.highlight_max( color='lightgreen', axis=1 )"
   ]
  },
  {
   "cell_type": "code",
   "execution_count": 108,
   "metadata": {
    "ExecuteTime": {
     "end_time": "2021-09-15T00:19:15.903309Z",
     "start_time": "2021-09-15T00:19:15.782467Z"
    },
    "cell_style": "split"
   },
   "outputs": [
    {
     "data": {
      "text/html": [
       "<style  type=\"text/css\" >\n",
       "#T_eee11_row0_col22,#T_eee11_row1_col20,#T_eee11_row2_col22{\n",
       "            background-color:  lightgreen;\n",
       "        }</style><table id=\"T_eee11_\" ><thead>    <tr>        <th class=\"blank level0\" ></th>        <th class=\"col_heading level0 col0\" >2</th>        <th class=\"col_heading level0 col1\" >3</th>        <th class=\"col_heading level0 col2\" >4</th>        <th class=\"col_heading level0 col3\" >5</th>        <th class=\"col_heading level0 col4\" >6</th>        <th class=\"col_heading level0 col5\" >7</th>        <th class=\"col_heading level0 col6\" >8</th>        <th class=\"col_heading level0 col7\" >9</th>        <th class=\"col_heading level0 col8\" >10</th>        <th class=\"col_heading level0 col9\" >11</th>        <th class=\"col_heading level0 col10\" >12</th>        <th class=\"col_heading level0 col11\" >13</th>        <th class=\"col_heading level0 col12\" >14</th>        <th class=\"col_heading level0 col13\" >15</th>        <th class=\"col_heading level0 col14\" >16</th>        <th class=\"col_heading level0 col15\" >17</th>        <th class=\"col_heading level0 col16\" >18</th>        <th class=\"col_heading level0 col17\" >19</th>        <th class=\"col_heading level0 col18\" >20</th>        <th class=\"col_heading level0 col19\" >21</th>        <th class=\"col_heading level0 col20\" >22</th>        <th class=\"col_heading level0 col21\" >23</th>        <th class=\"col_heading level0 col22\" >24</th>    </tr></thead><tbody>\n",
       "                <tr>\n",
       "                        <th id=\"T_eee11_level0_row0\" class=\"row_heading level0 row0\" >KMeans</th>\n",
       "                        <td id=\"T_eee11_row0_col0\" class=\"data row0 col0\" >0.343189</td>\n",
       "                        <td id=\"T_eee11_row0_col1\" class=\"data row0 col1\" >0.369643</td>\n",
       "                        <td id=\"T_eee11_row0_col2\" class=\"data row0 col2\" >0.391697</td>\n",
       "                        <td id=\"T_eee11_row0_col3\" class=\"data row0 col3\" >0.389035</td>\n",
       "                        <td id=\"T_eee11_row0_col4\" class=\"data row0 col4\" >0.381804</td>\n",
       "                        <td id=\"T_eee11_row0_col5\" class=\"data row0 col5\" >0.407814</td>\n",
       "                        <td id=\"T_eee11_row0_col6\" class=\"data row0 col6\" >0.432479</td>\n",
       "                        <td id=\"T_eee11_row0_col7\" class=\"data row0 col7\" >0.446338</td>\n",
       "                        <td id=\"T_eee11_row0_col8\" class=\"data row0 col8\" >0.444022</td>\n",
       "                        <td id=\"T_eee11_row0_col9\" class=\"data row0 col9\" >0.454634</td>\n",
       "                        <td id=\"T_eee11_row0_col10\" class=\"data row0 col10\" >0.455176</td>\n",
       "                        <td id=\"T_eee11_row0_col11\" class=\"data row0 col11\" >0.451424</td>\n",
       "                        <td id=\"T_eee11_row0_col12\" class=\"data row0 col12\" >0.444903</td>\n",
       "                        <td id=\"T_eee11_row0_col13\" class=\"data row0 col13\" >0.446808</td>\n",
       "                        <td id=\"T_eee11_row0_col14\" class=\"data row0 col14\" >0.441979</td>\n",
       "                        <td id=\"T_eee11_row0_col15\" class=\"data row0 col15\" >0.451989</td>\n",
       "                        <td id=\"T_eee11_row0_col16\" class=\"data row0 col16\" >0.454150</td>\n",
       "                        <td id=\"T_eee11_row0_col17\" class=\"data row0 col17\" >0.455914</td>\n",
       "                        <td id=\"T_eee11_row0_col18\" class=\"data row0 col18\" >0.472355</td>\n",
       "                        <td id=\"T_eee11_row0_col19\" class=\"data row0 col19\" >0.476902</td>\n",
       "                        <td id=\"T_eee11_row0_col20\" class=\"data row0 col20\" >0.488624</td>\n",
       "                        <td id=\"T_eee11_row0_col21\" class=\"data row0 col21\" >0.493866</td>\n",
       "                        <td id=\"T_eee11_row0_col22\" class=\"data row0 col22\" >0.501261</td>\n",
       "            </tr>\n",
       "            <tr>\n",
       "                        <th id=\"T_eee11_level0_row1\" class=\"row_heading level0 row1\" >GMM</th>\n",
       "                        <td id=\"T_eee11_row1_col0\" class=\"data row1 col0\" >0.343592</td>\n",
       "                        <td id=\"T_eee11_row1_col1\" class=\"data row1 col1\" >0.362760</td>\n",
       "                        <td id=\"T_eee11_row1_col2\" class=\"data row1 col2\" >0.378600</td>\n",
       "                        <td id=\"T_eee11_row1_col3\" class=\"data row1 col3\" >0.331175</td>\n",
       "                        <td id=\"T_eee11_row1_col4\" class=\"data row1 col4\" >0.251238</td>\n",
       "                        <td id=\"T_eee11_row1_col5\" class=\"data row1 col5\" >0.284072</td>\n",
       "                        <td id=\"T_eee11_row1_col6\" class=\"data row1 col6\" >0.362938</td>\n",
       "                        <td id=\"T_eee11_row1_col7\" class=\"data row1 col7\" >0.341407</td>\n",
       "                        <td id=\"T_eee11_row1_col8\" class=\"data row1 col8\" >0.263640</td>\n",
       "                        <td id=\"T_eee11_row1_col9\" class=\"data row1 col9\" >0.364641</td>\n",
       "                        <td id=\"T_eee11_row1_col10\" class=\"data row1 col10\" >0.345467</td>\n",
       "                        <td id=\"T_eee11_row1_col11\" class=\"data row1 col11\" >0.364825</td>\n",
       "                        <td id=\"T_eee11_row1_col12\" class=\"data row1 col12\" >0.291437</td>\n",
       "                        <td id=\"T_eee11_row1_col13\" class=\"data row1 col13\" >0.327354</td>\n",
       "                        <td id=\"T_eee11_row1_col14\" class=\"data row1 col14\" >0.360303</td>\n",
       "                        <td id=\"T_eee11_row1_col15\" class=\"data row1 col15\" >0.358653</td>\n",
       "                        <td id=\"T_eee11_row1_col16\" class=\"data row1 col16\" >0.353336</td>\n",
       "                        <td id=\"T_eee11_row1_col17\" class=\"data row1 col17\" >0.358455</td>\n",
       "                        <td id=\"T_eee11_row1_col18\" class=\"data row1 col18\" >0.359459</td>\n",
       "                        <td id=\"T_eee11_row1_col19\" class=\"data row1 col19\" >0.374966</td>\n",
       "                        <td id=\"T_eee11_row1_col20\" class=\"data row1 col20\" >0.419982</td>\n",
       "                        <td id=\"T_eee11_row1_col21\" class=\"data row1 col21\" >0.416371</td>\n",
       "                        <td id=\"T_eee11_row1_col22\" class=\"data row1 col22\" >0.417600</td>\n",
       "            </tr>\n",
       "            <tr>\n",
       "                        <th id=\"T_eee11_level0_row2\" class=\"row_heading level0 row2\" >HC</th>\n",
       "                        <td id=\"T_eee11_row2_col0\" class=\"data row2 col0\" >0.328499</td>\n",
       "                        <td id=\"T_eee11_row2_col1\" class=\"data row2 col1\" >0.312461</td>\n",
       "                        <td id=\"T_eee11_row2_col2\" class=\"data row2 col2\" >0.324320</td>\n",
       "                        <td id=\"T_eee11_row2_col3\" class=\"data row2 col3\" >0.314825</td>\n",
       "                        <td id=\"T_eee11_row2_col4\" class=\"data row2 col4\" >0.361543</td>\n",
       "                        <td id=\"T_eee11_row2_col5\" class=\"data row2 col5\" >0.383701</td>\n",
       "                        <td id=\"T_eee11_row2_col6\" class=\"data row2 col6\" >0.396468</td>\n",
       "                        <td id=\"T_eee11_row2_col7\" class=\"data row2 col7\" >0.397505</td>\n",
       "                        <td id=\"T_eee11_row2_col8\" class=\"data row2 col8\" >0.403475</td>\n",
       "                        <td id=\"T_eee11_row2_col9\" class=\"data row2 col9\" >0.402869</td>\n",
       "                        <td id=\"T_eee11_row2_col10\" class=\"data row2 col10\" >0.412133</td>\n",
       "                        <td id=\"T_eee11_row2_col11\" class=\"data row2 col11\" >0.417029</td>\n",
       "                        <td id=\"T_eee11_row2_col12\" class=\"data row2 col12\" >0.424541</td>\n",
       "                        <td id=\"T_eee11_row2_col13\" class=\"data row2 col13\" >0.426718</td>\n",
       "                        <td id=\"T_eee11_row2_col14\" class=\"data row2 col14\" >0.434697</td>\n",
       "                        <td id=\"T_eee11_row2_col15\" class=\"data row2 col15\" >0.443172</td>\n",
       "                        <td id=\"T_eee11_row2_col16\" class=\"data row2 col16\" >0.449764</td>\n",
       "                        <td id=\"T_eee11_row2_col17\" class=\"data row2 col17\" >0.454714</td>\n",
       "                        <td id=\"T_eee11_row2_col18\" class=\"data row2 col18\" >0.461745</td>\n",
       "                        <td id=\"T_eee11_row2_col19\" class=\"data row2 col19\" >0.467309</td>\n",
       "                        <td id=\"T_eee11_row2_col20\" class=\"data row2 col20\" >0.466930</td>\n",
       "                        <td id=\"T_eee11_row2_col21\" class=\"data row2 col21\" >0.472085</td>\n",
       "                        <td id=\"T_eee11_row2_col22\" class=\"data row2 col22\" >0.478789</td>\n",
       "            </tr>\n",
       "    </tbody></table>"
      ],
      "text/plain": [
       "<pandas.io.formats.style.Styler at 0x15eeffaf0>"
      ]
     },
     "execution_count": 108,
     "metadata": {},
     "output_type": "execute_result"
    }
   ],
   "source": [
    "## 7.7. Results - TSNE Embedding\n",
    "\n",
    "df_results = pd.DataFrame( \n",
    "    {'KMeans': kmeans_list, \n",
    "     'GMM': gmm_list, \n",
    "     'HC': hc_list}\n",
    ").T\n",
    "\n",
    "df_results.columns = clusters\n",
    "df_results.style.highlight_max( color='lightgreen', axis=1 )"
   ]
  },
  {
   "cell_type": "markdown",
   "metadata": {},
   "source": [
    "# <font color='red'> 8.0. Model Training </font>"
   ]
  },
  {
   "cell_type": "markdown",
   "metadata": {},
   "source": [
    "## 8.1. Final model"
   ]
  },
  {
   "cell_type": "code",
   "execution_count": 114,
   "metadata": {
    "ExecuteTime": {
     "end_time": "2021-09-15T00:32:05.075376Z",
     "start_time": "2021-09-15T00:30:22.201437Z"
    }
   },
   "outputs": [],
   "source": [
    "# model definition\n",
    "k = 8\n",
    "\n",
    "## model definition\n",
    "gmm_model = mx.GaussianMixture( n_components=k, n_init=300, random_state=32 )\n",
    "\n",
    "# model training\n",
    "gmm_model.fit( X )\n",
    "\n",
    "# model predict\n",
    "labels = gmm_model.predict( X )"
   ]
  },
  {
   "cell_type": "markdown",
   "metadata": {},
   "source": [
    "## 8.2. Cluster Validation"
   ]
  },
  {
   "cell_type": "code",
   "execution_count": 115,
   "metadata": {
    "ExecuteTime": {
     "end_time": "2021-09-15T00:32:06.658872Z",
     "start_time": "2021-09-15T00:32:05.082535Z"
    }
   },
   "outputs": [
    {
     "name": "stdout",
     "output_type": "stream",
     "text": [
      "SS value: 0.2763446271419525\n"
     ]
    }
   ],
   "source": [
    "## WSS ( Within-cluster sum of square)\n",
    "#print( 'WSS value: {}'.format( kmeans.inertia_ ) )\n",
    "\n",
    "## SS ( Silhouette Score )\n",
    "print( 'SS value: {}'.format( m.silhouette_score( X, labels, metric='euclidean' ) ) )"
   ]
  },
  {
   "cell_type": "markdown",
   "metadata": {},
   "source": [
    "# <font color='red'> 9.0. Cluster Analysis </font>"
   ]
  },
  {
   "cell_type": "code",
   "execution_count": 116,
   "metadata": {
    "ExecuteTime": {
     "end_time": "2021-09-15T00:32:06.678747Z",
     "start_time": "2021-09-15T00:32:06.666942Z"
    }
   },
   "outputs": [],
   "source": [
    "df9 = X.copy()\n",
    "df9['cluster'] = labels"
   ]
  },
  {
   "cell_type": "markdown",
   "metadata": {},
   "source": [
    "## 9.1. Visualization Inspection"
   ]
  },
  {
   "cell_type": "code",
   "execution_count": 117,
   "metadata": {
    "ExecuteTime": {
     "end_time": "2021-09-15T00:32:08.701568Z",
     "start_time": "2021-09-15T00:32:06.689889Z"
    }
   },
   "outputs": [
    {
     "data": {
      "text/plain": [
       "<AxesSubplot:xlabel='embedding_x', ylabel='embedding_y'>"
      ]
     },
     "execution_count": 117,
     "metadata": {},
     "output_type": "execute_result"
    },
    {
     "data": {
      "image/png": "[encoded data removed]",
      "text/plain": [
       "<Figure size 432x288 with 1 Axes>"
      ]
     },
     "metadata": {
      "needs_background": "light"
     },
     "output_type": "display_data"
    }
   ],
   "source": [
    "sns.scatterplot( x='embedding_x', y='embedding_y', hue='cluster', data=df9, palette='deep')"
   ]
  },
  {
   "cell_type": "markdown",
   "metadata": {},
   "source": [
    "## 9.4. Cluster Profile"
   ]
  },
  {
   "cell_type": "code",
   "execution_count": 118,
   "metadata": {
    "ExecuteTime": {
     "end_time": "2021-09-15T00:32:08.783901Z",
     "start_time": "2021-09-15T00:32:08.707181Z"
    }
   },
   "outputs": [
    {
     "data": {
      "text/html": [
       "<div>\n",
       "<style scoped>\n",
       "    .dataframe tbody tr th:only-of-type {\n",
       "        vertical-align: middle;\n",
       "    }\n",
       "\n",
       "    .dataframe tbody tr th {\n",
       "        vertical-align: top;\n",
       "    }\n",
       "\n",
       "    .dataframe thead th {\n",
       "        text-align: right;\n",
       "    }\n",
       "</style>\n",
       "<table border=\"1\" class=\"dataframe\">\n",
       "  <thead>\n",
       "    <tr style=\"text-align: right;\">\n",
       "      <th></th>\n",
       "      <th>customer_id</th>\n",
       "      <th>gross_revenue</th>\n",
       "      <th>recency_days</th>\n",
       "      <th>qtde_products</th>\n",
       "      <th>frequency</th>\n",
       "      <th>qtde_returns</th>\n",
       "      <th>cluster</th>\n",
       "    </tr>\n",
       "  </thead>\n",
       "  <tbody>\n",
       "    <tr>\n",
       "      <th>0</th>\n",
       "      <td>17850</td>\n",
       "      <td>5391.21</td>\n",
       "      <td>372.0</td>\n",
       "      <td>297.0</td>\n",
       "      <td>17.000000</td>\n",
       "      <td>40.0</td>\n",
       "      <td>7</td>\n",
       "    </tr>\n",
       "    <tr>\n",
       "      <th>1</th>\n",
       "      <td>13047</td>\n",
       "      <td>3232.59</td>\n",
       "      <td>56.0</td>\n",
       "      <td>171.0</td>\n",
       "      <td>0.028302</td>\n",
       "      <td>35.0</td>\n",
       "      <td>4</td>\n",
       "    </tr>\n",
       "    <tr>\n",
       "      <th>2</th>\n",
       "      <td>12583</td>\n",
       "      <td>6705.38</td>\n",
       "      <td>2.0</td>\n",
       "      <td>232.0</td>\n",
       "      <td>0.040323</td>\n",
       "      <td>50.0</td>\n",
       "      <td>6</td>\n",
       "    </tr>\n",
       "    <tr>\n",
       "      <th>3</th>\n",
       "      <td>13748</td>\n",
       "      <td>948.25</td>\n",
       "      <td>95.0</td>\n",
       "      <td>28.0</td>\n",
       "      <td>0.017921</td>\n",
       "      <td>0.0</td>\n",
       "      <td>0</td>\n",
       "    </tr>\n",
       "    <tr>\n",
       "      <th>4</th>\n",
       "      <td>15100</td>\n",
       "      <td>876.00</td>\n",
       "      <td>333.0</td>\n",
       "      <td>3.0</td>\n",
       "      <td>0.073171</td>\n",
       "      <td>22.0</td>\n",
       "      <td>0</td>\n",
       "    </tr>\n",
       "  </tbody>\n",
       "</table>\n",
       "</div>"
      ],
      "text/plain": [
       "   customer_id  gross_revenue  recency_days  qtde_products  frequency  \\\n",
       "0        17850        5391.21         372.0          297.0  17.000000   \n",
       "1        13047        3232.59          56.0          171.0   0.028302   \n",
       "2        12583        6705.38           2.0          232.0   0.040323   \n",
       "3        13748         948.25          95.0           28.0   0.017921   \n",
       "4        15100         876.00         333.0            3.0   0.073171   \n",
       "\n",
       "   qtde_returns  cluster  \n",
       "0          40.0        7  \n",
       "1          35.0        4  \n",
       "2          50.0        6  \n",
       "3           0.0        0  \n",
       "4          22.0        0  "
      ]
     },
     "execution_count": 118,
     "metadata": {},
     "output_type": "execute_result"
    }
   ],
   "source": [
    "df92 = df4[ cols_selected ].copy()\n",
    "df92['cluster'] = labels\n",
    "df92.head()"
   ]
  },
  {
   "cell_type": "code",
   "execution_count": 119,
   "metadata": {
    "ExecuteTime": {
     "end_time": "2021-09-15T00:32:09.016039Z",
     "start_time": "2021-09-15T00:32:08.800774Z"
    }
   },
   "outputs": [
    {
     "data": {
      "text/html": [
       "<div>\n",
       "<style scoped>\n",
       "    .dataframe tbody tr th:only-of-type {\n",
       "        vertical-align: middle;\n",
       "    }\n",
       "\n",
       "    .dataframe tbody tr th {\n",
       "        vertical-align: top;\n",
       "    }\n",
       "\n",
       "    .dataframe thead th {\n",
       "        text-align: right;\n",
       "    }\n",
       "</style>\n",
       "<table border=\"1\" class=\"dataframe\">\n",
       "  <thead>\n",
       "    <tr style=\"text-align: right;\">\n",
       "      <th></th>\n",
       "      <th>cluster</th>\n",
       "      <th>customer_id</th>\n",
       "      <th>perc_customer</th>\n",
       "      <th>gross_revenue</th>\n",
       "      <th>recency_days</th>\n",
       "      <th>qtde_products</th>\n",
       "      <th>frequency</th>\n",
       "      <th>qtde_returns</th>\n",
       "    </tr>\n",
       "  </thead>\n",
       "  <tbody>\n",
       "    <tr>\n",
       "      <th>6</th>\n",
       "      <td>6</td>\n",
       "      <td>1302</td>\n",
       "      <td>22.862160</td>\n",
       "      <td>4533.206098</td>\n",
       "      <td>22.185868</td>\n",
       "      <td>191.735023</td>\n",
       "      <td>0.109094</td>\n",
       "      <td>54.461598</td>\n",
       "    </tr>\n",
       "    <tr>\n",
       "      <th>3</th>\n",
       "      <td>3</td>\n",
       "      <td>415</td>\n",
       "      <td>7.287094</td>\n",
       "      <td>1823.561566</td>\n",
       "      <td>35.698795</td>\n",
       "      <td>106.021687</td>\n",
       "      <td>0.031012</td>\n",
       "      <td>10.469880</td>\n",
       "    </tr>\n",
       "    <tr>\n",
       "      <th>0</th>\n",
       "      <td>0</td>\n",
       "      <td>409</td>\n",
       "      <td>7.181738</td>\n",
       "      <td>1224.635917</td>\n",
       "      <td>194.276284</td>\n",
       "      <td>65.466993</td>\n",
       "      <td>0.410174</td>\n",
       "      <td>187.114914</td>\n",
       "    </tr>\n",
       "    <tr>\n",
       "      <th>1</th>\n",
       "      <td>1</td>\n",
       "      <td>471</td>\n",
       "      <td>8.270413</td>\n",
       "      <td>966.239427</td>\n",
       "      <td>20.787686</td>\n",
       "      <td>77.804671</td>\n",
       "      <td>1.051840</td>\n",
       "      <td>1.248408</td>\n",
       "    </tr>\n",
       "    <tr>\n",
       "      <th>4</th>\n",
       "      <td>4</td>\n",
       "      <td>1374</td>\n",
       "      <td>24.126427</td>\n",
       "      <td>928.154505</td>\n",
       "      <td>127.360262</td>\n",
       "      <td>55.227074</td>\n",
       "      <td>0.411463</td>\n",
       "      <td>6.864629</td>\n",
       "    </tr>\n",
       "    <tr>\n",
       "      <th>7</th>\n",
       "      <td>7</td>\n",
       "      <td>767</td>\n",
       "      <td>13.467954</td>\n",
       "      <td>769.485750</td>\n",
       "      <td>181.160365</td>\n",
       "      <td>60.095176</td>\n",
       "      <td>1.027033</td>\n",
       "      <td>5.361147</td>\n",
       "    </tr>\n",
       "    <tr>\n",
       "      <th>2</th>\n",
       "      <td>2</td>\n",
       "      <td>290</td>\n",
       "      <td>5.092186</td>\n",
       "      <td>733.702138</td>\n",
       "      <td>141.610345</td>\n",
       "      <td>67.631034</td>\n",
       "      <td>1.024138</td>\n",
       "      <td>0.551724</td>\n",
       "    </tr>\n",
       "    <tr>\n",
       "      <th>5</th>\n",
       "      <td>5</td>\n",
       "      <td>667</td>\n",
       "      <td>11.712028</td>\n",
       "      <td>616.818021</td>\n",
       "      <td>266.779610</td>\n",
       "      <td>43.122939</td>\n",
       "      <td>0.972539</td>\n",
       "      <td>17.986507</td>\n",
       "    </tr>\n",
       "  </tbody>\n",
       "</table>\n",
       "</div>"
      ],
      "text/plain": [
       "   cluster  customer_id  perc_customer  gross_revenue  recency_days  \\\n",
       "6        6         1302      22.862160    4533.206098     22.185868   \n",
       "3        3          415       7.287094    1823.561566     35.698795   \n",
       "0        0          409       7.181738    1224.635917    194.276284   \n",
       "1        1          471       8.270413     966.239427     20.787686   \n",
       "4        4         1374      24.126427     928.154505    127.360262   \n",
       "7        7          767      13.467954     769.485750    181.160365   \n",
       "2        2          290       5.092186     733.702138    141.610345   \n",
       "5        5          667      11.712028     616.818021    266.779610   \n",
       "\n",
       "   qtde_products  frequency  qtde_returns  \n",
       "6     191.735023   0.109094     54.461598  \n",
       "3     106.021687   0.031012     10.469880  \n",
       "0      65.466993   0.410174    187.114914  \n",
       "1      77.804671   1.051840      1.248408  \n",
       "4      55.227074   0.411463      6.864629  \n",
       "7      60.095176   1.027033      5.361147  \n",
       "2      67.631034   1.024138      0.551724  \n",
       "5      43.122939   0.972539     17.986507  "
      ]
     },
     "execution_count": 119,
     "metadata": {},
     "output_type": "execute_result"
    }
   ],
   "source": [
    "# Number of customer\n",
    "df_cluster = df92[['customer_id', 'cluster']].groupby( 'cluster' ).count().reset_index()\n",
    "df_cluster['perc_customer'] = 100*( df_cluster['customer_id'] / df_cluster['customer_id'].sum() )\n",
    "\n",
    "# Avg Gross revenue\n",
    "df_avg_gross_revenue = df92[['gross_revenue', 'cluster']].groupby( 'cluster' ).mean().reset_index()\n",
    "df_cluster = pd.merge( df_cluster, df_avg_gross_revenue, how='inner', on='cluster' )\n",
    "\n",
    "# Avg recency days\n",
    "df_avg_recency_days = df92[['recency_days', 'cluster']].groupby( 'cluster' ).mean().reset_index()\n",
    "df_cluster = pd.merge( df_cluster, df_avg_recency_days, how='inner', on='cluster' )\n",
    "\n",
    "# Avg invoice_no\n",
    "df_qtde_products = df92[['qtde_products', 'cluster']].groupby( 'cluster' ).mean().reset_index()\n",
    "df_cluster = pd.merge( df_cluster, df_qtde_products, how='inner', on='cluster' )\n",
    "\n",
    "# Frequency\n",
    "df_frequency = df92[['frequency', 'cluster']].groupby( 'cluster' ).mean().reset_index()\n",
    "df_cluster = pd.merge( df_cluster, df_frequency, how='inner', on='cluster' )\n",
    "\n",
    "# Returns\n",
    "df_qtde_returns = df92[['qtde_returns', 'cluster']].groupby( 'cluster' ).mean().reset_index()\n",
    "df_cluster = pd.merge( df_cluster, df_qtde_returns, how='inner', on='cluster' )\n",
    "\n",
    "df_cluster.sort_values( 'gross_revenue', ascending=False )"
   ]
  },
  {
   "cell_type": "code",
   "execution_count": 120,
   "metadata": {
    "ExecuteTime": {
     "end_time": "2021-09-15T00:32:09.032710Z",
     "start_time": "2021-09-15T00:32:09.025968Z"
    }
   },
   "outputs": [],
   "source": [
    "# 6 Cluster Insiders\n",
    "# 3 Cluster More Products\n",
    "# 0 Cluster Spend Money \n",
    "# 1 Cluster Even More Products\n",
    "# 4 Cluster Less Days\n",
    "# 7 Cluster Less 1k\n",
    "# 2 Cluster Stop Returners\n",
    "# 5 Cluster More Buy"
   ]
  },
  {
   "cell_type": "markdown",
   "metadata": {},
   "source": [
    "### Cluster 01:  ( Candidato à Insider )\n",
    "    - Número de customers: 468 (16% do customers )\n",
    "    - Faturamento médio: 8836\n",
    "    - Recência média: 21 dias\n",
    "    - Média de Produtos comprados: 424 produtos\n",
    "    - Frequência de Produtos comprados: 0.09 produtos/dia\n",
    "    - Receita em média: $8836.13,00 dólares\n",
    "        \n",
    "### Cluster 02: \n",
    "    - Número de customers: 31 (0.71 do customers )\n",
    "    - Recência em média: 14 dias\n",
    "    - Compras em média: 53 compras\n",
    "    - Receita em média: $40.543,52 dólares\n",
    "        \n",
    "### Cluster 03: \n",
    "    - Número de customers: 4.335 (99% do customers )\n",
    "    - Recência em média: 92 dias\n",
    "    - Compras em média: 5 compras\n",
    "    - Receita em média: $1.372,57 dólares"
   ]
  },
  {
   "cell_type": "markdown",
   "metadata": {},
   "source": [
    "# <font color='red'> 10.0. Análise Exploratória de Dados </font>"
   ]
  },
  {
   "cell_type": "code",
   "execution_count": 125,
   "metadata": {
    "ExecuteTime": {
     "end_time": "2021-09-15T00:32:39.068282Z",
     "start_time": "2021-09-15T00:32:39.061362Z"
    }
   },
   "outputs": [],
   "source": [
    "df10 = df92.copy()"
   ]
  },
  {
   "cell_type": "code",
   "execution_count": 126,
   "metadata": {
    "ExecuteTime": {
     "end_time": "2021-09-15T00:32:40.568550Z",
     "start_time": "2021-09-15T00:32:40.540164Z"
    }
   },
   "outputs": [
    {
     "data": {
      "text/html": [
       "<div>\n",
       "<style scoped>\n",
       "    .dataframe tbody tr th:only-of-type {\n",
       "        vertical-align: middle;\n",
       "    }\n",
       "\n",
       "    .dataframe tbody tr th {\n",
       "        vertical-align: top;\n",
       "    }\n",
       "\n",
       "    .dataframe thead th {\n",
       "        text-align: right;\n",
       "    }\n",
       "</style>\n",
       "<table border=\"1\" class=\"dataframe\">\n",
       "  <thead>\n",
       "    <tr style=\"text-align: right;\">\n",
       "      <th></th>\n",
       "      <th>customer_id</th>\n",
       "      <th>gross_revenue</th>\n",
       "      <th>recency_days</th>\n",
       "      <th>qtde_products</th>\n",
       "      <th>frequency</th>\n",
       "      <th>qtde_returns</th>\n",
       "      <th>cluster</th>\n",
       "    </tr>\n",
       "  </thead>\n",
       "  <tbody>\n",
       "    <tr>\n",
       "      <th>0</th>\n",
       "      <td>17850</td>\n",
       "      <td>5391.21</td>\n",
       "      <td>372</td>\n",
       "      <td>297</td>\n",
       "      <td>17.000000</td>\n",
       "      <td>40</td>\n",
       "      <td>7</td>\n",
       "    </tr>\n",
       "    <tr>\n",
       "      <th>1</th>\n",
       "      <td>13047</td>\n",
       "      <td>3232.59</td>\n",
       "      <td>56</td>\n",
       "      <td>171</td>\n",
       "      <td>0.028302</td>\n",
       "      <td>35</td>\n",
       "      <td>4</td>\n",
       "    </tr>\n",
       "    <tr>\n",
       "      <th>2</th>\n",
       "      <td>12583</td>\n",
       "      <td>6705.38</td>\n",
       "      <td>2</td>\n",
       "      <td>232</td>\n",
       "      <td>0.040323</td>\n",
       "      <td>50</td>\n",
       "      <td>6</td>\n",
       "    </tr>\n",
       "    <tr>\n",
       "      <th>3</th>\n",
       "      <td>13748</td>\n",
       "      <td>948.25</td>\n",
       "      <td>95</td>\n",
       "      <td>28</td>\n",
       "      <td>0.017921</td>\n",
       "      <td>0</td>\n",
       "      <td>0</td>\n",
       "    </tr>\n",
       "    <tr>\n",
       "      <th>4</th>\n",
       "      <td>15100</td>\n",
       "      <td>876.00</td>\n",
       "      <td>333</td>\n",
       "      <td>3</td>\n",
       "      <td>0.073171</td>\n",
       "      <td>22</td>\n",
       "      <td>0</td>\n",
       "    </tr>\n",
       "  </tbody>\n",
       "</table>\n",
       "</div>"
      ],
      "text/plain": [
       "   customer_id  gross_revenue  recency_days  qtde_products  frequency  \\\n",
       "0        17850        5391.21           372            297  17.000000   \n",
       "1        13047        3232.59            56            171   0.028302   \n",
       "2        12583        6705.38             2            232   0.040323   \n",
       "3        13748         948.25            95             28   0.017921   \n",
       "4        15100         876.00           333              3   0.073171   \n",
       "\n",
       "   qtde_returns  cluster  \n",
       "0            40        7  \n",
       "1            35        4  \n",
       "2            50        6  \n",
       "3             0        0  \n",
       "4            22        0  "
      ]
     },
     "execution_count": 126,
     "metadata": {},
     "output_type": "execute_result"
    }
   ],
   "source": [
    "df10.head()"
   ]
  },
  {
   "cell_type": "markdown",
   "metadata": {},
   "source": [
    "# <font color='red'> 11.0. Deploy To Production </font>"
   ]
  },
  {
   "cell_type": "code",
   "execution_count": 127,
   "metadata": {
    "ExecuteTime": {
     "end_time": "2021-09-15T00:36:16.034741Z",
     "start_time": "2021-09-15T00:36:16.021141Z"
    }
   },
   "outputs": [
    {
     "data": {
      "text/plain": [
       "customer_id        int64\n",
       "gross_revenue    float64\n",
       "recency_days       int64\n",
       "qtde_products      int64\n",
       "frequency        float64\n",
       "qtde_returns       int64\n",
       "cluster            int64\n",
       "dtype: object"
      ]
     },
     "execution_count": 127,
     "metadata": {},
     "output_type": "execute_result"
    }
   ],
   "source": [
    "df92.dtypes"
   ]
  },
  {
   "cell_type": "code",
   "execution_count": 128,
   "metadata": {
    "ExecuteTime": {
     "end_time": "2021-09-15T00:36:28.051555Z",
     "start_time": "2021-09-15T00:36:28.045439Z"
    }
   },
   "outputs": [],
   "source": [
    "df92['recency_days'] = df92['recency_days'].astype( int )\n",
    "df92['qtde_products'] = df92['qtde_products'].astype( int )\n",
    "df92['qtde_returns'] = df92['qtde_returns'].astype( int )"
   ]
  },
  {
   "cell_type": "code",
   "execution_count": 133,
   "metadata": {
    "ExecuteTime": {
     "end_time": "2021-09-15T00:37:23.711329Z",
     "start_time": "2021-09-15T00:37:23.701033Z"
    }
   },
   "outputs": [
    {
     "data": {
      "text/plain": [
       "<sqlalchemy.engine.cursor.LegacyCursorResult at 0x15b34c1f0>"
      ]
     },
     "execution_count": 133,
     "metadata": {},
     "output_type": "execute_result"
    }
   ],
   "source": [
    "# database conection\n",
    "conn = create_engine( 'sqlite:///insiders_db.sqlite' )\n",
    "\n",
    "## drop table\n",
    "#query_drop_insiders = \"\"\"\n",
    "#    DROP TABLE insiders\n",
    "#\"\"\"\n",
    "\n",
    "# create table\n",
    "query_create_insiders = \"\"\"\n",
    "    CREATE TABLE insiders ( \n",
    "        customer_id   INTEGER,\n",
    "        gross_revenue REAL,\n",
    "        recency_days  INTEGER,\n",
    "        qtde_products INTEGER,\n",
    "        frequency     REAL,\n",
    "        qtde_returns  INTEGER,\n",
    "        cluster       INTEGER\n",
    "    )\n",
    "\"\"\"\n",
    "\n",
    "conn.execute( query_create_insiders )"
   ]
  },
  {
   "cell_type": "code",
   "execution_count": 135,
   "metadata": {
    "ExecuteTime": {
     "end_time": "2021-09-15T00:37:35.735105Z",
     "start_time": "2021-09-15T00:37:35.582689Z"
    }
   },
   "outputs": [],
   "source": [
    "# insert data into\n",
    "df92.to_sql( 'insiders', con=conn, if_exists='append', index=False )"
   ]
  },
  {
   "cell_type": "code",
   "execution_count": 137,
   "metadata": {
    "ExecuteTime": {
     "end_time": "2021-09-15T00:37:57.210555Z",
     "start_time": "2021-09-15T00:37:57.207606Z"
    }
   },
   "outputs": [],
   "source": [
    "## get query\n",
    "#query_collect = \"\"\"\n",
    "#    SELECT * from insiders\n",
    "#\"\"\"\n",
    "#\n",
    "#df = pd.read_sql_query( query_collect, conn )\n",
    "#df.head()"
   ]
  }
 ],
 "metadata": {
  "kernelspec": {
   "display_name": "Python 3",
   "language": "python",
   "name": "python3"
  },
  "language_info": {
   "codemirror_mode": {
    "name": "ipython",
    "version": 3
   },
   "file_extension": ".py",
   "mimetype": "text/x-python",
   "name": "python",
   "nbconvert_exporter": "python",
   "pygments_lexer": "ipython3",
   "version": "3.8.0"
  }
 },
 "nbformat": 4,
 "nbformat_minor": 4
}
