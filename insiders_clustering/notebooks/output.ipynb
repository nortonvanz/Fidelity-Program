{
 "cells": [
  {
   "cell_type": "markdown",
   "id": "published-weekend",
   "metadata": {
    "ExecuteTime": {
     "end_time": "2021-03-27T20:58:22.276780Z",
     "start_time": "2021-03-27T20:58:22.274533Z"
    },
    "papermill": {
     "duration": 0.058948,
     "end_time": "2021-08-29T23:52:14.776564",
     "exception": false,
     "start_time": "2021-08-29T23:52:14.717616",
     "status": "completed"
    },
    "tags": []
   },
   "source": [
    "# PA005: High Value Customer Identification"
   ]
  },
  {
   "cell_type": "markdown",
   "id": "graduate-madness",
   "metadata": {
    "papermill": {
     "duration": 0.035183,
     "end_time": "2021-08-29T23:52:14.846622",
     "exception": false,
     "start_time": "2021-08-29T23:52:14.811439",
     "status": "completed"
    },
    "tags": []
   },
   "source": [
    "# 0.0. Imports"
   ]
  },
  {
   "cell_type": "code",
   "execution_count": 2,
   "id": "alert-empty",
   "metadata": {
    "ExecuteTime": {
     "end_time": "2021-08-30T01:20:50.942633Z",
     "start_time": "2021-08-30T01:20:50.938748Z"
    }
   },
   "outputs": [],
   "source": [
    "import os\n",
    "import psycopg2 as pg\n",
    "\n",
    "import re\n",
    "import numpy   as np\n",
    "import pandas  as pd\n",
    "import seaborn as sns\n",
    "import sqlite3\n",
    "\n",
    "import umap.umap_ as umap\n",
    "\n",
    "from datetime   import datetime\n",
    "from matplotlib import pyplot as plt\n",
    "from sqlalchemy import create_engine\n",
    "\n",
    "from sklearn import cluster       as c\n",
    "from sklearn import metrics       as m\n",
    "from sklearn import ensemble      as en\n",
    "from sklearn import preprocessing as pp\n",
    "from sklearn import decomposition as dd\n",
    "from sklearn import manifold      as mn\n",
    "from sklearn import mixture       as mx\n",
    "\n",
    "from plotly import express as px"
   ]
  },
  {
   "cell_type": "markdown",
   "id": "purple-cycling",
   "metadata": {
    "papermill": {
     "duration": 0.039988,
     "end_time": "2021-08-29T23:52:28.960918",
     "exception": false,
     "start_time": "2021-08-29T23:52:28.920930",
     "status": "completed"
    },
    "tags": []
   },
   "source": [
    "## 0.1. Helper Functions"
   ]
  },
  {
   "cell_type": "markdown",
   "id": "invalid-hebrew",
   "metadata": {
    "papermill": {
     "duration": 0.039209,
     "end_time": "2021-08-29T23:52:29.049542",
     "exception": false,
     "start_time": "2021-08-29T23:52:29.010333",
     "status": "completed"
    },
    "tags": []
   },
   "source": [
    "## 0.2. Load dataset"
   ]
  },
  {
   "cell_type": "code",
   "execution_count": 9,
   "id": "foster-wells",
   "metadata": {
    "ExecuteTime": {
     "end_time": "2021-08-30T01:22:24.975008Z",
     "start_time": "2021-08-30T01:22:15.066740Z"
    },
    "execution": {
     "iopub.execute_input": "2021-08-29T23:52:29.141490Z",
     "iopub.status.busy": "2021-08-29T23:52:29.140955Z",
     "iopub.status.idle": "2021-08-29T23:52:29.866839Z",
     "shell.execute_reply": "2021-08-29T23:52:29.867427Z"
    },
    "papermill": {
     "duration": 0.773612,
     "end_time": "2021-08-29T23:52:29.867706",
     "exception": false,
     "start_time": "2021-08-29T23:52:29.094094",
     "status": "completed"
    },
    "tags": []
   },
   "outputs": [],
   "source": [
    "# load data\n",
    "#df_raw = pd.read_csv( '../data/raw/Ecommerce.csv' )\n",
    "df_raw = pd.read_csv( 's3://company-clientes/Ecommerce.csv', encoding='iso8859-1' )\n",
    "\n",
    "# drop extra column\n",
    "df_raw = df_raw.drop( columns=['Unnamed: 8'], axis=1 )"
   ]
  },
  {
   "cell_type": "code",
   "execution_count": 10,
   "id": "strong-twelve",
   "metadata": {
    "ExecuteTime": {
     "end_time": "2021-08-30T01:22:24.993279Z",
     "start_time": "2021-08-30T01:22:24.976882Z"
    }
   },
   "outputs": [
    {
     "data": {
      "text/html": [
       "<div>\n",
       "<style scoped>\n",
       "    .dataframe tbody tr th:only-of-type {\n",
       "        vertical-align: middle;\n",
       "    }\n",
       "\n",
       "    .dataframe tbody tr th {\n",
       "        vertical-align: top;\n",
       "    }\n",
       "\n",
       "    .dataframe thead th {\n",
       "        text-align: right;\n",
       "    }\n",
       "</style>\n",
       "<table border=\"1\" class=\"dataframe\">\n",
       "  <thead>\n",
       "    <tr style=\"text-align: right;\">\n",
       "      <th></th>\n",
       "      <th>InvoiceNo</th>\n",
       "      <th>StockCode</th>\n",
       "      <th>Description</th>\n",
       "      <th>Quantity</th>\n",
       "      <th>InvoiceDate</th>\n",
       "      <th>UnitPrice</th>\n",
       "      <th>CustomerID</th>\n",
       "      <th>Country</th>\n",
       "    </tr>\n",
       "  </thead>\n",
       "  <tbody>\n",
       "    <tr>\n",
       "      <th>0</th>\n",
       "      <td>536365</td>\n",
       "      <td>85123A</td>\n",
       "      <td>WHITE HANGING HEART T-LIGHT HOLDER</td>\n",
       "      <td>6</td>\n",
       "      <td>29-Nov-16</td>\n",
       "      <td>2.55</td>\n",
       "      <td>17850.0</td>\n",
       "      <td>United Kingdom</td>\n",
       "    </tr>\n",
       "    <tr>\n",
       "      <th>1</th>\n",
       "      <td>536365</td>\n",
       "      <td>71053</td>\n",
       "      <td>WHITE METAL LANTERN</td>\n",
       "      <td>6</td>\n",
       "      <td>29-Nov-16</td>\n",
       "      <td>3.39</td>\n",
       "      <td>17850.0</td>\n",
       "      <td>United Kingdom</td>\n",
       "    </tr>\n",
       "    <tr>\n",
       "      <th>2</th>\n",
       "      <td>536365</td>\n",
       "      <td>84406B</td>\n",
       "      <td>CREAM CUPID HEARTS COAT HANGER</td>\n",
       "      <td>8</td>\n",
       "      <td>29-Nov-16</td>\n",
       "      <td>2.75</td>\n",
       "      <td>17850.0</td>\n",
       "      <td>United Kingdom</td>\n",
       "    </tr>\n",
       "    <tr>\n",
       "      <th>3</th>\n",
       "      <td>536365</td>\n",
       "      <td>84029G</td>\n",
       "      <td>KNITTED UNION FLAG HOT WATER BOTTLE</td>\n",
       "      <td>6</td>\n",
       "      <td>29-Nov-16</td>\n",
       "      <td>3.39</td>\n",
       "      <td>17850.0</td>\n",
       "      <td>United Kingdom</td>\n",
       "    </tr>\n",
       "    <tr>\n",
       "      <th>4</th>\n",
       "      <td>536365</td>\n",
       "      <td>84029E</td>\n",
       "      <td>RED WOOLLY HOTTIE WHITE HEART.</td>\n",
       "      <td>6</td>\n",
       "      <td>29-Nov-16</td>\n",
       "      <td>3.39</td>\n",
       "      <td>17850.0</td>\n",
       "      <td>United Kingdom</td>\n",
       "    </tr>\n",
       "  </tbody>\n",
       "</table>\n",
       "</div>"
      ],
      "text/plain": [
       "  InvoiceNo StockCode                          Description  Quantity  \\\n",
       "0    536365    85123A   WHITE HANGING HEART T-LIGHT HOLDER         6   \n",
       "1    536365     71053                  WHITE METAL LANTERN         6   \n",
       "2    536365    84406B       CREAM CUPID HEARTS COAT HANGER         8   \n",
       "3    536365    84029G  KNITTED UNION FLAG HOT WATER BOTTLE         6   \n",
       "4    536365    84029E       RED WOOLLY HOTTIE WHITE HEART.         6   \n",
       "\n",
       "  InvoiceDate  UnitPrice  CustomerID         Country  \n",
       "0   29-Nov-16       2.55     17850.0  United Kingdom  \n",
       "1   29-Nov-16       3.39     17850.0  United Kingdom  \n",
       "2   29-Nov-16       2.75     17850.0  United Kingdom  \n",
       "3   29-Nov-16       3.39     17850.0  United Kingdom  \n",
       "4   29-Nov-16       3.39     17850.0  United Kingdom  "
      ]
     },
     "execution_count": 10,
     "metadata": {},
     "output_type": "execute_result"
    }
   ],
   "source": [
    "df_raw.head()"
   ]
  },
  {
   "cell_type": "markdown",
   "id": "fundamental-peninsula",
   "metadata": {
    "papermill": {
     "duration": 0.047536,
     "end_time": "2021-08-29T23:52:29.961340",
     "exception": false,
     "start_time": "2021-08-29T23:52:29.913804",
     "status": "completed"
    },
    "tags": []
   },
   "source": [
    "# <font color='red'> 1.0. Descrição dos dados </font>"
   ]
  },
  {
   "cell_type": "code",
   "execution_count": 3,
   "id": "progressive-stomach",
   "metadata": {
    "ExecuteTime": {
     "end_time": "2021-08-30T00:17:55.069778Z",
     "start_time": "2021-08-30T00:17:55.055709Z"
    },
    "execution": {
     "iopub.execute_input": "2021-08-29T23:52:30.052309Z",
     "iopub.status.busy": "2021-08-29T23:52:30.051182Z",
     "iopub.status.idle": "2021-08-29T23:52:30.066246Z",
     "shell.execute_reply": "2021-08-29T23:52:30.065477Z"
    },
    "papermill": {
     "duration": 0.060018,
     "end_time": "2021-08-29T23:52:30.066498",
     "exception": false,
     "start_time": "2021-08-29T23:52:30.006480",
     "status": "completed"
    },
    "tags": []
   },
   "outputs": [],
   "source": [
    "df1 = df_raw.copy()"
   ]
  },
  {
   "cell_type": "code",
   "execution_count": 4,
   "id": "indoor-litigation",
   "metadata": {
    "ExecuteTime": {
     "end_time": "2021-08-30T00:17:55.091003Z",
     "start_time": "2021-08-30T00:17:55.071665Z"
    },
    "execution": {
     "iopub.execute_input": "2021-08-29T23:52:30.150259Z",
     "iopub.status.busy": "2021-08-29T23:52:30.149332Z",
     "iopub.status.idle": "2021-08-29T23:52:30.167497Z",
     "shell.execute_reply": "2021-08-29T23:52:30.168551Z"
    },
    "papermill": {
     "duration": 0.059611,
     "end_time": "2021-08-29T23:52:30.168940",
     "exception": false,
     "start_time": "2021-08-29T23:52:30.109329",
     "status": "completed"
    },
    "tags": []
   },
   "outputs": [
    {
     "data": {
      "text/html": [
       "<div>\n",
       "<style scoped>\n",
       "    .dataframe tbody tr th:only-of-type {\n",
       "        vertical-align: middle;\n",
       "    }\n",
       "\n",
       "    .dataframe tbody tr th {\n",
       "        vertical-align: top;\n",
       "    }\n",
       "\n",
       "    .dataframe thead th {\n",
       "        text-align: right;\n",
       "    }\n",
       "</style>\n",
       "<table border=\"1\" class=\"dataframe\">\n",
       "  <thead>\n",
       "    <tr style=\"text-align: right;\">\n",
       "      <th></th>\n",
       "      <th>InvoiceNo</th>\n",
       "      <th>StockCode</th>\n",
       "      <th>Description</th>\n",
       "      <th>Quantity</th>\n",
       "      <th>InvoiceDate</th>\n",
       "      <th>UnitPrice</th>\n",
       "      <th>CustomerID</th>\n",
       "      <th>Country</th>\n",
       "    </tr>\n",
       "  </thead>\n",
       "  <tbody>\n",
       "    <tr>\n",
       "      <th>0</th>\n",
       "      <td>536365</td>\n",
       "      <td>85123A</td>\n",
       "      <td>WHITE HANGING HEART T-LIGHT HOLDER</td>\n",
       "      <td>6</td>\n",
       "      <td>29-Nov-16</td>\n",
       "      <td>2.55</td>\n",
       "      <td>17850.0</td>\n",
       "      <td>United Kingdom</td>\n",
       "    </tr>\n",
       "    <tr>\n",
       "      <th>1</th>\n",
       "      <td>536365</td>\n",
       "      <td>71053</td>\n",
       "      <td>WHITE METAL LANTERN</td>\n",
       "      <td>6</td>\n",
       "      <td>29-Nov-16</td>\n",
       "      <td>3.39</td>\n",
       "      <td>17850.0</td>\n",
       "      <td>United Kingdom</td>\n",
       "    </tr>\n",
       "    <tr>\n",
       "      <th>2</th>\n",
       "      <td>536365</td>\n",
       "      <td>84406B</td>\n",
       "      <td>CREAM CUPID HEARTS COAT HANGER</td>\n",
       "      <td>8</td>\n",
       "      <td>29-Nov-16</td>\n",
       "      <td>2.75</td>\n",
       "      <td>17850.0</td>\n",
       "      <td>United Kingdom</td>\n",
       "    </tr>\n",
       "    <tr>\n",
       "      <th>3</th>\n",
       "      <td>536365</td>\n",
       "      <td>84029G</td>\n",
       "      <td>KNITTED UNION FLAG HOT WATER BOTTLE</td>\n",
       "      <td>6</td>\n",
       "      <td>29-Nov-16</td>\n",
       "      <td>3.39</td>\n",
       "      <td>17850.0</td>\n",
       "      <td>United Kingdom</td>\n",
       "    </tr>\n",
       "    <tr>\n",
       "      <th>4</th>\n",
       "      <td>536365</td>\n",
       "      <td>84029E</td>\n",
       "      <td>RED WOOLLY HOTTIE WHITE HEART.</td>\n",
       "      <td>6</td>\n",
       "      <td>29-Nov-16</td>\n",
       "      <td>3.39</td>\n",
       "      <td>17850.0</td>\n",
       "      <td>United Kingdom</td>\n",
       "    </tr>\n",
       "  </tbody>\n",
       "</table>\n",
       "</div>"
      ],
      "text/plain": [
       "  InvoiceNo StockCode                          Description  Quantity  \\\n",
       "0    536365    85123A   WHITE HANGING HEART T-LIGHT HOLDER         6   \n",
       "1    536365     71053                  WHITE METAL LANTERN         6   \n",
       "2    536365    84406B       CREAM CUPID HEARTS COAT HANGER         8   \n",
       "3    536365    84029G  KNITTED UNION FLAG HOT WATER BOTTLE         6   \n",
       "4    536365    84029E       RED WOOLLY HOTTIE WHITE HEART.         6   \n",
       "\n",
       "  InvoiceDate  UnitPrice  CustomerID         Country  \n",
       "0   29-Nov-16       2.55     17850.0  United Kingdom  \n",
       "1   29-Nov-16       3.39     17850.0  United Kingdom  \n",
       "2   29-Nov-16       2.75     17850.0  United Kingdom  \n",
       "3   29-Nov-16       3.39     17850.0  United Kingdom  \n",
       "4   29-Nov-16       3.39     17850.0  United Kingdom  "
      ]
     },
     "execution_count": 4,
     "metadata": {},
     "output_type": "execute_result"
    }
   ],
   "source": [
    "df1.head()"
   ]
  },
  {
   "cell_type": "markdown",
   "id": "recorded-contest",
   "metadata": {
    "papermill": {
     "duration": 0.043607,
     "end_time": "2021-08-29T23:52:30.249346",
     "exception": false,
     "start_time": "2021-08-29T23:52:30.205739",
     "status": "completed"
    },
    "tags": []
   },
   "source": [
    "## 1.1. Rename columuns"
   ]
  },
  {
   "cell_type": "code",
   "execution_count": 5,
   "id": "strategic-reflection",
   "metadata": {
    "ExecuteTime": {
     "end_time": "2021-08-30T00:17:55.099096Z",
     "start_time": "2021-08-30T00:17:55.094592Z"
    },
    "execution": {
     "iopub.execute_input": "2021-08-29T23:52:30.337826Z",
     "iopub.status.busy": "2021-08-29T23:52:30.337243Z",
     "iopub.status.idle": "2021-08-29T23:52:30.339607Z",
     "shell.execute_reply": "2021-08-29T23:52:30.340325Z"
    },
    "papermill": {
     "duration": 0.045451,
     "end_time": "2021-08-29T23:52:30.340588",
     "exception": false,
     "start_time": "2021-08-29T23:52:30.295137",
     "status": "completed"
    },
    "tags": []
   },
   "outputs": [],
   "source": [
    "cols_new = ['invoice_no', 'stock_code', 'description', 'quantity', 'invoice_date', 'unit_price', 'customer_id', 'country']\n",
    "df1.columns = cols_new"
   ]
  },
  {
   "cell_type": "markdown",
   "id": "eleven-dryer",
   "metadata": {
    "papermill": {
     "duration": 0.040975,
     "end_time": "2021-08-29T23:52:30.427746",
     "exception": false,
     "start_time": "2021-08-29T23:52:30.386771",
     "status": "completed"
    },
    "tags": []
   },
   "source": [
    "## 1.2. Data dimensions"
   ]
  },
  {
   "cell_type": "code",
   "execution_count": 6,
   "id": "honest-sleep",
   "metadata": {
    "ExecuteTime": {
     "end_time": "2021-08-30T00:17:55.110089Z",
     "start_time": "2021-08-30T00:17:55.105799Z"
    },
    "execution": {
     "iopub.execute_input": "2021-08-29T23:52:30.521636Z",
     "iopub.status.busy": "2021-08-29T23:52:30.520408Z",
     "iopub.status.idle": "2021-08-29T23:52:30.526329Z",
     "shell.execute_reply": "2021-08-29T23:52:30.527110Z"
    },
    "papermill": {
     "duration": 0.056961,
     "end_time": "2021-08-29T23:52:30.527307",
     "exception": false,
     "start_time": "2021-08-29T23:52:30.470346",
     "status": "completed"
    },
    "tags": []
   },
   "outputs": [
    {
     "name": "stdout",
     "output_type": "stream",
     "text": [
      "Number of rows: 541909\n",
      "Number of cols: 8\n"
     ]
    }
   ],
   "source": [
    "print( 'Number of rows: {}'.format( df1.shape[0] ) )\n",
    "print( 'Number of cols: {}'.format( df1.shape[1] ) )"
   ]
  },
  {
   "cell_type": "markdown",
   "id": "discrete-interaction",
   "metadata": {
    "papermill": {
     "duration": 0.041061,
     "end_time": "2021-08-29T23:52:30.620232",
     "exception": false,
     "start_time": "2021-08-29T23:52:30.579171",
     "status": "completed"
    },
    "tags": []
   },
   "source": [
    "## 1.3. Data types"
   ]
  },
  {
   "cell_type": "code",
   "execution_count": 7,
   "id": "traditional-arrangement",
   "metadata": {
    "ExecuteTime": {
     "end_time": "2021-08-30T00:17:55.118005Z",
     "start_time": "2021-08-30T00:17:55.113327Z"
    },
    "execution": {
     "iopub.execute_input": "2021-08-29T23:52:30.709511Z",
     "iopub.status.busy": "2021-08-29T23:52:30.708497Z",
     "iopub.status.idle": "2021-08-29T23:52:30.715801Z",
     "shell.execute_reply": "2021-08-29T23:52:30.716196Z"
    },
    "papermill": {
     "duration": 0.057296,
     "end_time": "2021-08-29T23:52:30.716401",
     "exception": false,
     "start_time": "2021-08-29T23:52:30.659105",
     "status": "completed"
    },
    "tags": []
   },
   "outputs": [
    {
     "data": {
      "text/plain": [
       "invoice_no       object\n",
       "stock_code       object\n",
       "description      object\n",
       "quantity          int64\n",
       "invoice_date     object\n",
       "unit_price      float64\n",
       "customer_id     float64\n",
       "country          object\n",
       "dtype: object"
      ]
     },
     "execution_count": 7,
     "metadata": {},
     "output_type": "execute_result"
    }
   ],
   "source": [
    "df1.dtypes"
   ]
  },
  {
   "cell_type": "markdown",
   "id": "electoral-military",
   "metadata": {
    "papermill": {
     "duration": 0.042739,
     "end_time": "2021-08-29T23:52:30.802165",
     "exception": false,
     "start_time": "2021-08-29T23:52:30.759426",
     "status": "completed"
    },
    "tags": []
   },
   "source": [
    "## 1.4. Check NA"
   ]
  },
  {
   "cell_type": "code",
   "execution_count": 8,
   "id": "sitting-synthetic",
   "metadata": {
    "ExecuteTime": {
     "end_time": "2021-08-30T00:17:55.233545Z",
     "start_time": "2021-08-30T00:17:55.119570Z"
    },
    "execution": {
     "iopub.execute_input": "2021-08-29T23:52:30.982971Z",
     "iopub.status.busy": "2021-08-29T23:52:30.982296Z",
     "iopub.status.idle": "2021-08-29T23:52:30.993277Z",
     "shell.execute_reply": "2021-08-29T23:52:30.993838Z"
    },
    "papermill": {
     "duration": 0.152017,
     "end_time": "2021-08-29T23:52:30.994072",
     "exception": false,
     "start_time": "2021-08-29T23:52:30.842055",
     "status": "completed"
    },
    "tags": []
   },
   "outputs": [
    {
     "data": {
      "text/plain": [
       "invoice_no           0\n",
       "stock_code           0\n",
       "description       1454\n",
       "quantity             0\n",
       "invoice_date         0\n",
       "unit_price           0\n",
       "customer_id     135080\n",
       "country              0\n",
       "dtype: int64"
      ]
     },
     "execution_count": 8,
     "metadata": {},
     "output_type": "execute_result"
    }
   ],
   "source": [
    "df1.isna().sum()"
   ]
  },
  {
   "cell_type": "markdown",
   "id": "linear-distribution",
   "metadata": {
    "papermill": {
     "duration": 0.045084,
     "end_time": "2021-08-29T23:52:31.079608",
     "exception": false,
     "start_time": "2021-08-29T23:52:31.034524",
     "status": "completed"
    },
    "tags": []
   },
   "source": [
    "## 1.5. Replace NA"
   ]
  },
  {
   "cell_type": "code",
   "execution_count": 9,
   "id": "monetary-childhood",
   "metadata": {
    "ExecuteTime": {
     "end_time": "2021-08-30T00:17:55.292072Z",
     "start_time": "2021-08-30T00:17:55.236489Z"
    },
    "execution": {
     "iopub.execute_input": "2021-08-29T23:52:31.172168Z",
     "iopub.status.busy": "2021-08-29T23:52:31.171328Z",
     "iopub.status.idle": "2021-08-29T23:52:31.223149Z",
     "shell.execute_reply": "2021-08-29T23:52:31.223980Z"
    },
    "papermill": {
     "duration": 0.096307,
     "end_time": "2021-08-29T23:52:31.224328",
     "exception": false,
     "start_time": "2021-08-29T23:52:31.128021",
     "status": "completed"
    },
    "tags": []
   },
   "outputs": [],
   "source": [
    "df_missing = df1.loc[df1['customer_id'].isna(), :]\n",
    "df_not_missing = df1.loc[~df1['customer_id'].isna(), :]"
   ]
  },
  {
   "cell_type": "code",
   "execution_count": 10,
   "id": "developed-strap",
   "metadata": {
    "ExecuteTime": {
     "end_time": "2021-08-30T00:17:55.610681Z",
     "start_time": "2021-08-30T00:17:55.294416Z"
    },
    "execution": {
     "iopub.execute_input": "2021-08-29T23:52:31.321125Z",
     "iopub.status.busy": "2021-08-29T23:52:31.320347Z",
     "iopub.status.idle": "2021-08-29T23:52:31.649134Z",
     "shell.execute_reply": "2021-08-29T23:52:31.649728Z"
    },
    "papermill": {
     "duration": 0.378965,
     "end_time": "2021-08-29T23:52:31.650012",
     "exception": false,
     "start_time": "2021-08-29T23:52:31.271047",
     "status": "completed"
    },
    "tags": []
   },
   "outputs": [],
   "source": [
    "# create reference\n",
    "df_backup = pd.DataFrame( df_missing['invoice_no'].drop_duplicates() )\n",
    "df_backup['customer_id'] = np.arange( 19000, 19000+len( df_backup ), 1)\n",
    "\n",
    "# merge original with reference dataframe\n",
    "df1 = pd.merge( df1, df_backup, on='invoice_no', how='left' )\n",
    "\n",
    "# coalesce \n",
    "df1['customer_id'] = df1['customer_id_x'].combine_first( df1['customer_id_y'] )\n",
    "\n",
    "# drop extra columns\n",
    "df1 = df1.drop( columns=['customer_id_x', 'customer_id_y'], axis=1 )"
   ]
  },
  {
   "cell_type": "code",
   "execution_count": 11,
   "id": "specified-final",
   "metadata": {
    "ExecuteTime": {
     "end_time": "2021-08-30T00:17:55.711279Z",
     "start_time": "2021-08-30T00:17:55.612128Z"
    },
    "execution": {
     "iopub.execute_input": "2021-08-29T23:52:31.835483Z",
     "iopub.status.busy": "2021-08-29T23:52:31.834869Z",
     "iopub.status.idle": "2021-08-29T23:52:31.845087Z",
     "shell.execute_reply": "2021-08-29T23:52:31.845621Z"
    },
    "papermill": {
     "duration": 0.150943,
     "end_time": "2021-08-29T23:52:31.845826",
     "exception": false,
     "start_time": "2021-08-29T23:52:31.694883",
     "status": "completed"
    },
    "tags": []
   },
   "outputs": [
    {
     "data": {
      "text/plain": [
       "invoice_no         0\n",
       "stock_code         0\n",
       "description     1454\n",
       "quantity           0\n",
       "invoice_date       0\n",
       "unit_price         0\n",
       "country            0\n",
       "customer_id        0\n",
       "dtype: int64"
      ]
     },
     "execution_count": 11,
     "metadata": {},
     "output_type": "execute_result"
    }
   ],
   "source": [
    "df1.isna().sum()"
   ]
  },
  {
   "cell_type": "markdown",
   "id": "designing-contribution",
   "metadata": {
    "papermill": {
     "duration": 0.037836,
     "end_time": "2021-08-29T23:52:31.924816",
     "exception": false,
     "start_time": "2021-08-29T23:52:31.886980",
     "status": "completed"
    },
    "tags": []
   },
   "source": [
    "## 1.6. Change dtypes"
   ]
  },
  {
   "cell_type": "code",
   "execution_count": 12,
   "id": "provincial-attendance",
   "metadata": {
    "ExecuteTime": {
     "end_time": "2021-08-30T00:17:55.809674Z",
     "start_time": "2021-08-30T00:17:55.713102Z"
    },
    "execution": {
     "iopub.execute_input": "2021-08-29T23:52:32.023762Z",
     "iopub.status.busy": "2021-08-29T23:52:32.022910Z",
     "iopub.status.idle": "2021-08-29T23:52:32.098572Z",
     "shell.execute_reply": "2021-08-29T23:52:32.099354Z"
    },
    "papermill": {
     "duration": 0.134552,
     "end_time": "2021-08-29T23:52:32.099567",
     "exception": false,
     "start_time": "2021-08-29T23:52:31.965015",
     "status": "completed"
    },
    "tags": []
   },
   "outputs": [
    {
     "data": {
      "text/html": [
       "<div>\n",
       "<style scoped>\n",
       "    .dataframe tbody tr th:only-of-type {\n",
       "        vertical-align: middle;\n",
       "    }\n",
       "\n",
       "    .dataframe tbody tr th {\n",
       "        vertical-align: top;\n",
       "    }\n",
       "\n",
       "    .dataframe thead th {\n",
       "        text-align: right;\n",
       "    }\n",
       "</style>\n",
       "<table border=\"1\" class=\"dataframe\">\n",
       "  <thead>\n",
       "    <tr style=\"text-align: right;\">\n",
       "      <th></th>\n",
       "      <th>invoice_no</th>\n",
       "      <th>stock_code</th>\n",
       "      <th>description</th>\n",
       "      <th>quantity</th>\n",
       "      <th>invoice_date</th>\n",
       "      <th>unit_price</th>\n",
       "      <th>country</th>\n",
       "      <th>customer_id</th>\n",
       "    </tr>\n",
       "  </thead>\n",
       "  <tbody>\n",
       "    <tr>\n",
       "      <th>0</th>\n",
       "      <td>536365</td>\n",
       "      <td>85123A</td>\n",
       "      <td>WHITE HANGING HEART T-LIGHT HOLDER</td>\n",
       "      <td>6</td>\n",
       "      <td>2016-11-29</td>\n",
       "      <td>2.55</td>\n",
       "      <td>United Kingdom</td>\n",
       "      <td>17850</td>\n",
       "    </tr>\n",
       "    <tr>\n",
       "      <th>1</th>\n",
       "      <td>536365</td>\n",
       "      <td>71053</td>\n",
       "      <td>WHITE METAL LANTERN</td>\n",
       "      <td>6</td>\n",
       "      <td>2016-11-29</td>\n",
       "      <td>3.39</td>\n",
       "      <td>United Kingdom</td>\n",
       "      <td>17850</td>\n",
       "    </tr>\n",
       "    <tr>\n",
       "      <th>2</th>\n",
       "      <td>536365</td>\n",
       "      <td>84406B</td>\n",
       "      <td>CREAM CUPID HEARTS COAT HANGER</td>\n",
       "      <td>8</td>\n",
       "      <td>2016-11-29</td>\n",
       "      <td>2.75</td>\n",
       "      <td>United Kingdom</td>\n",
       "      <td>17850</td>\n",
       "    </tr>\n",
       "    <tr>\n",
       "      <th>3</th>\n",
       "      <td>536365</td>\n",
       "      <td>84029G</td>\n",
       "      <td>KNITTED UNION FLAG HOT WATER BOTTLE</td>\n",
       "      <td>6</td>\n",
       "      <td>2016-11-29</td>\n",
       "      <td>3.39</td>\n",
       "      <td>United Kingdom</td>\n",
       "      <td>17850</td>\n",
       "    </tr>\n",
       "    <tr>\n",
       "      <th>4</th>\n",
       "      <td>536365</td>\n",
       "      <td>84029E</td>\n",
       "      <td>RED WOOLLY HOTTIE WHITE HEART.</td>\n",
       "      <td>6</td>\n",
       "      <td>2016-11-29</td>\n",
       "      <td>3.39</td>\n",
       "      <td>United Kingdom</td>\n",
       "      <td>17850</td>\n",
       "    </tr>\n",
       "  </tbody>\n",
       "</table>\n",
       "</div>"
      ],
      "text/plain": [
       "  invoice_no stock_code                          description  quantity  \\\n",
       "0     536365     85123A   WHITE HANGING HEART T-LIGHT HOLDER         6   \n",
       "1     536365      71053                  WHITE METAL LANTERN         6   \n",
       "2     536365     84406B       CREAM CUPID HEARTS COAT HANGER         8   \n",
       "3     536365     84029G  KNITTED UNION FLAG HOT WATER BOTTLE         6   \n",
       "4     536365     84029E       RED WOOLLY HOTTIE WHITE HEART.         6   \n",
       "\n",
       "  invoice_date  unit_price         country  customer_id  \n",
       "0   2016-11-29        2.55  United Kingdom        17850  \n",
       "1   2016-11-29        3.39  United Kingdom        17850  \n",
       "2   2016-11-29        2.75  United Kingdom        17850  \n",
       "3   2016-11-29        3.39  United Kingdom        17850  \n",
       "4   2016-11-29        3.39  United Kingdom        17850  "
      ]
     },
     "execution_count": 12,
     "metadata": {},
     "output_type": "execute_result"
    }
   ],
   "source": [
    "# invoice date\n",
    "df1['invoice_date'] = pd.to_datetime( df1['invoice_date'], format='%d-%b-%y' )\n",
    "\n",
    "# customer id\n",
    "df1['customer_id'] = df1['customer_id'].astype( int )\n",
    "df1.head()"
   ]
  },
  {
   "cell_type": "code",
   "execution_count": 13,
   "id": "eleven-nightmare",
   "metadata": {
    "ExecuteTime": {
     "end_time": "2021-08-30T00:17:55.815856Z",
     "start_time": "2021-08-30T00:17:55.811379Z"
    },
    "execution": {
     "iopub.execute_input": "2021-08-29T23:52:32.194107Z",
     "iopub.status.busy": "2021-08-29T23:52:32.193273Z",
     "iopub.status.idle": "2021-08-29T23:52:32.196805Z",
     "shell.execute_reply": "2021-08-29T23:52:32.197402Z"
    },
    "papermill": {
     "duration": 0.053555,
     "end_time": "2021-08-29T23:52:32.197650",
     "exception": false,
     "start_time": "2021-08-29T23:52:32.144095",
     "status": "completed"
    },
    "tags": []
   },
   "outputs": [
    {
     "data": {
      "text/plain": [
       "invoice_no              object\n",
       "stock_code              object\n",
       "description             object\n",
       "quantity                 int64\n",
       "invoice_date    datetime64[ns]\n",
       "unit_price             float64\n",
       "country                 object\n",
       "customer_id              int64\n",
       "dtype: object"
      ]
     },
     "execution_count": 13,
     "metadata": {},
     "output_type": "execute_result"
    }
   ],
   "source": [
    "df1.dtypes"
   ]
  },
  {
   "cell_type": "markdown",
   "id": "nonprofit-effect",
   "metadata": {
    "papermill": {
     "duration": 0.044711,
     "end_time": "2021-08-29T23:52:32.287043",
     "exception": false,
     "start_time": "2021-08-29T23:52:32.242332",
     "status": "completed"
    },
    "tags": []
   },
   "source": [
    "## 1.7. Descriptive Statistics"
   ]
  },
  {
   "cell_type": "code",
   "execution_count": 14,
   "id": "amended-basement",
   "metadata": {
    "ExecuteTime": {
     "end_time": "2021-08-30T00:17:55.846698Z",
     "start_time": "2021-08-30T00:17:55.818237Z"
    },
    "execution": {
     "iopub.execute_input": "2021-08-29T23:52:32.386369Z",
     "iopub.status.busy": "2021-08-29T23:52:32.385723Z",
     "iopub.status.idle": "2021-08-29T23:52:32.413376Z",
     "shell.execute_reply": "2021-08-29T23:52:32.414150Z"
    },
    "papermill": {
     "duration": 0.080896,
     "end_time": "2021-08-29T23:52:32.414522",
     "exception": false,
     "start_time": "2021-08-29T23:52:32.333626",
     "status": "completed"
    },
    "tags": []
   },
   "outputs": [],
   "source": [
    "num_attributes = df1.select_dtypes( include=['int64', 'float64'] )\n",
    "cat_attributes = df1.select_dtypes( exclude=['int64', 'float64', 'datetime64[ns]'] )"
   ]
  },
  {
   "cell_type": "markdown",
   "id": "controversial-atmosphere",
   "metadata": {
    "papermill": {
     "duration": 0.049809,
     "end_time": "2021-08-29T23:52:32.513406",
     "exception": false,
     "start_time": "2021-08-29T23:52:32.463597",
     "status": "completed"
    },
    "tags": []
   },
   "source": [
    "### 1.7.1. Numerical Attributs"
   ]
  },
  {
   "cell_type": "code",
   "execution_count": 15,
   "id": "small-gnome",
   "metadata": {
    "ExecuteTime": {
     "end_time": "2021-08-30T00:17:55.949529Z",
     "start_time": "2021-08-30T00:17:55.849050Z"
    },
    "execution": {
     "iopub.execute_input": "2021-08-29T23:52:32.621855Z",
     "iopub.status.busy": "2021-08-29T23:52:32.620807Z",
     "iopub.status.idle": "2021-08-29T23:52:32.714391Z",
     "shell.execute_reply": "2021-08-29T23:52:32.717143Z"
    },
    "papermill": {
     "duration": 0.155874,
     "end_time": "2021-08-29T23:52:32.717476",
     "exception": false,
     "start_time": "2021-08-29T23:52:32.561602",
     "status": "completed"
    },
    "tags": []
   },
   "outputs": [
    {
     "data": {
      "text/html": [
       "<div>\n",
       "<style scoped>\n",
       "    .dataframe tbody tr th:only-of-type {\n",
       "        vertical-align: middle;\n",
       "    }\n",
       "\n",
       "    .dataframe tbody tr th {\n",
       "        vertical-align: top;\n",
       "    }\n",
       "\n",
       "    .dataframe thead th {\n",
       "        text-align: right;\n",
       "    }\n",
       "</style>\n",
       "<table border=\"1\" class=\"dataframe\">\n",
       "  <thead>\n",
       "    <tr style=\"text-align: right;\">\n",
       "      <th></th>\n",
       "      <th>attributes</th>\n",
       "      <th>min</th>\n",
       "      <th>max</th>\n",
       "      <th>range</th>\n",
       "      <th>mean</th>\n",
       "      <th>mediana</th>\n",
       "      <th>std</th>\n",
       "      <th>skew</th>\n",
       "      <th>kurtosis</th>\n",
       "    </tr>\n",
       "  </thead>\n",
       "  <tbody>\n",
       "    <tr>\n",
       "      <th>0</th>\n",
       "      <td>quantity</td>\n",
       "      <td>-80995.00</td>\n",
       "      <td>80995.0</td>\n",
       "      <td>161990.00</td>\n",
       "      <td>9.552250</td>\n",
       "      <td>3.00</td>\n",
       "      <td>218.080957</td>\n",
       "      <td>-0.264076</td>\n",
       "      <td>119769.160031</td>\n",
       "    </tr>\n",
       "    <tr>\n",
       "      <th>1</th>\n",
       "      <td>unit_price</td>\n",
       "      <td>-11062.06</td>\n",
       "      <td>38970.0</td>\n",
       "      <td>50032.06</td>\n",
       "      <td>4.611114</td>\n",
       "      <td>2.08</td>\n",
       "      <td>96.759764</td>\n",
       "      <td>186.506972</td>\n",
       "      <td>59005.719097</td>\n",
       "    </tr>\n",
       "    <tr>\n",
       "      <th>2</th>\n",
       "      <td>customer_id</td>\n",
       "      <td>12346.00</td>\n",
       "      <td>22709.0</td>\n",
       "      <td>10363.00</td>\n",
       "      <td>16688.840453</td>\n",
       "      <td>16249.00</td>\n",
       "      <td>2911.408666</td>\n",
       "      <td>0.487449</td>\n",
       "      <td>-0.804287</td>\n",
       "    </tr>\n",
       "  </tbody>\n",
       "</table>\n",
       "</div>"
      ],
      "text/plain": [
       "    attributes       min      max      range          mean   mediana  \\\n",
       "0     quantity -80995.00  80995.0  161990.00      9.552250      3.00   \n",
       "1   unit_price -11062.06  38970.0   50032.06      4.611114      2.08   \n",
       "2  customer_id  12346.00  22709.0   10363.00  16688.840453  16249.00   \n",
       "\n",
       "           std        skew       kurtosis  \n",
       "0   218.080957   -0.264076  119769.160031  \n",
       "1    96.759764  186.506972   59005.719097  \n",
       "2  2911.408666    0.487449      -0.804287  "
      ]
     },
     "execution_count": 15,
     "metadata": {},
     "output_type": "execute_result"
    }
   ],
   "source": [
    "# central tendency - mean, median\n",
    "ct1 = pd.DataFrame( num_attributes.apply( np.mean ) ).T\n",
    "ct2 = pd.DataFrame( num_attributes.apply( np.median ) ).T\n",
    "             \n",
    "# dispersion - desvio padrão, minimo, maximo, range, skew, kurtosis\n",
    "d1 = pd.DataFrame( num_attributes.apply( np.std ) ).T\n",
    "d2 = pd.DataFrame( num_attributes.apply( np.min ) ).T\n",
    "d3 = pd.DataFrame( num_attributes.apply( np.max ) ).T\n",
    "d4 = pd.DataFrame( num_attributes.apply( lambda x: x.max() - x.min() ) ).T\n",
    "d5 = pd.DataFrame( num_attributes.apply( lambda x: x.skew() ) ).T\n",
    "d6 = pd.DataFrame( num_attributes.apply( lambda x: x.kurtosis() ) ).T\n",
    "\n",
    "# concatenate\n",
    "m1 = pd.concat( [d2, d3, d4, ct1, ct2, d1, d5, d6] ).T.reset_index()\n",
    "m1.columns = ['attributes', 'min', 'max', 'range', 'mean', 'mediana', 'std', 'skew', 'kurtosis']\n",
    "m1"
   ]
  },
  {
   "cell_type": "markdown",
   "id": "divided-celebration",
   "metadata": {
    "papermill": {
     "duration": 0.057491,
     "end_time": "2021-08-29T23:52:32.830909",
     "exception": false,
     "start_time": "2021-08-29T23:52:32.773418",
     "status": "completed"
    },
    "tags": []
   },
   "source": [
    "### 1.7.2. Categorical Attributs"
   ]
  },
  {
   "cell_type": "markdown",
   "id": "suburban-indie",
   "metadata": {
    "papermill": {
     "duration": 0.051295,
     "end_time": "2021-08-29T23:52:32.934306",
     "exception": false,
     "start_time": "2021-08-29T23:52:32.883011",
     "status": "completed"
    },
    "tags": []
   },
   "source": [
    "#### Invoice No"
   ]
  },
  {
   "cell_type": "code",
   "execution_count": 16,
   "id": "monthly-middle",
   "metadata": {
    "ExecuteTime": {
     "end_time": "2021-08-30T00:17:56.613108Z",
     "start_time": "2021-08-30T00:17:55.951417Z"
    },
    "execution": {
     "iopub.execute_input": "2021-08-29T23:52:33.038736Z",
     "iopub.status.busy": "2021-08-29T23:52:33.038031Z",
     "iopub.status.idle": "2021-08-29T23:52:33.737999Z",
     "shell.execute_reply": "2021-08-29T23:52:33.738451Z"
    },
    "papermill": {
     "duration": 0.755087,
     "end_time": "2021-08-29T23:52:33.738688",
     "exception": false,
     "start_time": "2021-08-29T23:52:32.983601",
     "status": "completed"
    },
    "tags": []
   },
   "outputs": [
    {
     "name": "stdout",
     "output_type": "stream",
     "text": [
      "Total number of invoices: 9291\n",
      "Total number of negative quantity: 9288\n"
     ]
    }
   ],
   "source": [
    "# problema: Temos invoice com letras e numeros\n",
    "#df1['invoice_no'].astype( int )\n",
    "\n",
    "# identficacao: \n",
    "df_letter_invoices = df1.loc[df1['invoice_no'].apply( lambda x: bool( re.search( '[^0-9]+', x ) ) ), :]\n",
    "df_letter_invoices.head()\n",
    "\n",
    "print( 'Total number of invoices: {}'.format( len( df_letter_invoices ) ) )\n",
    "print( 'Total number of negative quantity: {}'.format( len( df_letter_invoices[ df_letter_invoices['quantity'] < 0 ] ) ) )"
   ]
  },
  {
   "cell_type": "markdown",
   "id": "loose-edition",
   "metadata": {
    "papermill": {
     "duration": 0.047097,
     "end_time": "2021-08-29T23:52:33.837859",
     "exception": false,
     "start_time": "2021-08-29T23:52:33.790762",
     "status": "completed"
    },
    "tags": []
   },
   "source": [
    "#### Stock Code"
   ]
  },
  {
   "cell_type": "code",
   "execution_count": 17,
   "id": "decreased-pennsylvania",
   "metadata": {
    "ExecuteTime": {
     "end_time": "2021-08-30T00:17:57.237261Z",
     "start_time": "2021-08-30T00:17:56.614705Z"
    },
    "execution": {
     "iopub.execute_input": "2021-08-29T23:52:33.937327Z",
     "iopub.status.busy": "2021-08-29T23:52:33.936781Z",
     "iopub.status.idle": "2021-08-29T23:52:34.595057Z",
     "shell.execute_reply": "2021-08-29T23:52:34.595477Z"
    },
    "papermill": {
     "duration": 0.708114,
     "end_time": "2021-08-29T23:52:34.595729",
     "exception": false,
     "start_time": "2021-08-29T23:52:33.887615",
     "status": "completed"
    },
    "tags": []
   },
   "outputs": [
    {
     "data": {
      "text/plain": [
       "array(['POST', 'D', 'DOT', 'M', 'S', 'AMAZONFEE', 'm', 'DCGSSBOY',\n",
       "       'DCGSSGIRL', 'PADS', 'B', 'CRUK'], dtype=object)"
      ]
     },
     "execution_count": 17,
     "metadata": {},
     "output_type": "execute_result"
    }
   ],
   "source": [
    "# check stock codes only characters\n",
    "df1.loc[df1['stock_code'].apply( lambda x: bool( re.search( '^[a-zA-Z]+$', x ) ) ), 'stock_code'].unique()\n",
    "\n",
    "# Acão:\n",
    "## 1. Remove stock_code in ['POST', 'D', 'M', 'PADS', 'DOT', 'CRUK']"
   ]
  },
  {
   "cell_type": "markdown",
   "id": "intellectual-wells",
   "metadata": {
    "papermill": {
     "duration": 0.051224,
     "end_time": "2021-08-29T23:52:34.699336",
     "exception": false,
     "start_time": "2021-08-29T23:52:34.648112",
     "status": "completed"
    },
    "tags": []
   },
   "source": [
    "#### Country"
   ]
  },
  {
   "cell_type": "code",
   "execution_count": 18,
   "id": "liable-episode",
   "metadata": {
    "ExecuteTime": {
     "end_time": "2021-08-30T00:17:57.301024Z",
     "start_time": "2021-08-30T00:17:57.238985Z"
    },
    "execution": {
     "iopub.execute_input": "2021-08-29T23:52:34.857990Z",
     "iopub.status.busy": "2021-08-29T23:52:34.854911Z",
     "iopub.status.idle": "2021-08-29T23:52:34.862193Z",
     "shell.execute_reply": "2021-08-29T23:52:34.862867Z"
    },
    "papermill": {
     "duration": 0.112295,
     "end_time": "2021-08-29T23:52:34.863153",
     "exception": false,
     "start_time": "2021-08-29T23:52:34.750858",
     "status": "completed"
    },
    "tags": []
   },
   "outputs": [
    {
     "data": {
      "text/plain": [
       "United Kingdom    0.914320\n",
       "Germany           0.017521\n",
       "France            0.015790\n",
       "EIRE              0.015124\n",
       "Spain             0.004674\n",
       "Name: country, dtype: float64"
      ]
     },
     "execution_count": 18,
     "metadata": {},
     "output_type": "execute_result"
    }
   ],
   "source": [
    "df1['country'].value_counts( normalize=True ).head()"
   ]
  },
  {
   "cell_type": "code",
   "execution_count": 19,
   "id": "spectacular-stock",
   "metadata": {
    "ExecuteTime": {
     "end_time": "2021-08-30T00:17:57.388853Z",
     "start_time": "2021-08-30T00:17:57.303374Z"
    },
    "execution": {
     "iopub.execute_input": "2021-08-29T23:52:34.964255Z",
     "iopub.status.busy": "2021-08-29T23:52:34.963385Z",
     "iopub.status.idle": "2021-08-29T23:52:35.041725Z",
     "shell.execute_reply": "2021-08-29T23:52:35.042214Z"
    },
    "papermill": {
     "duration": 0.136167,
     "end_time": "2021-08-29T23:52:35.042411",
     "exception": false,
     "start_time": "2021-08-29T23:52:34.906244",
     "status": "completed"
    },
    "tags": []
   },
   "outputs": [
    {
     "data": {
      "text/html": [
       "<div>\n",
       "<style scoped>\n",
       "    .dataframe tbody tr th:only-of-type {\n",
       "        vertical-align: middle;\n",
       "    }\n",
       "\n",
       "    .dataframe tbody tr th {\n",
       "        vertical-align: top;\n",
       "    }\n",
       "\n",
       "    .dataframe thead th {\n",
       "        text-align: right;\n",
       "    }\n",
       "</style>\n",
       "<table border=\"1\" class=\"dataframe\">\n",
       "  <thead>\n",
       "    <tr style=\"text-align: right;\">\n",
       "      <th></th>\n",
       "      <th>country</th>\n",
       "      <th>customer_id</th>\n",
       "    </tr>\n",
       "  </thead>\n",
       "  <tbody>\n",
       "    <tr>\n",
       "      <th>36</th>\n",
       "      <td>United Kingdom</td>\n",
       "      <td>7587</td>\n",
       "    </tr>\n",
       "    <tr>\n",
       "      <th>14</th>\n",
       "      <td>Germany</td>\n",
       "      <td>95</td>\n",
       "    </tr>\n",
       "    <tr>\n",
       "      <th>13</th>\n",
       "      <td>France</td>\n",
       "      <td>90</td>\n",
       "    </tr>\n",
       "    <tr>\n",
       "      <th>10</th>\n",
       "      <td>EIRE</td>\n",
       "      <td>44</td>\n",
       "    </tr>\n",
       "    <tr>\n",
       "      <th>31</th>\n",
       "      <td>Spain</td>\n",
       "      <td>31</td>\n",
       "    </tr>\n",
       "  </tbody>\n",
       "</table>\n",
       "</div>"
      ],
      "text/plain": [
       "           country  customer_id\n",
       "36  United Kingdom         7587\n",
       "14         Germany           95\n",
       "13          France           90\n",
       "10            EIRE           44\n",
       "31           Spain           31"
      ]
     },
     "execution_count": 19,
     "metadata": {},
     "output_type": "execute_result"
    }
   ],
   "source": [
    "df1[['customer_id', 'country']].drop_duplicates().groupby( 'country' ).count().reset_index().sort_values( 'customer_id', ascending=False).head()"
   ]
  },
  {
   "cell_type": "markdown",
   "id": "partial-breakfast",
   "metadata": {
    "papermill": {
     "duration": 0.046198,
     "end_time": "2021-08-29T23:52:35.144024",
     "exception": false,
     "start_time": "2021-08-29T23:52:35.097826",
     "status": "completed"
    },
    "tags": []
   },
   "source": [
    "# <font color='red'> 2.0. Filtragem de Variáveis </font>"
   ]
  },
  {
   "cell_type": "code",
   "execution_count": 20,
   "id": "scientific-technology",
   "metadata": {
    "ExecuteTime": {
     "end_time": "2021-08-30T00:17:57.418393Z",
     "start_time": "2021-08-30T00:17:57.391227Z"
    },
    "execution": {
     "iopub.execute_input": "2021-08-29T23:52:35.248807Z",
     "iopub.status.busy": "2021-08-29T23:52:35.245867Z",
     "iopub.status.idle": "2021-08-29T23:52:35.270434Z",
     "shell.execute_reply": "2021-08-29T23:52:35.271376Z"
    },
    "papermill": {
     "duration": 0.07865,
     "end_time": "2021-08-29T23:52:35.271691",
     "exception": false,
     "start_time": "2021-08-29T23:52:35.193041",
     "status": "completed"
    },
    "tags": []
   },
   "outputs": [],
   "source": [
    "df2 = df1.copy()"
   ]
  },
  {
   "cell_type": "code",
   "execution_count": 21,
   "id": "prostate-compiler",
   "metadata": {
    "ExecuteTime": {
     "end_time": "2021-08-30T00:17:57.731911Z",
     "start_time": "2021-08-30T00:17:57.425024Z"
    },
    "execution": {
     "iopub.execute_input": "2021-08-29T23:52:35.399334Z",
     "iopub.status.busy": "2021-08-29T23:52:35.398113Z",
     "iopub.status.idle": "2021-08-29T23:52:35.708745Z",
     "shell.execute_reply": "2021-08-29T23:52:35.709435Z"
    },
    "papermill": {
     "duration": 0.386013,
     "end_time": "2021-08-29T23:52:35.709780",
     "exception": false,
     "start_time": "2021-08-29T23:52:35.323767",
     "status": "completed"
    },
    "tags": []
   },
   "outputs": [],
   "source": [
    "# === Numerical attributes ====\n",
    "df2 = df2.loc[df2['unit_price'] >= 0.04, :]\n",
    "\n",
    "# === Categorical attributes ====\n",
    "df2 = df2[~df2['stock_code'].isin( ['POST', 'D', 'DOT', 'M', 'S', 'AMAZONFEE', 'm', 'DCGSSBOY', 'DCGSSGIRL', 'PADS', 'B', 'CRUK'] ) ]\n",
    "\n",
    "# description\n",
    "df2 = df2.drop( columns='description', axis=1 )\n",
    "\n",
    "# map -  \n",
    "df2 = df2[~df2['country'].isin( ['European Community', 'Unspecified' ] ) ]\n",
    "\n",
    "# bad users\n",
    "df2 = df2[~df2['customer_id'].isin( [16446] )]\n",
    "\n",
    "# quantity\n",
    "df2_returns = df2.loc[df1['quantity'] < 0, :]\n",
    "df2_purchases = df2.loc[df1['quantity'] >= 0, :]"
   ]
  },
  {
   "cell_type": "markdown",
   "id": "working-brake",
   "metadata": {
    "papermill": {
     "duration": 0.049277,
     "end_time": "2021-08-29T23:52:35.812523",
     "exception": false,
     "start_time": "2021-08-29T23:52:35.763246",
     "status": "completed"
    },
    "tags": []
   },
   "source": [
    "# <font color='red'> 3.0. Feature Engineering </font>"
   ]
  },
  {
   "cell_type": "code",
   "execution_count": 22,
   "id": "improved-beaver",
   "metadata": {
    "ExecuteTime": {
     "end_time": "2021-08-30T00:17:57.761790Z",
     "start_time": "2021-08-30T00:17:57.737493Z"
    },
    "execution": {
     "iopub.execute_input": "2021-08-29T23:52:35.930302Z",
     "iopub.status.busy": "2021-08-29T23:52:35.915357Z",
     "iopub.status.idle": "2021-08-29T23:52:35.941423Z",
     "shell.execute_reply": "2021-08-29T23:52:35.942043Z"
    },
    "papermill": {
     "duration": 0.080837,
     "end_time": "2021-08-29T23:52:35.942240",
     "exception": false,
     "start_time": "2021-08-29T23:52:35.861403",
     "status": "completed"
    },
    "tags": []
   },
   "outputs": [],
   "source": [
    "df3 = df2.copy()"
   ]
  },
  {
   "cell_type": "markdown",
   "id": "particular-holocaust",
   "metadata": {
    "papermill": {
     "duration": 0.054022,
     "end_time": "2021-08-29T23:52:36.052031",
     "exception": false,
     "start_time": "2021-08-29T23:52:35.998009",
     "status": "completed"
    },
    "tags": []
   },
   "source": [
    "## 3.1. Feature Creation"
   ]
  },
  {
   "cell_type": "code",
   "execution_count": 23,
   "id": "posted-karma",
   "metadata": {
    "ExecuteTime": {
     "end_time": "2021-08-30T00:17:57.802481Z",
     "start_time": "2021-08-30T00:17:57.763859Z"
    },
    "execution": {
     "iopub.execute_input": "2021-08-29T23:52:36.165722Z",
     "iopub.status.busy": "2021-08-29T23:52:36.164635Z",
     "iopub.status.idle": "2021-08-29T23:52:36.194599Z",
     "shell.execute_reply": "2021-08-29T23:52:36.195313Z"
    },
    "papermill": {
     "duration": 0.091721,
     "end_time": "2021-08-29T23:52:36.195582",
     "exception": false,
     "start_time": "2021-08-29T23:52:36.103861",
     "status": "completed"
    },
    "tags": []
   },
   "outputs": [],
   "source": [
    "# data reference\n",
    "df_ref = df3.drop( ['invoice_no', 'stock_code', 'quantity', 'invoice_date', 'unit_price', 'country'], axis=1 ).drop_duplicates( ignore_index=True )"
   ]
  },
  {
   "cell_type": "markdown",
   "id": "classified-romantic",
   "metadata": {
    "papermill": {
     "duration": 0.053694,
     "end_time": "2021-08-29T23:52:36.299144",
     "exception": false,
     "start_time": "2021-08-29T23:52:36.245450",
     "status": "completed"
    },
    "tags": []
   },
   "source": [
    "### 3.1.1. Gross Revenue"
   ]
  },
  {
   "cell_type": "code",
   "execution_count": 24,
   "id": "horizontal-nation",
   "metadata": {
    "ExecuteTime": {
     "end_time": "2021-08-30T00:17:57.873046Z",
     "start_time": "2021-08-30T00:17:57.805028Z"
    },
    "execution": {
     "iopub.execute_input": "2021-08-29T23:52:36.404401Z",
     "iopub.status.busy": "2021-08-29T23:52:36.403163Z",
     "iopub.status.idle": "2021-08-29T23:52:36.471398Z",
     "shell.execute_reply": "2021-08-29T23:52:36.472198Z"
    },
    "papermill": {
     "duration": 0.12614,
     "end_time": "2021-08-29T23:52:36.472595",
     "exception": false,
     "start_time": "2021-08-29T23:52:36.346455",
     "status": "completed"
    },
    "tags": []
   },
   "outputs": [
    {
     "name": "stderr",
     "output_type": "stream",
     "text": [
      "/Users/meigarom.lopes/.pyenv/versions/3.8.0/envs/pa005insidersclustering/lib/python3.8/site-packages/pandas/core/indexing.py:1597: SettingWithCopyWarning: \n",
      "A value is trying to be set on a copy of a slice from a DataFrame.\n",
      "Try using .loc[row_indexer,col_indexer] = value instead\n",
      "\n",
      "See the caveats in the documentation: https://pandas.pydata.org/pandas-docs/stable/user_guide/indexing.html#returning-a-view-versus-a-copy\n",
      "  self.obj[key] = value\n",
      "/Users/meigarom.lopes/.pyenv/versions/3.8.0/envs/pa005insidersclustering/lib/python3.8/site-packages/pandas/core/indexing.py:1676: SettingWithCopyWarning: \n",
      "A value is trying to be set on a copy of a slice from a DataFrame.\n",
      "Try using .loc[row_indexer,col_indexer] = value instead\n",
      "\n",
      "See the caveats in the documentation: https://pandas.pydata.org/pandas-docs/stable/user_guide/indexing.html#returning-a-view-versus-a-copy\n",
      "  self._setitem_single_column(ilocs[0], value, pi)\n"
     ]
    },
    {
     "data": {
      "text/plain": [
       "customer_id       0\n",
       "gross_revenue    91\n",
       "dtype: int64"
      ]
     },
     "execution_count": 24,
     "metadata": {},
     "output_type": "execute_result"
    }
   ],
   "source": [
    "# Gross Revenue ( Faturamento ) quantity * price\n",
    "df2_purchases.loc[:, 'gross_revenue'] = df2_purchases.loc[:, 'quantity'] * df2_purchases.loc[:, 'unit_price']\n",
    "\n",
    "# Monetary\n",
    "df_monetary = df2_purchases.loc[:, ['customer_id', 'gross_revenue']].groupby( 'customer_id' ).sum().reset_index()\n",
    "df_ref = pd.merge( df_ref, df_monetary, on='customer_id', how='left' )\n",
    "df_ref.isna().sum()"
   ]
  },
  {
   "cell_type": "markdown",
   "id": "centered-transport",
   "metadata": {
    "papermill": {
     "duration": 0.057895,
     "end_time": "2021-08-29T23:52:36.587510",
     "exception": false,
     "start_time": "2021-08-29T23:52:36.529615",
     "status": "completed"
    },
    "tags": []
   },
   "source": [
    "### 3.1.2. Recency - Day from last purchase"
   ]
  },
  {
   "cell_type": "code",
   "execution_count": 25,
   "id": "fifth-complaint",
   "metadata": {
    "ExecuteTime": {
     "end_time": "2021-08-30T00:17:57.925145Z",
     "start_time": "2021-08-30T00:17:57.874950Z"
    },
    "execution": {
     "iopub.execute_input": "2021-08-29T23:52:36.711607Z",
     "iopub.status.busy": "2021-08-29T23:52:36.710666Z",
     "iopub.status.idle": "2021-08-29T23:52:36.753802Z",
     "shell.execute_reply": "2021-08-29T23:52:36.754407Z"
    },
    "papermill": {
     "duration": 0.113484,
     "end_time": "2021-08-29T23:52:36.754687",
     "exception": false,
     "start_time": "2021-08-29T23:52:36.641203",
     "status": "completed"
    },
    "tags": []
   },
   "outputs": [
    {
     "data": {
      "text/plain": [
       "customer_id       0\n",
       "gross_revenue    91\n",
       "recency_days     91\n",
       "dtype: int64"
      ]
     },
     "execution_count": 25,
     "metadata": {},
     "output_type": "execute_result"
    }
   ],
   "source": [
    "# Recency - Last day purchase\n",
    "df_recency = df2_purchases.loc[:, ['customer_id', 'invoice_date']].groupby( 'customer_id' ).max().reset_index()\n",
    "df_recency['recency_days'] = ( df2['invoice_date'].max() - df_recency['invoice_date'] ).dt.days\n",
    "df_recency = df_recency[['customer_id', 'recency_days']].copy()\n",
    "df_ref = pd.merge( df_ref, df_recency, on='customer_id', how='left' )\n",
    "df_ref.isna().sum()"
   ]
  },
  {
   "cell_type": "markdown",
   "id": "constitutional-accuracy",
   "metadata": {
    "papermill": {
     "duration": 0.058499,
     "end_time": "2021-08-29T23:52:36.865927",
     "exception": false,
     "start_time": "2021-08-29T23:52:36.807428",
     "status": "completed"
    },
    "tags": []
   },
   "source": [
    "### 3.1.5. Quantity of products purchased "
   ]
  },
  {
   "cell_type": "code",
   "execution_count": 26,
   "id": "boxed-dylan",
   "metadata": {
    "ExecuteTime": {
     "end_time": "2021-08-30T00:17:58.003671Z",
     "start_time": "2021-08-30T00:17:57.927679Z"
    },
    "execution": {
     "iopub.execute_input": "2021-08-29T23:52:36.977788Z",
     "iopub.status.busy": "2021-08-29T23:52:36.977083Z",
     "iopub.status.idle": "2021-08-29T23:52:37.059739Z",
     "shell.execute_reply": "2021-08-29T23:52:37.060533Z"
    },
    "papermill": {
     "duration": 0.142993,
     "end_time": "2021-08-29T23:52:37.060814",
     "exception": false,
     "start_time": "2021-08-29T23:52:36.917821",
     "status": "completed"
    },
    "tags": []
   },
   "outputs": [
    {
     "data": {
      "text/plain": [
       "customer_id       0\n",
       "gross_revenue    91\n",
       "recency_days     91\n",
       "qtde_products    91\n",
       "dtype: int64"
      ]
     },
     "execution_count": 26,
     "metadata": {},
     "output_type": "execute_result"
    }
   ],
   "source": [
    "# Numero de produtos\n",
    "df_freq = (df2_purchases.loc[:, ['customer_id', 'stock_code']].groupby( 'customer_id' ).count()\n",
    "                                                           .reset_index()\n",
    "                                                           .rename( columns={'stock_code': 'qtde_products'} ) )\n",
    "df_ref = pd.merge( df_ref, df_freq, on='customer_id', how='left' )\n",
    "df_ref.isna().sum()"
   ]
  },
  {
   "cell_type": "markdown",
   "id": "comparable-alignment",
   "metadata": {
    "papermill": {
     "duration": 0.060234,
     "end_time": "2021-08-29T23:52:37.184923",
     "exception": false,
     "start_time": "2021-08-29T23:52:37.124689",
     "status": "completed"
    },
    "tags": []
   },
   "source": [
    "### 3.1.8. Frequency Purchase "
   ]
  },
  {
   "cell_type": "code",
   "execution_count": 27,
   "id": "dedicated-tuner",
   "metadata": {
    "ExecuteTime": {
     "end_time": "2021-08-30T00:17:59.263376Z",
     "start_time": "2021-08-30T00:17:58.006029Z"
    },
    "execution": {
     "iopub.execute_input": "2021-08-29T23:52:37.323530Z",
     "iopub.status.busy": "2021-08-29T23:52:37.322337Z",
     "iopub.status.idle": "2021-08-29T23:52:38.849197Z",
     "shell.execute_reply": "2021-08-29T23:52:38.849801Z"
    },
    "papermill": {
     "duration": 1.6071,
     "end_time": "2021-08-29T23:52:38.850070",
     "exception": false,
     "start_time": "2021-08-29T23:52:37.242970",
     "status": "completed"
    },
    "tags": []
   },
   "outputs": [
    {
     "data": {
      "text/plain": [
       "customer_id       0\n",
       "gross_revenue    91\n",
       "recency_days     91\n",
       "qtde_products    91\n",
       "frequency        91\n",
       "dtype: int64"
      ]
     },
     "execution_count": 27,
     "metadata": {},
     "output_type": "execute_result"
    }
   ],
   "source": [
    "df_aux = ( df2_purchases[['customer_id', 'invoice_no', 'invoice_date']].drop_duplicates()\n",
    "                                                             .groupby( 'customer_id')\n",
    "                                                             .agg( max_ = ( 'invoice_date', 'max' ), \n",
    "                                                                   min_ = ( 'invoice_date', 'min' ),\n",
    "                                                                   days_= ( 'invoice_date', lambda x: ( ( x.max() - x.min() ).days ) + 1 ),\n",
    "                                                                   buy_ = ( 'invoice_no', 'count' ) ) ).reset_index()\n",
    "# Frequency\n",
    "df_aux['frequency'] = df_aux[['buy_', 'days_']].apply( lambda x: x['buy_'] / x['days_'] if  x['days_'] != 0 else 0, axis=1 )\n",
    "\n",
    "# Merge\n",
    "df_ref = pd.merge( df_ref, df_aux[['customer_id', 'frequency']], on='customer_id', how='left' )\n",
    "\n",
    "df_ref.isna().sum()"
   ]
  },
  {
   "cell_type": "markdown",
   "id": "material-stage",
   "metadata": {
    "papermill": {
     "duration": 0.064336,
     "end_time": "2021-08-29T23:52:38.966652",
     "exception": false,
     "start_time": "2021-08-29T23:52:38.902316",
     "status": "completed"
    },
    "tags": []
   },
   "source": [
    "### 3.1.9. Number of Returns "
   ]
  },
  {
   "cell_type": "code",
   "execution_count": 28,
   "id": "bottom-joining",
   "metadata": {
    "ExecuteTime": {
     "end_time": "2021-08-30T00:17:59.278718Z",
     "start_time": "2021-08-30T00:17:59.264555Z"
    },
    "execution": {
     "iopub.execute_input": "2021-08-29T23:52:39.086987Z",
     "iopub.status.busy": "2021-08-29T23:52:39.086329Z",
     "iopub.status.idle": "2021-08-29T23:52:39.105949Z",
     "shell.execute_reply": "2021-08-29T23:52:39.104835Z"
    },
    "papermill": {
     "duration": 0.080152,
     "end_time": "2021-08-29T23:52:39.106275",
     "exception": false,
     "start_time": "2021-08-29T23:52:39.026123",
     "status": "completed"
    },
    "tags": []
   },
   "outputs": [
    {
     "data": {
      "text/plain": [
       "customer_id       0\n",
       "gross_revenue    91\n",
       "recency_days     91\n",
       "qtde_products    91\n",
       "frequency        91\n",
       "qtde_returns      0\n",
       "dtype: int64"
      ]
     },
     "execution_count": 28,
     "metadata": {},
     "output_type": "execute_result"
    }
   ],
   "source": [
    "# Number of Returns\n",
    "df_returns = df2_returns[['customer_id', 'quantity']].groupby( 'customer_id' ).sum().reset_index().rename( columns={'quantity':'qtde_returns'} )\n",
    "df_returns['qtde_returns'] = df_returns['qtde_returns'] * -1\n",
    "\n",
    "df_ref = pd.merge( df_ref, df_returns, how='left', on='customer_id' )\n",
    "df_ref.loc[df_ref['qtde_returns'].isna(), 'qtde_returns'] = 0\n",
    "\n",
    "df_ref.isna().sum()"
   ]
  },
  {
   "cell_type": "markdown",
   "id": "polished-disease",
   "metadata": {
    "papermill": {
     "duration": 0.066107,
     "end_time": "2021-08-29T23:52:39.229251",
     "exception": false,
     "start_time": "2021-08-29T23:52:39.163144",
     "status": "completed"
    },
    "tags": []
   },
   "source": [
    "# <font color='red'> 4.0. EDA ( Exploratory Data Analysis ) </font>"
   ]
  },
  {
   "cell_type": "code",
   "execution_count": 29,
   "id": "satisfied-traveler",
   "metadata": {
    "ExecuteTime": {
     "end_time": "2021-08-30T00:17:59.293548Z",
     "start_time": "2021-08-30T00:17:59.280826Z"
    },
    "execution": {
     "iopub.execute_input": "2021-08-29T23:52:39.352451Z",
     "iopub.status.busy": "2021-08-29T23:52:39.351421Z",
     "iopub.status.idle": "2021-08-29T23:52:39.365604Z",
     "shell.execute_reply": "2021-08-29T23:52:39.366301Z"
    },
    "papermill": {
     "duration": 0.080078,
     "end_time": "2021-08-29T23:52:39.366592",
     "exception": false,
     "start_time": "2021-08-29T23:52:39.286514",
     "status": "completed"
    },
    "tags": []
   },
   "outputs": [
    {
     "data": {
      "text/plain": [
       "customer_id      0\n",
       "gross_revenue    0\n",
       "recency_days     0\n",
       "qtde_products    0\n",
       "frequency        0\n",
       "qtde_returns     0\n",
       "dtype: int64"
      ]
     },
     "execution_count": 29,
     "metadata": {},
     "output_type": "execute_result"
    }
   ],
   "source": [
    "df4 = df_ref.dropna()\n",
    "df4.isna().sum()"
   ]
  },
  {
   "cell_type": "markdown",
   "id": "aquatic-peripheral",
   "metadata": {
    "papermill": {
     "duration": 0.056283,
     "end_time": "2021-08-29T23:52:39.484914",
     "exception": false,
     "start_time": "2021-08-29T23:52:39.428631",
     "status": "completed"
    },
    "tags": []
   },
   "source": [
    "## 4.3. Estudo do Espaço"
   ]
  },
  {
   "cell_type": "code",
   "execution_count": 30,
   "id": "significant-occasion",
   "metadata": {
    "ExecuteTime": {
     "end_time": "2021-08-30T00:17:59.302498Z",
     "start_time": "2021-08-30T00:17:59.296523Z"
    },
    "execution": {
     "iopub.execute_input": "2021-08-29T23:52:39.621787Z",
     "iopub.status.busy": "2021-08-29T23:52:39.620850Z",
     "iopub.status.idle": "2021-08-29T23:52:39.623980Z",
     "shell.execute_reply": "2021-08-29T23:52:39.624751Z"
    },
    "papermill": {
     "duration": 0.083261,
     "end_time": "2021-08-29T23:52:39.625088",
     "exception": false,
     "start_time": "2021-08-29T23:52:39.541827",
     "status": "completed"
    },
    "tags": []
   },
   "outputs": [],
   "source": [
    "# selected dataset\n",
    "cols_selected = ['customer_id', 'gross_revenue', 'recency_days', 'qtde_products', 'frequency', 'qtde_returns']\n",
    "df43 = df4[ cols_selected ].copy() "
   ]
  },
  {
   "cell_type": "code",
   "execution_count": 31,
   "id": "amazing-quantity",
   "metadata": {
    "ExecuteTime": {
     "end_time": "2021-08-30T00:17:59.336163Z",
     "start_time": "2021-08-30T00:17:59.305550Z"
    },
    "execution": {
     "iopub.execute_input": "2021-08-29T23:52:39.748587Z",
     "iopub.status.busy": "2021-08-29T23:52:39.745082Z",
     "iopub.status.idle": "2021-08-29T23:52:39.771272Z",
     "shell.execute_reply": "2021-08-29T23:52:39.770688Z"
    },
    "papermill": {
     "duration": 0.088676,
     "end_time": "2021-08-29T23:52:39.771600",
     "exception": false,
     "start_time": "2021-08-29T23:52:39.682924",
     "status": "completed"
    },
    "tags": []
   },
   "outputs": [],
   "source": [
    "mm = pp.MinMaxScaler()\n",
    "\n",
    "df43['gross_revenue'] = mm.fit_transform( df43[['gross_revenue']] )\n",
    "df43['recency_days']           = mm.fit_transform( df43[['recency_days']] )\n",
    "df43['qtde_products']          = mm.fit_transform( df43[['qtde_products']])\n",
    "df43['frequency']              = mm.fit_transform( df43[['frequency']])\n",
    "df43['qtde_returns']           = mm.fit_transform( df43[['qtde_returns']])\n",
    "\n",
    "X = df43.copy()"
   ]
  },
  {
   "cell_type": "code",
   "execution_count": 32,
   "id": "leading-painting",
   "metadata": {
    "ExecuteTime": {
     "end_time": "2021-08-30T00:17:59.344653Z",
     "start_time": "2021-08-30T00:17:59.339305Z"
    },
    "execution": {
     "iopub.execute_input": "2021-08-29T23:52:39.889501Z",
     "iopub.status.busy": "2021-08-29T23:52:39.888794Z",
     "iopub.status.idle": "2021-08-29T23:52:39.891376Z",
     "shell.execute_reply": "2021-08-29T23:52:39.891856Z"
    },
    "papermill": {
     "duration": 0.065194,
     "end_time": "2021-08-29T23:52:39.892105",
     "exception": false,
     "start_time": "2021-08-29T23:52:39.826911",
     "status": "completed"
    },
    "tags": []
   },
   "outputs": [
    {
     "data": {
      "text/plain": [
       "(5695, 6)"
      ]
     },
     "execution_count": 32,
     "metadata": {},
     "output_type": "execute_result"
    }
   ],
   "source": [
    "X.shape"
   ]
  },
  {
   "cell_type": "markdown",
   "id": "suitable-tribute",
   "metadata": {
    "papermill": {
     "duration": 0.054272,
     "end_time": "2021-08-29T23:52:40.007074",
     "exception": false,
     "start_time": "2021-08-29T23:52:39.952802",
     "status": "completed"
    },
    "tags": []
   },
   "source": [
    "### 4.3.4. Tree-Based Embedding"
   ]
  },
  {
   "cell_type": "code",
   "execution_count": 33,
   "id": "christian-continent",
   "metadata": {
    "ExecuteTime": {
     "end_time": "2021-08-30T00:18:00.816765Z",
     "start_time": "2021-08-30T00:17:59.348116Z"
    },
    "execution": {
     "iopub.execute_input": "2021-08-29T23:52:40.130470Z",
     "iopub.status.busy": "2021-08-29T23:52:40.129815Z",
     "iopub.status.idle": "2021-08-29T23:52:41.513620Z",
     "shell.execute_reply": "2021-08-29T23:52:41.514113Z"
    },
    "papermill": {
     "duration": 1.448689,
     "end_time": "2021-08-29T23:52:41.514346",
     "exception": false,
     "start_time": "2021-08-29T23:52:40.065657",
     "status": "completed"
    },
    "tags": []
   },
   "outputs": [],
   "source": [
    "# training dataset\n",
    "X = df43.drop( columns=['customer_id', 'gross_revenue'], axis=1 )\n",
    "y = df43['gross_revenue']\n",
    "\n",
    "# model definition\n",
    "rf_model = en.RandomForestRegressor( n_estimators=100, random_state=42 )\n",
    "\n",
    "# model training\n",
    "rf_model.fit( X, y )\n",
    "\n",
    "# Leaf \n",
    "df_leaf = pd.DataFrame( rf_model.apply( X ) )"
   ]
  },
  {
   "cell_type": "code",
   "execution_count": 34,
   "id": "linear-bunch",
   "metadata": {
    "ExecuteTime": {
     "end_time": "2021-08-30T00:18:23.705510Z",
     "start_time": "2021-08-30T00:18:00.818665Z"
    },
    "execution": {
     "iopub.execute_input": "2021-08-29T23:52:41.615743Z",
     "iopub.status.busy": "2021-08-29T23:52:41.614928Z",
     "iopub.status.idle": "2021-08-29T23:53:08.484839Z",
     "shell.execute_reply": "2021-08-29T23:53:08.484399Z"
    },
    "papermill": {
     "duration": 26.923405,
     "end_time": "2021-08-29T23:53:08.484992",
     "exception": false,
     "start_time": "2021-08-29T23:52:41.561587",
     "status": "completed"
    },
    "tags": []
   },
   "outputs": [
    {
     "name": "stderr",
     "output_type": "stream",
     "text": [
      "/Users/meigarom.lopes/.pyenv/versions/3.8.0/envs/pa005insidersclustering/lib/python3.8/site-packages/sklearn/manifold/_spectral_embedding.py:245: UserWarning: Graph is not fully connected, spectral embedding may not work as expected.\n",
      "  warnings.warn(\"Graph is not fully connected, spectral embedding\"\n"
     ]
    }
   ],
   "source": [
    "# Reduzer dimensionality\n",
    "reducer = umap.UMAP( random_state=42 )\n",
    "embedding = reducer.fit_transform( df_leaf )\n",
    "\n",
    "# embedding\n",
    "df_tree = pd.DataFrame()\n",
    "df_tree['embedding_x'] = embedding[:, 0]\n",
    "df_tree['embedding_y'] = embedding[:, 1]"
   ]
  },
  {
   "cell_type": "markdown",
   "id": "checked-pakistan",
   "metadata": {
    "papermill": {
     "duration": 0.055225,
     "end_time": "2021-08-29T23:53:08.594508",
     "exception": false,
     "start_time": "2021-08-29T23:53:08.539283",
     "status": "completed"
    },
    "tags": []
   },
   "source": [
    "# <font color='red'> 7.0. Hyperparameter Fine-Tunning </font>"
   ]
  },
  {
   "cell_type": "code",
   "execution_count": 35,
   "id": "further-liechtenstein",
   "metadata": {
    "ExecuteTime": {
     "end_time": "2021-08-30T00:18:23.710531Z",
     "start_time": "2021-08-30T00:18:23.707805Z"
    },
    "execution": {
     "iopub.execute_input": "2021-08-29T23:53:08.706273Z",
     "iopub.status.busy": "2021-08-29T23:53:08.705049Z",
     "iopub.status.idle": "2021-08-29T23:53:08.707915Z",
     "shell.execute_reply": "2021-08-29T23:53:08.708629Z"
    },
    "papermill": {
     "duration": 0.065833,
     "end_time": "2021-08-29T23:53:08.708991",
     "exception": false,
     "start_time": "2021-08-29T23:53:08.643158",
     "status": "completed"
    },
    "tags": []
   },
   "outputs": [],
   "source": [
    "X = df_tree.copy()"
   ]
  },
  {
   "cell_type": "markdown",
   "id": "honey-flexibility",
   "metadata": {
    "papermill": {
     "duration": 0.051575,
     "end_time": "2021-08-29T23:53:08.816776",
     "exception": false,
     "start_time": "2021-08-29T23:53:08.765201",
     "status": "completed"
    },
    "tags": []
   },
   "source": [
    "# <font color='red'> 8.0. Model Training </font>"
   ]
  },
  {
   "cell_type": "markdown",
   "id": "viral-philip",
   "metadata": {
    "papermill": {
     "duration": 0.057701,
     "end_time": "2021-08-29T23:53:08.926130",
     "exception": false,
     "start_time": "2021-08-29T23:53:08.868429",
     "status": "completed"
    },
    "tags": []
   },
   "source": [
    "## 8.1. Final model"
   ]
  },
  {
   "cell_type": "code",
   "execution_count": 36,
   "id": "macro-princess",
   "metadata": {
    "ExecuteTime": {
     "end_time": "2021-08-30T00:18:53.531139Z",
     "start_time": "2021-08-30T00:18:23.712552Z"
    },
    "execution": {
     "iopub.execute_input": "2021-08-29T23:53:09.036788Z",
     "iopub.status.busy": "2021-08-29T23:53:09.036185Z",
     "iopub.status.idle": "2021-08-29T23:53:38.913382Z",
     "shell.execute_reply": "2021-08-29T23:53:38.914209Z"
    },
    "papermill": {
     "duration": 29.934838,
     "end_time": "2021-08-29T23:53:38.914510",
     "exception": false,
     "start_time": "2021-08-29T23:53:08.979672",
     "status": "completed"
    },
    "tags": []
   },
   "outputs": [],
   "source": [
    "# model definition\n",
    "k = 8\n",
    "\n",
    "## model definition\n",
    "gmm_model = mx.GaussianMixture( n_components=k, n_init=300, random_state=32 )\n",
    "\n",
    "# model training\n",
    "gmm_model.fit( X )\n",
    "\n",
    "# model predict\n",
    "labels = gmm_model.predict( X )"
   ]
  },
  {
   "cell_type": "markdown",
   "id": "accurate-profit",
   "metadata": {
    "papermill": {
     "duration": 0.066257,
     "end_time": "2021-08-29T23:53:39.050152",
     "exception": false,
     "start_time": "2021-08-29T23:53:38.983895",
     "status": "completed"
    },
    "tags": []
   },
   "source": [
    "## 8.2. Cluster Validation"
   ]
  },
  {
   "cell_type": "code",
   "execution_count": 37,
   "id": "architectural-acquisition",
   "metadata": {
    "ExecuteTime": {
     "end_time": "2021-08-30T00:18:54.248346Z",
     "start_time": "2021-08-30T00:18:53.536788Z"
    },
    "execution": {
     "iopub.execute_input": "2021-08-29T23:53:39.180575Z",
     "iopub.status.busy": "2021-08-29T23:53:39.178874Z",
     "iopub.status.idle": "2021-08-29T23:53:39.811418Z",
     "shell.execute_reply": "2021-08-29T23:53:39.812042Z"
    },
    "papermill": {
     "duration": 0.703853,
     "end_time": "2021-08-29T23:53:39.812463",
     "exception": false,
     "start_time": "2021-08-29T23:53:39.108610",
     "status": "completed"
    },
    "tags": []
   },
   "outputs": [
    {
     "name": "stdout",
     "output_type": "stream",
     "text": [
      "SS value: 0.3700171709060669\n"
     ]
    }
   ],
   "source": [
    "## WSS ( Within-cluster sum of square)\n",
    "#print( 'WSS value: {}'.format( kmeans.inertia_ ) )\n",
    "\n",
    "## SS ( Silhouette Score )\n",
    "print( 'SS value: {}'.format( m.silhouette_score( X, labels, metric='euclidean' ) ) )"
   ]
  },
  {
   "cell_type": "markdown",
   "id": "welcome-forward",
   "metadata": {
    "papermill": {
     "duration": 0.060524,
     "end_time": "2021-08-29T23:53:39.940887",
     "exception": false,
     "start_time": "2021-08-29T23:53:39.880363",
     "status": "completed"
    },
    "tags": []
   },
   "source": [
    "# <font color='red'> 9.0. Cluster Analysis </font>"
   ]
  },
  {
   "cell_type": "code",
   "execution_count": 38,
   "id": "permanent-driver",
   "metadata": {
    "ExecuteTime": {
     "end_time": "2021-08-30T00:18:54.261254Z",
     "start_time": "2021-08-30T00:18:54.251856Z"
    },
    "execution": {
     "iopub.execute_input": "2021-08-29T23:53:40.059580Z",
     "iopub.status.busy": "2021-08-29T23:53:40.058575Z",
     "iopub.status.idle": "2021-08-29T23:53:40.061656Z",
     "shell.execute_reply": "2021-08-29T23:53:40.062514Z"
    },
    "papermill": {
     "duration": 0.058082,
     "end_time": "2021-08-29T23:53:40.062782",
     "exception": false,
     "start_time": "2021-08-29T23:53:40.004700",
     "status": "completed"
    },
    "tags": []
   },
   "outputs": [],
   "source": [
    "df9 = X.copy()\n",
    "df9['cluster'] = labels"
   ]
  },
  {
   "cell_type": "markdown",
   "id": "honest-dodge",
   "metadata": {
    "papermill": {
     "duration": 0.052785,
     "end_time": "2021-08-29T23:53:40.166283",
     "exception": false,
     "start_time": "2021-08-29T23:53:40.113498",
     "status": "completed"
    },
    "tags": []
   },
   "source": [
    "## 9.4. Cluster Profile"
   ]
  },
  {
   "cell_type": "code",
   "execution_count": 39,
   "id": "accompanied-caribbean",
   "metadata": {
    "ExecuteTime": {
     "end_time": "2021-08-30T00:18:54.280594Z",
     "start_time": "2021-08-30T00:18:54.265465Z"
    },
    "execution": {
     "iopub.execute_input": "2021-08-29T23:53:40.303965Z",
     "iopub.status.busy": "2021-08-29T23:53:40.291152Z",
     "iopub.status.idle": "2021-08-29T23:53:40.307886Z",
     "shell.execute_reply": "2021-08-29T23:53:40.308770Z"
    },
    "papermill": {
     "duration": 0.085719,
     "end_time": "2021-08-29T23:53:40.309095",
     "exception": false,
     "start_time": "2021-08-29T23:53:40.223376",
     "status": "completed"
    },
    "tags": []
   },
   "outputs": [
    {
     "data": {
      "text/html": [
       "<div>\n",
       "<style scoped>\n",
       "    .dataframe tbody tr th:only-of-type {\n",
       "        vertical-align: middle;\n",
       "    }\n",
       "\n",
       "    .dataframe tbody tr th {\n",
       "        vertical-align: top;\n",
       "    }\n",
       "\n",
       "    .dataframe thead th {\n",
       "        text-align: right;\n",
       "    }\n",
       "</style>\n",
       "<table border=\"1\" class=\"dataframe\">\n",
       "  <thead>\n",
       "    <tr style=\"text-align: right;\">\n",
       "      <th></th>\n",
       "      <th>customer_id</th>\n",
       "      <th>gross_revenue</th>\n",
       "      <th>recency_days</th>\n",
       "      <th>qtde_products</th>\n",
       "      <th>frequency</th>\n",
       "      <th>qtde_returns</th>\n",
       "      <th>cluster</th>\n",
       "    </tr>\n",
       "  </thead>\n",
       "  <tbody>\n",
       "    <tr>\n",
       "      <th>0</th>\n",
       "      <td>17850</td>\n",
       "      <td>5391.21</td>\n",
       "      <td>372.0</td>\n",
       "      <td>297.0</td>\n",
       "      <td>17.000000</td>\n",
       "      <td>40.0</td>\n",
       "      <td>6</td>\n",
       "    </tr>\n",
       "    <tr>\n",
       "      <th>1</th>\n",
       "      <td>13047</td>\n",
       "      <td>3232.59</td>\n",
       "      <td>56.0</td>\n",
       "      <td>171.0</td>\n",
       "      <td>0.028302</td>\n",
       "      <td>35.0</td>\n",
       "      <td>6</td>\n",
       "    </tr>\n",
       "    <tr>\n",
       "      <th>2</th>\n",
       "      <td>12583</td>\n",
       "      <td>6705.38</td>\n",
       "      <td>2.0</td>\n",
       "      <td>232.0</td>\n",
       "      <td>0.040323</td>\n",
       "      <td>50.0</td>\n",
       "      <td>6</td>\n",
       "    </tr>\n",
       "    <tr>\n",
       "      <th>3</th>\n",
       "      <td>13748</td>\n",
       "      <td>948.25</td>\n",
       "      <td>95.0</td>\n",
       "      <td>28.0</td>\n",
       "      <td>0.017921</td>\n",
       "      <td>0.0</td>\n",
       "      <td>3</td>\n",
       "    </tr>\n",
       "    <tr>\n",
       "      <th>4</th>\n",
       "      <td>15100</td>\n",
       "      <td>876.00</td>\n",
       "      <td>333.0</td>\n",
       "      <td>3.0</td>\n",
       "      <td>0.073171</td>\n",
       "      <td>22.0</td>\n",
       "      <td>0</td>\n",
       "    </tr>\n",
       "  </tbody>\n",
       "</table>\n",
       "</div>"
      ],
      "text/plain": [
       "   customer_id  gross_revenue  recency_days  qtde_products  frequency  \\\n",
       "0        17850        5391.21         372.0          297.0  17.000000   \n",
       "1        13047        3232.59          56.0          171.0   0.028302   \n",
       "2        12583        6705.38           2.0          232.0   0.040323   \n",
       "3        13748         948.25          95.0           28.0   0.017921   \n",
       "4        15100         876.00         333.0            3.0   0.073171   \n",
       "\n",
       "   qtde_returns  cluster  \n",
       "0          40.0        6  \n",
       "1          35.0        6  \n",
       "2          50.0        6  \n",
       "3           0.0        3  \n",
       "4          22.0        0  "
      ]
     },
     "execution_count": 39,
     "metadata": {},
     "output_type": "execute_result"
    }
   ],
   "source": [
    "df92 = df4[ cols_selected ].copy()\n",
    "df92['cluster'] = labels\n",
    "df92.head()"
   ]
  },
  {
   "cell_type": "code",
   "execution_count": 40,
   "id": "seventh-shade",
   "metadata": {
    "ExecuteTime": {
     "end_time": "2021-08-30T00:18:54.361818Z",
     "start_time": "2021-08-30T00:18:54.284531Z"
    },
    "execution": {
     "iopub.execute_input": "2021-08-29T23:53:40.440422Z",
     "iopub.status.busy": "2021-08-29T23:53:40.439783Z",
     "iopub.status.idle": "2021-08-29T23:53:40.490500Z",
     "shell.execute_reply": "2021-08-29T23:53:40.491070Z"
    },
    "papermill": {
     "duration": 0.123598,
     "end_time": "2021-08-29T23:53:40.491288",
     "exception": false,
     "start_time": "2021-08-29T23:53:40.367690",
     "status": "completed"
    },
    "tags": []
   },
   "outputs": [
    {
     "data": {
      "text/html": [
       "<div>\n",
       "<style scoped>\n",
       "    .dataframe tbody tr th:only-of-type {\n",
       "        vertical-align: middle;\n",
       "    }\n",
       "\n",
       "    .dataframe tbody tr th {\n",
       "        vertical-align: top;\n",
       "    }\n",
       "\n",
       "    .dataframe thead th {\n",
       "        text-align: right;\n",
       "    }\n",
       "</style>\n",
       "<table border=\"1\" class=\"dataframe\">\n",
       "  <thead>\n",
       "    <tr style=\"text-align: right;\">\n",
       "      <th></th>\n",
       "      <th>cluster</th>\n",
       "      <th>customer_id</th>\n",
       "      <th>perc_customer</th>\n",
       "      <th>gross_revenue</th>\n",
       "      <th>recency_days</th>\n",
       "      <th>qtde_products</th>\n",
       "      <th>frequency</th>\n",
       "      <th>qtde_returns</th>\n",
       "    </tr>\n",
       "  </thead>\n",
       "  <tbody>\n",
       "    <tr>\n",
       "      <th>6</th>\n",
       "      <td>6</td>\n",
       "      <td>935</td>\n",
       "      <td>16.417910</td>\n",
       "      <td>5946.998695</td>\n",
       "      <td>62.309091</td>\n",
       "      <td>320.253476</td>\n",
       "      <td>0.288174</td>\n",
       "      <td>164.859893</td>\n",
       "    </tr>\n",
       "    <tr>\n",
       "      <th>2</th>\n",
       "      <td>2</td>\n",
       "      <td>788</td>\n",
       "      <td>13.836699</td>\n",
       "      <td>1907.652652</td>\n",
       "      <td>97.013959</td>\n",
       "      <td>123.172589</td>\n",
       "      <td>0.433028</td>\n",
       "      <td>2.615482</td>\n",
       "    </tr>\n",
       "    <tr>\n",
       "      <th>5</th>\n",
       "      <td>5</td>\n",
       "      <td>471</td>\n",
       "      <td>8.270413</td>\n",
       "      <td>1317.878025</td>\n",
       "      <td>118.093418</td>\n",
       "      <td>86.825902</td>\n",
       "      <td>0.644902</td>\n",
       "      <td>8.167728</td>\n",
       "    </tr>\n",
       "    <tr>\n",
       "      <th>4</th>\n",
       "      <td>4</td>\n",
       "      <td>296</td>\n",
       "      <td>5.197542</td>\n",
       "      <td>1175.802770</td>\n",
       "      <td>60.358108</td>\n",
       "      <td>56.165541</td>\n",
       "      <td>0.027409</td>\n",
       "      <td>11.016892</td>\n",
       "    </tr>\n",
       "    <tr>\n",
       "      <th>7</th>\n",
       "      <td>7</td>\n",
       "      <td>228</td>\n",
       "      <td>4.003512</td>\n",
       "      <td>982.970833</td>\n",
       "      <td>70.657895</td>\n",
       "      <td>37.135965</td>\n",
       "      <td>0.027224</td>\n",
       "      <td>5.543860</td>\n",
       "    </tr>\n",
       "    <tr>\n",
       "      <th>3</th>\n",
       "      <td>3</td>\n",
       "      <td>379</td>\n",
       "      <td>6.654960</td>\n",
       "      <td>711.241847</td>\n",
       "      <td>57.448549</td>\n",
       "      <td>20.232190</td>\n",
       "      <td>0.045183</td>\n",
       "      <td>1.897098</td>\n",
       "    </tr>\n",
       "    <tr>\n",
       "      <th>1</th>\n",
       "      <td>1</td>\n",
       "      <td>1415</td>\n",
       "      <td>24.846356</td>\n",
       "      <td>685.738254</td>\n",
       "      <td>161.917314</td>\n",
       "      <td>22.177385</td>\n",
       "      <td>0.958582</td>\n",
       "      <td>4.196466</td>\n",
       "    </tr>\n",
       "    <tr>\n",
       "      <th>0</th>\n",
       "      <td>0</td>\n",
       "      <td>1183</td>\n",
       "      <td>20.772608</td>\n",
       "      <td>514.140719</td>\n",
       "      <td>161.211327</td>\n",
       "      <td>21.874894</td>\n",
       "      <td>0.688588</td>\n",
       "      <td>5.781065</td>\n",
       "    </tr>\n",
       "  </tbody>\n",
       "</table>\n",
       "</div>"
      ],
      "text/plain": [
       "   cluster  customer_id  perc_customer  gross_revenue  recency_days  \\\n",
       "6        6          935      16.417910    5946.998695     62.309091   \n",
       "2        2          788      13.836699    1907.652652     97.013959   \n",
       "5        5          471       8.270413    1317.878025    118.093418   \n",
       "4        4          296       5.197542    1175.802770     60.358108   \n",
       "7        7          228       4.003512     982.970833     70.657895   \n",
       "3        3          379       6.654960     711.241847     57.448549   \n",
       "1        1         1415      24.846356     685.738254    161.917314   \n",
       "0        0         1183      20.772608     514.140719    161.211327   \n",
       "\n",
       "   qtde_products  frequency  qtde_returns  \n",
       "6     320.253476   0.288174    164.859893  \n",
       "2     123.172589   0.433028      2.615482  \n",
       "5      86.825902   0.644902      8.167728  \n",
       "4      56.165541   0.027409     11.016892  \n",
       "7      37.135965   0.027224      5.543860  \n",
       "3      20.232190   0.045183      1.897098  \n",
       "1      22.177385   0.958582      4.196466  \n",
       "0      21.874894   0.688588      5.781065  "
      ]
     },
     "execution_count": 40,
     "metadata": {},
     "output_type": "execute_result"
    }
   ],
   "source": [
    "# Number of customer\n",
    "df_cluster = df92[['customer_id', 'cluster']].groupby( 'cluster' ).count().reset_index()\n",
    "df_cluster['perc_customer'] = 100*( df_cluster['customer_id'] / df_cluster['customer_id'].sum() )\n",
    "\n",
    "# Avg Gross revenue\n",
    "df_avg_gross_revenue = df92[['gross_revenue', 'cluster']].groupby( 'cluster' ).mean().reset_index()\n",
    "df_cluster = pd.merge( df_cluster, df_avg_gross_revenue, how='inner', on='cluster' )\n",
    "\n",
    "# Avg recency days\n",
    "df_avg_recency_days = df92[['recency_days', 'cluster']].groupby( 'cluster' ).mean().reset_index()\n",
    "df_cluster = pd.merge( df_cluster, df_avg_recency_days, how='inner', on='cluster' )\n",
    "\n",
    "# Avg invoice_no\n",
    "df_qtde_products = df92[['qtde_products', 'cluster']].groupby( 'cluster' ).mean().reset_index()\n",
    "df_cluster = pd.merge( df_cluster, df_qtde_products, how='inner', on='cluster' )\n",
    "\n",
    "# Frequency\n",
    "df_frequency = df92[['frequency', 'cluster']].groupby( 'cluster' ).mean().reset_index()\n",
    "df_cluster = pd.merge( df_cluster, df_frequency, how='inner', on='cluster' )\n",
    "\n",
    "# Returns\n",
    "df_qtde_returns = df92[['qtde_returns', 'cluster']].groupby( 'cluster' ).mean().reset_index()\n",
    "df_cluster = pd.merge( df_cluster, df_qtde_returns, how='inner', on='cluster' )\n",
    "\n",
    "df_cluster.sort_values( 'gross_revenue', ascending=False )"
   ]
  },
  {
   "cell_type": "code",
   "execution_count": 41,
   "id": "sudden-ceremony",
   "metadata": {
    "ExecuteTime": {
     "end_time": "2021-08-30T00:18:54.365720Z",
     "start_time": "2021-08-30T00:18:54.363667Z"
    },
    "execution": {
     "iopub.execute_input": "2021-08-29T23:53:40.619736Z",
     "iopub.status.busy": "2021-08-29T23:53:40.618908Z",
     "iopub.status.idle": "2021-08-29T23:53:40.621499Z",
     "shell.execute_reply": "2021-08-29T23:53:40.622084Z"
    },
    "papermill": {
     "duration": 0.072846,
     "end_time": "2021-08-29T23:53:40.622386",
     "exception": false,
     "start_time": "2021-08-29T23:53:40.549540",
     "status": "completed"
    },
    "tags": []
   },
   "outputs": [],
   "source": [
    "# 3 Cluster Insiders\n",
    "# 4 Cluster More Products\n",
    "# 0 Cluster Spend Money \n",
    "# 2 Cluster Even More Products\n",
    "# 5 Cluster Less Days\n",
    "# 7 Cluster Less 1k\n",
    "# 6 Cluster Stop Returners\n",
    "# 1 Cluster More Buy"
   ]
  },
  {
   "cell_type": "markdown",
   "id": "northern-inclusion",
   "metadata": {
    "papermill": {
     "duration": 0.061099,
     "end_time": "2021-08-29T23:53:40.741264",
     "exception": false,
     "start_time": "2021-08-29T23:53:40.680165",
     "status": "completed"
    },
    "tags": []
   },
   "source": [
    "# <font color='red'> 10.0. Análise Exploratória de Dados </font>"
   ]
  },
  {
   "cell_type": "code",
   "execution_count": 42,
   "id": "extended-contrast",
   "metadata": {
    "ExecuteTime": {
     "end_time": "2021-08-30T00:18:54.373502Z",
     "start_time": "2021-08-30T00:18:54.367601Z"
    },
    "execution": {
     "iopub.execute_input": "2021-08-29T23:53:40.872876Z",
     "iopub.status.busy": "2021-08-29T23:53:40.871708Z",
     "iopub.status.idle": "2021-08-29T23:53:40.879549Z",
     "shell.execute_reply": "2021-08-29T23:53:40.880114Z"
    },
    "papermill": {
     "duration": 0.076208,
     "end_time": "2021-08-29T23:53:40.880327",
     "exception": false,
     "start_time": "2021-08-29T23:53:40.804119",
     "status": "completed"
    },
    "tags": []
   },
   "outputs": [],
   "source": [
    "df10 = df92.copy()\n",
    "\n",
    "# fix type of columns\n",
    "df10['recency_days'] = df10['recency_days'].astype( int )\n",
    "df10['qtde_products'] = df10['qtde_products'].astype( int )\n",
    "df10['qtde_returns'] = df10['qtde_returns'].astype( int )\n",
    "\n",
    "# add timestamp\n",
    "df10['created_date'] = datetime.now().strftime( '%Y-%m-%d %H:%M:%S' )"
   ]
  },
  {
   "cell_type": "code",
   "execution_count": 43,
   "id": "irish-bibliography",
   "metadata": {
    "ExecuteTime": {
     "end_time": "2021-08-30T00:18:54.380091Z",
     "start_time": "2021-08-30T00:18:54.375266Z"
    },
    "execution": {
     "iopub.execute_input": "2021-08-29T23:53:41.008180Z",
     "iopub.status.busy": "2021-08-29T23:53:41.007377Z",
     "iopub.status.idle": "2021-08-29T23:53:41.012912Z",
     "shell.execute_reply": "2021-08-29T23:53:41.013601Z"
    },
    "papermill": {
     "duration": 0.073659,
     "end_time": "2021-08-29T23:53:41.013864",
     "exception": false,
     "start_time": "2021-08-29T23:53:40.940205",
     "status": "completed"
    },
    "tags": []
   },
   "outputs": [
    {
     "data": {
      "text/plain": [
       "'2021-08-29 21:18:54'"
      ]
     },
     "execution_count": 43,
     "metadata": {},
     "output_type": "execute_result"
    }
   ],
   "source": [
    "datetime.now().strftime( '%Y-%m-%d %H:%M:%S' )"
   ]
  },
  {
   "cell_type": "code",
   "execution_count": 44,
   "id": "judicial-blank",
   "metadata": {
    "ExecuteTime": {
     "end_time": "2021-08-30T00:18:54.399606Z",
     "start_time": "2021-08-30T00:18:54.383310Z"
    },
    "execution": {
     "iopub.execute_input": "2021-08-29T23:53:41.135125Z",
     "iopub.status.busy": "2021-08-29T23:53:41.134501Z",
     "iopub.status.idle": "2021-08-29T23:53:41.136908Z",
     "shell.execute_reply": "2021-08-29T23:53:41.137560Z"
    },
    "papermill": {
     "duration": 0.067557,
     "end_time": "2021-08-29T23:53:41.137734",
     "exception": false,
     "start_time": "2021-08-29T23:53:41.070177",
     "status": "completed"
    },
    "tags": []
   },
   "outputs": [
    {
     "data": {
      "text/html": [
       "<div>\n",
       "<style scoped>\n",
       "    .dataframe tbody tr th:only-of-type {\n",
       "        vertical-align: middle;\n",
       "    }\n",
       "\n",
       "    .dataframe tbody tr th {\n",
       "        vertical-align: top;\n",
       "    }\n",
       "\n",
       "    .dataframe thead th {\n",
       "        text-align: right;\n",
       "    }\n",
       "</style>\n",
       "<table border=\"1\" class=\"dataframe\">\n",
       "  <thead>\n",
       "    <tr style=\"text-align: right;\">\n",
       "      <th></th>\n",
       "      <th>customer_id</th>\n",
       "      <th>gross_revenue</th>\n",
       "      <th>recency_days</th>\n",
       "      <th>qtde_products</th>\n",
       "      <th>frequency</th>\n",
       "      <th>qtde_returns</th>\n",
       "      <th>cluster</th>\n",
       "      <th>created_date</th>\n",
       "    </tr>\n",
       "  </thead>\n",
       "  <tbody>\n",
       "    <tr>\n",
       "      <th>0</th>\n",
       "      <td>17850</td>\n",
       "      <td>5391.21</td>\n",
       "      <td>372</td>\n",
       "      <td>297</td>\n",
       "      <td>17.000000</td>\n",
       "      <td>40</td>\n",
       "      <td>6</td>\n",
       "      <td>2021-08-29 21:18:54</td>\n",
       "    </tr>\n",
       "    <tr>\n",
       "      <th>1</th>\n",
       "      <td>13047</td>\n",
       "      <td>3232.59</td>\n",
       "      <td>56</td>\n",
       "      <td>171</td>\n",
       "      <td>0.028302</td>\n",
       "      <td>35</td>\n",
       "      <td>6</td>\n",
       "      <td>2021-08-29 21:18:54</td>\n",
       "    </tr>\n",
       "    <tr>\n",
       "      <th>2</th>\n",
       "      <td>12583</td>\n",
       "      <td>6705.38</td>\n",
       "      <td>2</td>\n",
       "      <td>232</td>\n",
       "      <td>0.040323</td>\n",
       "      <td>50</td>\n",
       "      <td>6</td>\n",
       "      <td>2021-08-29 21:18:54</td>\n",
       "    </tr>\n",
       "    <tr>\n",
       "      <th>3</th>\n",
       "      <td>13748</td>\n",
       "      <td>948.25</td>\n",
       "      <td>95</td>\n",
       "      <td>28</td>\n",
       "      <td>0.017921</td>\n",
       "      <td>0</td>\n",
       "      <td>3</td>\n",
       "      <td>2021-08-29 21:18:54</td>\n",
       "    </tr>\n",
       "    <tr>\n",
       "      <th>4</th>\n",
       "      <td>15100</td>\n",
       "      <td>876.00</td>\n",
       "      <td>333</td>\n",
       "      <td>3</td>\n",
       "      <td>0.073171</td>\n",
       "      <td>22</td>\n",
       "      <td>0</td>\n",
       "      <td>2021-08-29 21:18:54</td>\n",
       "    </tr>\n",
       "  </tbody>\n",
       "</table>\n",
       "</div>"
      ],
      "text/plain": [
       "   customer_id  gross_revenue  recency_days  qtde_products  frequency  \\\n",
       "0        17850        5391.21           372            297  17.000000   \n",
       "1        13047        3232.59            56            171   0.028302   \n",
       "2        12583        6705.38             2            232   0.040323   \n",
       "3        13748         948.25            95             28   0.017921   \n",
       "4        15100         876.00           333              3   0.073171   \n",
       "\n",
       "   qtde_returns  cluster         created_date  \n",
       "0            40        6  2021-08-29 21:18:54  \n",
       "1            35        6  2021-08-29 21:18:54  \n",
       "2            50        6  2021-08-29 21:18:54  \n",
       "3             0        3  2021-08-29 21:18:54  \n",
       "4            22        0  2021-08-29 21:18:54  "
      ]
     },
     "execution_count": 44,
     "metadata": {},
     "output_type": "execute_result"
    }
   ],
   "source": [
    "df10.head()"
   ]
  },
  {
   "cell_type": "markdown",
   "id": "printable-tuesday",
   "metadata": {
    "papermill": {
     "duration": 0.054316,
     "end_time": "2021-08-29T23:53:41.246194",
     "exception": false,
     "start_time": "2021-08-29T23:53:41.191878",
     "status": "completed"
    },
    "tags": []
   },
   "source": [
    "# <font color='red'> 11.0. Deploy To Production </font>"
   ]
  },
  {
   "cell_type": "markdown",
   "id": "sticky-disclaimer",
   "metadata": {
    "papermill": {
     "duration": 0.058166,
     "end_time": "2021-08-29T23:53:41.363876",
     "exception": false,
     "start_time": "2021-08-29T23:53:41.305710",
     "status": "completed"
    },
    "tags": []
   },
   "source": [
    "## 11.1. Save to table on SQLITE"
   ]
  },
  {
   "cell_type": "code",
   "execution_count": 55,
   "id": "agreed-output",
   "metadata": {
    "ExecuteTime": {
     "end_time": "2021-08-30T00:23:34.153461Z",
     "start_time": "2021-08-30T00:23:34.151439Z"
    },
    "execution": {
     "iopub.execute_input": "2021-08-29T23:53:41.485372Z",
     "iopub.status.busy": "2021-08-29T23:53:41.484677Z",
     "iopub.status.idle": "2021-08-29T23:53:41.486669Z",
     "shell.execute_reply": "2021-08-29T23:53:41.487137Z"
    },
    "papermill": {
     "duration": 0.064448,
     "end_time": "2021-08-29T23:53:41.487318",
     "exception": false,
     "start_time": "2021-08-29T23:53:41.422870",
     "status": "completed"
    },
    "tags": []
   },
   "outputs": [],
   "source": [
    "## crate table\n",
    "#query_create_table_insiders = \"\"\"\n",
    "#    CREATE TABLE insiders ( \n",
    "#        customer_id   INTEGER,\n",
    "#        gross_revenue REAL,\n",
    "#        recency_days  INTEGER,\n",
    "#        qtde_products INTEGER,\n",
    "#        frequency     REAL, \n",
    "#        qtde_returns  INTEGER, \n",
    "#        cluster       INTEGER,\n",
    "#        created_date  TIME\n",
    "#    )\n",
    "#\"\"\"\n",
    "#\n",
    "#query_drop_table_insiders = \"\"\"\n",
    "#    DROP TABLE insiders\n",
    "#\"\"\"\n",
    "\n",
    "## create table on sqlite database\n",
    "#conn = sqlite3.connect( 'insiders.sqlite' )\n",
    "#conn.execute( query_create_table_insiders )\n",
    "#conn.execute( query_drop_table_insiders )\n",
    "#conn.commit()\n",
    "#\n",
    "#conn.close()\n",
    "\n",
    "## insert data on table\n",
    "#conn = create_engine( 'sqlite:///insiders.sqlite', echo=False )\n",
    "#df10.to_sql( 'insiders', con=conn, if_exists='append', index=False )\n",
    "\n",
    "## consult data on table\n",
    "#\n",
    "#query = \"\"\"\n",
    "#    SELECT * FROM insiders\n",
    "#\"\"\"\n",
    "#\n",
    "#df = pd.read_sql_query( query, conn )\n",
    "#df.head()"
   ]
  },
  {
   "cell_type": "markdown",
   "id": "mounted-threshold",
   "metadata": {
    "papermill": {
     "duration": 0.058166,
     "end_time": "2021-08-29T23:53:41.363876",
     "exception": false,
     "start_time": "2021-08-29T23:53:41.305710",
     "status": "completed"
    },
    "tags": []
   },
   "source": [
    "## 11.2. Save to table on POSTGRES"
   ]
  },
  {
   "cell_type": "code",
   "execution_count": 84,
   "id": "processed-software",
   "metadata": {
    "ExecuteTime": {
     "end_time": "2021-08-30T00:47:56.505418Z",
     "start_time": "2021-08-30T00:47:56.503000Z"
    }
   },
   "outputs": [],
   "source": [
    "#param_dict = {\n",
    "#    'USER': os.getenv( 'USER_CDS' ),\n",
    "#    'HOST': os.getenv( 'HOST_CDS' ),\n",
    "#    'PORT': os.getenv( 'PORT_CDS' ),\n",
    "#    'DATABASE': os.getenv( 'DATABASE_CDS' ),\n",
    "#    'PWD': os.getenv( 'PWD_CDS' ),\n",
    "#}\n",
    "\n",
    "param_dict = {\n",
    "    'USER': 'member',\n",
    "    'HOST':'comunidade-ds-postgres.c50pcakiuwi3.us-east-1.rds.amazonaws.com',\n",
    "    'PORT': 5432,\n",
    "    'DATABASE': 'comunidadedsdb',\n",
    "    'PWD': 'cdspa'\n",
    "}\n",
    "\n",
    "conn = \"postgresql+psycopg2://%s:%s@%s/%s\" % (\n",
    "    param_dict['USER'],\n",
    "    param_dict['PWD'],\n",
    "    param_dict['HOST'],\n",
    "    param_dict['DATABASE'] )\n",
    "\n",
    "engine = create_engine( conn )\n",
    "\n",
    "# crate table\n",
    "query_create_table_insiders = \"\"\"\n",
    "    CREATE TABLE insiders ( \n",
    "        customer_id   INT,\n",
    "        gross_revenue REAL,\n",
    "        recency_days  INT,\n",
    "        qtde_products INT,\n",
    "        frequency     REAL, \n",
    "        qtde_returns  INT, \n",
    "        cluster       INT,\n",
    "        created_date  TIMESTAMP\n",
    "    )\n",
    "\"\"\"\n",
    "\n",
    "# execute query\n",
    "with engine.connect() as con:\n",
    "    con.execute( query_create_table_insiders )\n",
    "\n",
    "# save dataset into postgres table\n",
    "df10.to_sql( 'insiders', con=engine, if_exists='append', index=False )"
   ]
  },
  {
   "cell_type": "code",
   "execution_count": null,
   "id": "mineral-nigeria",
   "metadata": {},
   "outputs": [],
   "source": []
  },
  {
   "cell_type": "code",
   "execution_count": null,
   "id": "contained-point",
   "metadata": {},
   "outputs": [],
   "source": []
  },
  {
   "cell_type": "code",
   "execution_count": null,
   "id": "secure-block",
   "metadata": {},
   "outputs": [],
   "source": []
  }
 ],
 "metadata": {
  "kernelspec": {
   "display_name": "Python 3",
   "language": "python",
   "name": "python3"
  },
  "language_info": {
   "codemirror_mode": {
    "name": "ipython",
    "version": 3
   },
   "file_extension": ".py",
   "mimetype": "text/x-python",
   "name": "python",
   "nbconvert_exporter": "python",
   "pygments_lexer": "ipython3",
   "version": "3.8.0"
  },
  "papermill": {
   "default_parameters": {},
   "duration": 90.67715,
   "end_time": "2021-08-29T23:53:43.866411",
   "environment_variables": {},
   "exception": null,
   "input_path": "look-c0.9-mdfl-deploy.ipynb",
   "output_path": "output.ipynb",
   "parameters": {},
   "start_time": "2021-08-29T23:52:13.189261",
   "version": "2.3.3"
  }
 },
 "nbformat": 4,
 "nbformat_minor": 5
}
