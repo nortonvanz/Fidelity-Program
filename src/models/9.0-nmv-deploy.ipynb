{
 "cells": [
  {
   "cell_type": "markdown",
   "id": "fe52a786",
   "metadata": {},
   "source": [
    "# Environment Preparation"
   ]
  },
  {
   "cell_type": "markdown",
   "id": "b78e2912",
   "metadata": {},
   "source": [
    "## Imports"
   ]
  },
  {
   "cell_type": "code",
   "execution_count": 95,
   "id": "579a1993",
   "metadata": {
    "ExecuteTime": {
     "end_time": "2022-08-29T01:46:27.678653Z",
     "start_time": "2022-08-29T01:46:27.649817Z"
    }
   },
   "outputs": [
    {
     "data": {
      "text/html": [
       "<style>.container { width:100% !important; }</style>"
      ],
      "text/plain": [
       "<IPython.core.display.HTML object>"
      ]
     },
     "metadata": {},
     "output_type": "display_data"
    }
   ],
   "source": [
    "import pandas            as pd\n",
    "import seaborn           as sns\n",
    "import datetime          as dt\n",
    "import umap.umap_        as umap\n",
    "import numpy             as np\n",
    "import scipy.stats       as st\n",
    "import re\n",
    "#import statistics        as sta\n",
    "import sqlite3\n",
    "\n",
    "\n",
    "from matplotlib               import cm as cm\n",
    "from matplotlib               import pyplot as plt\n",
    "from tabulate                 import tabulate\n",
    "#from IPython.core.display     import HTML, Image\n",
    "#from yellowbrick.cluster      import KElbowVisualizer, SilhouetteVisualizer\n",
    "from plotly                   import express as px\n",
    "#from pandas_profiling         import ProfileReport\n",
    "import io\n",
    "import boto3\n",
    "\n",
    "from sklearn                  import preprocessing as pp\n",
    "from sklearn                  import cluster as c\n",
    "from sklearn                  import metrics as m\n",
    "from sklearn                  import decomposition as dd\n",
    "from sklearn                  import manifold as mn\n",
    "from sklearn                  import ensemble as en\n",
    "from sklearn                  import mixture as mx\n",
    "from sklearn.neighbors        import NearestNeighbors\n",
    "\n",
    "from scipy.cluster            import hierarchy as hc\n",
    "from sqlalchemy               import create_engine\n",
    "from sqlalchemy.pool          import NullPool\n",
    "\n",
    "from datetime                 import datetime\n",
    "from postgre_credentials      import *\n",
    "\n",
    "from IPython.core.display     import HTML, Image\n",
    "def jupyter_settings():\n",
    "    \"\"\" Optimize general settings, standardize plot sizes, etc. \"\"\"\n",
    "    %matplotlib inline\n",
    "    plt.style.use( 'bmh' )\n",
    "    plt.rcParams['figure.figsize'] = [12, 6]\n",
    "    plt.rcParams['font.size'] = 20\n",
    "    display( HTML( '<style>.container { width:100% !important; }</style>') )\n",
    "    pd.set_option( 'display.expand_frame_repr', False )\n",
    "    pd.set_option('display.max_columns', 30)\n",
    "    pd.set_option('display.max_rows', 30)\n",
    "    sns.set()\n",
    "jupyter_settings()"
   ]
  },
  {
   "cell_type": "markdown",
   "id": "feddfaaf",
   "metadata": {
    "heading_collapsed": true
   },
   "source": [
    "# Data Collection"
   ]
  },
  {
   "cell_type": "code",
   "execution_count": 2,
   "id": "2462686c",
   "metadata": {
    "ExecuteTime": {
     "end_time": "2022-08-28T18:23:05.470648Z",
     "start_time": "2022-08-28T18:22:54.403003Z"
    },
    "hidden": true
   },
   "outputs": [
    {
     "name": "stdout",
     "output_type": "stream",
     "text": [
      "Listing Amazon S3 Buckets:\n",
      "-- loyals-dataset\n",
      "Listing Amazon S3 Bucket objects/files:\n",
      "-- Ecommerce.csv\n"
     ]
    }
   ],
   "source": [
    "#list my buckets, its files and load a file from S3 AWS:\n",
    "AWS_REGION = \"us-east-1\"\n",
    "S3_BUCKET_NAME = \"loyals-dataset\"\n",
    "\n",
    "#buckets\n",
    "client = boto3.client(\"s3\", region_name=AWS_REGION)\n",
    "response = client.list_buckets()\n",
    "\n",
    "print(\"Listing Amazon S3 Buckets:\")\n",
    "for bucket in response['Buckets']:\n",
    "    print(f\"-- {bucket['Name']}\")\n",
    "\n",
    "#files\n",
    "s3_resource = boto3.resource(\"s3\", region_name=AWS_REGION)\n",
    "s3_bucket = s3_resource.Bucket(S3_BUCKET_NAME)         \n",
    "print('Listing Amazon S3 Bucket objects/files:')\n",
    "\n",
    "for obj in s3_bucket.objects.all():\n",
    "    print(f'-- {obj.key}')   \n",
    "          \n",
    "#load files\n",
    "df_raw = pd.read_csv(io.BytesIO(obj.get()['Body'].read()), encoding='iso-8859-1') "
   ]
  },
  {
   "cell_type": "code",
   "execution_count": 3,
   "id": "ec283f74",
   "metadata": {
    "ExecuteTime": {
     "end_time": "2022-08-28T18:23:05.504862Z",
     "start_time": "2022-08-28T18:23:05.473827Z"
    },
    "hidden": true
   },
   "outputs": [],
   "source": [
    "#read local data\n",
    "# path = '/Users/home/repos/pa005_fidelity_program/'\n",
    "# df_raw = pd.read_csv(path +'data/raw/Ecommerce.csv')#, encoding='unicode_escape' #encoding='iso-8859-1'"
   ]
  },
  {
   "cell_type": "code",
   "execution_count": 4,
   "id": "2611cf06",
   "metadata": {
    "ExecuteTime": {
     "end_time": "2022-08-28T18:23:05.560997Z",
     "start_time": "2022-08-28T18:23:05.526529Z"
    },
    "hidden": true
   },
   "outputs": [
    {
     "data": {
      "text/html": [
       "<div>\n",
       "<style scoped>\n",
       "    .dataframe tbody tr th:only-of-type {\n",
       "        vertical-align: middle;\n",
       "    }\n",
       "\n",
       "    .dataframe tbody tr th {\n",
       "        vertical-align: top;\n",
       "    }\n",
       "\n",
       "    .dataframe thead th {\n",
       "        text-align: right;\n",
       "    }\n",
       "</style>\n",
       "<table border=\"1\" class=\"dataframe\">\n",
       "  <thead>\n",
       "    <tr style=\"text-align: right;\">\n",
       "      <th></th>\n",
       "      <th>InvoiceNo</th>\n",
       "      <th>StockCode</th>\n",
       "      <th>Description</th>\n",
       "      <th>Quantity</th>\n",
       "      <th>InvoiceDate</th>\n",
       "      <th>UnitPrice</th>\n",
       "      <th>CustomerID</th>\n",
       "      <th>Country</th>\n",
       "      <th>Unnamed: 8</th>\n",
       "    </tr>\n",
       "  </thead>\n",
       "  <tbody>\n",
       "    <tr>\n",
       "      <th>0</th>\n",
       "      <td>536365</td>\n",
       "      <td>85123A</td>\n",
       "      <td>WHITE HANGING HEART T-LIGHT HOLDER</td>\n",
       "      <td>6</td>\n",
       "      <td>29-Nov-16</td>\n",
       "      <td>2.55</td>\n",
       "      <td>17850.0</td>\n",
       "      <td>United Kingdom</td>\n",
       "      <td>NaN</td>\n",
       "    </tr>\n",
       "    <tr>\n",
       "      <th>1</th>\n",
       "      <td>536365</td>\n",
       "      <td>71053</td>\n",
       "      <td>WHITE METAL LANTERN</td>\n",
       "      <td>6</td>\n",
       "      <td>29-Nov-16</td>\n",
       "      <td>3.39</td>\n",
       "      <td>17850.0</td>\n",
       "      <td>United Kingdom</td>\n",
       "      <td>NaN</td>\n",
       "    </tr>\n",
       "    <tr>\n",
       "      <th>2</th>\n",
       "      <td>536365</td>\n",
       "      <td>84406B</td>\n",
       "      <td>CREAM CUPID HEARTS COAT HANGER</td>\n",
       "      <td>8</td>\n",
       "      <td>29-Nov-16</td>\n",
       "      <td>2.75</td>\n",
       "      <td>17850.0</td>\n",
       "      <td>United Kingdom</td>\n",
       "      <td>NaN</td>\n",
       "    </tr>\n",
       "    <tr>\n",
       "      <th>3</th>\n",
       "      <td>536365</td>\n",
       "      <td>84029G</td>\n",
       "      <td>KNITTED UNION FLAG HOT WATER BOTTLE</td>\n",
       "      <td>6</td>\n",
       "      <td>29-Nov-16</td>\n",
       "      <td>3.39</td>\n",
       "      <td>17850.0</td>\n",
       "      <td>United Kingdom</td>\n",
       "      <td>NaN</td>\n",
       "    </tr>\n",
       "    <tr>\n",
       "      <th>4</th>\n",
       "      <td>536365</td>\n",
       "      <td>84029E</td>\n",
       "      <td>RED WOOLLY HOTTIE WHITE HEART.</td>\n",
       "      <td>6</td>\n",
       "      <td>29-Nov-16</td>\n",
       "      <td>3.39</td>\n",
       "      <td>17850.0</td>\n",
       "      <td>United Kingdom</td>\n",
       "      <td>NaN</td>\n",
       "    </tr>\n",
       "  </tbody>\n",
       "</table>\n",
       "</div>"
      ],
      "text/plain": [
       "  InvoiceNo StockCode                          Description  Quantity InvoiceDate  UnitPrice  CustomerID         Country  Unnamed: 8\n",
       "0    536365    85123A   WHITE HANGING HEART T-LIGHT HOLDER         6   29-Nov-16       2.55     17850.0  United Kingdom         NaN\n",
       "1    536365     71053                  WHITE METAL LANTERN         6   29-Nov-16       3.39     17850.0  United Kingdom         NaN\n",
       "2    536365    84406B       CREAM CUPID HEARTS COAT HANGER         8   29-Nov-16       2.75     17850.0  United Kingdom         NaN\n",
       "3    536365    84029G  KNITTED UNION FLAG HOT WATER BOTTLE         6   29-Nov-16       3.39     17850.0  United Kingdom         NaN\n",
       "4    536365    84029E       RED WOOLLY HOTTIE WHITE HEART.         6   29-Nov-16       3.39     17850.0  United Kingdom         NaN"
      ]
     },
     "execution_count": 4,
     "metadata": {},
     "output_type": "execute_result"
    }
   ],
   "source": [
    "df_raw.head()"
   ]
  },
  {
   "cell_type": "code",
   "execution_count": 5,
   "id": "f4a2a2e6",
   "metadata": {
    "ExecuteTime": {
     "end_time": "2022-08-28T18:23:05.744504Z",
     "start_time": "2022-08-28T18:23:05.572305Z"
    },
    "hidden": true
   },
   "outputs": [
    {
     "data": {
      "text/html": [
       "<div>\n",
       "<style scoped>\n",
       "    .dataframe tbody tr th:only-of-type {\n",
       "        vertical-align: middle;\n",
       "    }\n",
       "\n",
       "    .dataframe tbody tr th {\n",
       "        vertical-align: top;\n",
       "    }\n",
       "\n",
       "    .dataframe thead th {\n",
       "        text-align: right;\n",
       "    }\n",
       "</style>\n",
       "<table border=\"1\" class=\"dataframe\">\n",
       "  <thead>\n",
       "    <tr style=\"text-align: right;\">\n",
       "      <th></th>\n",
       "      <th>InvoiceNo</th>\n",
       "      <th>StockCode</th>\n",
       "      <th>Description</th>\n",
       "      <th>Quantity</th>\n",
       "      <th>InvoiceDate</th>\n",
       "      <th>UnitPrice</th>\n",
       "      <th>CustomerID</th>\n",
       "      <th>Country</th>\n",
       "    </tr>\n",
       "  </thead>\n",
       "  <tbody>\n",
       "    <tr>\n",
       "      <th>260624</th>\n",
       "      <td>559816</td>\n",
       "      <td>21700</td>\n",
       "      <td>BIG DOUGHNUT FRIDGE MAGNETS</td>\n",
       "      <td>6</td>\n",
       "      <td>10-Jul-17</td>\n",
       "      <td>1.38</td>\n",
       "      <td>NaN</td>\n",
       "      <td>United Kingdom</td>\n",
       "    </tr>\n",
       "    <tr>\n",
       "      <th>234262</th>\n",
       "      <td>557502</td>\n",
       "      <td>22798</td>\n",
       "      <td>ANTIQUE GLASS DRESSING TABLE POT</td>\n",
       "      <td>1</td>\n",
       "      <td>18-Jun-17</td>\n",
       "      <td>5.79</td>\n",
       "      <td>NaN</td>\n",
       "      <td>United Kingdom</td>\n",
       "    </tr>\n",
       "    <tr>\n",
       "      <th>5504</th>\n",
       "      <td>536864</td>\n",
       "      <td>21169</td>\n",
       "      <td>YOU'RE CONFUSING ME METAL SIGN</td>\n",
       "      <td>2</td>\n",
       "      <td>1-Dec-16</td>\n",
       "      <td>4.21</td>\n",
       "      <td>NaN</td>\n",
       "      <td>United Kingdom</td>\n",
       "    </tr>\n",
       "  </tbody>\n",
       "</table>\n",
       "</div>"
      ],
      "text/plain": [
       "       InvoiceNo StockCode                       Description  Quantity InvoiceDate  UnitPrice  CustomerID         Country\n",
       "260624    559816     21700       BIG DOUGHNUT FRIDGE MAGNETS         6   10-Jul-17       1.38         NaN  United Kingdom\n",
       "234262    557502     22798  ANTIQUE GLASS DRESSING TABLE POT         1   18-Jun-17       5.79         NaN  United Kingdom\n",
       "5504      536864     21169   YOU'RE CONFUSING ME METAL SIGN          2    1-Dec-16       4.21         NaN  United Kingdom"
      ]
     },
     "execution_count": 5,
     "metadata": {},
     "output_type": "execute_result"
    }
   ],
   "source": [
    "df_raw = df_raw.drop('Unnamed: 8', axis=1).copy()\n",
    "df_raw.sample(3)"
   ]
  },
  {
   "cell_type": "markdown",
   "id": "0bf643a9",
   "metadata": {
    "ExecuteTime": {
     "end_time": "2022-07-20T15:55:51.244105Z",
     "start_time": "2022-07-20T15:55:51.239421Z"
    },
    "heading_collapsed": true
   },
   "source": [
    "# Data Description"
   ]
  },
  {
   "cell_type": "code",
   "execution_count": 6,
   "id": "c1815041",
   "metadata": {
    "ExecuteTime": {
     "end_time": "2022-08-28T18:23:05.771917Z",
     "start_time": "2022-08-28T18:23:05.748606Z"
    },
    "hidden": true
   },
   "outputs": [],
   "source": [
    "df1 = df_raw.copy()"
   ]
  },
  {
   "cell_type": "markdown",
   "id": "69f7c583",
   "metadata": {
    "hidden": true
   },
   "source": [
    "## Rename Columns"
   ]
  },
  {
   "cell_type": "code",
   "execution_count": 7,
   "id": "5e7b81c5",
   "metadata": {
    "ExecuteTime": {
     "end_time": "2022-08-28T18:23:05.871745Z",
     "start_time": "2022-08-28T18:23:05.784717Z"
    },
    "hidden": true
   },
   "outputs": [
    {
     "data": {
      "text/html": [
       "<div>\n",
       "<style scoped>\n",
       "    .dataframe tbody tr th:only-of-type {\n",
       "        vertical-align: middle;\n",
       "    }\n",
       "\n",
       "    .dataframe tbody tr th {\n",
       "        vertical-align: top;\n",
       "    }\n",
       "\n",
       "    .dataframe thead th {\n",
       "        text-align: right;\n",
       "    }\n",
       "</style>\n",
       "<table border=\"1\" class=\"dataframe\">\n",
       "  <thead>\n",
       "    <tr style=\"text-align: right;\">\n",
       "      <th></th>\n",
       "      <th>InvoiceNo</th>\n",
       "      <th>StockCode</th>\n",
       "      <th>Description</th>\n",
       "      <th>Quantity</th>\n",
       "      <th>InvoiceDate</th>\n",
       "      <th>UnitPrice</th>\n",
       "      <th>CustomerID</th>\n",
       "      <th>Country</th>\n",
       "    </tr>\n",
       "  </thead>\n",
       "  <tbody>\n",
       "    <tr>\n",
       "      <th>436558</th>\n",
       "      <td>574170</td>\n",
       "      <td>21703</td>\n",
       "      <td>BAG 125g SWIRLY MARBLES</td>\n",
       "      <td>5</td>\n",
       "      <td>1-Nov-17</td>\n",
       "      <td>0.42</td>\n",
       "      <td>16221.0</td>\n",
       "      <td>United Kingdom</td>\n",
       "    </tr>\n",
       "    <tr>\n",
       "      <th>98319</th>\n",
       "      <td>544677</td>\n",
       "      <td>35972</td>\n",
       "      <td>DAISY FOLKART HEART DECORATION</td>\n",
       "      <td>2</td>\n",
       "      <td>20-Feb-17</td>\n",
       "      <td>1.25</td>\n",
       "      <td>18196.0</td>\n",
       "      <td>United Kingdom</td>\n",
       "    </tr>\n",
       "    <tr>\n",
       "      <th>111647</th>\n",
       "      <td>545812</td>\n",
       "      <td>20751</td>\n",
       "      <td>FUNKY WASHING UP GLOVES ASSORTED</td>\n",
       "      <td>12</td>\n",
       "      <td>5-Mar-17</td>\n",
       "      <td>2.10</td>\n",
       "      <td>14214.0</td>\n",
       "      <td>United Kingdom</td>\n",
       "    </tr>\n",
       "  </tbody>\n",
       "</table>\n",
       "</div>"
      ],
      "text/plain": [
       "       InvoiceNo StockCode                       Description  Quantity InvoiceDate  UnitPrice  CustomerID         Country\n",
       "436558    574170     21703           BAG 125g SWIRLY MARBLES         5    1-Nov-17       0.42     16221.0  United Kingdom\n",
       "98319     544677     35972    DAISY FOLKART HEART DECORATION         2   20-Feb-17       1.25     18196.0  United Kingdom\n",
       "111647    545812     20751  FUNKY WASHING UP GLOVES ASSORTED        12    5-Mar-17       2.10     14214.0  United Kingdom"
      ]
     },
     "execution_count": 7,
     "metadata": {},
     "output_type": "execute_result"
    }
   ],
   "source": [
    "df1.sample(3)"
   ]
  },
  {
   "cell_type": "code",
   "execution_count": 8,
   "id": "bb355096",
   "metadata": {
    "ExecuteTime": {
     "end_time": "2022-08-28T18:23:05.893358Z",
     "start_time": "2022-08-28T18:23:05.879529Z"
    },
    "hidden": true
   },
   "outputs": [
    {
     "data": {
      "text/plain": [
       "Index(['InvoiceNo', 'StockCode', 'Description', 'Quantity', 'InvoiceDate',\n",
       "       'UnitPrice', 'CustomerID', 'Country'],\n",
       "      dtype='object')"
      ]
     },
     "execution_count": 8,
     "metadata": {},
     "output_type": "execute_result"
    }
   ],
   "source": [
    "df1.columns"
   ]
  },
  {
   "cell_type": "code",
   "execution_count": 9,
   "id": "9f3011c3",
   "metadata": {
    "ExecuteTime": {
     "end_time": "2022-08-28T18:23:05.907536Z",
     "start_time": "2022-08-28T18:23:05.899322Z"
    },
    "hidden": true
   },
   "outputs": [],
   "source": [
    "df1.columns = ['invoice_no', 'stock_code', 'description', 'quantity', 'invoice_date',\n",
    "       'unit_price', 'customer_id', 'country']"
   ]
  },
  {
   "cell_type": "markdown",
   "id": "5fb7a6dc",
   "metadata": {
    "heading_collapsed": true,
    "hidden": true
   },
   "source": [
    "## Feature Description "
   ]
  },
  {
   "cell_type": "code",
   "execution_count": 10,
   "id": "2956ae63",
   "metadata": {
    "ExecuteTime": {
     "end_time": "2022-08-28T18:23:05.940039Z",
     "start_time": "2022-08-28T18:23:05.926827Z"
    },
    "hidden": true,
    "scrolled": true
   },
   "outputs": [
    {
     "name": "stdout",
     "output_type": "stream",
     "text": [
      "Columns       Meaning\n",
      "------------  -----------------------------------------------\n",
      "invoice_no    unique identifier of each transaction\n",
      "stock_code    item code\n",
      "description   item name\n",
      "quantity      quantity of each item purchased per transaction\n",
      "invoice_date  the day the transaction took place\n",
      "unit_price    product price per unit\n",
      "customer_id   unique customer identifier\n",
      "country       customer's country of residence\n"
     ]
    }
   ],
   "source": [
    "# Explain feature meanings\n",
    "tab_meanings = [['Columns', 'Meaning'],\n",
    "        ['invoice_no', 'unique identifier of each transaction'],\n",
    "        ['stock_code', 'item code'],\n",
    "        ['description', 'item name'],\n",
    "        ['quantity', 'quantity of each item purchased per transaction'],\n",
    "        ['invoice_date', 'the day the transaction took place'],\n",
    "        ['unit_price', 'product price per unit'],\n",
    "        ['customer_id', 'unique customer identifier'],\n",
    "        ['country', 'customer\\'s country of residence']\n",
    "      ]\n",
    "print(tabulate(tab_meanings, headers='firstrow', stralign='left', tablefmt='simple'))"
   ]
  },
  {
   "cell_type": "code",
   "execution_count": 11,
   "id": "44e22ae7",
   "metadata": {
    "ExecuteTime": {
     "end_time": "2022-08-28T18:23:06.029284Z",
     "start_time": "2022-08-28T18:23:05.947162Z"
    },
    "hidden": true
   },
   "outputs": [
    {
     "data": {
      "text/html": [
       "<div>\n",
       "<style scoped>\n",
       "    .dataframe tbody tr th:only-of-type {\n",
       "        vertical-align: middle;\n",
       "    }\n",
       "\n",
       "    .dataframe tbody tr th {\n",
       "        vertical-align: top;\n",
       "    }\n",
       "\n",
       "    .dataframe thead th {\n",
       "        text-align: right;\n",
       "    }\n",
       "</style>\n",
       "<table border=\"1\" class=\"dataframe\">\n",
       "  <thead>\n",
       "    <tr style=\"text-align: right;\">\n",
       "      <th></th>\n",
       "      <th>invoice_no</th>\n",
       "      <th>stock_code</th>\n",
       "      <th>description</th>\n",
       "      <th>quantity</th>\n",
       "      <th>invoice_date</th>\n",
       "      <th>unit_price</th>\n",
       "      <th>customer_id</th>\n",
       "      <th>country</th>\n",
       "    </tr>\n",
       "  </thead>\n",
       "  <tbody>\n",
       "    <tr>\n",
       "      <th>248268</th>\n",
       "      <td>558809</td>\n",
       "      <td>22055</td>\n",
       "      <td>MINI CAKE STAND  HANGING STRAWBERY</td>\n",
       "      <td>1</td>\n",
       "      <td>2-Jul-17</td>\n",
       "      <td>3.29</td>\n",
       "      <td>NaN</td>\n",
       "      <td>United Kingdom</td>\n",
       "    </tr>\n",
       "    <tr>\n",
       "      <th>504546</th>\n",
       "      <td>578952</td>\n",
       "      <td>85062</td>\n",
       "      <td>PEARL CRYSTAL PUMPKIN T-LIGHT HLDR</td>\n",
       "      <td>6</td>\n",
       "      <td>25-Nov-17</td>\n",
       "      <td>1.65</td>\n",
       "      <td>18112.0</td>\n",
       "      <td>United Kingdom</td>\n",
       "    </tr>\n",
       "    <tr>\n",
       "      <th>15949</th>\n",
       "      <td>537642</td>\n",
       "      <td>22795</td>\n",
       "      <td>SWEETHEART RECIPE BOOK STAND</td>\n",
       "      <td>1</td>\n",
       "      <td>5-Dec-16</td>\n",
       "      <td>13.57</td>\n",
       "      <td>NaN</td>\n",
       "      <td>United Kingdom</td>\n",
       "    </tr>\n",
       "  </tbody>\n",
       "</table>\n",
       "</div>"
      ],
      "text/plain": [
       "       invoice_no stock_code                         description  quantity invoice_date  unit_price  customer_id         country\n",
       "248268     558809      22055  MINI CAKE STAND  HANGING STRAWBERY         1     2-Jul-17        3.29          NaN  United Kingdom\n",
       "504546     578952      85062  PEARL CRYSTAL PUMPKIN T-LIGHT HLDR         6    25-Nov-17        1.65      18112.0  United Kingdom\n",
       "15949      537642      22795        SWEETHEART RECIPE BOOK STAND         1     5-Dec-16       13.57          NaN  United Kingdom"
      ]
     },
     "execution_count": 11,
     "metadata": {},
     "output_type": "execute_result"
    }
   ],
   "source": [
    "df1.sample(3)"
   ]
  },
  {
   "cell_type": "markdown",
   "id": "bb145d40",
   "metadata": {
    "heading_collapsed": true,
    "hidden": true
   },
   "source": [
    "## Data Dimensions"
   ]
  },
  {
   "cell_type": "code",
   "execution_count": 12,
   "id": "e9a259ef",
   "metadata": {
    "ExecuteTime": {
     "end_time": "2022-08-28T18:23:06.046469Z",
     "start_time": "2022-08-28T18:23:06.035328Z"
    },
    "hidden": true
   },
   "outputs": [
    {
     "name": "stdout",
     "output_type": "stream",
     "text": [
      "Number of rows: 541909\n",
      "Number of columns: 8\n"
     ]
    }
   ],
   "source": [
    "print(f'Number of rows: {df1.shape[0]}')\n",
    "print(f'Number of columns: {df1.shape[1]}')"
   ]
  },
  {
   "cell_type": "code",
   "execution_count": 13,
   "id": "3d681ce9",
   "metadata": {
    "ExecuteTime": {
     "end_time": "2022-08-28T18:23:06.695390Z",
     "start_time": "2022-08-28T18:23:06.054817Z"
    },
    "hidden": true
   },
   "outputs": [
    {
     "name": "stdout",
     "output_type": "stream",
     "text": [
      "<class 'pandas.core.frame.DataFrame'>\n",
      "RangeIndex: 541909 entries, 0 to 541908\n",
      "Data columns (total 8 columns):\n",
      " #   Column        Non-Null Count   Dtype  \n",
      "---  ------        --------------   -----  \n",
      " 0   invoice_no    541909 non-null  object \n",
      " 1   stock_code    541909 non-null  object \n",
      " 2   description   540455 non-null  object \n",
      " 3   quantity      541909 non-null  int64  \n",
      " 4   invoice_date  541909 non-null  object \n",
      " 5   unit_price    541909 non-null  float64\n",
      " 6   customer_id   406829 non-null  float64\n",
      " 7   country       541909 non-null  object \n",
      "dtypes: float64(2), int64(1), object(5)\n",
      "memory usage: 33.1+ MB\n"
     ]
    }
   ],
   "source": [
    "df1.info()"
   ]
  },
  {
   "cell_type": "markdown",
   "id": "58a7fce3",
   "metadata": {
    "heading_collapsed": true,
    "hidden": true
   },
   "source": [
    "## Check NA"
   ]
  },
  {
   "cell_type": "code",
   "execution_count": 14,
   "id": "3e637794",
   "metadata": {
    "ExecuteTime": {
     "end_time": "2022-08-28T18:23:07.398971Z",
     "start_time": "2022-08-28T18:23:06.735658Z"
    },
    "hidden": true
   },
   "outputs": [
    {
     "data": {
      "text/plain": [
       "invoice_no           0\n",
       "stock_code           0\n",
       "description       1454\n",
       "quantity             0\n",
       "invoice_date         0\n",
       "unit_price           0\n",
       "customer_id     135080\n",
       "country              0\n",
       "dtype: int64"
      ]
     },
     "execution_count": 14,
     "metadata": {},
     "output_type": "execute_result"
    }
   ],
   "source": [
    "df1.isna().sum()"
   ]
  },
  {
   "cell_type": "markdown",
   "id": "548a590d",
   "metadata": {
    "heading_collapsed": true,
    "hidden": true
   },
   "source": [
    "## Replace NA"
   ]
  },
  {
   "cell_type": "code",
   "execution_count": 15,
   "id": "77b49c4d",
   "metadata": {
    "ExecuteTime": {
     "end_time": "2022-08-28T18:23:07.913001Z",
     "start_time": "2022-08-28T18:23:07.408306Z"
    },
    "hidden": true
   },
   "outputs": [],
   "source": [
    "#separate dataset\n",
    "df_missing = df1.loc[df1['customer_id'].isna()]\n",
    "df_not_missing = df1.loc[~df1['customer_id'].isna()]\n",
    "\n",
    "#create reference\n",
    "df_invoice = pd.DataFrame(df_missing['invoice_no'].drop_duplicates() )\n",
    "df_invoice['customer_id'] = np.arange(19000,19000+len(df_invoice),1)\n",
    "\n",
    "# merge original with reference dataframe\n",
    "df1 = pd.merge(df1, df_invoice, on='invoice_no', how='left')\n",
    "\n",
    "#coalesce equivalent\n",
    "df1['customer_id'] = df1['customer_id_x'].combine_first(df1['customer_id_y'])\n",
    "\n",
    "# drop extra columns\n",
    "df1 = df1.drop(columns = ['customer_id_x','customer_id_y'], axis=1 )"
   ]
  },
  {
   "cell_type": "code",
   "execution_count": 16,
   "id": "943d89af",
   "metadata": {
    "ExecuteTime": {
     "end_time": "2022-08-28T18:23:08.559847Z",
     "start_time": "2022-08-28T18:23:07.921728Z"
    },
    "hidden": true,
    "scrolled": true
   },
   "outputs": [
    {
     "data": {
      "text/plain": [
       "invoice_no         0\n",
       "stock_code         0\n",
       "description     1454\n",
       "quantity           0\n",
       "invoice_date       0\n",
       "unit_price         0\n",
       "country            0\n",
       "customer_id        0\n",
       "dtype: int64"
      ]
     },
     "execution_count": 16,
     "metadata": {},
     "output_type": "execute_result"
    }
   ],
   "source": [
    "#check NA\n",
    "df1.isna().sum()"
   ]
  },
  {
   "cell_type": "markdown",
   "id": "8ae9adcc",
   "metadata": {
    "heading_collapsed": true,
    "hidden": true
   },
   "source": [
    "## Change Types"
   ]
  },
  {
   "cell_type": "code",
   "execution_count": 17,
   "id": "27434e06",
   "metadata": {
    "ExecuteTime": {
     "end_time": "2022-08-28T18:23:08.572793Z",
     "start_time": "2022-08-28T18:23:08.567112Z"
    },
    "hidden": true
   },
   "outputs": [],
   "source": [
    "#correct data types ensure correct calculations using the columns on next sessions"
   ]
  },
  {
   "cell_type": "code",
   "execution_count": 18,
   "id": "ff693ffc",
   "metadata": {
    "ExecuteTime": {
     "end_time": "2022-08-28T18:23:08.595853Z",
     "start_time": "2022-08-28T18:23:08.578435Z"
    },
    "hidden": true,
    "scrolled": true
   },
   "outputs": [
    {
     "data": {
      "text/plain": [
       "invoice_no       object\n",
       "stock_code       object\n",
       "description      object\n",
       "quantity          int64\n",
       "invoice_date     object\n",
       "unit_price      float64\n",
       "country          object\n",
       "customer_id     float64\n",
       "dtype: object"
      ]
     },
     "execution_count": 18,
     "metadata": {},
     "output_type": "execute_result"
    }
   ],
   "source": [
    "df1.dtypes"
   ]
  },
  {
   "cell_type": "code",
   "execution_count": 19,
   "id": "3e7c9fa7",
   "metadata": {
    "ExecuteTime": {
     "end_time": "2022-08-28T18:23:08.661512Z",
     "start_time": "2022-08-28T18:23:08.605461Z"
    },
    "hidden": true
   },
   "outputs": [
    {
     "data": {
      "text/html": [
       "<div>\n",
       "<style scoped>\n",
       "    .dataframe tbody tr th:only-of-type {\n",
       "        vertical-align: middle;\n",
       "    }\n",
       "\n",
       "    .dataframe tbody tr th {\n",
       "        vertical-align: top;\n",
       "    }\n",
       "\n",
       "    .dataframe thead th {\n",
       "        text-align: right;\n",
       "    }\n",
       "</style>\n",
       "<table border=\"1\" class=\"dataframe\">\n",
       "  <thead>\n",
       "    <tr style=\"text-align: right;\">\n",
       "      <th></th>\n",
       "      <th>invoice_no</th>\n",
       "      <th>stock_code</th>\n",
       "      <th>description</th>\n",
       "      <th>quantity</th>\n",
       "      <th>invoice_date</th>\n",
       "      <th>unit_price</th>\n",
       "      <th>country</th>\n",
       "      <th>customer_id</th>\n",
       "    </tr>\n",
       "  </thead>\n",
       "  <tbody>\n",
       "    <tr>\n",
       "      <th>141757</th>\n",
       "      <td>548521</td>\n",
       "      <td>21399</td>\n",
       "      <td>BLUE POLKADOT COFFEE MUG</td>\n",
       "      <td>48</td>\n",
       "      <td>29-Mar-17</td>\n",
       "      <td>0.39</td>\n",
       "      <td>United Kingdom</td>\n",
       "      <td>17735.0</td>\n",
       "    </tr>\n",
       "    <tr>\n",
       "      <th>126215</th>\n",
       "      <td>547068</td>\n",
       "      <td>21731</td>\n",
       "      <td>RED TOADSTOOL LED NIGHT LIGHT</td>\n",
       "      <td>12</td>\n",
       "      <td>18-Mar-17</td>\n",
       "      <td>1.65</td>\n",
       "      <td>United Kingdom</td>\n",
       "      <td>13985.0</td>\n",
       "    </tr>\n",
       "    <tr>\n",
       "      <th>377946</th>\n",
       "      <td>569572</td>\n",
       "      <td>21506</td>\n",
       "      <td>FANCY FONT BIRTHDAY CARD,</td>\n",
       "      <td>480</td>\n",
       "      <td>3-Oct-17</td>\n",
       "      <td>0.36</td>\n",
       "      <td>United Kingdom</td>\n",
       "      <td>16684.0</td>\n",
       "    </tr>\n",
       "  </tbody>\n",
       "</table>\n",
       "</div>"
      ],
      "text/plain": [
       "       invoice_no stock_code                    description  quantity invoice_date  unit_price         country  customer_id\n",
       "141757     548521      21399       BLUE POLKADOT COFFEE MUG        48    29-Mar-17        0.39  United Kingdom      17735.0\n",
       "126215     547068      21731  RED TOADSTOOL LED NIGHT LIGHT        12    18-Mar-17        1.65  United Kingdom      13985.0\n",
       "377946     569572      21506     FANCY FONT BIRTHDAY CARD,        480     3-Oct-17        0.36  United Kingdom      16684.0"
      ]
     },
     "execution_count": 19,
     "metadata": {},
     "output_type": "execute_result"
    }
   ],
   "source": [
    "df1.sample(3)"
   ]
  },
  {
   "cell_type": "code",
   "execution_count": 20,
   "id": "4d598520",
   "metadata": {
    "ExecuteTime": {
     "end_time": "2022-08-28T18:23:08.788746Z",
     "start_time": "2022-08-28T18:23:08.668652Z"
    },
    "hidden": true
   },
   "outputs": [],
   "source": [
    "#invoice_date\n",
    "df1['invoice_date'] = pd.to_datetime(df1['invoice_date'], format='%d-%b-%y')\n",
    "\n",
    "#customer_id\n",
    "df1['customer_id'] = df1['customer_id'].astype(int)"
   ]
  },
  {
   "cell_type": "code",
   "execution_count": 21,
   "id": "b8c9009a",
   "metadata": {
    "ExecuteTime": {
     "end_time": "2022-08-28T18:23:08.875101Z",
     "start_time": "2022-08-28T18:23:08.793421Z"
    },
    "hidden": true
   },
   "outputs": [
    {
     "data": {
      "text/html": [
       "<div>\n",
       "<style scoped>\n",
       "    .dataframe tbody tr th:only-of-type {\n",
       "        vertical-align: middle;\n",
       "    }\n",
       "\n",
       "    .dataframe tbody tr th {\n",
       "        vertical-align: top;\n",
       "    }\n",
       "\n",
       "    .dataframe thead th {\n",
       "        text-align: right;\n",
       "    }\n",
       "</style>\n",
       "<table border=\"1\" class=\"dataframe\">\n",
       "  <thead>\n",
       "    <tr style=\"text-align: right;\">\n",
       "      <th></th>\n",
       "      <th>invoice_no</th>\n",
       "      <th>stock_code</th>\n",
       "      <th>description</th>\n",
       "      <th>quantity</th>\n",
       "      <th>invoice_date</th>\n",
       "      <th>unit_price</th>\n",
       "      <th>country</th>\n",
       "      <th>customer_id</th>\n",
       "    </tr>\n",
       "  </thead>\n",
       "  <tbody>\n",
       "    <tr>\n",
       "      <th>132239</th>\n",
       "      <td>547658</td>\n",
       "      <td>21539</td>\n",
       "      <td>RED RETROSPOT BUTTER DISH</td>\n",
       "      <td>1</td>\n",
       "      <td>2017-03-22</td>\n",
       "      <td>4.95</td>\n",
       "      <td>United Kingdom</td>\n",
       "      <td>13736</td>\n",
       "    </tr>\n",
       "    <tr>\n",
       "      <th>167402</th>\n",
       "      <td>550987</td>\n",
       "      <td>22845</td>\n",
       "      <td>VINTAGE CREAM CAT FOOD CONTAINER</td>\n",
       "      <td>1</td>\n",
       "      <td>2017-04-19</td>\n",
       "      <td>12.46</td>\n",
       "      <td>United Kingdom</td>\n",
       "      <td>20403</td>\n",
       "    </tr>\n",
       "    <tr>\n",
       "      <th>294405</th>\n",
       "      <td>562712</td>\n",
       "      <td>23162</td>\n",
       "      <td>REGENCY TEA STRAINER</td>\n",
       "      <td>4</td>\n",
       "      <td>2017-08-06</td>\n",
       "      <td>3.75</td>\n",
       "      <td>United Kingdom</td>\n",
       "      <td>13016</td>\n",
       "    </tr>\n",
       "  </tbody>\n",
       "</table>\n",
       "</div>"
      ],
      "text/plain": [
       "       invoice_no stock_code                       description  quantity invoice_date  unit_price         country  customer_id\n",
       "132239     547658      21539         RED RETROSPOT BUTTER DISH         1   2017-03-22        4.95  United Kingdom        13736\n",
       "167402     550987      22845  VINTAGE CREAM CAT FOOD CONTAINER         1   2017-04-19       12.46  United Kingdom        20403\n",
       "294405     562712      23162              REGENCY TEA STRAINER         4   2017-08-06        3.75  United Kingdom        13016"
      ]
     },
     "execution_count": 21,
     "metadata": {},
     "output_type": "execute_result"
    }
   ],
   "source": [
    "df1.sample(3)"
   ]
  },
  {
   "cell_type": "code",
   "execution_count": 22,
   "id": "9684ffce",
   "metadata": {
    "ExecuteTime": {
     "end_time": "2022-08-28T18:23:08.903483Z",
     "start_time": "2022-08-28T18:23:08.888019Z"
    },
    "hidden": true
   },
   "outputs": [
    {
     "data": {
      "text/plain": [
       "invoice_no              object\n",
       "stock_code              object\n",
       "description             object\n",
       "quantity                 int64\n",
       "invoice_date    datetime64[ns]\n",
       "unit_price             float64\n",
       "country                 object\n",
       "customer_id              int64\n",
       "dtype: object"
      ]
     },
     "execution_count": 22,
     "metadata": {},
     "output_type": "execute_result"
    }
   ],
   "source": [
    "df1.dtypes"
   ]
  },
  {
   "cell_type": "markdown",
   "id": "60fd192f",
   "metadata": {
    "heading_collapsed": true,
    "hidden": true
   },
   "source": [
    "## Descriptive Statistics"
   ]
  },
  {
   "cell_type": "code",
   "execution_count": 23,
   "id": "2b0cb598",
   "metadata": {
    "ExecuteTime": {
     "end_time": "2022-08-28T18:23:08.922804Z",
     "start_time": "2022-08-28T18:23:08.909625Z"
    },
    "hidden": true
   },
   "outputs": [],
   "source": [
    "#here we identify state of variables, but take action just on proper sections ahead.\n",
    "num_attributes = df1.select_dtypes(include=['int64','float64'])\n",
    "cat_attributes = df1.select_dtypes(exclude=['int64','float64','datetime64[ns]'])"
   ]
  },
  {
   "cell_type": "markdown",
   "id": "23ca02ff",
   "metadata": {
    "ExecuteTime": {
     "end_time": "2022-07-30T11:49:56.570625Z",
     "start_time": "2022-07-30T11:49:56.565975Z"
    },
    "hidden": true
   },
   "source": [
    "### Numerical Attributes"
   ]
  },
  {
   "cell_type": "code",
   "execution_count": 24,
   "id": "8d3ea6fa",
   "metadata": {
    "ExecuteTime": {
     "end_time": "2022-08-28T18:23:08.956564Z",
     "start_time": "2022-08-28T18:23:08.937112Z"
    },
    "hidden": true
   },
   "outputs": [
    {
     "data": {
      "text/html": [
       "<div>\n",
       "<style scoped>\n",
       "    .dataframe tbody tr th:only-of-type {\n",
       "        vertical-align: middle;\n",
       "    }\n",
       "\n",
       "    .dataframe tbody tr th {\n",
       "        vertical-align: top;\n",
       "    }\n",
       "\n",
       "    .dataframe thead th {\n",
       "        text-align: right;\n",
       "    }\n",
       "</style>\n",
       "<table border=\"1\" class=\"dataframe\">\n",
       "  <thead>\n",
       "    <tr style=\"text-align: right;\">\n",
       "      <th></th>\n",
       "      <th>quantity</th>\n",
       "      <th>unit_price</th>\n",
       "      <th>customer_id</th>\n",
       "    </tr>\n",
       "  </thead>\n",
       "  <tbody>\n",
       "    <tr>\n",
       "      <th>0</th>\n",
       "      <td>6</td>\n",
       "      <td>2.55</td>\n",
       "      <td>17850</td>\n",
       "    </tr>\n",
       "    <tr>\n",
       "      <th>1</th>\n",
       "      <td>6</td>\n",
       "      <td>3.39</td>\n",
       "      <td>17850</td>\n",
       "    </tr>\n",
       "    <tr>\n",
       "      <th>2</th>\n",
       "      <td>8</td>\n",
       "      <td>2.75</td>\n",
       "      <td>17850</td>\n",
       "    </tr>\n",
       "    <tr>\n",
       "      <th>3</th>\n",
       "      <td>6</td>\n",
       "      <td>3.39</td>\n",
       "      <td>17850</td>\n",
       "    </tr>\n",
       "    <tr>\n",
       "      <th>4</th>\n",
       "      <td>6</td>\n",
       "      <td>3.39</td>\n",
       "      <td>17850</td>\n",
       "    </tr>\n",
       "  </tbody>\n",
       "</table>\n",
       "</div>"
      ],
      "text/plain": [
       "   quantity  unit_price  customer_id\n",
       "0         6        2.55        17850\n",
       "1         6        3.39        17850\n",
       "2         8        2.75        17850\n",
       "3         6        3.39        17850\n",
       "4         6        3.39        17850"
      ]
     },
     "execution_count": 24,
     "metadata": {},
     "output_type": "execute_result"
    }
   ],
   "source": [
    "num_attributes.head()"
   ]
  },
  {
   "cell_type": "code",
   "execution_count": 25,
   "id": "610b99ec",
   "metadata": {
    "ExecuteTime": {
     "end_time": "2022-08-28T18:23:09.131711Z",
     "start_time": "2022-08-28T18:23:08.963827Z"
    },
    "hidden": true
   },
   "outputs": [
    {
     "data": {
      "text/html": [
       "<div>\n",
       "<style scoped>\n",
       "    .dataframe tbody tr th:only-of-type {\n",
       "        vertical-align: middle;\n",
       "    }\n",
       "\n",
       "    .dataframe tbody tr th {\n",
       "        vertical-align: top;\n",
       "    }\n",
       "\n",
       "    .dataframe thead th {\n",
       "        text-align: right;\n",
       "    }\n",
       "</style>\n",
       "<table border=\"1\" class=\"dataframe\">\n",
       "  <thead>\n",
       "    <tr style=\"text-align: right;\">\n",
       "      <th></th>\n",
       "      <th>attributes</th>\n",
       "      <th>min</th>\n",
       "      <th>max</th>\n",
       "      <th>range</th>\n",
       "      <th>mean</th>\n",
       "      <th>median</th>\n",
       "      <th>std</th>\n",
       "      <th>skew</th>\n",
       "      <th>kurtosis</th>\n",
       "    </tr>\n",
       "  </thead>\n",
       "  <tbody>\n",
       "    <tr>\n",
       "      <th>0</th>\n",
       "      <td>quantity</td>\n",
       "      <td>-80995.00</td>\n",
       "      <td>80995.0</td>\n",
       "      <td>161990.00</td>\n",
       "      <td>9.552250</td>\n",
       "      <td>3.00</td>\n",
       "      <td>218.080957</td>\n",
       "      <td>-0.264076</td>\n",
       "      <td>119769.160031</td>\n",
       "    </tr>\n",
       "    <tr>\n",
       "      <th>1</th>\n",
       "      <td>unit_price</td>\n",
       "      <td>-11062.06</td>\n",
       "      <td>38970.0</td>\n",
       "      <td>50032.06</td>\n",
       "      <td>4.611114</td>\n",
       "      <td>2.08</td>\n",
       "      <td>96.759764</td>\n",
       "      <td>186.506972</td>\n",
       "      <td>59005.719097</td>\n",
       "    </tr>\n",
       "    <tr>\n",
       "      <th>2</th>\n",
       "      <td>customer_id</td>\n",
       "      <td>12346.00</td>\n",
       "      <td>22709.0</td>\n",
       "      <td>10363.00</td>\n",
       "      <td>16688.840453</td>\n",
       "      <td>16249.00</td>\n",
       "      <td>2911.408666</td>\n",
       "      <td>0.487449</td>\n",
       "      <td>-0.804287</td>\n",
       "    </tr>\n",
       "  </tbody>\n",
       "</table>\n",
       "</div>"
      ],
      "text/plain": [
       "    attributes       min      max      range          mean    median          std        skew       kurtosis\n",
       "0     quantity -80995.00  80995.0  161990.00      9.552250      3.00   218.080957   -0.264076  119769.160031\n",
       "1   unit_price -11062.06  38970.0   50032.06      4.611114      2.08    96.759764  186.506972   59005.719097\n",
       "2  customer_id  12346.00  22709.0   10363.00  16688.840453  16249.00  2911.408666    0.487449      -0.804287"
      ]
     },
     "execution_count": 25,
     "metadata": {},
     "output_type": "execute_result"
    }
   ],
   "source": [
    "# central tendency - mean, median\n",
    "ct1 = pd.DataFrame( num_attributes.apply( np.mean ) ).T\n",
    "ct2 = pd.DataFrame( num_attributes.apply( np.median ) ).T\n",
    "             \n",
    "# dispersion - desvio padrão, minimo, maximo, range, skew, kurtosis\n",
    "d1 = pd.DataFrame( num_attributes.apply( np.std ) ).T\n",
    "d2 = pd.DataFrame( num_attributes.apply( np.min ) ).T\n",
    "d3 = pd.DataFrame( num_attributes.apply( np.max ) ).T\n",
    "d4 = pd.DataFrame( num_attributes.apply( lambda x: x.max() - x.min() ) ).T\n",
    "d5 = pd.DataFrame( num_attributes.apply( lambda x: x.skew() ) ).T\n",
    "d6 = pd.DataFrame( num_attributes.apply( lambda x: x.kurtosis() ) ).T\n",
    "\n",
    "# concatenate\n",
    "num_metrics = pd.concat( [d2, d3, d4, ct1, ct2, d1, d5, d6] ).T.reset_index()\n",
    "num_metrics.columns = ['attributes', 'min', 'max', 'range', 'mean', 'median', 'std', 'skew', 'kurtosis']\n",
    "num_metrics"
   ]
  },
  {
   "cell_type": "markdown",
   "id": "e3d1ac46",
   "metadata": {
    "heading_collapsed": true,
    "hidden": true
   },
   "source": [
    "### Cathegorical Attributes"
   ]
  },
  {
   "cell_type": "code",
   "execution_count": 26,
   "id": "76e6b756",
   "metadata": {
    "ExecuteTime": {
     "end_time": "2022-08-28T18:23:09.162649Z",
     "start_time": "2022-08-28T18:23:09.144715Z"
    },
    "hidden": true
   },
   "outputs": [
    {
     "data": {
      "text/html": [
       "<div>\n",
       "<style scoped>\n",
       "    .dataframe tbody tr th:only-of-type {\n",
       "        vertical-align: middle;\n",
       "    }\n",
       "\n",
       "    .dataframe tbody tr th {\n",
       "        vertical-align: top;\n",
       "    }\n",
       "\n",
       "    .dataframe thead th {\n",
       "        text-align: right;\n",
       "    }\n",
       "</style>\n",
       "<table border=\"1\" class=\"dataframe\">\n",
       "  <thead>\n",
       "    <tr style=\"text-align: right;\">\n",
       "      <th></th>\n",
       "      <th>invoice_no</th>\n",
       "      <th>stock_code</th>\n",
       "      <th>description</th>\n",
       "      <th>country</th>\n",
       "    </tr>\n",
       "  </thead>\n",
       "  <tbody>\n",
       "    <tr>\n",
       "      <th>0</th>\n",
       "      <td>536365</td>\n",
       "      <td>85123A</td>\n",
       "      <td>WHITE HANGING HEART T-LIGHT HOLDER</td>\n",
       "      <td>United Kingdom</td>\n",
       "    </tr>\n",
       "    <tr>\n",
       "      <th>1</th>\n",
       "      <td>536365</td>\n",
       "      <td>71053</td>\n",
       "      <td>WHITE METAL LANTERN</td>\n",
       "      <td>United Kingdom</td>\n",
       "    </tr>\n",
       "    <tr>\n",
       "      <th>2</th>\n",
       "      <td>536365</td>\n",
       "      <td>84406B</td>\n",
       "      <td>CREAM CUPID HEARTS COAT HANGER</td>\n",
       "      <td>United Kingdom</td>\n",
       "    </tr>\n",
       "    <tr>\n",
       "      <th>3</th>\n",
       "      <td>536365</td>\n",
       "      <td>84029G</td>\n",
       "      <td>KNITTED UNION FLAG HOT WATER BOTTLE</td>\n",
       "      <td>United Kingdom</td>\n",
       "    </tr>\n",
       "    <tr>\n",
       "      <th>4</th>\n",
       "      <td>536365</td>\n",
       "      <td>84029E</td>\n",
       "      <td>RED WOOLLY HOTTIE WHITE HEART.</td>\n",
       "      <td>United Kingdom</td>\n",
       "    </tr>\n",
       "  </tbody>\n",
       "</table>\n",
       "</div>"
      ],
      "text/plain": [
       "  invoice_no stock_code                          description         country\n",
       "0     536365     85123A   WHITE HANGING HEART T-LIGHT HOLDER  United Kingdom\n",
       "1     536365      71053                  WHITE METAL LANTERN  United Kingdom\n",
       "2     536365     84406B       CREAM CUPID HEARTS COAT HANGER  United Kingdom\n",
       "3     536365     84029G  KNITTED UNION FLAG HOT WATER BOTTLE  United Kingdom\n",
       "4     536365     84029E       RED WOOLLY HOTTIE WHITE HEART.  United Kingdom"
      ]
     },
     "execution_count": 26,
     "metadata": {},
     "output_type": "execute_result"
    }
   ],
   "source": [
    "cat_attributes.head()"
   ]
  },
  {
   "cell_type": "markdown",
   "id": "4719f7f2",
   "metadata": {
    "heading_collapsed": true,
    "hidden": true
   },
   "source": [
    "#### invoice_no"
   ]
  },
  {
   "cell_type": "code",
   "execution_count": 27,
   "id": "1e64c6c9",
   "metadata": {
    "ExecuteTime": {
     "end_time": "2022-08-28T18:23:10.284116Z",
     "start_time": "2022-08-28T18:23:09.169581Z"
    },
    "code_folding": [],
    "hidden": true
   },
   "outputs": [
    {
     "data": {
      "text/html": [
       "<div>\n",
       "<style scoped>\n",
       "    .dataframe tbody tr th:only-of-type {\n",
       "        vertical-align: middle;\n",
       "    }\n",
       "\n",
       "    .dataframe tbody tr th {\n",
       "        vertical-align: top;\n",
       "    }\n",
       "\n",
       "    .dataframe thead th {\n",
       "        text-align: right;\n",
       "    }\n",
       "</style>\n",
       "<table border=\"1\" class=\"dataframe\">\n",
       "  <thead>\n",
       "    <tr style=\"text-align: right;\">\n",
       "      <th></th>\n",
       "      <th>invoice_no</th>\n",
       "      <th>stock_code</th>\n",
       "      <th>description</th>\n",
       "      <th>quantity</th>\n",
       "      <th>invoice_date</th>\n",
       "      <th>unit_price</th>\n",
       "      <th>country</th>\n",
       "      <th>customer_id</th>\n",
       "    </tr>\n",
       "  </thead>\n",
       "  <tbody>\n",
       "    <tr>\n",
       "      <th>141</th>\n",
       "      <td>C536379</td>\n",
       "      <td>D</td>\n",
       "      <td>Discount</td>\n",
       "      <td>-1</td>\n",
       "      <td>2016-11-29</td>\n",
       "      <td>27.50</td>\n",
       "      <td>United Kingdom</td>\n",
       "      <td>14527</td>\n",
       "    </tr>\n",
       "    <tr>\n",
       "      <th>154</th>\n",
       "      <td>C536383</td>\n",
       "      <td>35004C</td>\n",
       "      <td>SET OF 3 COLOURED  FLYING DUCKS</td>\n",
       "      <td>-1</td>\n",
       "      <td>2016-11-29</td>\n",
       "      <td>4.65</td>\n",
       "      <td>United Kingdom</td>\n",
       "      <td>15311</td>\n",
       "    </tr>\n",
       "    <tr>\n",
       "      <th>235</th>\n",
       "      <td>C536391</td>\n",
       "      <td>22556</td>\n",
       "      <td>PLASTERS IN TIN CIRCUS PARADE</td>\n",
       "      <td>-12</td>\n",
       "      <td>2016-11-29</td>\n",
       "      <td>1.65</td>\n",
       "      <td>United Kingdom</td>\n",
       "      <td>17548</td>\n",
       "    </tr>\n",
       "    <tr>\n",
       "      <th>236</th>\n",
       "      <td>C536391</td>\n",
       "      <td>21984</td>\n",
       "      <td>PACK OF 12 PINK PAISLEY TISSUES</td>\n",
       "      <td>-24</td>\n",
       "      <td>2016-11-29</td>\n",
       "      <td>0.29</td>\n",
       "      <td>United Kingdom</td>\n",
       "      <td>17548</td>\n",
       "    </tr>\n",
       "    <tr>\n",
       "      <th>237</th>\n",
       "      <td>C536391</td>\n",
       "      <td>21983</td>\n",
       "      <td>PACK OF 12 BLUE PAISLEY TISSUES</td>\n",
       "      <td>-24</td>\n",
       "      <td>2016-11-29</td>\n",
       "      <td>0.29</td>\n",
       "      <td>United Kingdom</td>\n",
       "      <td>17548</td>\n",
       "    </tr>\n",
       "    <tr>\n",
       "      <th>...</th>\n",
       "      <td>...</td>\n",
       "      <td>...</td>\n",
       "      <td>...</td>\n",
       "      <td>...</td>\n",
       "      <td>...</td>\n",
       "      <td>...</td>\n",
       "      <td>...</td>\n",
       "      <td>...</td>\n",
       "    </tr>\n",
       "    <tr>\n",
       "      <th>540449</th>\n",
       "      <td>C581490</td>\n",
       "      <td>23144</td>\n",
       "      <td>ZINC T-LIGHT HOLDER STARS SMALL</td>\n",
       "      <td>-11</td>\n",
       "      <td>2017-12-07</td>\n",
       "      <td>0.83</td>\n",
       "      <td>United Kingdom</td>\n",
       "      <td>14397</td>\n",
       "    </tr>\n",
       "    <tr>\n",
       "      <th>541541</th>\n",
       "      <td>C581499</td>\n",
       "      <td>M</td>\n",
       "      <td>Manual</td>\n",
       "      <td>-1</td>\n",
       "      <td>2017-12-07</td>\n",
       "      <td>224.69</td>\n",
       "      <td>United Kingdom</td>\n",
       "      <td>15498</td>\n",
       "    </tr>\n",
       "    <tr>\n",
       "      <th>541715</th>\n",
       "      <td>C581568</td>\n",
       "      <td>21258</td>\n",
       "      <td>VICTORIAN SEWING BOX LARGE</td>\n",
       "      <td>-5</td>\n",
       "      <td>2017-12-07</td>\n",
       "      <td>10.95</td>\n",
       "      <td>United Kingdom</td>\n",
       "      <td>15311</td>\n",
       "    </tr>\n",
       "    <tr>\n",
       "      <th>541716</th>\n",
       "      <td>C581569</td>\n",
       "      <td>84978</td>\n",
       "      <td>HANGING HEART JAR T-LIGHT HOLDER</td>\n",
       "      <td>-1</td>\n",
       "      <td>2017-12-07</td>\n",
       "      <td>1.25</td>\n",
       "      <td>United Kingdom</td>\n",
       "      <td>17315</td>\n",
       "    </tr>\n",
       "    <tr>\n",
       "      <th>541717</th>\n",
       "      <td>C581569</td>\n",
       "      <td>20979</td>\n",
       "      <td>36 PENCILS TUBE RED RETROSPOT</td>\n",
       "      <td>-5</td>\n",
       "      <td>2017-12-07</td>\n",
       "      <td>1.25</td>\n",
       "      <td>United Kingdom</td>\n",
       "      <td>17315</td>\n",
       "    </tr>\n",
       "  </tbody>\n",
       "</table>\n",
       "<p>9291 rows × 8 columns</p>\n",
       "</div>"
      ],
      "text/plain": [
       "       invoice_no stock_code                       description  quantity invoice_date  unit_price         country  customer_id\n",
       "141       C536379          D                          Discount        -1   2016-11-29       27.50  United Kingdom        14527\n",
       "154       C536383     35004C   SET OF 3 COLOURED  FLYING DUCKS        -1   2016-11-29        4.65  United Kingdom        15311\n",
       "235       C536391      22556    PLASTERS IN TIN CIRCUS PARADE        -12   2016-11-29        1.65  United Kingdom        17548\n",
       "236       C536391      21984  PACK OF 12 PINK PAISLEY TISSUES        -24   2016-11-29        0.29  United Kingdom        17548\n",
       "237       C536391      21983  PACK OF 12 BLUE PAISLEY TISSUES        -24   2016-11-29        0.29  United Kingdom        17548\n",
       "...           ...        ...                               ...       ...          ...         ...             ...          ...\n",
       "540449    C581490      23144   ZINC T-LIGHT HOLDER STARS SMALL       -11   2017-12-07        0.83  United Kingdom        14397\n",
       "541541    C581499          M                            Manual        -1   2017-12-07      224.69  United Kingdom        15498\n",
       "541715    C581568      21258        VICTORIAN SEWING BOX LARGE        -5   2017-12-07       10.95  United Kingdom        15311\n",
       "541716    C581569      84978  HANGING HEART JAR T-LIGHT HOLDER        -1   2017-12-07        1.25  United Kingdom        17315\n",
       "541717    C581569      20979     36 PENCILS TUBE RED RETROSPOT        -5   2017-12-07        1.25  United Kingdom        17315\n",
       "\n",
       "[9291 rows x 8 columns]"
      ]
     },
     "execution_count": 27,
     "metadata": {},
     "output_type": "execute_result"
    }
   ],
   "source": [
    "# problem: we have invoice_no with letters and numbers\n",
    "#cat_attributes['invoice_no'].astype( int )  # -> error: ex.'C536379'\n",
    "\n",
    "# identify number of sales with characters on invoice_no: \n",
    "df_letter_invoices = df1.loc[df1['invoice_no'].apply( lambda x: bool( re.search( '[^0-9]+', x ) ) ), :]\n",
    "df_letter_invoices"
   ]
  },
  {
   "cell_type": "code",
   "execution_count": 28,
   "id": "01290318",
   "metadata": {
    "ExecuteTime": {
     "end_time": "2022-08-28T18:23:10.339392Z",
     "start_time": "2022-08-28T18:23:10.318146Z"
    },
    "hidden": true
   },
   "outputs": [
    {
     "name": "stdout",
     "output_type": "stream",
     "text": [
      "Total number of invoices: 9291\n",
      "Total number of negative quantity: 9288\n"
     ]
    }
   ],
   "source": [
    "#looks like all invoice_no with C, has negative quantity. Lets check:\n",
    "print( f'Total number of invoices: {len( df_letter_invoices )}')\n",
    "print( f'Total number of negative quantity: {len( df_letter_invoices[ df_letter_invoices[\"quantity\"] < 0 ] )}') \n",
    "#3 of difference, let's ignore them"
   ]
  },
  {
   "cell_type": "markdown",
   "id": "b7832f5d",
   "metadata": {
    "heading_collapsed": true,
    "hidden": true
   },
   "source": [
    "#### stock_code"
   ]
  },
  {
   "cell_type": "code",
   "execution_count": 29,
   "id": "e4220454",
   "metadata": {
    "ExecuteTime": {
     "end_time": "2022-08-28T18:23:10.369503Z",
     "start_time": "2022-08-28T18:23:10.349703Z"
    },
    "hidden": true
   },
   "outputs": [
    {
     "data": {
      "text/plain": [
       "0         85123A\n",
       "1          71053\n",
       "2         84406B\n",
       "3         84029G\n",
       "4         84029E\n",
       "           ...  \n",
       "541904     22613\n",
       "541905     22899\n",
       "541906     23254\n",
       "541907     23255\n",
       "541908     22138\n",
       "Name: stock_code, Length: 541909, dtype: object"
      ]
     },
     "execution_count": 29,
     "metadata": {},
     "output_type": "execute_result"
    }
   ],
   "source": [
    "df1['stock_code']"
   ]
  },
  {
   "cell_type": "code",
   "execution_count": 30,
   "id": "f1b7c84d",
   "metadata": {
    "ExecuteTime": {
     "end_time": "2022-08-28T18:23:11.660245Z",
     "start_time": "2022-08-28T18:23:10.378549Z"
    },
    "hidden": true
   },
   "outputs": [
    {
     "data": {
      "text/plain": [
       "array(['POST', 'D', 'DOT', 'M', 'S', 'AMAZONFEE', 'm', 'DCGSSBOY',\n",
       "       'DCGSSGIRL', 'PADS', 'B', 'CRUK'], dtype=object)"
      ]
     },
     "execution_count": 30,
     "metadata": {},
     "output_type": "execute_result"
    }
   ],
   "source": [
    "# get stock_codes with only letters\n",
    "df1.loc[df1['stock_code'].apply( lambda x: bool( re.search( '^[a-zA-Z]+$', x ) ) ), 'stock_code'].unique()\n",
    "#now we have new stock_codes!"
   ]
  },
  {
   "cell_type": "code",
   "execution_count": 31,
   "id": "128c732f",
   "metadata": {
    "ExecuteTime": {
     "end_time": "2022-08-28T18:23:12.869543Z",
     "start_time": "2022-08-28T18:23:11.666132Z"
    },
    "hidden": true
   },
   "outputs": [
    {
     "data": {
      "text/html": [
       "<div>\n",
       "<style scoped>\n",
       "    .dataframe tbody tr th:only-of-type {\n",
       "        vertical-align: middle;\n",
       "    }\n",
       "\n",
       "    .dataframe tbody tr th {\n",
       "        vertical-align: top;\n",
       "    }\n",
       "\n",
       "    .dataframe thead th {\n",
       "        text-align: right;\n",
       "    }\n",
       "</style>\n",
       "<table border=\"1\" class=\"dataframe\">\n",
       "  <thead>\n",
       "    <tr style=\"text-align: right;\">\n",
       "      <th></th>\n",
       "      <th>invoice_no</th>\n",
       "      <th>stock_code</th>\n",
       "      <th>description</th>\n",
       "      <th>quantity</th>\n",
       "      <th>invoice_date</th>\n",
       "      <th>unit_price</th>\n",
       "      <th>country</th>\n",
       "      <th>customer_id</th>\n",
       "    </tr>\n",
       "  </thead>\n",
       "  <tbody>\n",
       "    <tr>\n",
       "      <th>541540</th>\n",
       "      <td>581498</td>\n",
       "      <td>DOT</td>\n",
       "      <td>DOTCOM POSTAGE</td>\n",
       "      <td>1</td>\n",
       "      <td>2017-12-07</td>\n",
       "      <td>1714.17</td>\n",
       "      <td>United Kingdom</td>\n",
       "      <td>22709</td>\n",
       "    </tr>\n",
       "    <tr>\n",
       "      <th>123399</th>\n",
       "      <td>546896</td>\n",
       "      <td>DOT</td>\n",
       "      <td>DOTCOM POSTAGE</td>\n",
       "      <td>1</td>\n",
       "      <td>2017-03-15</td>\n",
       "      <td>255.04</td>\n",
       "      <td>United Kingdom</td>\n",
       "      <td>19887</td>\n",
       "    </tr>\n",
       "    <tr>\n",
       "      <th>191503</th>\n",
       "      <td>C553373</td>\n",
       "      <td>M</td>\n",
       "      <td>Manual</td>\n",
       "      <td>-1</td>\n",
       "      <td>2017-05-14</td>\n",
       "      <td>233.37</td>\n",
       "      <td>United Kingdom</td>\n",
       "      <td>20636</td>\n",
       "    </tr>\n",
       "    <tr>\n",
       "      <th>270603</th>\n",
       "      <td>560579</td>\n",
       "      <td>M</td>\n",
       "      <td>Manual</td>\n",
       "      <td>12</td>\n",
       "      <td>2017-07-17</td>\n",
       "      <td>0.42</td>\n",
       "      <td>United Kingdom</td>\n",
       "      <td>15867</td>\n",
       "    </tr>\n",
       "    <tr>\n",
       "      <th>255020</th>\n",
       "      <td>559337</td>\n",
       "      <td>DOT</td>\n",
       "      <td>DOTCOM POSTAGE</td>\n",
       "      <td>1</td>\n",
       "      <td>2017-07-05</td>\n",
       "      <td>298.31</td>\n",
       "      <td>United Kingdom</td>\n",
       "      <td>21146</td>\n",
       "    </tr>\n",
       "    <tr>\n",
       "      <th>381479</th>\n",
       "      <td>569866</td>\n",
       "      <td>M</td>\n",
       "      <td>Manual</td>\n",
       "      <td>2</td>\n",
       "      <td>2017-10-04</td>\n",
       "      <td>1.25</td>\n",
       "      <td>Portugal</td>\n",
       "      <td>12757</td>\n",
       "    </tr>\n",
       "    <tr>\n",
       "      <th>316733</th>\n",
       "      <td>564755</td>\n",
       "      <td>DOT</td>\n",
       "      <td>DOTCOM POSTAGE</td>\n",
       "      <td>1</td>\n",
       "      <td>2017-08-28</td>\n",
       "      <td>170.92</td>\n",
       "      <td>United Kingdom</td>\n",
       "      <td>21561</td>\n",
       "    </tr>\n",
       "    <tr>\n",
       "      <th>91279</th>\n",
       "      <td>544089</td>\n",
       "      <td>DOT</td>\n",
       "      <td>DOTCOM POSTAGE</td>\n",
       "      <td>1</td>\n",
       "      <td>2017-02-13</td>\n",
       "      <td>111.86</td>\n",
       "      <td>United Kingdom</td>\n",
       "      <td>19672</td>\n",
       "    </tr>\n",
       "    <tr>\n",
       "      <th>342635</th>\n",
       "      <td>C566899</td>\n",
       "      <td>AMAZONFEE</td>\n",
       "      <td>AMAZON FEE</td>\n",
       "      <td>-1</td>\n",
       "      <td>2017-09-13</td>\n",
       "      <td>7427.97</td>\n",
       "      <td>United Kingdom</td>\n",
       "      <td>21718</td>\n",
       "    </tr>\n",
       "    <tr>\n",
       "      <th>54770</th>\n",
       "      <td>540976</td>\n",
       "      <td>POST</td>\n",
       "      <td>POSTAGE</td>\n",
       "      <td>7</td>\n",
       "      <td>2017-01-10</td>\n",
       "      <td>18.00</td>\n",
       "      <td>France</td>\n",
       "      <td>12652</td>\n",
       "    </tr>\n",
       "  </tbody>\n",
       "</table>\n",
       "</div>"
      ],
      "text/plain": [
       "       invoice_no stock_code     description  quantity invoice_date  unit_price         country  customer_id\n",
       "541540     581498        DOT  DOTCOM POSTAGE         1   2017-12-07     1714.17  United Kingdom        22709\n",
       "123399     546896        DOT  DOTCOM POSTAGE         1   2017-03-15      255.04  United Kingdom        19887\n",
       "191503    C553373          M          Manual        -1   2017-05-14      233.37  United Kingdom        20636\n",
       "270603     560579          M          Manual        12   2017-07-17        0.42  United Kingdom        15867\n",
       "255020     559337        DOT  DOTCOM POSTAGE         1   2017-07-05      298.31  United Kingdom        21146\n",
       "381479     569866          M          Manual         2   2017-10-04        1.25        Portugal        12757\n",
       "316733     564755        DOT  DOTCOM POSTAGE         1   2017-08-28      170.92  United Kingdom        21561\n",
       "91279      544089        DOT  DOTCOM POSTAGE         1   2017-02-13      111.86  United Kingdom        19672\n",
       "342635    C566899  AMAZONFEE      AMAZON FEE        -1   2017-09-13     7427.97  United Kingdom        21718\n",
       "54770      540976       POST         POSTAGE         7   2017-01-10       18.00          France        12652"
      ]
     },
     "execution_count": 31,
     "metadata": {},
     "output_type": "execute_result"
    }
   ],
   "source": [
    "#find samples:\n",
    "df1.loc[df1['stock_code'].apply( lambda x: bool( re.search( '^[a-zA-Z]+$', x ) ) ) ].sample(10)"
   ]
  },
  {
   "cell_type": "markdown",
   "id": "15a3c46e",
   "metadata": {
    "heading_collapsed": true
   },
   "source": [
    "# Variable Filtering"
   ]
  },
  {
   "cell_type": "code",
   "execution_count": 32,
   "id": "799a0bad",
   "metadata": {
    "ExecuteTime": {
     "end_time": "2022-08-28T18:23:12.917671Z",
     "start_time": "2022-08-28T18:23:12.878621Z"
    },
    "hidden": true
   },
   "outputs": [],
   "source": [
    "df2 = df1.copy()\n",
    "#df2.to_csv(\"../data/interim/cycle8/df2_data_description_done.csv\")"
   ]
  },
  {
   "cell_type": "code",
   "execution_count": 33,
   "id": "5c1d64a5",
   "metadata": {
    "ExecuteTime": {
     "end_time": "2022-08-28T18:23:13.336575Z",
     "start_time": "2022-08-28T18:23:12.925137Z"
    },
    "hidden": true
   },
   "outputs": [],
   "source": [
    "#remove bad users:\n",
    "df2 = df2.loc[~df2['customer_id'].isin([16446, 15749, 12346]) ]\n",
    "\n",
    "##Cat Attr\n",
    "\n",
    "#2. stock_code - remove useless values:\n",
    "df2 = df2.loc[~df2['stock_code'].isin( ['POST', 'D', 'DOT', 'M', 'S', 'AMAZONFEE', 'm', 'DCGSSBOY','DCGSSGIRL', 'PADS', 'B', 'CRUK'] ) ]\n",
    "#3. description - remove useless feature:\n",
    "df2 = df2.drop('description', axis=1)\n",
    "#4. country - remove 2 values:\n",
    "df2 = df2[~df2['country'].isin( ['European Community', 'Unspecified' ] ) ]\n",
    "\n",
    "##Num Attr\n",
    "#2. unit_price - remove <0.03:\n",
    "df2 = df2.loc[df2['unit_price'] >= 0.04 ]\n",
    "#1. quantity - separete into 2 datasets:\n",
    "df2_returns = df2.loc[df2['quantity'] < 0]\n",
    "df2_purchases = df2.loc[df2['quantity'] > 0] #there is no quantity == 0."
   ]
  },
  {
   "cell_type": "markdown",
   "id": "fcb544cc",
   "metadata": {
    "heading_collapsed": true
   },
   "source": [
    "# Feature Engeneering"
   ]
  },
  {
   "cell_type": "code",
   "execution_count": 34,
   "id": "b7fe8df9",
   "metadata": {
    "ExecuteTime": {
     "end_time": "2022-08-28T18:23:13.402100Z",
     "start_time": "2022-08-28T18:23:13.341007Z"
    },
    "hidden": true
   },
   "outputs": [],
   "source": [
    "df3 = df2.copy()\n",
    "df3_returns = df2_returns.copy()\n",
    "df3_purchases = df2_purchases.copy()\n",
    "#df3.to_csv(\"../data/interim/cycle8/df3_var_filtering_done.csv\")\n",
    "#df3_returns.to_csv(\"../data/interim/cycle8/df3_returns.csv\")\n",
    "#df3_purchases.to_csv(\"../data/interim/cycle8/df3_purchases.csv\")"
   ]
  },
  {
   "cell_type": "code",
   "execution_count": 35,
   "id": "0de920f0",
   "metadata": {
    "ExecuteTime": {
     "end_time": "2022-08-28T18:23:13.462495Z",
     "start_time": "2022-08-28T18:23:13.407226Z"
    },
    "hidden": true
   },
   "outputs": [],
   "source": [
    "#create the referente table with uniques customer_id (and reset index) \n",
    "df_ref = df3.drop(['invoice_no', 'stock_code', 'quantity', 'invoice_date',\n",
    "       'unit_price', 'country'], axis=1).drop_duplicates(ignore_index=True).copy()"
   ]
  },
  {
   "cell_type": "code",
   "execution_count": 36,
   "id": "e124b3ae",
   "metadata": {
    "ExecuteTime": {
     "end_time": "2022-08-28T18:23:13.512579Z",
     "start_time": "2022-08-28T18:23:13.468138Z"
    },
    "hidden": true
   },
   "outputs": [
    {
     "data": {
      "text/html": [
       "<div>\n",
       "<style scoped>\n",
       "    .dataframe tbody tr th:only-of-type {\n",
       "        vertical-align: middle;\n",
       "    }\n",
       "\n",
       "    .dataframe tbody tr th {\n",
       "        vertical-align: top;\n",
       "    }\n",
       "\n",
       "    .dataframe thead th {\n",
       "        text-align: right;\n",
       "    }\n",
       "</style>\n",
       "<table border=\"1\" class=\"dataframe\">\n",
       "  <thead>\n",
       "    <tr style=\"text-align: right;\">\n",
       "      <th></th>\n",
       "      <th>customer_id</th>\n",
       "    </tr>\n",
       "  </thead>\n",
       "  <tbody>\n",
       "    <tr>\n",
       "      <th>0</th>\n",
       "      <td>17850</td>\n",
       "    </tr>\n",
       "    <tr>\n",
       "      <th>1</th>\n",
       "      <td>13047</td>\n",
       "    </tr>\n",
       "    <tr>\n",
       "      <th>2</th>\n",
       "      <td>12583</td>\n",
       "    </tr>\n",
       "    <tr>\n",
       "      <th>3</th>\n",
       "      <td>13748</td>\n",
       "    </tr>\n",
       "    <tr>\n",
       "      <th>4</th>\n",
       "      <td>15100</td>\n",
       "    </tr>\n",
       "    <tr>\n",
       "      <th>...</th>\n",
       "      <td>...</td>\n",
       "    </tr>\n",
       "    <tr>\n",
       "      <th>5779</th>\n",
       "      <td>22706</td>\n",
       "    </tr>\n",
       "    <tr>\n",
       "      <th>5780</th>\n",
       "      <td>22707</td>\n",
       "    </tr>\n",
       "    <tr>\n",
       "      <th>5781</th>\n",
       "      <td>22708</td>\n",
       "    </tr>\n",
       "    <tr>\n",
       "      <th>5782</th>\n",
       "      <td>22709</td>\n",
       "    </tr>\n",
       "    <tr>\n",
       "      <th>5783</th>\n",
       "      <td>12713</td>\n",
       "    </tr>\n",
       "  </tbody>\n",
       "</table>\n",
       "<p>5784 rows × 1 columns</p>\n",
       "</div>"
      ],
      "text/plain": [
       "      customer_id\n",
       "0           17850\n",
       "1           13047\n",
       "2           12583\n",
       "3           13748\n",
       "4           15100\n",
       "...           ...\n",
       "5779        22706\n",
       "5780        22707\n",
       "5781        22708\n",
       "5782        22709\n",
       "5783        12713\n",
       "\n",
       "[5784 rows x 1 columns]"
      ]
     },
     "execution_count": 36,
     "metadata": {},
     "output_type": "execute_result"
    }
   ],
   "source": [
    "df_ref"
   ]
  },
  {
   "cell_type": "markdown",
   "id": "2fb6eaa3",
   "metadata": {
    "heading_collapsed": true,
    "hidden": true
   },
   "source": [
    "## Gross Revenue"
   ]
  },
  {
   "cell_type": "code",
   "execution_count": 37,
   "id": "e8b43da9",
   "metadata": {
    "ExecuteTime": {
     "end_time": "2022-08-28T18:23:13.957378Z",
     "start_time": "2022-08-28T18:23:13.520141Z"
    },
    "hidden": true
   },
   "outputs": [
    {
     "data": {
      "text/plain": [
       "customer_id       0\n",
       "gross_revenue    91\n",
       "dtype: int64"
      ]
     },
     "execution_count": 37,
     "metadata": {},
     "output_type": "execute_result"
    }
   ],
   "source": [
    "# Gross Revenue: (quantity * price of each purchase)\n",
    "    #here, we just want to consider gross revenue from sales, not discounting returns, so lets use df3_purchases\n",
    "df3_purchases['gross_revenue'] = df3_purchases['quantity'] * df3_purchases['unit_price']\n",
    "df_monetary = df3_purchases[['customer_id','gross_revenue']].groupby('customer_id').sum().reset_index()\n",
    "df_ref = pd.merge( df_ref, df_monetary, on='customer_id', how='left' )\n",
    "df_ref.isna().sum()"
   ]
  },
  {
   "cell_type": "markdown",
   "id": "1f2e8f88",
   "metadata": {
    "heading_collapsed": true,
    "hidden": true
   },
   "source": [
    "## Recency"
   ]
  },
  {
   "cell_type": "code",
   "execution_count": 38,
   "id": "ee7238af",
   "metadata": {
    "ExecuteTime": {
     "end_time": "2022-08-28T18:23:14.138711Z",
     "start_time": "2022-08-28T18:23:13.966126Z"
    },
    "hidden": true
   },
   "outputs": [
    {
     "data": {
      "text/plain": [
       "customer_id       0\n",
       "gross_revenue    91\n",
       "recency_days     91\n",
       "dtype: int64"
      ]
     },
     "execution_count": 38,
     "metadata": {},
     "output_type": "execute_result"
    }
   ],
   "source": [
    "# Recency: number of days since last purchase\n",
    "    #here, we want to know the last day this customer bought. If he returned, we don't want to count that day as last purchase, so let's consider just df3_purchases\n",
    "df_recency = df3_purchases[['customer_id','invoice_date']].groupby('customer_id').max().reset_index()\n",
    "df_recency['recency_days'] = (df3_purchases['invoice_date'].max() - df_recency['invoice_date']).dt.days\n",
    "df_recency = df_recency[['customer_id', 'recency_days']].copy()\n",
    "df_ref = pd.merge( df_ref, df_recency, on='customer_id', how='left' )\n",
    "df_ref.isna().sum()"
   ]
  },
  {
   "cell_type": "markdown",
   "id": "a96add91",
   "metadata": {
    "heading_collapsed": true,
    "hidden": true
   },
   "source": [
    "## Invoice Quantity"
   ]
  },
  {
   "cell_type": "code",
   "execution_count": 39,
   "id": "fed18eeb",
   "metadata": {
    "ExecuteTime": {
     "end_time": "2022-08-28T18:23:14.410006Z",
     "start_time": "2022-08-28T18:23:14.147117Z"
    },
    "hidden": true
   },
   "outputs": [
    {
     "data": {
      "text/plain": [
       "customer_id       0\n",
       "gross_revenue    91\n",
       "recency_days     91\n",
       "qtt_invoices     91\n",
       "dtype: int64"
      ]
     },
     "execution_count": 39,
     "metadata": {},
     "output_type": "execute_result"
    }
   ],
   "source": [
    "#quantity of invoices per customer\n",
    "    #consider just purchases, not returns\n",
    "df_invoice = df3_purchases[['customer_id','invoice_no']].drop_duplicates().groupby('customer_id').count().reset_index().rename(columns={'invoice_no':\"qtt_invoices\"})\n",
    "df_ref = pd.merge( df_ref, df_invoice, on='customer_id', how='left')\n",
    "df_ref.isna().sum()"
   ]
  },
  {
   "cell_type": "markdown",
   "id": "9f26259f",
   "metadata": {
    "heading_collapsed": true,
    "hidden": true
   },
   "source": [
    "## Unique Products"
   ]
  },
  {
   "cell_type": "code",
   "execution_count": 40,
   "id": "f233cdb5",
   "metadata": {
    "ExecuteTime": {
     "end_time": "2022-08-28T18:23:14.716504Z",
     "start_time": "2022-08-28T18:23:14.420111Z"
    },
    "hidden": true
   },
   "outputs": [
    {
     "data": {
      "text/plain": [
       "customer_id         0\n",
       "gross_revenue      91\n",
       "recency_days       91\n",
       "qtt_invoices       91\n",
       "unique_products    91\n",
       "dtype: int64"
      ]
     },
     "execution_count": 40,
     "metadata": {},
     "output_type": "execute_result"
    }
   ],
   "source": [
    "#quantity of distinct products per customer\n",
    "    #consider just purchases, not returns\n",
    "df_invoice = df3_purchases[['customer_id','stock_code']].drop_duplicates().groupby('customer_id').count().reset_index().rename(columns={'stock_code':\"unique_products\"})\n",
    "df_ref = pd.merge( df_ref, df_invoice, on='customer_id', how='left')\n",
    "df_ref.isna().sum()"
   ]
  },
  {
   "cell_type": "markdown",
   "id": "aa51ce01",
   "metadata": {
    "heading_collapsed": true,
    "hidden": true
   },
   "source": [
    "## Unique Items"
   ]
  },
  {
   "cell_type": "code",
   "execution_count": 41,
   "id": "48c214d3",
   "metadata": {
    "ExecuteTime": {
     "end_time": "2022-08-28T18:23:14.795373Z",
     "start_time": "2022-08-28T18:23:14.720739Z"
    },
    "hidden": true
   },
   "outputs": [
    {
     "data": {
      "text/plain": [
       "customer_id         0\n",
       "gross_revenue      91\n",
       "recency_days       91\n",
       "qtt_invoices       91\n",
       "unique_products    91\n",
       "unique_items       91\n",
       "dtype: int64"
      ]
     },
     "execution_count": 41,
     "metadata": {},
     "output_type": "execute_result"
    }
   ],
   "source": [
    "#quantity of items purchased per customer\n",
    "    #consider just purchases, not returns\n",
    "df_prod_quantity = df3_purchases[['customer_id','quantity']].groupby('customer_id').sum().reset_index().rename(columns ={'quantity':'unique_items'})\n",
    "df_ref = pd.merge( df_ref, df_prod_quantity, on='customer_id', how='left')\n",
    "df_ref.isna().sum()"
   ]
  },
  {
   "cell_type": "markdown",
   "id": "d8070275",
   "metadata": {
    "heading_collapsed": true,
    "hidden": true
   },
   "source": [
    "## Daily Purchase Rate"
   ]
  },
  {
   "cell_type": "code",
   "execution_count": 42,
   "id": "d0a6f88e",
   "metadata": {
    "ExecuteTime": {
     "end_time": "2022-08-28T18:23:18.315645Z",
     "start_time": "2022-08-28T18:23:14.801073Z"
    },
    "hidden": true
   },
   "outputs": [
    {
     "data": {
      "text/plain": [
       "customer_id             0\n",
       "gross_revenue          91\n",
       "recency_days           91\n",
       "qtt_invoices           91\n",
       "unique_products        91\n",
       "unique_items           91\n",
       "daily_purchase_rate    91\n",
       "dtype: int64"
      ]
     },
     "execution_count": 42,
     "metadata": {},
     "output_type": "execute_result"
    }
   ],
   "source": [
    "# purchase rate per day during the period\n",
    "#per customer and invoice, get min and max invoice date, total days between min and max, and quantity of invoices\n",
    "df_aux = ( df3_purchases[['customer_id', 'invoice_no', 'invoice_date']].drop_duplicates()\n",
    "            .groupby( 'customer_id')\n",
    "            #new column name ('apply on this columns', 'operation')\n",
    "            .agg( max_invoice_date = ( 'invoice_date', 'max' ), \n",
    "                  min_invoice_date = ( 'invoice_date', 'min' ),\n",
    "                  invoice_total_days= ( 'invoice_date', lambda x: ((x.max() - x.min()).days)+1),\n",
    "                  invoice_count = ( 'invoice_no', 'count' ) ) ).reset_index()\n",
    "\n",
    "# Frequency: invoice_count / invoice_total_days (if invoice_total_days != 0)\n",
    "df_aux['daily_purchase_rate'] = df_aux[['invoice_count', 'invoice_total_days']].apply( \n",
    "    lambda x: x['invoice_count'] / x['invoice_total_days'] \n",
    "         if  x['invoice_total_days'] != 0 else 0, axis=1 )\n",
    "\n",
    "# Merge\n",
    "df_ref = pd.merge( df_ref, df_aux[['customer_id', 'daily_purchase_rate']], on='customer_id', how='left' )\n",
    "\n",
    "df_ref.isna().sum()"
   ]
  },
  {
   "cell_type": "markdown",
   "id": "b442d0be",
   "metadata": {
    "heading_collapsed": true,
    "hidden": true
   },
   "source": [
    "## Returns"
   ]
  },
  {
   "cell_type": "code",
   "execution_count": 43,
   "id": "5dc2964a",
   "metadata": {
    "ExecuteTime": {
     "end_time": "2022-08-28T18:23:18.379785Z",
     "start_time": "2022-08-28T18:23:18.319670Z"
    },
    "code_folding": [],
    "hidden": true
   },
   "outputs": [
    {
     "data": {
      "text/plain": [
       "customer_id             0\n",
       "gross_revenue          91\n",
       "recency_days           91\n",
       "qtt_invoices           91\n",
       "unique_products        91\n",
       "unique_items           91\n",
       "daily_purchase_rate    91\n",
       "total_prod_returned     0\n",
       "dtype: int64"
      ]
     },
     "execution_count": 43,
     "metadata": {},
     "output_type": "execute_result"
    }
   ],
   "source": [
    "#number of products (items) returned per customer\n",
    "df_returns = df3_returns[['customer_id','quantity']].groupby('customer_id').sum().reset_index().rename( columns={'quantity':'total_prod_returned'} )\n",
    "\n",
    "#convert to positive, cause we know it's a devolution, no need to be negative anymore:\n",
    "df_returns['total_prod_returned'] = df_returns['total_prod_returned'] * -1\n",
    "\n",
    "#bind\n",
    "df_ref = pd.merge( df_ref, df_returns, how='left', on='customer_id' )\n",
    "\n",
    "#since df_ref has all customers (purchases + returns), we can say these 4191 with NA in total_prod_returned are from df3_purchases, so let's assign zero to them:\n",
    "df_ref.loc[df_ref['total_prod_returned'].isna(), 'total_prod_returned'] = 0\n",
    "\n",
    "df_ref.isna().sum()"
   ]
  },
  {
   "cell_type": "markdown",
   "id": "72b25f17",
   "metadata": {
    "heading_collapsed": true
   },
   "source": [
    "# Data Preparation"
   ]
  },
  {
   "cell_type": "code",
   "execution_count": 44,
   "id": "a6f50b7f",
   "metadata": {
    "ExecuteTime": {
     "end_time": "2022-08-28T18:23:18.410108Z",
     "start_time": "2022-08-28T18:23:18.384150Z"
    },
    "hidden": true
   },
   "outputs": [
    {
     "data": {
      "text/html": [
       "<div>\n",
       "<style scoped>\n",
       "    .dataframe tbody tr th:only-of-type {\n",
       "        vertical-align: middle;\n",
       "    }\n",
       "\n",
       "    .dataframe tbody tr th {\n",
       "        vertical-align: top;\n",
       "    }\n",
       "\n",
       "    .dataframe thead th {\n",
       "        text-align: right;\n",
       "    }\n",
       "</style>\n",
       "<table border=\"1\" class=\"dataframe\">\n",
       "  <thead>\n",
       "    <tr style=\"text-align: right;\">\n",
       "      <th></th>\n",
       "      <th>customer_id</th>\n",
       "      <th>gross_revenue</th>\n",
       "      <th>recency_days</th>\n",
       "      <th>qtt_invoices</th>\n",
       "      <th>unique_products</th>\n",
       "      <th>unique_items</th>\n",
       "      <th>daily_purchase_rate</th>\n",
       "      <th>total_prod_returned</th>\n",
       "    </tr>\n",
       "  </thead>\n",
       "  <tbody>\n",
       "    <tr>\n",
       "      <th>0</th>\n",
       "      <td>17850</td>\n",
       "      <td>5391.21</td>\n",
       "      <td>372.0</td>\n",
       "      <td>34.0</td>\n",
       "      <td>21.0</td>\n",
       "      <td>1733.0</td>\n",
       "      <td>17.000000</td>\n",
       "      <td>40.0</td>\n",
       "    </tr>\n",
       "    <tr>\n",
       "      <th>1</th>\n",
       "      <td>13047</td>\n",
       "      <td>3232.59</td>\n",
       "      <td>56.0</td>\n",
       "      <td>9.0</td>\n",
       "      <td>105.0</td>\n",
       "      <td>1390.0</td>\n",
       "      <td>0.028302</td>\n",
       "      <td>35.0</td>\n",
       "    </tr>\n",
       "    <tr>\n",
       "      <th>2</th>\n",
       "      <td>12583</td>\n",
       "      <td>6705.38</td>\n",
       "      <td>2.0</td>\n",
       "      <td>15.0</td>\n",
       "      <td>114.0</td>\n",
       "      <td>5028.0</td>\n",
       "      <td>0.040323</td>\n",
       "      <td>50.0</td>\n",
       "    </tr>\n",
       "    <tr>\n",
       "      <th>3</th>\n",
       "      <td>13748</td>\n",
       "      <td>948.25</td>\n",
       "      <td>95.0</td>\n",
       "      <td>5.0</td>\n",
       "      <td>24.0</td>\n",
       "      <td>439.0</td>\n",
       "      <td>0.017921</td>\n",
       "      <td>0.0</td>\n",
       "    </tr>\n",
       "    <tr>\n",
       "      <th>4</th>\n",
       "      <td>15100</td>\n",
       "      <td>876.00</td>\n",
       "      <td>333.0</td>\n",
       "      <td>3.0</td>\n",
       "      <td>1.0</td>\n",
       "      <td>80.0</td>\n",
       "      <td>0.073171</td>\n",
       "      <td>22.0</td>\n",
       "    </tr>\n",
       "  </tbody>\n",
       "</table>\n",
       "</div>"
      ],
      "text/plain": [
       "   customer_id  gross_revenue  recency_days  qtt_invoices  unique_products  unique_items  daily_purchase_rate  total_prod_returned\n",
       "0        17850        5391.21         372.0          34.0             21.0        1733.0            17.000000                 40.0\n",
       "1        13047        3232.59          56.0           9.0            105.0        1390.0             0.028302                 35.0\n",
       "2        12583        6705.38           2.0          15.0            114.0        5028.0             0.040323                 50.0\n",
       "3        13748         948.25          95.0           5.0             24.0         439.0             0.017921                  0.0\n",
       "4        15100         876.00         333.0           3.0              1.0          80.0             0.073171                 22.0"
      ]
     },
     "execution_count": 44,
     "metadata": {},
     "output_type": "execute_result"
    }
   ],
   "source": [
    "df_ref.head()"
   ]
  },
  {
   "cell_type": "code",
   "execution_count": 45,
   "id": "6948504b",
   "metadata": {
    "ExecuteTime": {
     "end_time": "2022-08-28T18:23:18.442123Z",
     "start_time": "2022-08-28T18:23:18.417356Z"
    },
    "hidden": true
   },
   "outputs": [
    {
     "data": {
      "text/plain": [
       "customer_id             0\n",
       "gross_revenue          91\n",
       "recency_days           91\n",
       "qtt_invoices           91\n",
       "unique_products        91\n",
       "unique_items           91\n",
       "daily_purchase_rate    91\n",
       "total_prod_returned     0\n",
       "dtype: int64"
      ]
     },
     "execution_count": 45,
     "metadata": {},
     "output_type": "execute_result"
    }
   ],
   "source": [
    "df_ref.isna().sum()"
   ]
  },
  {
   "cell_type": "code",
   "execution_count": 46,
   "id": "bcde14ab",
   "metadata": {
    "ExecuteTime": {
     "end_time": "2022-08-28T18:23:18.503340Z",
     "start_time": "2022-08-28T18:23:18.453303Z"
    },
    "hidden": true
   },
   "outputs": [
    {
     "data": {
      "text/html": [
       "<div>\n",
       "<style scoped>\n",
       "    .dataframe tbody tr th:only-of-type {\n",
       "        vertical-align: middle;\n",
       "    }\n",
       "\n",
       "    .dataframe tbody tr th {\n",
       "        vertical-align: top;\n",
       "    }\n",
       "\n",
       "    .dataframe thead th {\n",
       "        text-align: right;\n",
       "    }\n",
       "</style>\n",
       "<table border=\"1\" class=\"dataframe\">\n",
       "  <thead>\n",
       "    <tr style=\"text-align: right;\">\n",
       "      <th></th>\n",
       "      <th>customer_id</th>\n",
       "      <th>gross_revenue</th>\n",
       "      <th>recency_days</th>\n",
       "      <th>qtt_invoices</th>\n",
       "      <th>unique_products</th>\n",
       "      <th>unique_items</th>\n",
       "      <th>daily_purchase_rate</th>\n",
       "      <th>total_prod_returned</th>\n",
       "    </tr>\n",
       "  </thead>\n",
       "  <tbody>\n",
       "    <tr>\n",
       "      <th>0</th>\n",
       "      <td>17850</td>\n",
       "      <td>5391.21</td>\n",
       "      <td>372.0</td>\n",
       "      <td>34.0</td>\n",
       "      <td>21.0</td>\n",
       "      <td>1733.0</td>\n",
       "      <td>17.000000</td>\n",
       "      <td>40.0</td>\n",
       "    </tr>\n",
       "    <tr>\n",
       "      <th>1</th>\n",
       "      <td>13047</td>\n",
       "      <td>3232.59</td>\n",
       "      <td>56.0</td>\n",
       "      <td>9.0</td>\n",
       "      <td>105.0</td>\n",
       "      <td>1390.0</td>\n",
       "      <td>0.028302</td>\n",
       "      <td>35.0</td>\n",
       "    </tr>\n",
       "    <tr>\n",
       "      <th>2</th>\n",
       "      <td>12583</td>\n",
       "      <td>6705.38</td>\n",
       "      <td>2.0</td>\n",
       "      <td>15.0</td>\n",
       "      <td>114.0</td>\n",
       "      <td>5028.0</td>\n",
       "      <td>0.040323</td>\n",
       "      <td>50.0</td>\n",
       "    </tr>\n",
       "    <tr>\n",
       "      <th>3</th>\n",
       "      <td>13748</td>\n",
       "      <td>948.25</td>\n",
       "      <td>95.0</td>\n",
       "      <td>5.0</td>\n",
       "      <td>24.0</td>\n",
       "      <td>439.0</td>\n",
       "      <td>0.017921</td>\n",
       "      <td>0.0</td>\n",
       "    </tr>\n",
       "    <tr>\n",
       "      <th>4</th>\n",
       "      <td>15100</td>\n",
       "      <td>876.00</td>\n",
       "      <td>333.0</td>\n",
       "      <td>3.0</td>\n",
       "      <td>1.0</td>\n",
       "      <td>80.0</td>\n",
       "      <td>0.073171</td>\n",
       "      <td>22.0</td>\n",
       "    </tr>\n",
       "    <tr>\n",
       "      <th>...</th>\n",
       "      <td>...</td>\n",
       "      <td>...</td>\n",
       "      <td>...</td>\n",
       "      <td>...</td>\n",
       "      <td>...</td>\n",
       "      <td>...</td>\n",
       "      <td>...</td>\n",
       "      <td>...</td>\n",
       "    </tr>\n",
       "    <tr>\n",
       "      <th>5779</th>\n",
       "      <td>22706</td>\n",
       "      <td>5699.00</td>\n",
       "      <td>1.0</td>\n",
       "      <td>1.0</td>\n",
       "      <td>634.0</td>\n",
       "      <td>1747.0</td>\n",
       "      <td>1.000000</td>\n",
       "      <td>0.0</td>\n",
       "    </tr>\n",
       "    <tr>\n",
       "      <th>5780</th>\n",
       "      <td>22707</td>\n",
       "      <td>6756.06</td>\n",
       "      <td>0.0</td>\n",
       "      <td>1.0</td>\n",
       "      <td>730.0</td>\n",
       "      <td>2010.0</td>\n",
       "      <td>1.000000</td>\n",
       "      <td>0.0</td>\n",
       "    </tr>\n",
       "    <tr>\n",
       "      <th>5781</th>\n",
       "      <td>22708</td>\n",
       "      <td>3217.20</td>\n",
       "      <td>0.0</td>\n",
       "      <td>1.0</td>\n",
       "      <td>56.0</td>\n",
       "      <td>654.0</td>\n",
       "      <td>1.000000</td>\n",
       "      <td>0.0</td>\n",
       "    </tr>\n",
       "    <tr>\n",
       "      <th>5782</th>\n",
       "      <td>22709</td>\n",
       "      <td>3950.72</td>\n",
       "      <td>0.0</td>\n",
       "      <td>1.0</td>\n",
       "      <td>217.0</td>\n",
       "      <td>731.0</td>\n",
       "      <td>1.000000</td>\n",
       "      <td>0.0</td>\n",
       "    </tr>\n",
       "    <tr>\n",
       "      <th>5783</th>\n",
       "      <td>12713</td>\n",
       "      <td>794.55</td>\n",
       "      <td>0.0</td>\n",
       "      <td>1.0</td>\n",
       "      <td>37.0</td>\n",
       "      <td>505.0</td>\n",
       "      <td>1.000000</td>\n",
       "      <td>0.0</td>\n",
       "    </tr>\n",
       "  </tbody>\n",
       "</table>\n",
       "<p>5693 rows × 8 columns</p>\n",
       "</div>"
      ],
      "text/plain": [
       "      customer_id  gross_revenue  recency_days  qtt_invoices  unique_products  unique_items  daily_purchase_rate  total_prod_returned\n",
       "0           17850        5391.21         372.0          34.0             21.0        1733.0            17.000000                 40.0\n",
       "1           13047        3232.59          56.0           9.0            105.0        1390.0             0.028302                 35.0\n",
       "2           12583        6705.38           2.0          15.0            114.0        5028.0             0.040323                 50.0\n",
       "3           13748         948.25          95.0           5.0             24.0         439.0             0.017921                  0.0\n",
       "4           15100         876.00         333.0           3.0              1.0          80.0             0.073171                 22.0\n",
       "...           ...            ...           ...           ...              ...           ...                  ...                  ...\n",
       "5779        22706        5699.00           1.0           1.0            634.0        1747.0             1.000000                  0.0\n",
       "5780        22707        6756.06           0.0           1.0            730.0        2010.0             1.000000                  0.0\n",
       "5781        22708        3217.20           0.0           1.0             56.0         654.0             1.000000                  0.0\n",
       "5782        22709        3950.72           0.0           1.0            217.0         731.0             1.000000                  0.0\n",
       "5783        12713         794.55           0.0           1.0             37.0         505.0             1.000000                  0.0\n",
       "\n",
       "[5693 rows x 8 columns]"
      ]
     },
     "execution_count": 46,
     "metadata": {},
     "output_type": "execute_result"
    }
   ],
   "source": [
    "df_ref = df_ref.dropna() #was at EDA\n",
    "df5 = df_ref.copy() #because EDA Uni and Biv were deleted\n",
    "df5"
   ]
  },
  {
   "cell_type": "code",
   "execution_count": 47,
   "id": "80ead11a",
   "metadata": {
    "ExecuteTime": {
     "end_time": "2022-08-28T18:23:18.660378Z",
     "start_time": "2022-08-28T18:23:18.511786Z"
    },
    "code_folding": [],
    "hidden": true
   },
   "outputs": [],
   "source": [
    "#test each variable to define wich is the best standardization or reescaling\n",
    "mm = pp.MinMaxScaler()\n",
    "ss = pp.StandardScaler()\n",
    "rs = pp.RobustScaler()\n",
    "\n",
    "df5['gross_revenue'] = mm.fit_transform(df5[['gross_revenue']])\n",
    "df5['recency_days'] = mm.fit_transform(df5[['recency_days']])\n",
    "df5['qtt_invoices'] = mm.fit_transform(df5[['qtt_invoices']])\n",
    "df5['unique_products'] = mm.fit_transform(df5[['unique_products']])\n",
    "df5['unique_items'] = mm.fit_transform(df5[['unique_items']])\n",
    "df5['daily_purchase_rate'] = mm.fit_transform(df5[['daily_purchase_rate']])\n",
    "df5['total_prod_returned'] = mm.fit_transform(df5[['total_prod_returned']])"
   ]
  },
  {
   "cell_type": "code",
   "execution_count": 48,
   "id": "a28cbb49",
   "metadata": {
    "ExecuteTime": {
     "end_time": "2022-08-28T18:23:18.735457Z",
     "start_time": "2022-08-28T18:23:18.666822Z"
    },
    "hidden": true
   },
   "outputs": [
    {
     "data": {
      "text/html": [
       "<div>\n",
       "<style scoped>\n",
       "    .dataframe tbody tr th:only-of-type {\n",
       "        vertical-align: middle;\n",
       "    }\n",
       "\n",
       "    .dataframe tbody tr th {\n",
       "        vertical-align: top;\n",
       "    }\n",
       "\n",
       "    .dataframe thead th {\n",
       "        text-align: right;\n",
       "    }\n",
       "</style>\n",
       "<table border=\"1\" class=\"dataframe\">\n",
       "  <thead>\n",
       "    <tr style=\"text-align: right;\">\n",
       "      <th></th>\n",
       "      <th>customer_id</th>\n",
       "      <th>gross_revenue</th>\n",
       "      <th>recency_days</th>\n",
       "      <th>qtt_invoices</th>\n",
       "      <th>unique_products</th>\n",
       "      <th>unique_items</th>\n",
       "      <th>daily_purchase_rate</th>\n",
       "      <th>total_prod_returned</th>\n",
       "    </tr>\n",
       "  </thead>\n",
       "  <tbody>\n",
       "    <tr>\n",
       "      <th>0</th>\n",
       "      <td>17850</td>\n",
       "      <td>0.019312</td>\n",
       "      <td>0.997319</td>\n",
       "      <td>0.160976</td>\n",
       "      <td>0.011204</td>\n",
       "      <td>0.008799</td>\n",
       "      <td>1.000000</td>\n",
       "      <td>0.004998</td>\n",
       "    </tr>\n",
       "    <tr>\n",
       "      <th>1</th>\n",
       "      <td>13047</td>\n",
       "      <td>0.011579</td>\n",
       "      <td>0.150134</td>\n",
       "      <td>0.039024</td>\n",
       "      <td>0.058263</td>\n",
       "      <td>0.007056</td>\n",
       "      <td>0.001345</td>\n",
       "      <td>0.004373</td>\n",
       "    </tr>\n",
       "    <tr>\n",
       "      <th>2</th>\n",
       "      <td>12583</td>\n",
       "      <td>0.024020</td>\n",
       "      <td>0.005362</td>\n",
       "      <td>0.068293</td>\n",
       "      <td>0.063305</td>\n",
       "      <td>0.025538</td>\n",
       "      <td>0.002052</td>\n",
       "      <td>0.006247</td>\n",
       "    </tr>\n",
       "    <tr>\n",
       "      <th>3</th>\n",
       "      <td>13748</td>\n",
       "      <td>0.003396</td>\n",
       "      <td>0.254692</td>\n",
       "      <td>0.019512</td>\n",
       "      <td>0.012885</td>\n",
       "      <td>0.002225</td>\n",
       "      <td>0.000734</td>\n",
       "      <td>0.000000</td>\n",
       "    </tr>\n",
       "    <tr>\n",
       "      <th>4</th>\n",
       "      <td>15100</td>\n",
       "      <td>0.003137</td>\n",
       "      <td>0.892761</td>\n",
       "      <td>0.009756</td>\n",
       "      <td>0.000000</td>\n",
       "      <td>0.000401</td>\n",
       "      <td>0.003985</td>\n",
       "      <td>0.002749</td>\n",
       "    </tr>\n",
       "  </tbody>\n",
       "</table>\n",
       "</div>"
      ],
      "text/plain": [
       "   customer_id  gross_revenue  recency_days  qtt_invoices  unique_products  unique_items  daily_purchase_rate  total_prod_returned\n",
       "0        17850       0.019312      0.997319      0.160976         0.011204      0.008799             1.000000             0.004998\n",
       "1        13047       0.011579      0.150134      0.039024         0.058263      0.007056             0.001345             0.004373\n",
       "2        12583       0.024020      0.005362      0.068293         0.063305      0.025538             0.002052             0.006247\n",
       "3        13748       0.003396      0.254692      0.019512         0.012885      0.002225             0.000734             0.000000\n",
       "4        15100       0.003137      0.892761      0.009756         0.000000      0.000401             0.003985             0.002749"
      ]
     },
     "execution_count": 48,
     "metadata": {},
     "output_type": "execute_result"
    }
   ],
   "source": [
    "#after transformations:\n",
    "df5.head()"
   ]
  },
  {
   "cell_type": "markdown",
   "id": "9f1479f8",
   "metadata": {
    "heading_collapsed": true
   },
   "source": [
    "# Feature Selection"
   ]
  },
  {
   "cell_type": "code",
   "execution_count": 49,
   "id": "7443fbf1",
   "metadata": {
    "ExecuteTime": {
     "end_time": "2022-08-28T18:23:18.750431Z",
     "start_time": "2022-08-28T18:23:18.741181Z"
    },
    "hidden": true
   },
   "outputs": [],
   "source": [
    "df6 = df5.copy()\n",
    "#df6.to_csv(\"../data/interim/cycle8/df6_data_prep_done.csv\")"
   ]
  },
  {
   "cell_type": "code",
   "execution_count": 50,
   "id": "4aed4b7b",
   "metadata": {
    "ExecuteTime": {
     "end_time": "2022-08-28T18:23:18.808817Z",
     "start_time": "2022-08-28T18:23:18.771733Z"
    },
    "hidden": true
   },
   "outputs": [
    {
     "data": {
      "text/html": [
       "<div>\n",
       "<style scoped>\n",
       "    .dataframe tbody tr th:only-of-type {\n",
       "        vertical-align: middle;\n",
       "    }\n",
       "\n",
       "    .dataframe tbody tr th {\n",
       "        vertical-align: top;\n",
       "    }\n",
       "\n",
       "    .dataframe thead th {\n",
       "        text-align: right;\n",
       "    }\n",
       "</style>\n",
       "<table border=\"1\" class=\"dataframe\">\n",
       "  <thead>\n",
       "    <tr style=\"text-align: right;\">\n",
       "      <th></th>\n",
       "      <th>gross_revenue</th>\n",
       "      <th>recency_days</th>\n",
       "      <th>qtt_invoices</th>\n",
       "      <th>unique_products</th>\n",
       "      <th>unique_items</th>\n",
       "      <th>daily_purchase_rate</th>\n",
       "      <th>total_prod_returned</th>\n",
       "    </tr>\n",
       "  </thead>\n",
       "  <tbody>\n",
       "    <tr>\n",
       "      <th>0</th>\n",
       "      <td>0.019312</td>\n",
       "      <td>0.997319</td>\n",
       "      <td>0.160976</td>\n",
       "      <td>0.011204</td>\n",
       "      <td>0.008799</td>\n",
       "      <td>1.000000</td>\n",
       "      <td>0.004998</td>\n",
       "    </tr>\n",
       "    <tr>\n",
       "      <th>1</th>\n",
       "      <td>0.011579</td>\n",
       "      <td>0.150134</td>\n",
       "      <td>0.039024</td>\n",
       "      <td>0.058263</td>\n",
       "      <td>0.007056</td>\n",
       "      <td>0.001345</td>\n",
       "      <td>0.004373</td>\n",
       "    </tr>\n",
       "    <tr>\n",
       "      <th>2</th>\n",
       "      <td>0.024020</td>\n",
       "      <td>0.005362</td>\n",
       "      <td>0.068293</td>\n",
       "      <td>0.063305</td>\n",
       "      <td>0.025538</td>\n",
       "      <td>0.002052</td>\n",
       "      <td>0.006247</td>\n",
       "    </tr>\n",
       "    <tr>\n",
       "      <th>3</th>\n",
       "      <td>0.003396</td>\n",
       "      <td>0.254692</td>\n",
       "      <td>0.019512</td>\n",
       "      <td>0.012885</td>\n",
       "      <td>0.002225</td>\n",
       "      <td>0.000734</td>\n",
       "      <td>0.000000</td>\n",
       "    </tr>\n",
       "    <tr>\n",
       "      <th>4</th>\n",
       "      <td>0.003137</td>\n",
       "      <td>0.892761</td>\n",
       "      <td>0.009756</td>\n",
       "      <td>0.000000</td>\n",
       "      <td>0.000401</td>\n",
       "      <td>0.003985</td>\n",
       "      <td>0.002749</td>\n",
       "    </tr>\n",
       "  </tbody>\n",
       "</table>\n",
       "</div>"
      ],
      "text/plain": [
       "   gross_revenue  recency_days  qtt_invoices  unique_products  unique_items  daily_purchase_rate  total_prod_returned\n",
       "0       0.019312      0.997319      0.160976         0.011204      0.008799             1.000000             0.004998\n",
       "1       0.011579      0.150134      0.039024         0.058263      0.007056             0.001345             0.004373\n",
       "2       0.024020      0.005362      0.068293         0.063305      0.025538             0.002052             0.006247\n",
       "3       0.003396      0.254692      0.019512         0.012885      0.002225             0.000734             0.000000\n",
       "4       0.003137      0.892761      0.009756         0.000000      0.000401             0.003985             0.002749"
      ]
     },
     "execution_count": 50,
     "metadata": {},
     "output_type": "execute_result"
    }
   ],
   "source": [
    "#select features for variable space\n",
    "\n",
    "#drop customer_id\n",
    "X = df6.drop('customer_id', axis=1).copy()\n",
    "X.head()"
   ]
  },
  {
   "cell_type": "code",
   "execution_count": 51,
   "id": "a6fcccff",
   "metadata": {
    "ExecuteTime": {
     "end_time": "2022-08-28T18:23:18.857385Z",
     "start_time": "2022-08-28T18:23:18.823892Z"
    },
    "hidden": true
   },
   "outputs": [
    {
     "data": {
      "text/html": [
       "<div>\n",
       "<style scoped>\n",
       "    .dataframe tbody tr th:only-of-type {\n",
       "        vertical-align: middle;\n",
       "    }\n",
       "\n",
       "    .dataframe tbody tr th {\n",
       "        vertical-align: top;\n",
       "    }\n",
       "\n",
       "    .dataframe thead th {\n",
       "        text-align: right;\n",
       "    }\n",
       "</style>\n",
       "<table border=\"1\" class=\"dataframe\">\n",
       "  <thead>\n",
       "    <tr style=\"text-align: right;\">\n",
       "      <th></th>\n",
       "      <th>gross_revenue</th>\n",
       "      <th>recency_days</th>\n",
       "      <th>unique_products</th>\n",
       "      <th>daily_purchase_rate</th>\n",
       "      <th>total_prod_returned</th>\n",
       "    </tr>\n",
       "  </thead>\n",
       "  <tbody>\n",
       "    <tr>\n",
       "      <th>0</th>\n",
       "      <td>0.019312</td>\n",
       "      <td>0.997319</td>\n",
       "      <td>0.011204</td>\n",
       "      <td>1.000000</td>\n",
       "      <td>0.004998</td>\n",
       "    </tr>\n",
       "    <tr>\n",
       "      <th>1</th>\n",
       "      <td>0.011579</td>\n",
       "      <td>0.150134</td>\n",
       "      <td>0.058263</td>\n",
       "      <td>0.001345</td>\n",
       "      <td>0.004373</td>\n",
       "    </tr>\n",
       "    <tr>\n",
       "      <th>2</th>\n",
       "      <td>0.024020</td>\n",
       "      <td>0.005362</td>\n",
       "      <td>0.063305</td>\n",
       "      <td>0.002052</td>\n",
       "      <td>0.006247</td>\n",
       "    </tr>\n",
       "    <tr>\n",
       "      <th>3</th>\n",
       "      <td>0.003396</td>\n",
       "      <td>0.254692</td>\n",
       "      <td>0.012885</td>\n",
       "      <td>0.000734</td>\n",
       "      <td>0.000000</td>\n",
       "    </tr>\n",
       "    <tr>\n",
       "      <th>4</th>\n",
       "      <td>0.003137</td>\n",
       "      <td>0.892761</td>\n",
       "      <td>0.000000</td>\n",
       "      <td>0.003985</td>\n",
       "      <td>0.002749</td>\n",
       "    </tr>\n",
       "  </tbody>\n",
       "</table>\n",
       "</div>"
      ],
      "text/plain": [
       "   gross_revenue  recency_days  unique_products  daily_purchase_rate  total_prod_returned\n",
       "0       0.019312      0.997319         0.011204             1.000000             0.004998\n",
       "1       0.011579      0.150134         0.058263             0.001345             0.004373\n",
       "2       0.024020      0.005362         0.063305             0.002052             0.006247\n",
       "3       0.003396      0.254692         0.012885             0.000734             0.000000\n",
       "4       0.003137      0.892761         0.000000             0.003985             0.002749"
      ]
     },
     "execution_count": 51,
     "metadata": {},
     "output_type": "execute_result"
    }
   ],
   "source": [
    "#select features\n",
    "selected_features = ['gross_revenue','recency_days','unique_products','daily_purchase_rate','total_prod_returned'] #5\n",
    "\n",
    "X = X[selected_features].copy()\n",
    "X.head()"
   ]
  },
  {
   "cell_type": "markdown",
   "id": "6461ab0f",
   "metadata": {
    "ExecuteTime": {
     "end_time": "2022-08-26T19:53:01.411815Z",
     "start_time": "2022-08-26T19:53:01.405620Z"
    },
    "heading_collapsed": true
   },
   "source": [
    "# EDA - Data Space Study"
   ]
  },
  {
   "cell_type": "code",
   "execution_count": 52,
   "id": "3169818e",
   "metadata": {
    "ExecuteTime": {
     "end_time": "2022-08-28T18:23:18.894909Z",
     "start_time": "2022-08-28T18:23:18.863085Z"
    },
    "hidden": true
   },
   "outputs": [
    {
     "data": {
      "text/html": [
       "<div>\n",
       "<style scoped>\n",
       "    .dataframe tbody tr th:only-of-type {\n",
       "        vertical-align: middle;\n",
       "    }\n",
       "\n",
       "    .dataframe tbody tr th {\n",
       "        vertical-align: top;\n",
       "    }\n",
       "\n",
       "    .dataframe thead th {\n",
       "        text-align: right;\n",
       "    }\n",
       "</style>\n",
       "<table border=\"1\" class=\"dataframe\">\n",
       "  <thead>\n",
       "    <tr style=\"text-align: right;\">\n",
       "      <th></th>\n",
       "      <th>gross_revenue</th>\n",
       "      <th>recency_days</th>\n",
       "      <th>unique_products</th>\n",
       "      <th>daily_purchase_rate</th>\n",
       "      <th>total_prod_returned</th>\n",
       "    </tr>\n",
       "  </thead>\n",
       "  <tbody>\n",
       "    <tr>\n",
       "      <th>0</th>\n",
       "      <td>0.019312</td>\n",
       "      <td>0.997319</td>\n",
       "      <td>0.011204</td>\n",
       "      <td>1.000000</td>\n",
       "      <td>0.004998</td>\n",
       "    </tr>\n",
       "    <tr>\n",
       "      <th>1</th>\n",
       "      <td>0.011579</td>\n",
       "      <td>0.150134</td>\n",
       "      <td>0.058263</td>\n",
       "      <td>0.001345</td>\n",
       "      <td>0.004373</td>\n",
       "    </tr>\n",
       "    <tr>\n",
       "      <th>2</th>\n",
       "      <td>0.024020</td>\n",
       "      <td>0.005362</td>\n",
       "      <td>0.063305</td>\n",
       "      <td>0.002052</td>\n",
       "      <td>0.006247</td>\n",
       "    </tr>\n",
       "    <tr>\n",
       "      <th>3</th>\n",
       "      <td>0.003396</td>\n",
       "      <td>0.254692</td>\n",
       "      <td>0.012885</td>\n",
       "      <td>0.000734</td>\n",
       "      <td>0.000000</td>\n",
       "    </tr>\n",
       "    <tr>\n",
       "      <th>4</th>\n",
       "      <td>0.003137</td>\n",
       "      <td>0.892761</td>\n",
       "      <td>0.000000</td>\n",
       "      <td>0.003985</td>\n",
       "      <td>0.002749</td>\n",
       "    </tr>\n",
       "  </tbody>\n",
       "</table>\n",
       "</div>"
      ],
      "text/plain": [
       "   gross_revenue  recency_days  unique_products  daily_purchase_rate  total_prod_returned\n",
       "0       0.019312      0.997319         0.011204             1.000000             0.004998\n",
       "1       0.011579      0.150134         0.058263             0.001345             0.004373\n",
       "2       0.024020      0.005362         0.063305             0.002052             0.006247\n",
       "3       0.003396      0.254692         0.012885             0.000734             0.000000\n",
       "4       0.003137      0.892761         0.000000             0.003985             0.002749"
      ]
     },
     "execution_count": 52,
     "metadata": {},
     "output_type": "execute_result"
    }
   ],
   "source": [
    "#as soon as data on original space is not organized, let's look for a better data space with embedding\n",
    "X.head()"
   ]
  },
  {
   "cell_type": "code",
   "execution_count": 53,
   "id": "6417fde3",
   "metadata": {
    "ExecuteTime": {
     "end_time": "2022-08-28T18:23:18.929897Z",
     "start_time": "2022-08-28T18:23:18.910338Z"
    },
    "hidden": true
   },
   "outputs": [],
   "source": [
    "#keep just Umap embedding space (the best)"
   ]
  },
  {
   "cell_type": "markdown",
   "id": "0eb42962",
   "metadata": {
    "hidden": true
   },
   "source": [
    "## UMAP"
   ]
  },
  {
   "cell_type": "code",
   "execution_count": 54,
   "id": "2180b929",
   "metadata": {
    "ExecuteTime": {
     "end_time": "2022-08-28T18:23:18.965921Z",
     "start_time": "2022-08-28T18:23:18.948129Z"
    },
    "hidden": true
   },
   "outputs": [],
   "source": [
    "#UMAP basically takes a dataset in a very high dimension and returns a new dataset with the same number of samples in a space of much lower dimension than the original dimension.\n",
    "#UMAP is good for a lot of data because it's faster, but it's not as verbose in visualization."
   ]
  },
  {
   "cell_type": "code",
   "execution_count": 55,
   "id": "961f3bb5",
   "metadata": {
    "ExecuteTime": {
     "end_time": "2022-08-28T18:24:07.400659Z",
     "start_time": "2022-08-28T18:23:18.981977Z"
    },
    "hidden": true
   },
   "outputs": [
    {
     "name": "stderr",
     "output_type": "stream",
     "text": [
      "OMP: Info #276: omp_set_nested routine deprecated, please use omp_set_max_active_levels instead.\n"
     ]
    },
    {
     "data": {
      "text/plain": [
       "<AxesSubplot:xlabel='embedding_x', ylabel='embedding_y'>"
      ]
     },
     "execution_count": 55,
     "metadata": {},
     "output_type": "execute_result"
    },
    {
     "data": {
      "image/png": "[encoded data removed]",
      "text/plain": [
       "<Figure size 1200x600 with 1 Axes>"
      ]
     },
     "metadata": {},
     "output_type": "display_data"
    }
   ],
   "source": [
    "reducer = umap.UMAP( random_state=42 )\n",
    "embedding = reducer.fit_transform( X )\n",
    "df_umap = pd.DataFrame()\n",
    "df_umap['embedding_x'] = embedding[:, 0]\n",
    "df_umap['embedding_y'] = embedding[:, 1]\n",
    "sns.scatterplot( x='embedding_x', y='embedding_y', data=df_umap )"
   ]
  },
  {
   "cell_type": "code",
   "execution_count": 56,
   "id": "fff9772c",
   "metadata": {
    "ExecuteTime": {
     "end_time": "2022-08-28T18:24:28.281727Z",
     "start_time": "2022-08-28T18:24:07.408478Z"
    },
    "hidden": true
   },
   "outputs": [],
   "source": [
    "#evaluation, passing df_umap as dataframe\n",
    "\n",
    "#set number of clusters\n",
    "clusters_em = np.arange(2,13,1)\n",
    "clusters_em\n",
    "\n",
    "#let's use scipy instead of sklearn, being a simpler implementation.\n",
    "hc_list_em = []\n",
    "for k in clusters_em:\n",
    "    #model definition and training\n",
    "    hc_model_em = hc.linkage(df_umap, 'ward')\n",
    "\n",
    "    #model predict\n",
    "    hc_labels_em = hc.fcluster(hc_model_em, k, criterion='maxclust')#to cut dendrogram\n",
    "\n",
    "    #model perfomance (SS)\n",
    "    hc_ss_em = m.silhouette_score(df_umap, hc_labels_em, metric='euclidean')\n",
    "    hc_list_em.append(hc_ss_em) "
   ]
  },
  {
   "cell_type": "code",
   "execution_count": 57,
   "id": "c073297f",
   "metadata": {
    "ExecuteTime": {
     "end_time": "2022-08-28T18:24:28.816579Z",
     "start_time": "2022-08-28T18:24:28.286473Z"
    },
    "hidden": true
   },
   "outputs": [
    {
     "data": {
      "image/png": "[encoded data removed]",
      "text/plain": [
       "<Figure size 1200x600 with 1 Axes>"
      ]
     },
     "metadata": {},
     "output_type": "display_data"
    }
   ],
   "source": [
    "#Silhouette Score (with tree-based embedding from not scaled dataset)\n",
    "plt.plot(clusters_em, hc_list_em, linestyle='--', marker='o', color='b')\n",
    "plt.xlabel('K');\n",
    "plt.ylabel('Silhouette Score');\n",
    "plt.title('Silhouette Score x K');"
   ]
  },
  {
   "cell_type": "markdown",
   "id": "8d24e4a2",
   "metadata": {
    "heading_collapsed": true
   },
   "source": [
    "# Model Training"
   ]
  },
  {
   "cell_type": "code",
   "execution_count": 58,
   "id": "d59f1647",
   "metadata": {
    "ExecuteTime": {
     "end_time": "2022-08-28T18:24:28.880492Z",
     "start_time": "2022-08-28T18:24:28.829994Z"
    },
    "hidden": true
   },
   "outputs": [
    {
     "data": {
      "text/html": [
       "<div>\n",
       "<style scoped>\n",
       "    .dataframe tbody tr th:only-of-type {\n",
       "        vertical-align: middle;\n",
       "    }\n",
       "\n",
       "    .dataframe tbody tr th {\n",
       "        vertical-align: top;\n",
       "    }\n",
       "\n",
       "    .dataframe thead th {\n",
       "        text-align: right;\n",
       "    }\n",
       "</style>\n",
       "<table border=\"1\" class=\"dataframe\">\n",
       "  <thead>\n",
       "    <tr style=\"text-align: right;\">\n",
       "      <th></th>\n",
       "      <th>embedding_x</th>\n",
       "      <th>embedding_y</th>\n",
       "    </tr>\n",
       "  </thead>\n",
       "  <tbody>\n",
       "    <tr>\n",
       "      <th>0</th>\n",
       "      <td>15.686619</td>\n",
       "      <td>-6.099525</td>\n",
       "    </tr>\n",
       "    <tr>\n",
       "      <th>1</th>\n",
       "      <td>-0.614432</td>\n",
       "      <td>4.606266</td>\n",
       "    </tr>\n",
       "    <tr>\n",
       "      <th>2</th>\n",
       "      <td>-1.989648</td>\n",
       "      <td>-3.996645</td>\n",
       "    </tr>\n",
       "    <tr>\n",
       "      <th>3</th>\n",
       "      <td>3.698180</td>\n",
       "      <td>7.299434</td>\n",
       "    </tr>\n",
       "    <tr>\n",
       "      <th>4</th>\n",
       "      <td>11.212939</td>\n",
       "      <td>2.988281</td>\n",
       "    </tr>\n",
       "    <tr>\n",
       "      <th>...</th>\n",
       "      <td>...</td>\n",
       "      <td>...</td>\n",
       "    </tr>\n",
       "    <tr>\n",
       "      <th>5688</th>\n",
       "      <td>0.730741</td>\n",
       "      <td>-1.022232</td>\n",
       "    </tr>\n",
       "    <tr>\n",
       "      <th>5689</th>\n",
       "      <td>0.749878</td>\n",
       "      <td>-1.065601</td>\n",
       "    </tr>\n",
       "    <tr>\n",
       "      <th>5690</th>\n",
       "      <td>-7.323727</td>\n",
       "      <td>10.308653</td>\n",
       "    </tr>\n",
       "    <tr>\n",
       "      <th>5691</th>\n",
       "      <td>-5.586637</td>\n",
       "      <td>12.065847</td>\n",
       "    </tr>\n",
       "    <tr>\n",
       "      <th>5692</th>\n",
       "      <td>-7.644327</td>\n",
       "      <td>10.176199</td>\n",
       "    </tr>\n",
       "  </tbody>\n",
       "</table>\n",
       "<p>5693 rows × 2 columns</p>\n",
       "</div>"
      ],
      "text/plain": [
       "      embedding_x  embedding_y\n",
       "0       15.686619    -6.099525\n",
       "1       -0.614432     4.606266\n",
       "2       -1.989648    -3.996645\n",
       "3        3.698180     7.299434\n",
       "4       11.212939     2.988281\n",
       "...           ...          ...\n",
       "5688     0.730741    -1.022232\n",
       "5689     0.749878    -1.065601\n",
       "5690    -7.323727    10.308653\n",
       "5691    -5.586637    12.065847\n",
       "5692    -7.644327    10.176199\n",
       "\n",
       "[5693 rows x 2 columns]"
      ]
     },
     "execution_count": 58,
     "metadata": {},
     "output_type": "execute_result"
    }
   ],
   "source": [
    "#let's keep using Umap embedding space, where on HC with 8k, we've got an SS of 0.55 \n",
    "#8Ks is also a good number of cluster for business team handle actions from them\n",
    "X = df_umap\n",
    "X"
   ]
  },
  {
   "cell_type": "code",
   "execution_count": 59,
   "id": "f0ecc799",
   "metadata": {
    "ExecuteTime": {
     "end_time": "2022-08-28T18:24:30.863495Z",
     "start_time": "2022-08-28T18:24:28.913277Z"
    },
    "hidden": true
   },
   "outputs": [
    {
     "name": "stdout",
     "output_type": "stream",
     "text": [
      "SS Value for 8 clusters: 0.5193468332290649\n"
     ]
    }
   ],
   "source": [
    "#8 clusters, as defined\n",
    "k = 8\n",
    "\n",
    "#let's use scipy instead of sklearn, being a simpler implementation.\n",
    "#model definition and training\n",
    "hc_model = hc.linkage(X, 'ward')\n",
    "\n",
    "#model predict\n",
    "hc_labels = hc.fcluster(hc_model, k, criterion='maxclust')#to cut dendrogram\n",
    "\n",
    "#model perfomance (SS)\n",
    "hc_ss = m.silhouette_score(X, hc_labels, metric='euclidean') \n",
    "print(f'SS Value for {k} clusters: {hc_ss}')"
   ]
  },
  {
   "cell_type": "markdown",
   "id": "bcbf8bb0",
   "metadata": {},
   "source": [
    "# Cluster Analysis"
   ]
  },
  {
   "cell_type": "markdown",
   "id": "67ae78c3",
   "metadata": {
    "heading_collapsed": true
   },
   "source": [
    "## Cluster Profile"
   ]
  },
  {
   "cell_type": "code",
   "execution_count": 60,
   "id": "4450a605",
   "metadata": {
    "ExecuteTime": {
     "end_time": "2022-08-28T18:24:30.963309Z",
     "start_time": "2022-08-28T18:24:30.898030Z"
    },
    "hidden": true
   },
   "outputs": [
    {
     "data": {
      "text/html": [
       "<div>\n",
       "<style scoped>\n",
       "    .dataframe tbody tr th:only-of-type {\n",
       "        vertical-align: middle;\n",
       "    }\n",
       "\n",
       "    .dataframe tbody tr th {\n",
       "        vertical-align: top;\n",
       "    }\n",
       "\n",
       "    .dataframe thead th {\n",
       "        text-align: right;\n",
       "    }\n",
       "</style>\n",
       "<table border=\"1\" class=\"dataframe\">\n",
       "  <thead>\n",
       "    <tr style=\"text-align: right;\">\n",
       "      <th></th>\n",
       "      <th>customer_id</th>\n",
       "      <th>gross_revenue</th>\n",
       "      <th>recency_days</th>\n",
       "      <th>qtt_invoices</th>\n",
       "      <th>unique_products</th>\n",
       "      <th>unique_items</th>\n",
       "      <th>daily_purchase_rate</th>\n",
       "      <th>total_prod_returned</th>\n",
       "    </tr>\n",
       "  </thead>\n",
       "  <tbody>\n",
       "    <tr>\n",
       "      <th>0</th>\n",
       "      <td>17850</td>\n",
       "      <td>5391.21</td>\n",
       "      <td>372.0</td>\n",
       "      <td>34.0</td>\n",
       "      <td>21.0</td>\n",
       "      <td>1733.0</td>\n",
       "      <td>17.000000</td>\n",
       "      <td>40.0</td>\n",
       "    </tr>\n",
       "    <tr>\n",
       "      <th>1</th>\n",
       "      <td>13047</td>\n",
       "      <td>3232.59</td>\n",
       "      <td>56.0</td>\n",
       "      <td>9.0</td>\n",
       "      <td>105.0</td>\n",
       "      <td>1390.0</td>\n",
       "      <td>0.028302</td>\n",
       "      <td>35.0</td>\n",
       "    </tr>\n",
       "    <tr>\n",
       "      <th>2</th>\n",
       "      <td>12583</td>\n",
       "      <td>6705.38</td>\n",
       "      <td>2.0</td>\n",
       "      <td>15.0</td>\n",
       "      <td>114.0</td>\n",
       "      <td>5028.0</td>\n",
       "      <td>0.040323</td>\n",
       "      <td>50.0</td>\n",
       "    </tr>\n",
       "    <tr>\n",
       "      <th>3</th>\n",
       "      <td>13748</td>\n",
       "      <td>948.25</td>\n",
       "      <td>95.0</td>\n",
       "      <td>5.0</td>\n",
       "      <td>24.0</td>\n",
       "      <td>439.0</td>\n",
       "      <td>0.017921</td>\n",
       "      <td>0.0</td>\n",
       "    </tr>\n",
       "    <tr>\n",
       "      <th>4</th>\n",
       "      <td>15100</td>\n",
       "      <td>876.00</td>\n",
       "      <td>333.0</td>\n",
       "      <td>3.0</td>\n",
       "      <td>1.0</td>\n",
       "      <td>80.0</td>\n",
       "      <td>0.073171</td>\n",
       "      <td>22.0</td>\n",
       "    </tr>\n",
       "    <tr>\n",
       "      <th>...</th>\n",
       "      <td>...</td>\n",
       "      <td>...</td>\n",
       "      <td>...</td>\n",
       "      <td>...</td>\n",
       "      <td>...</td>\n",
       "      <td>...</td>\n",
       "      <td>...</td>\n",
       "      <td>...</td>\n",
       "    </tr>\n",
       "    <tr>\n",
       "      <th>5779</th>\n",
       "      <td>22706</td>\n",
       "      <td>5699.00</td>\n",
       "      <td>1.0</td>\n",
       "      <td>1.0</td>\n",
       "      <td>634.0</td>\n",
       "      <td>1747.0</td>\n",
       "      <td>1.000000</td>\n",
       "      <td>0.0</td>\n",
       "    </tr>\n",
       "    <tr>\n",
       "      <th>5780</th>\n",
       "      <td>22707</td>\n",
       "      <td>6756.06</td>\n",
       "      <td>0.0</td>\n",
       "      <td>1.0</td>\n",
       "      <td>730.0</td>\n",
       "      <td>2010.0</td>\n",
       "      <td>1.000000</td>\n",
       "      <td>0.0</td>\n",
       "    </tr>\n",
       "    <tr>\n",
       "      <th>5781</th>\n",
       "      <td>22708</td>\n",
       "      <td>3217.20</td>\n",
       "      <td>0.0</td>\n",
       "      <td>1.0</td>\n",
       "      <td>56.0</td>\n",
       "      <td>654.0</td>\n",
       "      <td>1.000000</td>\n",
       "      <td>0.0</td>\n",
       "    </tr>\n",
       "    <tr>\n",
       "      <th>5782</th>\n",
       "      <td>22709</td>\n",
       "      <td>3950.72</td>\n",
       "      <td>0.0</td>\n",
       "      <td>1.0</td>\n",
       "      <td>217.0</td>\n",
       "      <td>731.0</td>\n",
       "      <td>1.000000</td>\n",
       "      <td>0.0</td>\n",
       "    </tr>\n",
       "    <tr>\n",
       "      <th>5783</th>\n",
       "      <td>12713</td>\n",
       "      <td>794.55</td>\n",
       "      <td>0.0</td>\n",
       "      <td>1.0</td>\n",
       "      <td>37.0</td>\n",
       "      <td>505.0</td>\n",
       "      <td>1.000000</td>\n",
       "      <td>0.0</td>\n",
       "    </tr>\n",
       "  </tbody>\n",
       "</table>\n",
       "<p>5693 rows × 8 columns</p>\n",
       "</div>"
      ],
      "text/plain": [
       "      customer_id  gross_revenue  recency_days  qtt_invoices  unique_products  unique_items  daily_purchase_rate  total_prod_returned\n",
       "0           17850        5391.21         372.0          34.0             21.0        1733.0            17.000000                 40.0\n",
       "1           13047        3232.59          56.0           9.0            105.0        1390.0             0.028302                 35.0\n",
       "2           12583        6705.38           2.0          15.0            114.0        5028.0             0.040323                 50.0\n",
       "3           13748         948.25          95.0           5.0             24.0         439.0             0.017921                  0.0\n",
       "4           15100         876.00         333.0           3.0              1.0          80.0             0.073171                 22.0\n",
       "...           ...            ...           ...           ...              ...           ...                  ...                  ...\n",
       "5779        22706        5699.00           1.0           1.0            634.0        1747.0             1.000000                  0.0\n",
       "5780        22707        6756.06           0.0           1.0            730.0        2010.0             1.000000                  0.0\n",
       "5781        22708        3217.20           0.0           1.0             56.0         654.0             1.000000                  0.0\n",
       "5782        22709        3950.72           0.0           1.0            217.0         731.0             1.000000                  0.0\n",
       "5783        12713         794.55           0.0           1.0             37.0         505.0             1.000000                  0.0\n",
       "\n",
       "[5693 rows x 8 columns]"
      ]
     },
     "execution_count": 60,
     "metadata": {},
     "output_type": "execute_result"
    }
   ],
   "source": [
    "df_ref"
   ]
  },
  {
   "cell_type": "code",
   "execution_count": 61,
   "id": "990aec78",
   "metadata": {
    "ExecuteTime": {
     "end_time": "2022-08-28T18:24:31.046381Z",
     "start_time": "2022-08-28T18:24:30.978723Z"
    },
    "hidden": true
   },
   "outputs": [
    {
     "data": {
      "text/html": [
       "<div>\n",
       "<style scoped>\n",
       "    .dataframe tbody tr th:only-of-type {\n",
       "        vertical-align: middle;\n",
       "    }\n",
       "\n",
       "    .dataframe tbody tr th {\n",
       "        vertical-align: top;\n",
       "    }\n",
       "\n",
       "    .dataframe thead th {\n",
       "        text-align: right;\n",
       "    }\n",
       "</style>\n",
       "<table border=\"1\" class=\"dataframe\">\n",
       "  <thead>\n",
       "    <tr style=\"text-align: right;\">\n",
       "      <th></th>\n",
       "      <th>customer_id</th>\n",
       "      <th>gross_revenue</th>\n",
       "      <th>recency_days</th>\n",
       "      <th>unique_products</th>\n",
       "      <th>daily_purchase_rate</th>\n",
       "      <th>total_prod_returned</th>\n",
       "      <th>cluster</th>\n",
       "      <th>last_training</th>\n",
       "    </tr>\n",
       "  </thead>\n",
       "  <tbody>\n",
       "    <tr>\n",
       "      <th>0</th>\n",
       "      <td>17850</td>\n",
       "      <td>5391.21</td>\n",
       "      <td>372</td>\n",
       "      <td>21</td>\n",
       "      <td>17.000000</td>\n",
       "      <td>40</td>\n",
       "      <td>1</td>\n",
       "      <td>2022-08-28 15:24:31</td>\n",
       "    </tr>\n",
       "    <tr>\n",
       "      <th>1</th>\n",
       "      <td>13047</td>\n",
       "      <td>3232.59</td>\n",
       "      <td>56</td>\n",
       "      <td>105</td>\n",
       "      <td>0.028302</td>\n",
       "      <td>35</td>\n",
       "      <td>3</td>\n",
       "      <td>2022-08-28 15:24:31</td>\n",
       "    </tr>\n",
       "    <tr>\n",
       "      <th>2</th>\n",
       "      <td>12583</td>\n",
       "      <td>6705.38</td>\n",
       "      <td>2</td>\n",
       "      <td>114</td>\n",
       "      <td>0.040323</td>\n",
       "      <td>50</td>\n",
       "      <td>8</td>\n",
       "      <td>2022-08-28 15:24:31</td>\n",
       "    </tr>\n",
       "    <tr>\n",
       "      <th>3</th>\n",
       "      <td>13748</td>\n",
       "      <td>948.25</td>\n",
       "      <td>95</td>\n",
       "      <td>24</td>\n",
       "      <td>0.017921</td>\n",
       "      <td>0</td>\n",
       "      <td>3</td>\n",
       "      <td>2022-08-28 15:24:31</td>\n",
       "    </tr>\n",
       "    <tr>\n",
       "      <th>4</th>\n",
       "      <td>15100</td>\n",
       "      <td>876.00</td>\n",
       "      <td>333</td>\n",
       "      <td>1</td>\n",
       "      <td>0.073171</td>\n",
       "      <td>22</td>\n",
       "      <td>4</td>\n",
       "      <td>2022-08-28 15:24:31</td>\n",
       "    </tr>\n",
       "    <tr>\n",
       "      <th>...</th>\n",
       "      <td>...</td>\n",
       "      <td>...</td>\n",
       "      <td>...</td>\n",
       "      <td>...</td>\n",
       "      <td>...</td>\n",
       "      <td>...</td>\n",
       "      <td>...</td>\n",
       "      <td>...</td>\n",
       "    </tr>\n",
       "    <tr>\n",
       "      <th>5779</th>\n",
       "      <td>22706</td>\n",
       "      <td>5699.00</td>\n",
       "      <td>1</td>\n",
       "      <td>634</td>\n",
       "      <td>1.000000</td>\n",
       "      <td>0</td>\n",
       "      <td>8</td>\n",
       "      <td>2022-08-28 15:24:31</td>\n",
       "    </tr>\n",
       "    <tr>\n",
       "      <th>5780</th>\n",
       "      <td>22707</td>\n",
       "      <td>6756.06</td>\n",
       "      <td>0</td>\n",
       "      <td>730</td>\n",
       "      <td>1.000000</td>\n",
       "      <td>0</td>\n",
       "      <td>8</td>\n",
       "      <td>2022-08-28 15:24:31</td>\n",
       "    </tr>\n",
       "    <tr>\n",
       "      <th>5781</th>\n",
       "      <td>22708</td>\n",
       "      <td>3217.20</td>\n",
       "      <td>0</td>\n",
       "      <td>56</td>\n",
       "      <td>1.000000</td>\n",
       "      <td>0</td>\n",
       "      <td>7</td>\n",
       "      <td>2022-08-28 15:24:31</td>\n",
       "    </tr>\n",
       "    <tr>\n",
       "      <th>5782</th>\n",
       "      <td>22709</td>\n",
       "      <td>3950.72</td>\n",
       "      <td>0</td>\n",
       "      <td>217</td>\n",
       "      <td>1.000000</td>\n",
       "      <td>0</td>\n",
       "      <td>7</td>\n",
       "      <td>2022-08-28 15:24:31</td>\n",
       "    </tr>\n",
       "    <tr>\n",
       "      <th>5783</th>\n",
       "      <td>12713</td>\n",
       "      <td>794.55</td>\n",
       "      <td>0</td>\n",
       "      <td>37</td>\n",
       "      <td>1.000000</td>\n",
       "      <td>0</td>\n",
       "      <td>7</td>\n",
       "      <td>2022-08-28 15:24:31</td>\n",
       "    </tr>\n",
       "  </tbody>\n",
       "</table>\n",
       "<p>5693 rows × 8 columns</p>\n",
       "</div>"
      ],
      "text/plain": [
       "      customer_id  gross_revenue  recency_days  unique_products  daily_purchase_rate  total_prod_returned  cluster        last_training\n",
       "0           17850        5391.21           372               21            17.000000                   40        1  2022-08-28 15:24:31\n",
       "1           13047        3232.59            56              105             0.028302                   35        3  2022-08-28 15:24:31\n",
       "2           12583        6705.38             2              114             0.040323                   50        8  2022-08-28 15:24:31\n",
       "3           13748         948.25            95               24             0.017921                    0        3  2022-08-28 15:24:31\n",
       "4           15100         876.00           333                1             0.073171                   22        4  2022-08-28 15:24:31\n",
       "...           ...            ...           ...              ...                  ...                  ...      ...                  ...\n",
       "5779        22706        5699.00             1              634             1.000000                    0        8  2022-08-28 15:24:31\n",
       "5780        22707        6756.06             0              730             1.000000                    0        8  2022-08-28 15:24:31\n",
       "5781        22708        3217.20             0               56             1.000000                    0        7  2022-08-28 15:24:31\n",
       "5782        22709        3950.72             0              217             1.000000                    0        7  2022-08-28 15:24:31\n",
       "5783        12713         794.55             0               37             1.000000                    0        7  2022-08-28 15:24:31\n",
       "\n",
       "[5693 rows x 8 columns]"
      ]
     },
     "execution_count": 61,
     "metadata": {},
     "output_type": "execute_result"
    }
   ],
   "source": [
    "df9p = df_ref.copy() #df_ref contains original values (not reescaled), to use in cluster profile\n",
    "ids_and_vars_selected = ['customer_id','gross_revenue','recency_days','unique_products','daily_purchase_rate','total_prod_returned']\n",
    "df9p = df9p[ids_and_vars_selected]\n",
    "df9p['cluster'] = hc_labels\n",
    "\n",
    "#change dtypes\n",
    "df9p['recency_days'] = df9p['recency_days'].astype(int)\n",
    "df9p['unique_products'] = df9p['unique_products'].astype(int)\n",
    "df9p['total_prod_returned'] = df9p['total_prod_returned'].astype(int)\n",
    "\n",
    "#record timestamp of training\n",
    "df9p['last_training'] = datetime.now().strftime('%Y-%m-%d %H:%M:%S')\n",
    "df9p"
   ]
  },
  {
   "cell_type": "code",
   "execution_count": 62,
   "id": "2a3b4f13",
   "metadata": {
    "ExecuteTime": {
     "end_time": "2022-08-28T18:24:31.182565Z",
     "start_time": "2022-08-28T18:24:31.057877Z"
    },
    "hidden": true
   },
   "outputs": [
    {
     "data": {
      "text/html": [
       "<div>\n",
       "<style scoped>\n",
       "    .dataframe tbody tr th:only-of-type {\n",
       "        vertical-align: middle;\n",
       "    }\n",
       "\n",
       "    .dataframe tbody tr th {\n",
       "        vertical-align: top;\n",
       "    }\n",
       "\n",
       "    .dataframe thead th {\n",
       "        text-align: right;\n",
       "    }\n",
       "</style>\n",
       "<table border=\"1\" class=\"dataframe\">\n",
       "  <thead>\n",
       "    <tr style=\"text-align: right;\">\n",
       "      <th></th>\n",
       "      <th>cluster</th>\n",
       "      <th>customer_id</th>\n",
       "      <th>perc_customer</th>\n",
       "      <th>gross_revenue</th>\n",
       "      <th>recency_days</th>\n",
       "      <th>unique_products</th>\n",
       "      <th>daily_purchase_rate</th>\n",
       "      <th>total_prod_returned</th>\n",
       "    </tr>\n",
       "  </thead>\n",
       "  <tbody>\n",
       "    <tr>\n",
       "      <th>7</th>\n",
       "      <td>8</td>\n",
       "      <td>1786</td>\n",
       "      <td>31.371860</td>\n",
       "      <td>3861.640554</td>\n",
       "      <td>17.201568</td>\n",
       "      <td>112.159015</td>\n",
       "      <td>0.061500</td>\n",
       "      <td>42.648936</td>\n",
       "    </tr>\n",
       "    <tr>\n",
       "      <th>2</th>\n",
       "      <td>3</td>\n",
       "      <td>509</td>\n",
       "      <td>8.940804</td>\n",
       "      <td>1448.219843</td>\n",
       "      <td>68.840864</td>\n",
       "      <td>60.106090</td>\n",
       "      <td>0.027804</td>\n",
       "      <td>12.388998</td>\n",
       "    </tr>\n",
       "    <tr>\n",
       "      <th>1</th>\n",
       "      <td>2</td>\n",
       "      <td>459</td>\n",
       "      <td>8.062533</td>\n",
       "      <td>947.313617</td>\n",
       "      <td>307.518519</td>\n",
       "      <td>93.324619</td>\n",
       "      <td>1.004357</td>\n",
       "      <td>1.494553</td>\n",
       "    </tr>\n",
       "    <tr>\n",
       "      <th>3</th>\n",
       "      <td>4</td>\n",
       "      <td>495</td>\n",
       "      <td>8.694888</td>\n",
       "      <td>942.218323</td>\n",
       "      <td>177.333333</td>\n",
       "      <td>42.290909</td>\n",
       "      <td>0.041601</td>\n",
       "      <td>12.800000</td>\n",
       "    </tr>\n",
       "    <tr>\n",
       "      <th>5</th>\n",
       "      <td>6</td>\n",
       "      <td>694</td>\n",
       "      <td>12.190409</td>\n",
       "      <td>691.700706</td>\n",
       "      <td>171.952450</td>\n",
       "      <td>59.041787</td>\n",
       "      <td>1.014470</td>\n",
       "      <td>0.968300</td>\n",
       "    </tr>\n",
       "    <tr>\n",
       "      <th>6</th>\n",
       "      <td>7</td>\n",
       "      <td>1083</td>\n",
       "      <td>19.023362</td>\n",
       "      <td>638.647608</td>\n",
       "      <td>51.792244</td>\n",
       "      <td>42.975069</td>\n",
       "      <td>1.027645</td>\n",
       "      <td>2.681440</td>\n",
       "    </tr>\n",
       "    <tr>\n",
       "      <th>0</th>\n",
       "      <td>1</td>\n",
       "      <td>254</td>\n",
       "      <td>4.461620</td>\n",
       "      <td>549.360866</td>\n",
       "      <td>362.602362</td>\n",
       "      <td>23.393701</td>\n",
       "      <td>1.056134</td>\n",
       "      <td>2.696850</td>\n",
       "    </tr>\n",
       "    <tr>\n",
       "      <th>4</th>\n",
       "      <td>5</td>\n",
       "      <td>413</td>\n",
       "      <td>7.254523</td>\n",
       "      <td>330.407240</td>\n",
       "      <td>249.692494</td>\n",
       "      <td>20.878935</td>\n",
       "      <td>1.029056</td>\n",
       "      <td>2.624697</td>\n",
       "    </tr>\n",
       "  </tbody>\n",
       "</table>\n",
       "</div>"
      ],
      "text/plain": [
       "   cluster  customer_id  perc_customer  gross_revenue  recency_days  unique_products  daily_purchase_rate  total_prod_returned\n",
       "7        8         1786      31.371860    3861.640554     17.201568       112.159015             0.061500            42.648936\n",
       "2        3          509       8.940804    1448.219843     68.840864        60.106090             0.027804            12.388998\n",
       "1        2          459       8.062533     947.313617    307.518519        93.324619             1.004357             1.494553\n",
       "3        4          495       8.694888     942.218323    177.333333        42.290909             0.041601            12.800000\n",
       "5        6          694      12.190409     691.700706    171.952450        59.041787             1.014470             0.968300\n",
       "6        7         1083      19.023362     638.647608     51.792244        42.975069             1.027645             2.681440\n",
       "0        1          254       4.461620     549.360866    362.602362        23.393701             1.056134             2.696850\n",
       "4        5          413       7.254523     330.407240    249.692494        20.878935             1.029056             2.624697"
      ]
     },
     "execution_count": 62,
     "metadata": {},
     "output_type": "execute_result"
    }
   ],
   "source": [
    "#building df_cluster\n",
    "\n",
    "# Number of customer\n",
    "df_cluster = df9p[['customer_id', 'cluster']].groupby('cluster').count().reset_index()\n",
    "df_cluster['perc_customer'] = df_cluster['customer_id'] / df_cluster['customer_id'].sum()*100\n",
    "\n",
    "# Avg gross revenue\n",
    "df_avg_gross_revenue = df9p[['gross_revenue','cluster']].groupby('cluster').mean().reset_index()\n",
    "df_cluster = pd.merge(df_cluster, df_avg_gross_revenue, how='inner', on='cluster')\n",
    "\n",
    "# Avg recency days\n",
    "df_avg_recency_days = df9p[['recency_days','cluster']].groupby('cluster').mean().reset_index()\n",
    "df_cluster = pd.merge(df_cluster, df_avg_recency_days, how='inner', on='cluster')\n",
    "\n",
    "# Avg unique products\n",
    "df_avg_unique_products = df9p[['unique_products','cluster']].groupby('cluster').mean().reset_index()\n",
    "df_cluster = pd.merge(df_cluster, df_avg_unique_products, how='inner', on='cluster')\n",
    "\n",
    "# Avg daily purchase rate\n",
    "df_avg_daily_purchase_rate = df9p[['daily_purchase_rate','cluster']].groupby('cluster').mean().reset_index()\n",
    "df_cluster = pd.merge(df_cluster, df_avg_daily_purchase_rate, how='inner', on='cluster')\n",
    "\n",
    "# Avg total products returned\n",
    "df_avg_total_prod_returned = df9p[['total_prod_returned','cluster']].groupby('cluster').mean().reset_index()\n",
    "df_cluster = pd.merge(df_cluster, df_avg_total_prod_returned, how='inner', on='cluster')\n",
    "\n",
    "# cluster profiles\n",
    "df_cluster.sort_values('gross_revenue', ascending=False)"
   ]
  },
  {
   "cell_type": "code",
   "execution_count": 63,
   "id": "2db68890",
   "metadata": {
    "ExecuteTime": {
     "end_time": "2022-08-28T18:24:31.195196Z",
     "start_time": "2022-08-28T18:24:31.187859Z"
    },
    "hidden": true
   },
   "outputs": [],
   "source": [
    "#df_cluster.to_csv('../data/interim/cycle8/df_cluster_kmeans_8k.csv')"
   ]
  },
  {
   "cell_type": "code",
   "execution_count": 64,
   "id": "672d1142",
   "metadata": {
    "ExecuteTime": {
     "end_time": "2022-08-28T18:24:31.222696Z",
     "start_time": "2022-08-28T18:24:31.203565Z"
    },
    "code_folding": [],
    "hidden": true
   },
   "outputs": [
    {
     "name": "stdout",
     "output_type": "stream",
     "text": [
      " Cluster 1:\n",
      "    -Number of customers: 254 (4%)\n",
      "    -Average revenue: $549\n",
      "    -Average recency: by each 363 days (52 week(s))\n",
      "    -Average unique products purchased: 23  \n",
      "    -Average purchases/month: 31.7 \n",
      "    -Average total products returned: 3 \n",
      " Cluster 2:\n",
      "    -Number of customers: 459 (8%)\n",
      "    -Average revenue: $947\n",
      "    -Average recency: by each 308 days (44 week(s))\n",
      "    -Average unique products purchased: 93  \n",
      "    -Average purchases/month: 30.1 \n",
      "    -Average total products returned: 1 \n",
      " Cluster 3:\n",
      "    -Number of customers: 509 (9%)\n",
      "    -Average revenue: $1448\n",
      "    -Average recency: by each 69 days (10 week(s))\n",
      "    -Average unique products purchased: 60  \n",
      "    -Average purchases/month: 0.8 \n",
      "    -Average total products returned: 12 \n",
      " Cluster 4:\n",
      "    -Number of customers: 495 (9%)\n",
      "    -Average revenue: $942\n",
      "    -Average recency: by each 177 days (25 week(s))\n",
      "    -Average unique products purchased: 42  \n",
      "    -Average purchases/month: 1.2 \n",
      "    -Average total products returned: 13 \n",
      " Cluster 5:\n",
      "    -Number of customers: 413 (7%)\n",
      "    -Average revenue: $330\n",
      "    -Average recency: by each 250 days (36 week(s))\n",
      "    -Average unique products purchased: 21  \n",
      "    -Average purchases/month: 30.9 \n",
      "    -Average total products returned: 3 \n",
      " Cluster 6:\n",
      "    -Number of customers: 694 (12%)\n",
      "    -Average revenue: $692\n",
      "    -Average recency: by each 172 days (25 week(s))\n",
      "    -Average unique products purchased: 59  \n",
      "    -Average purchases/month: 30.4 \n",
      "    -Average total products returned: 1 \n",
      " Cluster 7:\n",
      "    -Number of customers: 1083 (19%)\n",
      "    -Average revenue: $639\n",
      "    -Average recency: by each 52 days (7 week(s))\n",
      "    -Average unique products purchased: 43  \n",
      "    -Average purchases/month: 30.8 \n",
      "    -Average total products returned: 3 \n",
      " Cluster 8:\n",
      "    -Number of customers: 1786 (31%)\n",
      "    -Average revenue: $3862\n",
      "    -Average recency: by each 17 days (2 week(s))\n",
      "    -Average unique products purchased: 112  \n",
      "    -Average purchases/month: 1.8 \n",
      "    -Average total products returned: 43 \n"
     ]
    }
   ],
   "source": [
    "#generate the repport dinamically:\n",
    "for i in range(len(df_cluster['customer_id'])):\n",
    "    print(f\"\"\" Cluster {df_cluster['cluster'][i]}:\n",
    "    -Number of customers: {df_cluster['customer_id'][i]} ({round(df_cluster['perc_customer'][i])}%)\n",
    "    -Average revenue: ${round(df_cluster['gross_revenue'][i])}\n",
    "    -Average recency: by each {round(df_cluster['recency_days'][i])} days ({round(df_cluster['recency_days'][i]/7)} week(s))\n",
    "    -Average unique products purchased: {round(df_cluster['unique_products'][i])}  \n",
    "    -Average purchases/month: {round((df_cluster['daily_purchase_rate'][i])*30 ,1)} \n",
    "    -Average total products returned: {round(df_cluster['total_prod_returned'][i])} \"\"\")"
   ]
  },
  {
   "cell_type": "markdown",
   "id": "58150c47",
   "metadata": {},
   "source": [
    "# Deploy"
   ]
  },
  {
   "cell_type": "markdown",
   "id": "cf2336a4",
   "metadata": {
    "ExecuteTime": {
     "end_time": "2022-08-25T17:19:30.394611Z",
     "start_time": "2022-08-25T17:19:30.380164Z"
    }
   },
   "source": [
    "## Insert into SQLITE"
   ]
  },
  {
   "cell_type": "code",
   "execution_count": 65,
   "id": "5827d7a7",
   "metadata": {
    "ExecuteTime": {
     "end_time": "2022-08-28T18:27:01.429595Z",
     "start_time": "2022-08-28T18:27:01.398120Z"
    }
   },
   "outputs": [
    {
     "data": {
      "text/html": [
       "<div>\n",
       "<style scoped>\n",
       "    .dataframe tbody tr th:only-of-type {\n",
       "        vertical-align: middle;\n",
       "    }\n",
       "\n",
       "    .dataframe tbody tr th {\n",
       "        vertical-align: top;\n",
       "    }\n",
       "\n",
       "    .dataframe thead th {\n",
       "        text-align: right;\n",
       "    }\n",
       "</style>\n",
       "<table border=\"1\" class=\"dataframe\">\n",
       "  <thead>\n",
       "    <tr style=\"text-align: right;\">\n",
       "      <th></th>\n",
       "      <th>customer_id</th>\n",
       "      <th>gross_revenue</th>\n",
       "      <th>recency_days</th>\n",
       "      <th>unique_products</th>\n",
       "      <th>daily_purchase_rate</th>\n",
       "      <th>total_prod_returned</th>\n",
       "      <th>cluster</th>\n",
       "      <th>last_training</th>\n",
       "    </tr>\n",
       "  </thead>\n",
       "  <tbody>\n",
       "    <tr>\n",
       "      <th>0</th>\n",
       "      <td>17850</td>\n",
       "      <td>5391.21</td>\n",
       "      <td>372</td>\n",
       "      <td>21</td>\n",
       "      <td>17.000000</td>\n",
       "      <td>40</td>\n",
       "      <td>1</td>\n",
       "      <td>2022-08-28 15:24:31</td>\n",
       "    </tr>\n",
       "    <tr>\n",
       "      <th>1</th>\n",
       "      <td>13047</td>\n",
       "      <td>3232.59</td>\n",
       "      <td>56</td>\n",
       "      <td>105</td>\n",
       "      <td>0.028302</td>\n",
       "      <td>35</td>\n",
       "      <td>3</td>\n",
       "      <td>2022-08-28 15:24:31</td>\n",
       "    </tr>\n",
       "    <tr>\n",
       "      <th>2</th>\n",
       "      <td>12583</td>\n",
       "      <td>6705.38</td>\n",
       "      <td>2</td>\n",
       "      <td>114</td>\n",
       "      <td>0.040323</td>\n",
       "      <td>50</td>\n",
       "      <td>8</td>\n",
       "      <td>2022-08-28 15:24:31</td>\n",
       "    </tr>\n",
       "    <tr>\n",
       "      <th>3</th>\n",
       "      <td>13748</td>\n",
       "      <td>948.25</td>\n",
       "      <td>95</td>\n",
       "      <td>24</td>\n",
       "      <td>0.017921</td>\n",
       "      <td>0</td>\n",
       "      <td>3</td>\n",
       "      <td>2022-08-28 15:24:31</td>\n",
       "    </tr>\n",
       "    <tr>\n",
       "      <th>4</th>\n",
       "      <td>15100</td>\n",
       "      <td>876.00</td>\n",
       "      <td>333</td>\n",
       "      <td>1</td>\n",
       "      <td>0.073171</td>\n",
       "      <td>22</td>\n",
       "      <td>4</td>\n",
       "      <td>2022-08-28 15:24:31</td>\n",
       "    </tr>\n",
       "    <tr>\n",
       "      <th>...</th>\n",
       "      <td>...</td>\n",
       "      <td>...</td>\n",
       "      <td>...</td>\n",
       "      <td>...</td>\n",
       "      <td>...</td>\n",
       "      <td>...</td>\n",
       "      <td>...</td>\n",
       "      <td>...</td>\n",
       "    </tr>\n",
       "    <tr>\n",
       "      <th>5779</th>\n",
       "      <td>22706</td>\n",
       "      <td>5699.00</td>\n",
       "      <td>1</td>\n",
       "      <td>634</td>\n",
       "      <td>1.000000</td>\n",
       "      <td>0</td>\n",
       "      <td>8</td>\n",
       "      <td>2022-08-28 15:24:31</td>\n",
       "    </tr>\n",
       "    <tr>\n",
       "      <th>5780</th>\n",
       "      <td>22707</td>\n",
       "      <td>6756.06</td>\n",
       "      <td>0</td>\n",
       "      <td>730</td>\n",
       "      <td>1.000000</td>\n",
       "      <td>0</td>\n",
       "      <td>8</td>\n",
       "      <td>2022-08-28 15:24:31</td>\n",
       "    </tr>\n",
       "    <tr>\n",
       "      <th>5781</th>\n",
       "      <td>22708</td>\n",
       "      <td>3217.20</td>\n",
       "      <td>0</td>\n",
       "      <td>56</td>\n",
       "      <td>1.000000</td>\n",
       "      <td>0</td>\n",
       "      <td>7</td>\n",
       "      <td>2022-08-28 15:24:31</td>\n",
       "    </tr>\n",
       "    <tr>\n",
       "      <th>5782</th>\n",
       "      <td>22709</td>\n",
       "      <td>3950.72</td>\n",
       "      <td>0</td>\n",
       "      <td>217</td>\n",
       "      <td>1.000000</td>\n",
       "      <td>0</td>\n",
       "      <td>7</td>\n",
       "      <td>2022-08-28 15:24:31</td>\n",
       "    </tr>\n",
       "    <tr>\n",
       "      <th>5783</th>\n",
       "      <td>12713</td>\n",
       "      <td>794.55</td>\n",
       "      <td>0</td>\n",
       "      <td>37</td>\n",
       "      <td>1.000000</td>\n",
       "      <td>0</td>\n",
       "      <td>7</td>\n",
       "      <td>2022-08-28 15:24:31</td>\n",
       "    </tr>\n",
       "  </tbody>\n",
       "</table>\n",
       "<p>5693 rows × 8 columns</p>\n",
       "</div>"
      ],
      "text/plain": [
       "      customer_id  gross_revenue  recency_days  unique_products  daily_purchase_rate  total_prod_returned  cluster        last_training\n",
       "0           17850        5391.21           372               21            17.000000                   40        1  2022-08-28 15:24:31\n",
       "1           13047        3232.59            56              105             0.028302                   35        3  2022-08-28 15:24:31\n",
       "2           12583        6705.38             2              114             0.040323                   50        8  2022-08-28 15:24:31\n",
       "3           13748         948.25            95               24             0.017921                    0        3  2022-08-28 15:24:31\n",
       "4           15100         876.00           333                1             0.073171                   22        4  2022-08-28 15:24:31\n",
       "...           ...            ...           ...              ...                  ...                  ...      ...                  ...\n",
       "5779        22706        5699.00             1              634             1.000000                    0        8  2022-08-28 15:24:31\n",
       "5780        22707        6756.06             0              730             1.000000                    0        8  2022-08-28 15:24:31\n",
       "5781        22708        3217.20             0               56             1.000000                    0        7  2022-08-28 15:24:31\n",
       "5782        22709        3950.72             0              217             1.000000                    0        7  2022-08-28 15:24:31\n",
       "5783        12713         794.55             0               37             1.000000                    0        7  2022-08-28 15:24:31\n",
       "\n",
       "[5693 rows x 8 columns]"
      ]
     },
     "execution_count": 65,
     "metadata": {},
     "output_type": "execute_result"
    }
   ],
   "source": [
    "df9p"
   ]
  },
  {
   "cell_type": "code",
   "execution_count": 66,
   "id": "5844d7b0",
   "metadata": {
    "ExecuteTime": {
     "end_time": "2022-08-28T18:27:07.582154Z",
     "start_time": "2022-08-28T18:27:07.546529Z"
    }
   },
   "outputs": [
    {
     "data": {
      "text/plain": [
       "customer_id              int64\n",
       "gross_revenue          float64\n",
       "recency_days             int64\n",
       "unique_products          int64\n",
       "daily_purchase_rate    float64\n",
       "total_prod_returned      int64\n",
       "cluster                  int32\n",
       "last_training           object\n",
       "dtype: object"
      ]
     },
     "execution_count": 66,
     "metadata": {},
     "output_type": "execute_result"
    }
   ],
   "source": [
    "df9p.dtypes"
   ]
  },
  {
   "cell_type": "code",
   "execution_count": 101,
   "id": "f4da4ad1",
   "metadata": {
    "ExecuteTime": {
     "end_time": "2022-08-29T01:51:50.453104Z",
     "start_time": "2022-08-29T01:51:47.823687Z"
    }
   },
   "outputs": [],
   "source": [
    "#create db connection (and db_file if sqlite)\n",
    "\n",
    "#sqlite\n",
    "#endpoint = 'sqlite:////Users/home/repos/pa005_fidelity_program/notebooks/loyals_db.sqlite' #local\n",
    "\n",
    "#postgre\n",
    "endpoint = f'postgresql://{pg_user}:{pg_passwd}@{pg_host}:{pg_port}'\n",
    "        \n",
    "db = create_engine(endpoint, poolclass=NullPool)\n",
    "conn = db.connect()"
   ]
  },
  {
   "cell_type": "code",
   "execution_count": null,
   "id": "bc705b9b",
   "metadata": {
    "code_folding": [
     0
    ]
   },
   "outputs": [],
   "source": [
    "# #check if table exists on sqlite\n",
    "# check_table = \"\"\"\n",
    "#     SELECT name FROM sqlite_master WHERE type='table' AND name='loyals';\n",
    "# \"\"\"\n",
    "# df_check = pd.read_sql_query(check_table, conn)\n",
    "\n",
    "# #create table if does not exist\n",
    "# if len(df_check) == 0:  #0 = table does not exist, 1 = table exists\n",
    "#     query_create_table_loyals = \"\"\"\n",
    "#     CREATE TABLE loyals (\n",
    "#         customer_id              INTEGER,\n",
    "#         gross_revenue            REAL,\n",
    "#         recency_days             INTEGER,\n",
    "#         unique_products          INTEGER,\n",
    "#         daily_purchase_rate      REAL,\n",
    "#         total_prod_returned      INTEGER,\n",
    "#         cluster                  INTEGER,\n",
    "#         last_training            TEXT\n",
    "#         )\"\"\"\n",
    "#     conn.execute( query_create_table_loyals )\n",
    "#     print('Table loyals was created!')\n",
    "# else:\n",
    "#     print('Table loyals exists!')"
   ]
  },
  {
   "cell_type": "code",
   "execution_count": 69,
   "id": "e7ba7ef1",
   "metadata": {
    "ExecuteTime": {
     "end_time": "2022-08-28T18:34:28.651107Z",
     "start_time": "2022-08-28T18:34:25.366359Z"
    }
   },
   "outputs": [
    {
     "data": {
      "text/plain": [
       "<sqlalchemy.engine.cursor.LegacyCursorResult at 0x7fa2c65bc400>"
      ]
     },
     "execution_count": 69,
     "metadata": {},
     "output_type": "execute_result"
    }
   ],
   "source": [
    "#create table\n",
    "# query_create_table_loyals = \"\"\"\n",
    "#     CREATE TABLE loyals (\n",
    "#         customer_id              INTEGER,\n",
    "#         gross_revenue            REAL,\n",
    "#         recency_days             INTEGER,\n",
    "#         unique_products          INTEGER,\n",
    "#         daily_purchase_rate      REAL,\n",
    "#         total_prod_returned      INTEGER,\n",
    "#         cluster                  INTEGER,\n",
    "#         last_training            TEXT\n",
    "#         )\"\"\"\n",
    "# conn.execute( query_create_table_loyals )"
   ]
  },
  {
   "cell_type": "code",
   "execution_count": 70,
   "id": "d72a1fdc",
   "metadata": {
    "ExecuteTime": {
     "end_time": "2022-08-28T18:36:56.349683Z",
     "start_time": "2022-08-28T18:36:53.400295Z"
    },
    "scrolled": true
   },
   "outputs": [
    {
     "data": {
      "text/plain": [
       "693"
      ]
     },
     "execution_count": 70,
     "metadata": {},
     "output_type": "execute_result"
    }
   ],
   "source": [
    "# insert data into table loyals using sqlalchemy, appending data\n",
    "df9p.to_sql('loyals', con=conn, if_exists='append', index=False )#index=False to ignore dataframe index"
   ]
  },
  {
   "cell_type": "code",
   "execution_count": 103,
   "id": "661525ae",
   "metadata": {
    "ExecuteTime": {
     "end_time": "2022-08-29T01:52:03.692692Z",
     "start_time": "2022-08-29T01:52:02.606891Z"
    }
   },
   "outputs": [
    {
     "data": {
      "text/html": [
       "<div>\n",
       "<style scoped>\n",
       "    .dataframe tbody tr th:only-of-type {\n",
       "        vertical-align: middle;\n",
       "    }\n",
       "\n",
       "    .dataframe tbody tr th {\n",
       "        vertical-align: top;\n",
       "    }\n",
       "\n",
       "    .dataframe thead th {\n",
       "        text-align: right;\n",
       "    }\n",
       "</style>\n",
       "<table border=\"1\" class=\"dataframe\">\n",
       "  <thead>\n",
       "    <tr style=\"text-align: right;\">\n",
       "      <th></th>\n",
       "      <th>customer_id</th>\n",
       "      <th>gross_revenue</th>\n",
       "      <th>recency_days</th>\n",
       "      <th>unique_products</th>\n",
       "      <th>daily_purchase_rate</th>\n",
       "      <th>total_prod_returned</th>\n",
       "      <th>cluster</th>\n",
       "      <th>last_training</th>\n",
       "    </tr>\n",
       "  </thead>\n",
       "  <tbody>\n",
       "    <tr>\n",
       "      <th>0</th>\n",
       "      <td>17850</td>\n",
       "      <td>5391.21</td>\n",
       "      <td>372</td>\n",
       "      <td>21</td>\n",
       "      <td>17.000000</td>\n",
       "      <td>40</td>\n",
       "      <td>1</td>\n",
       "      <td>2022-08-28 15:24:31</td>\n",
       "    </tr>\n",
       "    <tr>\n",
       "      <th>1</th>\n",
       "      <td>13047</td>\n",
       "      <td>3232.59</td>\n",
       "      <td>56</td>\n",
       "      <td>105</td>\n",
       "      <td>0.028302</td>\n",
       "      <td>35</td>\n",
       "      <td>3</td>\n",
       "      <td>2022-08-28 15:24:31</td>\n",
       "    </tr>\n",
       "    <tr>\n",
       "      <th>2</th>\n",
       "      <td>12583</td>\n",
       "      <td>6705.38</td>\n",
       "      <td>2</td>\n",
       "      <td>114</td>\n",
       "      <td>0.040323</td>\n",
       "      <td>50</td>\n",
       "      <td>8</td>\n",
       "      <td>2022-08-28 15:24:31</td>\n",
       "    </tr>\n",
       "    <tr>\n",
       "      <th>3</th>\n",
       "      <td>13748</td>\n",
       "      <td>948.25</td>\n",
       "      <td>95</td>\n",
       "      <td>24</td>\n",
       "      <td>0.017921</td>\n",
       "      <td>0</td>\n",
       "      <td>3</td>\n",
       "      <td>2022-08-28 15:24:31</td>\n",
       "    </tr>\n",
       "    <tr>\n",
       "      <th>4</th>\n",
       "      <td>15100</td>\n",
       "      <td>876.00</td>\n",
       "      <td>333</td>\n",
       "      <td>1</td>\n",
       "      <td>0.073171</td>\n",
       "      <td>22</td>\n",
       "      <td>4</td>\n",
       "      <td>2022-08-28 15:24:31</td>\n",
       "    </tr>\n",
       "    <tr>\n",
       "      <th>...</th>\n",
       "      <td>...</td>\n",
       "      <td>...</td>\n",
       "      <td>...</td>\n",
       "      <td>...</td>\n",
       "      <td>...</td>\n",
       "      <td>...</td>\n",
       "      <td>...</td>\n",
       "      <td>...</td>\n",
       "    </tr>\n",
       "    <tr>\n",
       "      <th>5688</th>\n",
       "      <td>22706</td>\n",
       "      <td>5699.00</td>\n",
       "      <td>1</td>\n",
       "      <td>634</td>\n",
       "      <td>1.000000</td>\n",
       "      <td>0</td>\n",
       "      <td>8</td>\n",
       "      <td>2022-08-28 15:24:31</td>\n",
       "    </tr>\n",
       "    <tr>\n",
       "      <th>5689</th>\n",
       "      <td>22707</td>\n",
       "      <td>6756.06</td>\n",
       "      <td>0</td>\n",
       "      <td>730</td>\n",
       "      <td>1.000000</td>\n",
       "      <td>0</td>\n",
       "      <td>8</td>\n",
       "      <td>2022-08-28 15:24:31</td>\n",
       "    </tr>\n",
       "    <tr>\n",
       "      <th>5690</th>\n",
       "      <td>22708</td>\n",
       "      <td>3217.20</td>\n",
       "      <td>0</td>\n",
       "      <td>56</td>\n",
       "      <td>1.000000</td>\n",
       "      <td>0</td>\n",
       "      <td>7</td>\n",
       "      <td>2022-08-28 15:24:31</td>\n",
       "    </tr>\n",
       "    <tr>\n",
       "      <th>5691</th>\n",
       "      <td>22709</td>\n",
       "      <td>3950.72</td>\n",
       "      <td>0</td>\n",
       "      <td>217</td>\n",
       "      <td>1.000000</td>\n",
       "      <td>0</td>\n",
       "      <td>7</td>\n",
       "      <td>2022-08-28 15:24:31</td>\n",
       "    </tr>\n",
       "    <tr>\n",
       "      <th>5692</th>\n",
       "      <td>12713</td>\n",
       "      <td>794.55</td>\n",
       "      <td>0</td>\n",
       "      <td>37</td>\n",
       "      <td>1.000000</td>\n",
       "      <td>0</td>\n",
       "      <td>7</td>\n",
       "      <td>2022-08-28 15:24:31</td>\n",
       "    </tr>\n",
       "  </tbody>\n",
       "</table>\n",
       "<p>5693 rows × 8 columns</p>\n",
       "</div>"
      ],
      "text/plain": [
       "      customer_id  gross_revenue  recency_days  unique_products  daily_purchase_rate  total_prod_returned  cluster        last_training\n",
       "0           17850        5391.21           372               21            17.000000                   40        1  2022-08-28 15:24:31\n",
       "1           13047        3232.59            56              105             0.028302                   35        3  2022-08-28 15:24:31\n",
       "2           12583        6705.38             2              114             0.040323                   50        8  2022-08-28 15:24:31\n",
       "3           13748         948.25            95               24             0.017921                    0        3  2022-08-28 15:24:31\n",
       "4           15100         876.00           333                1             0.073171                   22        4  2022-08-28 15:24:31\n",
       "...           ...            ...           ...              ...                  ...                  ...      ...                  ...\n",
       "5688        22706        5699.00             1              634             1.000000                    0        8  2022-08-28 15:24:31\n",
       "5689        22707        6756.06             0              730             1.000000                    0        8  2022-08-28 15:24:31\n",
       "5690        22708        3217.20             0               56             1.000000                    0        7  2022-08-28 15:24:31\n",
       "5691        22709        3950.72             0              217             1.000000                    0        7  2022-08-28 15:24:31\n",
       "5692        12713         794.55             0               37             1.000000                    0        7  2022-08-28 15:24:31\n",
       "\n",
       "[5693 rows x 8 columns]"
      ]
     },
     "execution_count": 103,
     "metadata": {},
     "output_type": "execute_result"
    }
   ],
   "source": [
    "#consult database\n",
    "query = \"\"\"\n",
    "    SELECT * FROM loyals\n",
    "\"\"\"\n",
    "df = pd.read_sql_query(query, conn)\n",
    "df"
   ]
  },
  {
   "cell_type": "code",
   "execution_count": 104,
   "id": "1396b4ef",
   "metadata": {
    "ExecuteTime": {
     "end_time": "2022-08-29T01:52:15.257255Z",
     "start_time": "2022-08-29T01:52:15.080971Z"
    }
   },
   "outputs": [],
   "source": [
    "conn.close() #closes connection"
   ]
  },
  {
   "cell_type": "code",
   "execution_count": null,
   "id": "80148019",
   "metadata": {},
   "outputs": [],
   "source": []
  }
 ],
 "metadata": {
  "kernelspec": {
   "display_name": "Python 3 (ipykernel)",
   "language": "python",
   "name": "python3"
  },
  "language_info": {
   "codemirror_mode": {
    "name": "ipython",
    "version": 3
   },
   "file_extension": ".py",
   "mimetype": "text/x-python",
   "name": "python",
   "nbconvert_exporter": "python",
   "pygments_lexer": "ipython3",
   "version": "3.8.0"
  },
  "toc": {
   "base_numbering": 1,
   "nav_menu": {},
   "number_sections": true,
   "sideBar": true,
   "skip_h1_title": false,
   "title_cell": "Table of Contents",
   "title_sidebar": "Contents",
   "toc_cell": false,
   "toc_position": {},
   "toc_section_display": true,
   "toc_window_display": false
  },
  "varInspector": {
   "cols": {
    "lenName": 16,
    "lenType": 16,
    "lenVar": 40
   },
   "kernels_config": {
    "python": {
     "delete_cmd_postfix": "",
     "delete_cmd_prefix": "del ",
     "library": "var_list.py",
     "varRefreshCmd": "print(var_dic_list())"
    },
    "r": {
     "delete_cmd_postfix": ") ",
     "delete_cmd_prefix": "rm(",
     "library": "var_list.r",
     "varRefreshCmd": "cat(var_dic_list()) "
    }
   },
   "position": {
    "height": "294.85px",
    "left": "500px",
    "right": "20px",
    "top": "101px",
    "width": "510px"
   },
   "types_to_exclude": [
    "module",
    "function",
    "builtin_function_or_method",
    "instance",
    "_Feature"
   ],
   "window_display": false
  }
 },
 "nbformat": 4,
 "nbformat_minor": 5
}
