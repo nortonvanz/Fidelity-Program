{
 "cells": [
  {
   "cell_type": "code",
   "execution_count": 7,
   "id": "164dae3d",
   "metadata": {
    "ExecuteTime": {
     "end_time": "2022-09-01T18:52:56.102474Z",
     "start_time": "2022-09-01T18:52:55.140521Z"
    }
   },
   "outputs": [],
   "source": [
    "#papermill_description=LOG-1-PANDAS\n",
    "import pandas            as pd"
   ]
  },
  {
   "cell_type": "code",
   "execution_count": 2,
   "id": "9180d8e0",
   "metadata": {
    "ExecuteTime": {
     "end_time": "2022-09-01T18:52:53.898971Z",
     "start_time": "2022-09-01T18:52:53.894123Z"
    }
   },
   "outputs": [],
   "source": [
    "#papermill_description=LOG-2-OS\n",
    "import os"
   ]
  },
  {
   "cell_type": "code",
   "execution_count": 3,
   "id": "ebded261",
   "metadata": {
    "ExecuteTime": {
     "end_time": "2022-09-01T18:52:53.920217Z",
     "start_time": "2022-09-01T18:52:53.910694Z"
    }
   },
   "outputs": [],
   "source": [
    "#papermill_description=LOG-3-IO\n",
    "import io"
   ]
  },
  {
   "cell_type": "code",
   "execution_count": 1,
   "id": "4cfd87fa",
   "metadata": {
    "ExecuteTime": {
     "end_time": "2022-09-01T18:52:53.846305Z",
     "start_time": "2022-09-01T18:52:53.827531Z"
    }
   },
   "outputs": [],
   "source": [
    "#papermill_description=LOG-4-RE\n",
    "import re"
   ]
  },
  {
   "cell_type": "code",
   "execution_count": 4,
   "id": "dff94cdb",
   "metadata": {
    "ExecuteTime": {
     "end_time": "2022-09-01T18:52:54.729460Z",
     "start_time": "2022-09-01T18:52:53.930621Z"
    }
   },
   "outputs": [],
   "source": [
    "import boto3"
   ]
  },
  {
   "cell_type": "code",
   "execution_count": 5,
   "id": "1846f1ea",
   "metadata": {
    "ExecuteTime": {
     "end_time": "2022-09-01T18:52:54.748005Z",
     "start_time": "2022-09-01T18:52:54.738609Z"
    }
   },
   "outputs": [],
   "source": [
    "import pickle"
   ]
  },
  {
   "cell_type": "code",
   "execution_count": 6,
   "id": "c4385a0a",
   "metadata": {
    "ExecuteTime": {
     "end_time": "2022-09-01T18:52:55.135848Z",
     "start_time": "2022-09-01T18:52:54.755568Z"
    }
   },
   "outputs": [],
   "source": [
    "import numpy             as np"
   ]
  },
  {
   "cell_type": "code",
   "execution_count": 8,
   "id": "f253e548",
   "metadata": {
    "ExecuteTime": {
     "end_time": "2022-09-01T18:52:59.080125Z",
     "start_time": "2022-09-01T18:52:56.105960Z"
    }
   },
   "outputs": [],
   "source": [
    "import seaborn           as sns"
   ]
  },
  {
   "cell_type": "code",
   "execution_count": 9,
   "id": "46368a53",
   "metadata": {
    "ExecuteTime": {
     "end_time": "2022-09-01T18:52:59.107015Z",
     "start_time": "2022-09-01T18:52:59.086094Z"
    }
   },
   "outputs": [],
   "source": [
    "import datetime          as dt"
   ]
  },
  {
   "cell_type": "code",
   "execution_count": 10,
   "id": "d6d125ac",
   "metadata": {
    "ExecuteTime": {
     "end_time": "2022-09-01T18:53:07.640340Z",
     "start_time": "2022-09-01T18:52:59.121907Z"
    }
   },
   "outputs": [],
   "source": [
    "import umap.umap_        as umap"
   ]
  },
  {
   "cell_type": "code",
   "execution_count": 11,
   "id": "d7215830",
   "metadata": {
    "ExecuteTime": {
     "end_time": "2022-09-01T18:53:07.683318Z",
     "start_time": "2022-09-01T18:53:07.674806Z"
    }
   },
   "outputs": [],
   "source": [
    "from matplotlib               import pyplot as plt"
   ]
  },
  {
   "cell_type": "code",
   "execution_count": 12,
   "id": "58bc08cc",
   "metadata": {
    "ExecuteTime": {
     "end_time": "2022-09-01T18:53:07.716541Z",
     "start_time": "2022-09-01T18:53:07.690256Z"
    }
   },
   "outputs": [],
   "source": [
    "from tabulate                 import tabulate"
   ]
  },
  {
   "cell_type": "code",
   "execution_count": 13,
   "id": "225f7d91",
   "metadata": {
    "ExecuteTime": {
     "end_time": "2022-09-01T18:53:07.737536Z",
     "start_time": "2022-09-01T18:53:07.724290Z"
    }
   },
   "outputs": [],
   "source": [
    "from sklearn                  import preprocessing as pp"
   ]
  },
  {
   "cell_type": "code",
   "execution_count": 14,
   "id": "f192b586",
   "metadata": {
    "ExecuteTime": {
     "end_time": "2022-09-01T18:53:07.768958Z",
     "start_time": "2022-09-01T18:53:07.757581Z"
    }
   },
   "outputs": [],
   "source": [
    "from sklearn                  import metrics as m"
   ]
  },
  {
   "cell_type": "code",
   "execution_count": 15,
   "id": "8290a3f4",
   "metadata": {
    "ExecuteTime": {
     "end_time": "2022-09-01T18:53:07.789477Z",
     "start_time": "2022-09-01T18:53:07.776515Z"
    }
   },
   "outputs": [],
   "source": [
    "from scipy.cluster            import hierarchy as hc"
   ]
  },
  {
   "cell_type": "code",
   "execution_count": 16,
   "id": "f3a56d2e",
   "metadata": {
    "ExecuteTime": {
     "end_time": "2022-09-01T18:53:08.320305Z",
     "start_time": "2022-09-01T18:53:07.806289Z"
    }
   },
   "outputs": [],
   "source": [
    "from sqlalchemy               import create_engine"
   ]
  },
  {
   "cell_type": "code",
   "execution_count": 17,
   "id": "b4e4bde1",
   "metadata": {
    "ExecuteTime": {
     "end_time": "2022-09-01T18:53:08.346391Z",
     "start_time": "2022-09-01T18:53:08.325565Z"
    }
   },
   "outputs": [],
   "source": [
    "from sqlalchemy.pool          import NullPool"
   ]
  },
  {
   "cell_type": "code",
   "execution_count": 18,
   "id": "2dd6d653",
   "metadata": {
    "ExecuteTime": {
     "end_time": "2022-09-01T18:53:08.377397Z",
     "start_time": "2022-09-01T18:53:08.360080Z"
    }
   },
   "outputs": [],
   "source": [
    "from dotenv                   import load_dotenv"
   ]
  },
  {
   "cell_type": "code",
   "execution_count": 20,
   "id": "e68149dc",
   "metadata": {
    "ExecuteTime": {
     "end_time": "2022-09-01T18:53:11.845536Z",
     "start_time": "2022-09-01T18:53:11.836739Z"
    }
   },
   "outputs": [
    {
     "name": "stdout",
     "output_type": "stream",
     "text": [
      "all done!\n"
     ]
    }
   ],
   "source": [
    "print(\"all done - final!\")"
   ]
  },
  {
   "cell_type": "code",
   "execution_count": null,
   "id": "ff87783b",
   "metadata": {
    "papermill": {
     "duration": 0.004644,
     "end_time": "2022-08-31T15:43:07.799700",
     "exception": false,
     "start_time": "2022-08-31T15:43:07.795056",
     "status": "completed"
    },
    "tags": []
   },
   "outputs": [],
   "source": []
  }
 ],
 "metadata": {
  "kernelspec": {
   "display_name": "Python 3 (ipykernel)",
   "language": "python",
   "name": "python3"
  },
  "language_info": {
   "codemirror_mode": {
    "name": "ipython",
    "version": 3
   },
   "file_extension": ".py",
   "mimetype": "text/x-python",
   "name": "python",
   "nbconvert_exporter": "python",
   "pygments_lexer": "ipython3",
   "version": "3.8.0"
  },
  "papermill": {
   "default_parameters": {},
   "duration": 5.841214,
   "end_time": "2022-08-31T15:43:08.243531",
   "environment_variables": {},
   "exception": null,
   "input_path": "src/models/papertest.ipynb",
   "output_path": "reports/papertest.ipynb",
   "parameters": {},
   "start_time": "2022-08-31T15:43:02.402317",
   "version": "2.3.4"
  },
  "toc": {
   "base_numbering": 1,
   "nav_menu": {},
   "number_sections": true,
   "sideBar": true,
   "skip_h1_title": false,
   "title_cell": "Table of Contents",
   "title_sidebar": "Contents",
   "toc_cell": false,
   "toc_position": {},
   "toc_section_display": true,
   "toc_window_display": false
  }
 },
 "nbformat": 4,
 "nbformat_minor": 5
}
