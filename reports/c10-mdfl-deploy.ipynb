{
 "cells": [
  {
   "cell_type": "markdown",
   "id": "fourth-massage",
   "metadata": {
    "tags": [
     "papermill-error-cell-tag"
    ]
   },
   "source": [
    "<span style=\"color:red; font-family:Helvetica Neue, Helvetica, Arial, sans-serif; font-size:2em;\">An Exception was encountered at '<a href=\"#papermill-error-cell\">In [2]</a>'.</span>"
   ]
  },
  {
   "cell_type": "markdown",
   "id": "naval-notice",
   "metadata": {
    "ExecuteTime": {
     "end_time": "2021-03-27T20:58:22.276780Z",
     "start_time": "2021-03-27T20:58:22.274533Z"
    },
    "papermill": {
     "duration": 0.151622,
     "end_time": "2021-09-15T01:10:01.459483",
     "exception": false,
     "start_time": "2021-09-15T01:10:01.307861",
     "status": "completed"
    },
    "tags": []
   },
   "source": [
    "# PA005: High Value Customer Identification"
   ]
  },
  {
   "cell_type": "markdown",
   "id": "selected-current",
   "metadata": {
    "papermill": {
     "duration": 0.150372,
     "end_time": "2021-09-15T01:10:01.754496",
     "exception": false,
     "start_time": "2021-09-15T01:10:01.604124",
     "status": "completed"
    },
    "tags": []
   },
   "source": [
    "# 0.0. Imports"
   ]
  },
  {
   "cell_type": "code",
   "execution_count": 1,
   "id": "beneficial-mileage",
   "metadata": {
    "ExecuteTime": {
     "end_time": "2021-09-15T00:36:41.198376Z",
     "start_time": "2021-09-15T00:36:41.181039Z"
    },
    "execution": {
     "iopub.execute_input": "2021-09-15T01:10:02.074606Z",
     "iopub.status.busy": "2021-09-15T01:10:02.071879Z",
     "iopub.status.idle": "2021-09-15T01:10:38.242186Z",
     "shell.execute_reply": "2021-09-15T01:10:38.244593Z"
    },
    "papermill": {
     "duration": 36.345614,
     "end_time": "2021-09-15T01:10:38.245451",
     "exception": false,
     "start_time": "2021-09-15T01:10:01.899837",
     "status": "completed"
    },
    "tags": []
   },
   "outputs": [
    {
     "name": "stderr",
     "output_type": "stream",
     "text": [
      "/Users/meigarom.lopes/.pyenv/versions/3.8.0/envs/pa005insidersclustering/lib/python3.8/site-packages/pandas/compat/__init__.py:97: UserWarning: Could not import the lzma module. Your installed Python is incomplete. Attempting to use lzma compression will result in a RuntimeError.\n",
      "  warnings.warn(msg)\n"
     ]
    }
   ],
   "source": [
    "import re\n",
    "import numpy   as np\n",
    "import pandas  as pd\n",
    "import seaborn as sns\n",
    "\n",
    "import umap.umap_ as umap\n",
    "\n",
    "from matplotlib import pyplot as plt\n",
    "\n",
    "from sklearn import cluster       as c\n",
    "from sklearn import metrics       as m\n",
    "from sklearn import ensemble      as en\n",
    "from sklearn import preprocessing as pp\n",
    "from sklearn import decomposition as dd\n",
    "from sklearn import manifold      as mn\n",
    "from sklearn import mixture       as mx\n",
    "\n",
    "from plotly import express as px\n",
    "from scipy.cluster import hierarchy as hc\n",
    "from sqlalchemy import create_engine"
   ]
  },
  {
   "cell_type": "markdown",
   "id": "optional-machinery",
   "metadata": {
    "papermill": {
     "duration": 0.162022,
     "end_time": "2021-09-15T01:10:38.553441",
     "exception": false,
     "start_time": "2021-09-15T01:10:38.391419",
     "status": "completed"
    },
    "tags": []
   },
   "source": [
    "## 0.2. Load dataset"
   ]
  },
  {
   "cell_type": "markdown",
   "id": "soviet-section",
   "metadata": {
    "tags": [
     "papermill-error-cell-tag"
    ]
   },
   "source": [
    "<span id=\"papermill-error-cell\" style=\"color:red; font-family:Helvetica Neue, Helvetica, Arial, sans-serif; font-size:2em;\">Execution using papermill encountered an exception here and stopped:</span>"
   ]
  },
  {
   "cell_type": "code",
   "execution_count": 2,
   "id": "extra-wiring",
   "metadata": {
    "ExecuteTime": {
     "end_time": "2021-09-14T23:38:32.567088Z",
     "start_time": "2021-09-14T23:38:30.948839Z"
    },
    "execution": {
     "iopub.execute_input": "2021-09-15T01:10:38.855703Z",
     "iopub.status.busy": "2021-09-15T01:10:38.854532Z",
     "iopub.status.idle": "2021-09-15T01:10:39.956477Z",
     "shell.execute_reply": "2021-09-15T01:10:39.954667Z"
    },
    "papermill": {
     "duration": 1.256911,
     "end_time": "2021-09-15T01:10:39.957222",
     "exception": true,
     "start_time": "2021-09-15T01:10:38.700311",
     "status": "failed"
    },
    "tags": []
   },
   "outputs": [
    {
     "ename": "FileNotFoundError",
     "evalue": "[Errno 2] No such file or directory: '../data/raw/Ecommerce.csv'",
     "output_type": "error",
     "traceback": [
      "\u001b[0;31m---------------------------------------------------------------------------\u001b[0m",
      "\u001b[0;31mFileNotFoundError\u001b[0m                         Traceback (most recent call last)",
      "\u001b[0;32m<ipython-input-2-80cf855bec21>\u001b[0m in \u001b[0;36m<module>\u001b[0;34m\u001b[0m\n\u001b[1;32m      1\u001b[0m \u001b[0;31m# load data\u001b[0m\u001b[0;34m\u001b[0m\u001b[0;34m\u001b[0m\u001b[0;34m\u001b[0m\u001b[0m\n\u001b[0;32m----> 2\u001b[0;31m \u001b[0mdf_raw\u001b[0m \u001b[0;34m=\u001b[0m \u001b[0mpd\u001b[0m\u001b[0;34m.\u001b[0m\u001b[0mread_csv\u001b[0m\u001b[0;34m(\u001b[0m \u001b[0;34m'../data/raw/Ecommerce.csv'\u001b[0m \u001b[0;34m)\u001b[0m\u001b[0;34m\u001b[0m\u001b[0;34m\u001b[0m\u001b[0m\n\u001b[0m\u001b[1;32m      3\u001b[0m \u001b[0;34m\u001b[0m\u001b[0m\n\u001b[1;32m      4\u001b[0m \u001b[0;31m# drop extra column\u001b[0m\u001b[0;34m\u001b[0m\u001b[0;34m\u001b[0m\u001b[0;34m\u001b[0m\u001b[0m\n\u001b[1;32m      5\u001b[0m \u001b[0mdf_raw\u001b[0m \u001b[0;34m=\u001b[0m \u001b[0mdf_raw\u001b[0m\u001b[0;34m.\u001b[0m\u001b[0mdrop\u001b[0m\u001b[0;34m(\u001b[0m \u001b[0mcolumns\u001b[0m\u001b[0;34m=\u001b[0m\u001b[0;34m[\u001b[0m\u001b[0;34m'Unnamed: 8'\u001b[0m\u001b[0;34m]\u001b[0m\u001b[0;34m,\u001b[0m \u001b[0maxis\u001b[0m\u001b[0;34m=\u001b[0m\u001b[0;36m1\u001b[0m \u001b[0;34m)\u001b[0m\u001b[0;34m\u001b[0m\u001b[0;34m\u001b[0m\u001b[0m\n",
      "\u001b[0;32m~/.pyenv/versions/3.8.0/envs/pa005insidersclustering/lib/python3.8/site-packages/pandas/io/parsers.py\u001b[0m in \u001b[0;36mread_csv\u001b[0;34m(filepath_or_buffer, sep, delimiter, header, names, index_col, usecols, squeeze, prefix, mangle_dupe_cols, dtype, engine, converters, true_values, false_values, skipinitialspace, skiprows, skipfooter, nrows, na_values, keep_default_na, na_filter, verbose, skip_blank_lines, parse_dates, infer_datetime_format, keep_date_col, date_parser, dayfirst, cache_dates, iterator, chunksize, compression, thousands, decimal, lineterminator, quotechar, quoting, doublequote, escapechar, comment, encoding, dialect, error_bad_lines, warn_bad_lines, delim_whitespace, low_memory, memory_map, float_precision, storage_options)\u001b[0m\n\u001b[1;32m    608\u001b[0m     \u001b[0mkwds\u001b[0m\u001b[0;34m.\u001b[0m\u001b[0mupdate\u001b[0m\u001b[0;34m(\u001b[0m\u001b[0mkwds_defaults\u001b[0m\u001b[0;34m)\u001b[0m\u001b[0;34m\u001b[0m\u001b[0;34m\u001b[0m\u001b[0m\n\u001b[1;32m    609\u001b[0m \u001b[0;34m\u001b[0m\u001b[0m\n\u001b[0;32m--> 610\u001b[0;31m     \u001b[0;32mreturn\u001b[0m \u001b[0m_read\u001b[0m\u001b[0;34m(\u001b[0m\u001b[0mfilepath_or_buffer\u001b[0m\u001b[0;34m,\u001b[0m \u001b[0mkwds\u001b[0m\u001b[0;34m)\u001b[0m\u001b[0;34m\u001b[0m\u001b[0;34m\u001b[0m\u001b[0m\n\u001b[0m\u001b[1;32m    611\u001b[0m \u001b[0;34m\u001b[0m\u001b[0m\n\u001b[1;32m    612\u001b[0m \u001b[0;34m\u001b[0m\u001b[0m\n",
      "\u001b[0;32m~/.pyenv/versions/3.8.0/envs/pa005insidersclustering/lib/python3.8/site-packages/pandas/io/parsers.py\u001b[0m in \u001b[0;36m_read\u001b[0;34m(filepath_or_buffer, kwds)\u001b[0m\n\u001b[1;32m    460\u001b[0m \u001b[0;34m\u001b[0m\u001b[0m\n\u001b[1;32m    461\u001b[0m     \u001b[0;31m# Create the parser.\u001b[0m\u001b[0;34m\u001b[0m\u001b[0;34m\u001b[0m\u001b[0;34m\u001b[0m\u001b[0m\n\u001b[0;32m--> 462\u001b[0;31m     \u001b[0mparser\u001b[0m \u001b[0;34m=\u001b[0m \u001b[0mTextFileReader\u001b[0m\u001b[0;34m(\u001b[0m\u001b[0mfilepath_or_buffer\u001b[0m\u001b[0;34m,\u001b[0m \u001b[0;34m**\u001b[0m\u001b[0mkwds\u001b[0m\u001b[0;34m)\u001b[0m\u001b[0;34m\u001b[0m\u001b[0;34m\u001b[0m\u001b[0m\n\u001b[0m\u001b[1;32m    463\u001b[0m \u001b[0;34m\u001b[0m\u001b[0m\n\u001b[1;32m    464\u001b[0m     \u001b[0;32mif\u001b[0m \u001b[0mchunksize\u001b[0m \u001b[0;32mor\u001b[0m \u001b[0miterator\u001b[0m\u001b[0;34m:\u001b[0m\u001b[0;34m\u001b[0m\u001b[0;34m\u001b[0m\u001b[0m\n",
      "\u001b[0;32m~/.pyenv/versions/3.8.0/envs/pa005insidersclustering/lib/python3.8/site-packages/pandas/io/parsers.py\u001b[0m in \u001b[0;36m__init__\u001b[0;34m(self, f, engine, **kwds)\u001b[0m\n\u001b[1;32m    817\u001b[0m             \u001b[0mself\u001b[0m\u001b[0;34m.\u001b[0m\u001b[0moptions\u001b[0m\u001b[0;34m[\u001b[0m\u001b[0;34m\"has_index_names\"\u001b[0m\u001b[0;34m]\u001b[0m \u001b[0;34m=\u001b[0m \u001b[0mkwds\u001b[0m\u001b[0;34m[\u001b[0m\u001b[0;34m\"has_index_names\"\u001b[0m\u001b[0;34m]\u001b[0m\u001b[0;34m\u001b[0m\u001b[0;34m\u001b[0m\u001b[0m\n\u001b[1;32m    818\u001b[0m \u001b[0;34m\u001b[0m\u001b[0m\n\u001b[0;32m--> 819\u001b[0;31m         \u001b[0mself\u001b[0m\u001b[0;34m.\u001b[0m\u001b[0m_engine\u001b[0m \u001b[0;34m=\u001b[0m \u001b[0mself\u001b[0m\u001b[0;34m.\u001b[0m\u001b[0m_make_engine\u001b[0m\u001b[0;34m(\u001b[0m\u001b[0mself\u001b[0m\u001b[0;34m.\u001b[0m\u001b[0mengine\u001b[0m\u001b[0;34m)\u001b[0m\u001b[0;34m\u001b[0m\u001b[0;34m\u001b[0m\u001b[0m\n\u001b[0m\u001b[1;32m    820\u001b[0m \u001b[0;34m\u001b[0m\u001b[0m\n\u001b[1;32m    821\u001b[0m     \u001b[0;32mdef\u001b[0m \u001b[0mclose\u001b[0m\u001b[0;34m(\u001b[0m\u001b[0mself\u001b[0m\u001b[0;34m)\u001b[0m\u001b[0;34m:\u001b[0m\u001b[0;34m\u001b[0m\u001b[0;34m\u001b[0m\u001b[0m\n",
      "\u001b[0;32m~/.pyenv/versions/3.8.0/envs/pa005insidersclustering/lib/python3.8/site-packages/pandas/io/parsers.py\u001b[0m in \u001b[0;36m_make_engine\u001b[0;34m(self, engine)\u001b[0m\n\u001b[1;32m   1048\u001b[0m             )\n\u001b[1;32m   1049\u001b[0m         \u001b[0;31m# error: Too many arguments for \"ParserBase\"\u001b[0m\u001b[0;34m\u001b[0m\u001b[0;34m\u001b[0m\u001b[0;34m\u001b[0m\u001b[0m\n\u001b[0;32m-> 1050\u001b[0;31m         \u001b[0;32mreturn\u001b[0m \u001b[0mmapping\u001b[0m\u001b[0;34m[\u001b[0m\u001b[0mengine\u001b[0m\u001b[0;34m]\u001b[0m\u001b[0;34m(\u001b[0m\u001b[0mself\u001b[0m\u001b[0;34m.\u001b[0m\u001b[0mf\u001b[0m\u001b[0;34m,\u001b[0m \u001b[0;34m**\u001b[0m\u001b[0mself\u001b[0m\u001b[0;34m.\u001b[0m\u001b[0moptions\u001b[0m\u001b[0;34m)\u001b[0m  \u001b[0;31m# type: ignore[call-arg]\u001b[0m\u001b[0;34m\u001b[0m\u001b[0;34m\u001b[0m\u001b[0m\n\u001b[0m\u001b[1;32m   1051\u001b[0m \u001b[0;34m\u001b[0m\u001b[0m\n\u001b[1;32m   1052\u001b[0m     \u001b[0;32mdef\u001b[0m \u001b[0m_failover_to_python\u001b[0m\u001b[0;34m(\u001b[0m\u001b[0mself\u001b[0m\u001b[0;34m)\u001b[0m\u001b[0;34m:\u001b[0m\u001b[0;34m\u001b[0m\u001b[0;34m\u001b[0m\u001b[0m\n",
      "\u001b[0;32m~/.pyenv/versions/3.8.0/envs/pa005insidersclustering/lib/python3.8/site-packages/pandas/io/parsers.py\u001b[0m in \u001b[0;36m__init__\u001b[0;34m(self, src, **kwds)\u001b[0m\n\u001b[1;32m   1865\u001b[0m \u001b[0;34m\u001b[0m\u001b[0m\n\u001b[1;32m   1866\u001b[0m         \u001b[0;31m# open handles\u001b[0m\u001b[0;34m\u001b[0m\u001b[0;34m\u001b[0m\u001b[0;34m\u001b[0m\u001b[0m\n\u001b[0;32m-> 1867\u001b[0;31m         \u001b[0mself\u001b[0m\u001b[0;34m.\u001b[0m\u001b[0m_open_handles\u001b[0m\u001b[0;34m(\u001b[0m\u001b[0msrc\u001b[0m\u001b[0;34m,\u001b[0m \u001b[0mkwds\u001b[0m\u001b[0;34m)\u001b[0m\u001b[0;34m\u001b[0m\u001b[0;34m\u001b[0m\u001b[0m\n\u001b[0m\u001b[1;32m   1868\u001b[0m         \u001b[0;32massert\u001b[0m \u001b[0mself\u001b[0m\u001b[0;34m.\u001b[0m\u001b[0mhandles\u001b[0m \u001b[0;32mis\u001b[0m \u001b[0;32mnot\u001b[0m \u001b[0;32mNone\u001b[0m\u001b[0;34m\u001b[0m\u001b[0;34m\u001b[0m\u001b[0m\n\u001b[1;32m   1869\u001b[0m         \u001b[0;32mfor\u001b[0m \u001b[0mkey\u001b[0m \u001b[0;32min\u001b[0m \u001b[0;34m(\u001b[0m\u001b[0;34m\"storage_options\"\u001b[0m\u001b[0;34m,\u001b[0m \u001b[0;34m\"encoding\"\u001b[0m\u001b[0;34m,\u001b[0m \u001b[0;34m\"memory_map\"\u001b[0m\u001b[0;34m,\u001b[0m \u001b[0;34m\"compression\"\u001b[0m\u001b[0;34m)\u001b[0m\u001b[0;34m:\u001b[0m\u001b[0;34m\u001b[0m\u001b[0;34m\u001b[0m\u001b[0m\n",
      "\u001b[0;32m~/.pyenv/versions/3.8.0/envs/pa005insidersclustering/lib/python3.8/site-packages/pandas/io/parsers.py\u001b[0m in \u001b[0;36m_open_handles\u001b[0;34m(self, src, kwds)\u001b[0m\n\u001b[1;32m   1360\u001b[0m         \u001b[0mLet\u001b[0m \u001b[0mthe\u001b[0m \u001b[0mreaders\u001b[0m \u001b[0mopen\u001b[0m \u001b[0mIOHanldes\u001b[0m \u001b[0mafter\u001b[0m \u001b[0mthey\u001b[0m \u001b[0mare\u001b[0m \u001b[0mdone\u001b[0m \u001b[0;32mwith\u001b[0m \u001b[0mtheir\u001b[0m \u001b[0mpotential\u001b[0m \u001b[0mraises\u001b[0m\u001b[0;34m.\u001b[0m\u001b[0;34m\u001b[0m\u001b[0;34m\u001b[0m\u001b[0m\n\u001b[1;32m   1361\u001b[0m         \"\"\"\n\u001b[0;32m-> 1362\u001b[0;31m         self.handles = get_handle(\n\u001b[0m\u001b[1;32m   1363\u001b[0m             \u001b[0msrc\u001b[0m\u001b[0;34m,\u001b[0m\u001b[0;34m\u001b[0m\u001b[0;34m\u001b[0m\u001b[0m\n\u001b[1;32m   1364\u001b[0m             \u001b[0;34m\"r\"\u001b[0m\u001b[0;34m,\u001b[0m\u001b[0;34m\u001b[0m\u001b[0;34m\u001b[0m\u001b[0m\n",
      "\u001b[0;32m~/.pyenv/versions/3.8.0/envs/pa005insidersclustering/lib/python3.8/site-packages/pandas/io/common.py\u001b[0m in \u001b[0;36mget_handle\u001b[0;34m(path_or_buf, mode, encoding, compression, memory_map, is_text, errors, storage_options)\u001b[0m\n\u001b[1;32m    640\u001b[0m                 \u001b[0merrors\u001b[0m \u001b[0;34m=\u001b[0m \u001b[0;34m\"replace\"\u001b[0m\u001b[0;34m\u001b[0m\u001b[0;34m\u001b[0m\u001b[0m\n\u001b[1;32m    641\u001b[0m             \u001b[0;31m# Encoding\u001b[0m\u001b[0;34m\u001b[0m\u001b[0;34m\u001b[0m\u001b[0;34m\u001b[0m\u001b[0m\n\u001b[0;32m--> 642\u001b[0;31m             handle = open(\n\u001b[0m\u001b[1;32m    643\u001b[0m                 \u001b[0mhandle\u001b[0m\u001b[0;34m,\u001b[0m\u001b[0;34m\u001b[0m\u001b[0;34m\u001b[0m\u001b[0m\n\u001b[1;32m    644\u001b[0m                 \u001b[0mioargs\u001b[0m\u001b[0;34m.\u001b[0m\u001b[0mmode\u001b[0m\u001b[0;34m,\u001b[0m\u001b[0;34m\u001b[0m\u001b[0;34m\u001b[0m\u001b[0m\n",
      "\u001b[0;31mFileNotFoundError\u001b[0m: [Errno 2] No such file or directory: '../data/raw/Ecommerce.csv'"
     ]
    }
   ],
   "source": [
    "# load data\n",
    "df_raw = pd.read_csv( '../data/raw/Ecommerce.csv' )\n",
    "\n",
    "# drop extra column\n",
    "df_raw = df_raw.drop( columns=['Unnamed: 8'], axis=1 )"
   ]
  },
  {
   "cell_type": "markdown",
   "id": "union-nigeria",
   "metadata": {
    "papermill": {
     "duration": null,
     "end_time": null,
     "exception": null,
     "start_time": null,
     "status": "pending"
    },
    "tags": []
   },
   "source": [
    "# <font color='red'> 1.0. Descrição dos dados </font>"
   ]
  },
  {
   "cell_type": "code",
   "execution_count": null,
   "id": "neutral-encyclopedia",
   "metadata": {
    "ExecuteTime": {
     "end_time": "2021-09-14T23:38:32.608131Z",
     "start_time": "2021-09-14T23:38:32.577483Z"
    },
    "papermill": {
     "duration": null,
     "end_time": null,
     "exception": null,
     "start_time": null,
     "status": "pending"
    },
    "tags": []
   },
   "outputs": [],
   "source": [
    "df1 = df_raw.copy()"
   ]
  },
  {
   "cell_type": "code",
   "execution_count": null,
   "id": "cellular-warren",
   "metadata": {
    "ExecuteTime": {
     "end_time": "2021-09-14T23:38:32.674577Z",
     "start_time": "2021-09-14T23:38:32.617551Z"
    },
    "papermill": {
     "duration": null,
     "end_time": null,
     "exception": null,
     "start_time": null,
     "status": "pending"
    },
    "tags": []
   },
   "outputs": [],
   "source": [
    "df1.head()"
   ]
  },
  {
   "cell_type": "code",
   "execution_count": null,
   "id": "unable-contract",
   "metadata": {
    "papermill": {
     "duration": null,
     "end_time": null,
     "exception": null,
     "start_time": null,
     "status": "pending"
    },
    "tags": []
   },
   "outputs": [],
   "source": []
  },
  {
   "cell_type": "markdown",
   "id": "macro-friday",
   "metadata": {
    "papermill": {
     "duration": null,
     "end_time": null,
     "exception": null,
     "start_time": null,
     "status": "pending"
    },
    "tags": []
   },
   "source": [
    "## 1.1. Rename columuns"
   ]
  },
  {
   "cell_type": "code",
   "execution_count": null,
   "id": "broken-coral",
   "metadata": {
    "ExecuteTime": {
     "end_time": "2021-09-14T23:38:32.694386Z",
     "start_time": "2021-09-14T23:38:32.679849Z"
    },
    "papermill": {
     "duration": null,
     "end_time": null,
     "exception": null,
     "start_time": null,
     "status": "pending"
    },
    "tags": []
   },
   "outputs": [],
   "source": [
    "cols_new = ['invoice_no', 'stock_code', 'description', 'quantity', 'invoice_date', 'unit_price', 'customer_id', 'country']\n",
    "df1.columns = cols_new"
   ]
  },
  {
   "cell_type": "markdown",
   "id": "neither-vessel",
   "metadata": {
    "papermill": {
     "duration": null,
     "end_time": null,
     "exception": null,
     "start_time": null,
     "status": "pending"
    },
    "tags": []
   },
   "source": [
    "## 1.2. Data dimensions"
   ]
  },
  {
   "cell_type": "code",
   "execution_count": null,
   "id": "sitting-cleanup",
   "metadata": {
    "ExecuteTime": {
     "end_time": "2021-09-14T23:38:32.714878Z",
     "start_time": "2021-09-14T23:38:32.704527Z"
    },
    "papermill": {
     "duration": null,
     "end_time": null,
     "exception": null,
     "start_time": null,
     "status": "pending"
    },
    "tags": []
   },
   "outputs": [],
   "source": [
    "print( 'Number of rows: {}'.format( df1.shape[0] ) )\n",
    "print( 'Number of cols: {}'.format( df1.shape[1] ) )"
   ]
  },
  {
   "cell_type": "markdown",
   "id": "dynamic-block",
   "metadata": {
    "papermill": {
     "duration": null,
     "end_time": null,
     "exception": null,
     "start_time": null,
     "status": "pending"
    },
    "tags": []
   },
   "source": [
    "## 1.3. Data types"
   ]
  },
  {
   "cell_type": "code",
   "execution_count": null,
   "id": "hollywood-highway",
   "metadata": {
    "ExecuteTime": {
     "end_time": "2021-09-14T23:38:32.747843Z",
     "start_time": "2021-09-14T23:38:32.725963Z"
    },
    "papermill": {
     "duration": null,
     "end_time": null,
     "exception": null,
     "start_time": null,
     "status": "pending"
    },
    "tags": []
   },
   "outputs": [],
   "source": [
    "df1.dtypes"
   ]
  },
  {
   "cell_type": "markdown",
   "id": "surgical-trademark",
   "metadata": {
    "papermill": {
     "duration": null,
     "end_time": null,
     "exception": null,
     "start_time": null,
     "status": "pending"
    },
    "tags": []
   },
   "source": [
    "## 1.4. Check NA"
   ]
  },
  {
   "cell_type": "code",
   "execution_count": null,
   "id": "pleased-workplace",
   "metadata": {
    "ExecuteTime": {
     "end_time": "2021-09-14T23:38:33.075316Z",
     "start_time": "2021-09-14T23:38:32.763197Z"
    },
    "papermill": {
     "duration": null,
     "end_time": null,
     "exception": null,
     "start_time": null,
     "status": "pending"
    },
    "tags": []
   },
   "outputs": [],
   "source": [
    "df1.isna().sum()"
   ]
  },
  {
   "cell_type": "markdown",
   "id": "arbitrary-comment",
   "metadata": {
    "papermill": {
     "duration": null,
     "end_time": null,
     "exception": null,
     "start_time": null,
     "status": "pending"
    },
    "tags": []
   },
   "source": [
    "## 1.5. Replace NA"
   ]
  },
  {
   "cell_type": "code",
   "execution_count": null,
   "id": "cognitive-surgeon",
   "metadata": {
    "ExecuteTime": {
     "end_time": "2021-09-14T23:38:33.092413Z",
     "start_time": "2021-09-14T23:38:33.081511Z"
    },
    "papermill": {
     "duration": null,
     "end_time": null,
     "exception": null,
     "start_time": null,
     "status": "pending"
    },
    "tags": []
   },
   "outputs": [],
   "source": [
    "# Precisamos resolver o problema do NA"
   ]
  },
  {
   "cell_type": "code",
   "execution_count": null,
   "id": "flexible-phenomenon",
   "metadata": {
    "ExecuteTime": {
     "end_time": "2021-09-14T23:38:33.183943Z",
     "start_time": "2021-09-14T23:38:33.097757Z"
    },
    "papermill": {
     "duration": null,
     "end_time": null,
     "exception": null,
     "start_time": null,
     "status": "pending"
    },
    "tags": []
   },
   "outputs": [],
   "source": [
    "df_missing = df1.loc[df1['customer_id'].isna(), :]\n",
    "df_not_missing = df1.loc[~df1['customer_id'].isna(), :]"
   ]
  },
  {
   "cell_type": "code",
   "execution_count": null,
   "id": "acting-eight",
   "metadata": {
    "ExecuteTime": {
     "end_time": "2021-09-14T23:38:33.854323Z",
     "start_time": "2021-09-14T23:38:33.190683Z"
    },
    "papermill": {
     "duration": null,
     "end_time": null,
     "exception": null,
     "start_time": null,
     "status": "pending"
    },
    "tags": []
   },
   "outputs": [],
   "source": [
    "# create reference\n",
    "df_backup = pd.DataFrame( df_missing['invoice_no'].drop_duplicates() )\n",
    "df_backup['customer_id'] = np.arange( 19000, 19000+len( df_backup ), 1)\n",
    "\n",
    "# merge original with reference dataframe\n",
    "df1 = pd.merge( df1, df_backup, on='invoice_no', how='left' )\n",
    "\n",
    "# coalesce \n",
    "df1['customer_id'] = df1['customer_id_x'].combine_first( df1['customer_id_y'] )\n",
    "\n",
    "# drop extra columns\n",
    "df1 = df1.drop( columns=['customer_id_x', 'customer_id_y'], axis=1 )"
   ]
  },
  {
   "cell_type": "code",
   "execution_count": null,
   "id": "massive-princeton",
   "metadata": {
    "ExecuteTime": {
     "end_time": "2021-09-14T23:38:34.112281Z",
     "start_time": "2021-09-14T23:38:33.862664Z"
    },
    "papermill": {
     "duration": null,
     "end_time": null,
     "exception": null,
     "start_time": null,
     "status": "pending"
    },
    "tags": []
   },
   "outputs": [],
   "source": [
    "df1.isna().sum()"
   ]
  },
  {
   "cell_type": "markdown",
   "id": "peripheral-fourth",
   "metadata": {
    "papermill": {
     "duration": null,
     "end_time": null,
     "exception": null,
     "start_time": null,
     "status": "pending"
    },
    "tags": []
   },
   "source": [
    "## 1.6. Change dtypes"
   ]
  },
  {
   "cell_type": "code",
   "execution_count": null,
   "id": "acting-arrest",
   "metadata": {
    "ExecuteTime": {
     "end_time": "2021-09-14T23:38:34.323776Z",
     "start_time": "2021-09-14T23:38:34.116970Z"
    },
    "papermill": {
     "duration": null,
     "end_time": null,
     "exception": null,
     "start_time": null,
     "status": "pending"
    },
    "tags": []
   },
   "outputs": [],
   "source": [
    "# invoice date\n",
    "df1['invoice_date'] = pd.to_datetime( df1['invoice_date'], format='%d-%b-%y' )\n",
    "\n",
    "# customer id\n",
    "df1['customer_id'] = df1['customer_id'].astype( int )\n",
    "df1.head()"
   ]
  },
  {
   "cell_type": "code",
   "execution_count": null,
   "id": "moderate-combining",
   "metadata": {
    "ExecuteTime": {
     "end_time": "2021-09-14T23:38:34.334365Z",
     "start_time": "2021-09-14T23:38:34.326260Z"
    },
    "papermill": {
     "duration": null,
     "end_time": null,
     "exception": null,
     "start_time": null,
     "status": "pending"
    },
    "tags": []
   },
   "outputs": [],
   "source": [
    "df1.dtypes"
   ]
  },
  {
   "cell_type": "markdown",
   "id": "indian-tuition",
   "metadata": {
    "papermill": {
     "duration": null,
     "end_time": null,
     "exception": null,
     "start_time": null,
     "status": "pending"
    },
    "tags": []
   },
   "source": [
    "## 1.7. Descriptive Statistics"
   ]
  },
  {
   "cell_type": "code",
   "execution_count": null,
   "id": "ordered-league",
   "metadata": {
    "ExecuteTime": {
     "end_time": "2021-09-14T23:38:34.402478Z",
     "start_time": "2021-09-14T23:38:34.343277Z"
    },
    "papermill": {
     "duration": null,
     "end_time": null,
     "exception": null,
     "start_time": null,
     "status": "pending"
    },
    "tags": []
   },
   "outputs": [],
   "source": [
    "num_attributes = df1.select_dtypes( include=['int64', 'float64'] )\n",
    "cat_attributes = df1.select_dtypes( exclude=['int64', 'float64', 'datetime64[ns]'] )"
   ]
  },
  {
   "cell_type": "markdown",
   "id": "equal-humidity",
   "metadata": {
    "papermill": {
     "duration": null,
     "end_time": null,
     "exception": null,
     "start_time": null,
     "status": "pending"
    },
    "tags": []
   },
   "source": [
    "### 1.7.1. Numerical Attributs"
   ]
  },
  {
   "cell_type": "code",
   "execution_count": null,
   "id": "figured-teens",
   "metadata": {
    "ExecuteTime": {
     "end_time": "2021-09-14T23:52:00.849112Z",
     "start_time": "2021-09-14T23:52:00.369660Z"
    },
    "papermill": {
     "duration": null,
     "end_time": null,
     "exception": null,
     "start_time": null,
     "status": "pending"
    },
    "tags": []
   },
   "outputs": [],
   "source": [
    "# central tendency - mean, median\n",
    "ct1 = pd.DataFrame( num_attributes.apply( np.mean ) ).T\n",
    "ct2 = pd.DataFrame( num_attributes.apply( np.median ) ).T\n",
    "             \n",
    "# dispersion - desvio padrão, minimo, maximo, range, skew, kurtosis\n",
    "d1 = pd.DataFrame( num_attributes.apply( np.std ) ).T\n",
    "d2 = pd.DataFrame( num_attributes.apply( np.min ) ).T\n",
    "d3 = pd.DataFrame( num_attributes.apply( np.max ) ).T\n",
    "d4 = pd.DataFrame( num_attributes.apply( lambda x: x.max() - x.min() ) ).T\n",
    "d5 = pd.DataFrame( num_attributes.apply( lambda x: x.skew() ) ).T\n",
    "d6 = pd.DataFrame( num_attributes.apply( lambda x: x.kurtosis() ) ).T\n",
    "\n",
    "# concatenate\n",
    "m1 = pd.concat( [d2, d3, d4, ct1, ct2, d1, d5, d6] ).T.reset_index()\n",
    "m1.columns = ['attributes', 'min', 'max', 'range', 'mean', 'mediana', 'std', 'skew', 'kurtosis']\n",
    "m1"
   ]
  },
  {
   "cell_type": "markdown",
   "id": "composite-climate",
   "metadata": {
    "papermill": {
     "duration": null,
     "end_time": null,
     "exception": null,
     "start_time": null,
     "status": "pending"
    },
    "tags": []
   },
   "source": [
    "### 1.7.2. Categorical Attributs"
   ]
  },
  {
   "cell_type": "markdown",
   "id": "accepting-chapter",
   "metadata": {
    "papermill": {
     "duration": null,
     "end_time": null,
     "exception": null,
     "start_time": null,
     "status": "pending"
    },
    "tags": []
   },
   "source": [
    "#### Invoice No"
   ]
  },
  {
   "cell_type": "code",
   "execution_count": null,
   "id": "heard-unemployment",
   "metadata": {
    "ExecuteTime": {
     "end_time": "2021-09-14T23:38:59.875795Z",
     "start_time": "2021-09-14T23:38:57.872578Z"
    },
    "papermill": {
     "duration": null,
     "end_time": null,
     "exception": null,
     "start_time": null,
     "status": "pending"
    },
    "tags": []
   },
   "outputs": [],
   "source": [
    "# problema: Temos invoice com letras e numeros\n",
    "#df1['invoice_no'].astype( int )\n",
    "\n",
    "# identficacao: \n",
    "df_letter_invoices = df1.loc[df1['invoice_no'].apply( lambda x: bool( re.search( '[^0-9]+', x ) ) ), :]\n",
    "df_letter_invoices.head()\n",
    "\n",
    "print( 'Total number of invoices: {}'.format( len( df_letter_invoices ) ) )\n",
    "print( 'Total number of negative quantity: {}'.format( len( df_letter_invoices[ df_letter_invoices['quantity'] < 0 ] ) ) )"
   ]
  },
  {
   "cell_type": "markdown",
   "id": "decimal-undergraduate",
   "metadata": {
    "papermill": {
     "duration": null,
     "end_time": null,
     "exception": null,
     "start_time": null,
     "status": "pending"
    },
    "tags": []
   },
   "source": [
    "#### Stock Code"
   ]
  },
  {
   "cell_type": "code",
   "execution_count": null,
   "id": "decimal-botswana",
   "metadata": {
    "ExecuteTime": {
     "end_time": "2021-09-14T23:39:02.477039Z",
     "start_time": "2021-09-14T23:39:00.505700Z"
    },
    "papermill": {
     "duration": null,
     "end_time": null,
     "exception": null,
     "start_time": null,
     "status": "pending"
    },
    "tags": []
   },
   "outputs": [],
   "source": [
    "# check stock codes only characters\n",
    "df1.loc[df1['stock_code'].apply( lambda x: bool( re.search( '^[a-zA-Z]+$', x ) ) ), 'stock_code'].unique()\n",
    "\n",
    "# Acão:\n",
    "## 1. Remove stock_code in ['POST', 'D', 'M', 'PADS', 'DOT', 'CRUK']"
   ]
  },
  {
   "cell_type": "markdown",
   "id": "rental-tourist",
   "metadata": {
    "papermill": {
     "duration": null,
     "end_time": null,
     "exception": null,
     "start_time": null,
     "status": "pending"
    },
    "tags": []
   },
   "source": [
    "# <font color='red'> 2.0. Filtragem de Variáveis </font>"
   ]
  },
  {
   "cell_type": "code",
   "execution_count": null,
   "id": "miniature-madison",
   "metadata": {
    "ExecuteTime": {
     "end_time": "2021-09-14T23:39:02.606423Z",
     "start_time": "2021-09-14T23:39:02.563210Z"
    },
    "papermill": {
     "duration": null,
     "end_time": null,
     "exception": null,
     "start_time": null,
     "status": "pending"
    },
    "tags": []
   },
   "outputs": [],
   "source": [
    "df2 = df1.copy()"
   ]
  },
  {
   "cell_type": "code",
   "execution_count": null,
   "id": "amber-grounds",
   "metadata": {
    "ExecuteTime": {
     "end_time": "2021-09-14T23:39:03.014328Z",
     "start_time": "2021-09-14T23:39:02.998841Z"
    },
    "papermill": {
     "duration": null,
     "end_time": null,
     "exception": null,
     "start_time": null,
     "status": "pending"
    },
    "tags": []
   },
   "outputs": [],
   "source": [
    "df2.dtypes"
   ]
  },
  {
   "cell_type": "code",
   "execution_count": null,
   "id": "opponent-costa",
   "metadata": {
    "ExecuteTime": {
     "end_time": "2021-09-14T23:39:04.824481Z",
     "start_time": "2021-09-14T23:39:04.267409Z"
    },
    "papermill": {
     "duration": null,
     "end_time": null,
     "exception": null,
     "start_time": null,
     "status": "pending"
    },
    "tags": []
   },
   "outputs": [],
   "source": [
    "# === Numerical attributes ====\n",
    "df2 = df2.loc[df2['unit_price'] >= 0.04, :]\n",
    "\n",
    "# === Categorical attributes ====\n",
    "df2 = df2[~df2['stock_code'].isin( ['POST', 'D', 'DOT', 'M', 'S', 'AMAZONFEE', 'm', 'DCGSSBOY', 'DCGSSGIRL', 'PADS', 'B', 'CRUK'] ) ]\n",
    "\n",
    "# description\n",
    "df2 = df2.drop( columns='description', axis=1 )\n",
    "\n",
    "# map -  \n",
    "df2 = df2[~df2['country'].isin( ['European Community', 'Unspecified' ] ) ]\n",
    "\n",
    "# bad users\n",
    "df2 = df2[~df2['customer_id'].isin( [16446] )]\n",
    "\n",
    "# quantity\n",
    "df2_returns = df2.loc[df1['quantity'] < 0, :]\n",
    "df2_purchases = df2.loc[df1['quantity'] >= 0, :]"
   ]
  },
  {
   "cell_type": "markdown",
   "id": "incorporated-cricket",
   "metadata": {
    "papermill": {
     "duration": null,
     "end_time": null,
     "exception": null,
     "start_time": null,
     "status": "pending"
    },
    "tags": []
   },
   "source": [
    "# <font color='red'> 3.0. Feature Engineering </font>"
   ]
  },
  {
   "cell_type": "code",
   "execution_count": null,
   "id": "experimental-inside",
   "metadata": {
    "ExecuteTime": {
     "end_time": "2021-09-14T23:39:09.954705Z",
     "start_time": "2021-09-14T23:39:09.911937Z"
    },
    "papermill": {
     "duration": null,
     "end_time": null,
     "exception": null,
     "start_time": null,
     "status": "pending"
    },
    "tags": []
   },
   "outputs": [],
   "source": [
    "df3 = df2.copy()"
   ]
  },
  {
   "cell_type": "markdown",
   "id": "painful-institution",
   "metadata": {
    "papermill": {
     "duration": null,
     "end_time": null,
     "exception": null,
     "start_time": null,
     "status": "pending"
    },
    "tags": []
   },
   "source": [
    "## 3.1. Feature Creation"
   ]
  },
  {
   "cell_type": "code",
   "execution_count": null,
   "id": "laden-express",
   "metadata": {
    "ExecuteTime": {
     "end_time": "2021-09-14T23:41:51.533963Z",
     "start_time": "2021-09-14T23:41:51.473077Z"
    },
    "papermill": {
     "duration": null,
     "end_time": null,
     "exception": null,
     "start_time": null,
     "status": "pending"
    },
    "tags": []
   },
   "outputs": [],
   "source": [
    "# data reference\n",
    "df_ref = df3.drop( ['invoice_no', 'stock_code', 'quantity', 'invoice_date', 'unit_price', 'country'], axis=1 ).drop_duplicates( ignore_index=True )"
   ]
  },
  {
   "cell_type": "code",
   "execution_count": null,
   "id": "thermal-amplifier",
   "metadata": {
    "ExecuteTime": {
     "end_time": "2021-09-14T23:41:51.830811Z",
     "start_time": "2021-09-14T23:41:51.826243Z"
    },
    "papermill": {
     "duration": null,
     "end_time": null,
     "exception": null,
     "start_time": null,
     "status": "pending"
    },
    "tags": []
   },
   "outputs": [],
   "source": [
    "df_ref.shape"
   ]
  },
  {
   "cell_type": "code",
   "execution_count": null,
   "id": "copyrighted-premiere",
   "metadata": {
    "ExecuteTime": {
     "end_time": "2021-09-14T23:41:52.366872Z",
     "start_time": "2021-09-14T23:41:52.348446Z"
    },
    "papermill": {
     "duration": null,
     "end_time": null,
     "exception": null,
     "start_time": null,
     "status": "pending"
    },
    "tags": []
   },
   "outputs": [],
   "source": [
    "df_ref.isna().sum()"
   ]
  },
  {
   "cell_type": "markdown",
   "id": "second-missouri",
   "metadata": {
    "papermill": {
     "duration": null,
     "end_time": null,
     "exception": null,
     "start_time": null,
     "status": "pending"
    },
    "tags": []
   },
   "source": [
    "### 3.1.1. Gross Revenue"
   ]
  },
  {
   "cell_type": "code",
   "execution_count": null,
   "id": "handmade-joseph",
   "metadata": {
    "ExecuteTime": {
     "end_time": "2021-09-14T23:41:54.324201Z",
     "start_time": "2021-09-14T23:41:54.234659Z"
    },
    "papermill": {
     "duration": null,
     "end_time": null,
     "exception": null,
     "start_time": null,
     "status": "pending"
    },
    "tags": []
   },
   "outputs": [],
   "source": [
    "# Gross Revenue ( Faturamento ) quantity * price\n",
    "df2_purchases.loc[:, 'gross_revenue'] = df2_purchases.loc[:, 'quantity'] * df2_purchases.loc[:, 'unit_price']\n",
    "\n",
    "# Monetary\n",
    "df_monetary = df2_purchases.loc[:, ['customer_id', 'gross_revenue']].groupby( 'customer_id' ).sum().reset_index()\n",
    "df_ref = pd.merge( df_ref, df_monetary, on='customer_id', how='left' )\n",
    "df_ref.isna().sum()"
   ]
  },
  {
   "cell_type": "markdown",
   "id": "metric-vulnerability",
   "metadata": {
    "papermill": {
     "duration": null,
     "end_time": null,
     "exception": null,
     "start_time": null,
     "status": "pending"
    },
    "tags": []
   },
   "source": [
    "### 3.1.2. Recency - Day from last purchase"
   ]
  },
  {
   "cell_type": "code",
   "execution_count": null,
   "id": "incorrect-baseline",
   "metadata": {
    "ExecuteTime": {
     "end_time": "2021-09-14T23:41:54.928214Z",
     "start_time": "2021-09-14T23:41:54.831394Z"
    },
    "papermill": {
     "duration": null,
     "end_time": null,
     "exception": null,
     "start_time": null,
     "status": "pending"
    },
    "tags": []
   },
   "outputs": [],
   "source": [
    "# Recency - Last day purchase\n",
    "df_recency = df2_purchases.loc[:, ['customer_id', 'invoice_date']].groupby( 'customer_id' ).max().reset_index()\n",
    "df_recency['recency_days'] = ( df2['invoice_date'].max() - df_recency['invoice_date'] ).dt.days\n",
    "df_recency = df_recency[['customer_id', 'recency_days']].copy()\n",
    "df_ref = pd.merge( df_ref, df_recency, on='customer_id', how='left' )\n",
    "df_ref.isna().sum()"
   ]
  },
  {
   "cell_type": "markdown",
   "id": "interim-potential",
   "metadata": {
    "papermill": {
     "duration": null,
     "end_time": null,
     "exception": null,
     "start_time": null,
     "status": "pending"
    },
    "tags": []
   },
   "source": [
    "### 3.1.5. Quantity of products purchased "
   ]
  },
  {
   "cell_type": "code",
   "execution_count": null,
   "id": "controlled-chancellor",
   "metadata": {
    "ExecuteTime": {
     "end_time": "2021-09-14T23:41:56.911690Z",
     "start_time": "2021-09-14T23:41:56.777879Z"
    },
    "papermill": {
     "duration": null,
     "end_time": null,
     "exception": null,
     "start_time": null,
     "status": "pending"
    },
    "tags": []
   },
   "outputs": [],
   "source": [
    "# Numero de produtos\n",
    "df_freq = (df2_purchases.loc[:, ['customer_id', 'stock_code']].groupby( 'customer_id' ).count()\n",
    "                                                           .reset_index()\n",
    "                                                           .rename( columns={'stock_code': 'qtde_products'} ) )\n",
    "df_ref = pd.merge( df_ref, df_freq, on='customer_id', how='left' )\n",
    "df_ref.isna().sum()"
   ]
  },
  {
   "cell_type": "markdown",
   "id": "dress-difference",
   "metadata": {
    "papermill": {
     "duration": null,
     "end_time": null,
     "exception": null,
     "start_time": null,
     "status": "pending"
    },
    "tags": []
   },
   "source": [
    "### 3.1.8. Frequency Purchase "
   ]
  },
  {
   "cell_type": "code",
   "execution_count": null,
   "id": "standing-agreement",
   "metadata": {
    "ExecuteTime": {
     "end_time": "2021-09-14T23:42:02.227672Z",
     "start_time": "2021-09-14T23:41:58.129922Z"
    },
    "papermill": {
     "duration": null,
     "end_time": null,
     "exception": null,
     "start_time": null,
     "status": "pending"
    },
    "tags": []
   },
   "outputs": [],
   "source": [
    "df_aux = ( df2_purchases[['customer_id', 'invoice_no', 'invoice_date']].drop_duplicates()\n",
    "                                                             .groupby( 'customer_id')\n",
    "                                                             .agg( max_ = ( 'invoice_date', 'max' ), \n",
    "                                                                   min_ = ( 'invoice_date', 'min' ),\n",
    "                                                                   days_= ( 'invoice_date', lambda x: ( ( x.max() - x.min() ).days ) + 1 ),\n",
    "                                                                   buy_ = ( 'invoice_no', 'count' ) ) ).reset_index()\n",
    "# Frequency\n",
    "df_aux['frequency'] = df_aux[['buy_', 'days_']].apply( lambda x: x['buy_'] / x['days_'] if  x['days_'] != 0 else 0, axis=1 )\n",
    "\n",
    "# Merge\n",
    "df_ref = pd.merge( df_ref, df_aux[['customer_id', 'frequency']], on='customer_id', how='left' )\n",
    "\n",
    "df_ref.isna().sum()"
   ]
  },
  {
   "cell_type": "markdown",
   "id": "italic-setup",
   "metadata": {
    "papermill": {
     "duration": null,
     "end_time": null,
     "exception": null,
     "start_time": null,
     "status": "pending"
    },
    "tags": []
   },
   "source": [
    "### 3.1.9. Number of Returns "
   ]
  },
  {
   "cell_type": "code",
   "execution_count": null,
   "id": "patent-receiver",
   "metadata": {
    "ExecuteTime": {
     "end_time": "2021-09-14T23:42:02.313581Z",
     "start_time": "2021-09-14T23:42:02.233384Z"
    },
    "papermill": {
     "duration": null,
     "end_time": null,
     "exception": null,
     "start_time": null,
     "status": "pending"
    },
    "tags": []
   },
   "outputs": [],
   "source": [
    "# Number of Returns\n",
    "df_returns = df2_returns[['customer_id', 'quantity']].groupby( 'customer_id' ).sum().reset_index().rename( columns={'quantity':'qtde_returns'} )\n",
    "df_returns['qtde_returns'] = df_returns['qtde_returns'] * -1\n",
    "\n",
    "df_ref = pd.merge( df_ref, df_returns, how='left', on='customer_id' )\n",
    "df_ref.loc[df_ref['qtde_returns'].isna(), 'qtde_returns'] = 0\n",
    "\n",
    "df_ref.isna().sum()"
   ]
  },
  {
   "cell_type": "markdown",
   "id": "packed-canberra",
   "metadata": {
    "papermill": {
     "duration": null,
     "end_time": null,
     "exception": null,
     "start_time": null,
     "status": "pending"
    },
    "tags": []
   },
   "source": [
    "# <font color='red'> 4.0. EDA ( Exploratory Data Analysis ) </font>"
   ]
  },
  {
   "cell_type": "code",
   "execution_count": null,
   "id": "expensive-hospital",
   "metadata": {
    "ExecuteTime": {
     "end_time": "2021-09-14T23:42:33.696456Z",
     "start_time": "2021-09-14T23:42:33.678430Z"
    },
    "papermill": {
     "duration": null,
     "end_time": null,
     "exception": null,
     "start_time": null,
     "status": "pending"
    },
    "tags": []
   },
   "outputs": [],
   "source": [
    "df4 = df_ref.dropna()\n",
    "df4.isna().sum()"
   ]
  },
  {
   "cell_type": "markdown",
   "id": "divine-python",
   "metadata": {
    "papermill": {
     "duration": null,
     "end_time": null,
     "exception": null,
     "start_time": null,
     "status": "pending"
    },
    "tags": []
   },
   "source": [
    "## 4.3. Estudo do Espaço"
   ]
  },
  {
   "cell_type": "code",
   "execution_count": null,
   "id": "modified-banner",
   "metadata": {
    "ExecuteTime": {
     "end_time": "2021-09-14T23:43:50.129178Z",
     "start_time": "2021-09-14T23:43:50.121864Z"
    },
    "papermill": {
     "duration": null,
     "end_time": null,
     "exception": null,
     "start_time": null,
     "status": "pending"
    },
    "tags": []
   },
   "outputs": [],
   "source": [
    "# selected dataset\n",
    "cols_selected = ['customer_id', 'gross_revenue', 'recency_days', 'qtde_products', 'frequency', 'qtde_returns']\n",
    "df43 = df4[ cols_selected ].drop( columns='customer_id', axis=1 )"
   ]
  },
  {
   "cell_type": "code",
   "execution_count": null,
   "id": "ranging-surfing",
   "metadata": {
    "ExecuteTime": {
     "end_time": "2021-09-14T23:44:21.224175Z",
     "start_time": "2021-09-14T23:44:21.173202Z"
    },
    "papermill": {
     "duration": null,
     "end_time": null,
     "exception": null,
     "start_time": null,
     "status": "pending"
    },
    "tags": []
   },
   "outputs": [],
   "source": [
    "mm = pp.MinMaxScaler()\n",
    "\n",
    "df43['gross_revenue'] = mm.fit_transform( df43[['gross_revenue']] )\n",
    "df43['recency_days']  = mm.fit_transform( df43[['recency_days']] )\n",
    "df43['qtde_products'] = mm.fit_transform( df43[['qtde_products']])\n",
    "df43['frequency']     = mm.fit_transform( df43[['frequency']])\n",
    "df43['qtde_returns']  = mm.fit_transform( df43[['qtde_returns']])\n",
    "\n",
    "X = df43.copy()"
   ]
  },
  {
   "cell_type": "code",
   "execution_count": null,
   "id": "solid-application",
   "metadata": {
    "ExecuteTime": {
     "end_time": "2021-09-14T23:44:38.114956Z",
     "start_time": "2021-09-14T23:44:38.101576Z"
    },
    "papermill": {
     "duration": null,
     "end_time": null,
     "exception": null,
     "start_time": null,
     "status": "pending"
    },
    "tags": []
   },
   "outputs": [],
   "source": [
    "X.shape"
   ]
  },
  {
   "cell_type": "markdown",
   "id": "basic-rough",
   "metadata": {
    "papermill": {
     "duration": null,
     "end_time": null,
     "exception": null,
     "start_time": null,
     "status": "pending"
    },
    "tags": []
   },
   "source": [
    "### 4.3.1. PCA"
   ]
  },
  {
   "cell_type": "code",
   "execution_count": null,
   "id": "occupied-shadow",
   "metadata": {
    "ExecuteTime": {
     "end_time": "2021-09-14T23:44:40.710081Z",
     "start_time": "2021-09-14T23:44:40.354524Z"
    },
    "papermill": {
     "duration": null,
     "end_time": null,
     "exception": null,
     "start_time": null,
     "status": "pending"
    },
    "tags": []
   },
   "outputs": [],
   "source": [
    "pca = dd.PCA( n_components=X.shape[1] )\n",
    "\n",
    "principal_components = pca.fit_transform( X )\n",
    "\n",
    "# plot explained variable\n",
    "features = range( pca.n_components_ )\n",
    "\n",
    "plt.bar( features, pca.explained_variance_ratio_, color='black' )\n",
    "\n",
    "# pca component\n",
    "df_pca = pd.DataFrame( principal_components )"
   ]
  },
  {
   "cell_type": "code",
   "execution_count": null,
   "id": "incredible-expansion",
   "metadata": {
    "ExecuteTime": {
     "end_time": "2021-09-14T23:44:46.203615Z",
     "start_time": "2021-09-14T23:44:45.812401Z"
    },
    "papermill": {
     "duration": null,
     "end_time": null,
     "exception": null,
     "start_time": null,
     "status": "pending"
    },
    "tags": []
   },
   "outputs": [],
   "source": [
    "sns.scatterplot( x=0, y=1, data=df_pca )"
   ]
  },
  {
   "cell_type": "markdown",
   "id": "classical-health",
   "metadata": {
    "papermill": {
     "duration": null,
     "end_time": null,
     "exception": null,
     "start_time": null,
     "status": "pending"
    },
    "tags": []
   },
   "source": [
    "### 4.3.2. UMAP"
   ]
  },
  {
   "cell_type": "code",
   "execution_count": null,
   "id": "sealed-objective",
   "metadata": {
    "ExecuteTime": {
     "end_time": "2021-09-14T23:46:16.339325Z",
     "start_time": "2021-09-14T23:45:11.233289Z"
    },
    "papermill": {
     "duration": null,
     "end_time": null,
     "exception": null,
     "start_time": null,
     "status": "pending"
    },
    "tags": []
   },
   "outputs": [],
   "source": [
    "reducer = umap.UMAP( random_state=42 )\n",
    "embedding = reducer.fit_transform( X )\n",
    "\n",
    "# embedding\n",
    "df_umap = pd.DataFrame()\n",
    "df_umap['embedding_x'] = embedding[:, 0]\n",
    "df_umap['embedding_y'] = embedding[:, 1]\n",
    "\n",
    "# plot UMAP\n",
    "sns.scatterplot( x='embedding_x', \n",
    "                 y='embedding_y', \n",
    "                 data=df_umap )"
   ]
  },
  {
   "cell_type": "markdown",
   "id": "cubic-handling",
   "metadata": {
    "papermill": {
     "duration": null,
     "end_time": null,
     "exception": null,
     "start_time": null,
     "status": "pending"
    },
    "tags": []
   },
   "source": [
    "### 4.3.3. t-SNE"
   ]
  },
  {
   "cell_type": "code",
   "execution_count": null,
   "id": "fresh-rendering",
   "metadata": {
    "ExecuteTime": {
     "end_time": "2021-09-14T23:48:31.891507Z",
     "start_time": "2021-09-14T23:47:31.637085Z"
    },
    "papermill": {
     "duration": null,
     "end_time": null,
     "exception": null,
     "start_time": null,
     "status": "pending"
    },
    "tags": []
   },
   "outputs": [],
   "source": [
    "reducer = mn.TSNE( n_components=2, n_jobs=-1, random_state=42 )\n",
    "embedding = reducer.fit_transform( X )\n",
    "\n",
    "# embedding\n",
    "df_tsne = pd.DataFrame()\n",
    "df_tsne['embedding_x'] = embedding[:, 0]\n",
    "df_tsne['embedding_y'] = embedding[:, 1]\n",
    "\n",
    "# plot UMAP\n",
    "sns.scatterplot( x='embedding_x', \n",
    "                 y='embedding_y', \n",
    "                 data=df_tsne )"
   ]
  },
  {
   "cell_type": "markdown",
   "id": "spare-metropolitan",
   "metadata": {
    "papermill": {
     "duration": null,
     "end_time": null,
     "exception": null,
     "start_time": null,
     "status": "pending"
    },
    "tags": []
   },
   "source": [
    "### 4.3.4. Tree-Based Embedding"
   ]
  },
  {
   "cell_type": "code",
   "execution_count": null,
   "id": "tracked-multimedia",
   "metadata": {
    "papermill": {
     "duration": null,
     "end_time": null,
     "exception": null,
     "start_time": null,
     "status": "pending"
    },
    "tags": []
   },
   "outputs": [],
   "source": [
    "#model = load_picke( 'rf_model.pkl' )\n",
    "#\n",
    "#X1 # 20 new users\n",
    "#\n",
    "#df_leaf = model.apply( X1 )\n",
    "#\n",
    "#KMeans ->"
   ]
  },
  {
   "cell_type": "code",
   "execution_count": null,
   "id": "closing-consequence",
   "metadata": {
    "ExecuteTime": {
     "end_time": "2021-09-14T23:48:35.453525Z",
     "start_time": "2021-09-14T23:48:31.905368Z"
    },
    "papermill": {
     "duration": null,
     "end_time": null,
     "exception": null,
     "start_time": null,
     "status": "pending"
    },
    "tags": []
   },
   "outputs": [],
   "source": [
    "# training dataset\n",
    "X = df43.drop( columns=['gross_revenue'], axis=1 )\n",
    "y = df43['gross_revenue']\n",
    "\n",
    "# model definition\n",
    "rf_model = en.RandomForestRegressor( n_estimators=100, random_state=42 )\n",
    "\n",
    "# model training\n",
    "rf_model.fit( X, y )\n",
    "\n",
    "# Leaf \n",
    "df_leaf = pd.DataFrame( rf_model.apply( X ) )"
   ]
  },
  {
   "cell_type": "code",
   "execution_count": null,
   "id": "patent-advocacy",
   "metadata": {
    "ExecuteTime": {
     "end_time": "2021-09-14T23:49:00.797747Z",
     "start_time": "2021-09-14T23:48:35.475144Z"
    },
    "papermill": {
     "duration": null,
     "end_time": null,
     "exception": null,
     "start_time": null,
     "status": "pending"
    },
    "tags": []
   },
   "outputs": [],
   "source": [
    "# Reduzer dimensionality\n",
    "reducer = umap.UMAP( random_state=42 )\n",
    "embedding = reducer.fit_transform( df_leaf )\n",
    "\n",
    "# embedding\n",
    "df_tree = pd.DataFrame()\n",
    "df_tree['embedding_x'] = embedding[:, 0]\n",
    "df_tree['embedding_y'] = embedding[:, 1]\n",
    "\n",
    "# plot UMAP\n",
    "sns.scatterplot( x='embedding_x', \n",
    "                 y='embedding_y', \n",
    "                 data=df_tree )"
   ]
  },
  {
   "cell_type": "markdown",
   "id": "presidential-newcastle",
   "metadata": {
    "papermill": {
     "duration": null,
     "end_time": null,
     "exception": null,
     "start_time": null,
     "status": "pending"
    },
    "tags": []
   },
   "source": [
    "# <font color='red'> 5.0. Data Preparation </font>"
   ]
  },
  {
   "cell_type": "code",
   "execution_count": null,
   "id": "capital-oakland",
   "metadata": {
    "ExecuteTime": {
     "end_time": "2021-09-15T00:30:06.193237Z",
     "start_time": "2021-09-15T00:30:06.122370Z"
    },
    "papermill": {
     "duration": null,
     "end_time": null,
     "exception": null,
     "start_time": null,
     "status": "pending"
    },
    "tags": []
   },
   "outputs": [],
   "source": [
    "# Tree-Based Embedding\n",
    "df5 = df_tree.copy()\n",
    "df5.to_csv( '../src/data/tree_based_embedding.csv', index=False )\n",
    "\n",
    "# UMAP Embedding\n",
    "#df5 = df_umap.copy()\n",
    "\n",
    "# TSNE Embedding\n",
    "#df5 = df_tsne.copy()"
   ]
  },
  {
   "cell_type": "markdown",
   "id": "professional-anthropology",
   "metadata": {
    "papermill": {
     "duration": null,
     "end_time": null,
     "exception": null,
     "start_time": null,
     "status": "pending"
    },
    "tags": []
   },
   "source": [
    "# <font color='red'> 7.0. Hyperparameter Fine-Tunning </font>"
   ]
  },
  {
   "cell_type": "code",
   "execution_count": null,
   "id": "present-stroke",
   "metadata": {
    "ExecuteTime": {
     "end_time": "2021-09-15T00:11:56.575498Z",
     "start_time": "2021-09-15T00:11:56.567389Z"
    },
    "papermill": {
     "duration": null,
     "end_time": null,
     "exception": null,
     "start_time": null,
     "status": "pending"
    },
    "tags": []
   },
   "outputs": [],
   "source": [
    "X = df5.copy()"
   ]
  },
  {
   "cell_type": "code",
   "execution_count": null,
   "id": "orange-warren",
   "metadata": {
    "ExecuteTime": {
     "end_time": "2021-09-15T00:11:56.745669Z",
     "start_time": "2021-09-15T00:11:56.724116Z"
    },
    "papermill": {
     "duration": null,
     "end_time": null,
     "exception": null,
     "start_time": null,
     "status": "pending"
    },
    "tags": []
   },
   "outputs": [],
   "source": [
    "X.head()"
   ]
  },
  {
   "cell_type": "code",
   "execution_count": null,
   "id": "pediatric-width",
   "metadata": {
    "ExecuteTime": {
     "end_time": "2021-09-15T00:11:56.927758Z",
     "start_time": "2021-09-15T00:11:56.920223Z"
    },
    "papermill": {
     "duration": null,
     "end_time": null,
     "exception": null,
     "start_time": null,
     "status": "pending"
    },
    "tags": []
   },
   "outputs": [],
   "source": [
    "#clusters = [2, 3, 4, 5, 6, 7, 8, 9]\n",
    "clusters = np.arange( 2, 25, 1)\n",
    "clusters"
   ]
  },
  {
   "cell_type": "markdown",
   "id": "historic-picnic",
   "metadata": {
    "papermill": {
     "duration": null,
     "end_time": null,
     "exception": null,
     "start_time": null,
     "status": "pending"
    },
    "tags": []
   },
   "source": [
    "## 7.1. K-Means"
   ]
  },
  {
   "cell_type": "code",
   "execution_count": null,
   "id": "above-hurricane",
   "metadata": {
    "ExecuteTime": {
     "end_time": "2021-09-15T00:15:33.548662Z",
     "start_time": "2021-09-15T00:11:57.210591Z"
    },
    "papermill": {
     "duration": null,
     "end_time": null,
     "exception": null,
     "start_time": null,
     "status": "pending"
    },
    "tags": []
   },
   "outputs": [],
   "source": [
    "kmeans_list = []\n",
    "for k in clusters:\n",
    "    # model definition\n",
    "    kmeans_model = c.KMeans( n_clusters=k, n_init=100, random_state=42 )\n",
    "\n",
    "    # model training\n",
    "    kmeans_model.fit( X )\n",
    "\n",
    "    # model predict\n",
    "    labels = kmeans_model.predict( X )\n",
    "\n",
    "    # model performance\n",
    "    sil = m.silhouette_score( X, labels, metric='euclidean' )\n",
    "    kmeans_list.append( sil )"
   ]
  },
  {
   "cell_type": "code",
   "execution_count": null,
   "id": "informal-thesis",
   "metadata": {
    "ExecuteTime": {
     "end_time": "2021-09-15T00:15:34.091920Z",
     "start_time": "2021-09-15T00:15:33.559193Z"
    },
    "papermill": {
     "duration": null,
     "end_time": null,
     "exception": null,
     "start_time": null,
     "status": "pending"
    },
    "tags": []
   },
   "outputs": [],
   "source": [
    "plt.plot( clusters, kmeans_list, linestyle='--', marker='o', color='b' )\n",
    "plt.xlabel( 'K' );\n",
    "plt.ylabel( 'Silhouette Score' );\n",
    "plt.title( 'Silhouette Score x K' );"
   ]
  },
  {
   "cell_type": "markdown",
   "id": "rotary-trustee",
   "metadata": {
    "papermill": {
     "duration": null,
     "end_time": null,
     "exception": null,
     "start_time": null,
     "status": "pending"
    },
    "tags": []
   },
   "source": [
    "## 7.2. GMM"
   ]
  },
  {
   "cell_type": "code",
   "execution_count": null,
   "id": "established-evans",
   "metadata": {
    "ExecuteTime": {
     "end_time": "2021-09-15T00:18:07.269999Z",
     "start_time": "2021-09-15T00:15:34.101375Z"
    },
    "papermill": {
     "duration": null,
     "end_time": null,
     "exception": null,
     "start_time": null,
     "status": "pending"
    },
    "tags": []
   },
   "outputs": [],
   "source": [
    "gmm_list = []\n",
    "for k in clusters:\n",
    "    # model definition\n",
    "    gmm_model = mx.GaussianMixture( n_components=k, n_init=10, random_state=42 )\n",
    "\n",
    "    # model training\n",
    "    gmm_model.fit( X )\n",
    "\n",
    "    # model predict\n",
    "    labels = gmm_model.predict( X )\n",
    "\n",
    "    # model performance\n",
    "    sil = m.silhouette_score( X, labels, metric='euclidean' )\n",
    "    gmm_list.append( sil )"
   ]
  },
  {
   "cell_type": "code",
   "execution_count": null,
   "id": "prerequisite-thousand",
   "metadata": {
    "ExecuteTime": {
     "end_time": "2021-09-15T00:18:07.697602Z",
     "start_time": "2021-09-15T00:18:07.274947Z"
    },
    "papermill": {
     "duration": null,
     "end_time": null,
     "exception": null,
     "start_time": null,
     "status": "pending"
    },
    "tags": []
   },
   "outputs": [],
   "source": [
    "plt.plot( clusters, gmm_list, linestyle='--', marker='o', color='b' )\n",
    "plt.xlabel( 'k');\n",
    "plt.ylabel( 'Silhouette Score');\n",
    "plt.title( 'Sil x K');"
   ]
  },
  {
   "cell_type": "markdown",
   "id": "adequate-jewelry",
   "metadata": {
    "papermill": {
     "duration": null,
     "end_time": null,
     "exception": null,
     "start_time": null,
     "status": "pending"
    },
    "tags": []
   },
   "source": [
    "## 7.3. Hierarchical Clustering"
   ]
  },
  {
   "cell_type": "code",
   "execution_count": null,
   "id": "global-transition",
   "metadata": {
    "ExecuteTime": {
     "end_time": "2021-09-15T00:18:09.505993Z",
     "start_time": "2021-09-15T00:18:07.702695Z"
    },
    "papermill": {
     "duration": null,
     "end_time": null,
     "exception": null,
     "start_time": null,
     "status": "pending"
    },
    "tags": []
   },
   "outputs": [],
   "source": [
    "# model definition and training\n",
    "hc_model = hc.linkage( X, 'ward' )"
   ]
  },
  {
   "cell_type": "markdown",
   "id": "close-invasion",
   "metadata": {
    "papermill": {
     "duration": null,
     "end_time": null,
     "exception": null,
     "start_time": null,
     "status": "pending"
    },
    "tags": []
   },
   "source": [
    "### 7.3.1. HClustering Silhouette Score"
   ]
  },
  {
   "cell_type": "code",
   "execution_count": null,
   "id": "economic-arrangement",
   "metadata": {
    "ExecuteTime": {
     "end_time": "2021-09-15T00:19:15.247420Z",
     "start_time": "2021-09-15T00:18:09.520162Z"
    },
    "papermill": {
     "duration": null,
     "end_time": null,
     "exception": null,
     "start_time": null,
     "status": "pending"
    },
    "tags": []
   },
   "outputs": [],
   "source": [
    "hc_list = []\n",
    "for k in clusters:\n",
    "    # model definition & training\n",
    "    hc_model = hc.linkage( X, 'ward' )\n",
    "\n",
    "    # model predict\n",
    "    labels = hc.fcluster( hc_model, k, criterion='maxclust' )\n",
    "\n",
    "    # metrics\n",
    "    sil = m.silhouette_score( X, labels, metric='euclidean' )\n",
    "    hc_list.append( sil )"
   ]
  },
  {
   "cell_type": "code",
   "execution_count": null,
   "id": "pacific-message",
   "metadata": {
    "ExecuteTime": {
     "end_time": "2021-09-15T00:19:15.776428Z",
     "start_time": "2021-09-15T00:19:15.252332Z"
    },
    "papermill": {
     "duration": null,
     "end_time": null,
     "exception": null,
     "start_time": null,
     "status": "pending"
    },
    "tags": []
   },
   "outputs": [],
   "source": [
    "plt.plot( clusters,  hc_list, linestyle='--', marker='o', color='b' )"
   ]
  },
  {
   "cell_type": "code",
   "execution_count": null,
   "id": "announced-gallery",
   "metadata": {
    "ExecuteTime": {
     "end_time": "2021-09-14T23:58:52.153423Z",
     "start_time": "2021-09-14T23:58:51.953768Z"
    },
    "cell_style": "split",
    "papermill": {
     "duration": null,
     "end_time": null,
     "exception": null,
     "start_time": null,
     "status": "pending"
    },
    "tags": []
   },
   "outputs": [],
   "source": [
    "## 7.5. Results - Tree Based Embedding\n",
    "\n",
    "df_results = pd.DataFrame( \n",
    "    {'KMeans': kmeans_list, \n",
    "     'GMM': gmm_list, \n",
    "     'HC': hc_list}\n",
    ").T\n",
    "\n",
    "df_results.columns = clusters\n",
    "df_results.style.highlight_max( color='lightgreen', axis=1 )"
   ]
  },
  {
   "cell_type": "code",
   "execution_count": null,
   "id": "sized-instrumentation",
   "metadata": {
    "ExecuteTime": {
     "end_time": "2021-09-15T00:19:15.903309Z",
     "start_time": "2021-09-15T00:19:15.782467Z"
    },
    "cell_style": "split",
    "papermill": {
     "duration": null,
     "end_time": null,
     "exception": null,
     "start_time": null,
     "status": "pending"
    },
    "tags": []
   },
   "outputs": [],
   "source": [
    "## 7.6. Results - UMAP Embedding\n",
    "\n",
    "df_results = pd.DataFrame( \n",
    "    {'KMeans': kmeans_list, \n",
    "     'GMM': gmm_list, \n",
    "     'HC': hc_list}\n",
    ").T\n",
    "\n",
    "df_results.columns = clusters\n",
    "df_results.style.highlight_max( color='lightgreen', axis=1 )"
   ]
  },
  {
   "cell_type": "code",
   "execution_count": null,
   "id": "proved-energy",
   "metadata": {
    "ExecuteTime": {
     "end_time": "2021-09-15T00:19:15.903309Z",
     "start_time": "2021-09-15T00:19:15.782467Z"
    },
    "cell_style": "split",
    "papermill": {
     "duration": null,
     "end_time": null,
     "exception": null,
     "start_time": null,
     "status": "pending"
    },
    "tags": []
   },
   "outputs": [],
   "source": [
    "## 7.7. Results - TSNE Embedding\n",
    "\n",
    "df_results = pd.DataFrame( \n",
    "    {'KMeans': kmeans_list, \n",
    "     'GMM': gmm_list, \n",
    "     'HC': hc_list}\n",
    ").T\n",
    "\n",
    "df_results.columns = clusters\n",
    "df_results.style.highlight_max( color='lightgreen', axis=1 )"
   ]
  },
  {
   "cell_type": "markdown",
   "id": "optional-privacy",
   "metadata": {
    "papermill": {
     "duration": null,
     "end_time": null,
     "exception": null,
     "start_time": null,
     "status": "pending"
    },
    "tags": []
   },
   "source": [
    "# <font color='red'> 8.0. Model Training </font>"
   ]
  },
  {
   "cell_type": "markdown",
   "id": "preceding-elizabeth",
   "metadata": {
    "papermill": {
     "duration": null,
     "end_time": null,
     "exception": null,
     "start_time": null,
     "status": "pending"
    },
    "tags": []
   },
   "source": [
    "## 8.1. Final model"
   ]
  },
  {
   "cell_type": "code",
   "execution_count": null,
   "id": "medical-polymer",
   "metadata": {
    "ExecuteTime": {
     "end_time": "2021-09-15T00:32:05.075376Z",
     "start_time": "2021-09-15T00:30:22.201437Z"
    },
    "papermill": {
     "duration": null,
     "end_time": null,
     "exception": null,
     "start_time": null,
     "status": "pending"
    },
    "tags": []
   },
   "outputs": [],
   "source": [
    "# model definition\n",
    "k = 8\n",
    "\n",
    "## model definition\n",
    "gmm_model = mx.GaussianMixture( n_components=k, n_init=300, random_state=32 )\n",
    "\n",
    "# model training\n",
    "gmm_model.fit( X )\n",
    "\n",
    "# model predict\n",
    "labels = gmm_model.predict( X )"
   ]
  },
  {
   "cell_type": "markdown",
   "id": "stylish-baker",
   "metadata": {
    "papermill": {
     "duration": null,
     "end_time": null,
     "exception": null,
     "start_time": null,
     "status": "pending"
    },
    "tags": []
   },
   "source": [
    "## 8.2. Cluster Validation"
   ]
  },
  {
   "cell_type": "code",
   "execution_count": null,
   "id": "designed-coordination",
   "metadata": {
    "ExecuteTime": {
     "end_time": "2021-09-15T00:32:06.658872Z",
     "start_time": "2021-09-15T00:32:05.082535Z"
    },
    "papermill": {
     "duration": null,
     "end_time": null,
     "exception": null,
     "start_time": null,
     "status": "pending"
    },
    "tags": []
   },
   "outputs": [],
   "source": [
    "## WSS ( Within-cluster sum of square)\n",
    "#print( 'WSS value: {}'.format( kmeans.inertia_ ) )\n",
    "\n",
    "## SS ( Silhouette Score )\n",
    "print( 'SS value: {}'.format( m.silhouette_score( X, labels, metric='euclidean' ) ) )"
   ]
  },
  {
   "cell_type": "markdown",
   "id": "early-presence",
   "metadata": {
    "papermill": {
     "duration": null,
     "end_time": null,
     "exception": null,
     "start_time": null,
     "status": "pending"
    },
    "tags": []
   },
   "source": [
    "# <font color='red'> 9.0. Cluster Analysis </font>"
   ]
  },
  {
   "cell_type": "code",
   "execution_count": null,
   "id": "pursuant-france",
   "metadata": {
    "ExecuteTime": {
     "end_time": "2021-09-15T00:32:06.678747Z",
     "start_time": "2021-09-15T00:32:06.666942Z"
    },
    "papermill": {
     "duration": null,
     "end_time": null,
     "exception": null,
     "start_time": null,
     "status": "pending"
    },
    "tags": []
   },
   "outputs": [],
   "source": [
    "df9 = X.copy()\n",
    "df9['cluster'] = labels"
   ]
  },
  {
   "cell_type": "markdown",
   "id": "cleared-amendment",
   "metadata": {
    "papermill": {
     "duration": null,
     "end_time": null,
     "exception": null,
     "start_time": null,
     "status": "pending"
    },
    "tags": []
   },
   "source": [
    "## 9.1. Visualization Inspection"
   ]
  },
  {
   "cell_type": "code",
   "execution_count": null,
   "id": "atlantic-container",
   "metadata": {
    "ExecuteTime": {
     "end_time": "2021-09-15T00:32:08.701568Z",
     "start_time": "2021-09-15T00:32:06.689889Z"
    },
    "papermill": {
     "duration": null,
     "end_time": null,
     "exception": null,
     "start_time": null,
     "status": "pending"
    },
    "tags": []
   },
   "outputs": [],
   "source": [
    "sns.scatterplot( x='embedding_x', y='embedding_y', hue='cluster', data=df9, palette='deep')"
   ]
  },
  {
   "cell_type": "markdown",
   "id": "imperial-boulder",
   "metadata": {
    "papermill": {
     "duration": null,
     "end_time": null,
     "exception": null,
     "start_time": null,
     "status": "pending"
    },
    "tags": []
   },
   "source": [
    "## 9.4. Cluster Profile"
   ]
  },
  {
   "cell_type": "code",
   "execution_count": null,
   "id": "helpful-source",
   "metadata": {
    "ExecuteTime": {
     "end_time": "2021-09-15T00:32:08.783901Z",
     "start_time": "2021-09-15T00:32:08.707181Z"
    },
    "papermill": {
     "duration": null,
     "end_time": null,
     "exception": null,
     "start_time": null,
     "status": "pending"
    },
    "tags": []
   },
   "outputs": [],
   "source": [
    "df92 = df4[ cols_selected ].copy()\n",
    "df92['cluster'] = labels\n",
    "df92.head()"
   ]
  },
  {
   "cell_type": "code",
   "execution_count": null,
   "id": "further-soccer",
   "metadata": {
    "ExecuteTime": {
     "end_time": "2021-09-15T00:32:09.016039Z",
     "start_time": "2021-09-15T00:32:08.800774Z"
    },
    "papermill": {
     "duration": null,
     "end_time": null,
     "exception": null,
     "start_time": null,
     "status": "pending"
    },
    "tags": []
   },
   "outputs": [],
   "source": [
    "# Number of customer\n",
    "df_cluster = df92[['customer_id', 'cluster']].groupby( 'cluster' ).count().reset_index()\n",
    "df_cluster['perc_customer'] = 100*( df_cluster['customer_id'] / df_cluster['customer_id'].sum() )\n",
    "\n",
    "# Avg Gross revenue\n",
    "df_avg_gross_revenue = df92[['gross_revenue', 'cluster']].groupby( 'cluster' ).mean().reset_index()\n",
    "df_cluster = pd.merge( df_cluster, df_avg_gross_revenue, how='inner', on='cluster' )\n",
    "\n",
    "# Avg recency days\n",
    "df_avg_recency_days = df92[['recency_days', 'cluster']].groupby( 'cluster' ).mean().reset_index()\n",
    "df_cluster = pd.merge( df_cluster, df_avg_recency_days, how='inner', on='cluster' )\n",
    "\n",
    "# Avg invoice_no\n",
    "df_qtde_products = df92[['qtde_products', 'cluster']].groupby( 'cluster' ).mean().reset_index()\n",
    "df_cluster = pd.merge( df_cluster, df_qtde_products, how='inner', on='cluster' )\n",
    "\n",
    "# Frequency\n",
    "df_frequency = df92[['frequency', 'cluster']].groupby( 'cluster' ).mean().reset_index()\n",
    "df_cluster = pd.merge( df_cluster, df_frequency, how='inner', on='cluster' )\n",
    "\n",
    "# Returns\n",
    "df_qtde_returns = df92[['qtde_returns', 'cluster']].groupby( 'cluster' ).mean().reset_index()\n",
    "df_cluster = pd.merge( df_cluster, df_qtde_returns, how='inner', on='cluster' )\n",
    "\n",
    "df_cluster.sort_values( 'gross_revenue', ascending=False )"
   ]
  },
  {
   "cell_type": "code",
   "execution_count": null,
   "id": "positive-moscow",
   "metadata": {
    "ExecuteTime": {
     "end_time": "2021-09-15T00:32:09.032710Z",
     "start_time": "2021-09-15T00:32:09.025968Z"
    },
    "papermill": {
     "duration": null,
     "end_time": null,
     "exception": null,
     "start_time": null,
     "status": "pending"
    },
    "tags": []
   },
   "outputs": [],
   "source": [
    "# 6 Cluster Insiders\n",
    "# 3 Cluster More Products\n",
    "# 0 Cluster Spend Money \n",
    "# 1 Cluster Even More Products\n",
    "# 4 Cluster Less Days\n",
    "# 7 Cluster Less 1k\n",
    "# 2 Cluster Stop Returners\n",
    "# 5 Cluster More Buy"
   ]
  },
  {
   "cell_type": "markdown",
   "id": "arabic-surfing",
   "metadata": {
    "papermill": {
     "duration": null,
     "end_time": null,
     "exception": null,
     "start_time": null,
     "status": "pending"
    },
    "tags": []
   },
   "source": [
    "### Cluster 01:  ( Candidato à Insider )\n",
    "    - Número de customers: 468 (16% do customers )\n",
    "    - Faturamento médio: 8836\n",
    "    - Recência média: 21 dias\n",
    "    - Média de Produtos comprados: 424 produtos\n",
    "    - Frequência de Produtos comprados: 0.09 produtos/dia\n",
    "    - Receita em média: $8836.13,00 dólares\n",
    "        \n",
    "### Cluster 02: \n",
    "    - Número de customers: 31 (0.71 do customers )\n",
    "    - Recência em média: 14 dias\n",
    "    - Compras em média: 53 compras\n",
    "    - Receita em média: $40.543,52 dólares\n",
    "        \n",
    "### Cluster 03: \n",
    "    - Número de customers: 4.335 (99% do customers )\n",
    "    - Recência em média: 92 dias\n",
    "    - Compras em média: 5 compras\n",
    "    - Receita em média: $1.372,57 dólares"
   ]
  },
  {
   "cell_type": "markdown",
   "id": "christian-culture",
   "metadata": {
    "papermill": {
     "duration": null,
     "end_time": null,
     "exception": null,
     "start_time": null,
     "status": "pending"
    },
    "tags": []
   },
   "source": [
    "# <font color='red'> 10.0. Análise Exploratória de Dados </font>"
   ]
  },
  {
   "cell_type": "code",
   "execution_count": null,
   "id": "wireless-warrant",
   "metadata": {
    "ExecuteTime": {
     "end_time": "2021-09-15T00:32:39.068282Z",
     "start_time": "2021-09-15T00:32:39.061362Z"
    },
    "papermill": {
     "duration": null,
     "end_time": null,
     "exception": null,
     "start_time": null,
     "status": "pending"
    },
    "tags": []
   },
   "outputs": [],
   "source": [
    "df10 = df92.copy()"
   ]
  },
  {
   "cell_type": "code",
   "execution_count": null,
   "id": "rocky-presence",
   "metadata": {
    "ExecuteTime": {
     "end_time": "2021-09-15T00:32:40.568550Z",
     "start_time": "2021-09-15T00:32:40.540164Z"
    },
    "papermill": {
     "duration": null,
     "end_time": null,
     "exception": null,
     "start_time": null,
     "status": "pending"
    },
    "tags": []
   },
   "outputs": [],
   "source": [
    "df10.head()"
   ]
  },
  {
   "cell_type": "markdown",
   "id": "isolated-sweet",
   "metadata": {
    "papermill": {
     "duration": null,
     "end_time": null,
     "exception": null,
     "start_time": null,
     "status": "pending"
    },
    "tags": []
   },
   "source": [
    "# <font color='red'> 11.0. Deploy To Production </font>"
   ]
  },
  {
   "cell_type": "code",
   "execution_count": null,
   "id": "quiet-lecture",
   "metadata": {
    "ExecuteTime": {
     "end_time": "2021-09-15T00:36:16.034741Z",
     "start_time": "2021-09-15T00:36:16.021141Z"
    },
    "papermill": {
     "duration": null,
     "end_time": null,
     "exception": null,
     "start_time": null,
     "status": "pending"
    },
    "tags": []
   },
   "outputs": [],
   "source": [
    "df92.dtypes"
   ]
  },
  {
   "cell_type": "code",
   "execution_count": null,
   "id": "wireless-flush",
   "metadata": {
    "ExecuteTime": {
     "end_time": "2021-09-15T00:36:28.051555Z",
     "start_time": "2021-09-15T00:36:28.045439Z"
    },
    "papermill": {
     "duration": null,
     "end_time": null,
     "exception": null,
     "start_time": null,
     "status": "pending"
    },
    "tags": []
   },
   "outputs": [],
   "source": [
    "df92['recency_days'] = df92['recency_days'].astype( int )\n",
    "df92['qtde_products'] = df92['qtde_products'].astype( int )\n",
    "df92['qtde_returns'] = df92['qtde_returns'].astype( int )"
   ]
  },
  {
   "cell_type": "code",
   "execution_count": null,
   "id": "mineral-plymouth",
   "metadata": {
    "ExecuteTime": {
     "end_time": "2021-09-15T00:37:23.711329Z",
     "start_time": "2021-09-15T00:37:23.701033Z"
    },
    "papermill": {
     "duration": null,
     "end_time": null,
     "exception": null,
     "start_time": null,
     "status": "pending"
    },
    "tags": []
   },
   "outputs": [],
   "source": [
    "# database conection\n",
    "conn = create_engine( 'sqlite:///insiders_db.sqlite' )\n",
    "\n",
    "## drop table\n",
    "#query_drop_insiders = \"\"\"\n",
    "#    DROP TABLE insiders\n",
    "#\"\"\"\n",
    "\n",
    "# create table\n",
    "query_create_insiders = \"\"\"\n",
    "    CREATE TABLE insiders ( \n",
    "        customer_id   INTEGER,\n",
    "        gross_revenue REAL,\n",
    "        recency_days  INTEGER,\n",
    "        qtde_products INTEGER,\n",
    "        frequency     REAL,\n",
    "        qtde_returns  INTEGER,\n",
    "        cluster       INTEGER\n",
    "    )\n",
    "\"\"\"\n",
    "\n",
    "conn.execute( query_create_insiders )"
   ]
  },
  {
   "cell_type": "code",
   "execution_count": null,
   "id": "romance-modem",
   "metadata": {
    "ExecuteTime": {
     "end_time": "2021-09-15T00:37:35.735105Z",
     "start_time": "2021-09-15T00:37:35.582689Z"
    },
    "papermill": {
     "duration": null,
     "end_time": null,
     "exception": null,
     "start_time": null,
     "status": "pending"
    },
    "tags": []
   },
   "outputs": [],
   "source": [
    "# insert data into\n",
    "df92.to_sql( 'insiders', con=conn, if_exists='append', index=False )"
   ]
  },
  {
   "cell_type": "code",
   "execution_count": null,
   "id": "exact-bread",
   "metadata": {
    "ExecuteTime": {
     "end_time": "2021-09-15T00:37:57.210555Z",
     "start_time": "2021-09-15T00:37:57.207606Z"
    },
    "papermill": {
     "duration": null,
     "end_time": null,
     "exception": null,
     "start_time": null,
     "status": "pending"
    },
    "tags": []
   },
   "outputs": [],
   "source": [
    "## get query\n",
    "#query_collect = \"\"\"\n",
    "#    SELECT * from insiders\n",
    "#\"\"\"\n",
    "#\n",
    "#df = pd.read_sql_query( query_collect, conn )\n",
    "#df.head()"
   ]
  }
 ],
 "metadata": {
  "kernelspec": {
   "display_name": "Python 3",
   "language": "python",
   "name": "python3"
  },
  "language_info": {
   "codemirror_mode": {
    "name": "ipython",
    "version": 3
   },
   "file_extension": ".py",
   "mimetype": "text/x-python",
   "name": "python",
   "nbconvert_exporter": "python",
   "pygments_lexer": "ipython3",
   "version": "3.8.0"
  },
  "papermill": {
   "default_parameters": {},
   "duration": 43.219446,
   "end_time": "2021-09-15T01:10:41.899193",
   "environment_variables": {},
   "exception": true,
   "input_path": "src/models/c10-mdfl-deploy.ipynb",
   "output_path": "reports/c10-mdfl-deploy.ipynb",
   "parameters": {},
   "start_time": "2021-09-15T01:09:58.679747",
   "version": "2.3.3"
  }
 },
 "nbformat": 4,
 "nbformat_minor": 5
}