{
 "cells": [
  {
   "cell_type": "markdown",
   "id": "fe52a786",
   "metadata": {
    "papermill": {
     "duration": 0.030933,
     "end_time": "2022-09-01T01:37:32.279328",
     "exception": false,
     "start_time": "2022-09-01T01:37:32.248395",
     "status": "completed"
    },
    "tags": []
   },
   "source": [
    "# Environment Preparation"
   ]
  },
  {
   "cell_type": "markdown",
   "id": "b78e2912",
   "metadata": {
    "papermill": {
     "duration": 0.028822,
     "end_time": "2022-09-01T01:37:32.337620",
     "exception": false,
     "start_time": "2022-09-01T01:37:32.308798",
     "status": "completed"
    },
    "tags": []
   },
   "source": [
    "## Imports"
   ]
  },
  {
   "cell_type": "code",
   "execution_count": 1,
   "id": "579a1993",
   "metadata": {
    "ExecuteTime": {
     "end_time": "2022-08-31T18:33:25.359845Z",
     "start_time": "2022-08-31T18:33:25.348352Z"
    },
    "execution": {
     "iopub.execute_input": "2022-09-01T01:37:32.396683Z",
     "iopub.status.busy": "2022-09-01T01:37:32.396160Z",
     "iopub.status.idle": "2022-09-01T01:37:42.285692Z",
     "shell.execute_reply": "2022-09-01T01:37:42.284585Z"
    },
    "papermill": {
     "duration": 9.922133,
     "end_time": "2022-09-01T01:37:42.289634",
     "exception": false,
     "start_time": "2022-09-01T01:37:32.367501",
     "status": "completed"
    },
    "tags": []
   },
   "outputs": [],
   "source": [
    "import re\n",
    "import os\n",
    "import io\n",
    "import boto3\n",
    "import pickle\n",
    "import numpy             as np\n",
    "import pandas            as pd\n",
    "import seaborn           as sns\n",
    "import datetime          as dt\n",
    "import umap.umap_        as umap\n",
    "\n",
    "from matplotlib               import pyplot as plt\n",
    "from tabulate                 import tabulate\n",
    "\n",
    "from sklearn                  import preprocessing as pp\n",
    "from sklearn                  import metrics as m\n",
    "from scipy.cluster            import hierarchy as hc\n",
    "\n",
    "from sqlalchemy               import create_engine\n",
    "from sqlalchemy.pool          import NullPool\n",
    "from dotenv                   import load_dotenv"
   ]
  },
  {
   "cell_type": "markdown",
   "id": "feddfaaf",
   "metadata": {
    "papermill": {
     "duration": 0.028778,
     "end_time": "2022-09-01T01:37:42.345535",
     "exception": false,
     "start_time": "2022-09-01T01:37:42.316757",
     "status": "completed"
    },
    "tags": []
   },
   "source": [
    "# Data Collection"
   ]
  },
  {
   "cell_type": "code",
   "execution_count": 2,
   "id": "2462686c",
   "metadata": {
    "ExecuteTime": {
     "end_time": "2022-08-31T13:31:54.198790Z",
     "start_time": "2022-08-31T13:31:44.495861Z"
    },
    "execution": {
     "iopub.execute_input": "2022-09-01T01:37:42.403494Z",
     "iopub.status.busy": "2022-09-01T01:37:42.402345Z",
     "iopub.status.idle": "2022-09-01T01:37:54.200601Z",
     "shell.execute_reply": "2022-09-01T01:37:54.199531Z"
    },
    "papermill": {
     "duration": 11.830668,
     "end_time": "2022-09-01T01:37:54.204863",
     "exception": false,
     "start_time": "2022-09-01T01:37:42.374195",
     "status": "completed"
    },
    "tags": []
   },
   "outputs": [
    {
     "name": "stdout",
     "output_type": "stream",
     "text": [
      "Listing Amazon S3 Buckets:\n",
      "-- loyals-dataset\n",
      "Listing Amazon S3 Bucket objects/files:\n"
     ]
    },
    {
     "name": "stdout",
     "output_type": "stream",
     "text": [
      "-- Ecommerce.csv\n"
     ]
    }
   ],
   "source": [
    "#list my buckets, its files and load a file from S3 AWS:\n",
    "AWS_REGION = \"us-east-1\"\n",
    "S3_BUCKET_NAME = \"loyals-dataset\"\n",
    "\n",
    "#buckets\n",
    "client = boto3.client(\"s3\", region_name=AWS_REGION)\n",
    "response = client.list_buckets()\n",
    "\n",
    "print(\"Listing Amazon S3 Buckets:\")\n",
    "for bucket in response['Buckets']:\n",
    "    print(f\"-- {bucket['Name']}\")\n",
    "\n",
    "#files\n",
    "s3_resource = boto3.resource(\"s3\", region_name=AWS_REGION)\n",
    "s3_bucket = s3_resource.Bucket(S3_BUCKET_NAME)         \n",
    "print('Listing Amazon S3 Bucket objects/files:')\n",
    "\n",
    "for obj in s3_bucket.objects.all():\n",
    "    print(f'-- {obj.key}')   \n",
    "          \n",
    "#load files\n",
    "df_raw = pd.read_csv(io.BytesIO(obj.get()['Body'].read()), encoding='iso-8859-1') "
   ]
  },
  {
   "cell_type": "code",
   "execution_count": 3,
   "id": "ec283f74",
   "metadata": {
    "ExecuteTime": {
     "end_time": "2022-08-31T13:31:54.215703Z",
     "start_time": "2022-08-31T13:31:54.202715Z"
    },
    "execution": {
     "iopub.execute_input": "2022-09-01T01:37:54.269037Z",
     "iopub.status.busy": "2022-09-01T01:37:54.268524Z",
     "iopub.status.idle": "2022-09-01T01:37:54.277347Z",
     "shell.execute_reply": "2022-09-01T01:37:54.275767Z"
    },
    "papermill": {
     "duration": 0.046328,
     "end_time": "2022-09-01T01:37:54.280775",
     "exception": false,
     "start_time": "2022-09-01T01:37:54.234447",
     "status": "completed"
    },
    "tags": []
   },
   "outputs": [],
   "source": [
    "# # read local data\n",
    "# path = '/Users/home/repos/pa005_fidelity_program/'\n",
    "# df_raw = pd.read_csv(path +'data/raw/Ecommerce.csv', encoding='unicode_escape' )#, #encoding='iso-8859-1'"
   ]
  },
  {
   "cell_type": "code",
   "execution_count": 4,
   "id": "2611cf06",
   "metadata": {
    "ExecuteTime": {
     "end_time": "2022-08-31T13:31:54.302687Z",
     "start_time": "2022-08-31T13:31:54.254584Z"
    },
    "execution": {
     "iopub.execute_input": "2022-09-01T01:37:54.339575Z",
     "iopub.status.busy": "2022-09-01T01:37:54.339047Z",
     "iopub.status.idle": "2022-09-01T01:37:54.368951Z",
     "shell.execute_reply": "2022-09-01T01:37:54.367717Z"
    },
    "papermill": {
     "duration": 0.064884,
     "end_time": "2022-09-01T01:37:54.373423",
     "exception": false,
     "start_time": "2022-09-01T01:37:54.308539",
     "status": "completed"
    },
    "tags": []
   },
   "outputs": [
    {
     "data": {
      "text/html": [
       "<div>\n",
       "<style scoped>\n",
       "    .dataframe tbody tr th:only-of-type {\n",
       "        vertical-align: middle;\n",
       "    }\n",
       "\n",
       "    .dataframe tbody tr th {\n",
       "        vertical-align: top;\n",
       "    }\n",
       "\n",
       "    .dataframe thead th {\n",
       "        text-align: right;\n",
       "    }\n",
       "</style>\n",
       "<table border=\"1\" class=\"dataframe\">\n",
       "  <thead>\n",
       "    <tr style=\"text-align: right;\">\n",
       "      <th></th>\n",
       "      <th>InvoiceNo</th>\n",
       "      <th>StockCode</th>\n",
       "      <th>Description</th>\n",
       "      <th>Quantity</th>\n",
       "      <th>InvoiceDate</th>\n",
       "      <th>UnitPrice</th>\n",
       "      <th>CustomerID</th>\n",
       "      <th>Country</th>\n",
       "      <th>Unnamed: 8</th>\n",
       "    </tr>\n",
       "  </thead>\n",
       "  <tbody>\n",
       "    <tr>\n",
       "      <th>0</th>\n",
       "      <td>536365</td>\n",
       "      <td>85123A</td>\n",
       "      <td>WHITE HANGING HEART T-LIGHT HOLDER</td>\n",
       "      <td>6</td>\n",
       "      <td>29-Nov-16</td>\n",
       "      <td>2.55</td>\n",
       "      <td>17850.0</td>\n",
       "      <td>United Kingdom</td>\n",
       "      <td>NaN</td>\n",
       "    </tr>\n",
       "    <tr>\n",
       "      <th>1</th>\n",
       "      <td>536365</td>\n",
       "      <td>71053</td>\n",
       "      <td>WHITE METAL LANTERN</td>\n",
       "      <td>6</td>\n",
       "      <td>29-Nov-16</td>\n",
       "      <td>3.39</td>\n",
       "      <td>17850.0</td>\n",
       "      <td>United Kingdom</td>\n",
       "      <td>NaN</td>\n",
       "    </tr>\n",
       "    <tr>\n",
       "      <th>2</th>\n",
       "      <td>536365</td>\n",
       "      <td>84406B</td>\n",
       "      <td>CREAM CUPID HEARTS COAT HANGER</td>\n",
       "      <td>8</td>\n",
       "      <td>29-Nov-16</td>\n",
       "      <td>2.75</td>\n",
       "      <td>17850.0</td>\n",
       "      <td>United Kingdom</td>\n",
       "      <td>NaN</td>\n",
       "    </tr>\n",
       "    <tr>\n",
       "      <th>3</th>\n",
       "      <td>536365</td>\n",
       "      <td>84029G</td>\n",
       "      <td>KNITTED UNION FLAG HOT WATER BOTTLE</td>\n",
       "      <td>6</td>\n",
       "      <td>29-Nov-16</td>\n",
       "      <td>3.39</td>\n",
       "      <td>17850.0</td>\n",
       "      <td>United Kingdom</td>\n",
       "      <td>NaN</td>\n",
       "    </tr>\n",
       "    <tr>\n",
       "      <th>4</th>\n",
       "      <td>536365</td>\n",
       "      <td>84029E</td>\n",
       "      <td>RED WOOLLY HOTTIE WHITE HEART.</td>\n",
       "      <td>6</td>\n",
       "      <td>29-Nov-16</td>\n",
       "      <td>3.39</td>\n",
       "      <td>17850.0</td>\n",
       "      <td>United Kingdom</td>\n",
       "      <td>NaN</td>\n",
       "    </tr>\n",
       "  </tbody>\n",
       "</table>\n",
       "</div>"
      ],
      "text/plain": [
       "  InvoiceNo StockCode                          Description  Quantity  \\\n",
       "0    536365    85123A   WHITE HANGING HEART T-LIGHT HOLDER         6   \n",
       "1    536365     71053                  WHITE METAL LANTERN         6   \n",
       "2    536365    84406B       CREAM CUPID HEARTS COAT HANGER         8   \n",
       "3    536365    84029G  KNITTED UNION FLAG HOT WATER BOTTLE         6   \n",
       "4    536365    84029E       RED WOOLLY HOTTIE WHITE HEART.         6   \n",
       "\n",
       "  InvoiceDate  UnitPrice  CustomerID         Country  Unnamed: 8  \n",
       "0   29-Nov-16       2.55     17850.0  United Kingdom         NaN  \n",
       "1   29-Nov-16       3.39     17850.0  United Kingdom         NaN  \n",
       "2   29-Nov-16       2.75     17850.0  United Kingdom         NaN  \n",
       "3   29-Nov-16       3.39     17850.0  United Kingdom         NaN  \n",
       "4   29-Nov-16       3.39     17850.0  United Kingdom         NaN  "
      ]
     },
     "execution_count": 4,
     "metadata": {},
     "output_type": "execute_result"
    }
   ],
   "source": [
    "df_raw.head()"
   ]
  },
  {
   "cell_type": "code",
   "execution_count": 5,
   "id": "f4a2a2e6",
   "metadata": {
    "ExecuteTime": {
     "end_time": "2022-08-31T13:31:54.524332Z",
     "start_time": "2022-08-31T13:31:54.311731Z"
    },
    "execution": {
     "iopub.execute_input": "2022-09-01T01:37:54.433141Z",
     "iopub.status.busy": "2022-09-01T01:37:54.432304Z",
     "iopub.status.idle": "2022-09-01T01:37:54.541419Z",
     "shell.execute_reply": "2022-09-01T01:37:54.540027Z"
    },
    "papermill": {
     "duration": 0.142705,
     "end_time": "2022-09-01T01:37:54.544868",
     "exception": false,
     "start_time": "2022-09-01T01:37:54.402163",
     "status": "completed"
    },
    "tags": []
   },
   "outputs": [
    {
     "data": {
      "text/html": [
       "<div>\n",
       "<style scoped>\n",
       "    .dataframe tbody tr th:only-of-type {\n",
       "        vertical-align: middle;\n",
       "    }\n",
       "\n",
       "    .dataframe tbody tr th {\n",
       "        vertical-align: top;\n",
       "    }\n",
       "\n",
       "    .dataframe thead th {\n",
       "        text-align: right;\n",
       "    }\n",
       "</style>\n",
       "<table border=\"1\" class=\"dataframe\">\n",
       "  <thead>\n",
       "    <tr style=\"text-align: right;\">\n",
       "      <th></th>\n",
       "      <th>InvoiceNo</th>\n",
       "      <th>StockCode</th>\n",
       "      <th>Description</th>\n",
       "      <th>Quantity</th>\n",
       "      <th>InvoiceDate</th>\n",
       "      <th>UnitPrice</th>\n",
       "      <th>CustomerID</th>\n",
       "      <th>Country</th>\n",
       "    </tr>\n",
       "  </thead>\n",
       "  <tbody>\n",
       "    <tr>\n",
       "      <th>40292</th>\n",
       "      <td>539735</td>\n",
       "      <td>22625</td>\n",
       "      <td>RED KITCHEN SCALES</td>\n",
       "      <td>1</td>\n",
       "      <td>19-Dec-16</td>\n",
       "      <td>16.98</td>\n",
       "      <td>NaN</td>\n",
       "      <td>United Kingdom</td>\n",
       "    </tr>\n",
       "    <tr>\n",
       "      <th>519657</th>\n",
       "      <td>580160</td>\n",
       "      <td>22551</td>\n",
       "      <td>PLASTERS IN TIN SPACEBOY</td>\n",
       "      <td>12</td>\n",
       "      <td>30-Nov-17</td>\n",
       "      <td>1.65</td>\n",
       "      <td>12700.0</td>\n",
       "      <td>France</td>\n",
       "    </tr>\n",
       "    <tr>\n",
       "      <th>500218</th>\n",
       "      <td>578746</td>\n",
       "      <td>23168</td>\n",
       "      <td>CLASSIC CAFE SUGAR DISPENSER</td>\n",
       "      <td>10</td>\n",
       "      <td>23-Nov-17</td>\n",
       "      <td>3.29</td>\n",
       "      <td>NaN</td>\n",
       "      <td>United Kingdom</td>\n",
       "    </tr>\n",
       "  </tbody>\n",
       "</table>\n",
       "</div>"
      ],
      "text/plain": [
       "       InvoiceNo StockCode                   Description  Quantity  \\\n",
       "40292     539735     22625            RED KITCHEN SCALES         1   \n",
       "519657    580160     22551      PLASTERS IN TIN SPACEBOY        12   \n",
       "500218    578746     23168  CLASSIC CAFE SUGAR DISPENSER        10   \n",
       "\n",
       "       InvoiceDate  UnitPrice  CustomerID         Country  \n",
       "40292    19-Dec-16      16.98         NaN  United Kingdom  \n",
       "519657   30-Nov-17       1.65     12700.0          France  \n",
       "500218   23-Nov-17       3.29         NaN  United Kingdom  "
      ]
     },
     "execution_count": 5,
     "metadata": {},
     "output_type": "execute_result"
    }
   ],
   "source": [
    "df_raw = df_raw.drop('Unnamed: 8', axis=1).copy()\n",
    "df_raw.sample(3)"
   ]
  },
  {
   "cell_type": "markdown",
   "id": "0bf643a9",
   "metadata": {
    "ExecuteTime": {
     "end_time": "2022-07-20T15:55:51.244105Z",
     "start_time": "2022-07-20T15:55:51.239421Z"
    },
    "heading_collapsed": true,
    "papermill": {
     "duration": 0.031904,
     "end_time": "2022-09-01T01:37:54.606033",
     "exception": false,
     "start_time": "2022-09-01T01:37:54.574129",
     "status": "completed"
    },
    "tags": []
   },
   "source": [
    "# Data Description"
   ]
  },
  {
   "cell_type": "code",
   "execution_count": 6,
   "id": "c1815041",
   "metadata": {
    "ExecuteTime": {
     "end_time": "2022-08-31T13:31:54.562726Z",
     "start_time": "2022-08-31T13:31:54.535930Z"
    },
    "execution": {
     "iopub.execute_input": "2022-09-01T01:37:54.667391Z",
     "iopub.status.busy": "2022-09-01T01:37:54.666904Z",
     "iopub.status.idle": "2022-09-01T01:37:54.686053Z",
     "shell.execute_reply": "2022-09-01T01:37:54.685037Z"
    },
    "hidden": true,
    "papermill": {
     "duration": 0.055356,
     "end_time": "2022-09-01T01:37:54.690419",
     "exception": false,
     "start_time": "2022-09-01T01:37:54.635063",
     "status": "completed"
    },
    "tags": []
   },
   "outputs": [],
   "source": [
    "df1 = df_raw.copy()"
   ]
  },
  {
   "cell_type": "markdown",
   "id": "69f7c583",
   "metadata": {
    "hidden": true,
    "papermill": {
     "duration": 0.029961,
     "end_time": "2022-09-01T01:37:54.749505",
     "exception": false,
     "start_time": "2022-09-01T01:37:54.719544",
     "status": "completed"
    },
    "tags": []
   },
   "source": [
    "## Rename Columns"
   ]
  },
  {
   "cell_type": "code",
   "execution_count": 7,
   "id": "5e7b81c5",
   "metadata": {
    "ExecuteTime": {
     "end_time": "2022-08-31T13:31:54.663259Z",
     "start_time": "2022-08-31T13:31:54.576082Z"
    },
    "execution": {
     "iopub.execute_input": "2022-09-01T01:37:54.812179Z",
     "iopub.status.busy": "2022-09-01T01:37:54.811677Z",
     "iopub.status.idle": "2022-09-01T01:37:54.859905Z",
     "shell.execute_reply": "2022-09-01T01:37:54.857967Z"
    },
    "hidden": true,
    "papermill": {
     "duration": 0.083013,
     "end_time": "2022-09-01T01:37:54.863182",
     "exception": false,
     "start_time": "2022-09-01T01:37:54.780169",
     "status": "completed"
    },
    "tags": []
   },
   "outputs": [
    {
     "data": {
      "text/html": [
       "<div>\n",
       "<style scoped>\n",
       "    .dataframe tbody tr th:only-of-type {\n",
       "        vertical-align: middle;\n",
       "    }\n",
       "\n",
       "    .dataframe tbody tr th {\n",
       "        vertical-align: top;\n",
       "    }\n",
       "\n",
       "    .dataframe thead th {\n",
       "        text-align: right;\n",
       "    }\n",
       "</style>\n",
       "<table border=\"1\" class=\"dataframe\">\n",
       "  <thead>\n",
       "    <tr style=\"text-align: right;\">\n",
       "      <th></th>\n",
       "      <th>InvoiceNo</th>\n",
       "      <th>StockCode</th>\n",
       "      <th>Description</th>\n",
       "      <th>Quantity</th>\n",
       "      <th>InvoiceDate</th>\n",
       "      <th>UnitPrice</th>\n",
       "      <th>CustomerID</th>\n",
       "      <th>Country</th>\n",
       "    </tr>\n",
       "  </thead>\n",
       "  <tbody>\n",
       "    <tr>\n",
       "      <th>89453</th>\n",
       "      <td>543909</td>\n",
       "      <td>22722</td>\n",
       "      <td>SET OF 6 SPICE TINS PANTRY DESIGN</td>\n",
       "      <td>6</td>\n",
       "      <td>12-Feb-17</td>\n",
       "      <td>8.29</td>\n",
       "      <td>NaN</td>\n",
       "      <td>United Kingdom</td>\n",
       "    </tr>\n",
       "    <tr>\n",
       "      <th>74055</th>\n",
       "      <td>542399</td>\n",
       "      <td>21355</td>\n",
       "      <td>TOAST ITS - I LOVE YOU</td>\n",
       "      <td>12</td>\n",
       "      <td>25-Jan-17</td>\n",
       "      <td>1.25</td>\n",
       "      <td>15549.0</td>\n",
       "      <td>United Kingdom</td>\n",
       "    </tr>\n",
       "    <tr>\n",
       "      <th>76861</th>\n",
       "      <td>542664</td>\n",
       "      <td>22030</td>\n",
       "      <td>SWALLOWS GREETING CARD</td>\n",
       "      <td>3</td>\n",
       "      <td>29-Jan-17</td>\n",
       "      <td>0.83</td>\n",
       "      <td>NaN</td>\n",
       "      <td>United Kingdom</td>\n",
       "    </tr>\n",
       "  </tbody>\n",
       "</table>\n",
       "</div>"
      ],
      "text/plain": [
       "      InvoiceNo StockCode                        Description  Quantity  \\\n",
       "89453    543909     22722  SET OF 6 SPICE TINS PANTRY DESIGN         6   \n",
       "74055    542399     21355            TOAST ITS - I LOVE YOU         12   \n",
       "76861    542664     22030             SWALLOWS GREETING CARD         3   \n",
       "\n",
       "      InvoiceDate  UnitPrice  CustomerID         Country  \n",
       "89453   12-Feb-17       8.29         NaN  United Kingdom  \n",
       "74055   25-Jan-17       1.25     15549.0  United Kingdom  \n",
       "76861   29-Jan-17       0.83         NaN  United Kingdom  "
      ]
     },
     "execution_count": 7,
     "metadata": {},
     "output_type": "execute_result"
    }
   ],
   "source": [
    "df1.sample(3)"
   ]
  },
  {
   "cell_type": "code",
   "execution_count": 8,
   "id": "bb355096",
   "metadata": {
    "ExecuteTime": {
     "end_time": "2022-08-31T13:31:54.702898Z",
     "start_time": "2022-08-31T13:31:54.670084Z"
    },
    "execution": {
     "iopub.execute_input": "2022-09-01T01:37:54.919219Z",
     "iopub.status.busy": "2022-09-01T01:37:54.918700Z",
     "iopub.status.idle": "2022-09-01T01:37:54.927341Z",
     "shell.execute_reply": "2022-09-01T01:37:54.926201Z"
    },
    "hidden": true,
    "papermill": {
     "duration": 0.040762,
     "end_time": "2022-09-01T01:37:54.931251",
     "exception": false,
     "start_time": "2022-09-01T01:37:54.890489",
     "status": "completed"
    },
    "tags": []
   },
   "outputs": [
    {
     "data": {
      "text/plain": [
       "Index(['InvoiceNo', 'StockCode', 'Description', 'Quantity', 'InvoiceDate',\n",
       "       'UnitPrice', 'CustomerID', 'Country'],\n",
       "      dtype='object')"
      ]
     },
     "execution_count": 8,
     "metadata": {},
     "output_type": "execute_result"
    }
   ],
   "source": [
    "df1.columns"
   ]
  },
  {
   "cell_type": "code",
   "execution_count": 9,
   "id": "9f3011c3",
   "metadata": {
    "ExecuteTime": {
     "end_time": "2022-08-31T13:31:54.718518Z",
     "start_time": "2022-08-31T13:31:54.710108Z"
    },
    "execution": {
     "iopub.execute_input": "2022-09-01T01:37:54.993148Z",
     "iopub.status.busy": "2022-09-01T01:37:54.992689Z",
     "iopub.status.idle": "2022-09-01T01:37:54.998487Z",
     "shell.execute_reply": "2022-09-01T01:37:54.997332Z"
    },
    "hidden": true,
    "papermill": {
     "duration": 0.044852,
     "end_time": "2022-09-01T01:37:55.005375",
     "exception": false,
     "start_time": "2022-09-01T01:37:54.960523",
     "status": "completed"
    },
    "tags": []
   },
   "outputs": [],
   "source": [
    "df1.columns = ['invoice_no', 'stock_code', 'description', 'quantity', 'invoice_date',\n",
    "       'unit_price', 'customer_id', 'country']"
   ]
  },
  {
   "cell_type": "markdown",
   "id": "5fb7a6dc",
   "metadata": {
    "hidden": true,
    "papermill": {
     "duration": 0.032792,
     "end_time": "2022-09-01T01:37:55.072989",
     "exception": false,
     "start_time": "2022-09-01T01:37:55.040197",
     "status": "completed"
    },
    "tags": []
   },
   "source": [
    "## Feature Description "
   ]
  },
  {
   "cell_type": "code",
   "execution_count": 10,
   "id": "2956ae63",
   "metadata": {
    "ExecuteTime": {
     "end_time": "2022-08-31T13:31:54.740219Z",
     "start_time": "2022-08-31T13:31:54.724428Z"
    },
    "execution": {
     "iopub.execute_input": "2022-09-01T01:37:55.140238Z",
     "iopub.status.busy": "2022-09-01T01:37:55.139435Z",
     "iopub.status.idle": "2022-09-01T01:37:55.150729Z",
     "shell.execute_reply": "2022-09-01T01:37:55.149003Z"
    },
    "hidden": true,
    "papermill": {
     "duration": 0.05332,
     "end_time": "2022-09-01T01:37:55.156178",
     "exception": false,
     "start_time": "2022-09-01T01:37:55.102858",
     "status": "completed"
    },
    "scrolled": true,
    "tags": []
   },
   "outputs": [
    {
     "name": "stdout",
     "output_type": "stream",
     "text": [
      "Columns       Meaning\n",
      "------------  -----------------------------------------------\n",
      "invoice_no    unique identifier of each transaction\n",
      "stock_code    item code\n",
      "description   item name\n",
      "quantity      quantity of each item purchased per transaction\n",
      "invoice_date  the day the transaction took place\n",
      "unit_price    product price per unit\n",
      "customer_id   unique customer identifier\n",
      "country       customer's country of residence\n"
     ]
    }
   ],
   "source": [
    "# Explain feature meanings\n",
    "tab_meanings = [['Columns', 'Meaning'],\n",
    "        ['invoice_no', 'unique identifier of each transaction'],\n",
    "        ['stock_code', 'item code'],\n",
    "        ['description', 'item name'],\n",
    "        ['quantity', 'quantity of each item purchased per transaction'],\n",
    "        ['invoice_date', 'the day the transaction took place'],\n",
    "        ['unit_price', 'product price per unit'],\n",
    "        ['customer_id', 'unique customer identifier'],\n",
    "        ['country', 'customer\\'s country of residence']\n",
    "      ]\n",
    "print(tabulate(tab_meanings, headers='firstrow', stralign='left', tablefmt='simple'))"
   ]
  },
  {
   "cell_type": "code",
   "execution_count": 11,
   "id": "44e22ae7",
   "metadata": {
    "ExecuteTime": {
     "end_time": "2022-08-31T13:31:54.819374Z",
     "start_time": "2022-08-31T13:31:54.751269Z"
    },
    "execution": {
     "iopub.execute_input": "2022-09-01T01:37:55.225051Z",
     "iopub.status.busy": "2022-09-01T01:37:55.224581Z",
     "iopub.status.idle": "2022-09-01T01:37:55.284586Z",
     "shell.execute_reply": "2022-09-01T01:37:55.282206Z"
    },
    "hidden": true,
    "papermill": {
     "duration": 0.097937,
     "end_time": "2022-09-01T01:37:55.288561",
     "exception": false,
     "start_time": "2022-09-01T01:37:55.190624",
     "status": "completed"
    },
    "tags": []
   },
   "outputs": [
    {
     "data": {
      "text/html": [
       "<div>\n",
       "<style scoped>\n",
       "    .dataframe tbody tr th:only-of-type {\n",
       "        vertical-align: middle;\n",
       "    }\n",
       "\n",
       "    .dataframe tbody tr th {\n",
       "        vertical-align: top;\n",
       "    }\n",
       "\n",
       "    .dataframe thead th {\n",
       "        text-align: right;\n",
       "    }\n",
       "</style>\n",
       "<table border=\"1\" class=\"dataframe\">\n",
       "  <thead>\n",
       "    <tr style=\"text-align: right;\">\n",
       "      <th></th>\n",
       "      <th>invoice_no</th>\n",
       "      <th>stock_code</th>\n",
       "      <th>description</th>\n",
       "      <th>quantity</th>\n",
       "      <th>invoice_date</th>\n",
       "      <th>unit_price</th>\n",
       "      <th>customer_id</th>\n",
       "      <th>country</th>\n",
       "    </tr>\n",
       "  </thead>\n",
       "  <tbody>\n",
       "    <tr>\n",
       "      <th>171152</th>\n",
       "      <td>551391</td>\n",
       "      <td>22727</td>\n",
       "      <td>ALARM CLOCK BAKELIKE RED</td>\n",
       "      <td>21</td>\n",
       "      <td>26-Apr-17</td>\n",
       "      <td>3.75</td>\n",
       "      <td>15514.0</td>\n",
       "      <td>United Kingdom</td>\n",
       "    </tr>\n",
       "    <tr>\n",
       "      <th>69652</th>\n",
       "      <td>541975</td>\n",
       "      <td>22629</td>\n",
       "      <td>SPACEBOY LUNCH BOX</td>\n",
       "      <td>12</td>\n",
       "      <td>22-Jan-17</td>\n",
       "      <td>1.95</td>\n",
       "      <td>NaN</td>\n",
       "      <td>Hong Kong</td>\n",
       "    </tr>\n",
       "    <tr>\n",
       "      <th>94150</th>\n",
       "      <td>544332</td>\n",
       "      <td>22241</td>\n",
       "      <td>GARLAND WOODEN HAPPY EASTER</td>\n",
       "      <td>12</td>\n",
       "      <td>15-Feb-17</td>\n",
       "      <td>1.25</td>\n",
       "      <td>17419.0</td>\n",
       "      <td>United Kingdom</td>\n",
       "    </tr>\n",
       "  </tbody>\n",
       "</table>\n",
       "</div>"
      ],
      "text/plain": [
       "       invoice_no stock_code                  description  quantity  \\\n",
       "171152     551391      22727    ALARM CLOCK BAKELIKE RED         21   \n",
       "69652      541975      22629          SPACEBOY LUNCH BOX         12   \n",
       "94150      544332      22241  GARLAND WOODEN HAPPY EASTER        12   \n",
       "\n",
       "       invoice_date  unit_price  customer_id         country  \n",
       "171152    26-Apr-17        3.75      15514.0  United Kingdom  \n",
       "69652     22-Jan-17        1.95          NaN       Hong Kong  \n",
       "94150     15-Feb-17        1.25      17419.0  United Kingdom  "
      ]
     },
     "execution_count": 11,
     "metadata": {},
     "output_type": "execute_result"
    }
   ],
   "source": [
    "df1.sample(3)"
   ]
  },
  {
   "cell_type": "markdown",
   "id": "bb145d40",
   "metadata": {
    "hidden": true,
    "papermill": {
     "duration": 0.03212,
     "end_time": "2022-09-01T01:37:55.414582",
     "exception": false,
     "start_time": "2022-09-01T01:37:55.382462",
     "status": "completed"
    },
    "tags": []
   },
   "source": [
    "## Data Dimensions"
   ]
  },
  {
   "cell_type": "code",
   "execution_count": 12,
   "id": "e9a259ef",
   "metadata": {
    "ExecuteTime": {
     "end_time": "2022-08-31T13:31:54.836840Z",
     "start_time": "2022-08-31T13:31:54.825799Z"
    },
    "execution": {
     "iopub.execute_input": "2022-09-01T01:37:55.503721Z",
     "iopub.status.busy": "2022-09-01T01:37:55.502994Z",
     "iopub.status.idle": "2022-09-01T01:37:55.513095Z",
     "shell.execute_reply": "2022-09-01T01:37:55.511591Z"
    },
    "hidden": true,
    "papermill": {
     "duration": 0.050491,
     "end_time": "2022-09-01T01:37:55.516860",
     "exception": false,
     "start_time": "2022-09-01T01:37:55.466369",
     "status": "completed"
    },
    "tags": []
   },
   "outputs": [
    {
     "name": "stdout",
     "output_type": "stream",
     "text": [
      "Number of rows: 541909\n",
      "Number of columns: 8\n"
     ]
    }
   ],
   "source": [
    "print(f'Number of rows: {df1.shape[0]}')\n",
    "print(f'Number of columns: {df1.shape[1]}')"
   ]
  },
  {
   "cell_type": "code",
   "execution_count": 13,
   "id": "3d681ce9",
   "metadata": {
    "ExecuteTime": {
     "end_time": "2022-08-31T13:31:55.447924Z",
     "start_time": "2022-08-31T13:31:54.853040Z"
    },
    "execution": {
     "iopub.execute_input": "2022-09-01T01:37:55.616907Z",
     "iopub.status.busy": "2022-09-01T01:37:55.616360Z",
     "iopub.status.idle": "2022-09-01T01:37:56.172489Z",
     "shell.execute_reply": "2022-09-01T01:37:56.171365Z"
    },
    "hidden": true,
    "papermill": {
     "duration": 0.614414,
     "end_time": "2022-09-01T01:37:56.176138",
     "exception": false,
     "start_time": "2022-09-01T01:37:55.561724",
     "status": "completed"
    },
    "tags": []
   },
   "outputs": [
    {
     "name": "stdout",
     "output_type": "stream",
     "text": [
      "<class 'pandas.core.frame.DataFrame'>\n",
      "RangeIndex: 541909 entries, 0 to 541908\n",
      "Data columns (total 8 columns):\n",
      " #   Column        Non-Null Count   Dtype  \n",
      "---  ------        --------------   -----  \n",
      " 0   invoice_no    541909 non-null  object \n",
      " 1   stock_code    541909 non-null  object \n",
      " 2   description   540455 non-null  object \n",
      " 3   quantity      541909 non-null  int64  \n",
      " 4   invoice_date  541909 non-null  object \n",
      " 5   unit_price    541909 non-null  float64\n",
      " 6   customer_id   406829 non-null  float64\n",
      " 7   country       541909 non-null  object \n",
      "dtypes: float64(2), int64(1), object(5)\n",
      "memory usage: 33.1+ MB\n"
     ]
    }
   ],
   "source": [
    "df1.info()"
   ]
  },
  {
   "cell_type": "markdown",
   "id": "58a7fce3",
   "metadata": {
    "hidden": true,
    "papermill": {
     "duration": 0.030243,
     "end_time": "2022-09-01T01:37:56.238062",
     "exception": false,
     "start_time": "2022-09-01T01:37:56.207819",
     "status": "completed"
    },
    "tags": []
   },
   "source": [
    "## Check NA"
   ]
  },
  {
   "cell_type": "code",
   "execution_count": 14,
   "id": "3e637794",
   "metadata": {
    "ExecuteTime": {
     "end_time": "2022-08-31T13:31:56.136309Z",
     "start_time": "2022-08-31T13:31:55.454247Z"
    },
    "execution": {
     "iopub.execute_input": "2022-09-01T01:37:56.299449Z",
     "iopub.status.busy": "2022-09-01T01:37:56.299005Z"
    },
    "hidden": true,
    "papermill": {
     "duration": 0.422629,
     "end_time": "2022-09-01T01:37:56.691828",
     "exception": false,
     "start_time": "2022-09-01T01:37:56.269199",
     "status": "completed"
    },
    "tags": []
   },
   "outputs": [],
   "source": [
    "df1.isna().sum()"
   ]
  },
  {
   "cell_type": "markdown",
   "id": "548a590d",
   "metadata": {
    "hidden": true,
    "papermill": {
     "duration": null,
     "end_time": null,
     "exception": null,
     "start_time": null,
     "status": "completed"
    },
    "tags": []
   },
   "source": [
    "## Replace NA"
   ]
  },
  {
   "cell_type": "code",
   "execution_count": null,
   "id": "77b49c4d",
   "metadata": {
    "ExecuteTime": {
     "end_time": "2022-08-31T13:31:56.615493Z",
     "start_time": "2022-08-31T13:31:56.145164Z"
    },
    "hidden": true,
    "papermill": {
     "duration": null,
     "end_time": null,
     "exception": null,
     "start_time": null,
     "status": "completed"
    },
    "tags": []
   },
   "outputs": [],
   "source": [
    "#separate dataset\n",
    "df_missing = df1.loc[df1['customer_id'].isna()]\n",
    "df_not_missing = df1.loc[~df1['customer_id'].isna()]\n",
    "\n",
    "#create reference\n",
    "df_invoice = pd.DataFrame(df_missing['invoice_no'].drop_duplicates() )\n",
    "df_invoice['customer_id'] = np.arange(19000,19000+len(df_invoice),1)\n",
    "\n",
    "# merge original with reference dataframe\n",
    "df1 = pd.merge(df1, df_invoice, on='invoice_no', how='left')\n",
    "\n",
    "#coalesce equivalent\n",
    "df1['customer_id'] = df1['customer_id_x'].combine_first(df1['customer_id_y'])\n",
    "\n",
    "# drop extra columns\n",
    "df1 = df1.drop(columns = ['customer_id_x','customer_id_y'], axis=1 )"
   ]
  },
  {
   "cell_type": "code",
   "execution_count": null,
   "id": "943d89af",
   "metadata": {
    "ExecuteTime": {
     "end_time": "2022-08-31T13:31:57.257592Z",
     "start_time": "2022-08-31T13:31:56.619557Z"
    },
    "hidden": true,
    "papermill": {
     "duration": null,
     "end_time": null,
     "exception": null,
     "start_time": null,
     "status": "completed"
    },
    "scrolled": true,
    "tags": []
   },
   "outputs": [],
   "source": [
    "#check NA\n",
    "df1.isna().sum()"
   ]
  },
  {
   "cell_type": "markdown",
   "id": "8ae9adcc",
   "metadata": {
    "hidden": true,
    "papermill": {
     "duration": null,
     "end_time": null,
     "exception": null,
     "start_time": null,
     "status": "completed"
    },
    "tags": []
   },
   "source": [
    "## Change Types"
   ]
  },
  {
   "cell_type": "code",
   "execution_count": null,
   "id": "27434e06",
   "metadata": {
    "ExecuteTime": {
     "end_time": "2022-08-31T13:31:57.286416Z",
     "start_time": "2022-08-31T13:31:57.265153Z"
    },
    "hidden": true,
    "papermill": {
     "duration": null,
     "end_time": null,
     "exception": null,
     "start_time": null,
     "status": "completed"
    },
    "tags": []
   },
   "outputs": [],
   "source": [
    "#correct data types ensure correct calculations using the columns on next sessions"
   ]
  },
  {
   "cell_type": "code",
   "execution_count": null,
   "id": "ff693ffc",
   "metadata": {
    "ExecuteTime": {
     "end_time": "2022-08-31T13:31:57.335707Z",
     "start_time": "2022-08-31T13:31:57.310653Z"
    },
    "hidden": true,
    "papermill": {
     "duration": null,
     "end_time": null,
     "exception": null,
     "start_time": null,
     "status": "completed"
    },
    "scrolled": true,
    "tags": []
   },
   "outputs": [],
   "source": [
    "df1.dtypes"
   ]
  },
  {
   "cell_type": "code",
   "execution_count": null,
   "id": "3e7c9fa7",
   "metadata": {
    "ExecuteTime": {
     "end_time": "2022-08-31T13:31:57.479986Z",
     "start_time": "2022-08-31T13:31:57.352263Z"
    },
    "hidden": true,
    "papermill": {
     "duration": null,
     "end_time": null,
     "exception": null,
     "start_time": null,
     "status": "completed"
    },
    "tags": []
   },
   "outputs": [],
   "source": [
    "df1.sample(3)"
   ]
  },
  {
   "cell_type": "code",
   "execution_count": null,
   "id": "4d598520",
   "metadata": {
    "ExecuteTime": {
     "end_time": "2022-08-31T13:31:57.615757Z",
     "start_time": "2022-08-31T13:31:57.487321Z"
    },
    "hidden": true,
    "papermill": {
     "duration": null,
     "end_time": null,
     "exception": null,
     "start_time": null,
     "status": "completed"
    },
    "tags": []
   },
   "outputs": [],
   "source": [
    "#invoice_date\n",
    "df1['invoice_date'] = pd.to_datetime(df1['invoice_date'], format='%d-%b-%y')\n",
    "\n",
    "#customer_id\n",
    "df1['customer_id'] = df1['customer_id'].astype(int)"
   ]
  },
  {
   "cell_type": "code",
   "execution_count": null,
   "id": "b8c9009a",
   "metadata": {
    "ExecuteTime": {
     "end_time": "2022-08-31T13:31:57.701162Z",
     "start_time": "2022-08-31T13:31:57.622046Z"
    },
    "hidden": true,
    "papermill": {
     "duration": null,
     "end_time": null,
     "exception": null,
     "start_time": null,
     "status": "completed"
    },
    "tags": []
   },
   "outputs": [],
   "source": [
    "df1.sample(3)"
   ]
  },
  {
   "cell_type": "code",
   "execution_count": null,
   "id": "9684ffce",
   "metadata": {
    "ExecuteTime": {
     "end_time": "2022-08-31T13:31:57.719288Z",
     "start_time": "2022-08-31T13:31:57.707454Z"
    },
    "hidden": true,
    "papermill": {
     "duration": null,
     "end_time": null,
     "exception": null,
     "start_time": null,
     "status": "completed"
    },
    "tags": []
   },
   "outputs": [],
   "source": [
    "df1.dtypes"
   ]
  },
  {
   "cell_type": "markdown",
   "id": "60fd192f",
   "metadata": {
    "hidden": true,
    "papermill": {
     "duration": null,
     "end_time": null,
     "exception": null,
     "start_time": null,
     "status": "completed"
    },
    "tags": []
   },
   "source": [
    "## Descriptive Statistics"
   ]
  },
  {
   "cell_type": "code",
   "execution_count": null,
   "id": "2b0cb598",
   "metadata": {
    "ExecuteTime": {
     "end_time": "2022-08-31T13:31:57.739117Z",
     "start_time": "2022-08-31T13:31:57.728644Z"
    },
    "hidden": true,
    "papermill": {
     "duration": null,
     "end_time": null,
     "exception": null,
     "start_time": null,
     "status": "completed"
    },
    "tags": []
   },
   "outputs": [],
   "source": [
    "#here we identify state of variables, but take action just on proper sections ahead.\n",
    "num_attributes = df1.select_dtypes(include=['int64','float64'])\n",
    "cat_attributes = df1.select_dtypes(exclude=['int64','float64','datetime64[ns]'])"
   ]
  },
  {
   "cell_type": "markdown",
   "id": "23ca02ff",
   "metadata": {
    "ExecuteTime": {
     "end_time": "2022-07-30T11:49:56.570625Z",
     "start_time": "2022-07-30T11:49:56.565975Z"
    },
    "hidden": true,
    "papermill": {
     "duration": null,
     "end_time": null,
     "exception": null,
     "start_time": null,
     "status": "completed"
    },
    "tags": []
   },
   "source": [
    "### Numerical Attributes"
   ]
  },
  {
   "cell_type": "code",
   "execution_count": null,
   "id": "8d3ea6fa",
   "metadata": {
    "ExecuteTime": {
     "end_time": "2022-08-31T13:31:57.776223Z",
     "start_time": "2022-08-31T13:31:57.749082Z"
    },
    "hidden": true,
    "papermill": {
     "duration": null,
     "end_time": null,
     "exception": null,
     "start_time": null,
     "status": "completed"
    },
    "tags": []
   },
   "outputs": [],
   "source": [
    "num_attributes.head()"
   ]
  },
  {
   "cell_type": "code",
   "execution_count": null,
   "id": "610b99ec",
   "metadata": {
    "ExecuteTime": {
     "end_time": "2022-08-31T13:31:58.039947Z",
     "start_time": "2022-08-31T13:31:57.781064Z"
    },
    "hidden": true,
    "papermill": {
     "duration": null,
     "end_time": null,
     "exception": null,
     "start_time": null,
     "status": "completed"
    },
    "tags": []
   },
   "outputs": [],
   "source": [
    "# central tendency - mean, median\n",
    "ct1 = pd.DataFrame( num_attributes.apply( np.mean ) ).T\n",
    "ct2 = pd.DataFrame( num_attributes.apply( np.median ) ).T\n",
    "             \n",
    "# dispersion - desvio padrão, minimo, maximo, range, skew, kurtosis\n",
    "d1 = pd.DataFrame( num_attributes.apply( np.std ) ).T\n",
    "d2 = pd.DataFrame( num_attributes.apply( np.min ) ).T\n",
    "d3 = pd.DataFrame( num_attributes.apply( np.max ) ).T\n",
    "d4 = pd.DataFrame( num_attributes.apply( lambda x: x.max() - x.min() ) ).T\n",
    "d5 = pd.DataFrame( num_attributes.apply( lambda x: x.skew() ) ).T\n",
    "d6 = pd.DataFrame( num_attributes.apply( lambda x: x.kurtosis() ) ).T\n",
    "\n",
    "# concatenate\n",
    "num_metrics = pd.concat( [d2, d3, d4, ct1, ct2, d1, d5, d6] ).T.reset_index()\n",
    "num_metrics.columns = ['attributes', 'min', 'max', 'range', 'mean', 'median', 'std', 'skew', 'kurtosis']\n",
    "num_metrics"
   ]
  },
  {
   "cell_type": "markdown",
   "id": "e3d1ac46",
   "metadata": {
    "hidden": true,
    "papermill": {
     "duration": null,
     "end_time": null,
     "exception": null,
     "start_time": null,
     "status": "completed"
    },
    "tags": []
   },
   "source": [
    "### Cathegorical Attributes"
   ]
  },
  {
   "cell_type": "code",
   "execution_count": null,
   "id": "76e6b756",
   "metadata": {
    "ExecuteTime": {
     "end_time": "2022-08-31T13:31:58.070720Z",
     "start_time": "2022-08-31T13:31:58.046741Z"
    },
    "hidden": true,
    "papermill": {
     "duration": null,
     "end_time": null,
     "exception": null,
     "start_time": null,
     "status": "completed"
    },
    "tags": []
   },
   "outputs": [],
   "source": [
    "cat_attributes.head()"
   ]
  },
  {
   "cell_type": "markdown",
   "id": "4719f7f2",
   "metadata": {
    "hidden": true,
    "papermill": {
     "duration": null,
     "end_time": null,
     "exception": null,
     "start_time": null,
     "status": "completed"
    },
    "tags": []
   },
   "source": [
    "#### invoice_no"
   ]
  },
  {
   "cell_type": "code",
   "execution_count": null,
   "id": "1e64c6c9",
   "metadata": {
    "ExecuteTime": {
     "end_time": "2022-08-31T13:31:59.342205Z",
     "start_time": "2022-08-31T13:31:58.084867Z"
    },
    "code_folding": [],
    "hidden": true,
    "papermill": {
     "duration": null,
     "end_time": null,
     "exception": null,
     "start_time": null,
     "status": "completed"
    },
    "tags": []
   },
   "outputs": [],
   "source": [
    "# problem: we have invoice_no with letters and numbers\n",
    "#cat_attributes['invoice_no'].astype( int )  # -> error: ex.'C536379'\n",
    "\n",
    "# identify number of sales with characters on invoice_no: \n",
    "df_letter_invoices = df1.loc[df1['invoice_no'].apply( lambda x: bool( re.search( '[^0-9]+', x ) ) ), :]\n",
    "df_letter_invoices"
   ]
  },
  {
   "cell_type": "code",
   "execution_count": null,
   "id": "01290318",
   "metadata": {
    "ExecuteTime": {
     "end_time": "2022-08-31T13:31:59.378546Z",
     "start_time": "2022-08-31T13:31:59.348709Z"
    },
    "hidden": true,
    "papermill": {
     "duration": null,
     "end_time": null,
     "exception": null,
     "start_time": null,
     "status": "completed"
    },
    "tags": []
   },
   "outputs": [],
   "source": [
    "#looks like all invoice_no with C, has negative quantity. Lets check:\n",
    "print( f'Total number of invoices: {len( df_letter_invoices )}')\n",
    "print( f'Total number of negative quantity: {len( df_letter_invoices[ df_letter_invoices[\"quantity\"] < 0 ] )}') \n",
    "#3 of difference, let's ignore them"
   ]
  },
  {
   "cell_type": "markdown",
   "id": "b7832f5d",
   "metadata": {
    "hidden": true,
    "papermill": {
     "duration": null,
     "end_time": null,
     "exception": null,
     "start_time": null,
     "status": "completed"
    },
    "tags": []
   },
   "source": [
    "#### stock_code"
   ]
  },
  {
   "cell_type": "code",
   "execution_count": null,
   "id": "e4220454",
   "metadata": {
    "ExecuteTime": {
     "end_time": "2022-08-31T13:31:59.412929Z",
     "start_time": "2022-08-31T13:31:59.386537Z"
    },
    "hidden": true,
    "papermill": {
     "duration": null,
     "end_time": null,
     "exception": null,
     "start_time": null,
     "status": "completed"
    },
    "tags": []
   },
   "outputs": [],
   "source": [
    "df1['stock_code']"
   ]
  },
  {
   "cell_type": "code",
   "execution_count": null,
   "id": "f1b7c84d",
   "metadata": {
    "ExecuteTime": {
     "end_time": "2022-08-31T13:32:00.483210Z",
     "start_time": "2022-08-31T13:31:59.420952Z"
    },
    "hidden": true,
    "papermill": {
     "duration": null,
     "end_time": null,
     "exception": null,
     "start_time": null,
     "status": "completed"
    },
    "tags": []
   },
   "outputs": [],
   "source": [
    "# get stock_codes with only letters\n",
    "df1.loc[df1['stock_code'].apply( lambda x: bool( re.search( '^[a-zA-Z]+$', x ) ) ), 'stock_code'].unique()\n",
    "#now we have new stock_codes!"
   ]
  },
  {
   "cell_type": "code",
   "execution_count": null,
   "id": "128c732f",
   "metadata": {
    "ExecuteTime": {
     "end_time": "2022-08-31T13:32:01.527957Z",
     "start_time": "2022-08-31T13:32:00.488696Z"
    },
    "hidden": true,
    "papermill": {
     "duration": null,
     "end_time": null,
     "exception": null,
     "start_time": null,
     "status": "completed"
    },
    "tags": []
   },
   "outputs": [],
   "source": [
    "#find samples:\n",
    "df1.loc[df1['stock_code'].apply( lambda x: bool( re.search( '^[a-zA-Z]+$', x ) ) ) ].sample(10)"
   ]
  },
  {
   "cell_type": "markdown",
   "id": "15a3c46e",
   "metadata": {
    "heading_collapsed": true,
    "papermill": {
     "duration": null,
     "end_time": null,
     "exception": null,
     "start_time": null,
     "status": "completed"
    },
    "tags": []
   },
   "source": [
    "# Variable Filtering"
   ]
  },
  {
   "cell_type": "code",
   "execution_count": null,
   "id": "799a0bad",
   "metadata": {
    "ExecuteTime": {
     "end_time": "2022-08-31T13:32:01.584266Z",
     "start_time": "2022-08-31T13:32:01.547446Z"
    },
    "hidden": true,
    "papermill": {
     "duration": null,
     "end_time": null,
     "exception": null,
     "start_time": null,
     "status": "completed"
    },
    "tags": []
   },
   "outputs": [],
   "source": [
    "df2 = df1.copy()\n",
    "#df2.to_csv(\"../data/interim/cycle8/df2_data_description_done.csv\")"
   ]
  },
  {
   "cell_type": "code",
   "execution_count": null,
   "id": "5c1d64a5",
   "metadata": {
    "ExecuteTime": {
     "end_time": "2022-08-31T13:32:01.964073Z",
     "start_time": "2022-08-31T13:32:01.595670Z"
    },
    "hidden": true,
    "papermill": {
     "duration": null,
     "end_time": null,
     "exception": null,
     "start_time": null,
     "status": "completed"
    },
    "tags": []
   },
   "outputs": [],
   "source": [
    "#remove bad users:\n",
    "df2 = df2.loc[~df2['customer_id'].isin([16446, 15749, 12346]) ]\n",
    "\n",
    "##Cat Attr\n",
    "\n",
    "#2. stock_code - remove useless values:\n",
    "df2 = df2.loc[~df2['stock_code'].isin( ['POST', 'D', 'DOT', 'M', 'S', 'AMAZONFEE', 'm', 'DCGSSBOY','DCGSSGIRL', 'PADS', 'B', 'CRUK'] ) ]\n",
    "#3. description - remove useless feature:\n",
    "df2 = df2.drop('description', axis=1)\n",
    "#4. country - remove 2 values:\n",
    "df2 = df2[~df2['country'].isin( ['European Community', 'Unspecified' ] ) ]\n",
    "\n",
    "##Num Attr\n",
    "#2. unit_price - remove <0.03:\n",
    "df2 = df2.loc[df2['unit_price'] >= 0.04 ]\n",
    "#1. quantity - separete into 2 datasets:\n",
    "df2_returns = df2.loc[df2['quantity'] < 0]\n",
    "df2_purchases = df2.loc[df2['quantity'] > 0] #there is no quantity == 0."
   ]
  },
  {
   "cell_type": "markdown",
   "id": "fcb544cc",
   "metadata": {
    "heading_collapsed": true,
    "papermill": {
     "duration": null,
     "end_time": null,
     "exception": null,
     "start_time": null,
     "status": "completed"
    },
    "tags": []
   },
   "source": [
    "# Feature Engeneering"
   ]
  },
  {
   "cell_type": "code",
   "execution_count": null,
   "id": "b7fe8df9",
   "metadata": {
    "ExecuteTime": {
     "end_time": "2022-08-31T13:32:02.038682Z",
     "start_time": "2022-08-31T13:32:01.968415Z"
    },
    "hidden": true,
    "papermill": {
     "duration": null,
     "end_time": null,
     "exception": null,
     "start_time": null,
     "status": "completed"
    },
    "tags": []
   },
   "outputs": [],
   "source": [
    "df3 = df2.copy()\n",
    "df3_returns = df2_returns.copy()\n",
    "df3_purchases = df2_purchases.copy()\n",
    "#df3.to_csv(\"../data/interim/cycle8/df3_var_filtering_done.csv\")\n",
    "#df3_returns.to_csv(\"../data/interim/cycle8/df3_returns.csv\")\n",
    "#df3_purchases.to_csv(\"../data/interim/cycle8/df3_purchases.csv\")"
   ]
  },
  {
   "cell_type": "code",
   "execution_count": null,
   "id": "0de920f0",
   "metadata": {
    "ExecuteTime": {
     "end_time": "2022-08-31T13:32:02.092493Z",
     "start_time": "2022-08-31T13:32:02.042868Z"
    },
    "hidden": true,
    "papermill": {
     "duration": null,
     "end_time": null,
     "exception": null,
     "start_time": null,
     "status": "completed"
    },
    "tags": []
   },
   "outputs": [],
   "source": [
    "#create the referente table with uniques customer_id (and reset index) \n",
    "df_ref = df3.drop(['invoice_no', 'stock_code', 'quantity', 'invoice_date',\n",
    "       'unit_price', 'country'], axis=1).drop_duplicates(ignore_index=True).copy()"
   ]
  },
  {
   "cell_type": "code",
   "execution_count": null,
   "id": "e124b3ae",
   "metadata": {
    "ExecuteTime": {
     "end_time": "2022-08-31T13:32:02.121402Z",
     "start_time": "2022-08-31T13:32:02.097893Z"
    },
    "hidden": true,
    "papermill": {
     "duration": null,
     "end_time": null,
     "exception": null,
     "start_time": null,
     "status": "completed"
    },
    "tags": []
   },
   "outputs": [],
   "source": [
    "df_ref"
   ]
  },
  {
   "cell_type": "markdown",
   "id": "2fb6eaa3",
   "metadata": {
    "hidden": true,
    "papermill": {
     "duration": null,
     "end_time": null,
     "exception": null,
     "start_time": null,
     "status": "completed"
    },
    "tags": []
   },
   "source": [
    "## Gross Revenue"
   ]
  },
  {
   "cell_type": "code",
   "execution_count": null,
   "id": "e8b43da9",
   "metadata": {
    "ExecuteTime": {
     "end_time": "2022-08-31T13:32:02.262355Z",
     "start_time": "2022-08-31T13:32:02.127885Z"
    },
    "hidden": true,
    "papermill": {
     "duration": null,
     "end_time": null,
     "exception": null,
     "start_time": null,
     "status": "completed"
    },
    "tags": []
   },
   "outputs": [],
   "source": [
    "# Gross Revenue: (quantity * price of each purchase)\n",
    "    #here, we just want to consider gross revenue from sales, not discounting returns, so lets use df3_purchases\n",
    "df3_purchases['gross_revenue'] = df3_purchases['quantity'] * df3_purchases['unit_price']\n",
    "df_monetary = df3_purchases[['customer_id','gross_revenue']].groupby('customer_id').sum().reset_index()\n",
    "df_ref = pd.merge( df_ref, df_monetary, on='customer_id', how='left' )\n",
    "df_ref.isna().sum()"
   ]
  },
  {
   "cell_type": "markdown",
   "id": "1f2e8f88",
   "metadata": {
    "hidden": true,
    "papermill": {
     "duration": null,
     "end_time": null,
     "exception": null,
     "start_time": null,
     "status": "completed"
    },
    "tags": []
   },
   "source": [
    "## Recency"
   ]
  },
  {
   "cell_type": "code",
   "execution_count": null,
   "id": "ee7238af",
   "metadata": {
    "ExecuteTime": {
     "end_time": "2022-08-31T13:32:02.338861Z",
     "start_time": "2022-08-31T13:32:02.267347Z"
    },
    "hidden": true,
    "papermill": {
     "duration": null,
     "end_time": null,
     "exception": null,
     "start_time": null,
     "status": "completed"
    },
    "tags": []
   },
   "outputs": [],
   "source": [
    "# Recency: number of days since last purchase\n",
    "    #here, we want to know the last day this customer bought. If he returned, we don't want to count that day as last purchase, so let's consider just df3_purchases\n",
    "df_recency = df3_purchases[['customer_id','invoice_date']].groupby('customer_id').max().reset_index()\n",
    "df_recency['recency_days'] = (df3_purchases['invoice_date'].max() - df_recency['invoice_date']).dt.days\n",
    "df_recency = df_recency[['customer_id', 'recency_days']].copy()\n",
    "df_ref = pd.merge( df_ref, df_recency, on='customer_id', how='left' )\n",
    "df_ref.isna().sum()"
   ]
  },
  {
   "cell_type": "markdown",
   "id": "a96add91",
   "metadata": {
    "hidden": true,
    "papermill": {
     "duration": null,
     "end_time": null,
     "exception": null,
     "start_time": null,
     "status": "completed"
    },
    "tags": []
   },
   "source": [
    "## Invoice Quantity"
   ]
  },
  {
   "cell_type": "code",
   "execution_count": null,
   "id": "fed18eeb",
   "metadata": {
    "ExecuteTime": {
     "end_time": "2022-08-31T13:32:02.474523Z",
     "start_time": "2022-08-31T13:32:02.343374Z"
    },
    "hidden": true,
    "papermill": {
     "duration": null,
     "end_time": null,
     "exception": null,
     "start_time": null,
     "status": "completed"
    },
    "tags": []
   },
   "outputs": [],
   "source": [
    "#quantity of invoices per customer\n",
    "    #consider just purchases, not returns\n",
    "df_invoice = df3_purchases[['customer_id','invoice_no']].drop_duplicates().groupby('customer_id').count().reset_index().rename(columns={'invoice_no':\"qtt_invoices\"})\n",
    "df_ref = pd.merge( df_ref, df_invoice, on='customer_id', how='left')\n",
    "df_ref.isna().sum()"
   ]
  },
  {
   "cell_type": "markdown",
   "id": "9f26259f",
   "metadata": {
    "hidden": true,
    "papermill": {
     "duration": null,
     "end_time": null,
     "exception": null,
     "start_time": null,
     "status": "completed"
    },
    "tags": []
   },
   "source": [
    "## Unique Products"
   ]
  },
  {
   "cell_type": "code",
   "execution_count": null,
   "id": "f233cdb5",
   "metadata": {
    "ExecuteTime": {
     "end_time": "2022-08-31T13:32:02.758503Z",
     "start_time": "2022-08-31T13:32:02.510401Z"
    },
    "hidden": true,
    "papermill": {
     "duration": null,
     "end_time": null,
     "exception": null,
     "start_time": null,
     "status": "completed"
    },
    "tags": []
   },
   "outputs": [],
   "source": [
    "#quantity of distinct products per customer\n",
    "    #consider just purchases, not returns\n",
    "df_invoice = df3_purchases[['customer_id','stock_code']].drop_duplicates().groupby('customer_id').count().reset_index().rename(columns={'stock_code':\"unique_products\"})\n",
    "df_ref = pd.merge( df_ref, df_invoice, on='customer_id', how='left')\n",
    "df_ref.isna().sum()"
   ]
  },
  {
   "cell_type": "markdown",
   "id": "aa51ce01",
   "metadata": {
    "hidden": true,
    "papermill": {
     "duration": null,
     "end_time": null,
     "exception": null,
     "start_time": null,
     "status": "completed"
    },
    "tags": []
   },
   "source": [
    "## Unique Items"
   ]
  },
  {
   "cell_type": "code",
   "execution_count": null,
   "id": "48c214d3",
   "metadata": {
    "ExecuteTime": {
     "end_time": "2022-08-31T13:32:02.833395Z",
     "start_time": "2022-08-31T13:32:02.764568Z"
    },
    "hidden": true,
    "papermill": {
     "duration": null,
     "end_time": null,
     "exception": null,
     "start_time": null,
     "status": "completed"
    },
    "tags": []
   },
   "outputs": [],
   "source": [
    "#quantity of items purchased per customer\n",
    "    #consider just purchases, not returns\n",
    "df_prod_quantity = df3_purchases[['customer_id','quantity']].groupby('customer_id').sum().reset_index().rename(columns ={'quantity':'unique_items'})\n",
    "df_ref = pd.merge( df_ref, df_prod_quantity, on='customer_id', how='left')\n",
    "df_ref.isna().sum()"
   ]
  },
  {
   "cell_type": "markdown",
   "id": "d8070275",
   "metadata": {
    "hidden": true,
    "papermill": {
     "duration": null,
     "end_time": null,
     "exception": null,
     "start_time": null,
     "status": "completed"
    },
    "tags": []
   },
   "source": [
    "## Daily Purchase Rate"
   ]
  },
  {
   "cell_type": "code",
   "execution_count": null,
   "id": "d0a6f88e",
   "metadata": {
    "ExecuteTime": {
     "end_time": "2022-08-31T13:32:05.317465Z",
     "start_time": "2022-08-31T13:32:02.839748Z"
    },
    "hidden": true,
    "papermill": {
     "duration": null,
     "end_time": null,
     "exception": null,
     "start_time": null,
     "status": "completed"
    },
    "tags": []
   },
   "outputs": [],
   "source": [
    "# purchase rate per day during the period\n",
    "#per customer and invoice, get min and max invoice date, total days between min and max, and quantity of invoices\n",
    "df_aux = ( df3_purchases[['customer_id', 'invoice_no', 'invoice_date']].drop_duplicates()\n",
    "            .groupby( 'customer_id')\n",
    "            #new column name ('apply on this columns', 'operation')\n",
    "            .agg( max_invoice_date = ( 'invoice_date', 'max' ), \n",
    "                  min_invoice_date = ( 'invoice_date', 'min' ),\n",
    "                  invoice_total_days= ( 'invoice_date', lambda x: ((x.max() - x.min()).days)+1),\n",
    "                  invoice_count = ( 'invoice_no', 'count' ) ) ).reset_index()\n",
    "\n",
    "# Frequency: invoice_count / invoice_total_days (if invoice_total_days != 0)\n",
    "df_aux['daily_purchase_rate'] = df_aux[['invoice_count', 'invoice_total_days']].apply( \n",
    "    lambda x: x['invoice_count'] / x['invoice_total_days'] \n",
    "         if  x['invoice_total_days'] != 0 else 0, axis=1 )\n",
    "\n",
    "# Merge\n",
    "df_ref = pd.merge( df_ref, df_aux[['customer_id', 'daily_purchase_rate']], on='customer_id', how='left' )\n",
    "\n",
    "df_ref.isna().sum()"
   ]
  },
  {
   "cell_type": "markdown",
   "id": "b442d0be",
   "metadata": {
    "hidden": true,
    "papermill": {
     "duration": null,
     "end_time": null,
     "exception": null,
     "start_time": null,
     "status": "completed"
    },
    "tags": []
   },
   "source": [
    "## Returns"
   ]
  },
  {
   "cell_type": "code",
   "execution_count": null,
   "id": "5dc2964a",
   "metadata": {
    "ExecuteTime": {
     "end_time": "2022-08-31T13:32:05.390906Z",
     "start_time": "2022-08-31T13:32:05.324803Z"
    },
    "code_folding": [],
    "hidden": true,
    "papermill": {
     "duration": null,
     "end_time": null,
     "exception": null,
     "start_time": null,
     "status": "completed"
    },
    "tags": []
   },
   "outputs": [],
   "source": [
    "#number of products (items) returned per customer\n",
    "df_returns = df3_returns[['customer_id','quantity']].groupby('customer_id').sum().reset_index().rename( columns={'quantity':'total_prod_returned'} )\n",
    "\n",
    "#convert to positive, cause we know it's a devolution, no need to be negative anymore:\n",
    "df_returns['total_prod_returned'] = df_returns['total_prod_returned'] * -1\n",
    "\n",
    "#bind\n",
    "df_ref = pd.merge( df_ref, df_returns, how='left', on='customer_id' )\n",
    "\n",
    "#since df_ref has all customers (purchases + returns), we can say these 4191 with NA in total_prod_returned are from df3_purchases, so let's assign zero to them:\n",
    "df_ref.loc[df_ref['total_prod_returned'].isna(), 'total_prod_returned'] = 0\n",
    "\n",
    "df_ref.isna().sum()"
   ]
  },
  {
   "cell_type": "markdown",
   "id": "72b25f17",
   "metadata": {
    "heading_collapsed": true,
    "papermill": {
     "duration": null,
     "end_time": null,
     "exception": null,
     "start_time": null,
     "status": "completed"
    },
    "tags": []
   },
   "source": [
    "# Data Preparation"
   ]
  },
  {
   "cell_type": "code",
   "execution_count": null,
   "id": "a6f50b7f",
   "metadata": {
    "ExecuteTime": {
     "end_time": "2022-08-31T13:32:05.432039Z",
     "start_time": "2022-08-31T13:32:05.398282Z"
    },
    "hidden": true,
    "papermill": {
     "duration": null,
     "end_time": null,
     "exception": null,
     "start_time": null,
     "status": "completed"
    },
    "tags": []
   },
   "outputs": [],
   "source": [
    "df_ref.head()"
   ]
  },
  {
   "cell_type": "code",
   "execution_count": null,
   "id": "6948504b",
   "metadata": {
    "ExecuteTime": {
     "end_time": "2022-08-31T13:32:05.456554Z",
     "start_time": "2022-08-31T13:32:05.440811Z"
    },
    "hidden": true,
    "papermill": {
     "duration": null,
     "end_time": null,
     "exception": null,
     "start_time": null,
     "status": "completed"
    },
    "tags": []
   },
   "outputs": [],
   "source": [
    "df_ref.isna().sum()"
   ]
  },
  {
   "cell_type": "code",
   "execution_count": null,
   "id": "bcde14ab",
   "metadata": {
    "ExecuteTime": {
     "end_time": "2022-08-31T13:34:26.089296Z",
     "start_time": "2022-08-31T13:34:26.056787Z"
    },
    "hidden": true,
    "papermill": {
     "duration": null,
     "end_time": null,
     "exception": null,
     "start_time": null,
     "status": "completed"
    },
    "tags": []
   },
   "outputs": [],
   "source": [
    "df_ref = df_ref.dropna() #was at EDA\n",
    "df5 = df_ref.copy() #because EDA Uni and Biv were deleted\n",
    "df5"
   ]
  },
  {
   "cell_type": "code",
   "execution_count": null,
   "id": "80ead11a",
   "metadata": {
    "ExecuteTime": {
     "end_time": "2022-08-31T13:34:28.638733Z",
     "start_time": "2022-08-31T13:34:28.569696Z"
    },
    "code_folding": [],
    "hidden": true,
    "papermill": {
     "duration": null,
     "end_time": null,
     "exception": null,
     "start_time": null,
     "status": "completed"
    },
    "tags": []
   },
   "outputs": [],
   "source": [
    "gr_scaller = pickle.load(open(\"/Users/home/repos/pa005_fidelity_program/src/features/gross_revenue.pkl\", \"rb\") )\n",
    "#gr_scaller = pickle.load(open(\"../features/gross_revenue.pkl\", \"rb\") )\n",
    "df5['gross_revenue'] = gr_scaller.transform(df5[['gross_revenue']])\n",
    "             \n",
    "rd_scaller = pickle.load(open('/Users/home/repos/pa005_fidelity_program/src/features/recency_days.pkl', 'rb') )\n",
    "df5['recency_days'] = rd_scaller.transform( df5[['recency_days']])\n",
    "\n",
    "# ## df5['qtt_invoices'] = mm.fit_transform(df5[['qtt_invoices']])  #feature not selected \n",
    "\n",
    "up_scaller = pickle.load(open('/Users/home/repos/pa005_fidelity_program/src/features/unique_products.pkl', 'rb') )\n",
    "df5['unique_products'] = up_scaller.transform(df5[['unique_products']])\n",
    "\n",
    "# ## df5['unique_items'] = mm.fit_transform(df5[['unique_items']])  #feature not selected \n",
    "\n",
    "dpr_scaller=pickle.load(open('/Users/home/repos/pa005_fidelity_program/src/features/daily_purchase_rate.pkl', 'rb') )\n",
    "df5['daily_purchase_rate'] = dpr_scaller.transform(df5[['daily_purchase_rate']])\n",
    "\n",
    "tpr_scaller=pickle.load(open('/Users/home/repos/pa005_fidelity_program/src/features/total_prod_returned.pkl', 'rb') )\n",
    "df5['total_prod_returned']=tpr_scaller.transform(df5[['total_prod_returned']])"
   ]
  },
  {
   "cell_type": "code",
   "execution_count": null,
   "id": "62618bde",
   "metadata": {
    "ExecuteTime": {
     "end_time": "2022-08-31T13:34:29.710915Z",
     "start_time": "2022-08-31T13:34:29.689783Z"
    },
    "hidden": true,
    "papermill": {
     "duration": null,
     "end_time": null,
     "exception": null,
     "start_time": null,
     "status": "completed"
    },
    "tags": []
   },
   "outputs": [],
   "source": [
    "#after transformations:\n",
    "df5.head()"
   ]
  },
  {
   "cell_type": "markdown",
   "id": "9f1479f8",
   "metadata": {
    "heading_collapsed": true,
    "papermill": {
     "duration": null,
     "end_time": null,
     "exception": null,
     "start_time": null,
     "status": "completed"
    },
    "tags": []
   },
   "source": [
    "# Feature Selection"
   ]
  },
  {
   "cell_type": "code",
   "execution_count": null,
   "id": "7443fbf1",
   "metadata": {
    "ExecuteTime": {
     "end_time": "2022-08-31T13:37:56.847729Z",
     "start_time": "2022-08-31T13:37:56.836343Z"
    },
    "hidden": true,
    "papermill": {
     "duration": null,
     "end_time": null,
     "exception": null,
     "start_time": null,
     "status": "completed"
    },
    "tags": []
   },
   "outputs": [],
   "source": [
    "df6 = df5.copy()\n",
    "#df6.to_csv(\"../data/interim/cycle8/df6_data_prep_done.csv\")"
   ]
  },
  {
   "cell_type": "code",
   "execution_count": null,
   "id": "4aed4b7b",
   "metadata": {
    "ExecuteTime": {
     "end_time": "2022-08-31T13:37:57.079520Z",
     "start_time": "2022-08-31T13:37:57.048141Z"
    },
    "hidden": true,
    "papermill": {
     "duration": null,
     "end_time": null,
     "exception": null,
     "start_time": null,
     "status": "completed"
    },
    "tags": []
   },
   "outputs": [],
   "source": [
    "#select features for variable space\n",
    "\n",
    "#drop customer_id\n",
    "X = df6.drop('customer_id', axis=1).copy()\n",
    "X.head()"
   ]
  },
  {
   "cell_type": "code",
   "execution_count": null,
   "id": "a6fcccff",
   "metadata": {
    "ExecuteTime": {
     "end_time": "2022-08-31T13:37:57.323767Z",
     "start_time": "2022-08-31T13:37:57.300725Z"
    },
    "hidden": true,
    "papermill": {
     "duration": null,
     "end_time": null,
     "exception": null,
     "start_time": null,
     "status": "completed"
    },
    "tags": []
   },
   "outputs": [],
   "source": [
    "#select features\n",
    "selected_features = ['gross_revenue','recency_days','unique_products','daily_purchase_rate','total_prod_returned'] #5\n",
    "\n",
    "X = X[selected_features].copy()\n",
    "X.head()"
   ]
  },
  {
   "cell_type": "markdown",
   "id": "6461ab0f",
   "metadata": {
    "ExecuteTime": {
     "end_time": "2022-08-26T19:53:01.411815Z",
     "start_time": "2022-08-26T19:53:01.405620Z"
    },
    "heading_collapsed": true,
    "papermill": {
     "duration": null,
     "end_time": null,
     "exception": null,
     "start_time": null,
     "status": "completed"
    },
    "tags": []
   },
   "source": [
    "# EDA - Data Space Study"
   ]
  },
  {
   "cell_type": "code",
   "execution_count": null,
   "id": "3169818e",
   "metadata": {
    "ExecuteTime": {
     "end_time": "2022-08-31T13:37:59.236862Z",
     "start_time": "2022-08-31T13:37:59.218214Z"
    },
    "hidden": true,
    "papermill": {
     "duration": null,
     "end_time": null,
     "exception": null,
     "start_time": null,
     "status": "completed"
    },
    "tags": []
   },
   "outputs": [],
   "source": [
    "#as soon as data on original space is not organized, let's look for a better data space with embedding\n",
    "X.head()"
   ]
  },
  {
   "cell_type": "code",
   "execution_count": null,
   "id": "6417fde3",
   "metadata": {
    "ExecuteTime": {
     "end_time": "2022-08-31T13:37:59.560214Z",
     "start_time": "2022-08-31T13:37:59.554852Z"
    },
    "hidden": true,
    "papermill": {
     "duration": null,
     "end_time": null,
     "exception": null,
     "start_time": null,
     "status": "completed"
    },
    "tags": []
   },
   "outputs": [],
   "source": [
    "#keep just Umap embedding space (the best)"
   ]
  },
  {
   "cell_type": "markdown",
   "id": "0eb42962",
   "metadata": {
    "hidden": true,
    "papermill": {
     "duration": null,
     "end_time": null,
     "exception": null,
     "start_time": null,
     "status": "completed"
    },
    "tags": []
   },
   "source": [
    "## UMAP"
   ]
  },
  {
   "cell_type": "code",
   "execution_count": null,
   "id": "2180b929",
   "metadata": {
    "ExecuteTime": {
     "end_time": "2022-08-31T13:38:00.494777Z",
     "start_time": "2022-08-31T13:38:00.490257Z"
    },
    "hidden": true,
    "papermill": {
     "duration": null,
     "end_time": null,
     "exception": null,
     "start_time": null,
     "status": "completed"
    },
    "tags": []
   },
   "outputs": [],
   "source": [
    "#UMAP basically takes a dataset in a very high dimension and returns a new dataset with the same number of samples in a space of much lower dimension than the original dimension.\n",
    "#UMAP is good for a lot of data because it's faster, but it's not as verbose in visualization."
   ]
  },
  {
   "cell_type": "code",
   "execution_count": null,
   "id": "961f3bb5",
   "metadata": {
    "ExecuteTime": {
     "end_time": "2022-08-31T13:38:07.633461Z",
     "start_time": "2022-08-31T13:38:01.204092Z"
    },
    "hidden": true,
    "papermill": {
     "duration": null,
     "end_time": null,
     "exception": null,
     "start_time": null,
     "status": "completed"
    },
    "tags": []
   },
   "outputs": [],
   "source": [
    "#reducer = umap.UMAP( random_state=42 )\n",
    "reducer = pickle.load(open('/Users/home/repos/pa005_fidelity_program/src/features/umap_model.pkl','rb'))\n",
    "embedding = reducer.transform( X ) #now just transform\n",
    "\n",
    "df_umap = pd.DataFrame()\n",
    "df_umap['embedding_x'] = embedding[:, 0]\n",
    "df_umap['embedding_y'] = embedding[:, 1]\n",
    "sns.scatterplot( x='embedding_x', y='embedding_y', data=df_umap )"
   ]
  },
  {
   "cell_type": "code",
   "execution_count": null,
   "id": "fff9772c",
   "metadata": {
    "ExecuteTime": {
     "end_time": "2022-08-31T13:38:30.174901Z",
     "start_time": "2022-08-31T13:38:07.642352Z"
    },
    "hidden": true,
    "papermill": {
     "duration": null,
     "end_time": null,
     "exception": null,
     "start_time": null,
     "status": "completed"
    },
    "tags": []
   },
   "outputs": [],
   "source": [
    "#evaluation, passing df_umap as dataframe\n",
    "\n",
    "#set number of clusters\n",
    "clusters_em = np.arange(2,13,1)\n",
    "clusters_em\n",
    "\n",
    "#let's use scipy instead of sklearn, being a simpler implementation.\n",
    "hc_list_em = []\n",
    "for k in clusters_em:\n",
    "    #model definition and training\n",
    "    hc_model_em = hc.linkage(df_umap, 'ward')\n",
    "\n",
    "    #model predict\n",
    "    hc_labels_em = hc.fcluster(hc_model_em, k, criterion='maxclust')#to cut dendrogram\n",
    "\n",
    "    #model perfomance (SS)\n",
    "    hc_ss_em = m.silhouette_score(df_umap, hc_labels_em, metric='euclidean')\n",
    "    hc_list_em.append(hc_ss_em) "
   ]
  },
  {
   "cell_type": "code",
   "execution_count": null,
   "id": "c073297f",
   "metadata": {
    "ExecuteTime": {
     "end_time": "2022-08-30T20:48:31.852902Z",
     "start_time": "2022-08-30T20:48:31.352142Z"
    },
    "hidden": true,
    "papermill": {
     "duration": null,
     "end_time": null,
     "exception": null,
     "start_time": null,
     "status": "completed"
    },
    "tags": []
   },
   "outputs": [],
   "source": [
    "#Silhouette Score (with tree-based embedding from not scaled dataset)\n",
    "plt.plot(clusters_em, hc_list_em, linestyle='--', marker='o', color='b')\n",
    "plt.xlabel('K');\n",
    "plt.ylabel('Silhouette Score');\n",
    "plt.title('Silhouette Score x K');"
   ]
  },
  {
   "cell_type": "markdown",
   "id": "8d24e4a2",
   "metadata": {
    "heading_collapsed": true,
    "papermill": {
     "duration": null,
     "end_time": null,
     "exception": null,
     "start_time": null,
     "status": "completed"
    },
    "tags": []
   },
   "source": [
    "# Model Training"
   ]
  },
  {
   "cell_type": "code",
   "execution_count": null,
   "id": "d59f1647",
   "metadata": {
    "ExecuteTime": {
     "end_time": "2022-08-30T20:48:59.250499Z",
     "start_time": "2022-08-30T20:48:59.231470Z"
    },
    "hidden": true,
    "papermill": {
     "duration": null,
     "end_time": null,
     "exception": null,
     "start_time": null,
     "status": "completed"
    },
    "tags": []
   },
   "outputs": [],
   "source": [
    "#let's keep using Umap embedding space, where on HC with 8k, we've got an SS of 0.55 \n",
    "#8Ks is also a good number of cluster for business team handle actions from them\n",
    "X = df_umap\n",
    "X"
   ]
  },
  {
   "cell_type": "code",
   "execution_count": null,
   "id": "f0ecc799",
   "metadata": {
    "ExecuteTime": {
     "end_time": "2022-08-30T20:49:03.357947Z",
     "start_time": "2022-08-30T20:49:01.696893Z"
    },
    "hidden": true,
    "papermill": {
     "duration": null,
     "end_time": null,
     "exception": null,
     "start_time": null,
     "status": "completed"
    },
    "tags": []
   },
   "outputs": [],
   "source": [
    "#8 clusters, as defined\n",
    "k = 8\n",
    "\n",
    "#let's use scipy instead of sklearn, being a simpler implementation.\n",
    "#model definition and training\n",
    "hc_model = hc.linkage(X, 'ward')\n",
    "\n",
    "#model predict\n",
    "hc_labels = hc.fcluster(hc_model, k, criterion='maxclust')#to cut dendrogram\n",
    "\n",
    "#model perfomance (SS)\n",
    "hc_ss = m.silhouette_score(X, hc_labels, metric='euclidean') \n",
    "print(f'SS Value for {k} clusters: {hc_ss}')"
   ]
  },
  {
   "cell_type": "markdown",
   "id": "bcbf8bb0",
   "metadata": {
    "heading_collapsed": true,
    "papermill": {
     "duration": null,
     "end_time": null,
     "exception": null,
     "start_time": null,
     "status": "completed"
    },
    "tags": []
   },
   "source": [
    "# Cluster Analysis"
   ]
  },
  {
   "cell_type": "markdown",
   "id": "67ae78c3",
   "metadata": {
    "heading_collapsed": true,
    "hidden": true,
    "papermill": {
     "duration": null,
     "end_time": null,
     "exception": null,
     "start_time": null,
     "status": "completed"
    },
    "tags": []
   },
   "source": [
    "## Cluster Profile"
   ]
  },
  {
   "cell_type": "code",
   "execution_count": null,
   "id": "4450a605",
   "metadata": {
    "ExecuteTime": {
     "end_time": "2022-08-28T18:24:30.963309Z",
     "start_time": "2022-08-28T18:24:30.898030Z"
    },
    "hidden": true,
    "papermill": {
     "duration": null,
     "end_time": null,
     "exception": null,
     "start_time": null,
     "status": "completed"
    },
    "tags": []
   },
   "outputs": [],
   "source": [
    "df_ref"
   ]
  },
  {
   "cell_type": "code",
   "execution_count": null,
   "id": "990aec78",
   "metadata": {
    "ExecuteTime": {
     "end_time": "2022-08-31T15:53:40.827912Z",
     "start_time": "2022-08-31T15:53:40.784761Z"
    },
    "hidden": true,
    "papermill": {
     "duration": null,
     "end_time": null,
     "exception": null,
     "start_time": null,
     "status": "completed"
    },
    "tags": []
   },
   "outputs": [],
   "source": [
    "df9p = df_ref.copy() #df_ref contains original values (not reescaled), to use in cluster profile\n",
    "ids_and_vars_selected = ['customer_id','gross_revenue','recency_days','unique_products','daily_purchase_rate','total_prod_returned']\n",
    "df9p = df9p[ids_and_vars_selected]\n",
    "df9p['cluster'] = hc_labels\n",
    "\n",
    "#change dtypes\n",
    "df9p['recency_days'] = df9p['recency_days'].astype(int)\n",
    "df9p['unique_products'] = df9p['unique_products'].astype(int)\n",
    "df9p['total_prod_returned'] = df9p['total_prod_returned'].astype(int)\n",
    "\n",
    "#record timestamp of training\n",
    "df9p['last_training'] = dt.datetime.now().strftime('%Y-%m-%d %H:%M:%S')\n",
    "df9p"
   ]
  },
  {
   "cell_type": "code",
   "execution_count": null,
   "id": "2a3b4f13",
   "metadata": {
    "ExecuteTime": {
     "end_time": "2022-08-28T18:24:31.182565Z",
     "start_time": "2022-08-28T18:24:31.057877Z"
    },
    "hidden": true,
    "papermill": {
     "duration": null,
     "end_time": null,
     "exception": null,
     "start_time": null,
     "status": "completed"
    },
    "tags": []
   },
   "outputs": [],
   "source": [
    "#building df_cluster\n",
    "\n",
    "# Number of customer\n",
    "df_cluster = df9p[['customer_id', 'cluster']].groupby('cluster').count().reset_index()\n",
    "df_cluster['perc_customer'] = df_cluster['customer_id'] / df_cluster['customer_id'].sum()*100\n",
    "\n",
    "# Avg gross revenue\n",
    "df_avg_gross_revenue = df9p[['gross_revenue','cluster']].groupby('cluster').mean().reset_index()\n",
    "df_cluster = pd.merge(df_cluster, df_avg_gross_revenue, how='inner', on='cluster')\n",
    "\n",
    "# Avg recency days\n",
    "df_avg_recency_days = df9p[['recency_days','cluster']].groupby('cluster').mean().reset_index()\n",
    "df_cluster = pd.merge(df_cluster, df_avg_recency_days, how='inner', on='cluster')\n",
    "\n",
    "# Avg unique products\n",
    "df_avg_unique_products = df9p[['unique_products','cluster']].groupby('cluster').mean().reset_index()\n",
    "df_cluster = pd.merge(df_cluster, df_avg_unique_products, how='inner', on='cluster')\n",
    "\n",
    "# Avg daily purchase rate\n",
    "df_avg_daily_purchase_rate = df9p[['daily_purchase_rate','cluster']].groupby('cluster').mean().reset_index()\n",
    "df_cluster = pd.merge(df_cluster, df_avg_daily_purchase_rate, how='inner', on='cluster')\n",
    "\n",
    "# Avg total products returned\n",
    "df_avg_total_prod_returned = df9p[['total_prod_returned','cluster']].groupby('cluster').mean().reset_index()\n",
    "df_cluster = pd.merge(df_cluster, df_avg_total_prod_returned, how='inner', on='cluster')\n",
    "\n",
    "# cluster profiles\n",
    "df_cluster.sort_values('gross_revenue', ascending=False)"
   ]
  },
  {
   "cell_type": "code",
   "execution_count": null,
   "id": "2db68890",
   "metadata": {
    "ExecuteTime": {
     "end_time": "2022-08-28T18:24:31.195196Z",
     "start_time": "2022-08-28T18:24:31.187859Z"
    },
    "hidden": true,
    "papermill": {
     "duration": null,
     "end_time": null,
     "exception": null,
     "start_time": null,
     "status": "completed"
    },
    "tags": []
   },
   "outputs": [],
   "source": [
    "#df_cluster.to_csv('../data/interim/cycle8/df_cluster_kmeans_8k.csv')"
   ]
  },
  {
   "cell_type": "code",
   "execution_count": null,
   "id": "672d1142",
   "metadata": {
    "ExecuteTime": {
     "end_time": "2022-08-28T18:24:31.222696Z",
     "start_time": "2022-08-28T18:24:31.203565Z"
    },
    "code_folding": [],
    "hidden": true,
    "papermill": {
     "duration": null,
     "end_time": null,
     "exception": null,
     "start_time": null,
     "status": "completed"
    },
    "tags": []
   },
   "outputs": [],
   "source": [
    "#generate the repport dinamically:\n",
    "for i in range(len(df_cluster['customer_id'])):\n",
    "    print(f\"\"\" Cluster {df_cluster['cluster'][i]}:\n",
    "    -Number of customers: {df_cluster['customer_id'][i]} ({round(df_cluster['perc_customer'][i])}%)\n",
    "    -Average revenue: ${round(df_cluster['gross_revenue'][i])}\n",
    "    -Average recency: by each {round(df_cluster['recency_days'][i])} days ({round(df_cluster['recency_days'][i]/7)} week(s))\n",
    "    -Average unique products purchased: {round(df_cluster['unique_products'][i])}  \n",
    "    -Average purchases/month: {round((df_cluster['daily_purchase_rate'][i])*30 ,1)} \n",
    "    -Average total products returned: {round(df_cluster['total_prod_returned'][i])} \"\"\")"
   ]
  },
  {
   "cell_type": "markdown",
   "id": "58150c47",
   "metadata": {
    "papermill": {
     "duration": null,
     "end_time": null,
     "exception": null,
     "start_time": null,
     "status": "completed"
    },
    "tags": []
   },
   "source": [
    "# Deploy"
   ]
  },
  {
   "cell_type": "markdown",
   "id": "cf2336a4",
   "metadata": {
    "ExecuteTime": {
     "end_time": "2022-08-25T17:19:30.394611Z",
     "start_time": "2022-08-25T17:19:30.380164Z"
    },
    "papermill": {
     "duration": null,
     "end_time": null,
     "exception": null,
     "start_time": null,
     "status": "completed"
    },
    "tags": []
   },
   "source": [
    "## Insert into SQLITE"
   ]
  },
  {
   "cell_type": "code",
   "execution_count": null,
   "id": "5827d7a7",
   "metadata": {
    "ExecuteTime": {
     "end_time": "2022-08-31T18:47:37.615006Z",
     "start_time": "2022-08-31T18:47:37.578350Z"
    },
    "papermill": {
     "duration": null,
     "end_time": null,
     "exception": null,
     "start_time": null,
     "status": "completed"
    },
    "tags": []
   },
   "outputs": [],
   "source": [
    "df9p"
   ]
  },
  {
   "cell_type": "code",
   "execution_count": null,
   "id": "5844d7b0",
   "metadata": {
    "ExecuteTime": {
     "end_time": "2022-08-31T18:47:38.296729Z",
     "start_time": "2022-08-31T18:47:38.287492Z"
    },
    "papermill": {
     "duration": null,
     "end_time": null,
     "exception": null,
     "start_time": null,
     "status": "completed"
    },
    "tags": []
   },
   "outputs": [],
   "source": [
    "df9p.dtypes"
   ]
  },
  {
   "cell_type": "code",
   "execution_count": null,
   "id": "f4da4ad1",
   "metadata": {
    "ExecuteTime": {
     "end_time": "2022-08-31T18:47:43.021413Z",
     "start_time": "2022-08-31T18:47:40.559604Z"
    },
    "papermill": {
     "duration": null,
     "end_time": null,
     "exception": null,
     "start_time": null,
     "status": "completed"
    },
    "tags": []
   },
   "outputs": [],
   "source": [
    "#create db connection (and db_file if sqlite)\n",
    "\n",
    "##sqlite\n",
    "#endpoint = 'sqlite:////Users/home/repos/pa005_fidelity_program/notebooks/loyals_db.sqlite' \n",
    "\n",
    "##postgre \n",
    "load_dotenv() #load from .env\n",
    "pg_user = os.environ['pg_user'] \n",
    "pg_passwd = os.environ['pg_passwd'] \n",
    "pg_host = os.environ['pg_host'] \n",
    "pg_port = os.environ['pg_port'] \n",
    "#build endpoint\n",
    "endpoint = f'postgresql://{pg_user}:{pg_passwd}@{pg_host}:{pg_port}'\n",
    "        \n",
    "#create connection\n",
    "db = create_engine(endpoint, poolclass=NullPool)\n",
    "conn = db.connect()"
   ]
  },
  {
   "cell_type": "code",
   "execution_count": null,
   "id": "bc705b9b",
   "metadata": {
    "code_folding": [
     0
    ],
    "papermill": {
     "duration": null,
     "end_time": null,
     "exception": null,
     "start_time": null,
     "status": "completed"
    },
    "tags": []
   },
   "outputs": [],
   "source": [
    "# #check if table exists on sqlite\n",
    "# check_table = \"\"\"\n",
    "#     SELECT name FROM sqlite_master WHERE type='table' AND name='loyals';\n",
    "# \"\"\"\n",
    "# df_check = pd.read_sql_query(check_table, conn)\n",
    "\n",
    "# #create table if does not exist\n",
    "# if len(df_check) == 0:  #0 = table does not exist, 1 = table exists\n",
    "#     query_create_table_loyals = \"\"\"\n",
    "#     CREATE TABLE loyals (\n",
    "#         customer_id              INTEGER,\n",
    "#         gross_revenue            REAL,\n",
    "#         recency_days             INTEGER,\n",
    "#         unique_products          INTEGER,\n",
    "#         daily_purchase_rate      REAL,\n",
    "#         total_prod_returned      INTEGER,\n",
    "#         cluster                  INTEGER,\n",
    "#         last_training            TEXT\n",
    "#         )\"\"\"\n",
    "#     conn.execute( query_create_table_loyals )\n",
    "#     print('Table loyals was created!')\n",
    "# else:\n",
    "#     print('Table loyals exists!')"
   ]
  },
  {
   "cell_type": "code",
   "execution_count": null,
   "id": "e7ba7ef1",
   "metadata": {
    "ExecuteTime": {
     "end_time": "2022-08-28T18:34:28.651107Z",
     "start_time": "2022-08-28T18:34:25.366359Z"
    },
    "papermill": {
     "duration": null,
     "end_time": null,
     "exception": null,
     "start_time": null,
     "status": "completed"
    },
    "tags": []
   },
   "outputs": [],
   "source": [
    "#create table\n",
    "# query_create_table_loyals = \"\"\"\n",
    "#     CREATE TABLE loyals (\n",
    "#         customer_id              INTEGER,\n",
    "#         gross_revenue            REAL,\n",
    "#         recency_days             INTEGER,\n",
    "#         unique_products          INTEGER,\n",
    "#         daily_purchase_rate      REAL,\n",
    "#         total_prod_returned      INTEGER,\n",
    "#         cluster                  INTEGER,\n",
    "#         last_training            TEXT\n",
    "#         )\"\"\"\n",
    "# conn.execute( query_create_table_loyals )"
   ]
  },
  {
   "cell_type": "code",
   "execution_count": null,
   "id": "d72a1fdc",
   "metadata": {
    "ExecuteTime": {
     "end_time": "2022-08-31T18:47:49.574321Z",
     "start_time": "2022-08-31T18:47:47.135209Z"
    },
    "papermill": {
     "duration": null,
     "end_time": null,
     "exception": null,
     "start_time": null,
     "status": "completed"
    },
    "scrolled": true,
    "tags": []
   },
   "outputs": [],
   "source": [
    "#insert data into table loyals using sqlalchemy, appending data\n",
    "df9p.to_sql('loyals', con=conn, if_exists='append', index=False )#index=False to ignore dataframe index"
   ]
  },
  {
   "cell_type": "code",
   "execution_count": null,
   "id": "661525ae",
   "metadata": {
    "ExecuteTime": {
     "end_time": "2022-08-31T18:47:51.978763Z",
     "start_time": "2022-08-31T18:47:50.370542Z"
    },
    "papermill": {
     "duration": null,
     "end_time": null,
     "exception": null,
     "start_time": null,
     "status": "completed"
    },
    "tags": []
   },
   "outputs": [],
   "source": [
    "#consult database\n",
    "query = \"\"\"\n",
    "    SELECT * FROM loyals\n",
    "\"\"\"\n",
    "df = pd.read_sql_query(query, conn)\n",
    "df"
   ]
  },
  {
   "cell_type": "code",
   "execution_count": null,
   "id": "1396b4ef",
   "metadata": {
    "ExecuteTime": {
     "end_time": "2022-08-31T18:47:53.886556Z",
     "start_time": "2022-08-31T18:47:53.730254Z"
    },
    "papermill": {
     "duration": null,
     "end_time": null,
     "exception": null,
     "start_time": null,
     "status": "completed"
    },
    "tags": []
   },
   "outputs": [],
   "source": [
    "conn.close() #closes connection"
   ]
  },
  {
   "cell_type": "code",
   "execution_count": null,
   "id": "058c0c68",
   "metadata": {
    "papermill": {
     "duration": null,
     "end_time": null,
     "exception": null,
     "start_time": null,
     "status": "completed"
    },
    "tags": []
   },
   "outputs": [],
   "source": []
  }
 ],
 "metadata": {
  "kernelspec": {
   "display_name": "Python 3 (ipykernel)",
   "language": "python",
   "name": "python3"
  },
  "language_info": {
   "codemirror_mode": {
    "name": "ipython",
    "version": 3
   },
   "file_extension": ".py",
   "mimetype": "text/x-python",
   "name": "python",
   "nbconvert_exporter": "python",
   "pygments_lexer": "ipython3",
   "version": "3.8.0"
  },
  "papermill": {
   "default_parameters": {},
   "duration": 29.826046,
   "end_time": "2022-09-01T01:37:59.363419",
   "environment_variables": {},
   "exception": null,
   "input_path": "src/models/9.0-nmv-deploy.ipynb",
   "output_path": "reports/9.0-nmv-deploy.ipynb",
   "parameters": {},
   "start_time": "2022-09-01T01:37:29.537373",
   "version": "2.3.4"
  },
  "toc": {
   "base_numbering": 1,
   "nav_menu": {},
   "number_sections": true,
   "sideBar": true,
   "skip_h1_title": false,
   "title_cell": "Table of Contents",
   "title_sidebar": "Contents",
   "toc_cell": false,
   "toc_position": {},
   "toc_section_display": true,
   "toc_window_display": false
  },
  "varInspector": {
   "cols": {
    "lenName": 16,
    "lenType": 16,
    "lenVar": 40
   },
   "kernels_config": {
    "python": {
     "delete_cmd_postfix": "",
     "delete_cmd_prefix": "del ",
     "library": "var_list.py",
     "varRefreshCmd": "print(var_dic_list())"
    },
    "r": {
     "delete_cmd_postfix": ") ",
     "delete_cmd_prefix": "rm(",
     "library": "var_list.r",
     "varRefreshCmd": "cat(var_dic_list()) "
    }
   },
   "position": {
    "height": "294.85px",
    "left": "500px",
    "right": "20px",
    "top": "101px",
    "width": "510px"
   },
   "types_to_exclude": [
    "module",
    "function",
    "builtin_function_or_method",
    "instance",
    "_Feature"
   ],
   "window_display": false
  }
 },
 "nbformat": 4,
 "nbformat_minor": 5
}