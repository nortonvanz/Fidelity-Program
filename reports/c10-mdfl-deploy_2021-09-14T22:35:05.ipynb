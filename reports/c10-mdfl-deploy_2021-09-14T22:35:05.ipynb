{
 "cells": [
  {
   "cell_type": "markdown",
   "id": "front-generator",
   "metadata": {
    "ExecuteTime": {
     "end_time": "2021-03-27T20:58:22.276780Z",
     "start_time": "2021-03-27T20:58:22.274533Z"
    },
    "papermill": {
     "duration": 0.165185,
     "end_time": "2021-09-15T01:35:09.254453",
     "exception": false,
     "start_time": "2021-09-15T01:35:09.089268",
     "status": "completed"
    },
    "tags": []
   },
   "source": [
    "# PA005: High Value Customer Identification"
   ]
  },
  {
   "cell_type": "markdown",
   "id": "pharmaceutical-humanity",
   "metadata": {
    "papermill": {
     "duration": 0.176043,
     "end_time": "2021-09-15T01:35:09.576962",
     "exception": false,
     "start_time": "2021-09-15T01:35:09.400919",
     "status": "completed"
    },
    "tags": []
   },
   "source": [
    "# 0.0. Imports"
   ]
  },
  {
   "cell_type": "code",
   "execution_count": 1,
   "id": "cubic-future",
   "metadata": {
    "ExecuteTime": {
     "end_time": "2021-09-15T00:36:41.198376Z",
     "start_time": "2021-09-15T00:36:41.181039Z"
    },
    "execution": {
     "iopub.execute_input": "2021-09-15T01:35:09.921742Z",
     "iopub.status.busy": "2021-09-15T01:35:09.918888Z",
     "iopub.status.idle": "2021-09-15T01:35:41.727258Z",
     "shell.execute_reply": "2021-09-15T01:35:41.729255Z"
    },
    "papermill": {
     "duration": 31.99214,
     "end_time": "2021-09-15T01:35:41.730219",
     "exception": false,
     "start_time": "2021-09-15T01:35:09.738079",
     "status": "completed"
    },
    "tags": []
   },
   "outputs": [
    {
     "name": "stderr",
     "output_type": "stream",
     "text": [
      "/Users/meigarom.lopes/.pyenv/versions/3.8.0/envs/pa005insidersclustering/lib/python3.8/site-packages/pandas/compat/__init__.py:97: UserWarning: Could not import the lzma module. Your installed Python is incomplete. Attempting to use lzma compression will result in a RuntimeError.\n",
      "  warnings.warn(msg)\n"
     ]
    }
   ],
   "source": [
    "import re\n",
    "import numpy   as np\n",
    "import pandas  as pd\n",
    "import seaborn as sns\n",
    "\n",
    "import umap.umap_ as umap\n",
    "\n",
    "from matplotlib import pyplot as plt\n",
    "\n",
    "from sklearn import cluster       as c\n",
    "from sklearn import metrics       as m\n",
    "from sklearn import ensemble      as en\n",
    "from sklearn import preprocessing as pp\n",
    "from sklearn import decomposition as dd\n",
    "from sklearn import manifold      as mn\n",
    "from sklearn import mixture       as mx\n",
    "\n",
    "from plotly import express as px\n",
    "from scipy.cluster import hierarchy as hc\n",
    "from sqlalchemy import create_engine"
   ]
  },
  {
   "cell_type": "markdown",
   "id": "hourly-canada",
   "metadata": {
    "papermill": {
     "duration": 0.151846,
     "end_time": "2021-09-15T01:35:42.033089",
     "exception": false,
     "start_time": "2021-09-15T01:35:41.881243",
     "status": "completed"
    },
    "tags": []
   },
   "source": [
    "## 0.2. Load dataset"
   ]
  },
  {
   "cell_type": "code",
   "execution_count": 2,
   "id": "complete-rachel",
   "metadata": {
    "ExecuteTime": {
     "end_time": "2021-09-15T01:11:08.301644Z",
     "start_time": "2021-09-15T01:11:08.283304Z"
    },
    "execution": {
     "iopub.execute_input": "2021-09-15T01:35:42.349348Z",
     "iopub.status.busy": "2021-09-15T01:35:42.347291Z",
     "iopub.status.idle": "2021-09-15T01:35:42.354463Z",
     "shell.execute_reply": "2021-09-15T01:35:42.356025Z"
    },
    "papermill": {
     "duration": 0.176259,
     "end_time": "2021-09-15T01:35:42.356432",
     "exception": false,
     "start_time": "2021-09-15T01:35:42.180173",
     "status": "completed"
    },
    "tags": []
   },
   "outputs": [
    {
     "data": {
      "text/plain": [
       "'/Users/meigarom.lopes/repos/pa005_insiders_clustering/insiders_clustering'"
      ]
     },
     "execution_count": 2,
     "metadata": {},
     "output_type": "execute_result"
    }
   ],
   "source": [
    "pwd"
   ]
  },
  {
   "cell_type": "code",
   "execution_count": 3,
   "id": "inner-bennett",
   "metadata": {
    "ExecuteTime": {
     "end_time": "2021-09-15T01:11:32.368828Z",
     "start_time": "2021-09-15T01:11:30.080444Z"
    },
    "execution": {
     "iopub.execute_input": "2021-09-15T01:35:42.647053Z",
     "iopub.status.busy": "2021-09-15T01:35:42.644975Z",
     "iopub.status.idle": "2021-09-15T01:35:43.991817Z",
     "shell.execute_reply": "2021-09-15T01:35:43.992680Z"
    },
    "papermill": {
     "duration": 1.497293,
     "end_time": "2021-09-15T01:35:43.993153",
     "exception": false,
     "start_time": "2021-09-15T01:35:42.495860",
     "status": "completed"
    },
    "tags": []
   },
   "outputs": [],
   "source": [
    "# load data\n",
    "path = '/Users/meigarom.lopes/repos/pa005_insiders_clustering/insiders_clustering/'\n",
    "df_raw = pd.read_csv( path + 'data/raw/Ecommerce.csv' )\n",
    "\n",
    "# drop extra column\n",
    "df_raw = df_raw.drop( columns=['Unnamed: 8'], axis=1 )"
   ]
  },
  {
   "cell_type": "markdown",
   "id": "verbal-jenny",
   "metadata": {
    "papermill": {
     "duration": 0.150521,
     "end_time": "2021-09-15T01:35:44.280989",
     "exception": false,
     "start_time": "2021-09-15T01:35:44.130468",
     "status": "completed"
    },
    "tags": []
   },
   "source": [
    "# <font color='red'> 1.0. Descrição dos dados </font>"
   ]
  },
  {
   "cell_type": "code",
   "execution_count": 4,
   "id": "sixth-angola",
   "metadata": {
    "ExecuteTime": {
     "end_time": "2021-09-14T23:38:32.608131Z",
     "start_time": "2021-09-14T23:38:32.577483Z"
    },
    "execution": {
     "iopub.execute_input": "2021-09-15T01:35:44.562101Z",
     "iopub.status.busy": "2021-09-15T01:35:44.559535Z",
     "iopub.status.idle": "2021-09-15T01:35:44.586819Z",
     "shell.execute_reply": "2021-09-15T01:35:44.587707Z"
    },
    "papermill": {
     "duration": 0.178347,
     "end_time": "2021-09-15T01:35:44.588002",
     "exception": false,
     "start_time": "2021-09-15T01:35:44.409655",
     "status": "completed"
    },
    "tags": []
   },
   "outputs": [],
   "source": [
    "df1 = df_raw.copy()"
   ]
  },
  {
   "cell_type": "code",
   "execution_count": 5,
   "id": "answering-athletics",
   "metadata": {
    "ExecuteTime": {
     "end_time": "2021-09-14T23:38:32.674577Z",
     "start_time": "2021-09-14T23:38:32.617551Z"
    },
    "execution": {
     "iopub.execute_input": "2021-09-15T01:35:44.879668Z",
     "iopub.status.busy": "2021-09-15T01:35:44.878030Z",
     "iopub.status.idle": "2021-09-15T01:35:44.906302Z",
     "shell.execute_reply": "2021-09-15T01:35:44.907354Z"
    },
    "papermill": {
     "duration": 0.178027,
     "end_time": "2021-09-15T01:35:44.907832",
     "exception": false,
     "start_time": "2021-09-15T01:35:44.729805",
     "status": "completed"
    },
    "tags": []
   },
   "outputs": [
    {
     "data": {
      "text/html": [
       "<div>\n",
       "<style scoped>\n",
       "    .dataframe tbody tr th:only-of-type {\n",
       "        vertical-align: middle;\n",
       "    }\n",
       "\n",
       "    .dataframe tbody tr th {\n",
       "        vertical-align: top;\n",
       "    }\n",
       "\n",
       "    .dataframe thead th {\n",
       "        text-align: right;\n",
       "    }\n",
       "</style>\n",
       "<table border=\"1\" class=\"dataframe\">\n",
       "  <thead>\n",
       "    <tr style=\"text-align: right;\">\n",
       "      <th></th>\n",
       "      <th>InvoiceNo</th>\n",
       "      <th>StockCode</th>\n",
       "      <th>Description</th>\n",
       "      <th>Quantity</th>\n",
       "      <th>InvoiceDate</th>\n",
       "      <th>UnitPrice</th>\n",
       "      <th>CustomerID</th>\n",
       "      <th>Country</th>\n",
       "    </tr>\n",
       "  </thead>\n",
       "  <tbody>\n",
       "    <tr>\n",
       "      <th>0</th>\n",
       "      <td>536365</td>\n",
       "      <td>85123A</td>\n",
       "      <td>WHITE HANGING HEART T-LIGHT HOLDER</td>\n",
       "      <td>6</td>\n",
       "      <td>29-Nov-16</td>\n",
       "      <td>2.55</td>\n",
       "      <td>17850.0</td>\n",
       "      <td>United Kingdom</td>\n",
       "    </tr>\n",
       "    <tr>\n",
       "      <th>1</th>\n",
       "      <td>536365</td>\n",
       "      <td>71053</td>\n",
       "      <td>WHITE METAL LANTERN</td>\n",
       "      <td>6</td>\n",
       "      <td>29-Nov-16</td>\n",
       "      <td>3.39</td>\n",
       "      <td>17850.0</td>\n",
       "      <td>United Kingdom</td>\n",
       "    </tr>\n",
       "    <tr>\n",
       "      <th>2</th>\n",
       "      <td>536365</td>\n",
       "      <td>84406B</td>\n",
       "      <td>CREAM CUPID HEARTS COAT HANGER</td>\n",
       "      <td>8</td>\n",
       "      <td>29-Nov-16</td>\n",
       "      <td>2.75</td>\n",
       "      <td>17850.0</td>\n",
       "      <td>United Kingdom</td>\n",
       "    </tr>\n",
       "    <tr>\n",
       "      <th>3</th>\n",
       "      <td>536365</td>\n",
       "      <td>84029G</td>\n",
       "      <td>KNITTED UNION FLAG HOT WATER BOTTLE</td>\n",
       "      <td>6</td>\n",
       "      <td>29-Nov-16</td>\n",
       "      <td>3.39</td>\n",
       "      <td>17850.0</td>\n",
       "      <td>United Kingdom</td>\n",
       "    </tr>\n",
       "    <tr>\n",
       "      <th>4</th>\n",
       "      <td>536365</td>\n",
       "      <td>84029E</td>\n",
       "      <td>RED WOOLLY HOTTIE WHITE HEART.</td>\n",
       "      <td>6</td>\n",
       "      <td>29-Nov-16</td>\n",
       "      <td>3.39</td>\n",
       "      <td>17850.0</td>\n",
       "      <td>United Kingdom</td>\n",
       "    </tr>\n",
       "  </tbody>\n",
       "</table>\n",
       "</div>"
      ],
      "text/plain": [
       "  InvoiceNo StockCode                          Description  Quantity  \\\n",
       "0    536365    85123A   WHITE HANGING HEART T-LIGHT HOLDER         6   \n",
       "1    536365     71053                  WHITE METAL LANTERN         6   \n",
       "2    536365    84406B       CREAM CUPID HEARTS COAT HANGER         8   \n",
       "3    536365    84029G  KNITTED UNION FLAG HOT WATER BOTTLE         6   \n",
       "4    536365    84029E       RED WOOLLY HOTTIE WHITE HEART.         6   \n",
       "\n",
       "  InvoiceDate  UnitPrice  CustomerID         Country  \n",
       "0   29-Nov-16       2.55     17850.0  United Kingdom  \n",
       "1   29-Nov-16       3.39     17850.0  United Kingdom  \n",
       "2   29-Nov-16       2.75     17850.0  United Kingdom  \n",
       "3   29-Nov-16       3.39     17850.0  United Kingdom  \n",
       "4   29-Nov-16       3.39     17850.0  United Kingdom  "
      ]
     },
     "execution_count": 5,
     "metadata": {},
     "output_type": "execute_result"
    }
   ],
   "source": [
    "df1.head()"
   ]
  },
  {
   "cell_type": "code",
   "execution_count": null,
   "id": "retained-fighter",
   "metadata": {
    "papermill": {
     "duration": 0.144092,
     "end_time": "2021-09-15T01:35:45.191824",
     "exception": false,
     "start_time": "2021-09-15T01:35:45.047732",
     "status": "completed"
    },
    "tags": []
   },
   "outputs": [],
   "source": []
  },
  {
   "cell_type": "markdown",
   "id": "traditional-tomato",
   "metadata": {
    "papermill": {
     "duration": 0.134265,
     "end_time": "2021-09-15T01:35:45.463728",
     "exception": false,
     "start_time": "2021-09-15T01:35:45.329463",
     "status": "completed"
    },
    "tags": []
   },
   "source": [
    "## 1.1. Rename columuns"
   ]
  },
  {
   "cell_type": "code",
   "execution_count": 6,
   "id": "stuck-straight",
   "metadata": {
    "ExecuteTime": {
     "end_time": "2021-09-14T23:38:32.694386Z",
     "start_time": "2021-09-14T23:38:32.679849Z"
    },
    "execution": {
     "iopub.execute_input": "2021-09-15T01:35:45.785805Z",
     "iopub.status.busy": "2021-09-15T01:35:45.784295Z",
     "iopub.status.idle": "2021-09-15T01:35:45.787192Z",
     "shell.execute_reply": "2021-09-15T01:35:45.788067Z"
    },
    "papermill": {
     "duration": 0.173361,
     "end_time": "2021-09-15T01:35:45.788381",
     "exception": false,
     "start_time": "2021-09-15T01:35:45.615020",
     "status": "completed"
    },
    "tags": []
   },
   "outputs": [],
   "source": [
    "cols_new = ['invoice_no', 'stock_code', 'description', 'quantity', 'invoice_date', 'unit_price', 'customer_id', 'country']\n",
    "df1.columns = cols_new"
   ]
  },
  {
   "cell_type": "markdown",
   "id": "offensive-vietnamese",
   "metadata": {
    "papermill": {
     "duration": 0.155261,
     "end_time": "2021-09-15T01:35:46.093704",
     "exception": false,
     "start_time": "2021-09-15T01:35:45.938443",
     "status": "completed"
    },
    "tags": []
   },
   "source": [
    "## 1.2. Data dimensions"
   ]
  },
  {
   "cell_type": "code",
   "execution_count": 7,
   "id": "verified-rough",
   "metadata": {
    "ExecuteTime": {
     "end_time": "2021-09-14T23:38:32.714878Z",
     "start_time": "2021-09-14T23:38:32.704527Z"
    },
    "execution": {
     "iopub.execute_input": "2021-09-15T01:35:46.413475Z",
     "iopub.status.busy": "2021-09-15T01:35:46.411275Z",
     "iopub.status.idle": "2021-09-15T01:35:46.418138Z",
     "shell.execute_reply": "2021-09-15T01:35:46.418960Z"
    },
    "papermill": {
     "duration": 0.173325,
     "end_time": "2021-09-15T01:35:46.419501",
     "exception": false,
     "start_time": "2021-09-15T01:35:46.246176",
     "status": "completed"
    },
    "tags": []
   },
   "outputs": [
    {
     "name": "stdout",
     "output_type": "stream",
     "text": [
      "Number of rows: 541909\n",
      "Number of cols: 8\n"
     ]
    }
   ],
   "source": [
    "print( 'Number of rows: {}'.format( df1.shape[0] ) )\n",
    "print( 'Number of cols: {}'.format( df1.shape[1] ) )"
   ]
  },
  {
   "cell_type": "markdown",
   "id": "congressional-width",
   "metadata": {
    "papermill": {
     "duration": 0.150326,
     "end_time": "2021-09-15T01:35:46.697984",
     "exception": false,
     "start_time": "2021-09-15T01:35:46.547658",
     "status": "completed"
    },
    "tags": []
   },
   "source": [
    "## 1.3. Data types"
   ]
  },
  {
   "cell_type": "code",
   "execution_count": 8,
   "id": "common-british",
   "metadata": {
    "ExecuteTime": {
     "end_time": "2021-09-14T23:38:32.747843Z",
     "start_time": "2021-09-14T23:38:32.725963Z"
    },
    "execution": {
     "iopub.execute_input": "2021-09-15T01:35:46.987069Z",
     "iopub.status.busy": "2021-09-15T01:35:46.985947Z",
     "iopub.status.idle": "2021-09-15T01:35:46.990119Z",
     "shell.execute_reply": "2021-09-15T01:35:46.991195Z"
    },
    "papermill": {
     "duration": 0.152319,
     "end_time": "2021-09-15T01:35:46.991495",
     "exception": false,
     "start_time": "2021-09-15T01:35:46.839176",
     "status": "completed"
    },
    "tags": []
   },
   "outputs": [
    {
     "data": {
      "text/plain": [
       "invoice_no       object\n",
       "stock_code       object\n",
       "description      object\n",
       "quantity          int64\n",
       "invoice_date     object\n",
       "unit_price      float64\n",
       "customer_id     float64\n",
       "country          object\n",
       "dtype: object"
      ]
     },
     "execution_count": 8,
     "metadata": {},
     "output_type": "execute_result"
    }
   ],
   "source": [
    "df1.dtypes"
   ]
  },
  {
   "cell_type": "markdown",
   "id": "august-bouquet",
   "metadata": {
    "papermill": {
     "duration": 0.142493,
     "end_time": "2021-09-15T01:35:47.270195",
     "exception": false,
     "start_time": "2021-09-15T01:35:47.127702",
     "status": "completed"
    },
    "tags": []
   },
   "source": [
    "## 1.4. Check NA"
   ]
  },
  {
   "cell_type": "code",
   "execution_count": 9,
   "id": "bigger-labor",
   "metadata": {
    "ExecuteTime": {
     "end_time": "2021-09-14T23:38:33.075316Z",
     "start_time": "2021-09-14T23:38:32.763197Z"
    },
    "execution": {
     "iopub.execute_input": "2021-09-15T01:35:47.732224Z",
     "iopub.status.busy": "2021-09-15T01:35:47.730895Z",
     "iopub.status.idle": "2021-09-15T01:35:47.753537Z",
     "shell.execute_reply": "2021-09-15T01:35:47.755401Z"
    },
    "papermill": {
     "duration": 0.359267,
     "end_time": "2021-09-15T01:35:47.756204",
     "exception": false,
     "start_time": "2021-09-15T01:35:47.396937",
     "status": "completed"
    },
    "tags": []
   },
   "outputs": [
    {
     "data": {
      "text/plain": [
       "invoice_no           0\n",
       "stock_code           0\n",
       "description       1454\n",
       "quantity             0\n",
       "invoice_date         0\n",
       "unit_price           0\n",
       "customer_id     135080\n",
       "country              0\n",
       "dtype: int64"
      ]
     },
     "execution_count": 9,
     "metadata": {},
     "output_type": "execute_result"
    }
   ],
   "source": [
    "df1.isna().sum()"
   ]
  },
  {
   "cell_type": "markdown",
   "id": "still-petite",
   "metadata": {
    "papermill": {
     "duration": 0.143682,
     "end_time": "2021-09-15T01:35:48.037944",
     "exception": false,
     "start_time": "2021-09-15T01:35:47.894262",
     "status": "completed"
    },
    "tags": []
   },
   "source": [
    "## 1.5. Replace NA"
   ]
  },
  {
   "cell_type": "code",
   "execution_count": 10,
   "id": "insured-florence",
   "metadata": {
    "ExecuteTime": {
     "end_time": "2021-09-14T23:38:33.092413Z",
     "start_time": "2021-09-14T23:38:33.081511Z"
    },
    "execution": {
     "iopub.execute_input": "2021-09-15T01:35:48.332044Z",
     "iopub.status.busy": "2021-09-15T01:35:48.331042Z",
     "iopub.status.idle": "2021-09-15T01:35:48.334159Z",
     "shell.execute_reply": "2021-09-15T01:35:48.334989Z"
    },
    "papermill": {
     "duration": 0.150567,
     "end_time": "2021-09-15T01:35:48.335259",
     "exception": false,
     "start_time": "2021-09-15T01:35:48.184692",
     "status": "completed"
    },
    "tags": []
   },
   "outputs": [],
   "source": [
    "# Precisamos resolver o problema do NA"
   ]
  },
  {
   "cell_type": "code",
   "execution_count": 11,
   "id": "upset-tulsa",
   "metadata": {
    "ExecuteTime": {
     "end_time": "2021-09-14T23:38:33.183943Z",
     "start_time": "2021-09-14T23:38:33.097757Z"
    },
    "execution": {
     "iopub.execute_input": "2021-09-15T01:35:48.639123Z",
     "iopub.status.busy": "2021-09-15T01:35:48.637665Z",
     "iopub.status.idle": "2021-09-15T01:35:48.730094Z",
     "shell.execute_reply": "2021-09-15T01:35:48.731142Z"
    },
    "papermill": {
     "duration": 0.258958,
     "end_time": "2021-09-15T01:35:48.731516",
     "exception": false,
     "start_time": "2021-09-15T01:35:48.472558",
     "status": "completed"
    },
    "tags": []
   },
   "outputs": [],
   "source": [
    "df_missing = df1.loc[df1['customer_id'].isna(), :]\n",
    "df_not_missing = df1.loc[~df1['customer_id'].isna(), :]"
   ]
  },
  {
   "cell_type": "code",
   "execution_count": 12,
   "id": "plain-costume",
   "metadata": {
    "ExecuteTime": {
     "end_time": "2021-09-14T23:38:33.854323Z",
     "start_time": "2021-09-14T23:38:33.190683Z"
    },
    "execution": {
     "iopub.execute_input": "2021-09-15T01:35:49.040122Z",
     "iopub.status.busy": "2021-09-15T01:35:49.039042Z",
     "iopub.status.idle": "2021-09-15T01:35:49.629846Z",
     "shell.execute_reply": "2021-09-15T01:35:49.630875Z"
    },
    "papermill": {
     "duration": 0.765195,
     "end_time": "2021-09-15T01:35:49.631239",
     "exception": false,
     "start_time": "2021-09-15T01:35:48.866044",
     "status": "completed"
    },
    "tags": []
   },
   "outputs": [],
   "source": [
    "# create reference\n",
    "df_backup = pd.DataFrame( df_missing['invoice_no'].drop_duplicates() )\n",
    "df_backup['customer_id'] = np.arange( 19000, 19000+len( df_backup ), 1)\n",
    "\n",
    "# merge original with reference dataframe\n",
    "df1 = pd.merge( df1, df_backup, on='invoice_no', how='left' )\n",
    "\n",
    "# coalesce \n",
    "df1['customer_id'] = df1['customer_id_x'].combine_first( df1['customer_id_y'] )\n",
    "\n",
    "# drop extra columns\n",
    "df1 = df1.drop( columns=['customer_id_x', 'customer_id_y'], axis=1 )"
   ]
  },
  {
   "cell_type": "code",
   "execution_count": 13,
   "id": "intermediate-spank",
   "metadata": {
    "ExecuteTime": {
     "end_time": "2021-09-14T23:38:34.112281Z",
     "start_time": "2021-09-14T23:38:33.862664Z"
    },
    "execution": {
     "iopub.execute_input": "2021-09-15T01:35:50.120268Z",
     "iopub.status.busy": "2021-09-15T01:35:50.116776Z",
     "iopub.status.idle": "2021-09-15T01:35:50.141392Z",
     "shell.execute_reply": "2021-09-15T01:35:50.143311Z"
    },
    "papermill": {
     "duration": 0.37441,
     "end_time": "2021-09-15T01:35:50.144030",
     "exception": false,
     "start_time": "2021-09-15T01:35:49.769620",
     "status": "completed"
    },
    "tags": []
   },
   "outputs": [
    {
     "data": {
      "text/plain": [
       "invoice_no         0\n",
       "stock_code         0\n",
       "description     1454\n",
       "quantity           0\n",
       "invoice_date       0\n",
       "unit_price         0\n",
       "country            0\n",
       "customer_id        0\n",
       "dtype: int64"
      ]
     },
     "execution_count": 13,
     "metadata": {},
     "output_type": "execute_result"
    }
   ],
   "source": [
    "df1.isna().sum()"
   ]
  },
  {
   "cell_type": "markdown",
   "id": "casual-genius",
   "metadata": {
    "papermill": {
     "duration": 0.153501,
     "end_time": "2021-09-15T01:35:50.459257",
     "exception": false,
     "start_time": "2021-09-15T01:35:50.305756",
     "status": "completed"
    },
    "tags": []
   },
   "source": [
    "## 1.6. Change dtypes"
   ]
  },
  {
   "cell_type": "code",
   "execution_count": 14,
   "id": "extraordinary-angel",
   "metadata": {
    "ExecuteTime": {
     "end_time": "2021-09-14T23:38:34.323776Z",
     "start_time": "2021-09-14T23:38:34.116970Z"
    },
    "execution": {
     "iopub.execute_input": "2021-09-15T01:35:50.815881Z",
     "iopub.status.busy": "2021-09-15T01:35:50.813741Z",
     "iopub.status.idle": "2021-09-15T01:35:50.964041Z",
     "shell.execute_reply": "2021-09-15T01:35:50.965694Z"
    },
    "papermill": {
     "duration": 0.3535,
     "end_time": "2021-09-15T01:35:50.966279",
     "exception": false,
     "start_time": "2021-09-15T01:35:50.612779",
     "status": "completed"
    },
    "tags": []
   },
   "outputs": [
    {
     "data": {
      "text/html": [
       "<div>\n",
       "<style scoped>\n",
       "    .dataframe tbody tr th:only-of-type {\n",
       "        vertical-align: middle;\n",
       "    }\n",
       "\n",
       "    .dataframe tbody tr th {\n",
       "        vertical-align: top;\n",
       "    }\n",
       "\n",
       "    .dataframe thead th {\n",
       "        text-align: right;\n",
       "    }\n",
       "</style>\n",
       "<table border=\"1\" class=\"dataframe\">\n",
       "  <thead>\n",
       "    <tr style=\"text-align: right;\">\n",
       "      <th></th>\n",
       "      <th>invoice_no</th>\n",
       "      <th>stock_code</th>\n",
       "      <th>description</th>\n",
       "      <th>quantity</th>\n",
       "      <th>invoice_date</th>\n",
       "      <th>unit_price</th>\n",
       "      <th>country</th>\n",
       "      <th>customer_id</th>\n",
       "    </tr>\n",
       "  </thead>\n",
       "  <tbody>\n",
       "    <tr>\n",
       "      <th>0</th>\n",
       "      <td>536365</td>\n",
       "      <td>85123A</td>\n",
       "      <td>WHITE HANGING HEART T-LIGHT HOLDER</td>\n",
       "      <td>6</td>\n",
       "      <td>2016-11-29</td>\n",
       "      <td>2.55</td>\n",
       "      <td>United Kingdom</td>\n",
       "      <td>17850</td>\n",
       "    </tr>\n",
       "    <tr>\n",
       "      <th>1</th>\n",
       "      <td>536365</td>\n",
       "      <td>71053</td>\n",
       "      <td>WHITE METAL LANTERN</td>\n",
       "      <td>6</td>\n",
       "      <td>2016-11-29</td>\n",
       "      <td>3.39</td>\n",
       "      <td>United Kingdom</td>\n",
       "      <td>17850</td>\n",
       "    </tr>\n",
       "    <tr>\n",
       "      <th>2</th>\n",
       "      <td>536365</td>\n",
       "      <td>84406B</td>\n",
       "      <td>CREAM CUPID HEARTS COAT HANGER</td>\n",
       "      <td>8</td>\n",
       "      <td>2016-11-29</td>\n",
       "      <td>2.75</td>\n",
       "      <td>United Kingdom</td>\n",
       "      <td>17850</td>\n",
       "    </tr>\n",
       "    <tr>\n",
       "      <th>3</th>\n",
       "      <td>536365</td>\n",
       "      <td>84029G</td>\n",
       "      <td>KNITTED UNION FLAG HOT WATER BOTTLE</td>\n",
       "      <td>6</td>\n",
       "      <td>2016-11-29</td>\n",
       "      <td>3.39</td>\n",
       "      <td>United Kingdom</td>\n",
       "      <td>17850</td>\n",
       "    </tr>\n",
       "    <tr>\n",
       "      <th>4</th>\n",
       "      <td>536365</td>\n",
       "      <td>84029E</td>\n",
       "      <td>RED WOOLLY HOTTIE WHITE HEART.</td>\n",
       "      <td>6</td>\n",
       "      <td>2016-11-29</td>\n",
       "      <td>3.39</td>\n",
       "      <td>United Kingdom</td>\n",
       "      <td>17850</td>\n",
       "    </tr>\n",
       "  </tbody>\n",
       "</table>\n",
       "</div>"
      ],
      "text/plain": [
       "  invoice_no stock_code                          description  quantity  \\\n",
       "0     536365     85123A   WHITE HANGING HEART T-LIGHT HOLDER         6   \n",
       "1     536365      71053                  WHITE METAL LANTERN         6   \n",
       "2     536365     84406B       CREAM CUPID HEARTS COAT HANGER         8   \n",
       "3     536365     84029G  KNITTED UNION FLAG HOT WATER BOTTLE         6   \n",
       "4     536365     84029E       RED WOOLLY HOTTIE WHITE HEART.         6   \n",
       "\n",
       "  invoice_date  unit_price         country  customer_id  \n",
       "0   2016-11-29        2.55  United Kingdom        17850  \n",
       "1   2016-11-29        3.39  United Kingdom        17850  \n",
       "2   2016-11-29        2.75  United Kingdom        17850  \n",
       "3   2016-11-29        3.39  United Kingdom        17850  \n",
       "4   2016-11-29        3.39  United Kingdom        17850  "
      ]
     },
     "execution_count": 14,
     "metadata": {},
     "output_type": "execute_result"
    }
   ],
   "source": [
    "# invoice date\n",
    "df1['invoice_date'] = pd.to_datetime( df1['invoice_date'], format='%d-%b-%y' )\n",
    "\n",
    "# customer id\n",
    "df1['customer_id'] = df1['customer_id'].astype( int )\n",
    "df1.head()"
   ]
  },
  {
   "cell_type": "code",
   "execution_count": 15,
   "id": "inappropriate-scale",
   "metadata": {
    "ExecuteTime": {
     "end_time": "2021-09-14T23:38:34.334365Z",
     "start_time": "2021-09-14T23:38:34.326260Z"
    },
    "execution": {
     "iopub.execute_input": "2021-09-15T01:35:51.330196Z",
     "iopub.status.busy": "2021-09-15T01:35:51.328725Z",
     "iopub.status.idle": "2021-09-15T01:35:51.333320Z",
     "shell.execute_reply": "2021-09-15T01:35:51.334217Z"
    },
    "papermill": {
     "duration": 0.215405,
     "end_time": "2021-09-15T01:35:51.334485",
     "exception": false,
     "start_time": "2021-09-15T01:35:51.119080",
     "status": "completed"
    },
    "tags": []
   },
   "outputs": [
    {
     "data": {
      "text/plain": [
       "invoice_no              object\n",
       "stock_code              object\n",
       "description             object\n",
       "quantity                 int64\n",
       "invoice_date    datetime64[ns]\n",
       "unit_price             float64\n",
       "country                 object\n",
       "customer_id              int64\n",
       "dtype: object"
      ]
     },
     "execution_count": 15,
     "metadata": {},
     "output_type": "execute_result"
    }
   ],
   "source": [
    "df1.dtypes"
   ]
  },
  {
   "cell_type": "markdown",
   "id": "measured-reproduction",
   "metadata": {
    "papermill": {
     "duration": 0.155568,
     "end_time": "2021-09-15T01:35:51.633453",
     "exception": false,
     "start_time": "2021-09-15T01:35:51.477885",
     "status": "completed"
    },
    "tags": []
   },
   "source": [
    "## 1.7. Descriptive Statistics"
   ]
  },
  {
   "cell_type": "code",
   "execution_count": 16,
   "id": "collect-compatibility",
   "metadata": {
    "ExecuteTime": {
     "end_time": "2021-09-14T23:38:34.402478Z",
     "start_time": "2021-09-14T23:38:34.343277Z"
    },
    "execution": {
     "iopub.execute_input": "2021-09-15T01:35:51.952192Z",
     "iopub.status.busy": "2021-09-15T01:35:51.950705Z",
     "iopub.status.idle": "2021-09-15T01:35:51.994133Z",
     "shell.execute_reply": "2021-09-15T01:35:51.995956Z"
    },
    "papermill": {
     "duration": 0.208872,
     "end_time": "2021-09-15T01:35:51.996448",
     "exception": false,
     "start_time": "2021-09-15T01:35:51.787576",
     "status": "completed"
    },
    "tags": []
   },
   "outputs": [],
   "source": [
    "num_attributes = df1.select_dtypes( include=['int64', 'float64'] )\n",
    "cat_attributes = df1.select_dtypes( exclude=['int64', 'float64', 'datetime64[ns]'] )"
   ]
  },
  {
   "cell_type": "markdown",
   "id": "sweet-beginning",
   "metadata": {
    "papermill": {
     "duration": 0.142786,
     "end_time": "2021-09-15T01:35:52.289046",
     "exception": false,
     "start_time": "2021-09-15T01:35:52.146260",
     "status": "completed"
    },
    "tags": []
   },
   "source": [
    "### 1.7.1. Numerical Attributs"
   ]
  },
  {
   "cell_type": "code",
   "execution_count": 17,
   "id": "verified-fifth",
   "metadata": {
    "ExecuteTime": {
     "end_time": "2021-09-14T23:52:00.849112Z",
     "start_time": "2021-09-14T23:52:00.369660Z"
    },
    "execution": {
     "iopub.execute_input": "2021-09-15T01:35:52.606379Z",
     "iopub.status.busy": "2021-09-15T01:35:52.603444Z",
     "iopub.status.idle": "2021-09-15T01:35:52.782694Z",
     "shell.execute_reply": "2021-09-15T01:35:52.783773Z"
    },
    "papermill": {
     "duration": 0.347505,
     "end_time": "2021-09-15T01:35:52.784103",
     "exception": false,
     "start_time": "2021-09-15T01:35:52.436598",
     "status": "completed"
    },
    "tags": []
   },
   "outputs": [
    {
     "data": {
      "text/html": [
       "<div>\n",
       "<style scoped>\n",
       "    .dataframe tbody tr th:only-of-type {\n",
       "        vertical-align: middle;\n",
       "    }\n",
       "\n",
       "    .dataframe tbody tr th {\n",
       "        vertical-align: top;\n",
       "    }\n",
       "\n",
       "    .dataframe thead th {\n",
       "        text-align: right;\n",
       "    }\n",
       "</style>\n",
       "<table border=\"1\" class=\"dataframe\">\n",
       "  <thead>\n",
       "    <tr style=\"text-align: right;\">\n",
       "      <th></th>\n",
       "      <th>attributes</th>\n",
       "      <th>min</th>\n",
       "      <th>max</th>\n",
       "      <th>range</th>\n",
       "      <th>mean</th>\n",
       "      <th>mediana</th>\n",
       "      <th>std</th>\n",
       "      <th>skew</th>\n",
       "      <th>kurtosis</th>\n",
       "    </tr>\n",
       "  </thead>\n",
       "  <tbody>\n",
       "    <tr>\n",
       "      <th>0</th>\n",
       "      <td>quantity</td>\n",
       "      <td>-80995.00</td>\n",
       "      <td>80995.0</td>\n",
       "      <td>161990.00</td>\n",
       "      <td>9.552250</td>\n",
       "      <td>3.00</td>\n",
       "      <td>218.080957</td>\n",
       "      <td>-0.264076</td>\n",
       "      <td>119769.160031</td>\n",
       "    </tr>\n",
       "    <tr>\n",
       "      <th>1</th>\n",
       "      <td>unit_price</td>\n",
       "      <td>-11062.06</td>\n",
       "      <td>38970.0</td>\n",
       "      <td>50032.06</td>\n",
       "      <td>4.611114</td>\n",
       "      <td>2.08</td>\n",
       "      <td>96.759764</td>\n",
       "      <td>186.506972</td>\n",
       "      <td>59005.719097</td>\n",
       "    </tr>\n",
       "    <tr>\n",
       "      <th>2</th>\n",
       "      <td>customer_id</td>\n",
       "      <td>12346.00</td>\n",
       "      <td>22709.0</td>\n",
       "      <td>10363.00</td>\n",
       "      <td>16688.840453</td>\n",
       "      <td>16249.00</td>\n",
       "      <td>2911.408666</td>\n",
       "      <td>0.487449</td>\n",
       "      <td>-0.804287</td>\n",
       "    </tr>\n",
       "  </tbody>\n",
       "</table>\n",
       "</div>"
      ],
      "text/plain": [
       "    attributes       min      max      range          mean   mediana  \\\n",
       "0     quantity -80995.00  80995.0  161990.00      9.552250      3.00   \n",
       "1   unit_price -11062.06  38970.0   50032.06      4.611114      2.08   \n",
       "2  customer_id  12346.00  22709.0   10363.00  16688.840453  16249.00   \n",
       "\n",
       "           std        skew       kurtosis  \n",
       "0   218.080957   -0.264076  119769.160031  \n",
       "1    96.759764  186.506972   59005.719097  \n",
       "2  2911.408666    0.487449      -0.804287  "
      ]
     },
     "execution_count": 17,
     "metadata": {},
     "output_type": "execute_result"
    }
   ],
   "source": [
    "# central tendency - mean, median\n",
    "ct1 = pd.DataFrame( num_attributes.apply( np.mean ) ).T\n",
    "ct2 = pd.DataFrame( num_attributes.apply( np.median ) ).T\n",
    "             \n",
    "# dispersion - desvio padrão, minimo, maximo, range, skew, kurtosis\n",
    "d1 = pd.DataFrame( num_attributes.apply( np.std ) ).T\n",
    "d2 = pd.DataFrame( num_attributes.apply( np.min ) ).T\n",
    "d3 = pd.DataFrame( num_attributes.apply( np.max ) ).T\n",
    "d4 = pd.DataFrame( num_attributes.apply( lambda x: x.max() - x.min() ) ).T\n",
    "d5 = pd.DataFrame( num_attributes.apply( lambda x: x.skew() ) ).T\n",
    "d6 = pd.DataFrame( num_attributes.apply( lambda x: x.kurtosis() ) ).T\n",
    "\n",
    "# concatenate\n",
    "m1 = pd.concat( [d2, d3, d4, ct1, ct2, d1, d5, d6] ).T.reset_index()\n",
    "m1.columns = ['attributes', 'min', 'max', 'range', 'mean', 'mediana', 'std', 'skew', 'kurtosis']\n",
    "m1"
   ]
  },
  {
   "cell_type": "markdown",
   "id": "straight-overhead",
   "metadata": {
    "papermill": {
     "duration": 0.154044,
     "end_time": "2021-09-15T01:35:53.088367",
     "exception": false,
     "start_time": "2021-09-15T01:35:52.934323",
     "status": "completed"
    },
    "tags": []
   },
   "source": [
    "### 1.7.2. Categorical Attributs"
   ]
  },
  {
   "cell_type": "markdown",
   "id": "completed-directive",
   "metadata": {
    "papermill": {
     "duration": 0.158719,
     "end_time": "2021-09-15T01:35:53.414559",
     "exception": false,
     "start_time": "2021-09-15T01:35:53.255840",
     "status": "completed"
    },
    "tags": []
   },
   "source": [
    "#### Invoice No"
   ]
  },
  {
   "cell_type": "code",
   "execution_count": 18,
   "id": "private-conducting",
   "metadata": {
    "ExecuteTime": {
     "end_time": "2021-09-14T23:38:59.875795Z",
     "start_time": "2021-09-14T23:38:57.872578Z"
    },
    "execution": {
     "iopub.execute_input": "2021-09-15T01:35:53.724866Z",
     "iopub.status.busy": "2021-09-15T01:35:53.722949Z",
     "iopub.status.idle": "2021-09-15T01:35:55.324177Z",
     "shell.execute_reply": "2021-09-15T01:35:55.325746Z"
    },
    "papermill": {
     "duration": 1.771524,
     "end_time": "2021-09-15T01:35:55.326256",
     "exception": false,
     "start_time": "2021-09-15T01:35:53.554732",
     "status": "completed"
    },
    "tags": []
   },
   "outputs": [
    {
     "name": "stdout",
     "output_type": "stream",
     "text": [
      "Total number of invoices: 9291\n",
      "Total number of negative quantity: 9288\n"
     ]
    }
   ],
   "source": [
    "# problema: Temos invoice com letras e numeros\n",
    "#df1['invoice_no'].astype( int )\n",
    "\n",
    "# identficacao: \n",
    "df_letter_invoices = df1.loc[df1['invoice_no'].apply( lambda x: bool( re.search( '[^0-9]+', x ) ) ), :]\n",
    "df_letter_invoices.head()\n",
    "\n",
    "print( 'Total number of invoices: {}'.format( len( df_letter_invoices ) ) )\n",
    "print( 'Total number of negative quantity: {}'.format( len( df_letter_invoices[ df_letter_invoices['quantity'] < 0 ] ) ) )"
   ]
  },
  {
   "cell_type": "markdown",
   "id": "auburn-parameter",
   "metadata": {
    "papermill": {
     "duration": 0.156195,
     "end_time": "2021-09-15T01:35:55.628882",
     "exception": false,
     "start_time": "2021-09-15T01:35:55.472687",
     "status": "completed"
    },
    "tags": []
   },
   "source": [
    "#### Stock Code"
   ]
  },
  {
   "cell_type": "code",
   "execution_count": 19,
   "id": "hawaiian-classification",
   "metadata": {
    "ExecuteTime": {
     "end_time": "2021-09-14T23:39:02.477039Z",
     "start_time": "2021-09-14T23:39:00.505700Z"
    },
    "execution": {
     "iopub.execute_input": "2021-09-15T01:35:56.006034Z",
     "iopub.status.busy": "2021-09-15T01:35:56.003635Z",
     "iopub.status.idle": "2021-09-15T01:35:57.528180Z",
     "shell.execute_reply": "2021-09-15T01:35:57.526052Z"
    },
    "papermill": {
     "duration": 1.740009,
     "end_time": "2021-09-15T01:35:57.528697",
     "exception": false,
     "start_time": "2021-09-15T01:35:55.788688",
     "status": "completed"
    },
    "tags": []
   },
   "outputs": [
    {
     "data": {
      "text/plain": [
       "array(['POST', 'D', 'DOT', 'M', 'S', 'AMAZONFEE', 'm', 'DCGSSBOY',\n",
       "       'DCGSSGIRL', 'PADS', 'B', 'CRUK'], dtype=object)"
      ]
     },
     "execution_count": 19,
     "metadata": {},
     "output_type": "execute_result"
    }
   ],
   "source": [
    "# check stock codes only characters\n",
    "df1.loc[df1['stock_code'].apply( lambda x: bool( re.search( '^[a-zA-Z]+$', x ) ) ), 'stock_code'].unique()\n",
    "\n",
    "# Acão:\n",
    "## 1. Remove stock_code in ['POST', 'D', 'M', 'PADS', 'DOT', 'CRUK']"
   ]
  },
  {
   "cell_type": "markdown",
   "id": "mexican-strand",
   "metadata": {
    "papermill": {
     "duration": 0.161895,
     "end_time": "2021-09-15T01:35:57.845389",
     "exception": false,
     "start_time": "2021-09-15T01:35:57.683494",
     "status": "completed"
    },
    "tags": []
   },
   "source": [
    "# <font color='red'> 2.0. Filtragem de Variáveis </font>"
   ]
  },
  {
   "cell_type": "code",
   "execution_count": 20,
   "id": "white-debut",
   "metadata": {
    "ExecuteTime": {
     "end_time": "2021-09-14T23:39:02.606423Z",
     "start_time": "2021-09-14T23:39:02.563210Z"
    },
    "execution": {
     "iopub.execute_input": "2021-09-15T01:35:58.142172Z",
     "iopub.status.busy": "2021-09-15T01:35:58.140321Z",
     "iopub.status.idle": "2021-09-15T01:35:58.183345Z",
     "shell.execute_reply": "2021-09-15T01:35:58.184171Z"
    },
    "papermill": {
     "duration": 0.19472,
     "end_time": "2021-09-15T01:35:58.184577",
     "exception": false,
     "start_time": "2021-09-15T01:35:57.989857",
     "status": "completed"
    },
    "tags": []
   },
   "outputs": [],
   "source": [
    "df2 = df1.copy()"
   ]
  },
  {
   "cell_type": "code",
   "execution_count": 21,
   "id": "prescribed-equilibrium",
   "metadata": {
    "ExecuteTime": {
     "end_time": "2021-09-14T23:39:03.014328Z",
     "start_time": "2021-09-14T23:39:02.998841Z"
    },
    "execution": {
     "iopub.execute_input": "2021-09-15T01:35:58.486398Z",
     "iopub.status.busy": "2021-09-15T01:35:58.485185Z",
     "iopub.status.idle": "2021-09-15T01:35:58.489068Z",
     "shell.execute_reply": "2021-09-15T01:35:58.489785Z"
    },
    "papermill": {
     "duration": 0.157729,
     "end_time": "2021-09-15T01:35:58.490059",
     "exception": false,
     "start_time": "2021-09-15T01:35:58.332330",
     "status": "completed"
    },
    "tags": []
   },
   "outputs": [
    {
     "data": {
      "text/plain": [
       "invoice_no              object\n",
       "stock_code              object\n",
       "description             object\n",
       "quantity                 int64\n",
       "invoice_date    datetime64[ns]\n",
       "unit_price             float64\n",
       "country                 object\n",
       "customer_id              int64\n",
       "dtype: object"
      ]
     },
     "execution_count": 21,
     "metadata": {},
     "output_type": "execute_result"
    }
   ],
   "source": [
    "df2.dtypes"
   ]
  },
  {
   "cell_type": "code",
   "execution_count": 22,
   "id": "defensive-first",
   "metadata": {
    "ExecuteTime": {
     "end_time": "2021-09-14T23:39:04.824481Z",
     "start_time": "2021-09-14T23:39:04.267409Z"
    },
    "execution": {
     "iopub.execute_input": "2021-09-15T01:35:58.785084Z",
     "iopub.status.busy": "2021-09-15T01:35:58.784057Z",
     "iopub.status.idle": "2021-09-15T01:35:59.302786Z",
     "shell.execute_reply": "2021-09-15T01:35:59.304874Z"
    },
    "papermill": {
     "duration": 0.668135,
     "end_time": "2021-09-15T01:35:59.305473",
     "exception": false,
     "start_time": "2021-09-15T01:35:58.637338",
     "status": "completed"
    },
    "tags": []
   },
   "outputs": [],
   "source": [
    "# === Numerical attributes ====\n",
    "df2 = df2.loc[df2['unit_price'] >= 0.04, :]\n",
    "\n",
    "# === Categorical attributes ====\n",
    "df2 = df2[~df2['stock_code'].isin( ['POST', 'D', 'DOT', 'M', 'S', 'AMAZONFEE', 'm', 'DCGSSBOY', 'DCGSSGIRL', 'PADS', 'B', 'CRUK'] ) ]\n",
    "\n",
    "# description\n",
    "df2 = df2.drop( columns='description', axis=1 )\n",
    "\n",
    "# map -  \n",
    "df2 = df2[~df2['country'].isin( ['European Community', 'Unspecified' ] ) ]\n",
    "\n",
    "# bad users\n",
    "df2 = df2[~df2['customer_id'].isin( [16446] )]\n",
    "\n",
    "# quantity\n",
    "df2_returns = df2.loc[df1['quantity'] < 0, :]\n",
    "df2_purchases = df2.loc[df1['quantity'] >= 0, :]"
   ]
  },
  {
   "cell_type": "markdown",
   "id": "scientific-munich",
   "metadata": {
    "papermill": {
     "duration": 0.154268,
     "end_time": "2021-09-15T01:35:59.599817",
     "exception": false,
     "start_time": "2021-09-15T01:35:59.445549",
     "status": "completed"
    },
    "tags": []
   },
   "source": [
    "# <font color='red'> 3.0. Feature Engineering </font>"
   ]
  },
  {
   "cell_type": "code",
   "execution_count": 23,
   "id": "fancy-pilot",
   "metadata": {
    "ExecuteTime": {
     "end_time": "2021-09-14T23:39:09.954705Z",
     "start_time": "2021-09-14T23:39:09.911937Z"
    },
    "execution": {
     "iopub.execute_input": "2021-09-15T01:35:59.936572Z",
     "iopub.status.busy": "2021-09-15T01:35:59.935016Z",
     "iopub.status.idle": "2021-09-15T01:35:59.953982Z",
     "shell.execute_reply": "2021-09-15T01:35:59.956022Z"
    },
    "papermill": {
     "duration": 0.214777,
     "end_time": "2021-09-15T01:35:59.956487",
     "exception": false,
     "start_time": "2021-09-15T01:35:59.741710",
     "status": "completed"
    },
    "tags": []
   },
   "outputs": [],
   "source": [
    "df3 = df2.copy()"
   ]
  },
  {
   "cell_type": "markdown",
   "id": "legendary-young",
   "metadata": {
    "papermill": {
     "duration": 0.149892,
     "end_time": "2021-09-15T01:36:00.254930",
     "exception": false,
     "start_time": "2021-09-15T01:36:00.105038",
     "status": "completed"
    },
    "tags": []
   },
   "source": [
    "## 3.1. Feature Creation"
   ]
  },
  {
   "cell_type": "code",
   "execution_count": 24,
   "id": "french-bumper",
   "metadata": {
    "ExecuteTime": {
     "end_time": "2021-09-14T23:41:51.533963Z",
     "start_time": "2021-09-14T23:41:51.473077Z"
    },
    "execution": {
     "iopub.execute_input": "2021-09-15T01:36:00.587850Z",
     "iopub.status.busy": "2021-09-15T01:36:00.586497Z",
     "iopub.status.idle": "2021-09-15T01:36:00.636380Z",
     "shell.execute_reply": "2021-09-15T01:36:00.637229Z"
    },
    "papermill": {
     "duration": 0.236843,
     "end_time": "2021-09-15T01:36:00.637640",
     "exception": false,
     "start_time": "2021-09-15T01:36:00.400797",
     "status": "completed"
    },
    "tags": []
   },
   "outputs": [],
   "source": [
    "# data reference\n",
    "df_ref = df3.drop( ['invoice_no', 'stock_code', 'quantity', 'invoice_date', 'unit_price', 'country'], axis=1 ).drop_duplicates( ignore_index=True )"
   ]
  },
  {
   "cell_type": "code",
   "execution_count": 25,
   "id": "pediatric-backup",
   "metadata": {
    "ExecuteTime": {
     "end_time": "2021-09-14T23:41:51.830811Z",
     "start_time": "2021-09-14T23:41:51.826243Z"
    },
    "execution": {
     "iopub.execute_input": "2021-09-15T01:36:00.970779Z",
     "iopub.status.busy": "2021-09-15T01:36:00.968038Z",
     "iopub.status.idle": "2021-09-15T01:36:00.975386Z",
     "shell.execute_reply": "2021-09-15T01:36:00.976382Z"
    },
    "papermill": {
     "duration": 0.180731,
     "end_time": "2021-09-15T01:36:00.976660",
     "exception": false,
     "start_time": "2021-09-15T01:36:00.795929",
     "status": "completed"
    },
    "tags": []
   },
   "outputs": [
    {
     "data": {
      "text/plain": [
       "(5786, 1)"
      ]
     },
     "execution_count": 25,
     "metadata": {},
     "output_type": "execute_result"
    }
   ],
   "source": [
    "df_ref.shape"
   ]
  },
  {
   "cell_type": "code",
   "execution_count": 26,
   "id": "environmental-anatomy",
   "metadata": {
    "ExecuteTime": {
     "end_time": "2021-09-14T23:41:52.366872Z",
     "start_time": "2021-09-14T23:41:52.348446Z"
    },
    "execution": {
     "iopub.execute_input": "2021-09-15T01:36:01.282682Z",
     "iopub.status.busy": "2021-09-15T01:36:01.281541Z",
     "iopub.status.idle": "2021-09-15T01:36:01.285962Z",
     "shell.execute_reply": "2021-09-15T01:36:01.286705Z"
    },
    "papermill": {
     "duration": 0.160972,
     "end_time": "2021-09-15T01:36:01.287014",
     "exception": false,
     "start_time": "2021-09-15T01:36:01.126042",
     "status": "completed"
    },
    "tags": []
   },
   "outputs": [
    {
     "data": {
      "text/plain": [
       "customer_id    0\n",
       "dtype: int64"
      ]
     },
     "execution_count": 26,
     "metadata": {},
     "output_type": "execute_result"
    }
   ],
   "source": [
    "df_ref.isna().sum()"
   ]
  },
  {
   "cell_type": "markdown",
   "id": "talented-bidder",
   "metadata": {
    "papermill": {
     "duration": 0.159245,
     "end_time": "2021-09-15T01:36:01.590458",
     "exception": false,
     "start_time": "2021-09-15T01:36:01.431213",
     "status": "completed"
    },
    "tags": []
   },
   "source": [
    "### 3.1.1. Gross Revenue"
   ]
  },
  {
   "cell_type": "code",
   "execution_count": 27,
   "id": "certified-cutting",
   "metadata": {
    "ExecuteTime": {
     "end_time": "2021-09-14T23:41:54.324201Z",
     "start_time": "2021-09-14T23:41:54.234659Z"
    },
    "execution": {
     "iopub.execute_input": "2021-09-15T01:36:01.909468Z",
     "iopub.status.busy": "2021-09-15T01:36:01.907629Z",
     "iopub.status.idle": "2021-09-15T01:36:02.014126Z",
     "shell.execute_reply": "2021-09-15T01:36:02.015613Z"
    },
    "papermill": {
     "duration": 0.276253,
     "end_time": "2021-09-15T01:36:02.016169",
     "exception": false,
     "start_time": "2021-09-15T01:36:01.739916",
     "status": "completed"
    },
    "tags": []
   },
   "outputs": [
    {
     "name": "stderr",
     "output_type": "stream",
     "text": [
      "/Users/meigarom.lopes/.pyenv/versions/3.8.0/envs/pa005insidersclustering/lib/python3.8/site-packages/pandas/core/indexing.py:1597: SettingWithCopyWarning: \n",
      "A value is trying to be set on a copy of a slice from a DataFrame.\n",
      "Try using .loc[row_indexer,col_indexer] = value instead\n",
      "\n",
      "See the caveats in the documentation: https://pandas.pydata.org/pandas-docs/stable/user_guide/indexing.html#returning-a-view-versus-a-copy\n",
      "  self.obj[key] = value\n",
      "/Users/meigarom.lopes/.pyenv/versions/3.8.0/envs/pa005insidersclustering/lib/python3.8/site-packages/pandas/core/indexing.py:1676: SettingWithCopyWarning: \n",
      "A value is trying to be set on a copy of a slice from a DataFrame.\n",
      "Try using .loc[row_indexer,col_indexer] = value instead\n",
      "\n",
      "See the caveats in the documentation: https://pandas.pydata.org/pandas-docs/stable/user_guide/indexing.html#returning-a-view-versus-a-copy\n",
      "  self._setitem_single_column(ilocs[0], value, pi)\n"
     ]
    },
    {
     "data": {
      "text/plain": [
       "customer_id       0\n",
       "gross_revenue    91\n",
       "dtype: int64"
      ]
     },
     "execution_count": 27,
     "metadata": {},
     "output_type": "execute_result"
    }
   ],
   "source": [
    "# Gross Revenue ( Faturamento ) quantity * price\n",
    "df2_purchases.loc[:, 'gross_revenue'] = df2_purchases.loc[:, 'quantity'] * df2_purchases.loc[:, 'unit_price']\n",
    "\n",
    "# Monetary\n",
    "df_monetary = df2_purchases.loc[:, ['customer_id', 'gross_revenue']].groupby( 'customer_id' ).sum().reset_index()\n",
    "df_ref = pd.merge( df_ref, df_monetary, on='customer_id', how='left' )\n",
    "df_ref.isna().sum()"
   ]
  },
  {
   "cell_type": "markdown",
   "id": "sonic-trinidad",
   "metadata": {
    "papermill": {
     "duration": 0.155186,
     "end_time": "2021-09-15T01:36:02.311376",
     "exception": false,
     "start_time": "2021-09-15T01:36:02.156190",
     "status": "completed"
    },
    "tags": []
   },
   "source": [
    "### 3.1.2. Recency - Day from last purchase"
   ]
  },
  {
   "cell_type": "code",
   "execution_count": 28,
   "id": "floral-shopping",
   "metadata": {
    "ExecuteTime": {
     "end_time": "2021-09-14T23:41:54.928214Z",
     "start_time": "2021-09-14T23:41:54.831394Z"
    },
    "execution": {
     "iopub.execute_input": "2021-09-15T01:36:02.632186Z",
     "iopub.status.busy": "2021-09-15T01:36:02.630653Z",
     "iopub.status.idle": "2021-09-15T01:36:02.691709Z",
     "shell.execute_reply": "2021-09-15T01:36:02.692894Z"
    },
    "papermill": {
     "duration": 0.240968,
     "end_time": "2021-09-15T01:36:02.693312",
     "exception": false,
     "start_time": "2021-09-15T01:36:02.452344",
     "status": "completed"
    },
    "tags": []
   },
   "outputs": [
    {
     "data": {
      "text/plain": [
       "customer_id       0\n",
       "gross_revenue    91\n",
       "recency_days     91\n",
       "dtype: int64"
      ]
     },
     "execution_count": 28,
     "metadata": {},
     "output_type": "execute_result"
    }
   ],
   "source": [
    "# Recency - Last day purchase\n",
    "df_recency = df2_purchases.loc[:, ['customer_id', 'invoice_date']].groupby( 'customer_id' ).max().reset_index()\n",
    "df_recency['recency_days'] = ( df2['invoice_date'].max() - df_recency['invoice_date'] ).dt.days\n",
    "df_recency = df_recency[['customer_id', 'recency_days']].copy()\n",
    "df_ref = pd.merge( df_ref, df_recency, on='customer_id', how='left' )\n",
    "df_ref.isna().sum()"
   ]
  },
  {
   "cell_type": "markdown",
   "id": "surface-independence",
   "metadata": {
    "papermill": {
     "duration": 0.160312,
     "end_time": "2021-09-15T01:36:03.011144",
     "exception": false,
     "start_time": "2021-09-15T01:36:02.850832",
     "status": "completed"
    },
    "tags": []
   },
   "source": [
    "### 3.1.5. Quantity of products purchased "
   ]
  },
  {
   "cell_type": "code",
   "execution_count": 29,
   "id": "dying-printer",
   "metadata": {
    "ExecuteTime": {
     "end_time": "2021-09-14T23:41:56.911690Z",
     "start_time": "2021-09-14T23:41:56.777879Z"
    },
    "execution": {
     "iopub.execute_input": "2021-09-15T01:36:03.368629Z",
     "iopub.status.busy": "2021-09-15T01:36:03.364814Z",
     "iopub.status.idle": "2021-09-15T01:36:03.479485Z",
     "shell.execute_reply": "2021-09-15T01:36:03.481192Z"
    },
    "papermill": {
     "duration": 0.303476,
     "end_time": "2021-09-15T01:36:03.481598",
     "exception": false,
     "start_time": "2021-09-15T01:36:03.178122",
     "status": "completed"
    },
    "tags": []
   },
   "outputs": [
    {
     "data": {
      "text/plain": [
       "customer_id       0\n",
       "gross_revenue    91\n",
       "recency_days     91\n",
       "qtde_products    91\n",
       "dtype: int64"
      ]
     },
     "execution_count": 29,
     "metadata": {},
     "output_type": "execute_result"
    }
   ],
   "source": [
    "# Numero de produtos\n",
    "df_freq = (df2_purchases.loc[:, ['customer_id', 'stock_code']].groupby( 'customer_id' ).count()\n",
    "                                                           .reset_index()\n",
    "                                                           .rename( columns={'stock_code': 'qtde_products'} ) )\n",
    "df_ref = pd.merge( df_ref, df_freq, on='customer_id', how='left' )\n",
    "df_ref.isna().sum()"
   ]
  },
  {
   "cell_type": "markdown",
   "id": "vertical-recorder",
   "metadata": {
    "papermill": {
     "duration": 0.158616,
     "end_time": "2021-09-15T01:36:03.805725",
     "exception": false,
     "start_time": "2021-09-15T01:36:03.647109",
     "status": "completed"
    },
    "tags": []
   },
   "source": [
    "### 3.1.8. Frequency Purchase "
   ]
  },
  {
   "cell_type": "code",
   "execution_count": 30,
   "id": "cultural-operations",
   "metadata": {
    "ExecuteTime": {
     "end_time": "2021-09-14T23:42:02.227672Z",
     "start_time": "2021-09-14T23:41:58.129922Z"
    },
    "execution": {
     "iopub.execute_input": "2021-09-15T01:36:04.152582Z",
     "iopub.status.busy": "2021-09-15T01:36:04.150981Z",
     "iopub.status.idle": "2021-09-15T01:36:07.334199Z",
     "shell.execute_reply": "2021-09-15T01:36:07.335052Z"
    },
    "papermill": {
     "duration": 3.363051,
     "end_time": "2021-09-15T01:36:07.335425",
     "exception": false,
     "start_time": "2021-09-15T01:36:03.972374",
     "status": "completed"
    },
    "tags": []
   },
   "outputs": [
    {
     "data": {
      "text/plain": [
       "customer_id       0\n",
       "gross_revenue    91\n",
       "recency_days     91\n",
       "qtde_products    91\n",
       "frequency        91\n",
       "dtype: int64"
      ]
     },
     "execution_count": 30,
     "metadata": {},
     "output_type": "execute_result"
    }
   ],
   "source": [
    "df_aux = ( df2_purchases[['customer_id', 'invoice_no', 'invoice_date']].drop_duplicates()\n",
    "                                                             .groupby( 'customer_id')\n",
    "                                                             .agg( max_ = ( 'invoice_date', 'max' ), \n",
    "                                                                   min_ = ( 'invoice_date', 'min' ),\n",
    "                                                                   days_= ( 'invoice_date', lambda x: ( ( x.max() - x.min() ).days ) + 1 ),\n",
    "                                                                   buy_ = ( 'invoice_no', 'count' ) ) ).reset_index()\n",
    "# Frequency\n",
    "df_aux['frequency'] = df_aux[['buy_', 'days_']].apply( lambda x: x['buy_'] / x['days_'] if  x['days_'] != 0 else 0, axis=1 )\n",
    "\n",
    "# Merge\n",
    "df_ref = pd.merge( df_ref, df_aux[['customer_id', 'frequency']], on='customer_id', how='left' )\n",
    "\n",
    "df_ref.isna().sum()"
   ]
  },
  {
   "cell_type": "markdown",
   "id": "celtic-offense",
   "metadata": {
    "papermill": {
     "duration": 0.166769,
     "end_time": "2021-09-15T01:36:07.658181",
     "exception": false,
     "start_time": "2021-09-15T01:36:07.491412",
     "status": "completed"
    },
    "tags": []
   },
   "source": [
    "### 3.1.9. Number of Returns "
   ]
  },
  {
   "cell_type": "code",
   "execution_count": 31,
   "id": "fiscal-course",
   "metadata": {
    "ExecuteTime": {
     "end_time": "2021-09-14T23:42:02.313581Z",
     "start_time": "2021-09-14T23:42:02.233384Z"
    },
    "execution": {
     "iopub.execute_input": "2021-09-15T01:36:07.980072Z",
     "iopub.status.busy": "2021-09-15T01:36:07.978893Z",
     "iopub.status.idle": "2021-09-15T01:36:08.006884Z",
     "shell.execute_reply": "2021-09-15T01:36:08.008329Z"
    },
    "papermill": {
     "duration": 0.195123,
     "end_time": "2021-09-15T01:36:08.009350",
     "exception": false,
     "start_time": "2021-09-15T01:36:07.814227",
     "status": "completed"
    },
    "tags": []
   },
   "outputs": [
    {
     "data": {
      "text/plain": [
       "customer_id       0\n",
       "gross_revenue    91\n",
       "recency_days     91\n",
       "qtde_products    91\n",
       "frequency        91\n",
       "qtde_returns      0\n",
       "dtype: int64"
      ]
     },
     "execution_count": 31,
     "metadata": {},
     "output_type": "execute_result"
    }
   ],
   "source": [
    "# Number of Returns\n",
    "df_returns = df2_returns[['customer_id', 'quantity']].groupby( 'customer_id' ).sum().reset_index().rename( columns={'quantity':'qtde_returns'} )\n",
    "df_returns['qtde_returns'] = df_returns['qtde_returns'] * -1\n",
    "\n",
    "df_ref = pd.merge( df_ref, df_returns, how='left', on='customer_id' )\n",
    "df_ref.loc[df_ref['qtde_returns'].isna(), 'qtde_returns'] = 0\n",
    "\n",
    "df_ref.isna().sum()"
   ]
  },
  {
   "cell_type": "markdown",
   "id": "partial-action",
   "metadata": {
    "papermill": {
     "duration": 0.148404,
     "end_time": "2021-09-15T01:36:08.316305",
     "exception": false,
     "start_time": "2021-09-15T01:36:08.167901",
     "status": "completed"
    },
    "tags": []
   },
   "source": [
    "# <font color='red'> 4.0. EDA ( Exploratory Data Analysis ) </font>"
   ]
  },
  {
   "cell_type": "code",
   "execution_count": 32,
   "id": "sunset-episode",
   "metadata": {
    "ExecuteTime": {
     "end_time": "2021-09-14T23:42:33.696456Z",
     "start_time": "2021-09-14T23:42:33.678430Z"
    },
    "execution": {
     "iopub.execute_input": "2021-09-15T01:36:08.632984Z",
     "iopub.status.busy": "2021-09-15T01:36:08.631813Z",
     "iopub.status.idle": "2021-09-15T01:36:08.645852Z",
     "shell.execute_reply": "2021-09-15T01:36:08.647417Z"
    },
    "papermill": {
     "duration": 0.183135,
     "end_time": "2021-09-15T01:36:08.647871",
     "exception": false,
     "start_time": "2021-09-15T01:36:08.464736",
     "status": "completed"
    },
    "tags": []
   },
   "outputs": [
    {
     "data": {
      "text/plain": [
       "customer_id      0\n",
       "gross_revenue    0\n",
       "recency_days     0\n",
       "qtde_products    0\n",
       "frequency        0\n",
       "qtde_returns     0\n",
       "dtype: int64"
      ]
     },
     "execution_count": 32,
     "metadata": {},
     "output_type": "execute_result"
    }
   ],
   "source": [
    "df4 = df_ref.dropna()\n",
    "df4.isna().sum()"
   ]
  },
  {
   "cell_type": "markdown",
   "id": "placed-likelihood",
   "metadata": {
    "papermill": {
     "duration": 0.164249,
     "end_time": "2021-09-15T01:36:08.968279",
     "exception": false,
     "start_time": "2021-09-15T01:36:08.804030",
     "status": "completed"
    },
    "tags": []
   },
   "source": [
    "## 4.3. Estudo do Espaço"
   ]
  },
  {
   "cell_type": "code",
   "execution_count": 33,
   "id": "wound-aside",
   "metadata": {
    "ExecuteTime": {
     "end_time": "2021-09-14T23:43:50.129178Z",
     "start_time": "2021-09-14T23:43:50.121864Z"
    },
    "execution": {
     "iopub.execute_input": "2021-09-15T01:36:09.282297Z",
     "iopub.status.busy": "2021-09-15T01:36:09.281123Z",
     "iopub.status.idle": "2021-09-15T01:36:09.283664Z",
     "shell.execute_reply": "2021-09-15T01:36:09.284419Z"
    },
    "papermill": {
     "duration": 0.16017,
     "end_time": "2021-09-15T01:36:09.284715",
     "exception": false,
     "start_time": "2021-09-15T01:36:09.124545",
     "status": "completed"
    },
    "tags": []
   },
   "outputs": [],
   "source": [
    "# selected dataset\n",
    "cols_selected = ['customer_id', 'gross_revenue', 'recency_days', 'qtde_products', 'frequency', 'qtde_returns']\n",
    "df43 = df4[ cols_selected ].drop( columns='customer_id', axis=1 )"
   ]
  },
  {
   "cell_type": "code",
   "execution_count": 34,
   "id": "supported-muscle",
   "metadata": {
    "ExecuteTime": {
     "end_time": "2021-09-14T23:44:21.224175Z",
     "start_time": "2021-09-14T23:44:21.173202Z"
    },
    "execution": {
     "iopub.execute_input": "2021-09-15T01:36:09.620168Z",
     "iopub.status.busy": "2021-09-15T01:36:09.617986Z",
     "iopub.status.idle": "2021-09-15T01:36:09.658389Z",
     "shell.execute_reply": "2021-09-15T01:36:09.660769Z"
    },
    "papermill": {
     "duration": 0.227583,
     "end_time": "2021-09-15T01:36:09.661602",
     "exception": false,
     "start_time": "2021-09-15T01:36:09.434019",
     "status": "completed"
    },
    "tags": []
   },
   "outputs": [],
   "source": [
    "mm = pp.MinMaxScaler()\n",
    "\n",
    "df43['gross_revenue'] = mm.fit_transform( df43[['gross_revenue']] )\n",
    "df43['recency_days']  = mm.fit_transform( df43[['recency_days']] )\n",
    "df43['qtde_products'] = mm.fit_transform( df43[['qtde_products']])\n",
    "df43['frequency']     = mm.fit_transform( df43[['frequency']])\n",
    "df43['qtde_returns']  = mm.fit_transform( df43[['qtde_returns']])\n",
    "\n",
    "X = df43.copy()"
   ]
  },
  {
   "cell_type": "code",
   "execution_count": 35,
   "id": "native-watts",
   "metadata": {
    "ExecuteTime": {
     "end_time": "2021-09-14T23:44:38.114956Z",
     "start_time": "2021-09-14T23:44:38.101576Z"
    },
    "execution": {
     "iopub.execute_input": "2021-09-15T01:36:09.982622Z",
     "iopub.status.busy": "2021-09-15T01:36:09.981505Z",
     "iopub.status.idle": "2021-09-15T01:36:09.985541Z",
     "shell.execute_reply": "2021-09-15T01:36:09.986318Z"
    },
    "papermill": {
     "duration": 0.175924,
     "end_time": "2021-09-15T01:36:09.986591",
     "exception": false,
     "start_time": "2021-09-15T01:36:09.810667",
     "status": "completed"
    },
    "tags": []
   },
   "outputs": [
    {
     "data": {
      "text/plain": [
       "(5695, 5)"
      ]
     },
     "execution_count": 35,
     "metadata": {},
     "output_type": "execute_result"
    }
   ],
   "source": [
    "X.shape"
   ]
  },
  {
   "cell_type": "markdown",
   "id": "liberal-grave",
   "metadata": {
    "papermill": {
     "duration": 0.153861,
     "end_time": "2021-09-15T01:36:10.302426",
     "exception": false,
     "start_time": "2021-09-15T01:36:10.148565",
     "status": "completed"
    },
    "tags": []
   },
   "source": [
    "### 4.3.1. PCA"
   ]
  },
  {
   "cell_type": "code",
   "execution_count": 36,
   "id": "undefined-development",
   "metadata": {
    "ExecuteTime": {
     "end_time": "2021-09-14T23:44:40.710081Z",
     "start_time": "2021-09-14T23:44:40.354524Z"
    },
    "execution": {
     "iopub.execute_input": "2021-09-15T01:36:10.638305Z",
     "iopub.status.busy": "2021-09-15T01:36:10.637006Z",
     "iopub.status.idle": "2021-09-15T01:36:10.951771Z",
     "shell.execute_reply": "2021-09-15T01:36:10.952914Z"
    },
    "papermill": {
     "duration": 0.498437,
     "end_time": "2021-09-15T01:36:10.953486",
     "exception": false,
     "start_time": "2021-09-15T01:36:10.455049",
     "status": "completed"
    },
    "tags": []
   },
   "outputs": [
    {
     "data": {
      "image/png": "[encoded data removed]",
      "text/plain": [
       "<Figure size 432x288 with 1 Axes>"
      ]
     },
     "metadata": {
      "needs_background": "light"
     },
     "output_type": "display_data"
    }
   ],
   "source": [
    "pca = dd.PCA( n_components=X.shape[1] )\n",
    "\n",
    "principal_components = pca.fit_transform( X )\n",
    "\n",
    "# plot explained variable\n",
    "features = range( pca.n_components_ )\n",
    "\n",
    "plt.bar( features, pca.explained_variance_ratio_, color='black' )\n",
    "\n",
    "# pca component\n",
    "df_pca = pd.DataFrame( principal_components )"
   ]
  },
  {
   "cell_type": "code",
   "execution_count": 37,
   "id": "ancient-absorption",
   "metadata": {
    "ExecuteTime": {
     "end_time": "2021-09-14T23:44:46.203615Z",
     "start_time": "2021-09-14T23:44:45.812401Z"
    },
    "execution": {
     "iopub.execute_input": "2021-09-15T01:36:11.289196Z",
     "iopub.status.busy": "2021-09-15T01:36:11.287968Z",
     "iopub.status.idle": "2021-09-15T01:36:11.614247Z",
     "shell.execute_reply": "2021-09-15T01:36:11.616523Z"
    },
    "papermill": {
     "duration": 0.501958,
     "end_time": "2021-09-15T01:36:11.617009",
     "exception": false,
     "start_time": "2021-09-15T01:36:11.115051",
     "status": "completed"
    },
    "tags": []
   },
   "outputs": [
    {
     "data": {
      "text/plain": [
       "<AxesSubplot:xlabel='0', ylabel='1'>"
      ]
     },
     "execution_count": 37,
     "metadata": {},
     "output_type": "execute_result"
    },
    {
     "data": {
      "image/png": "[encoded data removed]",
      "text/plain": [
       "<Figure size 432x288 with 1 Axes>"
      ]
     },
     "metadata": {
      "needs_background": "light"
     },
     "output_type": "display_data"
    }
   ],
   "source": [
    "sns.scatterplot( x=0, y=1, data=df_pca )"
   ]
  },
  {
   "cell_type": "markdown",
   "id": "civilian-player",
   "metadata": {
    "papermill": {
     "duration": 0.179085,
     "end_time": "2021-09-15T01:36:11.947778",
     "exception": false,
     "start_time": "2021-09-15T01:36:11.768693",
     "status": "completed"
    },
    "tags": []
   },
   "source": [
    "### 4.3.2. UMAP"
   ]
  },
  {
   "cell_type": "code",
   "execution_count": 38,
   "id": "eligible-investigator",
   "metadata": {
    "ExecuteTime": {
     "end_time": "2021-09-14T23:46:16.339325Z",
     "start_time": "2021-09-14T23:45:11.233289Z"
    },
    "execution": {
     "iopub.execute_input": "2021-09-15T01:36:12.288494Z",
     "iopub.status.busy": "2021-09-15T01:36:12.286992Z",
     "iopub.status.idle": "2021-09-15T01:37:11.996227Z",
     "shell.execute_reply": "2021-09-15T01:37:11.998427Z"
    },
    "papermill": {
     "duration": 59.891694,
     "end_time": "2021-09-15T01:37:11.999507",
     "exception": false,
     "start_time": "2021-09-15T01:36:12.107813",
     "status": "completed"
    },
    "tags": []
   },
   "outputs": [
    {
     "data": {
      "text/plain": [
       "<AxesSubplot:xlabel='embedding_x', ylabel='embedding_y'>"
      ]
     },
     "execution_count": 38,
     "metadata": {},
     "output_type": "execute_result"
    },
    {
     "data": {
      "image/png": "[encoded data removed]",
      "text/plain": [
       "<Figure size 432x288 with 1 Axes>"
      ]
     },
     "metadata": {
      "needs_background": "light"
     },
     "output_type": "display_data"
    }
   ],
   "source": [
    "reducer = umap.UMAP( random_state=42 )\n",
    "embedding = reducer.fit_transform( X )\n",
    "\n",
    "# embedding\n",
    "df_umap = pd.DataFrame()\n",
    "df_umap['embedding_x'] = embedding[:, 0]\n",
    "df_umap['embedding_y'] = embedding[:, 1]\n",
    "\n",
    "# plot UMAP\n",
    "sns.scatterplot( x='embedding_x', \n",
    "                 y='embedding_y', \n",
    "                 data=df_umap )"
   ]
  },
  {
   "cell_type": "markdown",
   "id": "worldwide-leather",
   "metadata": {
    "papermill": {
     "duration": 0.198577,
     "end_time": "2021-09-15T01:37:12.393385",
     "exception": false,
     "start_time": "2021-09-15T01:37:12.194808",
     "status": "completed"
    },
    "tags": []
   },
   "source": [
    "### 4.3.3. t-SNE"
   ]
  },
  {
   "cell_type": "code",
   "execution_count": 39,
   "id": "understanding-birmingham",
   "metadata": {
    "ExecuteTime": {
     "end_time": "2021-09-14T23:48:31.891507Z",
     "start_time": "2021-09-14T23:47:31.637085Z"
    },
    "execution": {
     "iopub.execute_input": "2021-09-15T01:37:12.915911Z",
     "iopub.status.busy": "2021-09-15T01:37:12.914081Z",
     "iopub.status.idle": "2021-09-15T01:37:59.705633Z",
     "shell.execute_reply": "2021-09-15T01:37:59.707494Z"
    },
    "papermill": {
     "duration": 47.123155,
     "end_time": "2021-09-15T01:37:59.708190",
     "exception": false,
     "start_time": "2021-09-15T01:37:12.585035",
     "status": "completed"
    },
    "tags": []
   },
   "outputs": [
    {
     "data": {
      "text/plain": [
       "<AxesSubplot:xlabel='embedding_x', ylabel='embedding_y'>"
      ]
     },
     "execution_count": 39,
     "metadata": {},
     "output_type": "execute_result"
    },
    {
     "data": {
      "image/png": "[encoded data removed]",
      "text/plain": [
       "<Figure size 432x288 with 1 Axes>"
      ]
     },
     "metadata": {
      "needs_background": "light"
     },
     "output_type": "display_data"
    }
   ],
   "source": [
    "reducer = mn.TSNE( n_components=2, n_jobs=-1, random_state=42 )\n",
    "embedding = reducer.fit_transform( X )\n",
    "\n",
    "# embedding\n",
    "df_tsne = pd.DataFrame()\n",
    "df_tsne['embedding_x'] = embedding[:, 0]\n",
    "df_tsne['embedding_y'] = embedding[:, 1]\n",
    "\n",
    "# plot UMAP\n",
    "sns.scatterplot( x='embedding_x', \n",
    "                 y='embedding_y', \n",
    "                 data=df_tsne )"
   ]
  },
  {
   "cell_type": "markdown",
   "id": "large-shape",
   "metadata": {
    "papermill": {
     "duration": 0.329265,
     "end_time": "2021-09-15T01:38:00.263286",
     "exception": false,
     "start_time": "2021-09-15T01:37:59.934021",
     "status": "completed"
    },
    "tags": []
   },
   "source": [
    "### 4.3.4. Tree-Based Embedding"
   ]
  },
  {
   "cell_type": "code",
   "execution_count": 40,
   "id": "ambient-poster",
   "metadata": {
    "execution": {
     "iopub.execute_input": "2021-09-15T01:38:01.037733Z",
     "iopub.status.busy": "2021-09-15T01:38:01.034763Z",
     "iopub.status.idle": "2021-09-15T01:38:01.039832Z",
     "shell.execute_reply": "2021-09-15T01:38:01.041358Z"
    },
    "papermill": {
     "duration": 0.39155,
     "end_time": "2021-09-15T01:38:01.041841",
     "exception": false,
     "start_time": "2021-09-15T01:38:00.650291",
     "status": "completed"
    },
    "tags": []
   },
   "outputs": [],
   "source": [
    "#model = load_picke( 'rf_model.pkl' )\n",
    "#\n",
    "#X1 # 20 new users\n",
    "#\n",
    "#df_leaf = model.apply( X1 )\n",
    "#\n",
    "#KMeans ->"
   ]
  },
  {
   "cell_type": "code",
   "execution_count": 41,
   "id": "assigned-attention",
   "metadata": {
    "ExecuteTime": {
     "end_time": "2021-09-14T23:48:35.453525Z",
     "start_time": "2021-09-14T23:48:31.905368Z"
    },
    "execution": {
     "iopub.execute_input": "2021-09-15T01:38:01.861759Z",
     "iopub.status.busy": "2021-09-15T01:38:01.817993Z",
     "iopub.status.idle": "2021-09-15T01:38:06.119091Z",
     "shell.execute_reply": "2021-09-15T01:38:06.120992Z"
    },
    "papermill": {
     "duration": 4.72964,
     "end_time": "2021-09-15T01:38:06.121701",
     "exception": false,
     "start_time": "2021-09-15T01:38:01.392061",
     "status": "completed"
    },
    "tags": []
   },
   "outputs": [],
   "source": [
    "# training dataset\n",
    "X = df43.drop( columns=['gross_revenue'], axis=1 )\n",
    "y = df43['gross_revenue']\n",
    "\n",
    "# model definition\n",
    "rf_model = en.RandomForestRegressor( n_estimators=100, random_state=42 )\n",
    "\n",
    "# model training\n",
    "rf_model.fit( X, y )\n",
    "\n",
    "# Leaf \n",
    "df_leaf = pd.DataFrame( rf_model.apply( X ) )"
   ]
  },
  {
   "cell_type": "code",
   "execution_count": 42,
   "id": "gorgeous-blocking",
   "metadata": {
    "ExecuteTime": {
     "end_time": "2021-09-14T23:49:00.797747Z",
     "start_time": "2021-09-14T23:48:35.475144Z"
    },
    "execution": {
     "iopub.execute_input": "2021-09-15T01:38:06.676680Z",
     "iopub.status.busy": "2021-09-15T01:38:06.673988Z",
     "iopub.status.idle": "2021-09-15T01:38:37.051397Z",
     "shell.execute_reply": "2021-09-15T01:38:37.053130Z"
    },
    "papermill": {
     "duration": 30.674279,
     "end_time": "2021-09-15T01:38:37.055306",
     "exception": false,
     "start_time": "2021-09-15T01:38:06.381027",
     "status": "completed"
    },
    "tags": []
   },
   "outputs": [
    {
     "name": "stderr",
     "output_type": "stream",
     "text": [
      "/Users/meigarom.lopes/.pyenv/versions/3.8.0/envs/pa005insidersclustering/lib/python3.8/site-packages/sklearn/manifold/_spectral_embedding.py:245: UserWarning: Graph is not fully connected, spectral embedding may not work as expected.\n",
      "  warnings.warn(\"Graph is not fully connected, spectral embedding\"\n"
     ]
    },
    {
     "data": {
      "text/plain": [
       "<AxesSubplot:xlabel='embedding_x', ylabel='embedding_y'>"
      ]
     },
     "execution_count": 42,
     "metadata": {},
     "output_type": "execute_result"
    },
    {
     "data": {
      "image/png": "[encoded data removed]",
      "text/plain": [
       "<Figure size 432x288 with 1 Axes>"
      ]
     },
     "metadata": {
      "needs_background": "light"
     },
     "output_type": "display_data"
    }
   ],
   "source": [
    "# Reduzer dimensionality\n",
    "reducer = umap.UMAP( random_state=42 )\n",
    "embedding = reducer.fit_transform( df_leaf )\n",
    "\n",
    "# embedding\n",
    "df_tree = pd.DataFrame()\n",
    "df_tree['embedding_x'] = embedding[:, 0]\n",
    "df_tree['embedding_y'] = embedding[:, 1]\n",
    "\n",
    "# plot UMAP\n",
    "sns.scatterplot( x='embedding_x', \n",
    "                 y='embedding_y', \n",
    "                 data=df_tree )"
   ]
  },
  {
   "cell_type": "markdown",
   "id": "driven-clearance",
   "metadata": {
    "papermill": {
     "duration": 0.246584,
     "end_time": "2021-09-15T01:38:37.539025",
     "exception": false,
     "start_time": "2021-09-15T01:38:37.292441",
     "status": "completed"
    },
    "tags": []
   },
   "source": [
    "# <font color='red'> 5.0. Data Preparation </font>"
   ]
  },
  {
   "cell_type": "code",
   "execution_count": 43,
   "id": "gothic-somalia",
   "metadata": {
    "ExecuteTime": {
     "end_time": "2021-09-15T00:30:06.193237Z",
     "start_time": "2021-09-15T00:30:06.122370Z"
    },
    "execution": {
     "iopub.execute_input": "2021-09-15T01:38:38.096012Z",
     "iopub.status.busy": "2021-09-15T01:38:38.093585Z",
     "iopub.status.idle": "2021-09-15T01:38:38.098460Z",
     "shell.execute_reply": "2021-09-15T01:38:38.100180Z"
    },
    "papermill": {
     "duration": 0.292658,
     "end_time": "2021-09-15T01:38:38.100754",
     "exception": false,
     "start_time": "2021-09-15T01:38:37.808096",
     "status": "completed"
    },
    "tags": []
   },
   "outputs": [],
   "source": [
    "# Tree-Based Embedding\n",
    "df5 = df_tree.copy()\n",
    "\n",
    "# UMAP Embedding\n",
    "#df5 = df_umap.copy()\n",
    "\n",
    "# TSNE Embedding\n",
    "#df5 = df_tsne.copy()"
   ]
  },
  {
   "cell_type": "markdown",
   "id": "external-miami",
   "metadata": {
    "papermill": {
     "duration": 0.247726,
     "end_time": "2021-09-15T01:38:38.618173",
     "exception": false,
     "start_time": "2021-09-15T01:38:38.370447",
     "status": "completed"
    },
    "tags": []
   },
   "source": [
    "# <font color='red'> 7.0. Hyperparameter Fine-Tunning </font>"
   ]
  },
  {
   "cell_type": "code",
   "execution_count": 44,
   "id": "fallen-squad",
   "metadata": {
    "ExecuteTime": {
     "end_time": "2021-09-15T00:11:56.575498Z",
     "start_time": "2021-09-15T00:11:56.567389Z"
    },
    "execution": {
     "iopub.execute_input": "2021-09-15T01:38:39.138056Z",
     "iopub.status.busy": "2021-09-15T01:38:39.135819Z",
     "iopub.status.idle": "2021-09-15T01:38:39.140320Z",
     "shell.execute_reply": "2021-09-15T01:38:39.141835Z"
    },
    "papermill": {
     "duration": 0.277179,
     "end_time": "2021-09-15T01:38:39.142417",
     "exception": false,
     "start_time": "2021-09-15T01:38:38.865238",
     "status": "completed"
    },
    "tags": []
   },
   "outputs": [],
   "source": [
    "X = df5.copy()"
   ]
  },
  {
   "cell_type": "code",
   "execution_count": 45,
   "id": "moderate-detection",
   "metadata": {
    "ExecuteTime": {
     "end_time": "2021-09-15T00:11:56.745669Z",
     "start_time": "2021-09-15T00:11:56.724116Z"
    },
    "execution": {
     "iopub.execute_input": "2021-09-15T01:38:39.738986Z",
     "iopub.status.busy": "2021-09-15T01:38:39.736073Z",
     "iopub.status.idle": "2021-09-15T01:38:39.744193Z",
     "shell.execute_reply": "2021-09-15T01:38:39.746564Z"
    },
    "papermill": {
     "duration": 0.345315,
     "end_time": "2021-09-15T01:38:39.747242",
     "exception": false,
     "start_time": "2021-09-15T01:38:39.401927",
     "status": "completed"
    },
    "tags": []
   },
   "outputs": [
    {
     "data": {
      "text/html": [
       "<div>\n",
       "<style scoped>\n",
       "    .dataframe tbody tr th:only-of-type {\n",
       "        vertical-align: middle;\n",
       "    }\n",
       "\n",
       "    .dataframe tbody tr th {\n",
       "        vertical-align: top;\n",
       "    }\n",
       "\n",
       "    .dataframe thead th {\n",
       "        text-align: right;\n",
       "    }\n",
       "</style>\n",
       "<table border=\"1\" class=\"dataframe\">\n",
       "  <thead>\n",
       "    <tr style=\"text-align: right;\">\n",
       "      <th></th>\n",
       "      <th>embedding_x</th>\n",
       "      <th>embedding_y</th>\n",
       "    </tr>\n",
       "  </thead>\n",
       "  <tbody>\n",
       "    <tr>\n",
       "      <th>0</th>\n",
       "      <td>2.651807</td>\n",
       "      <td>-11.291454</td>\n",
       "    </tr>\n",
       "    <tr>\n",
       "      <th>1</th>\n",
       "      <td>5.904701</td>\n",
       "      <td>-14.308693</td>\n",
       "    </tr>\n",
       "    <tr>\n",
       "      <th>2</th>\n",
       "      <td>3.371028</td>\n",
       "      <td>-11.466504</td>\n",
       "    </tr>\n",
       "    <tr>\n",
       "      <th>3</th>\n",
       "      <td>-5.798506</td>\n",
       "      <td>14.522200</td>\n",
       "    </tr>\n",
       "    <tr>\n",
       "      <th>4</th>\n",
       "      <td>-8.084079</td>\n",
       "      <td>4.145815</td>\n",
       "    </tr>\n",
       "  </tbody>\n",
       "</table>\n",
       "</div>"
      ],
      "text/plain": [
       "   embedding_x  embedding_y\n",
       "0     2.651807   -11.291454\n",
       "1     5.904701   -14.308693\n",
       "2     3.371028   -11.466504\n",
       "3    -5.798506    14.522200\n",
       "4    -8.084079     4.145815"
      ]
     },
     "execution_count": 45,
     "metadata": {},
     "output_type": "execute_result"
    }
   ],
   "source": [
    "X.head()"
   ]
  },
  {
   "cell_type": "code",
   "execution_count": 46,
   "id": "established-tuesday",
   "metadata": {
    "ExecuteTime": {
     "end_time": "2021-09-15T00:11:56.927758Z",
     "start_time": "2021-09-15T00:11:56.920223Z"
    },
    "execution": {
     "iopub.execute_input": "2021-09-15T01:38:40.377478Z",
     "iopub.status.busy": "2021-09-15T01:38:40.374070Z",
     "iopub.status.idle": "2021-09-15T01:38:40.386736Z",
     "shell.execute_reply": "2021-09-15T01:38:40.388040Z"
    },
    "papermill": {
     "duration": 0.317981,
     "end_time": "2021-09-15T01:38:40.388355",
     "exception": false,
     "start_time": "2021-09-15T01:38:40.070374",
     "status": "completed"
    },
    "tags": []
   },
   "outputs": [
    {
     "data": {
      "text/plain": [
       "array([ 2,  3,  4,  5,  6,  7,  8,  9, 10, 11, 12, 13, 14, 15, 16, 17, 18,\n",
       "       19, 20, 21, 22, 23, 24])"
      ]
     },
     "execution_count": 46,
     "metadata": {},
     "output_type": "execute_result"
    }
   ],
   "source": [
    "#clusters = [2, 3, 4, 5, 6, 7, 8, 9]\n",
    "clusters = np.arange( 2, 25, 1)\n",
    "clusters"
   ]
  },
  {
   "cell_type": "markdown",
   "id": "german-marsh",
   "metadata": {
    "papermill": {
     "duration": 0.277541,
     "end_time": "2021-09-15T01:38:40.994370",
     "exception": false,
     "start_time": "2021-09-15T01:38:40.716829",
     "status": "completed"
    },
    "tags": []
   },
   "source": [
    "## 7.1. K-Means"
   ]
  },
  {
   "cell_type": "code",
   "execution_count": 47,
   "id": "collaborative-proxy",
   "metadata": {
    "ExecuteTime": {
     "end_time": "2021-09-15T00:15:33.548662Z",
     "start_time": "2021-09-15T00:11:57.210591Z"
    },
    "execution": {
     "iopub.execute_input": "2021-09-15T01:38:41.578216Z",
     "iopub.status.busy": "2021-09-15T01:38:41.573507Z",
     "iopub.status.idle": "2021-09-15T01:41:28.121872Z",
     "shell.execute_reply": "2021-09-15T01:41:28.123065Z"
    },
    "papermill": {
     "duration": 166.854219,
     "end_time": "2021-09-15T01:41:28.123584",
     "exception": false,
     "start_time": "2021-09-15T01:38:41.269365",
     "status": "completed"
    },
    "tags": []
   },
   "outputs": [],
   "source": [
    "kmeans_list = []\n",
    "for k in clusters:\n",
    "    # model definition\n",
    "    kmeans_model = c.KMeans( n_clusters=k, n_init=100, random_state=42 )\n",
    "\n",
    "    # model training\n",
    "    kmeans_model.fit( X )\n",
    "\n",
    "    # model predict\n",
    "    labels = kmeans_model.predict( X )\n",
    "\n",
    "    # model performance\n",
    "    sil = m.silhouette_score( X, labels, metric='euclidean' )\n",
    "    kmeans_list.append( sil )"
   ]
  },
  {
   "cell_type": "code",
   "execution_count": 48,
   "id": "environmental-shelf",
   "metadata": {
    "ExecuteTime": {
     "end_time": "2021-09-15T00:15:34.091920Z",
     "start_time": "2021-09-15T00:15:33.559193Z"
    },
    "execution": {
     "iopub.execute_input": "2021-09-15T01:41:28.583462Z",
     "iopub.status.busy": "2021-09-15T01:41:28.513567Z",
     "iopub.status.idle": "2021-09-15T01:41:28.814627Z",
     "shell.execute_reply": "2021-09-15T01:41:28.816492Z"
    },
    "papermill": {
     "duration": 0.522451,
     "end_time": "2021-09-15T01:41:28.817101",
     "exception": false,
     "start_time": "2021-09-15T01:41:28.294650",
     "status": "completed"
    },
    "tags": []
   },
   "outputs": [
    {
     "data": {
      "image/png": "[encoded data removed]",
      "text/plain": [
       "<Figure size 432x288 with 1 Axes>"
      ]
     },
     "metadata": {
      "needs_background": "light"
     },
     "output_type": "display_data"
    }
   ],
   "source": [
    "plt.plot( clusters, kmeans_list, linestyle='--', marker='o', color='b' )\n",
    "plt.xlabel( 'K' );\n",
    "plt.ylabel( 'Silhouette Score' );\n",
    "plt.title( 'Silhouette Score x K' );"
   ]
  },
  {
   "cell_type": "markdown",
   "id": "tropical-protest",
   "metadata": {
    "papermill": {
     "duration": 0.173215,
     "end_time": "2021-09-15T01:41:29.167967",
     "exception": false,
     "start_time": "2021-09-15T01:41:28.994752",
     "status": "completed"
    },
    "tags": []
   },
   "source": [
    "## 7.2. GMM"
   ]
  },
  {
   "cell_type": "code",
   "execution_count": 49,
   "id": "abstract-garage",
   "metadata": {
    "ExecuteTime": {
     "end_time": "2021-09-15T00:18:07.269999Z",
     "start_time": "2021-09-15T00:15:34.101375Z"
    },
    "execution": {
     "iopub.execute_input": "2021-09-15T01:41:29.540580Z",
     "iopub.status.busy": "2021-09-15T01:41:29.539230Z",
     "iopub.status.idle": "2021-09-15T01:43:32.367679Z",
     "shell.execute_reply": "2021-09-15T01:43:32.369763Z"
    },
    "papermill": {
     "duration": 123.023344,
     "end_time": "2021-09-15T01:43:32.370322",
     "exception": false,
     "start_time": "2021-09-15T01:41:29.346978",
     "status": "completed"
    },
    "tags": []
   },
   "outputs": [],
   "source": [
    "gmm_list = []\n",
    "for k in clusters:\n",
    "    # model definition\n",
    "    gmm_model = mx.GaussianMixture( n_components=k, n_init=10, random_state=42 )\n",
    "\n",
    "    # model training\n",
    "    gmm_model.fit( X )\n",
    "\n",
    "    # model predict\n",
    "    labels = gmm_model.predict( X )\n",
    "\n",
    "    # model performance\n",
    "    sil = m.silhouette_score( X, labels, metric='euclidean' )\n",
    "    gmm_list.append( sil )"
   ]
  },
  {
   "cell_type": "code",
   "execution_count": 50,
   "id": "aboriginal-switch",
   "metadata": {
    "ExecuteTime": {
     "end_time": "2021-09-15T00:18:07.697602Z",
     "start_time": "2021-09-15T00:18:07.274947Z"
    },
    "execution": {
     "iopub.execute_input": "2021-09-15T01:43:32.903496Z",
     "iopub.status.busy": "2021-09-15T01:43:32.901422Z",
     "iopub.status.idle": "2021-09-15T01:43:33.146585Z",
     "shell.execute_reply": "2021-09-15T01:43:33.147341Z"
    },
    "papermill": {
     "duration": 0.581637,
     "end_time": "2021-09-15T01:43:33.147691",
     "exception": false,
     "start_time": "2021-09-15T01:43:32.566054",
     "status": "completed"
    },
    "tags": []
   },
   "outputs": [
    {
     "data": {
      "image/png": "[encoded data removed]",
      "text/plain": [
       "<Figure size 432x288 with 1 Axes>"
      ]
     },
     "metadata": {
      "needs_background": "light"
     },
     "output_type": "display_data"
    }
   ],
   "source": [
    "plt.plot( clusters, gmm_list, linestyle='--', marker='o', color='b' )\n",
    "plt.xlabel( 'k');\n",
    "plt.ylabel( 'Silhouette Score');\n",
    "plt.title( 'Sil x K');"
   ]
  },
  {
   "cell_type": "markdown",
   "id": "primary-thursday",
   "metadata": {
    "papermill": {
     "duration": 0.212661,
     "end_time": "2021-09-15T01:43:33.561794",
     "exception": false,
     "start_time": "2021-09-15T01:43:33.349133",
     "status": "completed"
    },
    "tags": []
   },
   "source": [
    "## 7.3. Hierarchical Clustering"
   ]
  },
  {
   "cell_type": "code",
   "execution_count": 51,
   "id": "thirty-values",
   "metadata": {
    "ExecuteTime": {
     "end_time": "2021-09-15T00:18:09.505993Z",
     "start_time": "2021-09-15T00:18:07.702695Z"
    },
    "execution": {
     "iopub.execute_input": "2021-09-15T01:43:34.007855Z",
     "iopub.status.busy": "2021-09-15T01:43:34.005386Z",
     "iopub.status.idle": "2021-09-15T01:43:35.849900Z",
     "shell.execute_reply": "2021-09-15T01:43:35.850661Z"
    },
    "papermill": {
     "duration": 2.065579,
     "end_time": "2021-09-15T01:43:35.851037",
     "exception": false,
     "start_time": "2021-09-15T01:43:33.785458",
     "status": "completed"
    },
    "tags": []
   },
   "outputs": [],
   "source": [
    "# model definition and training\n",
    "hc_model = hc.linkage( X, 'ward' )"
   ]
  },
  {
   "cell_type": "markdown",
   "id": "engaged-employer",
   "metadata": {
    "papermill": {
     "duration": 0.198253,
     "end_time": "2021-09-15T01:43:36.245777",
     "exception": false,
     "start_time": "2021-09-15T01:43:36.047524",
     "status": "completed"
    },
    "tags": []
   },
   "source": [
    "### 7.3.1. HClustering Silhouette Score"
   ]
  },
  {
   "cell_type": "code",
   "execution_count": 52,
   "id": "bearing-senate",
   "metadata": {
    "ExecuteTime": {
     "end_time": "2021-09-15T00:19:15.247420Z",
     "start_time": "2021-09-15T00:18:09.520162Z"
    },
    "execution": {
     "iopub.execute_input": "2021-09-15T01:43:36.655576Z",
     "iopub.status.busy": "2021-09-15T01:43:36.653504Z",
     "iopub.status.idle": "2021-09-15T01:44:47.504970Z",
     "shell.execute_reply": "2021-09-15T01:44:47.505865Z"
    },
    "papermill": {
     "duration": 71.06516,
     "end_time": "2021-09-15T01:44:47.506182",
     "exception": false,
     "start_time": "2021-09-15T01:43:36.441022",
     "status": "completed"
    },
    "tags": []
   },
   "outputs": [],
   "source": [
    "hc_list = []\n",
    "for k in clusters:\n",
    "    # model definition & training\n",
    "    hc_model = hc.linkage( X, 'ward' )\n",
    "\n",
    "    # model predict\n",
    "    labels = hc.fcluster( hc_model, k, criterion='maxclust' )\n",
    "\n",
    "    # metrics\n",
    "    sil = m.silhouette_score( X, labels, metric='euclidean' )\n",
    "    hc_list.append( sil )"
   ]
  },
  {
   "cell_type": "code",
   "execution_count": 53,
   "id": "billion-asian",
   "metadata": {
    "ExecuteTime": {
     "end_time": "2021-09-15T00:19:15.776428Z",
     "start_time": "2021-09-15T00:19:15.252332Z"
    },
    "execution": {
     "iopub.execute_input": "2021-09-15T01:44:47.986406Z",
     "iopub.status.busy": "2021-09-15T01:44:47.983359Z",
     "iopub.status.idle": "2021-09-15T01:44:48.289058Z",
     "shell.execute_reply": "2021-09-15T01:44:48.290247Z"
    },
    "papermill": {
     "duration": 0.587319,
     "end_time": "2021-09-15T01:44:48.290563",
     "exception": false,
     "start_time": "2021-09-15T01:44:47.703244",
     "status": "completed"
    },
    "tags": []
   },
   "outputs": [
    {
     "data": {
      "text/plain": [
       "[<matplotlib.lines.Line2D at 0x15884a760>]"
      ]
     },
     "execution_count": 53,
     "metadata": {},
     "output_type": "execute_result"
    },
    {
     "data": {
      "image/png": "[encoded data removed]",
      "text/plain": [
       "<Figure size 432x288 with 1 Axes>"
      ]
     },
     "metadata": {
      "needs_background": "light"
     },
     "output_type": "display_data"
    }
   ],
   "source": [
    "plt.plot( clusters,  hc_list, linestyle='--', marker='o', color='b' )"
   ]
  },
  {
   "cell_type": "code",
   "execution_count": 54,
   "id": "another-insulation",
   "metadata": {
    "ExecuteTime": {
     "end_time": "2021-09-14T23:58:52.153423Z",
     "start_time": "2021-09-14T23:58:51.953768Z"
    },
    "cell_style": "split",
    "execution": {
     "iopub.execute_input": "2021-09-15T01:44:48.698453Z",
     "iopub.status.busy": "2021-09-15T01:44:48.696445Z",
     "iopub.status.idle": "2021-09-15T01:44:48.877746Z",
     "shell.execute_reply": "2021-09-15T01:44:48.875865Z"
    },
    "papermill": {
     "duration": 0.403981,
     "end_time": "2021-09-15T01:44:48.878357",
     "exception": false,
     "start_time": "2021-09-15T01:44:48.474376",
     "status": "completed"
    },
    "tags": []
   },
   "outputs": [
    {
     "data": {
      "text/html": [
       "<style  type=\"text/css\" >\n",
       "#T_2b194_row0_col21,#T_2b194_row1_col22,#T_2b194_row2_col22{\n",
       "            background-color:  lightgreen;\n",
       "        }</style><table id=\"T_2b194_\" ><thead>    <tr>        <th class=\"blank level0\" ></th>        <th class=\"col_heading level0 col0\" >2</th>        <th class=\"col_heading level0 col1\" >3</th>        <th class=\"col_heading level0 col2\" >4</th>        <th class=\"col_heading level0 col3\" >5</th>        <th class=\"col_heading level0 col4\" >6</th>        <th class=\"col_heading level0 col5\" >7</th>        <th class=\"col_heading level0 col6\" >8</th>        <th class=\"col_heading level0 col7\" >9</th>        <th class=\"col_heading level0 col8\" >10</th>        <th class=\"col_heading level0 col9\" >11</th>        <th class=\"col_heading level0 col10\" >12</th>        <th class=\"col_heading level0 col11\" >13</th>        <th class=\"col_heading level0 col12\" >14</th>        <th class=\"col_heading level0 col13\" >15</th>        <th class=\"col_heading level0 col14\" >16</th>        <th class=\"col_heading level0 col15\" >17</th>        <th class=\"col_heading level0 col16\" >18</th>        <th class=\"col_heading level0 col17\" >19</th>        <th class=\"col_heading level0 col18\" >20</th>        <th class=\"col_heading level0 col19\" >21</th>        <th class=\"col_heading level0 col20\" >22</th>        <th class=\"col_heading level0 col21\" >23</th>        <th class=\"col_heading level0 col22\" >24</th>    </tr></thead><tbody>\n",
       "                <tr>\n",
       "                        <th id=\"T_2b194_level0_row0\" class=\"row_heading level0 row0\" >KMeans</th>\n",
       "                        <td id=\"T_2b194_row0_col0\" class=\"data row0 col0\" >0.384878</td>\n",
       "                        <td id=\"T_2b194_row0_col1\" class=\"data row0 col1\" >0.435276</td>\n",
       "                        <td id=\"T_2b194_row0_col2\" class=\"data row0 col2\" >0.415935</td>\n",
       "                        <td id=\"T_2b194_row0_col3\" class=\"data row0 col3\" >0.413867</td>\n",
       "                        <td id=\"T_2b194_row0_col4\" class=\"data row0 col4\" >0.426120</td>\n",
       "                        <td id=\"T_2b194_row0_col5\" class=\"data row0 col5\" >0.455816</td>\n",
       "                        <td id=\"T_2b194_row0_col6\" class=\"data row0 col6\" >0.467683</td>\n",
       "                        <td id=\"T_2b194_row0_col7\" class=\"data row0 col7\" >0.474953</td>\n",
       "                        <td id=\"T_2b194_row0_col8\" class=\"data row0 col8\" >0.483002</td>\n",
       "                        <td id=\"T_2b194_row0_col9\" class=\"data row0 col9\" >0.506716</td>\n",
       "                        <td id=\"T_2b194_row0_col10\" class=\"data row0 col10\" >0.494112</td>\n",
       "                        <td id=\"T_2b194_row0_col11\" class=\"data row0 col11\" >0.506738</td>\n",
       "                        <td id=\"T_2b194_row0_col12\" class=\"data row0 col12\" >0.516893</td>\n",
       "                        <td id=\"T_2b194_row0_col13\" class=\"data row0 col13\" >0.523964</td>\n",
       "                        <td id=\"T_2b194_row0_col14\" class=\"data row0 col14\" >0.532443</td>\n",
       "                        <td id=\"T_2b194_row0_col15\" class=\"data row0 col15\" >0.536114</td>\n",
       "                        <td id=\"T_2b194_row0_col16\" class=\"data row0 col16\" >0.542866</td>\n",
       "                        <td id=\"T_2b194_row0_col17\" class=\"data row0 col17\" >0.549088</td>\n",
       "                        <td id=\"T_2b194_row0_col18\" class=\"data row0 col18\" >0.553164</td>\n",
       "                        <td id=\"T_2b194_row0_col19\" class=\"data row0 col19\" >0.549008</td>\n",
       "                        <td id=\"T_2b194_row0_col20\" class=\"data row0 col20\" >0.551395</td>\n",
       "                        <td id=\"T_2b194_row0_col21\" class=\"data row0 col21\" >0.566837</td>\n",
       "                        <td id=\"T_2b194_row0_col22\" class=\"data row0 col22\" >0.554462</td>\n",
       "            </tr>\n",
       "            <tr>\n",
       "                        <th id=\"T_2b194_level0_row1\" class=\"row_heading level0 row1\" >GMM</th>\n",
       "                        <td id=\"T_2b194_row1_col0\" class=\"data row1 col0\" >0.373586</td>\n",
       "                        <td id=\"T_2b194_row1_col1\" class=\"data row1 col1\" >0.419229</td>\n",
       "                        <td id=\"T_2b194_row1_col2\" class=\"data row1 col2\" >0.350174</td>\n",
       "                        <td id=\"T_2b194_row1_col3\" class=\"data row1 col3\" >0.366365</td>\n",
       "                        <td id=\"T_2b194_row1_col4\" class=\"data row1 col4\" >0.376614</td>\n",
       "                        <td id=\"T_2b194_row1_col5\" class=\"data row1 col5\" >0.349411</td>\n",
       "                        <td id=\"T_2b194_row1_col6\" class=\"data row1 col6\" >0.369294</td>\n",
       "                        <td id=\"T_2b194_row1_col7\" class=\"data row1 col7\" >0.412470</td>\n",
       "                        <td id=\"T_2b194_row1_col8\" class=\"data row1 col8\" >0.379995</td>\n",
       "                        <td id=\"T_2b194_row1_col9\" class=\"data row1 col9\" >0.421448</td>\n",
       "                        <td id=\"T_2b194_row1_col10\" class=\"data row1 col10\" >0.426783</td>\n",
       "                        <td id=\"T_2b194_row1_col11\" class=\"data row1 col11\" >0.447962</td>\n",
       "                        <td id=\"T_2b194_row1_col12\" class=\"data row1 col12\" >0.391807</td>\n",
       "                        <td id=\"T_2b194_row1_col13\" class=\"data row1 col13\" >0.357913</td>\n",
       "                        <td id=\"T_2b194_row1_col14\" class=\"data row1 col14\" >0.435757</td>\n",
       "                        <td id=\"T_2b194_row1_col15\" class=\"data row1 col15\" >0.432590</td>\n",
       "                        <td id=\"T_2b194_row1_col16\" class=\"data row1 col16\" >0.466358</td>\n",
       "                        <td id=\"T_2b194_row1_col17\" class=\"data row1 col17\" >0.462465</td>\n",
       "                        <td id=\"T_2b194_row1_col18\" class=\"data row1 col18\" >0.438726</td>\n",
       "                        <td id=\"T_2b194_row1_col19\" class=\"data row1 col19\" >0.502377</td>\n",
       "                        <td id=\"T_2b194_row1_col20\" class=\"data row1 col20\" >0.471635</td>\n",
       "                        <td id=\"T_2b194_row1_col21\" class=\"data row1 col21\" >0.497178</td>\n",
       "                        <td id=\"T_2b194_row1_col22\" class=\"data row1 col22\" >0.526851</td>\n",
       "            </tr>\n",
       "            <tr>\n",
       "                        <th id=\"T_2b194_level0_row2\" class=\"row_heading level0 row2\" >HC</th>\n",
       "                        <td id=\"T_2b194_row2_col0\" class=\"data row2 col0\" >0.356498</td>\n",
       "                        <td id=\"T_2b194_row2_col1\" class=\"data row2 col1\" >0.434095</td>\n",
       "                        <td id=\"T_2b194_row2_col2\" class=\"data row2 col2\" >0.406597</td>\n",
       "                        <td id=\"T_2b194_row2_col3\" class=\"data row2 col3\" >0.399741</td>\n",
       "                        <td id=\"T_2b194_row2_col4\" class=\"data row2 col4\" >0.405392</td>\n",
       "                        <td id=\"T_2b194_row2_col5\" class=\"data row2 col5\" >0.425592</td>\n",
       "                        <td id=\"T_2b194_row2_col6\" class=\"data row2 col6\" >0.435218</td>\n",
       "                        <td id=\"T_2b194_row2_col7\" class=\"data row2 col7\" >0.431544</td>\n",
       "                        <td id=\"T_2b194_row2_col8\" class=\"data row2 col8\" >0.453526</td>\n",
       "                        <td id=\"T_2b194_row2_col9\" class=\"data row2 col9\" >0.473803</td>\n",
       "                        <td id=\"T_2b194_row2_col10\" class=\"data row2 col10\" >0.483710</td>\n",
       "                        <td id=\"T_2b194_row2_col11\" class=\"data row2 col11\" >0.479540</td>\n",
       "                        <td id=\"T_2b194_row2_col12\" class=\"data row2 col12\" >0.488032</td>\n",
       "                        <td id=\"T_2b194_row2_col13\" class=\"data row2 col13\" >0.494947</td>\n",
       "                        <td id=\"T_2b194_row2_col14\" class=\"data row2 col14\" >0.512086</td>\n",
       "                        <td id=\"T_2b194_row2_col15\" class=\"data row2 col15\" >0.519452</td>\n",
       "                        <td id=\"T_2b194_row2_col16\" class=\"data row2 col16\" >0.524149</td>\n",
       "                        <td id=\"T_2b194_row2_col17\" class=\"data row2 col17\" >0.533170</td>\n",
       "                        <td id=\"T_2b194_row2_col18\" class=\"data row2 col18\" >0.538828</td>\n",
       "                        <td id=\"T_2b194_row2_col19\" class=\"data row2 col19\" >0.542747</td>\n",
       "                        <td id=\"T_2b194_row2_col20\" class=\"data row2 col20\" >0.544609</td>\n",
       "                        <td id=\"T_2b194_row2_col21\" class=\"data row2 col21\" >0.551538</td>\n",
       "                        <td id=\"T_2b194_row2_col22\" class=\"data row2 col22\" >0.554107</td>\n",
       "            </tr>\n",
       "    </tbody></table>"
      ],
      "text/plain": [
       "<pandas.io.formats.style.Styler at 0x15751f940>"
      ]
     },
     "execution_count": 54,
     "metadata": {},
     "output_type": "execute_result"
    }
   ],
   "source": [
    "## 7.5. Results - Tree Based Embedding\n",
    "\n",
    "df_results = pd.DataFrame( \n",
    "    {'KMeans': kmeans_list, \n",
    "     'GMM': gmm_list, \n",
    "     'HC': hc_list}\n",
    ").T\n",
    "\n",
    "df_results.columns = clusters\n",
    "df_results.style.highlight_max( color='lightgreen', axis=1 )"
   ]
  },
  {
   "cell_type": "code",
   "execution_count": 55,
   "id": "tight-facility",
   "metadata": {
    "ExecuteTime": {
     "end_time": "2021-09-15T00:19:15.903309Z",
     "start_time": "2021-09-15T00:19:15.782467Z"
    },
    "cell_style": "split",
    "execution": {
     "iopub.execute_input": "2021-09-15T01:44:49.401862Z",
     "iopub.status.busy": "2021-09-15T01:44:49.400209Z",
     "iopub.status.idle": "2021-09-15T01:44:49.406397Z",
     "shell.execute_reply": "2021-09-15T01:44:49.407572Z"
    },
    "papermill": {
     "duration": 0.312424,
     "end_time": "2021-09-15T01:44:49.408216",
     "exception": false,
     "start_time": "2021-09-15T01:44:49.095792",
     "status": "completed"
    },
    "tags": []
   },
   "outputs": [
    {
     "data": {
      "text/html": [
       "<style  type=\"text/css\" >\n",
       "#T_7f332_row0_col21,#T_7f332_row1_col22,#T_7f332_row2_col22{\n",
       "            background-color:  lightgreen;\n",
       "        }</style><table id=\"T_7f332_\" ><thead>    <tr>        <th class=\"blank level0\" ></th>        <th class=\"col_heading level0 col0\" >2</th>        <th class=\"col_heading level0 col1\" >3</th>        <th class=\"col_heading level0 col2\" >4</th>        <th class=\"col_heading level0 col3\" >5</th>        <th class=\"col_heading level0 col4\" >6</th>        <th class=\"col_heading level0 col5\" >7</th>        <th class=\"col_heading level0 col6\" >8</th>        <th class=\"col_heading level0 col7\" >9</th>        <th class=\"col_heading level0 col8\" >10</th>        <th class=\"col_heading level0 col9\" >11</th>        <th class=\"col_heading level0 col10\" >12</th>        <th class=\"col_heading level0 col11\" >13</th>        <th class=\"col_heading level0 col12\" >14</th>        <th class=\"col_heading level0 col13\" >15</th>        <th class=\"col_heading level0 col14\" >16</th>        <th class=\"col_heading level0 col15\" >17</th>        <th class=\"col_heading level0 col16\" >18</th>        <th class=\"col_heading level0 col17\" >19</th>        <th class=\"col_heading level0 col18\" >20</th>        <th class=\"col_heading level0 col19\" >21</th>        <th class=\"col_heading level0 col20\" >22</th>        <th class=\"col_heading level0 col21\" >23</th>        <th class=\"col_heading level0 col22\" >24</th>    </tr></thead><tbody>\n",
       "                <tr>\n",
       "                        <th id=\"T_7f332_level0_row0\" class=\"row_heading level0 row0\" >KMeans</th>\n",
       "                        <td id=\"T_7f332_row0_col0\" class=\"data row0 col0\" >0.384878</td>\n",
       "                        <td id=\"T_7f332_row0_col1\" class=\"data row0 col1\" >0.435276</td>\n",
       "                        <td id=\"T_7f332_row0_col2\" class=\"data row0 col2\" >0.415935</td>\n",
       "                        <td id=\"T_7f332_row0_col3\" class=\"data row0 col3\" >0.413867</td>\n",
       "                        <td id=\"T_7f332_row0_col4\" class=\"data row0 col4\" >0.426120</td>\n",
       "                        <td id=\"T_7f332_row0_col5\" class=\"data row0 col5\" >0.455816</td>\n",
       "                        <td id=\"T_7f332_row0_col6\" class=\"data row0 col6\" >0.467683</td>\n",
       "                        <td id=\"T_7f332_row0_col7\" class=\"data row0 col7\" >0.474953</td>\n",
       "                        <td id=\"T_7f332_row0_col8\" class=\"data row0 col8\" >0.483002</td>\n",
       "                        <td id=\"T_7f332_row0_col9\" class=\"data row0 col9\" >0.506716</td>\n",
       "                        <td id=\"T_7f332_row0_col10\" class=\"data row0 col10\" >0.494112</td>\n",
       "                        <td id=\"T_7f332_row0_col11\" class=\"data row0 col11\" >0.506738</td>\n",
       "                        <td id=\"T_7f332_row0_col12\" class=\"data row0 col12\" >0.516893</td>\n",
       "                        <td id=\"T_7f332_row0_col13\" class=\"data row0 col13\" >0.523964</td>\n",
       "                        <td id=\"T_7f332_row0_col14\" class=\"data row0 col14\" >0.532443</td>\n",
       "                        <td id=\"T_7f332_row0_col15\" class=\"data row0 col15\" >0.536114</td>\n",
       "                        <td id=\"T_7f332_row0_col16\" class=\"data row0 col16\" >0.542866</td>\n",
       "                        <td id=\"T_7f332_row0_col17\" class=\"data row0 col17\" >0.549088</td>\n",
       "                        <td id=\"T_7f332_row0_col18\" class=\"data row0 col18\" >0.553164</td>\n",
       "                        <td id=\"T_7f332_row0_col19\" class=\"data row0 col19\" >0.549008</td>\n",
       "                        <td id=\"T_7f332_row0_col20\" class=\"data row0 col20\" >0.551395</td>\n",
       "                        <td id=\"T_7f332_row0_col21\" class=\"data row0 col21\" >0.566837</td>\n",
       "                        <td id=\"T_7f332_row0_col22\" class=\"data row0 col22\" >0.554462</td>\n",
       "            </tr>\n",
       "            <tr>\n",
       "                        <th id=\"T_7f332_level0_row1\" class=\"row_heading level0 row1\" >GMM</th>\n",
       "                        <td id=\"T_7f332_row1_col0\" class=\"data row1 col0\" >0.373586</td>\n",
       "                        <td id=\"T_7f332_row1_col1\" class=\"data row1 col1\" >0.419229</td>\n",
       "                        <td id=\"T_7f332_row1_col2\" class=\"data row1 col2\" >0.350174</td>\n",
       "                        <td id=\"T_7f332_row1_col3\" class=\"data row1 col3\" >0.366365</td>\n",
       "                        <td id=\"T_7f332_row1_col4\" class=\"data row1 col4\" >0.376614</td>\n",
       "                        <td id=\"T_7f332_row1_col5\" class=\"data row1 col5\" >0.349411</td>\n",
       "                        <td id=\"T_7f332_row1_col6\" class=\"data row1 col6\" >0.369294</td>\n",
       "                        <td id=\"T_7f332_row1_col7\" class=\"data row1 col7\" >0.412470</td>\n",
       "                        <td id=\"T_7f332_row1_col8\" class=\"data row1 col8\" >0.379995</td>\n",
       "                        <td id=\"T_7f332_row1_col9\" class=\"data row1 col9\" >0.421448</td>\n",
       "                        <td id=\"T_7f332_row1_col10\" class=\"data row1 col10\" >0.426783</td>\n",
       "                        <td id=\"T_7f332_row1_col11\" class=\"data row1 col11\" >0.447962</td>\n",
       "                        <td id=\"T_7f332_row1_col12\" class=\"data row1 col12\" >0.391807</td>\n",
       "                        <td id=\"T_7f332_row1_col13\" class=\"data row1 col13\" >0.357913</td>\n",
       "                        <td id=\"T_7f332_row1_col14\" class=\"data row1 col14\" >0.435757</td>\n",
       "                        <td id=\"T_7f332_row1_col15\" class=\"data row1 col15\" >0.432590</td>\n",
       "                        <td id=\"T_7f332_row1_col16\" class=\"data row1 col16\" >0.466358</td>\n",
       "                        <td id=\"T_7f332_row1_col17\" class=\"data row1 col17\" >0.462465</td>\n",
       "                        <td id=\"T_7f332_row1_col18\" class=\"data row1 col18\" >0.438726</td>\n",
       "                        <td id=\"T_7f332_row1_col19\" class=\"data row1 col19\" >0.502377</td>\n",
       "                        <td id=\"T_7f332_row1_col20\" class=\"data row1 col20\" >0.471635</td>\n",
       "                        <td id=\"T_7f332_row1_col21\" class=\"data row1 col21\" >0.497178</td>\n",
       "                        <td id=\"T_7f332_row1_col22\" class=\"data row1 col22\" >0.526851</td>\n",
       "            </tr>\n",
       "            <tr>\n",
       "                        <th id=\"T_7f332_level0_row2\" class=\"row_heading level0 row2\" >HC</th>\n",
       "                        <td id=\"T_7f332_row2_col0\" class=\"data row2 col0\" >0.356498</td>\n",
       "                        <td id=\"T_7f332_row2_col1\" class=\"data row2 col1\" >0.434095</td>\n",
       "                        <td id=\"T_7f332_row2_col2\" class=\"data row2 col2\" >0.406597</td>\n",
       "                        <td id=\"T_7f332_row2_col3\" class=\"data row2 col3\" >0.399741</td>\n",
       "                        <td id=\"T_7f332_row2_col4\" class=\"data row2 col4\" >0.405392</td>\n",
       "                        <td id=\"T_7f332_row2_col5\" class=\"data row2 col5\" >0.425592</td>\n",
       "                        <td id=\"T_7f332_row2_col6\" class=\"data row2 col6\" >0.435218</td>\n",
       "                        <td id=\"T_7f332_row2_col7\" class=\"data row2 col7\" >0.431544</td>\n",
       "                        <td id=\"T_7f332_row2_col8\" class=\"data row2 col8\" >0.453526</td>\n",
       "                        <td id=\"T_7f332_row2_col9\" class=\"data row2 col9\" >0.473803</td>\n",
       "                        <td id=\"T_7f332_row2_col10\" class=\"data row2 col10\" >0.483710</td>\n",
       "                        <td id=\"T_7f332_row2_col11\" class=\"data row2 col11\" >0.479540</td>\n",
       "                        <td id=\"T_7f332_row2_col12\" class=\"data row2 col12\" >0.488032</td>\n",
       "                        <td id=\"T_7f332_row2_col13\" class=\"data row2 col13\" >0.494947</td>\n",
       "                        <td id=\"T_7f332_row2_col14\" class=\"data row2 col14\" >0.512086</td>\n",
       "                        <td id=\"T_7f332_row2_col15\" class=\"data row2 col15\" >0.519452</td>\n",
       "                        <td id=\"T_7f332_row2_col16\" class=\"data row2 col16\" >0.524149</td>\n",
       "                        <td id=\"T_7f332_row2_col17\" class=\"data row2 col17\" >0.533170</td>\n",
       "                        <td id=\"T_7f332_row2_col18\" class=\"data row2 col18\" >0.538828</td>\n",
       "                        <td id=\"T_7f332_row2_col19\" class=\"data row2 col19\" >0.542747</td>\n",
       "                        <td id=\"T_7f332_row2_col20\" class=\"data row2 col20\" >0.544609</td>\n",
       "                        <td id=\"T_7f332_row2_col21\" class=\"data row2 col21\" >0.551538</td>\n",
       "                        <td id=\"T_7f332_row2_col22\" class=\"data row2 col22\" >0.554107</td>\n",
       "            </tr>\n",
       "    </tbody></table>"
      ],
      "text/plain": [
       "<pandas.io.formats.style.Styler at 0x1587c4a00>"
      ]
     },
     "execution_count": 55,
     "metadata": {},
     "output_type": "execute_result"
    }
   ],
   "source": [
    "## 7.6. Results - UMAP Embedding\n",
    "\n",
    "df_results = pd.DataFrame( \n",
    "    {'KMeans': kmeans_list, \n",
    "     'GMM': gmm_list, \n",
    "     'HC': hc_list}\n",
    ").T\n",
    "\n",
    "df_results.columns = clusters\n",
    "df_results.style.highlight_max( color='lightgreen', axis=1 )"
   ]
  },
  {
   "cell_type": "code",
   "execution_count": 56,
   "id": "passive-economics",
   "metadata": {
    "ExecuteTime": {
     "end_time": "2021-09-15T00:19:15.903309Z",
     "start_time": "2021-09-15T00:19:15.782467Z"
    },
    "cell_style": "split",
    "execution": {
     "iopub.execute_input": "2021-09-15T01:44:49.989158Z",
     "iopub.status.busy": "2021-09-15T01:44:49.987805Z",
     "iopub.status.idle": "2021-09-15T01:44:49.992585Z",
     "shell.execute_reply": "2021-09-15T01:44:49.993796Z"
    },
    "papermill": {
     "duration": 0.342776,
     "end_time": "2021-09-15T01:44:49.994129",
     "exception": false,
     "start_time": "2021-09-15T01:44:49.651353",
     "status": "completed"
    },
    "tags": []
   },
   "outputs": [
    {
     "data": {
      "text/html": [
       "<style  type=\"text/css\" >\n",
       "#T_729a2_row0_col21,#T_729a2_row1_col22,#T_729a2_row2_col22{\n",
       "            background-color:  lightgreen;\n",
       "        }</style><table id=\"T_729a2_\" ><thead>    <tr>        <th class=\"blank level0\" ></th>        <th class=\"col_heading level0 col0\" >2</th>        <th class=\"col_heading level0 col1\" >3</th>        <th class=\"col_heading level0 col2\" >4</th>        <th class=\"col_heading level0 col3\" >5</th>        <th class=\"col_heading level0 col4\" >6</th>        <th class=\"col_heading level0 col5\" >7</th>        <th class=\"col_heading level0 col6\" >8</th>        <th class=\"col_heading level0 col7\" >9</th>        <th class=\"col_heading level0 col8\" >10</th>        <th class=\"col_heading level0 col9\" >11</th>        <th class=\"col_heading level0 col10\" >12</th>        <th class=\"col_heading level0 col11\" >13</th>        <th class=\"col_heading level0 col12\" >14</th>        <th class=\"col_heading level0 col13\" >15</th>        <th class=\"col_heading level0 col14\" >16</th>        <th class=\"col_heading level0 col15\" >17</th>        <th class=\"col_heading level0 col16\" >18</th>        <th class=\"col_heading level0 col17\" >19</th>        <th class=\"col_heading level0 col18\" >20</th>        <th class=\"col_heading level0 col19\" >21</th>        <th class=\"col_heading level0 col20\" >22</th>        <th class=\"col_heading level0 col21\" >23</th>        <th class=\"col_heading level0 col22\" >24</th>    </tr></thead><tbody>\n",
       "                <tr>\n",
       "                        <th id=\"T_729a2_level0_row0\" class=\"row_heading level0 row0\" >KMeans</th>\n",
       "                        <td id=\"T_729a2_row0_col0\" class=\"data row0 col0\" >0.384878</td>\n",
       "                        <td id=\"T_729a2_row0_col1\" class=\"data row0 col1\" >0.435276</td>\n",
       "                        <td id=\"T_729a2_row0_col2\" class=\"data row0 col2\" >0.415935</td>\n",
       "                        <td id=\"T_729a2_row0_col3\" class=\"data row0 col3\" >0.413867</td>\n",
       "                        <td id=\"T_729a2_row0_col4\" class=\"data row0 col4\" >0.426120</td>\n",
       "                        <td id=\"T_729a2_row0_col5\" class=\"data row0 col5\" >0.455816</td>\n",
       "                        <td id=\"T_729a2_row0_col6\" class=\"data row0 col6\" >0.467683</td>\n",
       "                        <td id=\"T_729a2_row0_col7\" class=\"data row0 col7\" >0.474953</td>\n",
       "                        <td id=\"T_729a2_row0_col8\" class=\"data row0 col8\" >0.483002</td>\n",
       "                        <td id=\"T_729a2_row0_col9\" class=\"data row0 col9\" >0.506716</td>\n",
       "                        <td id=\"T_729a2_row0_col10\" class=\"data row0 col10\" >0.494112</td>\n",
       "                        <td id=\"T_729a2_row0_col11\" class=\"data row0 col11\" >0.506738</td>\n",
       "                        <td id=\"T_729a2_row0_col12\" class=\"data row0 col12\" >0.516893</td>\n",
       "                        <td id=\"T_729a2_row0_col13\" class=\"data row0 col13\" >0.523964</td>\n",
       "                        <td id=\"T_729a2_row0_col14\" class=\"data row0 col14\" >0.532443</td>\n",
       "                        <td id=\"T_729a2_row0_col15\" class=\"data row0 col15\" >0.536114</td>\n",
       "                        <td id=\"T_729a2_row0_col16\" class=\"data row0 col16\" >0.542866</td>\n",
       "                        <td id=\"T_729a2_row0_col17\" class=\"data row0 col17\" >0.549088</td>\n",
       "                        <td id=\"T_729a2_row0_col18\" class=\"data row0 col18\" >0.553164</td>\n",
       "                        <td id=\"T_729a2_row0_col19\" class=\"data row0 col19\" >0.549008</td>\n",
       "                        <td id=\"T_729a2_row0_col20\" class=\"data row0 col20\" >0.551395</td>\n",
       "                        <td id=\"T_729a2_row0_col21\" class=\"data row0 col21\" >0.566837</td>\n",
       "                        <td id=\"T_729a2_row0_col22\" class=\"data row0 col22\" >0.554462</td>\n",
       "            </tr>\n",
       "            <tr>\n",
       "                        <th id=\"T_729a2_level0_row1\" class=\"row_heading level0 row1\" >GMM</th>\n",
       "                        <td id=\"T_729a2_row1_col0\" class=\"data row1 col0\" >0.373586</td>\n",
       "                        <td id=\"T_729a2_row1_col1\" class=\"data row1 col1\" >0.419229</td>\n",
       "                        <td id=\"T_729a2_row1_col2\" class=\"data row1 col2\" >0.350174</td>\n",
       "                        <td id=\"T_729a2_row1_col3\" class=\"data row1 col3\" >0.366365</td>\n",
       "                        <td id=\"T_729a2_row1_col4\" class=\"data row1 col4\" >0.376614</td>\n",
       "                        <td id=\"T_729a2_row1_col5\" class=\"data row1 col5\" >0.349411</td>\n",
       "                        <td id=\"T_729a2_row1_col6\" class=\"data row1 col6\" >0.369294</td>\n",
       "                        <td id=\"T_729a2_row1_col7\" class=\"data row1 col7\" >0.412470</td>\n",
       "                        <td id=\"T_729a2_row1_col8\" class=\"data row1 col8\" >0.379995</td>\n",
       "                        <td id=\"T_729a2_row1_col9\" class=\"data row1 col9\" >0.421448</td>\n",
       "                        <td id=\"T_729a2_row1_col10\" class=\"data row1 col10\" >0.426783</td>\n",
       "                        <td id=\"T_729a2_row1_col11\" class=\"data row1 col11\" >0.447962</td>\n",
       "                        <td id=\"T_729a2_row1_col12\" class=\"data row1 col12\" >0.391807</td>\n",
       "                        <td id=\"T_729a2_row1_col13\" class=\"data row1 col13\" >0.357913</td>\n",
       "                        <td id=\"T_729a2_row1_col14\" class=\"data row1 col14\" >0.435757</td>\n",
       "                        <td id=\"T_729a2_row1_col15\" class=\"data row1 col15\" >0.432590</td>\n",
       "                        <td id=\"T_729a2_row1_col16\" class=\"data row1 col16\" >0.466358</td>\n",
       "                        <td id=\"T_729a2_row1_col17\" class=\"data row1 col17\" >0.462465</td>\n",
       "                        <td id=\"T_729a2_row1_col18\" class=\"data row1 col18\" >0.438726</td>\n",
       "                        <td id=\"T_729a2_row1_col19\" class=\"data row1 col19\" >0.502377</td>\n",
       "                        <td id=\"T_729a2_row1_col20\" class=\"data row1 col20\" >0.471635</td>\n",
       "                        <td id=\"T_729a2_row1_col21\" class=\"data row1 col21\" >0.497178</td>\n",
       "                        <td id=\"T_729a2_row1_col22\" class=\"data row1 col22\" >0.526851</td>\n",
       "            </tr>\n",
       "            <tr>\n",
       "                        <th id=\"T_729a2_level0_row2\" class=\"row_heading level0 row2\" >HC</th>\n",
       "                        <td id=\"T_729a2_row2_col0\" class=\"data row2 col0\" >0.356498</td>\n",
       "                        <td id=\"T_729a2_row2_col1\" class=\"data row2 col1\" >0.434095</td>\n",
       "                        <td id=\"T_729a2_row2_col2\" class=\"data row2 col2\" >0.406597</td>\n",
       "                        <td id=\"T_729a2_row2_col3\" class=\"data row2 col3\" >0.399741</td>\n",
       "                        <td id=\"T_729a2_row2_col4\" class=\"data row2 col4\" >0.405392</td>\n",
       "                        <td id=\"T_729a2_row2_col5\" class=\"data row2 col5\" >0.425592</td>\n",
       "                        <td id=\"T_729a2_row2_col6\" class=\"data row2 col6\" >0.435218</td>\n",
       "                        <td id=\"T_729a2_row2_col7\" class=\"data row2 col7\" >0.431544</td>\n",
       "                        <td id=\"T_729a2_row2_col8\" class=\"data row2 col8\" >0.453526</td>\n",
       "                        <td id=\"T_729a2_row2_col9\" class=\"data row2 col9\" >0.473803</td>\n",
       "                        <td id=\"T_729a2_row2_col10\" class=\"data row2 col10\" >0.483710</td>\n",
       "                        <td id=\"T_729a2_row2_col11\" class=\"data row2 col11\" >0.479540</td>\n",
       "                        <td id=\"T_729a2_row2_col12\" class=\"data row2 col12\" >0.488032</td>\n",
       "                        <td id=\"T_729a2_row2_col13\" class=\"data row2 col13\" >0.494947</td>\n",
       "                        <td id=\"T_729a2_row2_col14\" class=\"data row2 col14\" >0.512086</td>\n",
       "                        <td id=\"T_729a2_row2_col15\" class=\"data row2 col15\" >0.519452</td>\n",
       "                        <td id=\"T_729a2_row2_col16\" class=\"data row2 col16\" >0.524149</td>\n",
       "                        <td id=\"T_729a2_row2_col17\" class=\"data row2 col17\" >0.533170</td>\n",
       "                        <td id=\"T_729a2_row2_col18\" class=\"data row2 col18\" >0.538828</td>\n",
       "                        <td id=\"T_729a2_row2_col19\" class=\"data row2 col19\" >0.542747</td>\n",
       "                        <td id=\"T_729a2_row2_col20\" class=\"data row2 col20\" >0.544609</td>\n",
       "                        <td id=\"T_729a2_row2_col21\" class=\"data row2 col21\" >0.551538</td>\n",
       "                        <td id=\"T_729a2_row2_col22\" class=\"data row2 col22\" >0.554107</td>\n",
       "            </tr>\n",
       "    </tbody></table>"
      ],
      "text/plain": [
       "<pandas.io.formats.style.Styler at 0x1587eac70>"
      ]
     },
     "execution_count": 56,
     "metadata": {},
     "output_type": "execute_result"
    }
   ],
   "source": [
    "## 7.7. Results - TSNE Embedding\n",
    "\n",
    "df_results = pd.DataFrame( \n",
    "    {'KMeans': kmeans_list, \n",
    "     'GMM': gmm_list, \n",
    "     'HC': hc_list}\n",
    ").T\n",
    "\n",
    "df_results.columns = clusters\n",
    "df_results.style.highlight_max( color='lightgreen', axis=1 )"
   ]
  },
  {
   "cell_type": "markdown",
   "id": "statistical-diameter",
   "metadata": {
    "papermill": {
     "duration": 0.242554,
     "end_time": "2021-09-15T01:44:50.440772",
     "exception": false,
     "start_time": "2021-09-15T01:44:50.198218",
     "status": "completed"
    },
    "tags": []
   },
   "source": [
    "# <font color='red'> 8.0. Model Training </font>"
   ]
  },
  {
   "cell_type": "markdown",
   "id": "horizontal-lunch",
   "metadata": {
    "papermill": {
     "duration": 0.227237,
     "end_time": "2021-09-15T01:44:50.890354",
     "exception": false,
     "start_time": "2021-09-15T01:44:50.663117",
     "status": "completed"
    },
    "tags": []
   },
   "source": [
    "## 8.1. Final model"
   ]
  },
  {
   "cell_type": "code",
   "execution_count": 57,
   "id": "prepared-venue",
   "metadata": {
    "ExecuteTime": {
     "end_time": "2021-09-15T00:32:05.075376Z",
     "start_time": "2021-09-15T00:30:22.201437Z"
    },
    "execution": {
     "iopub.execute_input": "2021-09-15T01:44:51.373235Z",
     "iopub.status.busy": "2021-09-15T01:44:51.370077Z",
     "iopub.status.idle": "2021-09-15T01:46:20.040979Z",
     "shell.execute_reply": "2021-09-15T01:46:20.042857Z"
    },
    "papermill": {
     "duration": 88.934337,
     "end_time": "2021-09-15T01:46:20.043505",
     "exception": false,
     "start_time": "2021-09-15T01:44:51.109168",
     "status": "completed"
    },
    "tags": []
   },
   "outputs": [],
   "source": [
    "# model definition\n",
    "k = 8\n",
    "\n",
    "## model definition\n",
    "gmm_model = mx.GaussianMixture( n_components=k, n_init=300, random_state=32 )\n",
    "\n",
    "# model training\n",
    "gmm_model.fit( X )\n",
    "\n",
    "# model predict\n",
    "labels = gmm_model.predict( X )"
   ]
  },
  {
   "cell_type": "markdown",
   "id": "guided-miniature",
   "metadata": {
    "papermill": {
     "duration": 0.341056,
     "end_time": "2021-09-15T01:46:20.639039",
     "exception": false,
     "start_time": "2021-09-15T01:46:20.297983",
     "status": "completed"
    },
    "tags": []
   },
   "source": [
    "## 8.2. Cluster Validation"
   ]
  },
  {
   "cell_type": "code",
   "execution_count": 58,
   "id": "specialized-keeping",
   "metadata": {
    "ExecuteTime": {
     "end_time": "2021-09-15T00:32:06.658872Z",
     "start_time": "2021-09-15T00:32:05.082535Z"
    },
    "execution": {
     "iopub.execute_input": "2021-09-15T01:46:21.280566Z",
     "iopub.status.busy": "2021-09-15T01:46:21.269975Z",
     "iopub.status.idle": "2021-09-15T01:46:22.442475Z",
     "shell.execute_reply": "2021-09-15T01:46:22.443586Z"
    },
    "papermill": {
     "duration": 1.540081,
     "end_time": "2021-09-15T01:46:22.444012",
     "exception": false,
     "start_time": "2021-09-15T01:46:20.903931",
     "status": "completed"
    },
    "tags": []
   },
   "outputs": [
    {
     "name": "stdout",
     "output_type": "stream",
     "text": [
      "SS value: 0.3700171709060669\n"
     ]
    }
   ],
   "source": [
    "## WSS ( Within-cluster sum of square)\n",
    "#print( 'WSS value: {}'.format( kmeans.inertia_ ) )\n",
    "\n",
    "## SS ( Silhouette Score )\n",
    "print( 'SS value: {}'.format( m.silhouette_score( X, labels, metric='euclidean' ) ) )"
   ]
  },
  {
   "cell_type": "markdown",
   "id": "specific-poverty",
   "metadata": {
    "papermill": {
     "duration": 0.276873,
     "end_time": "2021-09-15T01:46:22.941621",
     "exception": false,
     "start_time": "2021-09-15T01:46:22.664748",
     "status": "completed"
    },
    "tags": []
   },
   "source": [
    "# <font color='red'> 9.0. Cluster Analysis </font>"
   ]
  },
  {
   "cell_type": "code",
   "execution_count": 59,
   "id": "common-fitness",
   "metadata": {
    "ExecuteTime": {
     "end_time": "2021-09-15T00:32:06.678747Z",
     "start_time": "2021-09-15T00:32:06.666942Z"
    },
    "execution": {
     "iopub.execute_input": "2021-09-15T01:46:23.532656Z",
     "iopub.status.busy": "2021-09-15T01:46:23.527942Z",
     "iopub.status.idle": "2021-09-15T01:46:23.535692Z",
     "shell.execute_reply": "2021-09-15T01:46:23.537425Z"
    },
    "papermill": {
     "duration": 0.2908,
     "end_time": "2021-09-15T01:46:23.538284",
     "exception": false,
     "start_time": "2021-09-15T01:46:23.247484",
     "status": "completed"
    },
    "tags": []
   },
   "outputs": [],
   "source": [
    "df9 = X.copy()\n",
    "df9['cluster'] = labels"
   ]
  },
  {
   "cell_type": "markdown",
   "id": "immediate-contrary",
   "metadata": {
    "papermill": {
     "duration": 0.274626,
     "end_time": "2021-09-15T01:46:24.080666",
     "exception": false,
     "start_time": "2021-09-15T01:46:23.806040",
     "status": "completed"
    },
    "tags": []
   },
   "source": [
    "## 9.1. Visualization Inspection"
   ]
  },
  {
   "cell_type": "code",
   "execution_count": 60,
   "id": "proper-fence",
   "metadata": {
    "ExecuteTime": {
     "end_time": "2021-09-15T00:32:08.701568Z",
     "start_time": "2021-09-15T00:32:06.689889Z"
    },
    "execution": {
     "iopub.execute_input": "2021-09-15T01:46:24.692860Z",
     "iopub.status.busy": "2021-09-15T01:46:24.688374Z",
     "iopub.status.idle": "2021-09-15T01:46:26.397921Z",
     "shell.execute_reply": "2021-09-15T01:46:26.399164Z"
    },
    "papermill": {
     "duration": 2.077117,
     "end_time": "2021-09-15T01:46:26.399940",
     "exception": false,
     "start_time": "2021-09-15T01:46:24.322823",
     "status": "completed"
    },
    "tags": []
   },
   "outputs": [
    {
     "data": {
      "text/plain": [
       "<AxesSubplot:xlabel='embedding_x', ylabel='embedding_y'>"
      ]
     },
     "execution_count": 60,
     "metadata": {},
     "output_type": "execute_result"
    },
    {
     "data": {
      "image/png": "[encoded data removed]",
      "text/plain": [
       "<Figure size 432x288 with 1 Axes>"
      ]
     },
     "metadata": {
      "needs_background": "light"
     },
     "output_type": "display_data"
    }
   ],
   "source": [
    "sns.scatterplot( x='embedding_x', y='embedding_y', hue='cluster', data=df9, palette='deep')"
   ]
  },
  {
   "cell_type": "markdown",
   "id": "communist-europe",
   "metadata": {
    "papermill": {
     "duration": 0.280076,
     "end_time": "2021-09-15T01:46:26.931319",
     "exception": false,
     "start_time": "2021-09-15T01:46:26.651243",
     "status": "completed"
    },
    "tags": []
   },
   "source": [
    "## 9.4. Cluster Profile"
   ]
  },
  {
   "cell_type": "code",
   "execution_count": 61,
   "id": "breathing-deadline",
   "metadata": {
    "ExecuteTime": {
     "end_time": "2021-09-15T00:32:08.783901Z",
     "start_time": "2021-09-15T00:32:08.707181Z"
    },
    "execution": {
     "iopub.execute_input": "2021-09-15T01:46:27.588476Z",
     "iopub.status.busy": "2021-09-15T01:46:27.554286Z",
     "iopub.status.idle": "2021-09-15T01:46:27.601393Z",
     "shell.execute_reply": "2021-09-15T01:46:27.602674Z"
    },
    "papermill": {
     "duration": 0.37446,
     "end_time": "2021-09-15T01:46:27.603145",
     "exception": false,
     "start_time": "2021-09-15T01:46:27.228685",
     "status": "completed"
    },
    "tags": []
   },
   "outputs": [
    {
     "data": {
      "text/html": [
       "<div>\n",
       "<style scoped>\n",
       "    .dataframe tbody tr th:only-of-type {\n",
       "        vertical-align: middle;\n",
       "    }\n",
       "\n",
       "    .dataframe tbody tr th {\n",
       "        vertical-align: top;\n",
       "    }\n",
       "\n",
       "    .dataframe thead th {\n",
       "        text-align: right;\n",
       "    }\n",
       "</style>\n",
       "<table border=\"1\" class=\"dataframe\">\n",
       "  <thead>\n",
       "    <tr style=\"text-align: right;\">\n",
       "      <th></th>\n",
       "      <th>customer_id</th>\n",
       "      <th>gross_revenue</th>\n",
       "      <th>recency_days</th>\n",
       "      <th>qtde_products</th>\n",
       "      <th>frequency</th>\n",
       "      <th>qtde_returns</th>\n",
       "      <th>cluster</th>\n",
       "    </tr>\n",
       "  </thead>\n",
       "  <tbody>\n",
       "    <tr>\n",
       "      <th>0</th>\n",
       "      <td>17850</td>\n",
       "      <td>5391.21</td>\n",
       "      <td>372.0</td>\n",
       "      <td>297.0</td>\n",
       "      <td>17.000000</td>\n",
       "      <td>40.0</td>\n",
       "      <td>6</td>\n",
       "    </tr>\n",
       "    <tr>\n",
       "      <th>1</th>\n",
       "      <td>13047</td>\n",
       "      <td>3232.59</td>\n",
       "      <td>56.0</td>\n",
       "      <td>171.0</td>\n",
       "      <td>0.028302</td>\n",
       "      <td>35.0</td>\n",
       "      <td>6</td>\n",
       "    </tr>\n",
       "    <tr>\n",
       "      <th>2</th>\n",
       "      <td>12583</td>\n",
       "      <td>6705.38</td>\n",
       "      <td>2.0</td>\n",
       "      <td>232.0</td>\n",
       "      <td>0.040323</td>\n",
       "      <td>50.0</td>\n",
       "      <td>6</td>\n",
       "    </tr>\n",
       "    <tr>\n",
       "      <th>3</th>\n",
       "      <td>13748</td>\n",
       "      <td>948.25</td>\n",
       "      <td>95.0</td>\n",
       "      <td>28.0</td>\n",
       "      <td>0.017921</td>\n",
       "      <td>0.0</td>\n",
       "      <td>3</td>\n",
       "    </tr>\n",
       "    <tr>\n",
       "      <th>4</th>\n",
       "      <td>15100</td>\n",
       "      <td>876.00</td>\n",
       "      <td>333.0</td>\n",
       "      <td>3.0</td>\n",
       "      <td>0.073171</td>\n",
       "      <td>22.0</td>\n",
       "      <td>0</td>\n",
       "    </tr>\n",
       "  </tbody>\n",
       "</table>\n",
       "</div>"
      ],
      "text/plain": [
       "   customer_id  gross_revenue  recency_days  qtde_products  frequency  \\\n",
       "0        17850        5391.21         372.0          297.0  17.000000   \n",
       "1        13047        3232.59          56.0          171.0   0.028302   \n",
       "2        12583        6705.38           2.0          232.0   0.040323   \n",
       "3        13748         948.25          95.0           28.0   0.017921   \n",
       "4        15100         876.00         333.0            3.0   0.073171   \n",
       "\n",
       "   qtde_returns  cluster  \n",
       "0          40.0        6  \n",
       "1          35.0        6  \n",
       "2          50.0        6  \n",
       "3           0.0        3  \n",
       "4          22.0        0  "
      ]
     },
     "execution_count": 61,
     "metadata": {},
     "output_type": "execute_result"
    }
   ],
   "source": [
    "df92 = df4[ cols_selected ].copy()\n",
    "df92['cluster'] = labels\n",
    "df92.head()"
   ]
  },
  {
   "cell_type": "code",
   "execution_count": 62,
   "id": "asian-bandwidth",
   "metadata": {
    "ExecuteTime": {
     "end_time": "2021-09-15T00:32:09.016039Z",
     "start_time": "2021-09-15T00:32:08.800774Z"
    },
    "execution": {
     "iopub.execute_input": "2021-09-15T01:46:28.156163Z",
     "iopub.status.busy": "2021-09-15T01:46:28.154350Z",
     "iopub.status.idle": "2021-09-15T01:46:28.280278Z",
     "shell.execute_reply": "2021-09-15T01:46:28.282434Z"
    },
    "papermill": {
     "duration": 0.409812,
     "end_time": "2021-09-15T01:46:28.283481",
     "exception": false,
     "start_time": "2021-09-15T01:46:27.873669",
     "status": "completed"
    },
    "tags": []
   },
   "outputs": [
    {
     "data": {
      "text/html": [
       "<div>\n",
       "<style scoped>\n",
       "    .dataframe tbody tr th:only-of-type {\n",
       "        vertical-align: middle;\n",
       "    }\n",
       "\n",
       "    .dataframe tbody tr th {\n",
       "        vertical-align: top;\n",
       "    }\n",
       "\n",
       "    .dataframe thead th {\n",
       "        text-align: right;\n",
       "    }\n",
       "</style>\n",
       "<table border=\"1\" class=\"dataframe\">\n",
       "  <thead>\n",
       "    <tr style=\"text-align: right;\">\n",
       "      <th></th>\n",
       "      <th>cluster</th>\n",
       "      <th>customer_id</th>\n",
       "      <th>perc_customer</th>\n",
       "      <th>gross_revenue</th>\n",
       "      <th>recency_days</th>\n",
       "      <th>qtde_products</th>\n",
       "      <th>frequency</th>\n",
       "      <th>qtde_returns</th>\n",
       "    </tr>\n",
       "  </thead>\n",
       "  <tbody>\n",
       "    <tr>\n",
       "      <th>6</th>\n",
       "      <td>6</td>\n",
       "      <td>935</td>\n",
       "      <td>16.417910</td>\n",
       "      <td>5946.998695</td>\n",
       "      <td>62.309091</td>\n",
       "      <td>320.253476</td>\n",
       "      <td>0.288174</td>\n",
       "      <td>164.859893</td>\n",
       "    </tr>\n",
       "    <tr>\n",
       "      <th>2</th>\n",
       "      <td>2</td>\n",
       "      <td>788</td>\n",
       "      <td>13.836699</td>\n",
       "      <td>1907.652652</td>\n",
       "      <td>97.013959</td>\n",
       "      <td>123.172589</td>\n",
       "      <td>0.433028</td>\n",
       "      <td>2.615482</td>\n",
       "    </tr>\n",
       "    <tr>\n",
       "      <th>5</th>\n",
       "      <td>5</td>\n",
       "      <td>471</td>\n",
       "      <td>8.270413</td>\n",
       "      <td>1317.878025</td>\n",
       "      <td>118.093418</td>\n",
       "      <td>86.825902</td>\n",
       "      <td>0.644902</td>\n",
       "      <td>8.167728</td>\n",
       "    </tr>\n",
       "    <tr>\n",
       "      <th>4</th>\n",
       "      <td>4</td>\n",
       "      <td>296</td>\n",
       "      <td>5.197542</td>\n",
       "      <td>1175.802770</td>\n",
       "      <td>60.358108</td>\n",
       "      <td>56.165541</td>\n",
       "      <td>0.027409</td>\n",
       "      <td>11.016892</td>\n",
       "    </tr>\n",
       "    <tr>\n",
       "      <th>7</th>\n",
       "      <td>7</td>\n",
       "      <td>228</td>\n",
       "      <td>4.003512</td>\n",
       "      <td>982.970833</td>\n",
       "      <td>70.657895</td>\n",
       "      <td>37.135965</td>\n",
       "      <td>0.027224</td>\n",
       "      <td>5.543860</td>\n",
       "    </tr>\n",
       "    <tr>\n",
       "      <th>3</th>\n",
       "      <td>3</td>\n",
       "      <td>379</td>\n",
       "      <td>6.654960</td>\n",
       "      <td>711.241847</td>\n",
       "      <td>57.448549</td>\n",
       "      <td>20.232190</td>\n",
       "      <td>0.045183</td>\n",
       "      <td>1.897098</td>\n",
       "    </tr>\n",
       "    <tr>\n",
       "      <th>1</th>\n",
       "      <td>1</td>\n",
       "      <td>1415</td>\n",
       "      <td>24.846356</td>\n",
       "      <td>685.738254</td>\n",
       "      <td>161.917314</td>\n",
       "      <td>22.177385</td>\n",
       "      <td>0.958582</td>\n",
       "      <td>4.196466</td>\n",
       "    </tr>\n",
       "    <tr>\n",
       "      <th>0</th>\n",
       "      <td>0</td>\n",
       "      <td>1183</td>\n",
       "      <td>20.772608</td>\n",
       "      <td>514.140719</td>\n",
       "      <td>161.211327</td>\n",
       "      <td>21.874894</td>\n",
       "      <td>0.688588</td>\n",
       "      <td>5.781065</td>\n",
       "    </tr>\n",
       "  </tbody>\n",
       "</table>\n",
       "</div>"
      ],
      "text/plain": [
       "   cluster  customer_id  perc_customer  gross_revenue  recency_days  \\\n",
       "6        6          935      16.417910    5946.998695     62.309091   \n",
       "2        2          788      13.836699    1907.652652     97.013959   \n",
       "5        5          471       8.270413    1317.878025    118.093418   \n",
       "4        4          296       5.197542    1175.802770     60.358108   \n",
       "7        7          228       4.003512     982.970833     70.657895   \n",
       "3        3          379       6.654960     711.241847     57.448549   \n",
       "1        1         1415      24.846356     685.738254    161.917314   \n",
       "0        0         1183      20.772608     514.140719    161.211327   \n",
       "\n",
       "   qtde_products  frequency  qtde_returns  \n",
       "6     320.253476   0.288174    164.859893  \n",
       "2     123.172589   0.433028      2.615482  \n",
       "5      86.825902   0.644902      8.167728  \n",
       "4      56.165541   0.027409     11.016892  \n",
       "7      37.135965   0.027224      5.543860  \n",
       "3      20.232190   0.045183      1.897098  \n",
       "1      22.177385   0.958582      4.196466  \n",
       "0      21.874894   0.688588      5.781065  "
      ]
     },
     "execution_count": 62,
     "metadata": {},
     "output_type": "execute_result"
    }
   ],
   "source": [
    "# Number of customer\n",
    "df_cluster = df92[['customer_id', 'cluster']].groupby( 'cluster' ).count().reset_index()\n",
    "df_cluster['perc_customer'] = 100*( df_cluster['customer_id'] / df_cluster['customer_id'].sum() )\n",
    "\n",
    "# Avg Gross revenue\n",
    "df_avg_gross_revenue = df92[['gross_revenue', 'cluster']].groupby( 'cluster' ).mean().reset_index()\n",
    "df_cluster = pd.merge( df_cluster, df_avg_gross_revenue, how='inner', on='cluster' )\n",
    "\n",
    "# Avg recency days\n",
    "df_avg_recency_days = df92[['recency_days', 'cluster']].groupby( 'cluster' ).mean().reset_index()\n",
    "df_cluster = pd.merge( df_cluster, df_avg_recency_days, how='inner', on='cluster' )\n",
    "\n",
    "# Avg invoice_no\n",
    "df_qtde_products = df92[['qtde_products', 'cluster']].groupby( 'cluster' ).mean().reset_index()\n",
    "df_cluster = pd.merge( df_cluster, df_qtde_products, how='inner', on='cluster' )\n",
    "\n",
    "# Frequency\n",
    "df_frequency = df92[['frequency', 'cluster']].groupby( 'cluster' ).mean().reset_index()\n",
    "df_cluster = pd.merge( df_cluster, df_frequency, how='inner', on='cluster' )\n",
    "\n",
    "# Returns\n",
    "df_qtde_returns = df92[['qtde_returns', 'cluster']].groupby( 'cluster' ).mean().reset_index()\n",
    "df_cluster = pd.merge( df_cluster, df_qtde_returns, how='inner', on='cluster' )\n",
    "\n",
    "df_cluster.sort_values( 'gross_revenue', ascending=False )"
   ]
  },
  {
   "cell_type": "code",
   "execution_count": 63,
   "id": "premier-associate",
   "metadata": {
    "ExecuteTime": {
     "end_time": "2021-09-15T00:32:09.032710Z",
     "start_time": "2021-09-15T00:32:09.025968Z"
    },
    "execution": {
     "iopub.execute_input": "2021-09-15T01:46:28.737188Z",
     "iopub.status.busy": "2021-09-15T01:46:28.734244Z",
     "iopub.status.idle": "2021-09-15T01:46:28.743342Z",
     "shell.execute_reply": "2021-09-15T01:46:28.744616Z"
    },
    "papermill": {
     "duration": 0.247679,
     "end_time": "2021-09-15T01:46:28.745137",
     "exception": false,
     "start_time": "2021-09-15T01:46:28.497458",
     "status": "completed"
    },
    "tags": []
   },
   "outputs": [],
   "source": [
    "# 6 Cluster Insiders\n",
    "# 3 Cluster More Products\n",
    "# 0 Cluster Spend Money \n",
    "# 1 Cluster Even More Products\n",
    "# 4 Cluster Less Days\n",
    "# 7 Cluster Less 1k\n",
    "# 2 Cluster Stop Returners\n",
    "# 5 Cluster More Buy"
   ]
  },
  {
   "cell_type": "markdown",
   "id": "expired-command",
   "metadata": {
    "papermill": {
     "duration": 0.228983,
     "end_time": "2021-09-15T01:46:29.175380",
     "exception": false,
     "start_time": "2021-09-15T01:46:28.946397",
     "status": "completed"
    },
    "tags": []
   },
   "source": [
    "### Cluster 01:  ( Candidato à Insider )\n",
    "    - Número de customers: 468 (16% do customers )\n",
    "    - Faturamento médio: 8836\n",
    "    - Recência média: 21 dias\n",
    "    - Média de Produtos comprados: 424 produtos\n",
    "    - Frequência de Produtos comprados: 0.09 produtos/dia\n",
    "    - Receita em média: $8836.13,00 dólares\n",
    "        \n",
    "### Cluster 02: \n",
    "    - Número de customers: 31 (0.71 do customers )\n",
    "    - Recência em média: 14 dias\n",
    "    - Compras em média: 53 compras\n",
    "    - Receita em média: $40.543,52 dólares\n",
    "        \n",
    "### Cluster 03: \n",
    "    - Número de customers: 4.335 (99% do customers )\n",
    "    - Recência em média: 92 dias\n",
    "    - Compras em média: 5 compras\n",
    "    - Receita em média: $1.372,57 dólares"
   ]
  },
  {
   "cell_type": "markdown",
   "id": "previous-romantic",
   "metadata": {
    "papermill": {
     "duration": 0.242002,
     "end_time": "2021-09-15T01:46:29.635168",
     "exception": false,
     "start_time": "2021-09-15T01:46:29.393166",
     "status": "completed"
    },
    "tags": []
   },
   "source": [
    "# <font color='red'> 10.0. Análise Exploratória de Dados </font>"
   ]
  },
  {
   "cell_type": "code",
   "execution_count": 64,
   "id": "wrong-costs",
   "metadata": {
    "ExecuteTime": {
     "end_time": "2021-09-15T00:32:39.068282Z",
     "start_time": "2021-09-15T00:32:39.061362Z"
    },
    "execution": {
     "iopub.execute_input": "2021-09-15T01:46:30.132022Z",
     "iopub.status.busy": "2021-09-15T01:46:30.129719Z",
     "iopub.status.idle": "2021-09-15T01:46:30.137863Z",
     "shell.execute_reply": "2021-09-15T01:46:30.140790Z"
    },
    "papermill": {
     "duration": 0.259865,
     "end_time": "2021-09-15T01:46:30.141211",
     "exception": false,
     "start_time": "2021-09-15T01:46:29.881346",
     "status": "completed"
    },
    "tags": []
   },
   "outputs": [],
   "source": [
    "df10 = df92.copy()"
   ]
  },
  {
   "cell_type": "code",
   "execution_count": 65,
   "id": "outdoor-continuity",
   "metadata": {
    "ExecuteTime": {
     "end_time": "2021-09-15T00:32:40.568550Z",
     "start_time": "2021-09-15T00:32:40.540164Z"
    },
    "execution": {
     "iopub.execute_input": "2021-09-15T01:46:30.624637Z",
     "iopub.status.busy": "2021-09-15T01:46:30.621438Z",
     "iopub.status.idle": "2021-09-15T01:46:30.637608Z",
     "shell.execute_reply": "2021-09-15T01:46:30.640812Z"
    },
    "papermill": {
     "duration": 0.265647,
     "end_time": "2021-09-15T01:46:30.641220",
     "exception": false,
     "start_time": "2021-09-15T01:46:30.375573",
     "status": "completed"
    },
    "tags": []
   },
   "outputs": [
    {
     "data": {
      "text/html": [
       "<div>\n",
       "<style scoped>\n",
       "    .dataframe tbody tr th:only-of-type {\n",
       "        vertical-align: middle;\n",
       "    }\n",
       "\n",
       "    .dataframe tbody tr th {\n",
       "        vertical-align: top;\n",
       "    }\n",
       "\n",
       "    .dataframe thead th {\n",
       "        text-align: right;\n",
       "    }\n",
       "</style>\n",
       "<table border=\"1\" class=\"dataframe\">\n",
       "  <thead>\n",
       "    <tr style=\"text-align: right;\">\n",
       "      <th></th>\n",
       "      <th>customer_id</th>\n",
       "      <th>gross_revenue</th>\n",
       "      <th>recency_days</th>\n",
       "      <th>qtde_products</th>\n",
       "      <th>frequency</th>\n",
       "      <th>qtde_returns</th>\n",
       "      <th>cluster</th>\n",
       "    </tr>\n",
       "  </thead>\n",
       "  <tbody>\n",
       "    <tr>\n",
       "      <th>0</th>\n",
       "      <td>17850</td>\n",
       "      <td>5391.21</td>\n",
       "      <td>372.0</td>\n",
       "      <td>297.0</td>\n",
       "      <td>17.000000</td>\n",
       "      <td>40.0</td>\n",
       "      <td>6</td>\n",
       "    </tr>\n",
       "    <tr>\n",
       "      <th>1</th>\n",
       "      <td>13047</td>\n",
       "      <td>3232.59</td>\n",
       "      <td>56.0</td>\n",
       "      <td>171.0</td>\n",
       "      <td>0.028302</td>\n",
       "      <td>35.0</td>\n",
       "      <td>6</td>\n",
       "    </tr>\n",
       "    <tr>\n",
       "      <th>2</th>\n",
       "      <td>12583</td>\n",
       "      <td>6705.38</td>\n",
       "      <td>2.0</td>\n",
       "      <td>232.0</td>\n",
       "      <td>0.040323</td>\n",
       "      <td>50.0</td>\n",
       "      <td>6</td>\n",
       "    </tr>\n",
       "    <tr>\n",
       "      <th>3</th>\n",
       "      <td>13748</td>\n",
       "      <td>948.25</td>\n",
       "      <td>95.0</td>\n",
       "      <td>28.0</td>\n",
       "      <td>0.017921</td>\n",
       "      <td>0.0</td>\n",
       "      <td>3</td>\n",
       "    </tr>\n",
       "    <tr>\n",
       "      <th>4</th>\n",
       "      <td>15100</td>\n",
       "      <td>876.00</td>\n",
       "      <td>333.0</td>\n",
       "      <td>3.0</td>\n",
       "      <td>0.073171</td>\n",
       "      <td>22.0</td>\n",
       "      <td>0</td>\n",
       "    </tr>\n",
       "  </tbody>\n",
       "</table>\n",
       "</div>"
      ],
      "text/plain": [
       "   customer_id  gross_revenue  recency_days  qtde_products  frequency  \\\n",
       "0        17850        5391.21         372.0          297.0  17.000000   \n",
       "1        13047        3232.59          56.0          171.0   0.028302   \n",
       "2        12583        6705.38           2.0          232.0   0.040323   \n",
       "3        13748         948.25          95.0           28.0   0.017921   \n",
       "4        15100         876.00         333.0            3.0   0.073171   \n",
       "\n",
       "   qtde_returns  cluster  \n",
       "0          40.0        6  \n",
       "1          35.0        6  \n",
       "2          50.0        6  \n",
       "3           0.0        3  \n",
       "4          22.0        0  "
      ]
     },
     "execution_count": 65,
     "metadata": {},
     "output_type": "execute_result"
    }
   ],
   "source": [
    "df10.head()"
   ]
  },
  {
   "cell_type": "markdown",
   "id": "endangered-score",
   "metadata": {
    "papermill": {
     "duration": 0.285073,
     "end_time": "2021-09-15T01:46:31.176346",
     "exception": false,
     "start_time": "2021-09-15T01:46:30.891273",
     "status": "completed"
    },
    "tags": []
   },
   "source": [
    "# <font color='red'> 11.0. Deploy To Production </font>"
   ]
  },
  {
   "cell_type": "code",
   "execution_count": 66,
   "id": "dimensional-gospel",
   "metadata": {
    "ExecuteTime": {
     "end_time": "2021-09-15T00:36:16.034741Z",
     "start_time": "2021-09-15T00:36:16.021141Z"
    },
    "execution": {
     "iopub.execute_input": "2021-09-15T01:46:31.756723Z",
     "iopub.status.busy": "2021-09-15T01:46:31.754554Z",
     "iopub.status.idle": "2021-09-15T01:46:31.761705Z",
     "shell.execute_reply": "2021-09-15T01:46:31.762964Z"
    },
    "papermill": {
     "duration": 0.299778,
     "end_time": "2021-09-15T01:46:31.763809",
     "exception": false,
     "start_time": "2021-09-15T01:46:31.464031",
     "status": "completed"
    },
    "tags": []
   },
   "outputs": [
    {
     "data": {
      "text/plain": [
       "customer_id        int64\n",
       "gross_revenue    float64\n",
       "recency_days     float64\n",
       "qtde_products    float64\n",
       "frequency        float64\n",
       "qtde_returns     float64\n",
       "cluster            int64\n",
       "dtype: object"
      ]
     },
     "execution_count": 66,
     "metadata": {},
     "output_type": "execute_result"
    }
   ],
   "source": [
    "df92.dtypes"
   ]
  },
  {
   "cell_type": "code",
   "execution_count": 67,
   "id": "studied-tattoo",
   "metadata": {
    "ExecuteTime": {
     "end_time": "2021-09-15T00:36:28.051555Z",
     "start_time": "2021-09-15T00:36:28.045439Z"
    },
    "execution": {
     "iopub.execute_input": "2021-09-15T01:46:32.346994Z",
     "iopub.status.busy": "2021-09-15T01:46:32.345169Z",
     "iopub.status.idle": "2021-09-15T01:46:32.348689Z",
     "shell.execute_reply": "2021-09-15T01:46:32.349577Z"
    },
    "papermill": {
     "duration": 0.297531,
     "end_time": "2021-09-15T01:46:32.350048",
     "exception": false,
     "start_time": "2021-09-15T01:46:32.052517",
     "status": "completed"
    },
    "tags": []
   },
   "outputs": [],
   "source": [
    "df92['recency_days'] = df92['recency_days'].astype( int )\n",
    "df92['qtde_products'] = df92['qtde_products'].astype( int )\n",
    "df92['qtde_returns'] = df92['qtde_returns'].astype( int )"
   ]
  },
  {
   "cell_type": "code",
   "execution_count": 68,
   "id": "adequate-aruba",
   "metadata": {
    "ExecuteTime": {
     "end_time": "2021-09-15T00:37:23.711329Z",
     "start_time": "2021-09-15T00:37:23.701033Z"
    },
    "execution": {
     "iopub.execute_input": "2021-09-15T01:46:32.833361Z",
     "iopub.status.busy": "2021-09-15T01:46:32.830940Z",
     "iopub.status.idle": "2021-09-15T01:46:32.864069Z",
     "shell.execute_reply": "2021-09-15T01:46:32.867629Z"
    },
    "papermill": {
     "duration": 0.299409,
     "end_time": "2021-09-15T01:46:32.868131",
     "exception": false,
     "start_time": "2021-09-15T01:46:32.568722",
     "status": "completed"
    },
    "tags": []
   },
   "outputs": [
    {
     "data": {
      "text/plain": [
       "<sqlalchemy.engine.cursor.LegacyCursorResult at 0x15849ceb0>"
      ]
     },
     "execution_count": 68,
     "metadata": {},
     "output_type": "execute_result"
    }
   ],
   "source": [
    "# database conection\n",
    "conn = create_engine( 'sqlite:///insiders_db.sqlite' )\n",
    "\n",
    "## drop table\n",
    "#query_drop_insiders = \"\"\"\n",
    "#    DROP TABLE insiders\n",
    "#\"\"\"\n",
    "\n",
    "# create table\n",
    "query_create_insiders = \"\"\"\n",
    "    CREATE TABLE insiders ( \n",
    "        customer_id   INTEGER,\n",
    "        gross_revenue REAL,\n",
    "        recency_days  INTEGER,\n",
    "        qtde_products INTEGER,\n",
    "        frequency     REAL,\n",
    "        qtde_returns  INTEGER,\n",
    "        cluster       INTEGER\n",
    "    )\n",
    "\"\"\"\n",
    "\n",
    "conn.execute( query_create_insiders )"
   ]
  },
  {
   "cell_type": "code",
   "execution_count": 69,
   "id": "ambient-graphics",
   "metadata": {
    "ExecuteTime": {
     "end_time": "2021-09-15T00:37:35.735105Z",
     "start_time": "2021-09-15T00:37:35.582689Z"
    },
    "execution": {
     "iopub.execute_input": "2021-09-15T01:46:33.394994Z",
     "iopub.status.busy": "2021-09-15T01:46:33.393530Z",
     "iopub.status.idle": "2021-09-15T01:46:33.523107Z",
     "shell.execute_reply": "2021-09-15T01:46:33.525005Z"
    },
    "papermill": {
     "duration": 0.401374,
     "end_time": "2021-09-15T01:46:33.525672",
     "exception": false,
     "start_time": "2021-09-15T01:46:33.124298",
     "status": "completed"
    },
    "tags": []
   },
   "outputs": [],
   "source": [
    "# insert data into\n",
    "df92.to_sql( 'insiders', con=conn, if_exists='append', index=False )"
   ]
  },
  {
   "cell_type": "code",
   "execution_count": 70,
   "id": "international-morocco",
   "metadata": {
    "ExecuteTime": {
     "end_time": "2021-09-15T00:37:57.210555Z",
     "start_time": "2021-09-15T00:37:57.207606Z"
    },
    "execution": {
     "iopub.execute_input": "2021-09-15T01:46:34.087573Z",
     "iopub.status.busy": "2021-09-15T01:46:34.085439Z",
     "iopub.status.idle": "2021-09-15T01:46:34.090415Z",
     "shell.execute_reply": "2021-09-15T01:46:34.091426Z"
    },
    "papermill": {
     "duration": 0.297973,
     "end_time": "2021-09-15T01:46:34.091802",
     "exception": false,
     "start_time": "2021-09-15T01:46:33.793829",
     "status": "completed"
    },
    "tags": []
   },
   "outputs": [],
   "source": [
    "## get query\n",
    "#query_collect = \"\"\"\n",
    "#    SELECT * from insiders\n",
    "#\"\"\"\n",
    "#\n",
    "#df = pd.read_sql_query( query_collect, conn )\n",
    "#df.head()"
   ]
  }
 ],
 "metadata": {
  "kernelspec": {
   "display_name": "Python 3",
   "language": "python",
   "name": "python3"
  },
  "language_info": {
   "codemirror_mode": {
    "name": "ipython",
    "version": 3
   },
   "file_extension": ".py",
   "mimetype": "text/x-python",
   "name": "python",
   "nbconvert_exporter": "python",
   "pygments_lexer": "ipython3",
   "version": "3.8.0"
  },
  "papermill": {
   "default_parameters": {},
   "duration": 689.875329,
   "end_time": "2021-09-15T01:46:36.285248",
   "environment_variables": {},
   "exception": null,
   "input_path": "/Users/meigarom.lopes/repos/pa005_insiders_clustering/insiders_clustering/src/models/c10-mdfl-deploy.ipynb",
   "output_path": "/Users/meigarom.lopes/repos/pa005_insiders_clustering/insiders_clustering/reports/c10-mdfl-deploy_2021-09-14T22:35:05.ipynb",
   "parameters": {},
   "start_time": "2021-09-15T01:35:06.409919",
   "version": "2.3.3"
  }
 },
 "nbformat": 4,
 "nbformat_minor": 5
}