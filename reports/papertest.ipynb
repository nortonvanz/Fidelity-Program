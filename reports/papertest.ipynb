{
 "cells": [
  {
   "cell_type": "code",
   "execution_count": 1,
   "id": "070ec119",
   "metadata": {
    "ExecuteTime": {
     "end_time": "2022-08-31T13:55:24.091590Z",
     "start_time": "2022-08-31T13:55:24.085816Z"
    },
    "execution": {
     "iopub.execute_input": "2022-08-31T15:43:05.806552Z",
     "iopub.status.busy": "2022-08-31T15:43:05.805903Z",
     "iopub.status.idle": "2022-08-31T15:43:06.795351Z",
     "shell.execute_reply": "2022-08-31T15:43:06.794234Z"
    },
    "papermill": {
     "duration": 1.001552,
     "end_time": "2022-08-31T15:43:06.798493",
     "exception": false,
     "start_time": "2022-08-31T15:43:05.796941",
     "status": "completed"
    },
    "tags": []
   },
   "outputs": [],
   "source": [
    "import pandas as pd\n",
    "import pickle\n",
    "import os"
   ]
  },
  {
   "cell_type": "code",
   "execution_count": 2,
   "id": "c98919dd",
   "metadata": {
    "ExecuteTime": {
     "end_time": "2022-08-31T13:55:24.456923Z",
     "start_time": "2022-08-31T13:55:24.390114Z"
    },
    "execution": {
     "iopub.execute_input": "2022-08-31T15:43:06.808342Z",
     "iopub.status.busy": "2022-08-31T15:43:06.807411Z",
     "iopub.status.idle": "2022-08-31T15:43:06.867649Z",
     "shell.execute_reply": "2022-08-31T15:43:06.866007Z"
    },
    "papermill": {
     "duration": 0.070202,
     "end_time": "2022-08-31T15:43:06.872502",
     "exception": false,
     "start_time": "2022-08-31T15:43:06.802300",
     "status": "completed"
    },
    "tags": []
   },
   "outputs": [
    {
     "data": {
      "text/html": [
       "<div>\n",
       "<style scoped>\n",
       "    .dataframe tbody tr th:only-of-type {\n",
       "        vertical-align: middle;\n",
       "    }\n",
       "\n",
       "    .dataframe tbody tr th {\n",
       "        vertical-align: top;\n",
       "    }\n",
       "\n",
       "    .dataframe thead th {\n",
       "        text-align: right;\n",
       "    }\n",
       "</style>\n",
       "<table border=\"1\" class=\"dataframe\">\n",
       "  <thead>\n",
       "    <tr style=\"text-align: right;\">\n",
       "      <th></th>\n",
       "      <th>customer_id</th>\n",
       "      <th>gross_revenue</th>\n",
       "      <th>recency_days</th>\n",
       "      <th>qtt_invoices</th>\n",
       "      <th>unique_products</th>\n",
       "      <th>unique_items</th>\n",
       "      <th>daily_purchase_rate</th>\n",
       "      <th>total_prod_returned</th>\n",
       "    </tr>\n",
       "  </thead>\n",
       "  <tbody>\n",
       "    <tr>\n",
       "      <th>0</th>\n",
       "      <td>17850</td>\n",
       "      <td>5391.21</td>\n",
       "      <td>372.0</td>\n",
       "      <td>34.0</td>\n",
       "      <td>21.0</td>\n",
       "      <td>1733.0</td>\n",
       "      <td>17.000000</td>\n",
       "      <td>40.0</td>\n",
       "    </tr>\n",
       "    <tr>\n",
       "      <th>1</th>\n",
       "      <td>13047</td>\n",
       "      <td>3232.59</td>\n",
       "      <td>56.0</td>\n",
       "      <td>9.0</td>\n",
       "      <td>105.0</td>\n",
       "      <td>1390.0</td>\n",
       "      <td>0.028302</td>\n",
       "      <td>35.0</td>\n",
       "    </tr>\n",
       "    <tr>\n",
       "      <th>2</th>\n",
       "      <td>12583</td>\n",
       "      <td>6705.38</td>\n",
       "      <td>2.0</td>\n",
       "      <td>15.0</td>\n",
       "      <td>114.0</td>\n",
       "      <td>5028.0</td>\n",
       "      <td>0.040323</td>\n",
       "      <td>50.0</td>\n",
       "    </tr>\n",
       "    <tr>\n",
       "      <th>3</th>\n",
       "      <td>13748</td>\n",
       "      <td>948.25</td>\n",
       "      <td>95.0</td>\n",
       "      <td>5.0</td>\n",
       "      <td>24.0</td>\n",
       "      <td>439.0</td>\n",
       "      <td>0.017921</td>\n",
       "      <td>0.0</td>\n",
       "    </tr>\n",
       "    <tr>\n",
       "      <th>4</th>\n",
       "      <td>15100</td>\n",
       "      <td>876.00</td>\n",
       "      <td>333.0</td>\n",
       "      <td>3.0</td>\n",
       "      <td>1.0</td>\n",
       "      <td>80.0</td>\n",
       "      <td>0.073171</td>\n",
       "      <td>22.0</td>\n",
       "    </tr>\n",
       "  </tbody>\n",
       "</table>\n",
       "</div>"
      ],
      "text/plain": [
       "   customer_id  gross_revenue  recency_days  qtt_invoices  unique_products  \\\n",
       "0        17850        5391.21         372.0          34.0             21.0   \n",
       "1        13047        3232.59          56.0           9.0            105.0   \n",
       "2        12583        6705.38           2.0          15.0            114.0   \n",
       "3        13748         948.25          95.0           5.0             24.0   \n",
       "4        15100         876.00         333.0           3.0              1.0   \n",
       "\n",
       "   unique_items  daily_purchase_rate  total_prod_returned  \n",
       "0        1733.0            17.000000                 40.0  \n",
       "1        1390.0             0.028302                 35.0  \n",
       "2        5028.0             0.040323                 50.0  \n",
       "3         439.0             0.017921                  0.0  \n",
       "4          80.0             0.073171                 22.0  "
      ]
     },
     "execution_count": 2,
     "metadata": {},
     "output_type": "execute_result"
    }
   ],
   "source": [
    "path_csv = '/Users/home/repos/pa005_fidelity_program/'\n",
    "df5 = pd.read_csv(path_csv +'data/interim/cycle8/df4_feature_eng_done.csv', index_col=0)#, \n",
    "df5.head()"
   ]
  },
  {
   "cell_type": "code",
   "execution_count": 3,
   "id": "8f06b93e",
   "metadata": {
    "ExecuteTime": {
     "end_time": "2022-08-31T13:55:24.838746Z",
     "start_time": "2022-08-31T13:55:24.830067Z"
    },
    "execution": {
     "iopub.execute_input": "2022-08-31T15:43:06.882113Z",
     "iopub.status.busy": "2022-08-31T15:43:06.881292Z",
     "iopub.status.idle": "2022-08-31T15:43:06.889011Z",
     "shell.execute_reply": "2022-08-31T15:43:06.885934Z"
    },
    "papermill": {
     "duration": 0.015622,
     "end_time": "2022-08-31T15:43:06.891994",
     "exception": false,
     "start_time": "2022-08-31T15:43:06.876372",
     "status": "completed"
    },
    "tags": []
   },
   "outputs": [],
   "source": [
    "# path = os.path.abspath('..')+\"/features/gr.pkl\"\n",
    "# path"
   ]
  },
  {
   "cell_type": "code",
   "execution_count": 4,
   "id": "ec7d51dc",
   "metadata": {
    "ExecuteTime": {
     "end_time": "2022-08-31T13:55:25.239424Z",
     "start_time": "2022-08-31T13:55:25.228394Z"
    },
    "execution": {
     "iopub.execute_input": "2022-08-31T15:43:06.904981Z",
     "iopub.status.busy": "2022-08-31T15:43:06.903484Z",
     "iopub.status.idle": "2022-08-31T15:43:07.754605Z",
     "shell.execute_reply": "2022-08-31T15:43:07.753582Z"
    },
    "papermill": {
     "duration": 0.860754,
     "end_time": "2022-08-31T15:43:07.757886",
     "exception": false,
     "start_time": "2022-08-31T15:43:06.897132",
     "status": "completed"
    },
    "tags": []
   },
   "outputs": [],
   "source": [
    "gr= pickle.load(open('/Users/home/repos/pa005_fidelity_program/src/features/gross_revenue.pkl','rb') )"
   ]
  },
  {
   "cell_type": "code",
   "execution_count": 5,
   "id": "34087fc9",
   "metadata": {
    "ExecuteTime": {
     "end_time": "2022-08-31T13:55:25.737992Z",
     "start_time": "2022-08-31T13:55:25.708467Z"
    },
    "execution": {
     "iopub.execute_input": "2022-08-31T15:43:07.767548Z",
     "iopub.status.busy": "2022-08-31T15:43:07.767031Z",
     "iopub.status.idle": "2022-08-31T15:43:07.780999Z",
     "shell.execute_reply": "2022-08-31T15:43:07.779846Z"
    },
    "papermill": {
     "duration": 0.022198,
     "end_time": "2022-08-31T15:43:07.784133",
     "exception": false,
     "start_time": "2022-08-31T15:43:07.761935",
     "status": "completed"
    },
    "tags": []
   },
   "outputs": [
    {
     "data": {
      "text/plain": [
       "0       0.019312\n",
       "1       0.011579\n",
       "2       0.024020\n",
       "3       0.003396\n",
       "4       0.003137\n",
       "          ...   \n",
       "5779    0.020415\n",
       "5780    0.024202\n",
       "5781    0.011524\n",
       "5782    0.014152\n",
       "5783    0.002845\n",
       "Name: gross_revenue, Length: 5784, dtype: float64"
      ]
     },
     "execution_count": 5,
     "metadata": {},
     "output_type": "execute_result"
    }
   ],
   "source": [
    "df5['gross_revenue'] = gr.transform(df5[['gross_revenue']])\n",
    "df5['gross_revenue'] "
   ]
  },
  {
   "cell_type": "code",
   "execution_count": null,
   "id": "62fea5f4",
   "metadata": {
    "papermill": {
     "duration": 0.003504,
     "end_time": "2022-08-31T15:43:07.791290",
     "exception": false,
     "start_time": "2022-08-31T15:43:07.787786",
     "status": "completed"
    },
    "tags": []
   },
   "outputs": [],
   "source": []
  },
  {
   "cell_type": "code",
   "execution_count": null,
   "id": "ff87783b",
   "metadata": {
    "papermill": {
     "duration": 0.004644,
     "end_time": "2022-08-31T15:43:07.799700",
     "exception": false,
     "start_time": "2022-08-31T15:43:07.795056",
     "status": "completed"
    },
    "tags": []
   },
   "outputs": [],
   "source": []
  }
 ],
 "metadata": {
  "kernelspec": {
   "display_name": "Python 3 (ipykernel)",
   "language": "python",
   "name": "python3"
  },
  "language_info": {
   "codemirror_mode": {
    "name": "ipython",
    "version": 3
   },
   "file_extension": ".py",
   "mimetype": "text/x-python",
   "name": "python",
   "nbconvert_exporter": "python",
   "pygments_lexer": "ipython3",
   "version": "3.8.0"
  },
  "papermill": {
   "default_parameters": {},
   "duration": 5.841214,
   "end_time": "2022-08-31T15:43:08.243531",
   "environment_variables": {},
   "exception": null,
   "input_path": "src/models/papertest.ipynb",
   "output_path": "reports/papertest.ipynb",
   "parameters": {},
   "start_time": "2022-08-31T15:43:02.402317",
   "version": "2.3.4"
  },
  "toc": {
   "base_numbering": 1,
   "nav_menu": {},
   "number_sections": true,
   "sideBar": true,
   "skip_h1_title": false,
   "title_cell": "Table of Contents",
   "title_sidebar": "Contents",
   "toc_cell": false,
   "toc_position": {},
   "toc_section_display": true,
   "toc_window_display": false
  }
 },
 "nbformat": 4,
 "nbformat_minor": 5
}