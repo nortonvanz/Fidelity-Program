{
 "cells": [
  {
   "cell_type": "markdown",
   "id": "1e32e852",
   "metadata": {
    "heading_collapsed": true
   },
   "source": [
    "# Solution Planning"
   ]
  },
  {
   "cell_type": "markdown",
   "id": "13e5b15d",
   "metadata": {
    "hidden": true
   },
   "source": [
    "## Business Problem"
   ]
  },
  {
   "cell_type": "markdown",
   "id": "2ea064c3",
   "metadata": {
    "hidden": true
   },
   "source": [
    "**Qual é o problema de negócios?**\n",
    "1. Selecionar os clientes mais valiosos para integrar o programa de fidelidade \"Loyals\".\n",
    "\n",
    "2. Responder a questões de negócio ao time de marketing."
   ]
  },
  {
   "cell_type": "markdown",
   "id": "f2ab0538",
   "metadata": {
    "heading_collapsed": true,
    "hidden": true
   },
   "source": [
    "### Output"
   ]
  },
  {
   "cell_type": "markdown",
   "id": "ec4f1d77",
   "metadata": {
    "hidden": true
   },
   "source": [
    "**O que vou entregar? / Onde o time de negócio quer ver?**\n",
    "\n",
    "* 1) Lista em xls / enviar por email. Deve conter clientes que irão aderir ao Loyals (programa de fidelidade). \n",
    "   - Formato:\n",
    "   \n",
    "| client_id | is_loyal |\n",
    "|-----------|----------|\n",
    "|1          |yes       |\n",
    "|2          |no        |\n",
    "\n",
    "* 2) Relatório em pdf respondendo as questões de negócio / enviar por email e apresentar ao time de marketing:\n",
    "    - Quem são as pessoas elegíveis para participar do programa Loyals?\n",
    "    - Quantos clientes farão parte do grupo?\n",
    "    - Quais são as principais características desses clientes?\n",
    "    - Qual a porcentagem de contribuição de faturamento, vinda do Loyals?\n",
    "    - Qual a expectativa de faturamento desse grupo para os próximos meses?\n",
    "    - Quais as condições para uma pessoa ser elegível ao Loyals? \n",
    "    - Quais as condições para uma pessoa ser removida do Loyals?\n",
    "    - Qual a garantia que o programa Loyals é melhor que o restante da base?\n",
    "    - Quais ações do time de marketing pode realizar para aumentar o faturamento?"
   ]
  },
  {
   "cell_type": "markdown",
   "id": "1bef18ca",
   "metadata": {
    "hidden": true
   },
   "source": [
    "### Input"
   ]
  },
  {
   "cell_type": "markdown",
   "id": "e238d93a",
   "metadata": {
    "hidden": true
   },
   "source": [
    "**Fontes de dados:**\n",
    "    Dataset \"Ecommerce.csv\", contendo as vendas de e-commerce do período de um ano.\n",
    "\n",
    "**Ferramentas:**\n",
    "    Python 3.8.12, Jupyter Notebook, Git, Github."
   ]
  },
  {
   "cell_type": "markdown",
   "id": "00dd7960",
   "metadata": {
    "hidden": true
   },
   "source": [
    "### Process"
   ]
  },
  {
   "cell_type": "markdown",
   "id": "37942b69",
   "metadata": {
    "hidden": true
   },
   "source": [
    "**Tipo de problema:**\n",
    "Separação de clientes por grupos.\n",
    "    \n",
    "**Principais métodos:**\n",
    "    Clusterização.\n",
    "\n",
    "**Perguntas de negócio:**\n",
    "* 1) Quem são as pessoas elegíveis para participar do programa Loyals?\n",
    "    - O que é ser elegível? / O que são clientes de maior \"valor\"? (de acordo com área de negócio) \n",
    "        - Faturamento:\n",
    "             - Alto ticket médio\n",
    "             - Alto LTV (soma da receita do cliente conosco)\n",
    "             - Baixa recência (tempo desde a última compra)\n",
    "             - Alto basket size (qtd produtos comprados por compra)\n",
    "             - Baixa probabilidade de churn (usaria a saída de um modelo)\n",
    "             - Alta Previsão LTV (usaria saída de um modelo)\n",
    "             - Alta propensão de compra (usaria a saída de um modelo)\n",
    "        - Custo:\n",
    "             - Baixa taxa de devolução\n",
    "        - Experiência de compra:\n",
    "             - Média alta das avaliações\n",
    "\n",
    " PS: as features acima serão criadas no feature engeneering. \n",
    " \n",
    " \n",
    "* 2) Quantos clientes farão parte do grupo?\n",
    "    - Número de clientes\n",
    "    - % em relação ao total de clients\n",
    "    \n",
    "    \n",
    "* 3) Quais são as principais características desses clientes?\n",
    "    - Escrever caracterísiticas do cliente:\n",
    "        - Idade\n",
    "        - País\n",
    "        - Salário\n",
    "        - Localização\n",
    "     - Escrever os principais comportamentos de compra dos clients ( métricas de negócio )\n",
    "        - Vide features da clusterização (questão 1)\n",
    "         \n",
    " Para look alike: prospectar clientes parecidos na internet\n",
    "\n",
    "\n",
    "* 4) Qual a porcentagem de contribuição de faturamento, vinda do Loyals?\n",
    "    - Calcular o faturamento total da empresa durante o ano.\n",
    "    - Calcular o faturamento (%) apenas do cluster Loyals.   \n",
    "   \n",
    "   \n",
    "* 5) Qual a expectativa de faturamento desse grupo para os próximos meses?\n",
    "    - Cálculo do LTV do Loyals (com média móvel, time series, arima..)\n",
    "    - Séries Temporais ( ARMA, ARIMA, HoltWinter, etc )\n",
    "    - Análise de Cohort (com tempo, localização, produto..)       \n",
    "\n",
    " Deve haver meta de faturamento, consultar negócio.\n",
    "    \n",
    "    \n",
    "* 6) Quais as condições para uma pessoa ser elegível ao Loyals?\n",
    "    - Definir o período de avaliação (a cada 1 mês, 3 meses..)\n",
    "    - O \"desempenho\" do cliente deve estar próximo da média do cluster Loyals.\n",
    "    \n",
    "    \n",
    "* 7) Quais as condições para uma pessoa ser removida do Loyals?\n",
    "    - O \"desempenho\" do cliente não está mais próximo da média do cluster Loyals. \n",
    "   \n",
    "   \n",
    "* 8) Qual a garantia que o programa Loyals é melhor que o restante da base?\n",
    "    - Teste A/B\n",
    "    - Teste de hipótese\n",
    "\n",
    "\n",
    "* 9) Quais ações do time de marketing pode realizar para aumentar o faturamento?\n",
    "    - Desconto\n",
    "    - Preferência de compra\n",
    "    - Frete mais barato\n",
    "    - Visita a empresa\n",
    "    - Oferecer personal stylist\n",
    "    - Recomendar cross sell \n",
    "    - Oferecer conteúdo expclusivo"
   ]
  },
  {
   "cell_type": "markdown",
   "id": "d7951d8f",
   "metadata": {
    "hidden": true
   },
   "source": [
    "## Solution Benchmarking"
   ]
  },
  {
   "cell_type": "markdown",
   "id": "705e5f06",
   "metadata": {
    "hidden": true
   },
   "source": [
    "### Desk Research"
   ]
  },
  {
   "cell_type": "markdown",
   "id": "cac0bdef",
   "metadata": {
    "hidden": true
   },
   "source": [
    "Leitura de artigos sobre customer segmentation na internet, para compreender o que o mercado está fazendo.\n",
    "\n",
    "Identificar a partir das soluções do mercado, com o time de negócio, o que podemos fazer como MVP.\n",
    "\n",
    "1. Modelo RFM de segmentação."
   ]
  },
  {
   "cell_type": "markdown",
   "id": "1c87291c",
   "metadata": {},
   "source": [
    "# Environment Preparation"
   ]
  },
  {
   "cell_type": "markdown",
   "id": "ec931d93",
   "metadata": {},
   "source": [
    "## Imports"
   ]
  },
  {
   "cell_type": "code",
   "execution_count": 5,
   "id": "1f507237",
   "metadata": {
    "ExecuteTime": {
     "end_time": "2022-07-29T01:04:39.396185Z",
     "start_time": "2022-07-29T01:04:39.389210Z"
    }
   },
   "outputs": [],
   "source": [
    "import pandas            as pd\n",
    "import seaborn           as sns\n",
    "import datetime          as dt\n",
    "import umap.umap_        as umap\n",
    "\n",
    "from matplotlib               import pyplot as plt\n",
    "from tabulate                 import tabulate\n",
    "from IPython.core.display     import HTML\n",
    "from sklearn                  import cluster as c\n",
    "from sklearn                  import metrics as m\n",
    "from yellowbrick.cluster      import KElbowVisualizer, SilhouetteVisualizer\n",
    "from plotly                   import express as px\n",
    "#from IPython.display         import Image"
   ]
  },
  {
   "cell_type": "markdown",
   "id": "05690cfd",
   "metadata": {},
   "source": [
    "## Helper Functions"
   ]
  },
  {
   "cell_type": "code",
   "execution_count": 6,
   "id": "ceadeb61",
   "metadata": {
    "ExecuteTime": {
     "end_time": "2022-07-29T01:04:44.861768Z",
     "start_time": "2022-07-29T01:04:44.845469Z"
    }
   },
   "outputs": [
    {
     "data": {
      "text/html": [
       "<style>.container { width:100% !important; }</style>"
      ],
      "text/plain": [
       "<IPython.core.display.HTML object>"
      ]
     },
     "metadata": {},
     "output_type": "display_data"
    }
   ],
   "source": [
    "def jupyter_settings():\n",
    "    \"\"\" Optimize general settings, standardize plot sizes, etc. \"\"\"\n",
    "    %matplotlib inline\n",
    "    plt.style.use( 'bmh' )\n",
    "    plt.rcParams['figure.figsize'] = [12, 6]\n",
    "    plt.rcParams['font.size'] = 20\n",
    "    display( HTML( '<style>.container { width:100% !important; }</style>') )\n",
    "    pd.set_option( 'display.expand_frame_repr', False )\n",
    "    pd.set_option('display.max_columns', 30)\n",
    "    pd.set_option('display.max_rows', 30)\n",
    "    sns.set()\n",
    "jupyter_settings()"
   ]
  },
  {
   "cell_type": "markdown",
   "id": "ab6729ab",
   "metadata": {
    "heading_collapsed": true
   },
   "source": [
    "# Data Collection"
   ]
  },
  {
   "cell_type": "code",
   "execution_count": 4,
   "id": "af91b3a6",
   "metadata": {
    "ExecuteTime": {
     "end_time": "2022-07-25T11:37:07.747439Z",
     "start_time": "2022-07-25T11:37:06.761239Z"
    },
    "hidden": true
   },
   "outputs": [],
   "source": [
    "#read data\n",
    "df_raw = pd.read_csv('../data/raw/Ecommerce.csv', encoding='unicode_escape')"
   ]
  },
  {
   "cell_type": "code",
   "execution_count": 5,
   "id": "121dcdcb",
   "metadata": {
    "ExecuteTime": {
     "end_time": "2022-07-25T11:37:08.029212Z",
     "start_time": "2022-07-25T11:37:07.961088Z"
    },
    "hidden": true
   },
   "outputs": [
    {
     "data": {
      "text/html": [
       "<div>\n",
       "<style scoped>\n",
       "    .dataframe tbody tr th:only-of-type {\n",
       "        vertical-align: middle;\n",
       "    }\n",
       "\n",
       "    .dataframe tbody tr th {\n",
       "        vertical-align: top;\n",
       "    }\n",
       "\n",
       "    .dataframe thead th {\n",
       "        text-align: right;\n",
       "    }\n",
       "</style>\n",
       "<table border=\"1\" class=\"dataframe\">\n",
       "  <thead>\n",
       "    <tr style=\"text-align: right;\">\n",
       "      <th></th>\n",
       "      <th>InvoiceNo</th>\n",
       "      <th>StockCode</th>\n",
       "      <th>Description</th>\n",
       "      <th>Quantity</th>\n",
       "      <th>InvoiceDate</th>\n",
       "      <th>UnitPrice</th>\n",
       "      <th>CustomerID</th>\n",
       "      <th>Country</th>\n",
       "      <th>Unnamed: 8</th>\n",
       "    </tr>\n",
       "  </thead>\n",
       "  <tbody>\n",
       "    <tr>\n",
       "      <th>0</th>\n",
       "      <td>536365</td>\n",
       "      <td>85123A</td>\n",
       "      <td>WHITE HANGING HEART T-LIGHT HOLDER</td>\n",
       "      <td>6</td>\n",
       "      <td>29-Nov-16</td>\n",
       "      <td>2.55</td>\n",
       "      <td>17850.0</td>\n",
       "      <td>United Kingdom</td>\n",
       "      <td>NaN</td>\n",
       "    </tr>\n",
       "    <tr>\n",
       "      <th>1</th>\n",
       "      <td>536365</td>\n",
       "      <td>71053</td>\n",
       "      <td>WHITE METAL LANTERN</td>\n",
       "      <td>6</td>\n",
       "      <td>29-Nov-16</td>\n",
       "      <td>3.39</td>\n",
       "      <td>17850.0</td>\n",
       "      <td>United Kingdom</td>\n",
       "      <td>NaN</td>\n",
       "    </tr>\n",
       "    <tr>\n",
       "      <th>2</th>\n",
       "      <td>536365</td>\n",
       "      <td>84406B</td>\n",
       "      <td>CREAM CUPID HEARTS COAT HANGER</td>\n",
       "      <td>8</td>\n",
       "      <td>29-Nov-16</td>\n",
       "      <td>2.75</td>\n",
       "      <td>17850.0</td>\n",
       "      <td>United Kingdom</td>\n",
       "      <td>NaN</td>\n",
       "    </tr>\n",
       "    <tr>\n",
       "      <th>3</th>\n",
       "      <td>536365</td>\n",
       "      <td>84029G</td>\n",
       "      <td>KNITTED UNION FLAG HOT WATER BOTTLE</td>\n",
       "      <td>6</td>\n",
       "      <td>29-Nov-16</td>\n",
       "      <td>3.39</td>\n",
       "      <td>17850.0</td>\n",
       "      <td>United Kingdom</td>\n",
       "      <td>NaN</td>\n",
       "    </tr>\n",
       "    <tr>\n",
       "      <th>4</th>\n",
       "      <td>536365</td>\n",
       "      <td>84029E</td>\n",
       "      <td>RED WOOLLY HOTTIE WHITE HEART.</td>\n",
       "      <td>6</td>\n",
       "      <td>29-Nov-16</td>\n",
       "      <td>3.39</td>\n",
       "      <td>17850.0</td>\n",
       "      <td>United Kingdom</td>\n",
       "      <td>NaN</td>\n",
       "    </tr>\n",
       "  </tbody>\n",
       "</table>\n",
       "</div>"
      ],
      "text/plain": [
       "  InvoiceNo StockCode                          Description  Quantity InvoiceDate  UnitPrice  CustomerID         Country  Unnamed: 8\n",
       "0    536365    85123A   WHITE HANGING HEART T-LIGHT HOLDER         6   29-Nov-16       2.55     17850.0  United Kingdom         NaN\n",
       "1    536365     71053                  WHITE METAL LANTERN         6   29-Nov-16       3.39     17850.0  United Kingdom         NaN\n",
       "2    536365    84406B       CREAM CUPID HEARTS COAT HANGER         8   29-Nov-16       2.75     17850.0  United Kingdom         NaN\n",
       "3    536365    84029G  KNITTED UNION FLAG HOT WATER BOTTLE         6   29-Nov-16       3.39     17850.0  United Kingdom         NaN\n",
       "4    536365    84029E       RED WOOLLY HOTTIE WHITE HEART.         6   29-Nov-16       3.39     17850.0  United Kingdom         NaN"
      ]
     },
     "execution_count": 5,
     "metadata": {},
     "output_type": "execute_result"
    }
   ],
   "source": [
    "df_raw.head()"
   ]
  },
  {
   "cell_type": "code",
   "execution_count": 6,
   "id": "8c05f584",
   "metadata": {
    "ExecuteTime": {
     "end_time": "2022-07-25T11:37:08.224303Z",
     "start_time": "2022-07-25T11:37:08.085484Z"
    },
    "hidden": true
   },
   "outputs": [
    {
     "data": {
      "text/html": [
       "<div>\n",
       "<style scoped>\n",
       "    .dataframe tbody tr th:only-of-type {\n",
       "        vertical-align: middle;\n",
       "    }\n",
       "\n",
       "    .dataframe tbody tr th {\n",
       "        vertical-align: top;\n",
       "    }\n",
       "\n",
       "    .dataframe thead th {\n",
       "        text-align: right;\n",
       "    }\n",
       "</style>\n",
       "<table border=\"1\" class=\"dataframe\">\n",
       "  <thead>\n",
       "    <tr style=\"text-align: right;\">\n",
       "      <th></th>\n",
       "      <th>InvoiceNo</th>\n",
       "      <th>StockCode</th>\n",
       "      <th>Description</th>\n",
       "      <th>Quantity</th>\n",
       "      <th>InvoiceDate</th>\n",
       "      <th>UnitPrice</th>\n",
       "      <th>CustomerID</th>\n",
       "      <th>Country</th>\n",
       "    </tr>\n",
       "  </thead>\n",
       "  <tbody>\n",
       "    <tr>\n",
       "      <th>185427</th>\n",
       "      <td>552816</td>\n",
       "      <td>22698</td>\n",
       "      <td>PINK REGENCY TEACUP AND SAUCER</td>\n",
       "      <td>3</td>\n",
       "      <td>9-May-17</td>\n",
       "      <td>2.95</td>\n",
       "      <td>15521.0</td>\n",
       "      <td>United Kingdom</td>\n",
       "    </tr>\n",
       "    <tr>\n",
       "      <th>275769</th>\n",
       "      <td>561009</td>\n",
       "      <td>23158</td>\n",
       "      <td>SET OF 5 LUCKY CAT MAGNETS</td>\n",
       "      <td>12</td>\n",
       "      <td>20-Jul-17</td>\n",
       "      <td>2.08</td>\n",
       "      <td>15856.0</td>\n",
       "      <td>United Kingdom</td>\n",
       "    </tr>\n",
       "    <tr>\n",
       "      <th>123973</th>\n",
       "      <td>546928</td>\n",
       "      <td>22820</td>\n",
       "      <td>GIFT BAG BIRTHDAY</td>\n",
       "      <td>12</td>\n",
       "      <td>16-Mar-17</td>\n",
       "      <td>0.65</td>\n",
       "      <td>17685.0</td>\n",
       "      <td>United Kingdom</td>\n",
       "    </tr>\n",
       "  </tbody>\n",
       "</table>\n",
       "</div>"
      ],
      "text/plain": [
       "       InvoiceNo StockCode                     Description  Quantity InvoiceDate  UnitPrice  CustomerID         Country\n",
       "185427    552816     22698  PINK REGENCY TEACUP AND SAUCER         3    9-May-17       2.95     15521.0  United Kingdom\n",
       "275769    561009     23158     SET OF 5 LUCKY CAT MAGNETS         12   20-Jul-17       2.08     15856.0  United Kingdom\n",
       "123973    546928     22820               GIFT BAG BIRTHDAY        12   16-Mar-17       0.65     17685.0  United Kingdom"
      ]
     },
     "execution_count": 6,
     "metadata": {},
     "output_type": "execute_result"
    }
   ],
   "source": [
    "df_raw = df_raw.drop('Unnamed: 8', axis=1).copy()\n",
    "df_raw.sample(3)"
   ]
  },
  {
   "cell_type": "markdown",
   "id": "ce0e190a",
   "metadata": {
    "ExecuteTime": {
     "end_time": "2022-07-20T15:55:51.244105Z",
     "start_time": "2022-07-20T15:55:51.239421Z"
    },
    "heading_collapsed": true
   },
   "source": [
    "# Data Description"
   ]
  },
  {
   "cell_type": "code",
   "execution_count": 7,
   "id": "ec355957",
   "metadata": {
    "ExecuteTime": {
     "end_time": "2022-07-25T11:37:08.323154Z",
     "start_time": "2022-07-25T11:37:08.290269Z"
    },
    "hidden": true
   },
   "outputs": [],
   "source": [
    "df1 = df_raw.copy()"
   ]
  },
  {
   "cell_type": "markdown",
   "id": "bb55da75",
   "metadata": {
    "hidden": true
   },
   "source": [
    "## Rename Columns"
   ]
  },
  {
   "cell_type": "code",
   "execution_count": 8,
   "id": "6938ae83",
   "metadata": {
    "ExecuteTime": {
     "end_time": "2022-07-25T11:37:08.515049Z",
     "start_time": "2022-07-25T11:37:08.451402Z"
    },
    "hidden": true
   },
   "outputs": [
    {
     "data": {
      "text/html": [
       "<div>\n",
       "<style scoped>\n",
       "    .dataframe tbody tr th:only-of-type {\n",
       "        vertical-align: middle;\n",
       "    }\n",
       "\n",
       "    .dataframe tbody tr th {\n",
       "        vertical-align: top;\n",
       "    }\n",
       "\n",
       "    .dataframe thead th {\n",
       "        text-align: right;\n",
       "    }\n",
       "</style>\n",
       "<table border=\"1\" class=\"dataframe\">\n",
       "  <thead>\n",
       "    <tr style=\"text-align: right;\">\n",
       "      <th></th>\n",
       "      <th>InvoiceNo</th>\n",
       "      <th>StockCode</th>\n",
       "      <th>Description</th>\n",
       "      <th>Quantity</th>\n",
       "      <th>InvoiceDate</th>\n",
       "      <th>UnitPrice</th>\n",
       "      <th>CustomerID</th>\n",
       "      <th>Country</th>\n",
       "    </tr>\n",
       "  </thead>\n",
       "  <tbody>\n",
       "    <tr>\n",
       "      <th>302445</th>\n",
       "      <td>563431</td>\n",
       "      <td>23144</td>\n",
       "      <td>ZINC T-LIGHT HOLDER STARS SMALL</td>\n",
       "      <td>12</td>\n",
       "      <td>14-Aug-17</td>\n",
       "      <td>0.83</td>\n",
       "      <td>16266.0</td>\n",
       "      <td>United Kingdom</td>\n",
       "    </tr>\n",
       "    <tr>\n",
       "      <th>394329</th>\n",
       "      <td>570871</td>\n",
       "      <td>85032A</td>\n",
       "      <td>ROMANTIC IMAGES GIFT WRAP SET</td>\n",
       "      <td>2</td>\n",
       "      <td>10-Oct-17</td>\n",
       "      <td>1.63</td>\n",
       "      <td>NaN</td>\n",
       "      <td>United Kingdom</td>\n",
       "    </tr>\n",
       "    <tr>\n",
       "      <th>307422</th>\n",
       "      <td>563917</td>\n",
       "      <td>21121</td>\n",
       "      <td>SET/10 RED POLKADOT PARTY CANDLES</td>\n",
       "      <td>2</td>\n",
       "      <td>19-Aug-17</td>\n",
       "      <td>1.25</td>\n",
       "      <td>14572.0</td>\n",
       "      <td>United Kingdom</td>\n",
       "    </tr>\n",
       "  </tbody>\n",
       "</table>\n",
       "</div>"
      ],
      "text/plain": [
       "       InvoiceNo StockCode                        Description  Quantity InvoiceDate  UnitPrice  CustomerID         Country\n",
       "302445    563431     23144    ZINC T-LIGHT HOLDER STARS SMALL        12   14-Aug-17       0.83     16266.0  United Kingdom\n",
       "394329    570871    85032A      ROMANTIC IMAGES GIFT WRAP SET         2   10-Oct-17       1.63         NaN  United Kingdom\n",
       "307422    563917     21121  SET/10 RED POLKADOT PARTY CANDLES         2   19-Aug-17       1.25     14572.0  United Kingdom"
      ]
     },
     "execution_count": 8,
     "metadata": {},
     "output_type": "execute_result"
    }
   ],
   "source": [
    "df1.sample(3)"
   ]
  },
  {
   "cell_type": "code",
   "execution_count": 9,
   "id": "d12b1587",
   "metadata": {
    "ExecuteTime": {
     "end_time": "2022-07-25T11:37:08.612747Z",
     "start_time": "2022-07-25T11:37:08.603898Z"
    },
    "hidden": true
   },
   "outputs": [
    {
     "data": {
      "text/plain": [
       "Index(['InvoiceNo', 'StockCode', 'Description', 'Quantity', 'InvoiceDate',\n",
       "       'UnitPrice', 'CustomerID', 'Country'],\n",
       "      dtype='object')"
      ]
     },
     "execution_count": 9,
     "metadata": {},
     "output_type": "execute_result"
    }
   ],
   "source": [
    "df1.columns"
   ]
  },
  {
   "cell_type": "code",
   "execution_count": 10,
   "id": "ea787ef3",
   "metadata": {
    "ExecuteTime": {
     "end_time": "2022-07-25T11:37:08.728378Z",
     "start_time": "2022-07-25T11:37:08.717964Z"
    },
    "hidden": true
   },
   "outputs": [],
   "source": [
    "df1.columns = ['invoice_no', 'stock_code', 'description', 'quantity', 'invoice_date',\n",
    "       'unit_price', 'customer_id', 'country']"
   ]
  },
  {
   "cell_type": "markdown",
   "id": "160e6de9",
   "metadata": {
    "hidden": true
   },
   "source": [
    "## Feature Description "
   ]
  },
  {
   "cell_type": "code",
   "execution_count": 11,
   "id": "4ad5b92a",
   "metadata": {
    "ExecuteTime": {
     "end_time": "2022-07-25T11:37:08.826827Z",
     "start_time": "2022-07-25T11:37:08.813111Z"
    },
    "hidden": true,
    "scrolled": true
   },
   "outputs": [
    {
     "name": "stdout",
     "output_type": "stream",
     "text": [
      "Columns       Meaning\n",
      "------------  -----------------------------------------------\n",
      "invoice_no    unique identifier of each transaction\n",
      "stock_code    item code\n",
      "description   item name\n",
      "quantity      quantity of each item purchased per transaction\n",
      "invoice_date  the day the transaction took place\n",
      "unit_price    product price per unit\n",
      "customer_id   unique customer identifier\n",
      "country       customer's country of residence\n"
     ]
    }
   ],
   "source": [
    "# Explain feature meanings\n",
    "tab_meanings = [['Columns', 'Meaning'],\n",
    "        ['invoice_no', 'unique identifier of each transaction'],\n",
    "        ['stock_code', 'item code'],\n",
    "        ['description', 'item name'],\n",
    "        ['quantity', 'quantity of each item purchased per transaction'],\n",
    "        ['invoice_date', 'the day the transaction took place'],\n",
    "        ['unit_price', 'product price per unit'],\n",
    "        ['customer_id', 'unique customer identifier'],\n",
    "        ['country', 'customer\\'s country of residence']\n",
    "      ]\n",
    "print(tabulate(tab_meanings, headers='firstrow', stralign='left', tablefmt='simple'))"
   ]
  },
  {
   "cell_type": "code",
   "execution_count": 12,
   "id": "c03d6b57",
   "metadata": {
    "ExecuteTime": {
     "end_time": "2022-07-25T11:37:08.964294Z",
     "start_time": "2022-07-25T11:37:08.915632Z"
    },
    "hidden": true
   },
   "outputs": [
    {
     "data": {
      "text/html": [
       "<div>\n",
       "<style scoped>\n",
       "    .dataframe tbody tr th:only-of-type {\n",
       "        vertical-align: middle;\n",
       "    }\n",
       "\n",
       "    .dataframe tbody tr th {\n",
       "        vertical-align: top;\n",
       "    }\n",
       "\n",
       "    .dataframe thead th {\n",
       "        text-align: right;\n",
       "    }\n",
       "</style>\n",
       "<table border=\"1\" class=\"dataframe\">\n",
       "  <thead>\n",
       "    <tr style=\"text-align: right;\">\n",
       "      <th></th>\n",
       "      <th>invoice_no</th>\n",
       "      <th>stock_code</th>\n",
       "      <th>description</th>\n",
       "      <th>quantity</th>\n",
       "      <th>invoice_date</th>\n",
       "      <th>unit_price</th>\n",
       "      <th>customer_id</th>\n",
       "      <th>country</th>\n",
       "    </tr>\n",
       "  </thead>\n",
       "  <tbody>\n",
       "    <tr>\n",
       "      <th>188057</th>\n",
       "      <td>553013</td>\n",
       "      <td>23110</td>\n",
       "      <td>PARISIENNE KEY CABINET</td>\n",
       "      <td>1</td>\n",
       "      <td>10-May-17</td>\n",
       "      <td>12.46</td>\n",
       "      <td>NaN</td>\n",
       "      <td>United Kingdom</td>\n",
       "    </tr>\n",
       "    <tr>\n",
       "      <th>477752</th>\n",
       "      <td>577076</td>\n",
       "      <td>20983</td>\n",
       "      <td>12 PENCILS TALL TUBE RED RETROSPOT</td>\n",
       "      <td>4</td>\n",
       "      <td>15-Nov-17</td>\n",
       "      <td>0.85</td>\n",
       "      <td>14362.0</td>\n",
       "      <td>United Kingdom</td>\n",
       "    </tr>\n",
       "    <tr>\n",
       "      <th>248961</th>\n",
       "      <td>558877</td>\n",
       "      <td>84692</td>\n",
       "      <td>BOX OF 24 COCKTAIL PARASOLS</td>\n",
       "      <td>4</td>\n",
       "      <td>2-Jul-17</td>\n",
       "      <td>0.42</td>\n",
       "      <td>17841.0</td>\n",
       "      <td>United Kingdom</td>\n",
       "    </tr>\n",
       "  </tbody>\n",
       "</table>\n",
       "</div>"
      ],
      "text/plain": [
       "       invoice_no stock_code                         description  quantity invoice_date  unit_price  customer_id         country\n",
       "188057     553013      23110             PARISIENNE KEY CABINET          1    10-May-17       12.46          NaN  United Kingdom\n",
       "477752     577076      20983  12 PENCILS TALL TUBE RED RETROSPOT         4    15-Nov-17        0.85      14362.0  United Kingdom\n",
       "248961     558877      84692         BOX OF 24 COCKTAIL PARASOLS         4     2-Jul-17        0.42      17841.0  United Kingdom"
      ]
     },
     "execution_count": 12,
     "metadata": {},
     "output_type": "execute_result"
    }
   ],
   "source": [
    "df1.sample(3)"
   ]
  },
  {
   "cell_type": "markdown",
   "id": "88d5523f",
   "metadata": {
    "hidden": true
   },
   "source": [
    "## Data Dimensions"
   ]
  },
  {
   "cell_type": "code",
   "execution_count": 13,
   "id": "aa0ee26f",
   "metadata": {
    "ExecuteTime": {
     "end_time": "2022-07-25T11:37:09.060495Z",
     "start_time": "2022-07-25T11:37:09.049611Z"
    },
    "hidden": true
   },
   "outputs": [
    {
     "name": "stdout",
     "output_type": "stream",
     "text": [
      "Number of rows: 541909\n",
      "Number of columns: 8\n"
     ]
    }
   ],
   "source": [
    "print(f'Number of rows: {df1.shape[0]}')\n",
    "print(f'Number of columns: {df1.shape[1]}')"
   ]
  },
  {
   "cell_type": "code",
   "execution_count": 14,
   "id": "1f20a030",
   "metadata": {
    "ExecuteTime": {
     "end_time": "2022-07-25T11:37:09.780496Z",
     "start_time": "2022-07-25T11:37:09.144972Z"
    },
    "hidden": true
   },
   "outputs": [
    {
     "name": "stdout",
     "output_type": "stream",
     "text": [
      "<class 'pandas.core.frame.DataFrame'>\n",
      "RangeIndex: 541909 entries, 0 to 541908\n",
      "Data columns (total 8 columns):\n",
      " #   Column        Non-Null Count   Dtype  \n",
      "---  ------        --------------   -----  \n",
      " 0   invoice_no    541909 non-null  object \n",
      " 1   stock_code    541909 non-null  object \n",
      " 2   description   540455 non-null  object \n",
      " 3   quantity      541909 non-null  int64  \n",
      " 4   invoice_date  541909 non-null  object \n",
      " 5   unit_price    541909 non-null  float64\n",
      " 6   customer_id   406829 non-null  float64\n",
      " 7   country       541909 non-null  object \n",
      "dtypes: float64(2), int64(1), object(5)\n",
      "memory usage: 33.1+ MB\n"
     ]
    }
   ],
   "source": [
    "df1.info()"
   ]
  },
  {
   "cell_type": "markdown",
   "id": "e5b733be",
   "metadata": {
    "hidden": true
   },
   "source": [
    "## Check NA"
   ]
  },
  {
   "cell_type": "code",
   "execution_count": 15,
   "id": "37b8dfe5",
   "metadata": {
    "ExecuteTime": {
     "end_time": "2022-07-25T11:37:10.414088Z",
     "start_time": "2022-07-25T11:37:09.872237Z"
    },
    "hidden": true
   },
   "outputs": [
    {
     "data": {
      "text/plain": [
       "invoice_no           0\n",
       "stock_code           0\n",
       "description       1454\n",
       "quantity             0\n",
       "invoice_date         0\n",
       "unit_price           0\n",
       "customer_id     135080\n",
       "country              0\n",
       "dtype: int64"
      ]
     },
     "execution_count": 15,
     "metadata": {},
     "output_type": "execute_result"
    }
   ],
   "source": [
    "df1.isna().sum()"
   ]
  },
  {
   "cell_type": "markdown",
   "id": "d54092c6",
   "metadata": {
    "hidden": true
   },
   "source": [
    "## Replace NA"
   ]
  },
  {
   "cell_type": "code",
   "execution_count": 16,
   "id": "0db81a48",
   "metadata": {
    "ExecuteTime": {
     "end_time": "2022-07-25T11:37:10.706450Z",
     "start_time": "2022-07-25T11:37:10.526658Z"
    },
    "hidden": true
   },
   "outputs": [],
   "source": [
    "#remove rows with NA\n",
    "df1 = df1.dropna( subset=['description','customer_id'] )"
   ]
  },
  {
   "cell_type": "code",
   "execution_count": 17,
   "id": "9ecb1860",
   "metadata": {
    "ExecuteTime": {
     "end_time": "2022-07-25T11:37:10.783269Z",
     "start_time": "2022-07-25T11:37:10.774618Z"
    },
    "hidden": true
   },
   "outputs": [
    {
     "name": "stdout",
     "output_type": "stream",
     "text": [
      "Removed data: 0.25%\n"
     ]
    }
   ],
   "source": [
    "print (f'Removed data: { 1-(df1.shape[0] / df_raw.shape[0]):.2f}%')"
   ]
  },
  {
   "cell_type": "code",
   "execution_count": 18,
   "id": "d434530d",
   "metadata": {
    "ExecuteTime": {
     "end_time": "2022-07-25T11:37:10.872986Z",
     "start_time": "2022-07-25T11:37:10.849490Z"
    },
    "hidden": true
   },
   "outputs": [
    {
     "data": {
      "text/html": [
       "<div>\n",
       "<style scoped>\n",
       "    .dataframe tbody tr th:only-of-type {\n",
       "        vertical-align: middle;\n",
       "    }\n",
       "\n",
       "    .dataframe tbody tr th {\n",
       "        vertical-align: top;\n",
       "    }\n",
       "\n",
       "    .dataframe thead th {\n",
       "        text-align: right;\n",
       "    }\n",
       "</style>\n",
       "<table border=\"1\" class=\"dataframe\">\n",
       "  <thead>\n",
       "    <tr style=\"text-align: right;\">\n",
       "      <th></th>\n",
       "      <th>invoice_no</th>\n",
       "      <th>stock_code</th>\n",
       "      <th>description</th>\n",
       "      <th>quantity</th>\n",
       "      <th>invoice_date</th>\n",
       "      <th>unit_price</th>\n",
       "      <th>customer_id</th>\n",
       "      <th>country</th>\n",
       "    </tr>\n",
       "  </thead>\n",
       "  <tbody>\n",
       "    <tr>\n",
       "      <th>541904</th>\n",
       "      <td>581587</td>\n",
       "      <td>22613</td>\n",
       "      <td>PACK OF 20 SPACEBOY NAPKINS</td>\n",
       "      <td>12</td>\n",
       "      <td>7-Dec-17</td>\n",
       "      <td>0.85</td>\n",
       "      <td>12680.0</td>\n",
       "      <td>France</td>\n",
       "    </tr>\n",
       "    <tr>\n",
       "      <th>541905</th>\n",
       "      <td>581587</td>\n",
       "      <td>22899</td>\n",
       "      <td>CHILDREN'S APRON DOLLY GIRL</td>\n",
       "      <td>6</td>\n",
       "      <td>7-Dec-17</td>\n",
       "      <td>2.10</td>\n",
       "      <td>12680.0</td>\n",
       "      <td>France</td>\n",
       "    </tr>\n",
       "    <tr>\n",
       "      <th>541906</th>\n",
       "      <td>581587</td>\n",
       "      <td>23254</td>\n",
       "      <td>CHILDRENS CUTLERY DOLLY GIRL</td>\n",
       "      <td>4</td>\n",
       "      <td>7-Dec-17</td>\n",
       "      <td>4.15</td>\n",
       "      <td>12680.0</td>\n",
       "      <td>France</td>\n",
       "    </tr>\n",
       "    <tr>\n",
       "      <th>541907</th>\n",
       "      <td>581587</td>\n",
       "      <td>23255</td>\n",
       "      <td>CHILDRENS CUTLERY CIRCUS PARADE</td>\n",
       "      <td>4</td>\n",
       "      <td>7-Dec-17</td>\n",
       "      <td>4.15</td>\n",
       "      <td>12680.0</td>\n",
       "      <td>France</td>\n",
       "    </tr>\n",
       "    <tr>\n",
       "      <th>541908</th>\n",
       "      <td>581587</td>\n",
       "      <td>22138</td>\n",
       "      <td>BAKING SET 9 PIECE RETROSPOT</td>\n",
       "      <td>3</td>\n",
       "      <td>7-Dec-17</td>\n",
       "      <td>4.95</td>\n",
       "      <td>12680.0</td>\n",
       "      <td>France</td>\n",
       "    </tr>\n",
       "  </tbody>\n",
       "</table>\n",
       "</div>"
      ],
      "text/plain": [
       "       invoice_no stock_code                      description  quantity invoice_date  unit_price  customer_id country\n",
       "541904     581587      22613      PACK OF 20 SPACEBOY NAPKINS        12     7-Dec-17        0.85      12680.0  France\n",
       "541905     581587      22899     CHILDREN'S APRON DOLLY GIRL          6     7-Dec-17        2.10      12680.0  France\n",
       "541906     581587      23254    CHILDRENS CUTLERY DOLLY GIRL          4     7-Dec-17        4.15      12680.0  France\n",
       "541907     581587      23255  CHILDRENS CUTLERY CIRCUS PARADE         4     7-Dec-17        4.15      12680.0  France\n",
       "541908     581587      22138    BAKING SET 9 PIECE RETROSPOT          3     7-Dec-17        4.95      12680.0  France"
      ]
     },
     "execution_count": 18,
     "metadata": {},
     "output_type": "execute_result"
    }
   ],
   "source": [
    "df1.tail()"
   ]
  },
  {
   "cell_type": "code",
   "execution_count": 19,
   "id": "a2fd61af",
   "metadata": {
    "ExecuteTime": {
     "end_time": "2022-07-25T11:37:10.956956Z",
     "start_time": "2022-07-25T11:37:10.941130Z"
    },
    "hidden": true
   },
   "outputs": [],
   "source": [
    "#reset index\n",
    "df1 = df1.reset_index(drop=True)"
   ]
  },
  {
   "cell_type": "code",
   "execution_count": 20,
   "id": "159507e7",
   "metadata": {
    "ExecuteTime": {
     "end_time": "2022-07-25T11:37:16.491272Z",
     "start_time": "2022-07-25T11:37:16.481166Z"
    },
    "hidden": true
   },
   "outputs": [
    {
     "data": {
      "text/plain": [
       "(406829, 8)"
      ]
     },
     "execution_count": 20,
     "metadata": {},
     "output_type": "execute_result"
    }
   ],
   "source": [
    "#new num of rows\n",
    "df1.shape"
   ]
  },
  {
   "cell_type": "code",
   "execution_count": 21,
   "id": "708a0060",
   "metadata": {
    "ExecuteTime": {
     "end_time": "2022-07-25T11:37:17.639858Z",
     "start_time": "2022-07-25T11:37:17.256765Z"
    },
    "hidden": true
   },
   "outputs": [
    {
     "data": {
      "text/plain": [
       "invoice_no      0\n",
       "stock_code      0\n",
       "description     0\n",
       "quantity        0\n",
       "invoice_date    0\n",
       "unit_price      0\n",
       "customer_id     0\n",
       "country         0\n",
       "dtype: int64"
      ]
     },
     "execution_count": 21,
     "metadata": {},
     "output_type": "execute_result"
    }
   ],
   "source": [
    "#check\n",
    "df1.isna().sum()"
   ]
  },
  {
   "cell_type": "markdown",
   "id": "9b687668",
   "metadata": {
    "hidden": true
   },
   "source": [
    "## Change Types"
   ]
  },
  {
   "cell_type": "code",
   "execution_count": 22,
   "id": "b71b09ac",
   "metadata": {
    "ExecuteTime": {
     "end_time": "2022-07-25T11:37:31.384279Z",
     "start_time": "2022-07-25T11:37:31.376998Z"
    },
    "hidden": true
   },
   "outputs": [],
   "source": [
    "#correct data types ensure correct calculations using the columns on next sessions"
   ]
  },
  {
   "cell_type": "code",
   "execution_count": 23,
   "id": "d5e32103",
   "metadata": {
    "ExecuteTime": {
     "end_time": "2022-07-25T11:37:31.694946Z",
     "start_time": "2022-07-25T11:37:31.685462Z"
    },
    "hidden": true,
    "scrolled": true
   },
   "outputs": [
    {
     "data": {
      "text/plain": [
       "invoice_no       object\n",
       "stock_code       object\n",
       "description      object\n",
       "quantity          int64\n",
       "invoice_date     object\n",
       "unit_price      float64\n",
       "customer_id     float64\n",
       "country          object\n",
       "dtype: object"
      ]
     },
     "execution_count": 23,
     "metadata": {},
     "output_type": "execute_result"
    }
   ],
   "source": [
    "df1.dtypes"
   ]
  },
  {
   "cell_type": "code",
   "execution_count": 24,
   "id": "98b9e89e",
   "metadata": {
    "ExecuteTime": {
     "end_time": "2022-07-25T11:37:32.056196Z",
     "start_time": "2022-07-25T11:37:32.017783Z"
    },
    "hidden": true
   },
   "outputs": [
    {
     "data": {
      "text/html": [
       "<div>\n",
       "<style scoped>\n",
       "    .dataframe tbody tr th:only-of-type {\n",
       "        vertical-align: middle;\n",
       "    }\n",
       "\n",
       "    .dataframe tbody tr th {\n",
       "        vertical-align: top;\n",
       "    }\n",
       "\n",
       "    .dataframe thead th {\n",
       "        text-align: right;\n",
       "    }\n",
       "</style>\n",
       "<table border=\"1\" class=\"dataframe\">\n",
       "  <thead>\n",
       "    <tr style=\"text-align: right;\">\n",
       "      <th></th>\n",
       "      <th>invoice_no</th>\n",
       "      <th>stock_code</th>\n",
       "      <th>description</th>\n",
       "      <th>quantity</th>\n",
       "      <th>invoice_date</th>\n",
       "      <th>unit_price</th>\n",
       "      <th>customer_id</th>\n",
       "      <th>country</th>\n",
       "    </tr>\n",
       "  </thead>\n",
       "  <tbody>\n",
       "    <tr>\n",
       "      <th>136066</th>\n",
       "      <td>553476</td>\n",
       "      <td>23298</td>\n",
       "      <td>SPOTTY BUNTING</td>\n",
       "      <td>3</td>\n",
       "      <td>15-May-17</td>\n",
       "      <td>4.95</td>\n",
       "      <td>14221.0</td>\n",
       "      <td>United Kingdom</td>\n",
       "    </tr>\n",
       "    <tr>\n",
       "      <th>209269</th>\n",
       "      <td>562453</td>\n",
       "      <td>22693</td>\n",
       "      <td>GROW A FLYTRAP OR SUNFLOWER IN TIN</td>\n",
       "      <td>24</td>\n",
       "      <td>3-Aug-17</td>\n",
       "      <td>1.25</td>\n",
       "      <td>18097.0</td>\n",
       "      <td>United Kingdom</td>\n",
       "    </tr>\n",
       "    <tr>\n",
       "      <th>9739</th>\n",
       "      <td>537429</td>\n",
       "      <td>22355</td>\n",
       "      <td>CHARLOTTE BAG SUKI DESIGN</td>\n",
       "      <td>4</td>\n",
       "      <td>4-Dec-16</td>\n",
       "      <td>0.85</td>\n",
       "      <td>12748.0</td>\n",
       "      <td>United Kingdom</td>\n",
       "    </tr>\n",
       "  </tbody>\n",
       "</table>\n",
       "</div>"
      ],
      "text/plain": [
       "       invoice_no stock_code                         description  quantity invoice_date  unit_price  customer_id         country\n",
       "136066     553476      23298                      SPOTTY BUNTING         3    15-May-17        4.95      14221.0  United Kingdom\n",
       "209269     562453      22693  GROW A FLYTRAP OR SUNFLOWER IN TIN        24     3-Aug-17        1.25      18097.0  United Kingdom\n",
       "9739       537429      22355           CHARLOTTE BAG SUKI DESIGN         4     4-Dec-16        0.85      12748.0  United Kingdom"
      ]
     },
     "execution_count": 24,
     "metadata": {},
     "output_type": "execute_result"
    }
   ],
   "source": [
    "df1.sample(3)"
   ]
  },
  {
   "cell_type": "code",
   "execution_count": 25,
   "id": "c6adc8c9",
   "metadata": {
    "ExecuteTime": {
     "end_time": "2022-07-25T11:37:33.559220Z",
     "start_time": "2022-07-25T11:37:33.441395Z"
    },
    "hidden": true
   },
   "outputs": [],
   "source": [
    "#invoice_date\n",
    "df1['invoice_date'] = pd.to_datetime(df1['invoice_date'], format='%d-%b-%y')"
   ]
  },
  {
   "cell_type": "code",
   "execution_count": 26,
   "id": "23cca799",
   "metadata": {
    "ExecuteTime": {
     "end_time": "2022-07-25T11:37:33.792826Z",
     "start_time": "2022-07-25T11:37:33.774339Z"
    },
    "hidden": true
   },
   "outputs": [],
   "source": [
    "#customer_id\n",
    "df1['customer_id'] = df1['customer_id'].astype(int)"
   ]
  },
  {
   "cell_type": "code",
   "execution_count": 27,
   "id": "bacd3c12",
   "metadata": {
    "ExecuteTime": {
     "end_time": "2022-07-25T11:37:34.054131Z",
     "start_time": "2022-07-25T11:37:34.048693Z"
    },
    "hidden": true
   },
   "outputs": [],
   "source": [
    "# invoice_no\n",
    "#df1['invoice_no'] = df1['invoice_no'].astype(int)\n",
    "#there are letters on invoice, so let it like object(string). Ex: 'C536379', 'C554197'"
   ]
  },
  {
   "cell_type": "code",
   "execution_count": 28,
   "id": "858f1008",
   "metadata": {
    "ExecuteTime": {
     "end_time": "2022-07-25T11:37:34.247243Z",
     "start_time": "2022-07-25T11:37:34.242675Z"
    },
    "hidden": true
   },
   "outputs": [],
   "source": [
    "# stock_code\n",
    "#df1['stock_code'] = df1['stock_code'].astype(int)\n",
    "#there are letters on stock_code, so let it like object(string). Ex: '85123A', '84406B'"
   ]
  },
  {
   "cell_type": "code",
   "execution_count": 29,
   "id": "667c699a",
   "metadata": {
    "ExecuteTime": {
     "end_time": "2022-07-25T11:37:34.615459Z",
     "start_time": "2022-07-25T11:37:34.567809Z"
    },
    "hidden": true
   },
   "outputs": [
    {
     "data": {
      "text/html": [
       "<div>\n",
       "<style scoped>\n",
       "    .dataframe tbody tr th:only-of-type {\n",
       "        vertical-align: middle;\n",
       "    }\n",
       "\n",
       "    .dataframe tbody tr th {\n",
       "        vertical-align: top;\n",
       "    }\n",
       "\n",
       "    .dataframe thead th {\n",
       "        text-align: right;\n",
       "    }\n",
       "</style>\n",
       "<table border=\"1\" class=\"dataframe\">\n",
       "  <thead>\n",
       "    <tr style=\"text-align: right;\">\n",
       "      <th></th>\n",
       "      <th>invoice_no</th>\n",
       "      <th>stock_code</th>\n",
       "      <th>description</th>\n",
       "      <th>quantity</th>\n",
       "      <th>invoice_date</th>\n",
       "      <th>unit_price</th>\n",
       "      <th>customer_id</th>\n",
       "      <th>country</th>\n",
       "    </tr>\n",
       "  </thead>\n",
       "  <tbody>\n",
       "    <tr>\n",
       "      <th>87424</th>\n",
       "      <td>547375</td>\n",
       "      <td>21506</td>\n",
       "      <td>FANCY FONT BIRTHDAY CARD,</td>\n",
       "      <td>12</td>\n",
       "      <td>2017-03-20</td>\n",
       "      <td>0.42</td>\n",
       "      <td>13196</td>\n",
       "      <td>United Kingdom</td>\n",
       "    </tr>\n",
       "    <tr>\n",
       "      <th>80613</th>\n",
       "      <td>546562</td>\n",
       "      <td>22798</td>\n",
       "      <td>ANTIQUE GLASS DRESSING TABLE POT</td>\n",
       "      <td>8</td>\n",
       "      <td>2017-03-13</td>\n",
       "      <td>2.95</td>\n",
       "      <td>16293</td>\n",
       "      <td>United Kingdom</td>\n",
       "    </tr>\n",
       "    <tr>\n",
       "      <th>218703</th>\n",
       "      <td>563538</td>\n",
       "      <td>21123</td>\n",
       "      <td>SET/10 IVORY POLKADOT PARTY CANDLES</td>\n",
       "      <td>4</td>\n",
       "      <td>2017-08-15</td>\n",
       "      <td>1.25</td>\n",
       "      <td>17841</td>\n",
       "      <td>United Kingdom</td>\n",
       "    </tr>\n",
       "  </tbody>\n",
       "</table>\n",
       "</div>"
      ],
      "text/plain": [
       "       invoice_no stock_code                          description  quantity invoice_date  unit_price  customer_id         country\n",
       "87424      547375      21506           FANCY FONT BIRTHDAY CARD,         12   2017-03-20        0.42        13196  United Kingdom\n",
       "80613      546562      22798     ANTIQUE GLASS DRESSING TABLE POT         8   2017-03-13        2.95        16293  United Kingdom\n",
       "218703     563538      21123  SET/10 IVORY POLKADOT PARTY CANDLES         4   2017-08-15        1.25        17841  United Kingdom"
      ]
     },
     "execution_count": 29,
     "metadata": {},
     "output_type": "execute_result"
    }
   ],
   "source": [
    "df1.sample(3)"
   ]
  },
  {
   "cell_type": "code",
   "execution_count": 30,
   "id": "48a4dffa",
   "metadata": {
    "ExecuteTime": {
     "end_time": "2022-07-25T11:37:36.153245Z",
     "start_time": "2022-07-25T11:37:36.137138Z"
    },
    "hidden": true
   },
   "outputs": [
    {
     "data": {
      "text/plain": [
       "invoice_no              object\n",
       "stock_code              object\n",
       "description             object\n",
       "quantity                 int64\n",
       "invoice_date    datetime64[ns]\n",
       "unit_price             float64\n",
       "customer_id              int64\n",
       "country                 object\n",
       "dtype: object"
      ]
     },
     "execution_count": 30,
     "metadata": {},
     "output_type": "execute_result"
    }
   ],
   "source": [
    "df1.dtypes"
   ]
  },
  {
   "cell_type": "markdown",
   "id": "2c1a0a9f",
   "metadata": {
    "hidden": true
   },
   "source": [
    "## Descriptive Statistics"
   ]
  },
  {
   "cell_type": "code",
   "execution_count": 31,
   "id": "d02f0e80",
   "metadata": {
    "ExecuteTime": {
     "end_time": "2022-07-25T11:37:38.845911Z",
     "start_time": "2022-07-25T11:37:38.839364Z"
    },
    "hidden": true
   },
   "outputs": [],
   "source": [
    "#pass on first cycle\n",
    "pass"
   ]
  },
  {
   "cell_type": "markdown",
   "id": "ed1153fd",
   "metadata": {
    "heading_collapsed": true
   },
   "source": [
    "# Feature Engeneering"
   ]
  },
  {
   "cell_type": "markdown",
   "id": "b42137d7",
   "metadata": {
    "hidden": true
   },
   "source": [
    "## Feature Creation"
   ]
  },
  {
   "cell_type": "code",
   "execution_count": 92,
   "id": "4362c236",
   "metadata": {
    "ExecuteTime": {
     "end_time": "2022-07-21T09:46:50.386028Z",
     "start_time": "2022-07-21T09:46:41.106467Z"
    },
    "hidden": true
   },
   "outputs": [],
   "source": [
    "#save dataset\n",
    "#df1.to_csv(\"../data/interim/df1_data_description_done.csv\")"
   ]
  },
  {
   "cell_type": "code",
   "execution_count": 33,
   "id": "969a4b6a",
   "metadata": {
    "ExecuteTime": {
     "end_time": "2022-07-25T11:38:12.675473Z",
     "start_time": "2022-07-25T11:38:11.943775Z"
    },
    "hidden": true
   },
   "outputs": [
    {
     "data": {
      "text/html": [
       "<div>\n",
       "<style scoped>\n",
       "    .dataframe tbody tr th:only-of-type {\n",
       "        vertical-align: middle;\n",
       "    }\n",
       "\n",
       "    .dataframe tbody tr th {\n",
       "        vertical-align: top;\n",
       "    }\n",
       "\n",
       "    .dataframe thead th {\n",
       "        text-align: right;\n",
       "    }\n",
       "</style>\n",
       "<table border=\"1\" class=\"dataframe\">\n",
       "  <thead>\n",
       "    <tr style=\"text-align: right;\">\n",
       "      <th></th>\n",
       "      <th>invoice_no</th>\n",
       "      <th>stock_code</th>\n",
       "      <th>description</th>\n",
       "      <th>quantity</th>\n",
       "      <th>invoice_date</th>\n",
       "      <th>unit_price</th>\n",
       "      <th>customer_id</th>\n",
       "      <th>country</th>\n",
       "    </tr>\n",
       "  </thead>\n",
       "  <tbody>\n",
       "    <tr>\n",
       "      <th>381335</th>\n",
       "      <td>579001</td>\n",
       "      <td>22384</td>\n",
       "      <td>LUNCH BAG PINK POLKADOT</td>\n",
       "      <td>4</td>\n",
       "      <td>2017-11-25</td>\n",
       "      <td>1.65</td>\n",
       "      <td>15555</td>\n",
       "      <td>United Kingdom</td>\n",
       "    </tr>\n",
       "    <tr>\n",
       "      <th>331422</th>\n",
       "      <td>574550</td>\n",
       "      <td>85123A</td>\n",
       "      <td>WHITE HANGING HEART T-LIGHT HOLDER</td>\n",
       "      <td>4</td>\n",
       "      <td>2017-11-02</td>\n",
       "      <td>2.95</td>\n",
       "      <td>12484</td>\n",
       "      <td>Spain</td>\n",
       "    </tr>\n",
       "    <tr>\n",
       "      <th>133906</th>\n",
       "      <td>553184</td>\n",
       "      <td>22098</td>\n",
       "      <td>BOUDOIR SQUARE TISSUE BOX</td>\n",
       "      <td>3</td>\n",
       "      <td>2017-05-13</td>\n",
       "      <td>1.25</td>\n",
       "      <td>13232</td>\n",
       "      <td>United Kingdom</td>\n",
       "    </tr>\n",
       "  </tbody>\n",
       "</table>\n",
       "</div>"
      ],
      "text/plain": [
       "       invoice_no stock_code                         description  quantity invoice_date  unit_price  customer_id         country\n",
       "381335     579001      22384             LUNCH BAG PINK POLKADOT         4   2017-11-25        1.65        15555  United Kingdom\n",
       "331422     574550     85123A  WHITE HANGING HEART T-LIGHT HOLDER         4   2017-11-02        2.95        12484           Spain\n",
       "133906     553184      22098           BOUDOIR SQUARE TISSUE BOX         3   2017-05-13        1.25        13232  United Kingdom"
      ]
     },
     "execution_count": 33,
     "metadata": {},
     "output_type": "execute_result"
    }
   ],
   "source": [
    "df2 = pd.read_csv(\"../data/interim/df1_data_description_done.csv\", index_col=0, parse_dates=['invoice_date'])\n",
    "df2.sample(3)"
   ]
  },
  {
   "cell_type": "code",
   "execution_count": 34,
   "id": "7a3ab2ac",
   "metadata": {
    "ExecuteTime": {
     "end_time": "2022-07-25T11:38:15.663177Z",
     "start_time": "2022-07-25T11:38:15.640176Z"
    },
    "hidden": true
   },
   "outputs": [
    {
     "data": {
      "text/plain": [
       "invoice_no              object\n",
       "stock_code              object\n",
       "description             object\n",
       "quantity                 int64\n",
       "invoice_date    datetime64[ns]\n",
       "unit_price             float64\n",
       "customer_id              int64\n",
       "country                 object\n",
       "dtype: object"
      ]
     },
     "execution_count": 34,
     "metadata": {},
     "output_type": "execute_result"
    }
   ],
   "source": [
    "df2.dtypes"
   ]
  },
  {
   "cell_type": "code",
   "execution_count": 35,
   "id": "248bf672",
   "metadata": {
    "ExecuteTime": {
     "end_time": "2022-07-25T11:38:24.902162Z",
     "start_time": "2022-07-25T11:38:24.896959Z"
    },
    "hidden": true
   },
   "outputs": [],
   "source": [
    "# our current granularity is: stock_code + invoice_date\n",
    "# we need to have customer as granularity, to have is's features on a new table.\n",
    "# let's start adjusting the dataset to build an RFM Segmentation Model (Recency, Frequency, Monetary Value)"
   ]
  },
  {
   "cell_type": "code",
   "execution_count": 36,
   "id": "21a49db0",
   "metadata": {
    "ExecuteTime": {
     "end_time": "2022-07-25T11:38:26.933779Z",
     "start_time": "2022-07-25T11:38:26.855769Z"
    },
    "hidden": true
   },
   "outputs": [
    {
     "data": {
      "text/html": [
       "<div>\n",
       "<style scoped>\n",
       "    .dataframe tbody tr th:only-of-type {\n",
       "        vertical-align: middle;\n",
       "    }\n",
       "\n",
       "    .dataframe tbody tr th {\n",
       "        vertical-align: top;\n",
       "    }\n",
       "\n",
       "    .dataframe thead th {\n",
       "        text-align: right;\n",
       "    }\n",
       "</style>\n",
       "<table border=\"1\" class=\"dataframe\">\n",
       "  <thead>\n",
       "    <tr style=\"text-align: right;\">\n",
       "      <th></th>\n",
       "      <th>invoice_no</th>\n",
       "      <th>stock_code</th>\n",
       "      <th>description</th>\n",
       "      <th>quantity</th>\n",
       "      <th>invoice_date</th>\n",
       "      <th>unit_price</th>\n",
       "      <th>customer_id</th>\n",
       "      <th>country</th>\n",
       "    </tr>\n",
       "  </thead>\n",
       "  <tbody>\n",
       "    <tr>\n",
       "      <th>0</th>\n",
       "      <td>536365</td>\n",
       "      <td>85123A</td>\n",
       "      <td>WHITE HANGING HEART T-LIGHT HOLDER</td>\n",
       "      <td>6</td>\n",
       "      <td>2016-11-29</td>\n",
       "      <td>2.55</td>\n",
       "      <td>17850</td>\n",
       "      <td>United Kingdom</td>\n",
       "    </tr>\n",
       "    <tr>\n",
       "      <th>1</th>\n",
       "      <td>536365</td>\n",
       "      <td>71053</td>\n",
       "      <td>WHITE METAL LANTERN</td>\n",
       "      <td>6</td>\n",
       "      <td>2016-11-29</td>\n",
       "      <td>3.39</td>\n",
       "      <td>17850</td>\n",
       "      <td>United Kingdom</td>\n",
       "    </tr>\n",
       "    <tr>\n",
       "      <th>2</th>\n",
       "      <td>536365</td>\n",
       "      <td>84406B</td>\n",
       "      <td>CREAM CUPID HEARTS COAT HANGER</td>\n",
       "      <td>8</td>\n",
       "      <td>2016-11-29</td>\n",
       "      <td>2.75</td>\n",
       "      <td>17850</td>\n",
       "      <td>United Kingdom</td>\n",
       "    </tr>\n",
       "    <tr>\n",
       "      <th>3</th>\n",
       "      <td>536365</td>\n",
       "      <td>84029G</td>\n",
       "      <td>KNITTED UNION FLAG HOT WATER BOTTLE</td>\n",
       "      <td>6</td>\n",
       "      <td>2016-11-29</td>\n",
       "      <td>3.39</td>\n",
       "      <td>17850</td>\n",
       "      <td>United Kingdom</td>\n",
       "    </tr>\n",
       "    <tr>\n",
       "      <th>4</th>\n",
       "      <td>536365</td>\n",
       "      <td>84029E</td>\n",
       "      <td>RED WOOLLY HOTTIE WHITE HEART.</td>\n",
       "      <td>6</td>\n",
       "      <td>2016-11-29</td>\n",
       "      <td>3.39</td>\n",
       "      <td>17850</td>\n",
       "      <td>United Kingdom</td>\n",
       "    </tr>\n",
       "    <tr>\n",
       "      <th>5</th>\n",
       "      <td>536365</td>\n",
       "      <td>22752</td>\n",
       "      <td>SET 7 BABUSHKA NESTING BOXES</td>\n",
       "      <td>2</td>\n",
       "      <td>2016-11-29</td>\n",
       "      <td>7.65</td>\n",
       "      <td>17850</td>\n",
       "      <td>United Kingdom</td>\n",
       "    </tr>\n",
       "    <tr>\n",
       "      <th>6</th>\n",
       "      <td>536365</td>\n",
       "      <td>21730</td>\n",
       "      <td>GLASS STAR FROSTED T-LIGHT HOLDER</td>\n",
       "      <td>6</td>\n",
       "      <td>2016-11-29</td>\n",
       "      <td>4.25</td>\n",
       "      <td>17850</td>\n",
       "      <td>United Kingdom</td>\n",
       "    </tr>\n",
       "  </tbody>\n",
       "</table>\n",
       "</div>"
      ],
      "text/plain": [
       "  invoice_no stock_code                          description  quantity invoice_date  unit_price  customer_id         country\n",
       "0     536365     85123A   WHITE HANGING HEART T-LIGHT HOLDER         6   2016-11-29        2.55        17850  United Kingdom\n",
       "1     536365      71053                  WHITE METAL LANTERN         6   2016-11-29        3.39        17850  United Kingdom\n",
       "2     536365     84406B       CREAM CUPID HEARTS COAT HANGER         8   2016-11-29        2.75        17850  United Kingdom\n",
       "3     536365     84029G  KNITTED UNION FLAG HOT WATER BOTTLE         6   2016-11-29        3.39        17850  United Kingdom\n",
       "4     536365     84029E       RED WOOLLY HOTTIE WHITE HEART.         6   2016-11-29        3.39        17850  United Kingdom\n",
       "5     536365      22752         SET 7 BABUSHKA NESTING BOXES         2   2016-11-29        7.65        17850  United Kingdom\n",
       "6     536365      21730    GLASS STAR FROSTED T-LIGHT HOLDER         6   2016-11-29        4.25        17850  United Kingdom"
      ]
     },
     "execution_count": 36,
     "metadata": {},
     "output_type": "execute_result"
    }
   ],
   "source": [
    "#get first customer as sample\n",
    "df2.loc[ df2['invoice_no'] == '536365']"
   ]
  },
  {
   "cell_type": "code",
   "execution_count": 37,
   "id": "26767a39",
   "metadata": {
    "ExecuteTime": {
     "end_time": "2022-07-25T11:38:33.326645Z",
     "start_time": "2022-07-25T11:38:33.295929Z"
    },
    "hidden": true
   },
   "outputs": [],
   "source": [
    "#create the referente table with uniques customer_id (and reset index)\n",
    "df_ref = df2.drop(['invoice_no', 'stock_code', 'description', 'quantity', 'invoice_date',\n",
    "       'unit_price', 'country'], axis=1).drop_duplicates(ignore_index=True).copy()"
   ]
  },
  {
   "cell_type": "code",
   "execution_count": 38,
   "id": "a142d188",
   "metadata": {
    "ExecuteTime": {
     "end_time": "2022-07-25T11:38:33.706411Z",
     "start_time": "2022-07-25T11:38:33.696058Z"
    },
    "hidden": true
   },
   "outputs": [
    {
     "data": {
      "text/html": [
       "<div>\n",
       "<style scoped>\n",
       "    .dataframe tbody tr th:only-of-type {\n",
       "        vertical-align: middle;\n",
       "    }\n",
       "\n",
       "    .dataframe tbody tr th {\n",
       "        vertical-align: top;\n",
       "    }\n",
       "\n",
       "    .dataframe thead th {\n",
       "        text-align: right;\n",
       "    }\n",
       "</style>\n",
       "<table border=\"1\" class=\"dataframe\">\n",
       "  <thead>\n",
       "    <tr style=\"text-align: right;\">\n",
       "      <th></th>\n",
       "      <th>customer_id</th>\n",
       "    </tr>\n",
       "  </thead>\n",
       "  <tbody>\n",
       "    <tr>\n",
       "      <th>0</th>\n",
       "      <td>17850</td>\n",
       "    </tr>\n",
       "    <tr>\n",
       "      <th>1</th>\n",
       "      <td>13047</td>\n",
       "    </tr>\n",
       "    <tr>\n",
       "      <th>2</th>\n",
       "      <td>12583</td>\n",
       "    </tr>\n",
       "    <tr>\n",
       "      <th>3</th>\n",
       "      <td>13748</td>\n",
       "    </tr>\n",
       "    <tr>\n",
       "      <th>4</th>\n",
       "      <td>15100</td>\n",
       "    </tr>\n",
       "  </tbody>\n",
       "</table>\n",
       "</div>"
      ],
      "text/plain": [
       "   customer_id\n",
       "0        17850\n",
       "1        13047\n",
       "2        12583\n",
       "3        13748\n",
       "4        15100"
      ]
     },
     "execution_count": 38,
     "metadata": {},
     "output_type": "execute_result"
    }
   ],
   "source": [
    "df_ref.head()"
   ]
  },
  {
   "cell_type": "code",
   "execution_count": 39,
   "id": "5ba4d220",
   "metadata": {
    "ExecuteTime": {
     "end_time": "2022-07-25T11:38:34.124900Z",
     "start_time": "2022-07-25T11:38:34.119029Z"
    },
    "hidden": true
   },
   "outputs": [],
   "source": [
    "#let's now create the 3 variables needed to use the RFM Segmentation Model "
   ]
  },
  {
   "cell_type": "markdown",
   "id": "e792bd36",
   "metadata": {
    "heading_collapsed": true,
    "hidden": true
   },
   "source": [
    "### gross_revenue"
   ]
  },
  {
   "cell_type": "code",
   "execution_count": 40,
   "id": "d7e2656b",
   "metadata": {
    "ExecuteTime": {
     "end_time": "2022-07-25T11:38:37.826065Z",
     "start_time": "2022-07-25T11:38:37.778675Z"
    },
    "hidden": true
   },
   "outputs": [
    {
     "data": {
      "text/html": [
       "<div>\n",
       "<style scoped>\n",
       "    .dataframe tbody tr th:only-of-type {\n",
       "        vertical-align: middle;\n",
       "    }\n",
       "\n",
       "    .dataframe tbody tr th {\n",
       "        vertical-align: top;\n",
       "    }\n",
       "\n",
       "    .dataframe thead th {\n",
       "        text-align: right;\n",
       "    }\n",
       "</style>\n",
       "<table border=\"1\" class=\"dataframe\">\n",
       "  <thead>\n",
       "    <tr style=\"text-align: right;\">\n",
       "      <th></th>\n",
       "      <th>invoice_no</th>\n",
       "      <th>stock_code</th>\n",
       "      <th>description</th>\n",
       "      <th>quantity</th>\n",
       "      <th>invoice_date</th>\n",
       "      <th>unit_price</th>\n",
       "      <th>customer_id</th>\n",
       "      <th>country</th>\n",
       "      <th>gross_revenue</th>\n",
       "    </tr>\n",
       "  </thead>\n",
       "  <tbody>\n",
       "    <tr>\n",
       "      <th>77541</th>\n",
       "      <td>546215</td>\n",
       "      <td>21929</td>\n",
       "      <td>JUMBO BAG PINK VINTAGE PAISLEY</td>\n",
       "      <td>2</td>\n",
       "      <td>2017-03-08</td>\n",
       "      <td>1.95</td>\n",
       "      <td>14713</td>\n",
       "      <td>United Kingdom</td>\n",
       "      <td>3.90</td>\n",
       "    </tr>\n",
       "    <tr>\n",
       "      <th>310140</th>\n",
       "      <td>572475</td>\n",
       "      <td>23473</td>\n",
       "      <td>WOODLAND SMALL RED FELT HEART</td>\n",
       "      <td>1</td>\n",
       "      <td>2017-10-22</td>\n",
       "      <td>0.83</td>\n",
       "      <td>15271</td>\n",
       "      <td>United Kingdom</td>\n",
       "      <td>0.83</td>\n",
       "    </tr>\n",
       "    <tr>\n",
       "      <th>48979</th>\n",
       "      <td>542789</td>\n",
       "      <td>21165</td>\n",
       "      <td>BEWARE OF THE CAT METAL SIGN</td>\n",
       "      <td>48</td>\n",
       "      <td>2017-01-30</td>\n",
       "      <td>1.45</td>\n",
       "      <td>17511</td>\n",
       "      <td>United Kingdom</td>\n",
       "      <td>69.60</td>\n",
       "    </tr>\n",
       "  </tbody>\n",
       "</table>\n",
       "</div>"
      ],
      "text/plain": [
       "       invoice_no stock_code                     description  quantity invoice_date  unit_price  customer_id         country  gross_revenue\n",
       "77541      546215      21929  JUMBO BAG PINK VINTAGE PAISLEY         2   2017-03-08        1.95        14713  United Kingdom           3.90\n",
       "310140     572475      23473   WOODLAND SMALL RED FELT HEART         1   2017-10-22        0.83        15271  United Kingdom           0.83\n",
       "48979      542789      21165   BEWARE OF THE CAT METAL SIGN         48   2017-01-30        1.45        17511  United Kingdom          69.60"
      ]
     },
     "execution_count": 40,
     "metadata": {},
     "output_type": "execute_result"
    }
   ],
   "source": [
    "# Gross Revenue: (quantity * price of each purchase)\n",
    "df2['gross_revenue'] = df2['quantity'] * df2['unit_price']\n",
    "df2.sample(3)"
   ]
  },
  {
   "cell_type": "code",
   "execution_count": 41,
   "id": "af94ad17",
   "metadata": {
    "ExecuteTime": {
     "end_time": "2022-07-25T11:38:38.138346Z",
     "start_time": "2022-07-25T11:38:38.095768Z"
    },
    "hidden": true
   },
   "outputs": [
    {
     "data": {
      "text/html": [
       "<div>\n",
       "<style scoped>\n",
       "    .dataframe tbody tr th:only-of-type {\n",
       "        vertical-align: middle;\n",
       "    }\n",
       "\n",
       "    .dataframe tbody tr th {\n",
       "        vertical-align: top;\n",
       "    }\n",
       "\n",
       "    .dataframe thead th {\n",
       "        text-align: right;\n",
       "    }\n",
       "</style>\n",
       "<table border=\"1\" class=\"dataframe\">\n",
       "  <thead>\n",
       "    <tr style=\"text-align: right;\">\n",
       "      <th></th>\n",
       "      <th>customer_id</th>\n",
       "      <th>gross_revenue</th>\n",
       "    </tr>\n",
       "  </thead>\n",
       "  <tbody>\n",
       "    <tr>\n",
       "      <th>0</th>\n",
       "      <td>12346</td>\n",
       "      <td>0.00</td>\n",
       "    </tr>\n",
       "    <tr>\n",
       "      <th>1</th>\n",
       "      <td>12347</td>\n",
       "      <td>4310.00</td>\n",
       "    </tr>\n",
       "    <tr>\n",
       "      <th>2</th>\n",
       "      <td>12348</td>\n",
       "      <td>1797.24</td>\n",
       "    </tr>\n",
       "    <tr>\n",
       "      <th>3</th>\n",
       "      <td>12349</td>\n",
       "      <td>1757.55</td>\n",
       "    </tr>\n",
       "    <tr>\n",
       "      <th>4</th>\n",
       "      <td>12350</td>\n",
       "      <td>334.40</td>\n",
       "    </tr>\n",
       "    <tr>\n",
       "      <th>...</th>\n",
       "      <td>...</td>\n",
       "      <td>...</td>\n",
       "    </tr>\n",
       "    <tr>\n",
       "      <th>4367</th>\n",
       "      <td>18280</td>\n",
       "      <td>180.60</td>\n",
       "    </tr>\n",
       "    <tr>\n",
       "      <th>4368</th>\n",
       "      <td>18281</td>\n",
       "      <td>80.82</td>\n",
       "    </tr>\n",
       "    <tr>\n",
       "      <th>4369</th>\n",
       "      <td>18282</td>\n",
       "      <td>176.60</td>\n",
       "    </tr>\n",
       "    <tr>\n",
       "      <th>4370</th>\n",
       "      <td>18283</td>\n",
       "      <td>2094.88</td>\n",
       "    </tr>\n",
       "    <tr>\n",
       "      <th>4371</th>\n",
       "      <td>18287</td>\n",
       "      <td>1837.28</td>\n",
       "    </tr>\n",
       "  </tbody>\n",
       "</table>\n",
       "<p>4372 rows × 2 columns</p>\n",
       "</div>"
      ],
      "text/plain": [
       "      customer_id  gross_revenue\n",
       "0           12346           0.00\n",
       "1           12347        4310.00\n",
       "2           12348        1797.24\n",
       "3           12349        1757.55\n",
       "4           12350         334.40\n",
       "...           ...            ...\n",
       "4367        18280         180.60\n",
       "4368        18281          80.82\n",
       "4369        18282         176.60\n",
       "4370        18283        2094.88\n",
       "4371        18287        1837.28\n",
       "\n",
       "[4372 rows x 2 columns]"
      ]
     },
     "execution_count": 41,
     "metadata": {},
     "output_type": "execute_result"
    }
   ],
   "source": [
    "# df_monetary = gorss_revenue by customer\n",
    "df_monetary = df2[['customer_id','gross_revenue']].groupby('customer_id').sum().reset_index()\n",
    "df_monetary"
   ]
  },
  {
   "cell_type": "code",
   "execution_count": 42,
   "id": "a441933e",
   "metadata": {
    "ExecuteTime": {
     "end_time": "2022-07-25T11:38:39.520637Z",
     "start_time": "2022-07-25T11:38:39.471130Z"
    },
    "hidden": true
   },
   "outputs": [],
   "source": [
    "#merge df_ref + df_monetary\n",
    "df_ref = pd.merge( df_ref, df_monetary, on='customer_id', how='left' )"
   ]
  },
  {
   "cell_type": "code",
   "execution_count": 43,
   "id": "5f4c7b91",
   "metadata": {
    "ExecuteTime": {
     "end_time": "2022-07-25T11:38:39.814531Z",
     "start_time": "2022-07-25T11:38:39.797326Z"
    },
    "hidden": true
   },
   "outputs": [
    {
     "data": {
      "text/plain": [
       "customer_id      0\n",
       "gross_revenue    0\n",
       "dtype: int64"
      ]
     },
     "execution_count": 43,
     "metadata": {},
     "output_type": "execute_result"
    }
   ],
   "source": [
    "#check possible join problems\n",
    "df_ref.isna().sum()"
   ]
  },
  {
   "cell_type": "code",
   "execution_count": 44,
   "id": "c0fe65e0",
   "metadata": {
    "ExecuteTime": {
     "end_time": "2022-07-25T11:38:40.110057Z",
     "start_time": "2022-07-25T11:38:40.094704Z"
    },
    "hidden": true
   },
   "outputs": [
    {
     "data": {
      "text/html": [
       "<div>\n",
       "<style scoped>\n",
       "    .dataframe tbody tr th:only-of-type {\n",
       "        vertical-align: middle;\n",
       "    }\n",
       "\n",
       "    .dataframe tbody tr th {\n",
       "        vertical-align: top;\n",
       "    }\n",
       "\n",
       "    .dataframe thead th {\n",
       "        text-align: right;\n",
       "    }\n",
       "</style>\n",
       "<table border=\"1\" class=\"dataframe\">\n",
       "  <thead>\n",
       "    <tr style=\"text-align: right;\">\n",
       "      <th></th>\n",
       "      <th>customer_id</th>\n",
       "      <th>gross_revenue</th>\n",
       "    </tr>\n",
       "  </thead>\n",
       "  <tbody>\n",
       "    <tr>\n",
       "      <th>0</th>\n",
       "      <td>17850</td>\n",
       "      <td>5288.63</td>\n",
       "    </tr>\n",
       "    <tr>\n",
       "      <th>1</th>\n",
       "      <td>13047</td>\n",
       "      <td>3079.10</td>\n",
       "    </tr>\n",
       "    <tr>\n",
       "      <th>2</th>\n",
       "      <td>12583</td>\n",
       "      <td>7187.34</td>\n",
       "    </tr>\n",
       "    <tr>\n",
       "      <th>3</th>\n",
       "      <td>13748</td>\n",
       "      <td>948.25</td>\n",
       "    </tr>\n",
       "    <tr>\n",
       "      <th>4</th>\n",
       "      <td>15100</td>\n",
       "      <td>635.10</td>\n",
       "    </tr>\n",
       "  </tbody>\n",
       "</table>\n",
       "</div>"
      ],
      "text/plain": [
       "   customer_id  gross_revenue\n",
       "0        17850        5288.63\n",
       "1        13047        3079.10\n",
       "2        12583        7187.34\n",
       "3        13748         948.25\n",
       "4        15100         635.10"
      ]
     },
     "execution_count": 44,
     "metadata": {},
     "output_type": "execute_result"
    }
   ],
   "source": [
    "#reference table of customer_id with first var\n",
    "df_ref.head()"
   ]
  },
  {
   "cell_type": "markdown",
   "id": "cd1304f0",
   "metadata": {
    "heading_collapsed": true,
    "hidden": true
   },
   "source": [
    "### recency"
   ]
  },
  {
   "cell_type": "code",
   "execution_count": 45,
   "id": "5dae0e0f",
   "metadata": {
    "ExecuteTime": {
     "end_time": "2022-07-25T11:38:42.358369Z",
     "start_time": "2022-07-25T11:38:42.351703Z"
    },
    "hidden": true
   },
   "outputs": [],
   "source": [
    "# Recency: number of days since last purchase"
   ]
  },
  {
   "cell_type": "code",
   "execution_count": 46,
   "id": "ca5a6404",
   "metadata": {
    "ExecuteTime": {
     "end_time": "2022-07-25T11:38:42.835302Z",
     "start_time": "2022-07-25T11:38:42.784495Z"
    },
    "hidden": true
   },
   "outputs": [
    {
     "data": {
      "text/html": [
       "<div>\n",
       "<style scoped>\n",
       "    .dataframe tbody tr th:only-of-type {\n",
       "        vertical-align: middle;\n",
       "    }\n",
       "\n",
       "    .dataframe tbody tr th {\n",
       "        vertical-align: top;\n",
       "    }\n",
       "\n",
       "    .dataframe thead th {\n",
       "        text-align: right;\n",
       "    }\n",
       "</style>\n",
       "<table border=\"1\" class=\"dataframe\">\n",
       "  <thead>\n",
       "    <tr style=\"text-align: right;\">\n",
       "      <th></th>\n",
       "      <th>customer_id</th>\n",
       "      <th>invoice_date</th>\n",
       "    </tr>\n",
       "  </thead>\n",
       "  <tbody>\n",
       "    <tr>\n",
       "      <th>0</th>\n",
       "      <td>12346</td>\n",
       "      <td>2017-01-16</td>\n",
       "    </tr>\n",
       "    <tr>\n",
       "      <th>1</th>\n",
       "      <td>12347</td>\n",
       "      <td>2017-12-05</td>\n",
       "    </tr>\n",
       "    <tr>\n",
       "      <th>2</th>\n",
       "      <td>12348</td>\n",
       "      <td>2017-09-23</td>\n",
       "    </tr>\n",
       "    <tr>\n",
       "      <th>3</th>\n",
       "      <td>12349</td>\n",
       "      <td>2017-11-19</td>\n",
       "    </tr>\n",
       "    <tr>\n",
       "      <th>4</th>\n",
       "      <td>12350</td>\n",
       "      <td>2017-01-31</td>\n",
       "    </tr>\n",
       "  </tbody>\n",
       "</table>\n",
       "</div>"
      ],
      "text/plain": [
       "   customer_id invoice_date\n",
       "0        12346   2017-01-16\n",
       "1        12347   2017-12-05\n",
       "2        12348   2017-09-23\n",
       "3        12349   2017-11-19\n",
       "4        12350   2017-01-31"
      ]
     },
     "execution_count": 46,
     "metadata": {},
     "output_type": "execute_result"
    }
   ],
   "source": [
    "# get each customer's last day of purchase \n",
    "df_recency = df2[['customer_id','invoice_date']].groupby('customer_id').max().reset_index()\n",
    "df_recency.head()"
   ]
  },
  {
   "cell_type": "code",
   "execution_count": 47,
   "id": "f4c887d3",
   "metadata": {
    "ExecuteTime": {
     "end_time": "2022-07-25T11:38:43.155020Z",
     "start_time": "2022-07-25T11:38:43.142369Z"
    },
    "hidden": true
   },
   "outputs": [
    {
     "data": {
      "text/plain": [
       "Timestamp('2017-12-07 00:00:00')"
      ]
     },
     "execution_count": 47,
     "metadata": {},
     "output_type": "execute_result"
    }
   ],
   "source": [
    "#'2017-12-07' is the last day with purchases on this dataset. \n",
    "# Let's assume '2017-12-07' is today, avoiding big distortions. Using updated dataset, last purchase would be recent (dataset is 4y/o +).\n",
    "# In real cases, this variable would be dt.date.today(), and could be updated daily.\n",
    "today = df2['invoice_date'].max()\n",
    "today"
   ]
  },
  {
   "cell_type": "code",
   "execution_count": 48,
   "id": "4ce4201c",
   "metadata": {
    "ExecuteTime": {
     "end_time": "2022-07-25T11:38:44.576267Z",
     "start_time": "2022-07-25T11:38:44.543621Z"
    },
    "hidden": true
   },
   "outputs": [
    {
     "data": {
      "text/html": [
       "<div>\n",
       "<style scoped>\n",
       "    .dataframe tbody tr th:only-of-type {\n",
       "        vertical-align: middle;\n",
       "    }\n",
       "\n",
       "    .dataframe tbody tr th {\n",
       "        vertical-align: top;\n",
       "    }\n",
       "\n",
       "    .dataframe thead th {\n",
       "        text-align: right;\n",
       "    }\n",
       "</style>\n",
       "<table border=\"1\" class=\"dataframe\">\n",
       "  <thead>\n",
       "    <tr style=\"text-align: right;\">\n",
       "      <th></th>\n",
       "      <th>customer_id</th>\n",
       "      <th>invoice_date</th>\n",
       "      <th>recency_days</th>\n",
       "    </tr>\n",
       "  </thead>\n",
       "  <tbody>\n",
       "    <tr>\n",
       "      <th>0</th>\n",
       "      <td>12346</td>\n",
       "      <td>2017-01-16</td>\n",
       "      <td>325</td>\n",
       "    </tr>\n",
       "    <tr>\n",
       "      <th>1</th>\n",
       "      <td>12347</td>\n",
       "      <td>2017-12-05</td>\n",
       "      <td>2</td>\n",
       "    </tr>\n",
       "    <tr>\n",
       "      <th>2</th>\n",
       "      <td>12348</td>\n",
       "      <td>2017-09-23</td>\n",
       "      <td>75</td>\n",
       "    </tr>\n",
       "    <tr>\n",
       "      <th>3</th>\n",
       "      <td>12349</td>\n",
       "      <td>2017-11-19</td>\n",
       "      <td>18</td>\n",
       "    </tr>\n",
       "    <tr>\n",
       "      <th>4</th>\n",
       "      <td>12350</td>\n",
       "      <td>2017-01-31</td>\n",
       "      <td>310</td>\n",
       "    </tr>\n",
       "    <tr>\n",
       "      <th>...</th>\n",
       "      <td>...</td>\n",
       "      <td>...</td>\n",
       "      <td>...</td>\n",
       "    </tr>\n",
       "    <tr>\n",
       "      <th>4367</th>\n",
       "      <td>18280</td>\n",
       "      <td>2017-03-05</td>\n",
       "      <td>277</td>\n",
       "    </tr>\n",
       "    <tr>\n",
       "      <th>4368</th>\n",
       "      <td>18281</td>\n",
       "      <td>2017-06-10</td>\n",
       "      <td>180</td>\n",
       "    </tr>\n",
       "    <tr>\n",
       "      <th>4369</th>\n",
       "      <td>18282</td>\n",
       "      <td>2017-11-30</td>\n",
       "      <td>7</td>\n",
       "    </tr>\n",
       "    <tr>\n",
       "      <th>4370</th>\n",
       "      <td>18283</td>\n",
       "      <td>2017-12-04</td>\n",
       "      <td>3</td>\n",
       "    </tr>\n",
       "    <tr>\n",
       "      <th>4371</th>\n",
       "      <td>18287</td>\n",
       "      <td>2017-10-26</td>\n",
       "      <td>42</td>\n",
       "    </tr>\n",
       "  </tbody>\n",
       "</table>\n",
       "<p>4372 rows × 3 columns</p>\n",
       "</div>"
      ],
      "text/plain": [
       "      customer_id invoice_date  recency_days\n",
       "0           12346   2017-01-16           325\n",
       "1           12347   2017-12-05             2\n",
       "2           12348   2017-09-23            75\n",
       "3           12349   2017-11-19            18\n",
       "4           12350   2017-01-31           310\n",
       "...           ...          ...           ...\n",
       "4367        18280   2017-03-05           277\n",
       "4368        18281   2017-06-10           180\n",
       "4369        18282   2017-11-30             7\n",
       "4370        18283   2017-12-04             3\n",
       "4371        18287   2017-10-26            42\n",
       "\n",
       "[4372 rows x 3 columns]"
      ]
     },
     "execution_count": 48,
     "metadata": {},
     "output_type": "execute_result"
    }
   ],
   "source": [
    "#Calculate number of days since last purchase\n",
    "#\"today\" (being '2017-12-07') - invoice_date (last day of purchase of each customer)\n",
    "df_recency['recency_days'] = (df2['invoice_date'].max() - df_recency['invoice_date']).dt.days\n",
    "df_recency"
   ]
  },
  {
   "cell_type": "code",
   "execution_count": 49,
   "id": "89ea6e13",
   "metadata": {
    "ExecuteTime": {
     "end_time": "2022-07-25T11:38:44.910142Z",
     "start_time": "2022-07-25T11:38:44.895977Z"
    },
    "hidden": true
   },
   "outputs": [
    {
     "data": {
      "text/plain": [
       "Timestamp('2017-12-07 00:00:00')"
      ]
     },
     "execution_count": 49,
     "metadata": {},
     "output_type": "execute_result"
    }
   ],
   "source": [
    "#check recency days (2017-12-07 -> 2017-01-16) = 325 days\n",
    "df2['invoice_date'].max()"
   ]
  },
  {
   "cell_type": "code",
   "execution_count": 50,
   "id": "32856078",
   "metadata": {
    "ExecuteTime": {
     "end_time": "2022-07-25T11:38:46.319194Z",
     "start_time": "2022-07-25T11:38:46.294304Z"
    },
    "hidden": true
   },
   "outputs": [
    {
     "data": {
      "text/html": [
       "<div>\n",
       "<style scoped>\n",
       "    .dataframe tbody tr th:only-of-type {\n",
       "        vertical-align: middle;\n",
       "    }\n",
       "\n",
       "    .dataframe tbody tr th {\n",
       "        vertical-align: top;\n",
       "    }\n",
       "\n",
       "    .dataframe thead th {\n",
       "        text-align: right;\n",
       "    }\n",
       "</style>\n",
       "<table border=\"1\" class=\"dataframe\">\n",
       "  <thead>\n",
       "    <tr style=\"text-align: right;\">\n",
       "      <th></th>\n",
       "      <th>customer_id</th>\n",
       "      <th>invoice_date</th>\n",
       "      <th>recency_days</th>\n",
       "    </tr>\n",
       "  </thead>\n",
       "  <tbody>\n",
       "    <tr>\n",
       "      <th>0</th>\n",
       "      <td>12346</td>\n",
       "      <td>2017-01-16</td>\n",
       "      <td>325</td>\n",
       "    </tr>\n",
       "    <tr>\n",
       "      <th>1</th>\n",
       "      <td>12347</td>\n",
       "      <td>2017-12-05</td>\n",
       "      <td>2</td>\n",
       "    </tr>\n",
       "    <tr>\n",
       "      <th>2</th>\n",
       "      <td>12348</td>\n",
       "      <td>2017-09-23</td>\n",
       "      <td>75</td>\n",
       "    </tr>\n",
       "    <tr>\n",
       "      <th>3</th>\n",
       "      <td>12349</td>\n",
       "      <td>2017-11-19</td>\n",
       "      <td>18</td>\n",
       "    </tr>\n",
       "    <tr>\n",
       "      <th>4</th>\n",
       "      <td>12350</td>\n",
       "      <td>2017-01-31</td>\n",
       "      <td>310</td>\n",
       "    </tr>\n",
       "    <tr>\n",
       "      <th>...</th>\n",
       "      <td>...</td>\n",
       "      <td>...</td>\n",
       "      <td>...</td>\n",
       "    </tr>\n",
       "    <tr>\n",
       "      <th>4367</th>\n",
       "      <td>18280</td>\n",
       "      <td>2017-03-05</td>\n",
       "      <td>277</td>\n",
       "    </tr>\n",
       "    <tr>\n",
       "      <th>4368</th>\n",
       "      <td>18281</td>\n",
       "      <td>2017-06-10</td>\n",
       "      <td>180</td>\n",
       "    </tr>\n",
       "    <tr>\n",
       "      <th>4369</th>\n",
       "      <td>18282</td>\n",
       "      <td>2017-11-30</td>\n",
       "      <td>7</td>\n",
       "    </tr>\n",
       "    <tr>\n",
       "      <th>4370</th>\n",
       "      <td>18283</td>\n",
       "      <td>2017-12-04</td>\n",
       "      <td>3</td>\n",
       "    </tr>\n",
       "    <tr>\n",
       "      <th>4371</th>\n",
       "      <td>18287</td>\n",
       "      <td>2017-10-26</td>\n",
       "      <td>42</td>\n",
       "    </tr>\n",
       "  </tbody>\n",
       "</table>\n",
       "<p>4372 rows × 3 columns</p>\n",
       "</div>"
      ],
      "text/plain": [
       "      customer_id invoice_date  recency_days\n",
       "0           12346   2017-01-16           325\n",
       "1           12347   2017-12-05             2\n",
       "2           12348   2017-09-23            75\n",
       "3           12349   2017-11-19            18\n",
       "4           12350   2017-01-31           310\n",
       "...           ...          ...           ...\n",
       "4367        18280   2017-03-05           277\n",
       "4368        18281   2017-06-10           180\n",
       "4369        18282   2017-11-30             7\n",
       "4370        18283   2017-12-04             3\n",
       "4371        18287   2017-10-26            42\n",
       "\n",
       "[4372 rows x 3 columns]"
      ]
     },
     "execution_count": 50,
     "metadata": {},
     "output_type": "execute_result"
    }
   ],
   "source": [
    "df_recency"
   ]
  },
  {
   "cell_type": "code",
   "execution_count": 51,
   "id": "bdd77a20",
   "metadata": {
    "ExecuteTime": {
     "end_time": "2022-07-25T11:38:46.643140Z",
     "start_time": "2022-07-25T11:38:46.625864Z"
    },
    "hidden": true
   },
   "outputs": [
    {
     "data": {
      "text/html": [
       "<div>\n",
       "<style scoped>\n",
       "    .dataframe tbody tr th:only-of-type {\n",
       "        vertical-align: middle;\n",
       "    }\n",
       "\n",
       "    .dataframe tbody tr th {\n",
       "        vertical-align: top;\n",
       "    }\n",
       "\n",
       "    .dataframe thead th {\n",
       "        text-align: right;\n",
       "    }\n",
       "</style>\n",
       "<table border=\"1\" class=\"dataframe\">\n",
       "  <thead>\n",
       "    <tr style=\"text-align: right;\">\n",
       "      <th></th>\n",
       "      <th>customer_id</th>\n",
       "      <th>recency_days</th>\n",
       "    </tr>\n",
       "  </thead>\n",
       "  <tbody>\n",
       "    <tr>\n",
       "      <th>0</th>\n",
       "      <td>12346</td>\n",
       "      <td>325</td>\n",
       "    </tr>\n",
       "    <tr>\n",
       "      <th>1</th>\n",
       "      <td>12347</td>\n",
       "      <td>2</td>\n",
       "    </tr>\n",
       "    <tr>\n",
       "      <th>2</th>\n",
       "      <td>12348</td>\n",
       "      <td>75</td>\n",
       "    </tr>\n",
       "    <tr>\n",
       "      <th>3</th>\n",
       "      <td>12349</td>\n",
       "      <td>18</td>\n",
       "    </tr>\n",
       "    <tr>\n",
       "      <th>4</th>\n",
       "      <td>12350</td>\n",
       "      <td>310</td>\n",
       "    </tr>\n",
       "    <tr>\n",
       "      <th>...</th>\n",
       "      <td>...</td>\n",
       "      <td>...</td>\n",
       "    </tr>\n",
       "    <tr>\n",
       "      <th>4367</th>\n",
       "      <td>18280</td>\n",
       "      <td>277</td>\n",
       "    </tr>\n",
       "    <tr>\n",
       "      <th>4368</th>\n",
       "      <td>18281</td>\n",
       "      <td>180</td>\n",
       "    </tr>\n",
       "    <tr>\n",
       "      <th>4369</th>\n",
       "      <td>18282</td>\n",
       "      <td>7</td>\n",
       "    </tr>\n",
       "    <tr>\n",
       "      <th>4370</th>\n",
       "      <td>18283</td>\n",
       "      <td>3</td>\n",
       "    </tr>\n",
       "    <tr>\n",
       "      <th>4371</th>\n",
       "      <td>18287</td>\n",
       "      <td>42</td>\n",
       "    </tr>\n",
       "  </tbody>\n",
       "</table>\n",
       "<p>4372 rows × 2 columns</p>\n",
       "</div>"
      ],
      "text/plain": [
       "      customer_id  recency_days\n",
       "0           12346           325\n",
       "1           12347             2\n",
       "2           12348            75\n",
       "3           12349            18\n",
       "4           12350           310\n",
       "...           ...           ...\n",
       "4367        18280           277\n",
       "4368        18281           180\n",
       "4369        18282             7\n",
       "4370        18283             3\n",
       "4371        18287            42\n",
       "\n",
       "[4372 rows x 2 columns]"
      ]
     },
     "execution_count": 51,
     "metadata": {},
     "output_type": "execute_result"
    }
   ],
   "source": [
    "#drop invoice_date (max purchase date) from df_recency\n",
    "df_recency = df_recency[['customer_id', 'recency_days']].copy()\n",
    "df_recency"
   ]
  },
  {
   "cell_type": "code",
   "execution_count": 52,
   "id": "2ecb3f87",
   "metadata": {
    "ExecuteTime": {
     "end_time": "2022-07-25T11:38:47.908656Z",
     "start_time": "2022-07-25T11:38:47.875768Z"
    },
    "hidden": true
   },
   "outputs": [
    {
     "data": {
      "text/html": [
       "<div>\n",
       "<style scoped>\n",
       "    .dataframe tbody tr th:only-of-type {\n",
       "        vertical-align: middle;\n",
       "    }\n",
       "\n",
       "    .dataframe tbody tr th {\n",
       "        vertical-align: top;\n",
       "    }\n",
       "\n",
       "    .dataframe thead th {\n",
       "        text-align: right;\n",
       "    }\n",
       "</style>\n",
       "<table border=\"1\" class=\"dataframe\">\n",
       "  <thead>\n",
       "    <tr style=\"text-align: right;\">\n",
       "      <th></th>\n",
       "      <th>customer_id</th>\n",
       "      <th>gross_revenue</th>\n",
       "      <th>recency_days</th>\n",
       "    </tr>\n",
       "  </thead>\n",
       "  <tbody>\n",
       "    <tr>\n",
       "      <th>0</th>\n",
       "      <td>17850</td>\n",
       "      <td>5288.63</td>\n",
       "      <td>302</td>\n",
       "    </tr>\n",
       "    <tr>\n",
       "      <th>1</th>\n",
       "      <td>13047</td>\n",
       "      <td>3079.10</td>\n",
       "      <td>31</td>\n",
       "    </tr>\n",
       "    <tr>\n",
       "      <th>2</th>\n",
       "      <td>12583</td>\n",
       "      <td>7187.34</td>\n",
       "      <td>2</td>\n",
       "    </tr>\n",
       "    <tr>\n",
       "      <th>3</th>\n",
       "      <td>13748</td>\n",
       "      <td>948.25</td>\n",
       "      <td>95</td>\n",
       "    </tr>\n",
       "    <tr>\n",
       "      <th>4</th>\n",
       "      <td>15100</td>\n",
       "      <td>635.10</td>\n",
       "      <td>330</td>\n",
       "    </tr>\n",
       "    <tr>\n",
       "      <th>...</th>\n",
       "      <td>...</td>\n",
       "      <td>...</td>\n",
       "      <td>...</td>\n",
       "    </tr>\n",
       "    <tr>\n",
       "      <th>4367</th>\n",
       "      <td>13436</td>\n",
       "      <td>196.89</td>\n",
       "      <td>1</td>\n",
       "    </tr>\n",
       "    <tr>\n",
       "      <th>4368</th>\n",
       "      <td>15520</td>\n",
       "      <td>343.50</td>\n",
       "      <td>1</td>\n",
       "    </tr>\n",
       "    <tr>\n",
       "      <th>4369</th>\n",
       "      <td>13298</td>\n",
       "      <td>360.00</td>\n",
       "      <td>1</td>\n",
       "    </tr>\n",
       "    <tr>\n",
       "      <th>4370</th>\n",
       "      <td>14569</td>\n",
       "      <td>227.39</td>\n",
       "      <td>1</td>\n",
       "    </tr>\n",
       "    <tr>\n",
       "      <th>4371</th>\n",
       "      <td>12713</td>\n",
       "      <td>848.55</td>\n",
       "      <td>0</td>\n",
       "    </tr>\n",
       "  </tbody>\n",
       "</table>\n",
       "<p>4372 rows × 3 columns</p>\n",
       "</div>"
      ],
      "text/plain": [
       "      customer_id  gross_revenue  recency_days\n",
       "0           17850        5288.63           302\n",
       "1           13047        3079.10            31\n",
       "2           12583        7187.34             2\n",
       "3           13748         948.25            95\n",
       "4           15100         635.10           330\n",
       "...           ...            ...           ...\n",
       "4367        13436         196.89             1\n",
       "4368        15520         343.50             1\n",
       "4369        13298         360.00             1\n",
       "4370        14569         227.39             1\n",
       "4371        12713         848.55             0\n",
       "\n",
       "[4372 rows x 3 columns]"
      ]
     },
     "execution_count": 52,
     "metadata": {},
     "output_type": "execute_result"
    }
   ],
   "source": [
    "# merge df_recency w/ df_ref\n",
    "df_ref = pd.merge( df_ref, df_recency, on='customer_id', how='left' )\n",
    "df_ref"
   ]
  },
  {
   "cell_type": "code",
   "execution_count": 53,
   "id": "d21f94e8",
   "metadata": {
    "ExecuteTime": {
     "end_time": "2022-07-25T11:38:49.550743Z",
     "start_time": "2022-07-25T11:38:49.526670Z"
    },
    "hidden": true
   },
   "outputs": [
    {
     "data": {
      "text/plain": [
       "customer_id      0\n",
       "gross_revenue    0\n",
       "recency_days     0\n",
       "dtype: int64"
      ]
     },
     "execution_count": 53,
     "metadata": {},
     "output_type": "execute_result"
    }
   ],
   "source": [
    "#check NA\n",
    "df_ref.isna().sum()"
   ]
  },
  {
   "cell_type": "markdown",
   "id": "a4057759",
   "metadata": {
    "hidden": true
   },
   "source": [
    "### frequency"
   ]
  },
  {
   "cell_type": "code",
   "execution_count": 54,
   "id": "f6102f94",
   "metadata": {
    "ExecuteTime": {
     "end_time": "2022-07-25T11:38:51.149040Z",
     "start_time": "2022-07-25T11:38:51.142322Z"
    },
    "hidden": true
   },
   "outputs": [],
   "source": [
    "# Frequency (number of purchases)"
   ]
  },
  {
   "cell_type": "code",
   "execution_count": 55,
   "id": "a8ac2d2f",
   "metadata": {
    "ExecuteTime": {
     "end_time": "2022-07-25T11:38:51.532510Z",
     "start_time": "2022-07-25T11:38:51.512003Z"
    },
    "hidden": true
   },
   "outputs": [
    {
     "data": {
      "text/html": [
       "<div>\n",
       "<style scoped>\n",
       "    .dataframe tbody tr th:only-of-type {\n",
       "        vertical-align: middle;\n",
       "    }\n",
       "\n",
       "    .dataframe tbody tr th {\n",
       "        vertical-align: top;\n",
       "    }\n",
       "\n",
       "    .dataframe thead th {\n",
       "        text-align: right;\n",
       "    }\n",
       "</style>\n",
       "<table border=\"1\" class=\"dataframe\">\n",
       "  <thead>\n",
       "    <tr style=\"text-align: right;\">\n",
       "      <th></th>\n",
       "      <th>customer_id</th>\n",
       "      <th>invoice_no</th>\n",
       "    </tr>\n",
       "  </thead>\n",
       "  <tbody>\n",
       "    <tr>\n",
       "      <th>0</th>\n",
       "      <td>17850</td>\n",
       "      <td>536365</td>\n",
       "    </tr>\n",
       "    <tr>\n",
       "      <th>1</th>\n",
       "      <td>17850</td>\n",
       "      <td>536365</td>\n",
       "    </tr>\n",
       "    <tr>\n",
       "      <th>2</th>\n",
       "      <td>17850</td>\n",
       "      <td>536365</td>\n",
       "    </tr>\n",
       "    <tr>\n",
       "      <th>3</th>\n",
       "      <td>17850</td>\n",
       "      <td>536365</td>\n",
       "    </tr>\n",
       "    <tr>\n",
       "      <th>4</th>\n",
       "      <td>17850</td>\n",
       "      <td>536365</td>\n",
       "    </tr>\n",
       "    <tr>\n",
       "      <th>5</th>\n",
       "      <td>17850</td>\n",
       "      <td>536365</td>\n",
       "    </tr>\n",
       "    <tr>\n",
       "      <th>6</th>\n",
       "      <td>17850</td>\n",
       "      <td>536365</td>\n",
       "    </tr>\n",
       "    <tr>\n",
       "      <th>7</th>\n",
       "      <td>17850</td>\n",
       "      <td>536366</td>\n",
       "    </tr>\n",
       "    <tr>\n",
       "      <th>8</th>\n",
       "      <td>17850</td>\n",
       "      <td>536366</td>\n",
       "    </tr>\n",
       "    <tr>\n",
       "      <th>9</th>\n",
       "      <td>13047</td>\n",
       "      <td>536367</td>\n",
       "    </tr>\n",
       "  </tbody>\n",
       "</table>\n",
       "</div>"
      ],
      "text/plain": [
       "   customer_id invoice_no\n",
       "0        17850     536365\n",
       "1        17850     536365\n",
       "2        17850     536365\n",
       "3        17850     536365\n",
       "4        17850     536365\n",
       "5        17850     536365\n",
       "6        17850     536365\n",
       "7        17850     536366\n",
       "8        17850     536366\n",
       "9        13047     536367"
      ]
     },
     "execution_count": 55,
     "metadata": {},
     "output_type": "execute_result"
    }
   ],
   "source": [
    "#check customer_id and invoice_no\n",
    "#there are many duplicated invoices per customer\n",
    "df2[['customer_id','invoice_no']].head(10)"
   ]
  },
  {
   "cell_type": "code",
   "execution_count": 56,
   "id": "fc98e2cf",
   "metadata": {
    "ExecuteTime": {
     "end_time": "2022-07-25T11:38:52.157918Z",
     "start_time": "2022-07-25T11:38:52.058287Z"
    },
    "hidden": true
   },
   "outputs": [
    {
     "data": {
      "text/html": [
       "<div>\n",
       "<style scoped>\n",
       "    .dataframe tbody tr th:only-of-type {\n",
       "        vertical-align: middle;\n",
       "    }\n",
       "\n",
       "    .dataframe tbody tr th {\n",
       "        vertical-align: top;\n",
       "    }\n",
       "\n",
       "    .dataframe thead th {\n",
       "        text-align: right;\n",
       "    }\n",
       "</style>\n",
       "<table border=\"1\" class=\"dataframe\">\n",
       "  <thead>\n",
       "    <tr style=\"text-align: right;\">\n",
       "      <th></th>\n",
       "      <th>customer_id</th>\n",
       "      <th>invoice_no</th>\n",
       "    </tr>\n",
       "  </thead>\n",
       "  <tbody>\n",
       "    <tr>\n",
       "      <th>0</th>\n",
       "      <td>12346</td>\n",
       "      <td>2</td>\n",
       "    </tr>\n",
       "    <tr>\n",
       "      <th>1</th>\n",
       "      <td>12347</td>\n",
       "      <td>7</td>\n",
       "    </tr>\n",
       "    <tr>\n",
       "      <th>2</th>\n",
       "      <td>12348</td>\n",
       "      <td>4</td>\n",
       "    </tr>\n",
       "    <tr>\n",
       "      <th>3</th>\n",
       "      <td>12349</td>\n",
       "      <td>1</td>\n",
       "    </tr>\n",
       "    <tr>\n",
       "      <th>4</th>\n",
       "      <td>12350</td>\n",
       "      <td>1</td>\n",
       "    </tr>\n",
       "  </tbody>\n",
       "</table>\n",
       "</div>"
      ],
      "text/plain": [
       "   customer_id  invoice_no\n",
       "0        12346           2\n",
       "1        12347           7\n",
       "2        12348           4\n",
       "3        12349           1\n",
       "4        12350           1"
      ]
     },
     "execution_count": 56,
     "metadata": {},
     "output_type": "execute_result"
    }
   ],
   "source": [
    "#create new dataset with customer_id and invoice_no\n",
    "#drop duplicates() to get count just one duplicate per customer\n",
    "df_freq = df2[['customer_id','invoice_no']].drop_duplicates().groupby('customer_id').count().reset_index()\n",
    "df_freq.head()"
   ]
  },
  {
   "cell_type": "code",
   "execution_count": 57,
   "id": "7b6b048f",
   "metadata": {
    "ExecuteTime": {
     "end_time": "2022-07-25T11:38:52.847510Z",
     "start_time": "2022-07-25T11:38:52.822402Z"
    },
    "hidden": true
   },
   "outputs": [
    {
     "data": {
      "text/html": [
       "<div>\n",
       "<style scoped>\n",
       "    .dataframe tbody tr th:only-of-type {\n",
       "        vertical-align: middle;\n",
       "    }\n",
       "\n",
       "    .dataframe tbody tr th {\n",
       "        vertical-align: top;\n",
       "    }\n",
       "\n",
       "    .dataframe thead th {\n",
       "        text-align: right;\n",
       "    }\n",
       "</style>\n",
       "<table border=\"1\" class=\"dataframe\">\n",
       "  <thead>\n",
       "    <tr style=\"text-align: right;\">\n",
       "      <th></th>\n",
       "      <th>customer_id</th>\n",
       "      <th>gross_revenue</th>\n",
       "      <th>recency_days</th>\n",
       "      <th>invoice_no</th>\n",
       "    </tr>\n",
       "  </thead>\n",
       "  <tbody>\n",
       "    <tr>\n",
       "      <th>0</th>\n",
       "      <td>17850</td>\n",
       "      <td>5288.63</td>\n",
       "      <td>302</td>\n",
       "      <td>35</td>\n",
       "    </tr>\n",
       "    <tr>\n",
       "      <th>1</th>\n",
       "      <td>13047</td>\n",
       "      <td>3079.10</td>\n",
       "      <td>31</td>\n",
       "      <td>18</td>\n",
       "    </tr>\n",
       "    <tr>\n",
       "      <th>2</th>\n",
       "      <td>12583</td>\n",
       "      <td>7187.34</td>\n",
       "      <td>2</td>\n",
       "      <td>18</td>\n",
       "    </tr>\n",
       "    <tr>\n",
       "      <th>3</th>\n",
       "      <td>13748</td>\n",
       "      <td>948.25</td>\n",
       "      <td>95</td>\n",
       "      <td>5</td>\n",
       "    </tr>\n",
       "    <tr>\n",
       "      <th>4</th>\n",
       "      <td>15100</td>\n",
       "      <td>635.10</td>\n",
       "      <td>330</td>\n",
       "      <td>6</td>\n",
       "    </tr>\n",
       "  </tbody>\n",
       "</table>\n",
       "</div>"
      ],
      "text/plain": [
       "   customer_id  gross_revenue  recency_days  invoice_no\n",
       "0        17850        5288.63           302          35\n",
       "1        13047        3079.10            31          18\n",
       "2        12583        7187.34             2          18\n",
       "3        13748         948.25            95           5\n",
       "4        15100         635.10           330           6"
      ]
     },
     "execution_count": 57,
     "metadata": {},
     "output_type": "execute_result"
    }
   ],
   "source": [
    "df_ref = pd.merge( df_ref, df_freq, on='customer_id', how='left')\n",
    "df_ref.head()"
   ]
  },
  {
   "cell_type": "code",
   "execution_count": 58,
   "id": "5ad2c2b2",
   "metadata": {
    "ExecuteTime": {
     "end_time": "2022-07-25T11:38:54.246005Z",
     "start_time": "2022-07-25T11:38:54.224293Z"
    },
    "hidden": true
   },
   "outputs": [
    {
     "data": {
      "text/plain": [
       "customer_id      0\n",
       "gross_revenue    0\n",
       "recency_days     0\n",
       "invoice_no       0\n",
       "dtype: int64"
      ]
     },
     "execution_count": 58,
     "metadata": {},
     "output_type": "execute_result"
    }
   ],
   "source": [
    "#check NAs\n",
    "df_ref.isna().sum()"
   ]
  },
  {
   "cell_type": "markdown",
   "id": "a404c2d6",
   "metadata": {
    "hidden": true
   },
   "source": [
    "### average ticket"
   ]
  },
  {
   "cell_type": "code",
   "execution_count": 72,
   "id": "8c8ef2dd",
   "metadata": {
    "ExecuteTime": {
     "end_time": "2022-07-25T23:51:16.091572Z",
     "start_time": "2022-07-25T23:51:16.046485Z"
    },
    "hidden": true
   },
   "outputs": [
    {
     "data": {
      "text/html": [
       "<div>\n",
       "<style scoped>\n",
       "    .dataframe tbody tr th:only-of-type {\n",
       "        vertical-align: middle;\n",
       "    }\n",
       "\n",
       "    .dataframe tbody tr th {\n",
       "        vertical-align: top;\n",
       "    }\n",
       "\n",
       "    .dataframe thead th {\n",
       "        text-align: right;\n",
       "    }\n",
       "</style>\n",
       "<table border=\"1\" class=\"dataframe\">\n",
       "  <thead>\n",
       "    <tr style=\"text-align: right;\">\n",
       "      <th></th>\n",
       "      <th>customer_id</th>\n",
       "      <th>gross_revenue</th>\n",
       "      <th>recency_days</th>\n",
       "      <th>invoice_no</th>\n",
       "      <th>avg_ticket</th>\n",
       "    </tr>\n",
       "  </thead>\n",
       "  <tbody>\n",
       "    <tr>\n",
       "      <th>0</th>\n",
       "      <td>17850</td>\n",
       "      <td>5288.63</td>\n",
       "      <td>302</td>\n",
       "      <td>35</td>\n",
       "      <td>16.950737</td>\n",
       "    </tr>\n",
       "    <tr>\n",
       "      <th>1</th>\n",
       "      <td>13047</td>\n",
       "      <td>3079.10</td>\n",
       "      <td>31</td>\n",
       "      <td>18</td>\n",
       "      <td>15.709694</td>\n",
       "    </tr>\n",
       "    <tr>\n",
       "      <th>2</th>\n",
       "      <td>12583</td>\n",
       "      <td>7187.34</td>\n",
       "      <td>2</td>\n",
       "      <td>18</td>\n",
       "      <td>28.634821</td>\n",
       "    </tr>\n",
       "    <tr>\n",
       "      <th>3</th>\n",
       "      <td>13748</td>\n",
       "      <td>948.25</td>\n",
       "      <td>95</td>\n",
       "      <td>5</td>\n",
       "      <td>33.866071</td>\n",
       "    </tr>\n",
       "    <tr>\n",
       "      <th>4</th>\n",
       "      <td>15100</td>\n",
       "      <td>635.10</td>\n",
       "      <td>330</td>\n",
       "      <td>6</td>\n",
       "      <td>105.850000</td>\n",
       "    </tr>\n",
       "  </tbody>\n",
       "</table>\n",
       "</div>"
      ],
      "text/plain": [
       "   customer_id  gross_revenue  recency_days  invoice_no  avg_ticket\n",
       "0        17850        5288.63           302          35   16.950737\n",
       "1        13047        3079.10            31          18   15.709694\n",
       "2        12583        7187.34             2          18   28.634821\n",
       "3        13748         948.25            95           5   33.866071\n",
       "4        15100         635.10           330           6  105.850000"
      ]
     },
     "execution_count": 72,
     "metadata": {},
     "output_type": "execute_result"
    }
   ],
   "source": [
    "# average gross revenue customers spend on all purchases\n",
    "df_avg_ticket = df2[['customer_id','gross_revenue']].groupby('customer_id').mean().reset_index().rename(columns={'gross_revenue':'avg_ticket'})\n",
    "df_ref = pd.merge( df_ref, df_avg_ticket, on='customer_id', how='left')\n",
    "df_ref.head()"
   ]
  },
  {
   "cell_type": "code",
   "execution_count": 73,
   "id": "1d58a1ec",
   "metadata": {
    "ExecuteTime": {
     "end_time": "2022-07-25T23:54:36.519290Z",
     "start_time": "2022-07-25T23:54:36.504781Z"
    },
    "hidden": true
   },
   "outputs": [
    {
     "data": {
      "text/plain": [
       "customer_id      0\n",
       "gross_revenue    0\n",
       "recency_days     0\n",
       "invoice_no       0\n",
       "avg_ticket       0\n",
       "dtype: int64"
      ]
     },
     "execution_count": 73,
     "metadata": {},
     "output_type": "execute_result"
    }
   ],
   "source": [
    "#check NAs\n",
    "df_ref.isna().sum()"
   ]
  },
  {
   "cell_type": "markdown",
   "id": "9d031e6c",
   "metadata": {
    "heading_collapsed": true
   },
   "source": [
    "# Variable Filtering"
   ]
  },
  {
   "cell_type": "code",
   "execution_count": 74,
   "id": "0391b7fe",
   "metadata": {
    "ExecuteTime": {
     "end_time": "2022-07-25T23:57:59.611858Z",
     "start_time": "2022-07-25T23:57:48.588758Z"
    },
    "hidden": true
   },
   "outputs": [],
   "source": [
    "df2.to_csv(\"../data/interim/cy2_df2_feature_engineering_done.csv\")\n",
    "df_ref.to_csv(\"../data/interim/cy2_df_ref_done.csv\")"
   ]
  },
  {
   "cell_type": "code",
   "execution_count": 7,
   "id": "6c8566be",
   "metadata": {
    "ExecuteTime": {
     "end_time": "2022-07-29T01:05:33.355735Z",
     "start_time": "2022-07-29T01:05:33.334615Z"
    },
    "hidden": true
   },
   "outputs": [
    {
     "data": {
      "text/plain": [
       "customer_id        int64\n",
       "gross_revenue    float64\n",
       "recency_days       int64\n",
       "invoice_no         int64\n",
       "avg_ticket       float64\n",
       "dtype: object"
      ]
     },
     "execution_count": 7,
     "metadata": {},
     "output_type": "execute_result"
    }
   ],
   "source": [
    "#df3 = df_ref\n",
    "df3 = pd.read_csv(\"../data/interim/cy2_df_ref_done.csv\", index_col=0)\n",
    "df3.dtypes"
   ]
  },
  {
   "cell_type": "code",
   "execution_count": 8,
   "id": "037ed8d1",
   "metadata": {
    "ExecuteTime": {
     "end_time": "2022-07-29T01:05:34.155107Z",
     "start_time": "2022-07-29T01:05:34.151309Z"
    },
    "hidden": true
   },
   "outputs": [],
   "source": [
    "#three needed vars created, no filtering needed\n",
    "pass"
   ]
  },
  {
   "cell_type": "markdown",
   "id": "fa2c8ea5",
   "metadata": {
    "heading_collapsed": true
   },
   "source": [
    "# EDA"
   ]
  },
  {
   "cell_type": "code",
   "execution_count": 9,
   "id": "c5e8f218",
   "metadata": {
    "ExecuteTime": {
     "end_time": "2022-07-29T01:05:35.006079Z",
     "start_time": "2022-07-29T01:05:35.000372Z"
    },
    "hidden": true
   },
   "outputs": [],
   "source": [
    "#pass by now\n",
    "df4 = df3.copy()"
   ]
  },
  {
   "cell_type": "markdown",
   "id": "cc1adbde",
   "metadata": {
    "heading_collapsed": true
   },
   "source": [
    "# Data Preparation"
   ]
  },
  {
   "cell_type": "code",
   "execution_count": 10,
   "id": "ad43d2f7",
   "metadata": {
    "ExecuteTime": {
     "end_time": "2022-07-29T01:05:35.387718Z",
     "start_time": "2022-07-29T01:05:35.378541Z"
    },
    "hidden": true
   },
   "outputs": [],
   "source": [
    "#pass by now\n",
    "df5 = df4.copy()"
   ]
  },
  {
   "cell_type": "markdown",
   "id": "f819b688",
   "metadata": {
    "heading_collapsed": true
   },
   "source": [
    "# Feature Selection"
   ]
  },
  {
   "cell_type": "code",
   "execution_count": 11,
   "id": "1eaf8604",
   "metadata": {
    "ExecuteTime": {
     "end_time": "2022-07-29T01:05:35.853498Z",
     "start_time": "2022-07-29T01:05:35.845081Z"
    },
    "hidden": true
   },
   "outputs": [],
   "source": [
    "#pass by now\n",
    "df6 = df5.copy()"
   ]
  },
  {
   "cell_type": "markdown",
   "id": "62669cb3",
   "metadata": {},
   "source": [
    "# Hyperparameter Fine-Tuning"
   ]
  },
  {
   "cell_type": "code",
   "execution_count": 13,
   "id": "4f1d6d7c",
   "metadata": {
    "ExecuteTime": {
     "end_time": "2022-07-29T01:05:47.912748Z",
     "start_time": "2022-07-29T01:05:47.895223Z"
    }
   },
   "outputs": [
    {
     "data": {
      "text/html": [
       "<div>\n",
       "<style scoped>\n",
       "    .dataframe tbody tr th:only-of-type {\n",
       "        vertical-align: middle;\n",
       "    }\n",
       "\n",
       "    .dataframe tbody tr th {\n",
       "        vertical-align: top;\n",
       "    }\n",
       "\n",
       "    .dataframe thead th {\n",
       "        text-align: right;\n",
       "    }\n",
       "</style>\n",
       "<table border=\"1\" class=\"dataframe\">\n",
       "  <thead>\n",
       "    <tr style=\"text-align: right;\">\n",
       "      <th></th>\n",
       "      <th>gross_revenue</th>\n",
       "      <th>recency_days</th>\n",
       "      <th>invoice_no</th>\n",
       "      <th>avg_ticket</th>\n",
       "    </tr>\n",
       "  </thead>\n",
       "  <tbody>\n",
       "    <tr>\n",
       "      <th>0</th>\n",
       "      <td>5288.63</td>\n",
       "      <td>302</td>\n",
       "      <td>35</td>\n",
       "      <td>16.950737</td>\n",
       "    </tr>\n",
       "    <tr>\n",
       "      <th>1</th>\n",
       "      <td>3079.10</td>\n",
       "      <td>31</td>\n",
       "      <td>18</td>\n",
       "      <td>15.709694</td>\n",
       "    </tr>\n",
       "    <tr>\n",
       "      <th>2</th>\n",
       "      <td>7187.34</td>\n",
       "      <td>2</td>\n",
       "      <td>18</td>\n",
       "      <td>28.634821</td>\n",
       "    </tr>\n",
       "    <tr>\n",
       "      <th>3</th>\n",
       "      <td>948.25</td>\n",
       "      <td>95</td>\n",
       "      <td>5</td>\n",
       "      <td>33.866071</td>\n",
       "    </tr>\n",
       "    <tr>\n",
       "      <th>4</th>\n",
       "      <td>635.10</td>\n",
       "      <td>330</td>\n",
       "      <td>6</td>\n",
       "      <td>105.850000</td>\n",
       "    </tr>\n",
       "  </tbody>\n",
       "</table>\n",
       "</div>"
      ],
      "text/plain": [
       "   gross_revenue  recency_days  invoice_no  avg_ticket\n",
       "0        5288.63           302          35   16.950737\n",
       "1        3079.10            31          18   15.709694\n",
       "2        7187.34             2          18   28.634821\n",
       "3         948.25            95           5   33.866071\n",
       "4         635.10           330           6  105.850000"
      ]
     },
     "execution_count": 13,
     "metadata": {},
     "output_type": "execute_result"
    }
   ],
   "source": [
    "#drop customer_id\n",
    "X = df6.drop('customer_id', axis=1).copy()\n",
    "X.head()\n",
    "#agora, temos 4 variáveis:"
   ]
  },
  {
   "cell_type": "markdown",
   "id": "97d8ee58",
   "metadata": {
    "ExecuteTime": {
     "end_time": "2022-07-23T11:02:58.917535Z",
     "start_time": "2022-07-23T11:02:58.913258Z"
    }
   },
   "source": [
    "For a good clustering, we need clusters to have two properties:\n",
    "\n",
    "- Compactness: smallest possible distance between the points of the same cluster.\n",
    "- Separation: greatest possible distance between the points of different clusters.\n",
    "\n",
    "Let's use k-means with 2 metrics: \n",
    "\n",
    "1 - Within-Cluster Sum of Square (WSS) - calculates Compactness \n",
    "\n",
    "2 - Silhouette Score (SS) - calculates Compactness and Separation\n",
    "\n",
    " \n"
   ]
  },
  {
   "cell_type": "markdown",
   "id": "88133dc8",
   "metadata": {},
   "source": [
    "## Within-Cluster Sum of Square (WSS)"
   ]
  },
  {
   "cell_type": "code",
   "execution_count": 14,
   "id": "ef7eec98",
   "metadata": {
    "ExecuteTime": {
     "end_time": "2022-07-29T01:06:14.863309Z",
     "start_time": "2022-07-29T01:06:14.858435Z"
    }
   },
   "outputs": [],
   "source": [
    "#up to 7 possible clusters now\n",
    "clusters = [2, 3, 4, 5, 6, 7]"
   ]
  },
  {
   "cell_type": "code",
   "execution_count": 15,
   "id": "c8701f77",
   "metadata": {
    "ExecuteTime": {
     "end_time": "2022-07-29T01:06:18.599798Z",
     "start_time": "2022-07-29T01:06:16.903125Z"
    },
    "scrolled": false
   },
   "outputs": [
    {
     "data": {
      "image/png": "[encoded data removed]",
      "text/plain": [
       "<Figure size 864x432 with 1 Axes>"
      ]
     },
     "metadata": {},
     "output_type": "display_data"
    }
   ],
   "source": [
    "#let's use yellowbrick library, that inherits some functions from sklearn, and makes it easier to use performance metrics like WSS and SS\n",
    "kmeans = KElbowVisualizer(c.KMeans(), k=clusters, timings=False )\n",
    "kmeans.fit(X)\n",
    "kmeans.show();\n",
    "#it will sugest the number of clusters (dotted lines)"
   ]
  },
  {
   "cell_type": "code",
   "execution_count": 16,
   "id": "d6ec03d2",
   "metadata": {
    "ExecuteTime": {
     "end_time": "2022-07-29T01:08:07.129678Z",
     "start_time": "2022-07-29T01:08:07.123591Z"
    }
   },
   "outputs": [],
   "source": [
    "#The smaller the WSS, the smaller the sum of the distances within the clusters, which means that the points are closer to their centroid, so the cluster is more compact!\n",
    "\n",
    "#even though with more cluster (5, 6, 7), we would have (a bit) more condensed clusters, the optimized number of clusters according to WSS is now 4 3."
   ]
  },
  {
   "cell_type": "markdown",
   "id": "5ecf0311",
   "metadata": {},
   "source": [
    "## Silhouette Score"
   ]
  },
  {
   "cell_type": "code",
   "execution_count": 23,
   "id": "bdb7d456",
   "metadata": {
    "ExecuteTime": {
     "end_time": "2022-07-29T10:58:58.393028Z",
     "start_time": "2022-07-29T10:58:54.068249Z"
    }
   },
   "outputs": [
    {
     "data": {
      "image/png": "[encoded data removed]",
      "text/plain": [
       "<Figure size 864x432 with 1 Axes>"
      ]
     },
     "metadata": {},
     "output_type": "display_data"
    }
   ],
   "source": [
    "#calculate silhouette score also with yellowbrick library\n",
    "kmeans = KElbowVisualizer(c.KMeans(), k=clusters, metric='silhouette', timings=False )\n",
    "kmeans.fit(X)\n",
    "kmeans.show();"
   ]
  },
  {
   "cell_type": "code",
   "execution_count": 18,
   "id": "6f193787",
   "metadata": {
    "ExecuteTime": {
     "end_time": "2022-07-29T01:08:40.568637Z",
     "start_time": "2022-07-29T01:08:40.563826Z"
    }
   },
   "outputs": [],
   "source": [
    "#being SS=1 the best clustering result:\n",
    "    # with 2 clusters, the result is 0.99 (awesome)\n",
    "    # with 3 clusters, it is 0,96 (awesome)\n",
    "    # with 4, or 5, we still have SS > 0.8, it's still very good!\n",
    "\n",
    "#according to SS, the ideal cluster number is 2, but for business porposes, it's interesting to have at least 3 groups of customers, to be able to put actions on each of them. "
   ]
  },
  {
   "cell_type": "markdown",
   "id": "8798c5cb",
   "metadata": {},
   "source": [
    "# Silhouette Analysis"
   ]
  },
  {
   "cell_type": "code",
   "execution_count": 20,
   "id": "75045c77",
   "metadata": {
    "ExecuteTime": {
     "end_time": "2022-07-29T10:48:37.366860Z",
     "start_time": "2022-07-29T10:48:27.878507Z"
    }
   },
   "outputs": [
    {
     "data": {
      "image/png": "[encoded data removed]",
      "text/plain": [
       "<Figure size 1800x1296 with 6 Axes>"
      ]
     },
     "metadata": {},
     "output_type": "display_data"
    }
   ],
   "source": [
    "fig, ax = plt.subplots(3, 2, figsize=(25,18))\n",
    "for k in clusters:\n",
    "    #run kmeans\n",
    "    km = c.KMeans(n_clusters=k, init='random', n_init=10, max_iter=100, random_state=42)\n",
    "    #build positions to plot\n",
    "    q, mod = divmod(k, 2)\n",
    "    #plot silhouette\n",
    "    visualizer = SilhouetteVisualizer(km, color='yellowbrick', ax=ax[q-1][mod])\n",
    "    #plot silhouette analysis\n",
    "    visualizer.fit(X)\n",
    "    visualizer.finalize() #centers = clusters"
   ]
  },
  {
   "cell_type": "code",
   "execution_count": null,
   "id": "1723d07e",
   "metadata": {},
   "outputs": [],
   "source": [
    "#with our features, our data is too grouped, and it's generating a cluster too big! It's absorving other minors.\n",
    "#so, we can't define the best number of clusters by now. \n",
    "#But for this second cycle, let's keep on with k=4, as the SS sugested"
   ]
  },
  {
   "cell_type": "markdown",
   "id": "5997a7aa",
   "metadata": {},
   "source": [
    "# Model Training"
   ]
  },
  {
   "cell_type": "markdown",
   "id": "798d27ee",
   "metadata": {},
   "source": [
    "## K-Means"
   ]
  },
  {
   "cell_type": "code",
   "execution_count": 21,
   "id": "b73e355c",
   "metadata": {
    "ExecuteTime": {
     "end_time": "2022-07-29T10:49:10.096071Z",
     "start_time": "2022-07-29T10:49:09.915661Z"
    }
   },
   "outputs": [
    {
     "data": {
      "text/plain": [
       "array([3, 0, 3, ..., 0, 0, 0], dtype=int32)"
      ]
     },
     "execution_count": 21,
     "metadata": {},
     "output_type": "execute_result"
    }
   ],
   "source": [
    "# Let's then continue with the projectand train the k-means model with 4 clusters.\n",
    "\n",
    "#model definition\n",
    "k = 4\n",
    "kmeans = c.KMeans( init='random', #init centroids ramdomly\n",
    "                  n_clusters=k, #3\n",
    "                  n_init=10, #Num of times k-means will be run with different centroid seeds.\n",
    "                  max_iter=300, #up to 300 times\n",
    "                 random_state=42) #seed, to generate the same random init\n",
    "#model training\n",
    "kmeans.fit(X)\n",
    "\n",
    "#clustering\n",
    "labels = kmeans.labels_\n",
    "labels"
   ]
  },
  {
   "cell_type": "markdown",
   "id": "56afbe10",
   "metadata": {},
   "source": [
    "## Cluster Validation"
   ]
  },
  {
   "cell_type": "code",
   "execution_count": 22,
   "id": "c79829f8",
   "metadata": {
    "ExecuteTime": {
     "end_time": "2022-07-29T10:49:57.878316Z",
     "start_time": "2022-07-29T10:49:57.870982Z"
    }
   },
   "outputs": [
    {
     "name": "stdout",
     "output_type": "stream",
     "text": [
      "WSS Value: 40056506734.60243\n"
     ]
    }
   ],
   "source": [
    "#Metric: WSS (Within-cluster sum of square)\n",
    "\n",
    "#this method of k-means (sklearn) returns the WSS\n",
    "print(f'WSS Value: {kmeans.inertia_}')"
   ]
  },
  {
   "cell_type": "code",
   "execution_count": 24,
   "id": "ae9b17fa",
   "metadata": {
    "ExecuteTime": {
     "end_time": "2022-07-29T11:01:43.137219Z",
     "start_time": "2022-07-29T11:01:42.610250Z"
    }
   },
   "outputs": [
    {
     "name": "stdout",
     "output_type": "stream",
     "text": [
      "SS Value: 0.8139972028952444\n"
     ]
    }
   ],
   "source": [
    "#Metric: SS (Silhouette Score)\n",
    "\n",
    "#this method of k-means (sklearn) returns the SS\n",
    "print(f'SS Value: {m.silhouette_score(X, labels, metric=\"euclidean\")}')"
   ]
  },
  {
   "cell_type": "code",
   "execution_count": null,
   "id": "28eef8e3",
   "metadata": {},
   "outputs": [],
   "source": [
    "#the result for 4 clusters of SS=0.81 is in theory great!\n",
    "#but, as can be seen on Silhouette Analysis, with 4 cluster, we have 1 that represents almost all data! \n",
    "#So, thats obvious it will perform well, because is't almost all the data of the dataset."
   ]
  },
  {
   "cell_type": "markdown",
   "id": "ea9741c3",
   "metadata": {},
   "source": [
    "# Cluster Analysis"
   ]
  },
  {
   "cell_type": "code",
   "execution_count": 25,
   "id": "b7a16510",
   "metadata": {
    "ExecuteTime": {
     "end_time": "2022-07-29T11:02:01.798793Z",
     "start_time": "2022-07-29T11:02:01.780788Z"
    }
   },
   "outputs": [
    {
     "data": {
      "text/html": [
       "<div>\n",
       "<style scoped>\n",
       "    .dataframe tbody tr th:only-of-type {\n",
       "        vertical-align: middle;\n",
       "    }\n",
       "\n",
       "    .dataframe tbody tr th {\n",
       "        vertical-align: top;\n",
       "    }\n",
       "\n",
       "    .dataframe thead th {\n",
       "        text-align: right;\n",
       "    }\n",
       "</style>\n",
       "<table border=\"1\" class=\"dataframe\">\n",
       "  <thead>\n",
       "    <tr style=\"text-align: right;\">\n",
       "      <th></th>\n",
       "      <th>customer_id</th>\n",
       "      <th>gross_revenue</th>\n",
       "      <th>recency_days</th>\n",
       "      <th>invoice_no</th>\n",
       "      <th>avg_ticket</th>\n",
       "      <th>cluster</th>\n",
       "    </tr>\n",
       "  </thead>\n",
       "  <tbody>\n",
       "    <tr>\n",
       "      <th>0</th>\n",
       "      <td>17850</td>\n",
       "      <td>5288.63</td>\n",
       "      <td>302</td>\n",
       "      <td>35</td>\n",
       "      <td>16.950737</td>\n",
       "      <td>3</td>\n",
       "    </tr>\n",
       "    <tr>\n",
       "      <th>1</th>\n",
       "      <td>13047</td>\n",
       "      <td>3079.10</td>\n",
       "      <td>31</td>\n",
       "      <td>18</td>\n",
       "      <td>15.709694</td>\n",
       "      <td>0</td>\n",
       "    </tr>\n",
       "    <tr>\n",
       "      <th>2</th>\n",
       "      <td>12583</td>\n",
       "      <td>7187.34</td>\n",
       "      <td>2</td>\n",
       "      <td>18</td>\n",
       "      <td>28.634821</td>\n",
       "      <td>3</td>\n",
       "    </tr>\n",
       "    <tr>\n",
       "      <th>3</th>\n",
       "      <td>13748</td>\n",
       "      <td>948.25</td>\n",
       "      <td>95</td>\n",
       "      <td>5</td>\n",
       "      <td>33.866071</td>\n",
       "      <td>0</td>\n",
       "    </tr>\n",
       "    <tr>\n",
       "      <th>4</th>\n",
       "      <td>15100</td>\n",
       "      <td>635.10</td>\n",
       "      <td>330</td>\n",
       "      <td>6</td>\n",
       "      <td>105.850000</td>\n",
       "      <td>0</td>\n",
       "    </tr>\n",
       "  </tbody>\n",
       "</table>\n",
       "</div>"
      ],
      "text/plain": [
       "   customer_id  gross_revenue  recency_days  invoice_no  avg_ticket  cluster\n",
       "0        17850        5288.63           302          35   16.950737        3\n",
       "1        13047        3079.10            31          18   15.709694        0\n",
       "2        12583        7187.34             2          18   28.634821        3\n",
       "3        13748         948.25            95           5   33.866071        0\n",
       "4        15100         635.10           330           6  105.850000        0"
      ]
     },
     "execution_count": 25,
     "metadata": {},
     "output_type": "execute_result"
    }
   ],
   "source": [
    "df9 = df6.copy()\n",
    "#create a cluster column with labels of it's cluster from k-means, to be able to plot colored clusters\n",
    "df9['cluster'] = labels\n",
    "df9.head()"
   ]
  },
  {
   "cell_type": "markdown",
   "id": "33fc7684",
   "metadata": {},
   "source": [
    "## Visualization Inspection"
   ]
  },
  {
   "cell_type": "code",
   "execution_count": 26,
   "id": "a1902baa",
   "metadata": {
    "ExecuteTime": {
     "end_time": "2022-07-29T11:02:43.113007Z",
     "start_time": "2022-07-29T11:02:41.666772Z"
    }
   },
   "outputs": [
    {
     "name": "stderr",
     "output_type": "stream",
     "text": [
      "/Users/home/opt/anaconda3/envs/pa005_clustering/lib/python3.8/site-packages/sklearn/base.py:450: UserWarning: X does not have valid feature names, but KMeans was fitted with feature names\n",
      "  warnings.warn(\n"
     ]
    },
    {
     "data": {
      "image/png": "[encoded data removed]",
      "text/plain": [
       "<Figure size 864x432 with 1 Axes>"
      ]
     },
     "metadata": {},
     "output_type": "display_data"
    }
   ],
   "source": [
    "#there is no way to plot more than 3D charts, so let's use the Silhouette Plot\n",
    "visualizer = SilhouetteVisualizer( kmeans, colors='yellowbrick' )\n",
    "visualizer.fit( X )\n",
    "visualizer.finalize()"
   ]
  },
  {
   "cell_type": "markdown",
   "id": "b3e7881e",
   "metadata": {},
   "source": [
    "## 2d Plot"
   ]
  },
  {
   "cell_type": "code",
   "execution_count": 27,
   "id": "4dc0a51e",
   "metadata": {
    "ExecuteTime": {
     "end_time": "2022-07-29T11:13:09.355699Z",
     "start_time": "2022-07-29T11:13:09.340242Z"
    }
   },
   "outputs": [
    {
     "data": {
      "text/html": [
       "<div>\n",
       "<style scoped>\n",
       "    .dataframe tbody tr th:only-of-type {\n",
       "        vertical-align: middle;\n",
       "    }\n",
       "\n",
       "    .dataframe tbody tr th {\n",
       "        vertical-align: top;\n",
       "    }\n",
       "\n",
       "    .dataframe thead th {\n",
       "        text-align: right;\n",
       "    }\n",
       "</style>\n",
       "<table border=\"1\" class=\"dataframe\">\n",
       "  <thead>\n",
       "    <tr style=\"text-align: right;\">\n",
       "      <th></th>\n",
       "      <th>customer_id</th>\n",
       "      <th>gross_revenue</th>\n",
       "      <th>recency_days</th>\n",
       "      <th>invoice_no</th>\n",
       "      <th>avg_ticket</th>\n",
       "      <th>cluster</th>\n",
       "    </tr>\n",
       "  </thead>\n",
       "  <tbody>\n",
       "    <tr>\n",
       "      <th>0</th>\n",
       "      <td>17850</td>\n",
       "      <td>5288.63</td>\n",
       "      <td>302</td>\n",
       "      <td>35</td>\n",
       "      <td>16.950737</td>\n",
       "      <td>3</td>\n",
       "    </tr>\n",
       "    <tr>\n",
       "      <th>1</th>\n",
       "      <td>13047</td>\n",
       "      <td>3079.10</td>\n",
       "      <td>31</td>\n",
       "      <td>18</td>\n",
       "      <td>15.709694</td>\n",
       "      <td>0</td>\n",
       "    </tr>\n",
       "    <tr>\n",
       "      <th>2</th>\n",
       "      <td>12583</td>\n",
       "      <td>7187.34</td>\n",
       "      <td>2</td>\n",
       "      <td>18</td>\n",
       "      <td>28.634821</td>\n",
       "      <td>3</td>\n",
       "    </tr>\n",
       "    <tr>\n",
       "      <th>3</th>\n",
       "      <td>13748</td>\n",
       "      <td>948.25</td>\n",
       "      <td>95</td>\n",
       "      <td>5</td>\n",
       "      <td>33.866071</td>\n",
       "      <td>0</td>\n",
       "    </tr>\n",
       "    <tr>\n",
       "      <th>4</th>\n",
       "      <td>15100</td>\n",
       "      <td>635.10</td>\n",
       "      <td>330</td>\n",
       "      <td>6</td>\n",
       "      <td>105.850000</td>\n",
       "      <td>0</td>\n",
       "    </tr>\n",
       "  </tbody>\n",
       "</table>\n",
       "</div>"
      ],
      "text/plain": [
       "   customer_id  gross_revenue  recency_days  invoice_no  avg_ticket  cluster\n",
       "0        17850        5288.63           302          35   16.950737        3\n",
       "1        13047        3079.10            31          18   15.709694        0\n",
       "2        12583        7187.34             2          18   28.634821        3\n",
       "3        13748         948.25            95           5   33.866071        0\n",
       "4        15100         635.10           330           6  105.850000        0"
      ]
     },
     "execution_count": 27,
     "metadata": {},
     "output_type": "execute_result"
    }
   ],
   "source": [
    "#chech wich features are messing up with the clustering, but it's not good do take a decision just looking at the plot, because two \"bad\" features combined, can turn into a \"good\" feature.a\n",
    "df9.head()"
   ]
  },
  {
   "cell_type": "code",
   "execution_count": 28,
   "id": "a799f541",
   "metadata": {
    "ExecuteTime": {
     "end_time": "2022-07-29T11:13:22.729590Z",
     "start_time": "2022-07-29T11:13:12.143791Z"
    }
   },
   "outputs": [
    {
     "data": {
      "text/plain": [
       "<seaborn.axisgrid.PairGrid at 0x7f8758f3c3a0>"
      ]
     },
     "execution_count": 28,
     "metadata": {},
     "output_type": "execute_result"
    },
    {
     "data": {
      "image/png": "[encoded data removed]",
      "text/plain": [
       "<Figure size 765.725x720 with 20 Axes>"
      ]
     },
     "metadata": {},
     "output_type": "display_data"
    }
   ],
   "source": [
    "df_viz = df9.drop(columns='customer_id', axis=1)\n",
    "sns.pairplot(df_viz, hue='cluster')"
   ]
  },
  {
   "cell_type": "markdown",
   "id": "1ef54392",
   "metadata": {
    "ExecuteTime": {
     "end_time": "2022-07-26T21:57:42.296216Z",
     "start_time": "2022-07-26T21:57:42.290687Z"
    }
   },
   "source": [
    "## UMAP"
   ]
  },
  {
   "cell_type": "code",
   "execution_count": 29,
   "id": "17b526de",
   "metadata": {
    "ExecuteTime": {
     "end_time": "2022-07-29T11:15:39.195693Z",
     "start_time": "2022-07-29T11:15:39.180956Z"
    }
   },
   "outputs": [
    {
     "data": {
      "text/html": [
       "<div>\n",
       "<style scoped>\n",
       "    .dataframe tbody tr th:only-of-type {\n",
       "        vertical-align: middle;\n",
       "    }\n",
       "\n",
       "    .dataframe tbody tr th {\n",
       "        vertical-align: top;\n",
       "    }\n",
       "\n",
       "    .dataframe thead th {\n",
       "        text-align: right;\n",
       "    }\n",
       "</style>\n",
       "<table border=\"1\" class=\"dataframe\">\n",
       "  <thead>\n",
       "    <tr style=\"text-align: right;\">\n",
       "      <th></th>\n",
       "      <th>gross_revenue</th>\n",
       "      <th>recency_days</th>\n",
       "      <th>invoice_no</th>\n",
       "      <th>avg_ticket</th>\n",
       "    </tr>\n",
       "  </thead>\n",
       "  <tbody>\n",
       "    <tr>\n",
       "      <th>0</th>\n",
       "      <td>5288.63</td>\n",
       "      <td>302</td>\n",
       "      <td>35</td>\n",
       "      <td>16.950737</td>\n",
       "    </tr>\n",
       "    <tr>\n",
       "      <th>1</th>\n",
       "      <td>3079.10</td>\n",
       "      <td>31</td>\n",
       "      <td>18</td>\n",
       "      <td>15.709694</td>\n",
       "    </tr>\n",
       "    <tr>\n",
       "      <th>2</th>\n",
       "      <td>7187.34</td>\n",
       "      <td>2</td>\n",
       "      <td>18</td>\n",
       "      <td>28.634821</td>\n",
       "    </tr>\n",
       "    <tr>\n",
       "      <th>3</th>\n",
       "      <td>948.25</td>\n",
       "      <td>95</td>\n",
       "      <td>5</td>\n",
       "      <td>33.866071</td>\n",
       "    </tr>\n",
       "    <tr>\n",
       "      <th>4</th>\n",
       "      <td>635.10</td>\n",
       "      <td>330</td>\n",
       "      <td>6</td>\n",
       "      <td>105.850000</td>\n",
       "    </tr>\n",
       "  </tbody>\n",
       "</table>\n",
       "</div>"
      ],
      "text/plain": [
       "   gross_revenue  recency_days  invoice_no  avg_ticket\n",
       "0        5288.63           302          35   16.950737\n",
       "1        3079.10            31          18   15.709694\n",
       "2        7187.34             2          18   28.634821\n",
       "3         948.25            95           5   33.866071\n",
       "4         635.10           330           6  105.850000"
      ]
     },
     "execution_count": 29,
     "metadata": {},
     "output_type": "execute_result"
    }
   ],
   "source": [
    "X.head()"
   ]
  },
  {
   "cell_type": "code",
   "execution_count": 50,
   "id": "0e8cde4e",
   "metadata": {
    "ExecuteTime": {
     "end_time": "2022-07-29T15:58:10.385461Z",
     "start_time": "2022-07-29T15:58:00.900709Z"
    }
   },
   "outputs": [
    {
     "data": {
      "text/plain": [
       "<AxesSubplot:xlabel='embedding_x', ylabel='embedding_y'>"
      ]
     },
     "execution_count": 50,
     "metadata": {},
     "output_type": "execute_result"
    },
    {
     "data": {
      "image/png": "[encoded data removed]",
      "text/plain": [
       "<Figure size 864x432 with 1 Axes>"
      ]
     },
     "metadata": {},
     "output_type": "display_data"
    }
   ],
   "source": [
    "#n_neighbors=5\n",
    "\n",
    "#reducer: high dimensionality projection\n",
    "reducer = umap.UMAP( n_neighbors=8, #bigger: global structures, smaller: local structures (like a zoom!)\n",
    "                    random_state=42 )\n",
    "#fit variables in high dimensionality (x), projecting them in low dimensionality, generating the enbedding space\n",
    "embedding = reducer.fit_transform( X )\n",
    "\n",
    "# embedding\n",
    "df_viz['embedding_x'] = embedding[:, 0] #component 1\n",
    "df_viz['embedding_y'] = embedding[:, 1] #component 2\n",
    "\n",
    "# plot UMAP\n",
    "sns.scatterplot( x='embedding_x', y='embedding_y', \n",
    "                 hue='cluster', #cluster color\n",
    "                 palette=sns.color_palette( 'hls', n_colors=len( df_viz['cluster'].unique() ) ),# formula to get the number of clusters automatically)\n",
    "                 data=df_viz )"
   ]
  },
  {
   "cell_type": "code",
   "execution_count": 47,
   "id": "21cc595a",
   "metadata": {
    "ExecuteTime": {
     "end_time": "2022-07-29T11:37:13.465845Z",
     "start_time": "2022-07-29T11:37:01.588419Z"
    },
    "scrolled": false
   },
   "outputs": [
    {
     "data": {
      "text/plain": [
       "<AxesSubplot:xlabel='embedding_x', ylabel='embedding_y'>"
      ]
     },
     "execution_count": 47,
     "metadata": {},
     "output_type": "execute_result"
    },
    {
     "data": {
      "image/png": "[encoded data removed]",
      "text/plain": [
       "<Figure size 864x432 with 1 Axes>"
      ]
     },
     "metadata": {},
     "output_type": "display_data"
    }
   ],
   "source": [
    "#n_neighbors=20\n",
    "\n",
    "#reducer: high dimensionality projection\n",
    "reducer = umap.UMAP( n_neighbors=20, #bigger: global structures, smaller: local structures (like a zoom!)\n",
    "                    random_state=42 )\n",
    "#fit variables in high dimensionality (x), projecting them in low dimensionality, generating the enbedding space\n",
    "embedding = reducer.fit_transform( X )\n",
    "\n",
    "# embedding\n",
    "df_viz['embedding_x'] = embedding[:, 0] #component 1\n",
    "df_viz['embedding_y'] = embedding[:, 1] #component 2\n",
    "\n",
    "# plot UMAP\n",
    "sns.scatterplot( x='embedding_x', y='embedding_y', \n",
    "                 hue='cluster', #cluster color\n",
    "                 palette=sns.color_palette( 'hls', n_colors=len( df_viz['cluster'].unique() ) ),# formula to get the number of clusters automatically)\n",
    "                 data=df_viz )"
   ]
  },
  {
   "cell_type": "code",
   "execution_count": 48,
   "id": "5e9e4aee",
   "metadata": {
    "ExecuteTime": {
     "end_time": "2022-07-29T15:54:50.571198Z",
     "start_time": "2022-07-29T15:54:29.683001Z"
    }
   },
   "outputs": [
    {
     "data": {
      "text/plain": [
       "<AxesSubplot:xlabel='embedding_x', ylabel='embedding_y'>"
      ]
     },
     "execution_count": 48,
     "metadata": {},
     "output_type": "execute_result"
    },
    {
     "data": {
      "image/png": "[encoded data removed]",
      "text/plain": [
       "<Figure size 864x432 with 1 Axes>"
      ]
     },
     "metadata": {},
     "output_type": "display_data"
    }
   ],
   "source": [
    "#n_neighbors=80\n",
    "\n",
    "#reducer: high dimensionality projection\n",
    "reducer = umap.UMAP( n_neighbors=80, #bigger: global structures, smaller: local structures (like a zoom!)\n",
    "                    random_state=42 )\n",
    "#fit variables in high dimensionality (x), projecting them in low dimensionality, generating the enbedding space\n",
    "embedding = reducer.fit_transform( X )\n",
    "\n",
    "# embedding\n",
    "df_viz['embedding_x'] = embedding[:, 0] #component 1\n",
    "df_viz['embedding_y'] = embedding[:, 1] #component 2\n",
    "\n",
    "# plot UMAP\n",
    "sns.scatterplot( x='embedding_x', y='embedding_y', \n",
    "                 hue='cluster', #cluster color\n",
    "                 palette=sns.color_palette( 'hls', n_colors=len( df_viz['cluster'].unique() ) ),# formula to get the number of clusters automatically)\n",
    "                 data=df_viz )"
   ]
  },
  {
   "cell_type": "code",
   "execution_count": 39,
   "id": "ff02ed3e",
   "metadata": {
    "ExecuteTime": {
     "end_time": "2022-07-29T11:24:13.991088Z",
     "start_time": "2022-07-29T11:24:13.981427Z"
    }
   },
   "outputs": [
    {
     "data": {
      "text/plain": [
       "array([[ 1.5085674e+01,  3.1784508e+00],\n",
       "       [ 1.2432881e+01, -4.5517535e+00],\n",
       "       [ 1.5960181e+01,  6.3112087e+00],\n",
       "       ...,\n",
       "       [ 4.4845767e+00,  5.6102042e+00],\n",
       "       [ 7.7009635e+00,  6.4732275e+00],\n",
       "       [-4.2745857e+00, -1.0516576e-02]], dtype=float32)"
      ]
     },
     "execution_count": 39,
     "metadata": {},
     "output_type": "execute_result"
    }
   ],
   "source": [
    "embedding"
   ]
  },
  {
   "cell_type": "code",
   "execution_count": 41,
   "id": "20434d66",
   "metadata": {
    "ExecuteTime": {
     "end_time": "2022-07-29T11:26:45.763657Z",
     "start_time": "2022-07-29T11:26:45.738077Z"
    }
   },
   "outputs": [
    {
     "data": {
      "text/html": [
       "<div>\n",
       "<style scoped>\n",
       "    .dataframe tbody tr th:only-of-type {\n",
       "        vertical-align: middle;\n",
       "    }\n",
       "\n",
       "    .dataframe tbody tr th {\n",
       "        vertical-align: top;\n",
       "    }\n",
       "\n",
       "    .dataframe thead th {\n",
       "        text-align: right;\n",
       "    }\n",
       "</style>\n",
       "<table border=\"1\" class=\"dataframe\">\n",
       "  <thead>\n",
       "    <tr style=\"text-align: right;\">\n",
       "      <th></th>\n",
       "      <th>gross_revenue</th>\n",
       "      <th>recency_days</th>\n",
       "      <th>invoice_no</th>\n",
       "      <th>avg_ticket</th>\n",
       "      <th>cluster</th>\n",
       "      <th>embedding_x</th>\n",
       "      <th>embedding_y</th>\n",
       "    </tr>\n",
       "  </thead>\n",
       "  <tbody>\n",
       "    <tr>\n",
       "      <th>0</th>\n",
       "      <td>5288.63</td>\n",
       "      <td>302</td>\n",
       "      <td>35</td>\n",
       "      <td>16.950737</td>\n",
       "      <td>3</td>\n",
       "      <td>15.085674</td>\n",
       "      <td>3.178451</td>\n",
       "    </tr>\n",
       "    <tr>\n",
       "      <th>1</th>\n",
       "      <td>3079.10</td>\n",
       "      <td>31</td>\n",
       "      <td>18</td>\n",
       "      <td>15.709694</td>\n",
       "      <td>0</td>\n",
       "      <td>12.432881</td>\n",
       "      <td>-4.551754</td>\n",
       "    </tr>\n",
       "    <tr>\n",
       "      <th>2</th>\n",
       "      <td>7187.34</td>\n",
       "      <td>2</td>\n",
       "      <td>18</td>\n",
       "      <td>28.634821</td>\n",
       "      <td>3</td>\n",
       "      <td>15.960181</td>\n",
       "      <td>6.311209</td>\n",
       "    </tr>\n",
       "    <tr>\n",
       "      <th>3</th>\n",
       "      <td>948.25</td>\n",
       "      <td>95</td>\n",
       "      <td>5</td>\n",
       "      <td>33.866071</td>\n",
       "      <td>0</td>\n",
       "      <td>-3.623408</td>\n",
       "      <td>-1.468295</td>\n",
       "    </tr>\n",
       "    <tr>\n",
       "      <th>4</th>\n",
       "      <td>635.10</td>\n",
       "      <td>330</td>\n",
       "      <td>6</td>\n",
       "      <td>105.850000</td>\n",
       "      <td>0</td>\n",
       "      <td>-0.030647</td>\n",
       "      <td>5.637376</td>\n",
       "    </tr>\n",
       "    <tr>\n",
       "      <th>...</th>\n",
       "      <td>...</td>\n",
       "      <td>...</td>\n",
       "      <td>...</td>\n",
       "      <td>...</td>\n",
       "      <td>...</td>\n",
       "      <td>...</td>\n",
       "      <td>...</td>\n",
       "    </tr>\n",
       "    <tr>\n",
       "      <th>4367</th>\n",
       "      <td>196.89</td>\n",
       "      <td>1</td>\n",
       "      <td>1</td>\n",
       "      <td>16.407500</td>\n",
       "      <td>0</td>\n",
       "      <td>8.199604</td>\n",
       "      <td>7.106347</td>\n",
       "    </tr>\n",
       "    <tr>\n",
       "      <th>4368</th>\n",
       "      <td>343.50</td>\n",
       "      <td>1</td>\n",
       "      <td>1</td>\n",
       "      <td>19.083333</td>\n",
       "      <td>0</td>\n",
       "      <td>5.037254</td>\n",
       "      <td>4.652588</td>\n",
       "    </tr>\n",
       "    <tr>\n",
       "      <th>4369</th>\n",
       "      <td>360.00</td>\n",
       "      <td>1</td>\n",
       "      <td>1</td>\n",
       "      <td>180.000000</td>\n",
       "      <td>0</td>\n",
       "      <td>4.484577</td>\n",
       "      <td>5.610204</td>\n",
       "    </tr>\n",
       "    <tr>\n",
       "      <th>4370</th>\n",
       "      <td>227.39</td>\n",
       "      <td>1</td>\n",
       "      <td>1</td>\n",
       "      <td>18.949167</td>\n",
       "      <td>0</td>\n",
       "      <td>7.700963</td>\n",
       "      <td>6.473228</td>\n",
       "    </tr>\n",
       "    <tr>\n",
       "      <th>4371</th>\n",
       "      <td>848.55</td>\n",
       "      <td>0</td>\n",
       "      <td>1</td>\n",
       "      <td>22.330263</td>\n",
       "      <td>0</td>\n",
       "      <td>-4.274586</td>\n",
       "      <td>-0.010517</td>\n",
       "    </tr>\n",
       "  </tbody>\n",
       "</table>\n",
       "<p>4372 rows × 7 columns</p>\n",
       "</div>"
      ],
      "text/plain": [
       "      gross_revenue  recency_days  invoice_no  avg_ticket  cluster  embedding_x  embedding_y\n",
       "0           5288.63           302          35   16.950737        3    15.085674     3.178451\n",
       "1           3079.10            31          18   15.709694        0    12.432881    -4.551754\n",
       "2           7187.34             2          18   28.634821        3    15.960181     6.311209\n",
       "3            948.25            95           5   33.866071        0    -3.623408    -1.468295\n",
       "4            635.10           330           6  105.850000        0    -0.030647     5.637376\n",
       "...             ...           ...         ...         ...      ...          ...          ...\n",
       "4367         196.89             1           1   16.407500        0     8.199604     7.106347\n",
       "4368         343.50             1           1   19.083333        0     5.037254     4.652588\n",
       "4369         360.00             1           1  180.000000        0     4.484577     5.610204\n",
       "4370         227.39             1           1   18.949167        0     7.700963     6.473228\n",
       "4371         848.55             0           1   22.330263        0    -4.274586    -0.010517\n",
       "\n",
       "[4372 rows x 7 columns]"
      ]
     },
     "execution_count": 41,
     "metadata": {},
     "output_type": "execute_result"
    }
   ],
   "source": [
    "df_viz"
   ]
  },
  {
   "cell_type": "markdown",
   "id": "b4b48e24",
   "metadata": {},
   "source": [
    "## t-SNE"
   ]
  },
  {
   "cell_type": "code",
   "execution_count": null,
   "id": "ef5dc90e",
   "metadata": {},
   "outputs": [],
   "source": [
    "#next cycles\n",
    "pass"
   ]
  },
  {
   "cell_type": "markdown",
   "id": "91a0a32b",
   "metadata": {},
   "source": [
    "## Cluster Profile"
   ]
  },
  {
   "cell_type": "code",
   "execution_count": 52,
   "id": "32bc826b",
   "metadata": {
    "ExecuteTime": {
     "end_time": "2022-07-29T16:08:19.871855Z",
     "start_time": "2022-07-29T16:08:19.864448Z"
    }
   },
   "outputs": [],
   "source": [
    "#using 4 metrics, with avg_ticket to represent the centroid of the group (mean), let's understand who are the people inside each cluster"
   ]
  },
  {
   "cell_type": "code",
   "execution_count": 53,
   "id": "d25841f3",
   "metadata": {
    "ExecuteTime": {
     "end_time": "2022-07-29T16:08:20.226594Z",
     "start_time": "2022-07-29T16:08:20.207471Z"
    }
   },
   "outputs": [
    {
     "data": {
      "text/html": [
       "<div>\n",
       "<style scoped>\n",
       "    .dataframe tbody tr th:only-of-type {\n",
       "        vertical-align: middle;\n",
       "    }\n",
       "\n",
       "    .dataframe tbody tr th {\n",
       "        vertical-align: top;\n",
       "    }\n",
       "\n",
       "    .dataframe thead th {\n",
       "        text-align: right;\n",
       "    }\n",
       "</style>\n",
       "<table border=\"1\" class=\"dataframe\">\n",
       "  <thead>\n",
       "    <tr style=\"text-align: right;\">\n",
       "      <th></th>\n",
       "      <th>customer_id</th>\n",
       "      <th>gross_revenue</th>\n",
       "      <th>recency_days</th>\n",
       "      <th>invoice_no</th>\n",
       "      <th>avg_ticket</th>\n",
       "      <th>cluster</th>\n",
       "    </tr>\n",
       "  </thead>\n",
       "  <tbody>\n",
       "    <tr>\n",
       "      <th>0</th>\n",
       "      <td>17850</td>\n",
       "      <td>5288.63</td>\n",
       "      <td>302</td>\n",
       "      <td>35</td>\n",
       "      <td>16.950737</td>\n",
       "      <td>3</td>\n",
       "    </tr>\n",
       "    <tr>\n",
       "      <th>1</th>\n",
       "      <td>13047</td>\n",
       "      <td>3079.10</td>\n",
       "      <td>31</td>\n",
       "      <td>18</td>\n",
       "      <td>15.709694</td>\n",
       "      <td>0</td>\n",
       "    </tr>\n",
       "    <tr>\n",
       "      <th>2</th>\n",
       "      <td>12583</td>\n",
       "      <td>7187.34</td>\n",
       "      <td>2</td>\n",
       "      <td>18</td>\n",
       "      <td>28.634821</td>\n",
       "      <td>3</td>\n",
       "    </tr>\n",
       "    <tr>\n",
       "      <th>3</th>\n",
       "      <td>13748</td>\n",
       "      <td>948.25</td>\n",
       "      <td>95</td>\n",
       "      <td>5</td>\n",
       "      <td>33.866071</td>\n",
       "      <td>0</td>\n",
       "    </tr>\n",
       "    <tr>\n",
       "      <th>4</th>\n",
       "      <td>15100</td>\n",
       "      <td>635.10</td>\n",
       "      <td>330</td>\n",
       "      <td>6</td>\n",
       "      <td>105.850000</td>\n",
       "      <td>0</td>\n",
       "    </tr>\n",
       "  </tbody>\n",
       "</table>\n",
       "</div>"
      ],
      "text/plain": [
       "   customer_id  gross_revenue  recency_days  invoice_no  avg_ticket  cluster\n",
       "0        17850        5288.63           302          35   16.950737        3\n",
       "1        13047        3079.10            31          18   15.709694        0\n",
       "2        12583        7187.34             2          18   28.634821        3\n",
       "3        13748         948.25            95           5   33.866071        0\n",
       "4        15100         635.10           330           6  105.850000        0"
      ]
     },
     "execution_count": 53,
     "metadata": {},
     "output_type": "execute_result"
    }
   ],
   "source": [
    "df9.head()"
   ]
  },
  {
   "cell_type": "code",
   "execution_count": 54,
   "id": "31a4d6cb",
   "metadata": {
    "ExecuteTime": {
     "end_time": "2022-07-29T16:08:20.649824Z",
     "start_time": "2022-07-29T16:08:20.629771Z"
    }
   },
   "outputs": [
    {
     "data": {
      "text/html": [
       "<div>\n",
       "<style scoped>\n",
       "    .dataframe tbody tr th:only-of-type {\n",
       "        vertical-align: middle;\n",
       "    }\n",
       "\n",
       "    .dataframe tbody tr th {\n",
       "        vertical-align: top;\n",
       "    }\n",
       "\n",
       "    .dataframe thead th {\n",
       "        text-align: right;\n",
       "    }\n",
       "</style>\n",
       "<table border=\"1\" class=\"dataframe\">\n",
       "  <thead>\n",
       "    <tr style=\"text-align: right;\">\n",
       "      <th></th>\n",
       "      <th>cluster</th>\n",
       "      <th>customer_id</th>\n",
       "      <th>perc_customer</th>\n",
       "    </tr>\n",
       "  </thead>\n",
       "  <tbody>\n",
       "    <tr>\n",
       "      <th>0</th>\n",
       "      <td>0</td>\n",
       "      <td>4071</td>\n",
       "      <td>93.115279</td>\n",
       "    </tr>\n",
       "    <tr>\n",
       "      <th>1</th>\n",
       "      <td>1</td>\n",
       "      <td>6</td>\n",
       "      <td>0.137237</td>\n",
       "    </tr>\n",
       "    <tr>\n",
       "      <th>2</th>\n",
       "      <td>2</td>\n",
       "      <td>28</td>\n",
       "      <td>0.640439</td>\n",
       "    </tr>\n",
       "    <tr>\n",
       "      <th>3</th>\n",
       "      <td>3</td>\n",
       "      <td>267</td>\n",
       "      <td>6.107045</td>\n",
       "    </tr>\n",
       "  </tbody>\n",
       "</table>\n",
       "</div>"
      ],
      "text/plain": [
       "   cluster  customer_id  perc_customer\n",
       "0        0         4071      93.115279\n",
       "1        1            6       0.137237\n",
       "2        2           28       0.640439\n",
       "3        3          267       6.107045"
      ]
     },
     "execution_count": 54,
     "metadata": {},
     "output_type": "execute_result"
    }
   ],
   "source": [
    "# Number of customer\n",
    "df_cluster = df9[['customer_id', 'cluster']].groupby('cluster').count().reset_index()\n",
    "df_cluster['perc_customer'] = df_cluster['customer_id'] / df_cluster['customer_id'].sum()*100\n",
    "df_cluster\n",
    "#there is more than 99% of my customers in one cluster (0), so we need to work on features to improve this#"
   ]
  },
  {
   "cell_type": "code",
   "execution_count": 55,
   "id": "330641ce",
   "metadata": {
    "ExecuteTime": {
     "end_time": "2022-07-29T16:08:21.571366Z",
     "start_time": "2022-07-29T16:08:21.547090Z"
    }
   },
   "outputs": [
    {
     "data": {
      "text/html": [
       "<div>\n",
       "<style scoped>\n",
       "    .dataframe tbody tr th:only-of-type {\n",
       "        vertical-align: middle;\n",
       "    }\n",
       "\n",
       "    .dataframe tbody tr th {\n",
       "        vertical-align: top;\n",
       "    }\n",
       "\n",
       "    .dataframe thead th {\n",
       "        text-align: right;\n",
       "    }\n",
       "</style>\n",
       "<table border=\"1\" class=\"dataframe\">\n",
       "  <thead>\n",
       "    <tr style=\"text-align: right;\">\n",
       "      <th></th>\n",
       "      <th>cluster</th>\n",
       "      <th>customer_id</th>\n",
       "      <th>perc_customer</th>\n",
       "      <th>gross_revenue</th>\n",
       "    </tr>\n",
       "  </thead>\n",
       "  <tbody>\n",
       "    <tr>\n",
       "      <th>0</th>\n",
       "      <td>0</td>\n",
       "      <td>4071</td>\n",
       "      <td>93.115279</td>\n",
       "      <td>946.696250</td>\n",
       "    </tr>\n",
       "    <tr>\n",
       "      <th>1</th>\n",
       "      <td>1</td>\n",
       "      <td>6</td>\n",
       "      <td>0.137237</td>\n",
       "      <td>182181.981667</td>\n",
       "    </tr>\n",
       "    <tr>\n",
       "      <th>2</th>\n",
       "      <td>2</td>\n",
       "      <td>28</td>\n",
       "      <td>0.640439</td>\n",
       "      <td>42614.387143</td>\n",
       "    </tr>\n",
       "    <tr>\n",
       "      <th>3</th>\n",
       "      <td>3</td>\n",
       "      <td>267</td>\n",
       "      <td>6.107045</td>\n",
       "      <td>8089.028652</td>\n",
       "    </tr>\n",
       "  </tbody>\n",
       "</table>\n",
       "</div>"
      ],
      "text/plain": [
       "   cluster  customer_id  perc_customer  gross_revenue\n",
       "0        0         4071      93.115279     946.696250\n",
       "1        1            6       0.137237  182181.981667\n",
       "2        2           28       0.640439   42614.387143\n",
       "3        3          267       6.107045    8089.028652"
      ]
     },
     "execution_count": 55,
     "metadata": {},
     "output_type": "execute_result"
    }
   ],
   "source": [
    "# Agg gross revenue\n",
    "df_avg_gross_revenue = df9[['gross_revenue','cluster']].groupby('cluster').mean().reset_index()\n",
    "df_cluster = pd.merge(df_cluster, df_avg_gross_revenue, how='inner', on='cluster')\n",
    "df_cluster"
   ]
  },
  {
   "cell_type": "code",
   "execution_count": 56,
   "id": "90bf0a9d",
   "metadata": {
    "ExecuteTime": {
     "end_time": "2022-07-29T16:08:22.128906Z",
     "start_time": "2022-07-29T16:08:22.096990Z"
    }
   },
   "outputs": [
    {
     "data": {
      "text/html": [
       "<div>\n",
       "<style scoped>\n",
       "    .dataframe tbody tr th:only-of-type {\n",
       "        vertical-align: middle;\n",
       "    }\n",
       "\n",
       "    .dataframe tbody tr th {\n",
       "        vertical-align: top;\n",
       "    }\n",
       "\n",
       "    .dataframe thead th {\n",
       "        text-align: right;\n",
       "    }\n",
       "</style>\n",
       "<table border=\"1\" class=\"dataframe\">\n",
       "  <thead>\n",
       "    <tr style=\"text-align: right;\">\n",
       "      <th></th>\n",
       "      <th>cluster</th>\n",
       "      <th>customer_id</th>\n",
       "      <th>perc_customer</th>\n",
       "      <th>gross_revenue</th>\n",
       "      <th>recency_days</th>\n",
       "    </tr>\n",
       "  </thead>\n",
       "  <tbody>\n",
       "    <tr>\n",
       "      <th>0</th>\n",
       "      <td>0</td>\n",
       "      <td>4071</td>\n",
       "      <td>93.115279</td>\n",
       "      <td>946.696250</td>\n",
       "      <td>96.969295</td>\n",
       "    </tr>\n",
       "    <tr>\n",
       "      <th>1</th>\n",
       "      <td>1</td>\n",
       "      <td>6</td>\n",
       "      <td>0.137237</td>\n",
       "      <td>182181.981667</td>\n",
       "      <td>7.166667</td>\n",
       "    </tr>\n",
       "    <tr>\n",
       "      <th>2</th>\n",
       "      <td>2</td>\n",
       "      <td>28</td>\n",
       "      <td>0.640439</td>\n",
       "      <td>42614.387143</td>\n",
       "      <td>6.178571</td>\n",
       "    </tr>\n",
       "    <tr>\n",
       "      <th>3</th>\n",
       "      <td>3</td>\n",
       "      <td>267</td>\n",
       "      <td>6.107045</td>\n",
       "      <td>8089.028652</td>\n",
       "      <td>20.280899</td>\n",
       "    </tr>\n",
       "  </tbody>\n",
       "</table>\n",
       "</div>"
      ],
      "text/plain": [
       "   cluster  customer_id  perc_customer  gross_revenue  recency_days\n",
       "0        0         4071      93.115279     946.696250     96.969295\n",
       "1        1            6       0.137237  182181.981667      7.166667\n",
       "2        2           28       0.640439   42614.387143      6.178571\n",
       "3        3          267       6.107045    8089.028652     20.280899"
      ]
     },
     "execution_count": 56,
     "metadata": {},
     "output_type": "execute_result"
    }
   ],
   "source": [
    "# Avg recency days\n",
    "df_avg_recency_days = df9[['recency_days','cluster']].groupby('cluster').mean().reset_index()\n",
    "df_cluster = pd.merge(df_cluster, df_avg_recency_days, how='inner', on='cluster')\n",
    "df_cluster"
   ]
  },
  {
   "cell_type": "code",
   "execution_count": 57,
   "id": "f28526dc",
   "metadata": {
    "ExecuteTime": {
     "end_time": "2022-07-29T16:08:22.789970Z",
     "start_time": "2022-07-29T16:08:22.759808Z"
    }
   },
   "outputs": [
    {
     "data": {
      "text/html": [
       "<div>\n",
       "<style scoped>\n",
       "    .dataframe tbody tr th:only-of-type {\n",
       "        vertical-align: middle;\n",
       "    }\n",
       "\n",
       "    .dataframe tbody tr th {\n",
       "        vertical-align: top;\n",
       "    }\n",
       "\n",
       "    .dataframe thead th {\n",
       "        text-align: right;\n",
       "    }\n",
       "</style>\n",
       "<table border=\"1\" class=\"dataframe\">\n",
       "  <thead>\n",
       "    <tr style=\"text-align: right;\">\n",
       "      <th></th>\n",
       "      <th>cluster</th>\n",
       "      <th>customer_id</th>\n",
       "      <th>perc_customer</th>\n",
       "      <th>gross_revenue</th>\n",
       "      <th>recency_days</th>\n",
       "      <th>invoice_no</th>\n",
       "    </tr>\n",
       "  </thead>\n",
       "  <tbody>\n",
       "    <tr>\n",
       "      <th>0</th>\n",
       "      <td>0</td>\n",
       "      <td>4071</td>\n",
       "      <td>93.115279</td>\n",
       "      <td>946.696250</td>\n",
       "      <td>96.969295</td>\n",
       "      <td>3.641120</td>\n",
       "    </tr>\n",
       "    <tr>\n",
       "      <th>1</th>\n",
       "      <td>1</td>\n",
       "      <td>6</td>\n",
       "      <td>0.137237</td>\n",
       "      <td>182181.981667</td>\n",
       "      <td>7.166667</td>\n",
       "      <td>89.000000</td>\n",
       "    </tr>\n",
       "    <tr>\n",
       "      <th>2</th>\n",
       "      <td>2</td>\n",
       "      <td>28</td>\n",
       "      <td>0.640439</td>\n",
       "      <td>42614.387143</td>\n",
       "      <td>6.178571</td>\n",
       "      <td>57.821429</td>\n",
       "    </tr>\n",
       "    <tr>\n",
       "      <th>3</th>\n",
       "      <td>3</td>\n",
       "      <td>267</td>\n",
       "      <td>6.107045</td>\n",
       "      <td>8089.028652</td>\n",
       "      <td>20.280899</td>\n",
       "      <td>19.528090</td>\n",
       "    </tr>\n",
       "  </tbody>\n",
       "</table>\n",
       "</div>"
      ],
      "text/plain": [
       "   cluster  customer_id  perc_customer  gross_revenue  recency_days  invoice_no\n",
       "0        0         4071      93.115279     946.696250     96.969295    3.641120\n",
       "1        1            6       0.137237  182181.981667      7.166667   89.000000\n",
       "2        2           28       0.640439   42614.387143      6.178571   57.821429\n",
       "3        3          267       6.107045    8089.028652     20.280899   19.528090"
      ]
     },
     "execution_count": 57,
     "metadata": {},
     "output_type": "execute_result"
    }
   ],
   "source": [
    "# Avg invoice number\n",
    "df_avg_invoice_no = df9[['invoice_no','cluster']].groupby('cluster').mean().reset_index()\n",
    "df_cluster = pd.merge(df_cluster, df_avg_invoice_no, how='inner', on='cluster')\n",
    "df_cluster"
   ]
  },
  {
   "cell_type": "code",
   "execution_count": 58,
   "id": "eda579fd",
   "metadata": {
    "ExecuteTime": {
     "end_time": "2022-07-29T16:09:17.805266Z",
     "start_time": "2022-07-29T16:09:17.755946Z"
    }
   },
   "outputs": [
    {
     "data": {
      "text/html": [
       "<div>\n",
       "<style scoped>\n",
       "    .dataframe tbody tr th:only-of-type {\n",
       "        vertical-align: middle;\n",
       "    }\n",
       "\n",
       "    .dataframe tbody tr th {\n",
       "        vertical-align: top;\n",
       "    }\n",
       "\n",
       "    .dataframe thead th {\n",
       "        text-align: right;\n",
       "    }\n",
       "</style>\n",
       "<table border=\"1\" class=\"dataframe\">\n",
       "  <thead>\n",
       "    <tr style=\"text-align: right;\">\n",
       "      <th></th>\n",
       "      <th>cluster</th>\n",
       "      <th>customer_id</th>\n",
       "      <th>perc_customer</th>\n",
       "      <th>gross_revenue</th>\n",
       "      <th>recency_days</th>\n",
       "      <th>invoice_no</th>\n",
       "      <th>avg_ticket</th>\n",
       "    </tr>\n",
       "  </thead>\n",
       "  <tbody>\n",
       "    <tr>\n",
       "      <th>0</th>\n",
       "      <td>0</td>\n",
       "      <td>4071</td>\n",
       "      <td>93.115279</td>\n",
       "      <td>946.696250</td>\n",
       "      <td>96.969295</td>\n",
       "      <td>3.641120</td>\n",
       "      <td>25.359654</td>\n",
       "    </tr>\n",
       "    <tr>\n",
       "      <th>1</th>\n",
       "      <td>1</td>\n",
       "      <td>6</td>\n",
       "      <td>0.137237</td>\n",
       "      <td>182181.981667</td>\n",
       "      <td>7.166667</td>\n",
       "      <td>89.000000</td>\n",
       "      <td>253.626345</td>\n",
       "    </tr>\n",
       "    <tr>\n",
       "      <th>2</th>\n",
       "      <td>2</td>\n",
       "      <td>28</td>\n",
       "      <td>0.640439</td>\n",
       "      <td>42614.387143</td>\n",
       "      <td>6.178571</td>\n",
       "      <td>57.821429</td>\n",
       "      <td>162.862605</td>\n",
       "    </tr>\n",
       "    <tr>\n",
       "      <th>3</th>\n",
       "      <td>3</td>\n",
       "      <td>267</td>\n",
       "      <td>6.107045</td>\n",
       "      <td>8089.028652</td>\n",
       "      <td>20.280899</td>\n",
       "      <td>19.528090</td>\n",
       "      <td>62.783157</td>\n",
       "    </tr>\n",
       "  </tbody>\n",
       "</table>\n",
       "</div>"
      ],
      "text/plain": [
       "   cluster  customer_id  perc_customer  gross_revenue  recency_days  invoice_no  avg_ticket\n",
       "0        0         4071      93.115279     946.696250     96.969295    3.641120   25.359654\n",
       "1        1            6       0.137237  182181.981667      7.166667   89.000000  253.626345\n",
       "2        2           28       0.640439   42614.387143      6.178571   57.821429  162.862605\n",
       "3        3          267       6.107045    8089.028652     20.280899   19.528090   62.783157"
      ]
     },
     "execution_count": 58,
     "metadata": {},
     "output_type": "execute_result"
    }
   ],
   "source": [
    "# Avg invoice number\n",
    "df_avg_ticket = df9[['avg_ticket','cluster']].groupby('cluster').mean().reset_index()\n",
    "df_cluster = pd.merge(df_cluster, df_avg_ticket, how='inner', on='cluster')\n",
    "df_cluster"
   ]
  },
  {
   "cell_type": "code",
   "execution_count": 141,
   "id": "8a301392",
   "metadata": {
    "ExecuteTime": {
     "end_time": "2022-07-29T16:34:10.922284Z",
     "start_time": "2022-07-29T16:34:10.903999Z"
    }
   },
   "outputs": [
    {
     "data": {
      "text/html": [
       "<div>\n",
       "<style scoped>\n",
       "    .dataframe tbody tr th:only-of-type {\n",
       "        vertical-align: middle;\n",
       "    }\n",
       "\n",
       "    .dataframe tbody tr th {\n",
       "        vertical-align: top;\n",
       "    }\n",
       "\n",
       "    .dataframe thead th {\n",
       "        text-align: right;\n",
       "    }\n",
       "</style>\n",
       "<table border=\"1\" class=\"dataframe\">\n",
       "  <thead>\n",
       "    <tr style=\"text-align: right;\">\n",
       "      <th></th>\n",
       "      <th>cluster</th>\n",
       "      <th>customer_id</th>\n",
       "      <th>perc_customer</th>\n",
       "      <th>gross_revenue</th>\n",
       "      <th>recency_days</th>\n",
       "      <th>invoice_no</th>\n",
       "      <th>avg_ticket</th>\n",
       "    </tr>\n",
       "  </thead>\n",
       "  <tbody>\n",
       "    <tr>\n",
       "      <th>1</th>\n",
       "      <td>1</td>\n",
       "      <td>6</td>\n",
       "      <td>0.137237</td>\n",
       "      <td>182181.981667</td>\n",
       "      <td>7.166667</td>\n",
       "      <td>89.000000</td>\n",
       "      <td>253.626345</td>\n",
       "    </tr>\n",
       "    <tr>\n",
       "      <th>2</th>\n",
       "      <td>2</td>\n",
       "      <td>28</td>\n",
       "      <td>0.640439</td>\n",
       "      <td>42614.387143</td>\n",
       "      <td>6.178571</td>\n",
       "      <td>57.821429</td>\n",
       "      <td>162.862605</td>\n",
       "    </tr>\n",
       "    <tr>\n",
       "      <th>3</th>\n",
       "      <td>3</td>\n",
       "      <td>267</td>\n",
       "      <td>6.107045</td>\n",
       "      <td>8089.028652</td>\n",
       "      <td>20.280899</td>\n",
       "      <td>19.528090</td>\n",
       "      <td>62.783157</td>\n",
       "    </tr>\n",
       "    <tr>\n",
       "      <th>0</th>\n",
       "      <td>0</td>\n",
       "      <td>4071</td>\n",
       "      <td>93.115279</td>\n",
       "      <td>946.696250</td>\n",
       "      <td>96.969295</td>\n",
       "      <td>3.641120</td>\n",
       "      <td>25.359654</td>\n",
       "    </tr>\n",
       "  </tbody>\n",
       "</table>\n",
       "</div>"
      ],
      "text/plain": [
       "   cluster  customer_id  perc_customer  gross_revenue  recency_days  invoice_no  avg_ticket\n",
       "1        1            6       0.137237  182181.981667      7.166667   89.000000  253.626345\n",
       "2        2           28       0.640439   42614.387143      6.178571   57.821429  162.862605\n",
       "3        3          267       6.107045    8089.028652     20.280899   19.528090   62.783157\n",
       "0        0         4071      93.115279     946.696250     96.969295    3.641120   25.359654"
      ]
     },
     "execution_count": 141,
     "metadata": {},
     "output_type": "execute_result"
    }
   ],
   "source": [
    "df_cluster = df_cluster.sort_values('customer_id', ascending=True) #sort by number of customers\n",
    "df_cluster"
   ]
  },
  {
   "cell_type": "code",
   "execution_count": 146,
   "id": "049e1af2",
   "metadata": {
    "ExecuteTime": {
     "end_time": "2022-07-29T16:35:32.796831Z",
     "start_time": "2022-07-29T16:35:32.785285Z"
    }
   },
   "outputs": [
    {
     "name": "stdout",
     "output_type": "stream",
     "text": [
      " Cluster 0:\n",
      "    -Number of customers: 4071 (93.1%)\n",
      "    -Average revenue: $947\n",
      "    -Average recency: by each 97 days (14 week(s))\n",
      "    -Average purchases: 4  \n",
      "    -Average ticket: $25 \n",
      " \n",
      " Cluster 1:\n",
      "    -Number of customers: 6 (0.1%)\n",
      "    -Average revenue: $182182\n",
      "    -Average recency: by each 7 days (1 week(s))\n",
      "    -Average purchases: 89  \n",
      "    -Average ticket: $254 \n",
      " \n",
      " Cluster 2:\n",
      "    -Number of customers: 28 (0.6%)\n",
      "    -Average revenue: $42614\n",
      "    -Average recency: by each 6 days (1 week(s))\n",
      "    -Average purchases: 58  \n",
      "    -Average ticket: $163 \n",
      " \n",
      " Cluster 3:\n",
      "    -Number of customers: 267 (6.1%)\n",
      "    -Average revenue: $8089\n",
      "    -Average recency: by each 20 days (3 week(s))\n",
      "    -Average purchases: 20  \n",
      "    -Average ticket: $63 \n",
      " \n"
     ]
    }
   ],
   "source": [
    "#generate the repport dinamically:\n",
    "for i in range(len(df_cluster['customer_id'])):\n",
    "    print(f\"\"\" Cluster {df_cluster['cluster'][i]}:\n",
    "    -Number of customers: {df_cluster['customer_id'][i]} ({round(df_cluster['perc_customer'][i],1)}%)\n",
    "    -Average revenue: ${round(df_cluster['gross_revenue'][i])}\n",
    "    -Average recency: by each {round(df_cluster['recency_days'][i])} days ({round(df_cluster['recency_days'][i]/7)} week(s))\n",
    "    -Average purchases: {round(df_cluster['invoice_no'][i])}  \n",
    "    -Average ticket: ${round(df_cluster['avg_ticket'][i])} \\n \"\"\")"
   ]
  },
  {
   "cell_type": "markdown",
   "id": "168c7739",
   "metadata": {},
   "source": [
    "\n",
    "**Cluster 1 (Loyal candidates)**\n",
    "- Number of customers: 6 (0.1% of customers)\n",
    "- Average revenue: $ 182,182.00\n",
    "- Average recency: by each 7 days (1 weeks)\n",
    "- Average purchases: 89 purchases\n",
    "\n",
    "**Cluster 2**\n",
    "- Number of customers: 31 (0.7% of customers)\n",
    "- Average revenue: $ 40,543.00\n",
    "- Average recency: by each 13 days (2 weeks)\n",
    "- Average purchases: 52 purchases\n",
    "\n",
    "\n",
    "**Cluster 3**\n",
    "- Number of customers: 4335 (99% of customers)\n",
    "- Average revenue: $ 1,372.00\n",
    "- Average recency: by each 92 days (3 months)\n",
    "- Average purchases: 5 purchases"
   ]
  },
  {
   "cell_type": "markdown",
   "id": "576d3957",
   "metadata": {
    "heading_collapsed": true
   },
   "source": [
    "# Deploy"
   ]
  },
  {
   "cell_type": "code",
   "execution_count": 145,
   "id": "d94fd9c4",
   "metadata": {
    "ExecuteTime": {
     "end_time": "2022-07-25T00:01:30.743491Z",
     "start_time": "2022-07-25T00:01:30.736620Z"
    },
    "hidden": true
   },
   "outputs": [],
   "source": [
    "#in the future"
   ]
  }
 ],
 "metadata": {
  "kernelspec": {
   "display_name": "Python 3 (ipykernel)",
   "language": "python",
   "name": "python3"
  },
  "language_info": {
   "codemirror_mode": {
    "name": "ipython",
    "version": 3
   },
   "file_extension": ".py",
   "mimetype": "text/x-python",
   "name": "python",
   "nbconvert_exporter": "python",
   "pygments_lexer": "ipython3",
   "version": "3.8.0"
  },
  "toc": {
   "base_numbering": 1,
   "nav_menu": {},
   "number_sections": true,
   "sideBar": true,
   "skip_h1_title": false,
   "title_cell": "Table of Contents",
   "title_sidebar": "Contents",
   "toc_cell": false,
   "toc_position": {},
   "toc_section_display": true,
   "toc_window_display": false
  },
  "varInspector": {
   "cols": {
    "lenName": 16,
    "lenType": 16,
    "lenVar": 40
   },
   "kernels_config": {
    "python": {
     "delete_cmd_postfix": "",
     "delete_cmd_prefix": "del ",
     "library": "var_list.py",
     "varRefreshCmd": "print(var_dic_list())"
    },
    "r": {
     "delete_cmd_postfix": ") ",
     "delete_cmd_prefix": "rm(",
     "library": "var_list.r",
     "varRefreshCmd": "cat(var_dic_list()) "
    }
   },
   "position": {
    "height": "294.85px",
    "left": "500px",
    "right": "20px",
    "top": "101px",
    "width": "510px"
   },
   "types_to_exclude": [
    "module",
    "function",
    "builtin_function_or_method",
    "instance",
    "_Feature"
   ],
   "window_display": false
  }
 },
 "nbformat": 4,
 "nbformat_minor": 5
}
