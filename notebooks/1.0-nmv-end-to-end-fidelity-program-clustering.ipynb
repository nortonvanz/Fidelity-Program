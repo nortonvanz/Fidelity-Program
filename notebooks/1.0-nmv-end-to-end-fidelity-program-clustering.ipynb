{
 "cells": [
  {
   "cell_type": "markdown",
   "id": "639f81cc",
   "metadata": {},
   "source": [
    "# Solution Planning"
   ]
  },
  {
   "cell_type": "markdown",
   "id": "cb6c82a1",
   "metadata": {},
   "source": [
    "## Business Problem"
   ]
  },
  {
   "cell_type": "markdown",
   "id": "8bf67e1e",
   "metadata": {},
   "source": [
    "1 - Selecionar os clientes mais valiosos para integrar o programa de fidelidade \"Loyals\".\n",
    "\n",
    "2 - Responder a questões de negócio ao time de marketing."
   ]
  },
  {
   "cell_type": "markdown",
   "id": "d87d35b2",
   "metadata": {},
   "source": [
    "### Output"
   ]
  },
  {
   "cell_type": "markdown",
   "id": "195ff676",
   "metadata": {},
   "source": [
    "O que vou entregar? / Onde o time de negócio quer ver?\n",
    "\n",
    "1 - Lista em xls / enviar por email. Deve conter clientes que irão aderir ao Loyals (programa de fidelidade)\n",
    "\n",
    "Formato: \n",
    "```client_id | is_loyal\n",
    "     123  |  yes\n",
    "     124  |  no ```\n",
    "                     \n",
    "2 - Relatório em pdf / enviar por email e apresentar ao time de marketing.\n",
    "\n",
    "O relatório deve responder as seguintes questões de negócio:\n",
    "- 1 - Quem são as pessoas elegíveis para participar do programa Loyals?\n",
    "- 2 - Quantos clientes farão parte do grupo?\n",
    "- 3 - Quais são as principais características desses clientes?\n",
    "- 4 - Qual a porcentagem de contribuição de faturamento, vinda do Loyals?\n",
    "- 5 - Qual a expectativa de faturamento desse grupo para os próximos meses?\n",
    "- 6 - Quais as condições para uma pessoa ser elegível ao Loyals? \n",
    "- 7 - Quais as condições para uma pessoa ser removida do Loyals?\n",
    "- 8 - Qual a garantia que o programa Loyals é melhor que o restante da base?\n",
    "- 9 - Quais ações do time de marketing pode realizar para aumentar o faturamento?"
   ]
  },
  {
   "cell_type": "markdown",
   "id": "05e48d9d",
   "metadata": {},
   "source": [
    "### Input"
   ]
  },
  {
   "cell_type": "markdown",
   "id": "36181fd9",
   "metadata": {},
   "source": [
    "Fontes de dados:\n",
    "    Dataset \"Ecommerce.csv\", contendo as vendas de e-commerce do período de um ano.\n",
    "\n",
    "Ferramentas:\n",
    "    Python 3.8.12, Jupyter Notebook, Git, Github."
   ]
  },
  {
   "cell_type": "markdown",
   "id": "971399a0",
   "metadata": {},
   "source": [
    "### Processo"
   ]
  },
  {
   "cell_type": "markdown",
   "id": "b847d129",
   "metadata": {},
   "source": [
    "1. **Quem são as pessoas elegíveis para participar do programa de Insiders ?**\n",
    "    - O que é ser elegível ? O que é um cliente \"valioso\" para a empresa ?\n",
    "        \n",
    "        - Faturamento:"
   ]
  },
  {
   "cell_type": "markdown",
   "id": "ed53980b",
   "metadata": {},
   "source": [
    "**Tipo de problema:**\n",
    "Separação de clientes por grupos.\n",
    "    \n",
    "**Principais métodos:**\n",
    "    Clusterização.\n",
    "\n",
    "**Perguntas de negócio:**\n",
    "\n",
    "1. **Quem são as pessoas elegíveis para participar do programa Loyals?**\n",
    "    - O que é ser elegível? / O que são clientes de maior \"valor\"? (de acordo com área de negócio)\n",
    "\n",
    "Faturamento:\n",
    " - Alto ticket médio\n",
    " - Alto LTV (soma da receita do cliente conosco)\n",
    " - Baixa recência (tempo desde a última compra)\n",
    " - Alto basket size (qtd produtos comprados por compra)\n",
    " - Baixa probabilidade de churn (usaria a saída de um modelo)\n",
    " - Alta Previsão LTV (usaria saída de um modelo)\n",
    " - Alta propensão de compra (usaria a saída de um modelo)\n",
    " \n",
    "Custo:\n",
    " - Baixa taxa de devolução\n",
    " \n",
    "Experiência de compra:\n",
    " - Média alta das avaliações\n",
    " \n",
    "PS: na prática, acima será o feature engeneering, pois precisarei criar estas features.   \n",
    "\n",
    "2 - Qual a porcentagem de clientes do Loyals em relação ao todo?\n",
    "- Numero total de clientes / número de Loyals \n",
    "    \n",
    "3 - Quais são as principais características desses clientes? (para look alike: prospectar clientes parecidos na internet)\n",
    "\n",
    "Escrever caracterísiticas do cliente:\n",
    "- Idade\n",
    "- Localização\n",
    "Escrever caracterísitca do consumo:\n",
    "- Features da clusterização (questão 1)\n",
    "    \n",
    "4 - Qual a porcentagem de contribuição de faturamento, vinda do Loyals?\n",
    "- Faturamento total do ano / faturamento do Loyals\n",
    "\n",
    "5 - Qual a expectativa de faturamento desse grupo para os próximos meses? (isso tem meta)\n",
    "- LTV do Loyals (com média móvel, time series, arima..)\n",
    "- Análise de Cohort (com tempo, localização, produto..)\n",
    "       \n",
    "6 - Quais as condições para uma pessoa ser elegível ao Loyals? (threshold de preço? Várias vars?) \n",
    "- Definir a periodicidade que vai rodar (a cada 1 mês, 3 meses..) \n",
    "- A pessoa precisa ser similar com outra pessoa do grupo Loyals\n",
    "\n",
    "7 - Quais as condições para uma pessoa ser removida do Loyals?\n",
    "- A pessoa precisa ser diferente de outra pessoa do grupo Loyals\n",
    "    \n",
    "8 - Qual a garantia que o programa Loyals é melhor que o restante da base?\n",
    "- Teste A/B\n",
    "- Teste A/B Bayesiano\n",
    "- Teste de hipótese\n",
    "\n",
    "9 - Quais ações do time de marketing pode realizar para aumentar o faturamento? \n",
    "- Desconto\n",
    "- Preferência de compra\n",
    "- Frete\n",
    "- Visita a emrpesa\n",
    "- Oferecer personal stylist\n",
    "- Recomendar cross sell \n",
    "- Oferecer conteúdo expclusivo"
   ]
  },
  {
   "cell_type": "markdown",
   "id": "c2b8619b",
   "metadata": {},
   "source": [
    "## Benchmarking de soluções"
   ]
  },
  {
   "cell_type": "markdown",
   "id": "e9975343",
   "metadata": {},
   "source": [
    "### Desk Research"
   ]
  },
  {
   "cell_type": "markdown",
   "id": "3cc822d3",
   "metadata": {},
   "source": [
    "Leitura de artigos sobre customer segmentation na internet, para compreender o que o mercado está fazendo.\n",
    "\n",
    "Identificar a partir das soluções do mercado, com o time de negócio, o que podemos fazer como MVP."
   ]
  },
  {
   "cell_type": "markdown",
   "id": "dc9605f9",
   "metadata": {},
   "source": [
    "# Environment Preparation"
   ]
  },
  {
   "cell_type": "markdown",
   "id": "e395cf6a",
   "metadata": {
    "heading_collapsed": true
   },
   "source": [
    "## Imports"
   ]
  },
  {
   "cell_type": "code",
   "execution_count": 1,
   "id": "d70691e9",
   "metadata": {
    "ExecuteTime": {
     "end_time": "2022-06-02T10:05:13.349551Z",
     "start_time": "2022-06-02T10:05:11.239110Z"
    },
    "hidden": true
   },
   "outputs": [],
   "source": [
    "#plot and handle\n",
    "import pandas            as pd\n",
    "import matplotlib.pyplot as plt\n",
    "\n",
    "#display\n",
    "import seaborn           as sns\n",
    "from IPython.core.display     import HTML\n",
    "#from IPython.display          import Image"
   ]
  },
  {
   "cell_type": "markdown",
   "id": "3bd0cf03",
   "metadata": {
    "heading_collapsed": true
   },
   "source": [
    "## Helper Functions"
   ]
  },
  {
   "cell_type": "code",
   "execution_count": 2,
   "id": "0dba3d9c",
   "metadata": {
    "ExecuteTime": {
     "end_time": "2022-06-02T10:05:15.256987Z",
     "start_time": "2022-06-02T10:05:15.208471Z"
    },
    "hidden": true
   },
   "outputs": [
    {
     "data": {
      "text/html": [
       "<style>.container { width:100% !important; }</style>"
      ],
      "text/plain": [
       "<IPython.core.display.HTML object>"
      ]
     },
     "metadata": {},
     "output_type": "display_data"
    }
   ],
   "source": [
    "def jupyter_settings():\n",
    "    \"\"\" Optimize general settings, standardize plot sizes, etc. \"\"\"\n",
    "    %matplotlib inline\n",
    "    plt.style.use( 'bmh' )\n",
    "    plt.rcParams['figure.figsize'] = [12, 6]\n",
    "    plt.rcParams['font.size'] = 20\n",
    "    display( HTML( '<style>.container { width:100% !important; }</style>') )\n",
    "    pd.options.display.max_columns = None\n",
    "    pd.options.display.max_rows = None\n",
    "    pd.set_option( 'display.expand_frame_repr', False )\n",
    "    sns.set()\n",
    "    pd.set_option('display.max_columns', 30)\n",
    "    pd.set_option('display.max_rows', 30)\n",
    "jupyter_settings()"
   ]
  },
  {
   "cell_type": "code",
   "execution_count": null,
   "id": "aeeca91f",
   "metadata": {
    "hidden": true
   },
   "outputs": [],
   "source": []
  },
  {
   "cell_type": "code",
   "execution_count": null,
   "id": "0e04164a",
   "metadata": {
    "hidden": true
   },
   "outputs": [],
   "source": []
  },
  {
   "cell_type": "code",
   "execution_count": null,
   "id": "24d96d3e",
   "metadata": {
    "hidden": true
   },
   "outputs": [],
   "source": []
  },
  {
   "cell_type": "code",
   "execution_count": null,
   "id": "a536bfa9",
   "metadata": {
    "hidden": true
   },
   "outputs": [],
   "source": []
  },
  {
   "cell_type": "code",
   "execution_count": null,
   "id": "be26595d",
   "metadata": {
    "hidden": true
   },
   "outputs": [],
   "source": []
  }
 ],
 "metadata": {
  "kernelspec": {
   "display_name": "Python 3 (ipykernel)",
   "language": "python",
   "name": "python3"
  },
  "language_info": {
   "codemirror_mode": {
    "name": "ipython",
    "version": 3
   },
   "file_extension": ".py",
   "mimetype": "text/x-python",
   "name": "python",
   "nbconvert_exporter": "python",
   "pygments_lexer": "ipython3",
   "version": "3.8.12"
  },
  "toc": {
   "base_numbering": 1,
   "nav_menu": {},
   "number_sections": true,
   "sideBar": true,
   "skip_h1_title": false,
   "title_cell": "Table of Contents",
   "title_sidebar": "Contents",
   "toc_cell": false,
   "toc_position": {},
   "toc_section_display": true,
   "toc_window_display": false
  },
  "varInspector": {
   "cols": {
    "lenName": 16,
    "lenType": 16,
    "lenVar": 40
   },
   "kernels_config": {
    "python": {
     "delete_cmd_postfix": "",
     "delete_cmd_prefix": "del ",
     "library": "var_list.py",
     "varRefreshCmd": "print(var_dic_list())"
    },
    "r": {
     "delete_cmd_postfix": ") ",
     "delete_cmd_prefix": "rm(",
     "library": "var_list.r",
     "varRefreshCmd": "cat(var_dic_list()) "
    }
   },
   "types_to_exclude": [
    "module",
    "function",
    "builtin_function_or_method",
    "instance",
    "_Feature"
   ],
   "window_display": false
  }
 },
 "nbformat": 4,
 "nbformat_minor": 5
}
