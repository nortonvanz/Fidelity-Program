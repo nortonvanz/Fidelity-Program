{
 "cells": [
  {
   "cell_type": "markdown",
   "id": "639f81cc",
   "metadata": {
    "heading_collapsed": true
   },
   "source": [
    "# Solution Planning"
   ]
  },
  {
   "cell_type": "markdown",
   "id": "cb6c82a1",
   "metadata": {
    "hidden": true
   },
   "source": [
    "## Business Problem"
   ]
  },
  {
   "cell_type": "markdown",
   "id": "8bf67e1e",
   "metadata": {
    "hidden": true
   },
   "source": [
    "**Qual é o problema de negócios?**\n",
    "1. Selecionar os clientes mais valiosos para integrar o programa de fidelidade \"Loyals\".\n",
    "\n",
    "2. Responder a questões de negócio ao time de marketing."
   ]
  },
  {
   "cell_type": "markdown",
   "id": "d87d35b2",
   "metadata": {
    "heading_collapsed": true,
    "hidden": true
   },
   "source": [
    "### Output"
   ]
  },
  {
   "cell_type": "markdown",
   "id": "195ff676",
   "metadata": {
    "hidden": true
   },
   "source": [
    "**O que vou entregar? / Onde o time de negócio quer ver?**\n",
    "\n",
    "* 1) Lista em xls / enviar por email. Deve conter clientes que irão aderir ao Loyals (programa de fidelidade). \n",
    "   - Formato:\n",
    "   \n",
    "| client_id | is_loyal |\n",
    "|-----------|----------|\n",
    "|1          |yes       |\n",
    "|2          |no        |\n",
    "\n",
    "* 2) Relatório em pdf respondendo as questões de negócio / enviar por email e apresentar ao time de marketing:\n",
    "    - Quem são as pessoas elegíveis para participar do programa Loyals?\n",
    "    - Quantos clientes farão parte do grupo?\n",
    "    - Quais são as principais características desses clientes?\n",
    "    - Qual a porcentagem de contribuição de faturamento, vinda do Loyals?\n",
    "    - Qual a expectativa de faturamento desse grupo para os próximos meses?\n",
    "    - Quais as condições para uma pessoa ser elegível ao Loyals? \n",
    "    - Quais as condições para uma pessoa ser removida do Loyals?\n",
    "    - Qual a garantia que o programa Loyals é melhor que o restante da base?\n",
    "    - Quais ações do time de marketing pode realizar para aumentar o faturamento?"
   ]
  },
  {
   "cell_type": "markdown",
   "id": "05e48d9d",
   "metadata": {
    "hidden": true
   },
   "source": [
    "### Input"
   ]
  },
  {
   "cell_type": "markdown",
   "id": "36181fd9",
   "metadata": {
    "hidden": true
   },
   "source": [
    "**Fontes de dados:**\n",
    "    Dataset \"Ecommerce.csv\", contendo as vendas de e-commerce do período de um ano.\n",
    "\n",
    "**Ferramentas:**\n",
    "    Python 3.8.12, Jupyter Notebook, Git, Github."
   ]
  },
  {
   "cell_type": "markdown",
   "id": "971399a0",
   "metadata": {
    "hidden": true
   },
   "source": [
    "### Process"
   ]
  },
  {
   "cell_type": "markdown",
   "id": "ed53980b",
   "metadata": {
    "hidden": true
   },
   "source": [
    "**Tipo de problema:**\n",
    "Separação de clientes por grupos.\n",
    "    \n",
    "**Principais métodos:**\n",
    "    Clusterização.\n",
    "\n",
    "**Perguntas de negócio:**\n",
    "* 1) Quem são as pessoas elegíveis para participar do programa Loyals?\n",
    "    - O que é ser elegível? / O que são clientes de maior \"valor\"? (de acordo com área de negócio) \n",
    "        - Faturamento:\n",
    "             - Alto ticket médio\n",
    "             - Alto LTV (soma da receita do cliente conosco)\n",
    "             - Baixa recência (tempo desde a última compra)\n",
    "             - Alto basket size (qtd produtos comprados por compra)\n",
    "             - Baixa probabilidade de churn (usaria a saída de um modelo)\n",
    "             - Alta Previsão LTV (usaria saída de um modelo)\n",
    "             - Alta propensão de compra (usaria a saída de um modelo)\n",
    "        - Custo:\n",
    "             - Baixa taxa de devolução\n",
    "        - Experiência de compra:\n",
    "             - Média alta das avaliações\n",
    "\n",
    " PS: as features acima serão criadas no feature engeneering. \n",
    " \n",
    " \n",
    "* 2) Quantos clientes farão parte do grupo?\n",
    "    - Número de clientes\n",
    "    - % em relação ao total de clients\n",
    "    \n",
    "    \n",
    "* 3) Quais são as principais características desses clientes?\n",
    "    - Escrever caracterísiticas do cliente:\n",
    "        - Idade\n",
    "        - País\n",
    "        - Salário\n",
    "        - Localização\n",
    "     - Escrever os principais comportamentos de compra dos clients ( métricas de negócio )\n",
    "        - Vide features da clusterização (questão 1)\n",
    "         \n",
    " Para look alike: prospectar clientes parecidos na internet\n",
    "\n",
    "\n",
    "* 4) Qual a porcentagem de contribuição de faturamento, vinda do Loyals?\n",
    "    - Calcular o faturamento total da empresa durante o ano.\n",
    "    - Calcular o faturamento (%) apenas do cluster Loyals.   \n",
    "   \n",
    "   \n",
    "* 5) Qual a expectativa de faturamento desse grupo para os próximos meses?\n",
    "    - Cálculo do LTV do Loyals (com média móvel, time series, arima..)\n",
    "    - Séries Temporais ( ARMA, ARIMA, HoltWinter, etc )\n",
    "    - Análise de Cohort (com tempo, localização, produto..)       \n",
    "\n",
    " Deve haver meta de faturamento, consultar negócio.\n",
    "    \n",
    "    \n",
    "* 6) Quais as condições para uma pessoa ser elegível ao Loyals?\n",
    "    - Definir o período de avaliação (a cada 1 mês, 3 meses..)\n",
    "    - O \"desempenho\" do cliente deve estar próximo da média do cluster Loyals.\n",
    "    \n",
    "    \n",
    "* 7) Quais as condições para uma pessoa ser removida do Loyals?\n",
    "    - O \"desempenho\" do cliente não está mais próximo da média do cluster Loyals. \n",
    "   \n",
    "   \n",
    "* 8) Qual a garantia que o programa Loyals é melhor que o restante da base?\n",
    "    - Teste A/B\n",
    "    - Teste de hipótese\n",
    "\n",
    "\n",
    "* 9) Quais ações do time de marketing pode realizar para aumentar o faturamento?\n",
    "    - Desconto\n",
    "    - Preferência de compra\n",
    "    - Frete mais barato\n",
    "    - Visita a empresa\n",
    "    - Oferecer personal stylist\n",
    "    - Recomendar cross sell \n",
    "    - Oferecer conteúdo expclusivo"
   ]
  },
  {
   "cell_type": "markdown",
   "id": "c2b8619b",
   "metadata": {
    "hidden": true
   },
   "source": [
    "## Solution Benchmarking"
   ]
  },
  {
   "cell_type": "markdown",
   "id": "e9975343",
   "metadata": {
    "hidden": true
   },
   "source": [
    "### Desk Research"
   ]
  },
  {
   "cell_type": "markdown",
   "id": "177f1581",
   "metadata": {
    "hidden": true
   },
   "source": [
    "Leitura de artigos sobre customer segmentation na internet, para compreender o que o mercado está fazendo.\n",
    "\n",
    "Identificar a partir das soluções do mercado, com o time de negócio, o que podemos fazer como MVP.\n",
    "\n",
    "1. Modelo RFM de segmentação."
   ]
  },
  {
   "cell_type": "markdown",
   "id": "dc9605f9",
   "metadata": {},
   "source": [
    "# Environment Preparation"
   ]
  },
  {
   "cell_type": "markdown",
   "id": "e395cf6a",
   "metadata": {},
   "source": [
    "## Imports"
   ]
  },
  {
   "cell_type": "code",
   "execution_count": 134,
   "id": "d70691e9",
   "metadata": {
    "ExecuteTime": {
     "end_time": "2022-07-21T11:24:47.328908Z",
     "start_time": "2022-07-21T11:24:47.322410Z"
    }
   },
   "outputs": [],
   "source": [
    "import pandas            as pd\n",
    "import matplotlib.pyplot as plt\n",
    "import seaborn           as sns\n",
    "import datetime          as dt\n",
    "from tabulate                 import tabulate\n",
    "from IPython.core.display     import HTML\n",
    "\n",
    "#from IPython.display          import Image"
   ]
  },
  {
   "cell_type": "markdown",
   "id": "3bd0cf03",
   "metadata": {
    "heading_collapsed": true
   },
   "source": [
    "## Helper Functions"
   ]
  },
  {
   "cell_type": "code",
   "execution_count": 53,
   "id": "0dba3d9c",
   "metadata": {
    "ExecuteTime": {
     "end_time": "2022-07-21T09:40:41.216635Z",
     "start_time": "2022-07-21T09:40:41.201431Z"
    },
    "hidden": true
   },
   "outputs": [
    {
     "data": {
      "text/html": [
       "<style>.container { width:100% !important; }</style>"
      ],
      "text/plain": [
       "<IPython.core.display.HTML object>"
      ]
     },
     "metadata": {},
     "output_type": "display_data"
    }
   ],
   "source": [
    "def jupyter_settings():\n",
    "    \"\"\" Optimize general settings, standardize plot sizes, etc. \"\"\"\n",
    "    %matplotlib inline\n",
    "    plt.style.use( 'bmh' )\n",
    "    plt.rcParams['figure.figsize'] = [12, 6]\n",
    "    plt.rcParams['font.size'] = 20\n",
    "    display( HTML( '<style>.container { width:100% !important; }</style>') )\n",
    "    pd.set_option( 'display.expand_frame_repr', False )\n",
    "    pd.set_option('display.max_columns', 30)\n",
    "    pd.set_option('display.max_rows', 30)\n",
    "    sns.set()\n",
    "jupyter_settings()"
   ]
  },
  {
   "cell_type": "markdown",
   "id": "ab6017a6",
   "metadata": {
    "heading_collapsed": true
   },
   "source": [
    "# Data Collection"
   ]
  },
  {
   "cell_type": "code",
   "execution_count": 54,
   "id": "ea19904d",
   "metadata": {
    "ExecuteTime": {
     "end_time": "2022-07-21T09:40:42.317313Z",
     "start_time": "2022-07-21T09:40:42.168343Z"
    },
    "hidden": true
   },
   "outputs": [
    {
     "name": "stdout",
     "output_type": "stream",
     "text": [
      "total 83400\r\n",
      "-rw-rw-r--@ 1 home  staff  42697197 Apr 29  2021 Ecommerce.csv\r\n"
     ]
    }
   ],
   "source": [
    "%ls -l ../data/raw/"
   ]
  },
  {
   "cell_type": "code",
   "execution_count": 55,
   "id": "ef39db17",
   "metadata": {
    "ExecuteTime": {
     "end_time": "2022-07-21T09:40:43.719141Z",
     "start_time": "2022-07-21T09:40:42.876533Z"
    },
    "hidden": true
   },
   "outputs": [],
   "source": [
    "#read data\n",
    "df_raw = pd.read_csv('../data/raw/Ecommerce.csv', encoding='unicode_escape')"
   ]
  },
  {
   "cell_type": "code",
   "execution_count": 56,
   "id": "1e32fe38",
   "metadata": {
    "ExecuteTime": {
     "end_time": "2022-07-21T09:40:44.208669Z",
     "start_time": "2022-07-21T09:40:44.190114Z"
    },
    "hidden": true
   },
   "outputs": [
    {
     "data": {
      "text/html": [
       "<div>\n",
       "<style scoped>\n",
       "    .dataframe tbody tr th:only-of-type {\n",
       "        vertical-align: middle;\n",
       "    }\n",
       "\n",
       "    .dataframe tbody tr th {\n",
       "        vertical-align: top;\n",
       "    }\n",
       "\n",
       "    .dataframe thead th {\n",
       "        text-align: right;\n",
       "    }\n",
       "</style>\n",
       "<table border=\"1\" class=\"dataframe\">\n",
       "  <thead>\n",
       "    <tr style=\"text-align: right;\">\n",
       "      <th></th>\n",
       "      <th>InvoiceNo</th>\n",
       "      <th>StockCode</th>\n",
       "      <th>Description</th>\n",
       "      <th>Quantity</th>\n",
       "      <th>InvoiceDate</th>\n",
       "      <th>UnitPrice</th>\n",
       "      <th>CustomerID</th>\n",
       "      <th>Country</th>\n",
       "      <th>Unnamed: 8</th>\n",
       "    </tr>\n",
       "  </thead>\n",
       "  <tbody>\n",
       "    <tr>\n",
       "      <th>0</th>\n",
       "      <td>536365</td>\n",
       "      <td>85123A</td>\n",
       "      <td>WHITE HANGING HEART T-LIGHT HOLDER</td>\n",
       "      <td>6</td>\n",
       "      <td>29-Nov-16</td>\n",
       "      <td>2.55</td>\n",
       "      <td>17850.0</td>\n",
       "      <td>United Kingdom</td>\n",
       "      <td>NaN</td>\n",
       "    </tr>\n",
       "    <tr>\n",
       "      <th>1</th>\n",
       "      <td>536365</td>\n",
       "      <td>71053</td>\n",
       "      <td>WHITE METAL LANTERN</td>\n",
       "      <td>6</td>\n",
       "      <td>29-Nov-16</td>\n",
       "      <td>3.39</td>\n",
       "      <td>17850.0</td>\n",
       "      <td>United Kingdom</td>\n",
       "      <td>NaN</td>\n",
       "    </tr>\n",
       "    <tr>\n",
       "      <th>2</th>\n",
       "      <td>536365</td>\n",
       "      <td>84406B</td>\n",
       "      <td>CREAM CUPID HEARTS COAT HANGER</td>\n",
       "      <td>8</td>\n",
       "      <td>29-Nov-16</td>\n",
       "      <td>2.75</td>\n",
       "      <td>17850.0</td>\n",
       "      <td>United Kingdom</td>\n",
       "      <td>NaN</td>\n",
       "    </tr>\n",
       "    <tr>\n",
       "      <th>3</th>\n",
       "      <td>536365</td>\n",
       "      <td>84029G</td>\n",
       "      <td>KNITTED UNION FLAG HOT WATER BOTTLE</td>\n",
       "      <td>6</td>\n",
       "      <td>29-Nov-16</td>\n",
       "      <td>3.39</td>\n",
       "      <td>17850.0</td>\n",
       "      <td>United Kingdom</td>\n",
       "      <td>NaN</td>\n",
       "    </tr>\n",
       "    <tr>\n",
       "      <th>4</th>\n",
       "      <td>536365</td>\n",
       "      <td>84029E</td>\n",
       "      <td>RED WOOLLY HOTTIE WHITE HEART.</td>\n",
       "      <td>6</td>\n",
       "      <td>29-Nov-16</td>\n",
       "      <td>3.39</td>\n",
       "      <td>17850.0</td>\n",
       "      <td>United Kingdom</td>\n",
       "      <td>NaN</td>\n",
       "    </tr>\n",
       "  </tbody>\n",
       "</table>\n",
       "</div>"
      ],
      "text/plain": [
       "  InvoiceNo StockCode                          Description  Quantity InvoiceDate  UnitPrice  CustomerID         Country  Unnamed: 8\n",
       "0    536365    85123A   WHITE HANGING HEART T-LIGHT HOLDER         6   29-Nov-16       2.55     17850.0  United Kingdom         NaN\n",
       "1    536365     71053                  WHITE METAL LANTERN         6   29-Nov-16       3.39     17850.0  United Kingdom         NaN\n",
       "2    536365    84406B       CREAM CUPID HEARTS COAT HANGER         8   29-Nov-16       2.75     17850.0  United Kingdom         NaN\n",
       "3    536365    84029G  KNITTED UNION FLAG HOT WATER BOTTLE         6   29-Nov-16       3.39     17850.0  United Kingdom         NaN\n",
       "4    536365    84029E       RED WOOLLY HOTTIE WHITE HEART.         6   29-Nov-16       3.39     17850.0  United Kingdom         NaN"
      ]
     },
     "execution_count": 56,
     "metadata": {},
     "output_type": "execute_result"
    }
   ],
   "source": [
    "df_raw.head()"
   ]
  },
  {
   "cell_type": "code",
   "execution_count": 61,
   "id": "867f2800",
   "metadata": {
    "ExecuteTime": {
     "end_time": "2022-07-21T09:41:18.614223Z",
     "start_time": "2022-07-21T09:41:18.560287Z"
    },
    "hidden": true
   },
   "outputs": [
    {
     "data": {
      "text/html": [
       "<div>\n",
       "<style scoped>\n",
       "    .dataframe tbody tr th:only-of-type {\n",
       "        vertical-align: middle;\n",
       "    }\n",
       "\n",
       "    .dataframe tbody tr th {\n",
       "        vertical-align: top;\n",
       "    }\n",
       "\n",
       "    .dataframe thead th {\n",
       "        text-align: right;\n",
       "    }\n",
       "</style>\n",
       "<table border=\"1\" class=\"dataframe\">\n",
       "  <thead>\n",
       "    <tr style=\"text-align: right;\">\n",
       "      <th></th>\n",
       "      <th>InvoiceNo</th>\n",
       "      <th>StockCode</th>\n",
       "      <th>Description</th>\n",
       "      <th>Quantity</th>\n",
       "      <th>InvoiceDate</th>\n",
       "      <th>UnitPrice</th>\n",
       "      <th>CustomerID</th>\n",
       "      <th>Country</th>\n",
       "    </tr>\n",
       "  </thead>\n",
       "  <tbody>\n",
       "    <tr>\n",
       "      <th>510894</th>\n",
       "      <td>579470</td>\n",
       "      <td>22998</td>\n",
       "      <td>TRAVEL CARD WALLET KEEP CALM</td>\n",
       "      <td>3</td>\n",
       "      <td>27-Nov-17</td>\n",
       "      <td>0.42</td>\n",
       "      <td>16549.0</td>\n",
       "      <td>United Kingdom</td>\n",
       "    </tr>\n",
       "    <tr>\n",
       "      <th>208159</th>\n",
       "      <td>555096</td>\n",
       "      <td>23174</td>\n",
       "      <td>REGENCY SUGAR BOWL GREEN</td>\n",
       "      <td>4</td>\n",
       "      <td>29-May-17</td>\n",
       "      <td>4.15</td>\n",
       "      <td>12682.0</td>\n",
       "      <td>France</td>\n",
       "    </tr>\n",
       "    <tr>\n",
       "      <th>403837</th>\n",
       "      <td>571654</td>\n",
       "      <td>21108</td>\n",
       "      <td>FAIRY CAKE FLANNEL ASSORTED COLOUR</td>\n",
       "      <td>1</td>\n",
       "      <td>16-Oct-17</td>\n",
       "      <td>0.79</td>\n",
       "      <td>18118.0</td>\n",
       "      <td>United Kingdom</td>\n",
       "    </tr>\n",
       "  </tbody>\n",
       "</table>\n",
       "</div>"
      ],
      "text/plain": [
       "       InvoiceNo StockCode                         Description  Quantity InvoiceDate  UnitPrice  CustomerID         Country\n",
       "510894    579470     22998        TRAVEL CARD WALLET KEEP CALM         3   27-Nov-17       0.42     16549.0  United Kingdom\n",
       "208159    555096     23174            REGENCY SUGAR BOWL GREEN         4   29-May-17       4.15     12682.0          France\n",
       "403837    571654     21108  FAIRY CAKE FLANNEL ASSORTED COLOUR         1   16-Oct-17       0.79     18118.0  United Kingdom"
      ]
     },
     "execution_count": 61,
     "metadata": {},
     "output_type": "execute_result"
    }
   ],
   "source": [
    "df_raw = df_raw.drop('Unnamed: 8', axis=1).copy()\n",
    "df_raw.sample(3)"
   ]
  },
  {
   "cell_type": "markdown",
   "id": "8c571d38",
   "metadata": {
    "ExecuteTime": {
     "end_time": "2022-07-20T15:55:51.244105Z",
     "start_time": "2022-07-20T15:55:51.239421Z"
    }
   },
   "source": [
    "# Data Description"
   ]
  },
  {
   "cell_type": "code",
   "execution_count": 62,
   "id": "8d01753e",
   "metadata": {
    "ExecuteTime": {
     "end_time": "2022-07-21T09:41:23.747251Z",
     "start_time": "2022-07-21T09:41:23.728845Z"
    }
   },
   "outputs": [],
   "source": [
    "df1 = df_raw.copy()"
   ]
  },
  {
   "cell_type": "markdown",
   "id": "3e074a3b",
   "metadata": {
    "heading_collapsed": true
   },
   "source": [
    "## Rename Columns"
   ]
  },
  {
   "cell_type": "code",
   "execution_count": 63,
   "id": "0a1ac0ce",
   "metadata": {
    "ExecuteTime": {
     "end_time": "2022-07-21T09:41:25.195626Z",
     "start_time": "2022-07-21T09:41:25.152229Z"
    },
    "hidden": true
   },
   "outputs": [
    {
     "data": {
      "text/html": [
       "<div>\n",
       "<style scoped>\n",
       "    .dataframe tbody tr th:only-of-type {\n",
       "        vertical-align: middle;\n",
       "    }\n",
       "\n",
       "    .dataframe tbody tr th {\n",
       "        vertical-align: top;\n",
       "    }\n",
       "\n",
       "    .dataframe thead th {\n",
       "        text-align: right;\n",
       "    }\n",
       "</style>\n",
       "<table border=\"1\" class=\"dataframe\">\n",
       "  <thead>\n",
       "    <tr style=\"text-align: right;\">\n",
       "      <th></th>\n",
       "      <th>InvoiceNo</th>\n",
       "      <th>StockCode</th>\n",
       "      <th>Description</th>\n",
       "      <th>Quantity</th>\n",
       "      <th>InvoiceDate</th>\n",
       "      <th>UnitPrice</th>\n",
       "      <th>CustomerID</th>\n",
       "      <th>Country</th>\n",
       "    </tr>\n",
       "  </thead>\n",
       "  <tbody>\n",
       "    <tr>\n",
       "      <th>459556</th>\n",
       "      <td>575875</td>\n",
       "      <td>23084</td>\n",
       "      <td>RABBIT NIGHT LIGHT</td>\n",
       "      <td>22</td>\n",
       "      <td>9-Nov-17</td>\n",
       "      <td>4.13</td>\n",
       "      <td>NaN</td>\n",
       "      <td>United Kingdom</td>\n",
       "    </tr>\n",
       "    <tr>\n",
       "      <th>218217</th>\n",
       "      <td>556023</td>\n",
       "      <td>22672</td>\n",
       "      <td>FRENCH BATHROOM SIGN BLUE METAL</td>\n",
       "      <td>4</td>\n",
       "      <td>6-Jun-17</td>\n",
       "      <td>1.65</td>\n",
       "      <td>14527.0</td>\n",
       "      <td>United Kingdom</td>\n",
       "    </tr>\n",
       "    <tr>\n",
       "      <th>278951</th>\n",
       "      <td>561220</td>\n",
       "      <td>22431</td>\n",
       "      <td>WATERING CAN BLUE ELEPHANT</td>\n",
       "      <td>6</td>\n",
       "      <td>24-Jul-17</td>\n",
       "      <td>1.95</td>\n",
       "      <td>17734.0</td>\n",
       "      <td>United Kingdom</td>\n",
       "    </tr>\n",
       "  </tbody>\n",
       "</table>\n",
       "</div>"
      ],
      "text/plain": [
       "       InvoiceNo StockCode                      Description  Quantity InvoiceDate  UnitPrice  CustomerID         Country\n",
       "459556    575875     23084               RABBIT NIGHT LIGHT        22    9-Nov-17       4.13         NaN  United Kingdom\n",
       "218217    556023     22672  FRENCH BATHROOM SIGN BLUE METAL         4    6-Jun-17       1.65     14527.0  United Kingdom\n",
       "278951    561220     22431       WATERING CAN BLUE ELEPHANT         6   24-Jul-17       1.95     17734.0  United Kingdom"
      ]
     },
     "execution_count": 63,
     "metadata": {},
     "output_type": "execute_result"
    }
   ],
   "source": [
    "df1.sample(3)"
   ]
  },
  {
   "cell_type": "code",
   "execution_count": 64,
   "id": "eb5ce4eb",
   "metadata": {
    "ExecuteTime": {
     "end_time": "2022-07-21T09:41:36.169057Z",
     "start_time": "2022-07-21T09:41:36.160176Z"
    },
    "hidden": true
   },
   "outputs": [
    {
     "data": {
      "text/plain": [
       "Index(['InvoiceNo', 'StockCode', 'Description', 'Quantity', 'InvoiceDate',\n",
       "       'UnitPrice', 'CustomerID', 'Country'],\n",
       "      dtype='object')"
      ]
     },
     "execution_count": 64,
     "metadata": {},
     "output_type": "execute_result"
    }
   ],
   "source": [
    "df1.columns"
   ]
  },
  {
   "cell_type": "code",
   "execution_count": 65,
   "id": "606d5f9c",
   "metadata": {
    "ExecuteTime": {
     "end_time": "2022-07-21T09:41:37.702875Z",
     "start_time": "2022-07-21T09:41:37.696708Z"
    },
    "hidden": true
   },
   "outputs": [],
   "source": [
    "df1.columns = ['invoice_no', 'stock_code', 'description', 'quantity', 'invoice_date',\n",
    "       'unit_price', 'customer_id', 'country']"
   ]
  },
  {
   "cell_type": "markdown",
   "id": "6ad1a50c",
   "metadata": {
    "heading_collapsed": true
   },
   "source": [
    "## Feature Description "
   ]
  },
  {
   "cell_type": "code",
   "execution_count": 66,
   "id": "bd0943e4",
   "metadata": {
    "ExecuteTime": {
     "end_time": "2022-07-21T09:41:38.423688Z",
     "start_time": "2022-07-21T09:41:38.407590Z"
    },
    "hidden": true,
    "scrolled": true
   },
   "outputs": [
    {
     "name": "stdout",
     "output_type": "stream",
     "text": [
      "Columns       Meaning\n",
      "------------  -----------------------------------------------\n",
      "invoice_no    unique identifier of each transaction\n",
      "stock_code    item code\n",
      "description   item name\n",
      "quantity      quantity of each item purchased per transaction\n",
      "invoice_date  the day the transaction took place\n",
      "unit_price    product price per unit\n",
      "customer_id   unique customer identifier\n",
      "country       customer's country of residence\n"
     ]
    }
   ],
   "source": [
    "# Explain feature meanings\n",
    "tab_meanings = [['Columns', 'Meaning'],\n",
    "        ['invoice_no', 'unique identifier of each transaction'],\n",
    "        ['stock_code', 'item code'],\n",
    "        ['description', 'item name'],\n",
    "        ['quantity', 'quantity of each item purchased per transaction'],\n",
    "        ['invoice_date', 'the day the transaction took place'],\n",
    "        ['unit_price', 'product price per unit'],\n",
    "        ['customer_id', 'unique customer identifier'],\n",
    "        ['country', 'customer\\'s country of residence']\n",
    "      ]\n",
    "print(tabulate(tab_meanings, headers='firstrow', stralign='left', tablefmt='simple'))"
   ]
  },
  {
   "cell_type": "code",
   "execution_count": 67,
   "id": "be9d6ef5",
   "metadata": {
    "ExecuteTime": {
     "end_time": "2022-07-21T09:41:39.114266Z",
     "start_time": "2022-07-21T09:41:39.056177Z"
    },
    "hidden": true
   },
   "outputs": [
    {
     "data": {
      "text/html": [
       "<div>\n",
       "<style scoped>\n",
       "    .dataframe tbody tr th:only-of-type {\n",
       "        vertical-align: middle;\n",
       "    }\n",
       "\n",
       "    .dataframe tbody tr th {\n",
       "        vertical-align: top;\n",
       "    }\n",
       "\n",
       "    .dataframe thead th {\n",
       "        text-align: right;\n",
       "    }\n",
       "</style>\n",
       "<table border=\"1\" class=\"dataframe\">\n",
       "  <thead>\n",
       "    <tr style=\"text-align: right;\">\n",
       "      <th></th>\n",
       "      <th>invoice_no</th>\n",
       "      <th>stock_code</th>\n",
       "      <th>description</th>\n",
       "      <th>quantity</th>\n",
       "      <th>invoice_date</th>\n",
       "      <th>unit_price</th>\n",
       "      <th>customer_id</th>\n",
       "      <th>country</th>\n",
       "    </tr>\n",
       "  </thead>\n",
       "  <tbody>\n",
       "    <tr>\n",
       "      <th>248234</th>\n",
       "      <td>558808</td>\n",
       "      <td>84987</td>\n",
       "      <td>SET OF 36 TEATIME PAPER DOILIES</td>\n",
       "      <td>1</td>\n",
       "      <td>2-Jul-17</td>\n",
       "      <td>3.75</td>\n",
       "      <td>NaN</td>\n",
       "      <td>United Kingdom</td>\n",
       "    </tr>\n",
       "    <tr>\n",
       "      <th>306558</th>\n",
       "      <td>563771</td>\n",
       "      <td>23232</td>\n",
       "      <td>WRAP VINTAGE LEAF DESIGN</td>\n",
       "      <td>25</td>\n",
       "      <td>17-Aug-17</td>\n",
       "      <td>0.42</td>\n",
       "      <td>17841.0</td>\n",
       "      <td>United Kingdom</td>\n",
       "    </tr>\n",
       "    <tr>\n",
       "      <th>248214</th>\n",
       "      <td>558778</td>\n",
       "      <td>23209</td>\n",
       "      <td>LUNCH BAG DOILEY PATTERN</td>\n",
       "      <td>10</td>\n",
       "      <td>2-Jul-17</td>\n",
       "      <td>1.65</td>\n",
       "      <td>17160.0</td>\n",
       "      <td>United Kingdom</td>\n",
       "    </tr>\n",
       "  </tbody>\n",
       "</table>\n",
       "</div>"
      ],
      "text/plain": [
       "       invoice_no stock_code                      description  quantity invoice_date  unit_price  customer_id         country\n",
       "248234     558808      84987  SET OF 36 TEATIME PAPER DOILIES         1     2-Jul-17        3.75          NaN  United Kingdom\n",
       "306558     563771      23232         WRAP VINTAGE LEAF DESIGN        25    17-Aug-17        0.42      17841.0  United Kingdom\n",
       "248214     558778      23209        LUNCH BAG DOILEY PATTERN         10     2-Jul-17        1.65      17160.0  United Kingdom"
      ]
     },
     "execution_count": 67,
     "metadata": {},
     "output_type": "execute_result"
    }
   ],
   "source": [
    "df1.sample(3)"
   ]
  },
  {
   "cell_type": "markdown",
   "id": "f6ef9544",
   "metadata": {
    "heading_collapsed": true
   },
   "source": [
    "## Data Dimensions"
   ]
  },
  {
   "cell_type": "code",
   "execution_count": 68,
   "id": "d7bf8024",
   "metadata": {
    "ExecuteTime": {
     "end_time": "2022-07-21T09:41:40.704031Z",
     "start_time": "2022-07-21T09:41:40.697419Z"
    },
    "hidden": true
   },
   "outputs": [
    {
     "name": "stdout",
     "output_type": "stream",
     "text": [
      "Number of rows: 541909\n",
      "Number of columns: 8\n"
     ]
    }
   ],
   "source": [
    "print(f'Number of rows: {df1.shape[0]}')\n",
    "print(f'Number of columns: {df1.shape[1]}')"
   ]
  },
  {
   "cell_type": "code",
   "execution_count": 69,
   "id": "94203d65",
   "metadata": {
    "ExecuteTime": {
     "end_time": "2022-07-21T09:41:42.072490Z",
     "start_time": "2022-07-21T09:41:41.879326Z"
    },
    "hidden": true
   },
   "outputs": [
    {
     "name": "stdout",
     "output_type": "stream",
     "text": [
      "<class 'pandas.core.frame.DataFrame'>\n",
      "RangeIndex: 541909 entries, 0 to 541908\n",
      "Data columns (total 8 columns):\n",
      " #   Column        Non-Null Count   Dtype  \n",
      "---  ------        --------------   -----  \n",
      " 0   invoice_no    541909 non-null  object \n",
      " 1   stock_code    541909 non-null  object \n",
      " 2   description   540455 non-null  object \n",
      " 3   quantity      541909 non-null  int64  \n",
      " 4   invoice_date  541909 non-null  object \n",
      " 5   unit_price    541909 non-null  float64\n",
      " 6   customer_id   406829 non-null  float64\n",
      " 7   country       541909 non-null  object \n",
      "dtypes: float64(2), int64(1), object(5)\n",
      "memory usage: 33.1+ MB\n"
     ]
    }
   ],
   "source": [
    "df1.info()"
   ]
  },
  {
   "cell_type": "markdown",
   "id": "1c87eb98",
   "metadata": {
    "heading_collapsed": true
   },
   "source": [
    "## Check NA"
   ]
  },
  {
   "cell_type": "code",
   "execution_count": 70,
   "id": "4b913b57",
   "metadata": {
    "ExecuteTime": {
     "end_time": "2022-07-21T09:41:44.125328Z",
     "start_time": "2022-07-21T09:41:43.967569Z"
    },
    "hidden": true
   },
   "outputs": [
    {
     "data": {
      "text/plain": [
       "invoice_no           0\n",
       "stock_code           0\n",
       "description       1454\n",
       "quantity             0\n",
       "invoice_date         0\n",
       "unit_price           0\n",
       "customer_id     135080\n",
       "country              0\n",
       "dtype: int64"
      ]
     },
     "execution_count": 70,
     "metadata": {},
     "output_type": "execute_result"
    }
   ],
   "source": [
    "df1.isna().sum()"
   ]
  },
  {
   "cell_type": "markdown",
   "id": "a84b2d0d",
   "metadata": {
    "heading_collapsed": true
   },
   "source": [
    "## Replace NA"
   ]
  },
  {
   "cell_type": "code",
   "execution_count": 71,
   "id": "cdc6878a",
   "metadata": {
    "ExecuteTime": {
     "end_time": "2022-07-21T09:41:47.101118Z",
     "start_time": "2022-07-21T09:41:46.961765Z"
    },
    "hidden": true
   },
   "outputs": [],
   "source": [
    "#remove rows with NA\n",
    "df1 = df1.dropna( subset=['description','customer_id'] )"
   ]
  },
  {
   "cell_type": "code",
   "execution_count": 72,
   "id": "eeeaa2ab",
   "metadata": {
    "ExecuteTime": {
     "end_time": "2022-07-21T09:41:47.760741Z",
     "start_time": "2022-07-21T09:41:47.753844Z"
    },
    "hidden": true
   },
   "outputs": [
    {
     "name": "stdout",
     "output_type": "stream",
     "text": [
      "Removed data: 0.25%\n"
     ]
    }
   ],
   "source": [
    "print (f'Removed data: { 1-(df1.shape[0] / df_raw.shape[0]):.2f}%')"
   ]
  },
  {
   "cell_type": "code",
   "execution_count": 78,
   "id": "5c2aeb4d",
   "metadata": {
    "ExecuteTime": {
     "end_time": "2022-07-21T09:45:23.303854Z",
     "start_time": "2022-07-21T09:45:23.284392Z"
    },
    "hidden": true
   },
   "outputs": [
    {
     "data": {
      "text/html": [
       "<div>\n",
       "<style scoped>\n",
       "    .dataframe tbody tr th:only-of-type {\n",
       "        vertical-align: middle;\n",
       "    }\n",
       "\n",
       "    .dataframe tbody tr th {\n",
       "        vertical-align: top;\n",
       "    }\n",
       "\n",
       "    .dataframe thead th {\n",
       "        text-align: right;\n",
       "    }\n",
       "</style>\n",
       "<table border=\"1\" class=\"dataframe\">\n",
       "  <thead>\n",
       "    <tr style=\"text-align: right;\">\n",
       "      <th></th>\n",
       "      <th>invoice_no</th>\n",
       "      <th>stock_code</th>\n",
       "      <th>description</th>\n",
       "      <th>quantity</th>\n",
       "      <th>invoice_date</th>\n",
       "      <th>unit_price</th>\n",
       "      <th>customer_id</th>\n",
       "      <th>country</th>\n",
       "    </tr>\n",
       "  </thead>\n",
       "  <tbody>\n",
       "    <tr>\n",
       "      <th>541904</th>\n",
       "      <td>581587</td>\n",
       "      <td>22613</td>\n",
       "      <td>PACK OF 20 SPACEBOY NAPKINS</td>\n",
       "      <td>12</td>\n",
       "      <td>7-Dec-17</td>\n",
       "      <td>0.85</td>\n",
       "      <td>12680.0</td>\n",
       "      <td>France</td>\n",
       "    </tr>\n",
       "    <tr>\n",
       "      <th>541905</th>\n",
       "      <td>581587</td>\n",
       "      <td>22899</td>\n",
       "      <td>CHILDREN'S APRON DOLLY GIRL</td>\n",
       "      <td>6</td>\n",
       "      <td>7-Dec-17</td>\n",
       "      <td>2.10</td>\n",
       "      <td>12680.0</td>\n",
       "      <td>France</td>\n",
       "    </tr>\n",
       "    <tr>\n",
       "      <th>541906</th>\n",
       "      <td>581587</td>\n",
       "      <td>23254</td>\n",
       "      <td>CHILDRENS CUTLERY DOLLY GIRL</td>\n",
       "      <td>4</td>\n",
       "      <td>7-Dec-17</td>\n",
       "      <td>4.15</td>\n",
       "      <td>12680.0</td>\n",
       "      <td>France</td>\n",
       "    </tr>\n",
       "    <tr>\n",
       "      <th>541907</th>\n",
       "      <td>581587</td>\n",
       "      <td>23255</td>\n",
       "      <td>CHILDRENS CUTLERY CIRCUS PARADE</td>\n",
       "      <td>4</td>\n",
       "      <td>7-Dec-17</td>\n",
       "      <td>4.15</td>\n",
       "      <td>12680.0</td>\n",
       "      <td>France</td>\n",
       "    </tr>\n",
       "    <tr>\n",
       "      <th>541908</th>\n",
       "      <td>581587</td>\n",
       "      <td>22138</td>\n",
       "      <td>BAKING SET 9 PIECE RETROSPOT</td>\n",
       "      <td>3</td>\n",
       "      <td>7-Dec-17</td>\n",
       "      <td>4.95</td>\n",
       "      <td>12680.0</td>\n",
       "      <td>France</td>\n",
       "    </tr>\n",
       "  </tbody>\n",
       "</table>\n",
       "</div>"
      ],
      "text/plain": [
       "       invoice_no stock_code                      description  quantity invoice_date  unit_price  customer_id country\n",
       "541904     581587      22613      PACK OF 20 SPACEBOY NAPKINS        12     7-Dec-17        0.85      12680.0  France\n",
       "541905     581587      22899     CHILDREN'S APRON DOLLY GIRL          6     7-Dec-17        2.10      12680.0  France\n",
       "541906     581587      23254    CHILDRENS CUTLERY DOLLY GIRL          4     7-Dec-17        4.15      12680.0  France\n",
       "541907     581587      23255  CHILDRENS CUTLERY CIRCUS PARADE         4     7-Dec-17        4.15      12680.0  France\n",
       "541908     581587      22138    BAKING SET 9 PIECE RETROSPOT          3     7-Dec-17        4.95      12680.0  France"
      ]
     },
     "execution_count": 78,
     "metadata": {},
     "output_type": "execute_result"
    }
   ],
   "source": [
    "df1.tail()"
   ]
  },
  {
   "cell_type": "code",
   "execution_count": 79,
   "id": "ad887055",
   "metadata": {
    "ExecuteTime": {
     "end_time": "2022-07-21T09:45:45.503893Z",
     "start_time": "2022-07-21T09:45:45.483545Z"
    },
    "hidden": true
   },
   "outputs": [],
   "source": [
    "#reset index\n",
    "df1 = df1.reset_index(drop=True)"
   ]
  },
  {
   "cell_type": "code",
   "execution_count": 80,
   "id": "63ac4d9d",
   "metadata": {
    "ExecuteTime": {
     "end_time": "2022-07-21T09:45:47.627168Z",
     "start_time": "2022-07-21T09:45:47.619076Z"
    },
    "hidden": true
   },
   "outputs": [
    {
     "data": {
      "text/plain": [
       "(406829, 8)"
      ]
     },
     "execution_count": 80,
     "metadata": {},
     "output_type": "execute_result"
    }
   ],
   "source": [
    "#new num of rows\n",
    "df1.shape"
   ]
  },
  {
   "cell_type": "code",
   "execution_count": 81,
   "id": "e86f2b83",
   "metadata": {
    "ExecuteTime": {
     "end_time": "2022-07-21T09:46:19.521561Z",
     "start_time": "2022-07-21T09:46:19.394413Z"
    },
    "hidden": true
   },
   "outputs": [
    {
     "data": {
      "text/plain": [
       "invoice_no      0\n",
       "stock_code      0\n",
       "description     0\n",
       "quantity        0\n",
       "invoice_date    0\n",
       "unit_price      0\n",
       "customer_id     0\n",
       "country         0\n",
       "dtype: int64"
      ]
     },
     "execution_count": 81,
     "metadata": {},
     "output_type": "execute_result"
    }
   ],
   "source": [
    "#check\n",
    "df1.isna().sum()"
   ]
  },
  {
   "cell_type": "markdown",
   "id": "4c49daff",
   "metadata": {
    "heading_collapsed": true
   },
   "source": [
    "## Change Types"
   ]
  },
  {
   "cell_type": "code",
   "execution_count": null,
   "id": "da71981d",
   "metadata": {
    "hidden": true
   },
   "outputs": [],
   "source": [
    "#correct data types ensure correct calculations using the columns on next sessions"
   ]
  },
  {
   "cell_type": "code",
   "execution_count": 82,
   "id": "859ba2ed",
   "metadata": {
    "ExecuteTime": {
     "end_time": "2022-07-21T09:46:23.428494Z",
     "start_time": "2022-07-21T09:46:23.418425Z"
    },
    "hidden": true,
    "scrolled": true
   },
   "outputs": [
    {
     "data": {
      "text/plain": [
       "invoice_no       object\n",
       "stock_code       object\n",
       "description      object\n",
       "quantity          int64\n",
       "invoice_date     object\n",
       "unit_price      float64\n",
       "customer_id     float64\n",
       "country          object\n",
       "dtype: object"
      ]
     },
     "execution_count": 82,
     "metadata": {},
     "output_type": "execute_result"
    }
   ],
   "source": [
    "df1.dtypes"
   ]
  },
  {
   "cell_type": "code",
   "execution_count": 83,
   "id": "bcfa671e",
   "metadata": {
    "ExecuteTime": {
     "end_time": "2022-07-21T09:46:26.836570Z",
     "start_time": "2022-07-21T09:46:26.794837Z"
    },
    "hidden": true
   },
   "outputs": [
    {
     "data": {
      "text/html": [
       "<div>\n",
       "<style scoped>\n",
       "    .dataframe tbody tr th:only-of-type {\n",
       "        vertical-align: middle;\n",
       "    }\n",
       "\n",
       "    .dataframe tbody tr th {\n",
       "        vertical-align: top;\n",
       "    }\n",
       "\n",
       "    .dataframe thead th {\n",
       "        text-align: right;\n",
       "    }\n",
       "</style>\n",
       "<table border=\"1\" class=\"dataframe\">\n",
       "  <thead>\n",
       "    <tr style=\"text-align: right;\">\n",
       "      <th></th>\n",
       "      <th>invoice_no</th>\n",
       "      <th>stock_code</th>\n",
       "      <th>description</th>\n",
       "      <th>quantity</th>\n",
       "      <th>invoice_date</th>\n",
       "      <th>unit_price</th>\n",
       "      <th>customer_id</th>\n",
       "      <th>country</th>\n",
       "    </tr>\n",
       "  </thead>\n",
       "  <tbody>\n",
       "    <tr>\n",
       "      <th>255523</th>\n",
       "      <td>567484</td>\n",
       "      <td>23395</td>\n",
       "      <td>BELLE JARDINIERE CUSHION COVER</td>\n",
       "      <td>4</td>\n",
       "      <td>18-Sep-17</td>\n",
       "      <td>3.75</td>\n",
       "      <td>17340.0</td>\n",
       "      <td>United Kingdom</td>\n",
       "    </tr>\n",
       "    <tr>\n",
       "      <th>172410</th>\n",
       "      <td>558044</td>\n",
       "      <td>23206</td>\n",
       "      <td>LUNCH BAG APPLE DESIGN</td>\n",
       "      <td>10</td>\n",
       "      <td>22-Jun-17</td>\n",
       "      <td>1.65</td>\n",
       "      <td>13870.0</td>\n",
       "      <td>United Kingdom</td>\n",
       "    </tr>\n",
       "    <tr>\n",
       "      <th>112857</th>\n",
       "      <td>550483</td>\n",
       "      <td>22993</td>\n",
       "      <td>SET OF 4 PANTRY JELLY MOULDS</td>\n",
       "      <td>2</td>\n",
       "      <td>16-Apr-17</td>\n",
       "      <td>1.25</td>\n",
       "      <td>16033.0</td>\n",
       "      <td>United Kingdom</td>\n",
       "    </tr>\n",
       "  </tbody>\n",
       "</table>\n",
       "</div>"
      ],
      "text/plain": [
       "       invoice_no stock_code                     description  quantity invoice_date  unit_price  customer_id         country\n",
       "255523     567484      23395  BELLE JARDINIERE CUSHION COVER         4    18-Sep-17        3.75      17340.0  United Kingdom\n",
       "172410     558044      23206          LUNCH BAG APPLE DESIGN        10    22-Jun-17        1.65      13870.0  United Kingdom\n",
       "112857     550483      22993    SET OF 4 PANTRY JELLY MOULDS         2    16-Apr-17        1.25      16033.0  United Kingdom"
      ]
     },
     "execution_count": 83,
     "metadata": {},
     "output_type": "execute_result"
    }
   ],
   "source": [
    "df1.sample(3)"
   ]
  },
  {
   "cell_type": "code",
   "execution_count": 84,
   "id": "f296f97e",
   "metadata": {
    "ExecuteTime": {
     "end_time": "2022-07-21T09:46:29.612111Z",
     "start_time": "2022-07-21T09:46:29.514622Z"
    },
    "hidden": true
   },
   "outputs": [],
   "source": [
    "#invoice_date\n",
    "df1['invoice_date'] = pd.to_datetime(df1['invoice_date'], format='%d-%b-%y')"
   ]
  },
  {
   "cell_type": "code",
   "execution_count": 85,
   "id": "d2435636",
   "metadata": {
    "ExecuteTime": {
     "end_time": "2022-07-21T09:46:30.313415Z",
     "start_time": "2022-07-21T09:46:30.298152Z"
    },
    "hidden": true
   },
   "outputs": [],
   "source": [
    "#customer_id\n",
    "df1['customer_id'] = df1['customer_id'].astype(int)"
   ]
  },
  {
   "cell_type": "code",
   "execution_count": 86,
   "id": "1f29093f",
   "metadata": {
    "ExecuteTime": {
     "end_time": "2022-07-21T09:46:31.798926Z",
     "start_time": "2022-07-21T09:46:31.793945Z"
    },
    "hidden": true
   },
   "outputs": [],
   "source": [
    "# invoice_no\n",
    "#df1['invoice_no'] = df1['invoice_no'].astype(int)\n",
    "#there are letters on invoice, so let it like object(string). Ex: 'C536379', 'C554197'"
   ]
  },
  {
   "cell_type": "code",
   "execution_count": 87,
   "id": "99f9dd6f",
   "metadata": {
    "ExecuteTime": {
     "end_time": "2022-07-21T09:46:32.311050Z",
     "start_time": "2022-07-21T09:46:32.307248Z"
    },
    "hidden": true
   },
   "outputs": [],
   "source": [
    "# stock_code\n",
    "#df1['stock_code'] = df1['stock_code'].astype(int)\n",
    "#there are letters on stock_code, so let it like object(string). Ex: '85123A', '84406B'"
   ]
  },
  {
   "cell_type": "code",
   "execution_count": 88,
   "id": "ef41b9c7",
   "metadata": {
    "ExecuteTime": {
     "end_time": "2022-07-21T09:46:33.400470Z",
     "start_time": "2022-07-21T09:46:33.355470Z"
    },
    "hidden": true
   },
   "outputs": [
    {
     "data": {
      "text/html": [
       "<div>\n",
       "<style scoped>\n",
       "    .dataframe tbody tr th:only-of-type {\n",
       "        vertical-align: middle;\n",
       "    }\n",
       "\n",
       "    .dataframe tbody tr th {\n",
       "        vertical-align: top;\n",
       "    }\n",
       "\n",
       "    .dataframe thead th {\n",
       "        text-align: right;\n",
       "    }\n",
       "</style>\n",
       "<table border=\"1\" class=\"dataframe\">\n",
       "  <thead>\n",
       "    <tr style=\"text-align: right;\">\n",
       "      <th></th>\n",
       "      <th>invoice_no</th>\n",
       "      <th>stock_code</th>\n",
       "      <th>description</th>\n",
       "      <th>quantity</th>\n",
       "      <th>invoice_date</th>\n",
       "      <th>unit_price</th>\n",
       "      <th>customer_id</th>\n",
       "      <th>country</th>\n",
       "    </tr>\n",
       "  </thead>\n",
       "  <tbody>\n",
       "    <tr>\n",
       "      <th>388470</th>\n",
       "      <td>579741</td>\n",
       "      <td>22402</td>\n",
       "      <td>MAGNETS PACK OF 4 VINTAGE COLLAGE</td>\n",
       "      <td>1</td>\n",
       "      <td>2017-11-28</td>\n",
       "      <td>0.39</td>\n",
       "      <td>16910</td>\n",
       "      <td>United Kingdom</td>\n",
       "    </tr>\n",
       "    <tr>\n",
       "      <th>231638</th>\n",
       "      <td>564958</td>\n",
       "      <td>23292</td>\n",
       "      <td>SPACEBOY CHILDRENS CUP</td>\n",
       "      <td>16</td>\n",
       "      <td>2017-08-29</td>\n",
       "      <td>1.25</td>\n",
       "      <td>13089</td>\n",
       "      <td>United Kingdom</td>\n",
       "    </tr>\n",
       "    <tr>\n",
       "      <th>12964</th>\n",
       "      <td>537871</td>\n",
       "      <td>22703</td>\n",
       "      <td>PINK CAT BOWL</td>\n",
       "      <td>1</td>\n",
       "      <td>2016-12-06</td>\n",
       "      <td>2.10</td>\n",
       "      <td>12748</td>\n",
       "      <td>United Kingdom</td>\n",
       "    </tr>\n",
       "  </tbody>\n",
       "</table>\n",
       "</div>"
      ],
      "text/plain": [
       "       invoice_no stock_code                        description  quantity invoice_date  unit_price  customer_id         country\n",
       "388470     579741      22402  MAGNETS PACK OF 4 VINTAGE COLLAGE         1   2017-11-28        0.39        16910  United Kingdom\n",
       "231638     564958      23292             SPACEBOY CHILDRENS CUP        16   2017-08-29        1.25        13089  United Kingdom\n",
       "12964      537871      22703                      PINK CAT BOWL         1   2016-12-06        2.10        12748  United Kingdom"
      ]
     },
     "execution_count": 88,
     "metadata": {},
     "output_type": "execute_result"
    }
   ],
   "source": [
    "df1.sample(3)"
   ]
  },
  {
   "cell_type": "code",
   "execution_count": 89,
   "id": "702aa3b5",
   "metadata": {
    "ExecuteTime": {
     "end_time": "2022-07-21T09:46:36.796997Z",
     "start_time": "2022-07-21T09:46:36.785885Z"
    },
    "hidden": true
   },
   "outputs": [
    {
     "data": {
      "text/plain": [
       "invoice_no              object\n",
       "stock_code              object\n",
       "description             object\n",
       "quantity                 int64\n",
       "invoice_date    datetime64[ns]\n",
       "unit_price             float64\n",
       "customer_id              int64\n",
       "country                 object\n",
       "dtype: object"
      ]
     },
     "execution_count": 89,
     "metadata": {},
     "output_type": "execute_result"
    }
   ],
   "source": [
    "df1.dtypes"
   ]
  },
  {
   "cell_type": "markdown",
   "id": "0128ad38",
   "metadata": {
    "heading_collapsed": true
   },
   "source": [
    "## Descriptive Statistics"
   ]
  },
  {
   "cell_type": "code",
   "execution_count": 90,
   "id": "45dde6d3",
   "metadata": {
    "ExecuteTime": {
     "end_time": "2022-07-21T09:46:39.502717Z",
     "start_time": "2022-07-21T09:46:39.497920Z"
    },
    "hidden": true
   },
   "outputs": [],
   "source": [
    "#pass on first cycle"
   ]
  },
  {
   "cell_type": "code",
   "execution_count": 91,
   "id": "6062d352",
   "metadata": {
    "ExecuteTime": {
     "end_time": "2022-07-21T09:46:40.217498Z",
     "start_time": "2022-07-21T09:46:40.071470Z"
    },
    "hidden": true
   },
   "outputs": [
    {
     "name": "stdout",
     "output_type": "stream",
     "text": [
      "\u001b[34mexternal\u001b[m\u001b[m/  \u001b[34minterim\u001b[m\u001b[m/   \u001b[34mprocessed\u001b[m\u001b[m/ \u001b[34mraw\u001b[m\u001b[m/\r\n"
     ]
    }
   ],
   "source": [
    "ls ../data"
   ]
  },
  {
   "cell_type": "code",
   "execution_count": 92,
   "id": "cd5a037c",
   "metadata": {
    "ExecuteTime": {
     "end_time": "2022-07-21T09:46:50.386028Z",
     "start_time": "2022-07-21T09:46:41.106467Z"
    },
    "hidden": true
   },
   "outputs": [],
   "source": [
    "#save dataset\n",
    "df1.to_csv(\"../data/interim/df1_data_description_done.csv\")"
   ]
  },
  {
   "cell_type": "markdown",
   "id": "5c260f86",
   "metadata": {},
   "source": [
    "# Feature Engeneering"
   ]
  },
  {
   "cell_type": "markdown",
   "id": "3fec94f6",
   "metadata": {},
   "source": [
    "## Feature Creation"
   ]
  },
  {
   "cell_type": "code",
   "execution_count": 157,
   "id": "7203c070",
   "metadata": {
    "ExecuteTime": {
     "end_time": "2022-07-21T21:42:40.539595Z",
     "start_time": "2022-07-21T21:42:39.821638Z"
    }
   },
   "outputs": [
    {
     "data": {
      "text/html": [
       "<div>\n",
       "<style scoped>\n",
       "    .dataframe tbody tr th:only-of-type {\n",
       "        vertical-align: middle;\n",
       "    }\n",
       "\n",
       "    .dataframe tbody tr th {\n",
       "        vertical-align: top;\n",
       "    }\n",
       "\n",
       "    .dataframe thead th {\n",
       "        text-align: right;\n",
       "    }\n",
       "</style>\n",
       "<table border=\"1\" class=\"dataframe\">\n",
       "  <thead>\n",
       "    <tr style=\"text-align: right;\">\n",
       "      <th></th>\n",
       "      <th>invoice_no</th>\n",
       "      <th>stock_code</th>\n",
       "      <th>description</th>\n",
       "      <th>quantity</th>\n",
       "      <th>invoice_date</th>\n",
       "      <th>unit_price</th>\n",
       "      <th>customer_id</th>\n",
       "      <th>country</th>\n",
       "    </tr>\n",
       "  </thead>\n",
       "  <tbody>\n",
       "    <tr>\n",
       "      <th>401767</th>\n",
       "      <td>581021</td>\n",
       "      <td>22960</td>\n",
       "      <td>JAM MAKING SET WITH JARS</td>\n",
       "      <td>6</td>\n",
       "      <td>2017-12-05</td>\n",
       "      <td>4.25</td>\n",
       "      <td>14769</td>\n",
       "      <td>United Kingdom</td>\n",
       "    </tr>\n",
       "    <tr>\n",
       "      <th>325947</th>\n",
       "      <td>574029</td>\n",
       "      <td>22090</td>\n",
       "      <td>PAPER BUNTING RETROSPOT</td>\n",
       "      <td>12</td>\n",
       "      <td>2017-10-31</td>\n",
       "      <td>2.95</td>\n",
       "      <td>12955</td>\n",
       "      <td>United Kingdom</td>\n",
       "    </tr>\n",
       "    <tr>\n",
       "      <th>176582</th>\n",
       "      <td>558620</td>\n",
       "      <td>82483</td>\n",
       "      <td>WOOD 2 DRAWER CABINET WHITE FINISH</td>\n",
       "      <td>2</td>\n",
       "      <td>2017-06-28</td>\n",
       "      <td>6.95</td>\n",
       "      <td>15584</td>\n",
       "      <td>United Kingdom</td>\n",
       "    </tr>\n",
       "  </tbody>\n",
       "</table>\n",
       "</div>"
      ],
      "text/plain": [
       "       invoice_no stock_code                         description  quantity invoice_date  unit_price  customer_id         country\n",
       "401767     581021      22960            JAM MAKING SET WITH JARS         6   2017-12-05        4.25        14769  United Kingdom\n",
       "325947     574029      22090             PAPER BUNTING RETROSPOT        12   2017-10-31        2.95        12955  United Kingdom\n",
       "176582     558620      82483  WOOD 2 DRAWER CABINET WHITE FINISH         2   2017-06-28        6.95        15584  United Kingdom"
      ]
     },
     "execution_count": 157,
     "metadata": {},
     "output_type": "execute_result"
    }
   ],
   "source": [
    "df2 = pd.read_csv(\"../data/interim/df1_data_description_done.csv\", index_col=0, parse_dates=['invoice_date'])\n",
    "df2.sample(3)"
   ]
  },
  {
   "cell_type": "code",
   "execution_count": 158,
   "id": "1e28de08",
   "metadata": {
    "ExecuteTime": {
     "end_time": "2022-07-21T21:42:42.022149Z",
     "start_time": "2022-07-21T21:42:42.007543Z"
    }
   },
   "outputs": [
    {
     "data": {
      "text/plain": [
       "invoice_no              object\n",
       "stock_code              object\n",
       "description             object\n",
       "quantity                 int64\n",
       "invoice_date    datetime64[ns]\n",
       "unit_price             float64\n",
       "customer_id              int64\n",
       "country                 object\n",
       "dtype: object"
      ]
     },
     "execution_count": 158,
     "metadata": {},
     "output_type": "execute_result"
    }
   ],
   "source": [
    "df2.dtypes"
   ]
  },
  {
   "cell_type": "code",
   "execution_count": null,
   "id": "da52f315",
   "metadata": {},
   "outputs": [],
   "source": [
    "# our current granularity is: stock_code + invoice_date\n",
    "# we need to have customer as granularity, to have is's features on a new table.\n",
    "# let's start adjusting the dataset to build an RFM Segmentation Model (Recency, Frequency, Monetary Value)"
   ]
  },
  {
   "cell_type": "code",
   "execution_count": 160,
   "id": "c125a462",
   "metadata": {
    "ExecuteTime": {
     "end_time": "2022-07-21T21:43:28.672647Z",
     "start_time": "2022-07-21T21:43:28.621526Z"
    }
   },
   "outputs": [
    {
     "data": {
      "text/html": [
       "<div>\n",
       "<style scoped>\n",
       "    .dataframe tbody tr th:only-of-type {\n",
       "        vertical-align: middle;\n",
       "    }\n",
       "\n",
       "    .dataframe tbody tr th {\n",
       "        vertical-align: top;\n",
       "    }\n",
       "\n",
       "    .dataframe thead th {\n",
       "        text-align: right;\n",
       "    }\n",
       "</style>\n",
       "<table border=\"1\" class=\"dataframe\">\n",
       "  <thead>\n",
       "    <tr style=\"text-align: right;\">\n",
       "      <th></th>\n",
       "      <th>invoice_no</th>\n",
       "      <th>stock_code</th>\n",
       "      <th>description</th>\n",
       "      <th>quantity</th>\n",
       "      <th>invoice_date</th>\n",
       "      <th>unit_price</th>\n",
       "      <th>customer_id</th>\n",
       "      <th>country</th>\n",
       "    </tr>\n",
       "  </thead>\n",
       "  <tbody>\n",
       "    <tr>\n",
       "      <th>0</th>\n",
       "      <td>536365</td>\n",
       "      <td>85123A</td>\n",
       "      <td>WHITE HANGING HEART T-LIGHT HOLDER</td>\n",
       "      <td>6</td>\n",
       "      <td>2016-11-29</td>\n",
       "      <td>2.55</td>\n",
       "      <td>17850</td>\n",
       "      <td>United Kingdom</td>\n",
       "    </tr>\n",
       "    <tr>\n",
       "      <th>1</th>\n",
       "      <td>536365</td>\n",
       "      <td>71053</td>\n",
       "      <td>WHITE METAL LANTERN</td>\n",
       "      <td>6</td>\n",
       "      <td>2016-11-29</td>\n",
       "      <td>3.39</td>\n",
       "      <td>17850</td>\n",
       "      <td>United Kingdom</td>\n",
       "    </tr>\n",
       "    <tr>\n",
       "      <th>2</th>\n",
       "      <td>536365</td>\n",
       "      <td>84406B</td>\n",
       "      <td>CREAM CUPID HEARTS COAT HANGER</td>\n",
       "      <td>8</td>\n",
       "      <td>2016-11-29</td>\n",
       "      <td>2.75</td>\n",
       "      <td>17850</td>\n",
       "      <td>United Kingdom</td>\n",
       "    </tr>\n",
       "    <tr>\n",
       "      <th>3</th>\n",
       "      <td>536365</td>\n",
       "      <td>84029G</td>\n",
       "      <td>KNITTED UNION FLAG HOT WATER BOTTLE</td>\n",
       "      <td>6</td>\n",
       "      <td>2016-11-29</td>\n",
       "      <td>3.39</td>\n",
       "      <td>17850</td>\n",
       "      <td>United Kingdom</td>\n",
       "    </tr>\n",
       "    <tr>\n",
       "      <th>4</th>\n",
       "      <td>536365</td>\n",
       "      <td>84029E</td>\n",
       "      <td>RED WOOLLY HOTTIE WHITE HEART.</td>\n",
       "      <td>6</td>\n",
       "      <td>2016-11-29</td>\n",
       "      <td>3.39</td>\n",
       "      <td>17850</td>\n",
       "      <td>United Kingdom</td>\n",
       "    </tr>\n",
       "    <tr>\n",
       "      <th>5</th>\n",
       "      <td>536365</td>\n",
       "      <td>22752</td>\n",
       "      <td>SET 7 BABUSHKA NESTING BOXES</td>\n",
       "      <td>2</td>\n",
       "      <td>2016-11-29</td>\n",
       "      <td>7.65</td>\n",
       "      <td>17850</td>\n",
       "      <td>United Kingdom</td>\n",
       "    </tr>\n",
       "    <tr>\n",
       "      <th>6</th>\n",
       "      <td>536365</td>\n",
       "      <td>21730</td>\n",
       "      <td>GLASS STAR FROSTED T-LIGHT HOLDER</td>\n",
       "      <td>6</td>\n",
       "      <td>2016-11-29</td>\n",
       "      <td>4.25</td>\n",
       "      <td>17850</td>\n",
       "      <td>United Kingdom</td>\n",
       "    </tr>\n",
       "  </tbody>\n",
       "</table>\n",
       "</div>"
      ],
      "text/plain": [
       "  invoice_no stock_code                          description  quantity invoice_date  unit_price  customer_id         country\n",
       "0     536365     85123A   WHITE HANGING HEART T-LIGHT HOLDER         6   2016-11-29        2.55        17850  United Kingdom\n",
       "1     536365      71053                  WHITE METAL LANTERN         6   2016-11-29        3.39        17850  United Kingdom\n",
       "2     536365     84406B       CREAM CUPID HEARTS COAT HANGER         8   2016-11-29        2.75        17850  United Kingdom\n",
       "3     536365     84029G  KNITTED UNION FLAG HOT WATER BOTTLE         6   2016-11-29        3.39        17850  United Kingdom\n",
       "4     536365     84029E       RED WOOLLY HOTTIE WHITE HEART.         6   2016-11-29        3.39        17850  United Kingdom\n",
       "5     536365      22752         SET 7 BABUSHKA NESTING BOXES         2   2016-11-29        7.65        17850  United Kingdom\n",
       "6     536365      21730    GLASS STAR FROSTED T-LIGHT HOLDER         6   2016-11-29        4.25        17850  United Kingdom"
      ]
     },
     "execution_count": 160,
     "metadata": {},
     "output_type": "execute_result"
    }
   ],
   "source": [
    "#get first customer as sample\n",
    "df1.loc[ df1['invoice_no'] == '536365']"
   ]
  },
  {
   "cell_type": "code",
   "execution_count": 161,
   "id": "d058b17b",
   "metadata": {
    "ExecuteTime": {
     "end_time": "2022-07-21T21:46:05.459406Z",
     "start_time": "2022-07-21T21:46:05.419205Z"
    }
   },
   "outputs": [],
   "source": [
    "#create the referente table with uniques customer_id (and reset index)\n",
    "df_ref = df2.drop(['invoice_no', 'stock_code', 'description', 'quantity', 'invoice_date',\n",
    "       'unit_price', 'country'], axis=1).drop_duplicates(ignore_index=True).copy()"
   ]
  },
  {
   "cell_type": "code",
   "execution_count": 162,
   "id": "f944f4b5",
   "metadata": {
    "ExecuteTime": {
     "end_time": "2022-07-21T21:46:07.497852Z",
     "start_time": "2022-07-21T21:46:07.487237Z"
    }
   },
   "outputs": [
    {
     "data": {
      "text/html": [
       "<div>\n",
       "<style scoped>\n",
       "    .dataframe tbody tr th:only-of-type {\n",
       "        vertical-align: middle;\n",
       "    }\n",
       "\n",
       "    .dataframe tbody tr th {\n",
       "        vertical-align: top;\n",
       "    }\n",
       "\n",
       "    .dataframe thead th {\n",
       "        text-align: right;\n",
       "    }\n",
       "</style>\n",
       "<table border=\"1\" class=\"dataframe\">\n",
       "  <thead>\n",
       "    <tr style=\"text-align: right;\">\n",
       "      <th></th>\n",
       "      <th>customer_id</th>\n",
       "    </tr>\n",
       "  </thead>\n",
       "  <tbody>\n",
       "    <tr>\n",
       "      <th>0</th>\n",
       "      <td>17850</td>\n",
       "    </tr>\n",
       "    <tr>\n",
       "      <th>1</th>\n",
       "      <td>13047</td>\n",
       "    </tr>\n",
       "    <tr>\n",
       "      <th>2</th>\n",
       "      <td>12583</td>\n",
       "    </tr>\n",
       "    <tr>\n",
       "      <th>3</th>\n",
       "      <td>13748</td>\n",
       "    </tr>\n",
       "    <tr>\n",
       "      <th>4</th>\n",
       "      <td>15100</td>\n",
       "    </tr>\n",
       "  </tbody>\n",
       "</table>\n",
       "</div>"
      ],
      "text/plain": [
       "   customer_id\n",
       "0        17850\n",
       "1        13047\n",
       "2        12583\n",
       "3        13748\n",
       "4        15100"
      ]
     },
     "execution_count": 162,
     "metadata": {},
     "output_type": "execute_result"
    }
   ],
   "source": [
    "df_ref.head()"
   ]
  },
  {
   "cell_type": "code",
   "execution_count": null,
   "id": "d8871989",
   "metadata": {},
   "outputs": [],
   "source": [
    "#let's now create the 3 variables needed to use the RFM Segmentation Model "
   ]
  },
  {
   "cell_type": "markdown",
   "id": "ab02e9e3",
   "metadata": {},
   "source": [
    "### gross_revenue"
   ]
  },
  {
   "cell_type": "code",
   "execution_count": 164,
   "id": "000ac762",
   "metadata": {
    "ExecuteTime": {
     "end_time": "2022-07-21T21:47:23.527875Z",
     "start_time": "2022-07-21T21:47:23.487880Z"
    }
   },
   "outputs": [
    {
     "data": {
      "text/html": [
       "<div>\n",
       "<style scoped>\n",
       "    .dataframe tbody tr th:only-of-type {\n",
       "        vertical-align: middle;\n",
       "    }\n",
       "\n",
       "    .dataframe tbody tr th {\n",
       "        vertical-align: top;\n",
       "    }\n",
       "\n",
       "    .dataframe thead th {\n",
       "        text-align: right;\n",
       "    }\n",
       "</style>\n",
       "<table border=\"1\" class=\"dataframe\">\n",
       "  <thead>\n",
       "    <tr style=\"text-align: right;\">\n",
       "      <th></th>\n",
       "      <th>invoice_no</th>\n",
       "      <th>stock_code</th>\n",
       "      <th>description</th>\n",
       "      <th>quantity</th>\n",
       "      <th>invoice_date</th>\n",
       "      <th>unit_price</th>\n",
       "      <th>customer_id</th>\n",
       "      <th>country</th>\n",
       "      <th>gross_revenue</th>\n",
       "    </tr>\n",
       "  </thead>\n",
       "  <tbody>\n",
       "    <tr>\n",
       "      <th>394273</th>\n",
       "      <td>580500</td>\n",
       "      <td>23418</td>\n",
       "      <td>LAVENDER TOILETTE BOTTLE</td>\n",
       "      <td>1</td>\n",
       "      <td>2017-12-02</td>\n",
       "      <td>2.08</td>\n",
       "      <td>17131</td>\n",
       "      <td>United Kingdom</td>\n",
       "      <td>2.08</td>\n",
       "    </tr>\n",
       "    <tr>\n",
       "      <th>263043</th>\n",
       "      <td>568183</td>\n",
       "      <td>21694</td>\n",
       "      <td>SMALL REGAL  SILVER CANDLEPOT</td>\n",
       "      <td>6</td>\n",
       "      <td>2017-09-23</td>\n",
       "      <td>2.95</td>\n",
       "      <td>13991</td>\n",
       "      <td>United Kingdom</td>\n",
       "      <td>17.70</td>\n",
       "    </tr>\n",
       "    <tr>\n",
       "      <th>259553</th>\n",
       "      <td>C567903</td>\n",
       "      <td>M</td>\n",
       "      <td>Manual</td>\n",
       "      <td>-120</td>\n",
       "      <td>2017-09-20</td>\n",
       "      <td>0.03</td>\n",
       "      <td>16422</td>\n",
       "      <td>United Kingdom</td>\n",
       "      <td>-3.60</td>\n",
       "    </tr>\n",
       "  </tbody>\n",
       "</table>\n",
       "</div>"
      ],
      "text/plain": [
       "       invoice_no stock_code                     description  quantity invoice_date  unit_price  customer_id         country  gross_revenue\n",
       "394273     580500      23418        LAVENDER TOILETTE BOTTLE         1   2017-12-02        2.08        17131  United Kingdom           2.08\n",
       "263043     568183      21694  SMALL REGAL  SILVER CANDLEPOT          6   2017-09-23        2.95        13991  United Kingdom          17.70\n",
       "259553    C567903          M                          Manual      -120   2017-09-20        0.03        16422  United Kingdom          -3.60"
      ]
     },
     "execution_count": 164,
     "metadata": {},
     "output_type": "execute_result"
    }
   ],
   "source": [
    "# Gross Revenue: (quantity * price of each purchase)\n",
    "df2['gross_revenue'] = df2['quantity'] * df2['unit_price']\n",
    "df2.sample(3)"
   ]
  },
  {
   "cell_type": "code",
   "execution_count": 165,
   "id": "1f027bc4",
   "metadata": {
    "ExecuteTime": {
     "end_time": "2022-07-21T21:47:34.793354Z",
     "start_time": "2022-07-21T21:47:34.744906Z"
    }
   },
   "outputs": [
    {
     "data": {
      "text/html": [
       "<div>\n",
       "<style scoped>\n",
       "    .dataframe tbody tr th:only-of-type {\n",
       "        vertical-align: middle;\n",
       "    }\n",
       "\n",
       "    .dataframe tbody tr th {\n",
       "        vertical-align: top;\n",
       "    }\n",
       "\n",
       "    .dataframe thead th {\n",
       "        text-align: right;\n",
       "    }\n",
       "</style>\n",
       "<table border=\"1\" class=\"dataframe\">\n",
       "  <thead>\n",
       "    <tr style=\"text-align: right;\">\n",
       "      <th></th>\n",
       "      <th>customer_id</th>\n",
       "      <th>gross_revenue</th>\n",
       "    </tr>\n",
       "  </thead>\n",
       "  <tbody>\n",
       "    <tr>\n",
       "      <th>0</th>\n",
       "      <td>12346</td>\n",
       "      <td>0.00</td>\n",
       "    </tr>\n",
       "    <tr>\n",
       "      <th>1</th>\n",
       "      <td>12347</td>\n",
       "      <td>4310.00</td>\n",
       "    </tr>\n",
       "    <tr>\n",
       "      <th>2</th>\n",
       "      <td>12348</td>\n",
       "      <td>1797.24</td>\n",
       "    </tr>\n",
       "    <tr>\n",
       "      <th>3</th>\n",
       "      <td>12349</td>\n",
       "      <td>1757.55</td>\n",
       "    </tr>\n",
       "    <tr>\n",
       "      <th>4</th>\n",
       "      <td>12350</td>\n",
       "      <td>334.40</td>\n",
       "    </tr>\n",
       "    <tr>\n",
       "      <th>...</th>\n",
       "      <td>...</td>\n",
       "      <td>...</td>\n",
       "    </tr>\n",
       "    <tr>\n",
       "      <th>4367</th>\n",
       "      <td>18280</td>\n",
       "      <td>180.60</td>\n",
       "    </tr>\n",
       "    <tr>\n",
       "      <th>4368</th>\n",
       "      <td>18281</td>\n",
       "      <td>80.82</td>\n",
       "    </tr>\n",
       "    <tr>\n",
       "      <th>4369</th>\n",
       "      <td>18282</td>\n",
       "      <td>176.60</td>\n",
       "    </tr>\n",
       "    <tr>\n",
       "      <th>4370</th>\n",
       "      <td>18283</td>\n",
       "      <td>2094.88</td>\n",
       "    </tr>\n",
       "    <tr>\n",
       "      <th>4371</th>\n",
       "      <td>18287</td>\n",
       "      <td>1837.28</td>\n",
       "    </tr>\n",
       "  </tbody>\n",
       "</table>\n",
       "<p>4372 rows × 2 columns</p>\n",
       "</div>"
      ],
      "text/plain": [
       "      customer_id  gross_revenue\n",
       "0           12346           0.00\n",
       "1           12347        4310.00\n",
       "2           12348        1797.24\n",
       "3           12349        1757.55\n",
       "4           12350         334.40\n",
       "...           ...            ...\n",
       "4367        18280         180.60\n",
       "4368        18281          80.82\n",
       "4369        18282         176.60\n",
       "4370        18283        2094.88\n",
       "4371        18287        1837.28\n",
       "\n",
       "[4372 rows x 2 columns]"
      ]
     },
     "execution_count": 165,
     "metadata": {},
     "output_type": "execute_result"
    }
   ],
   "source": [
    "# df_monetary = gorss_revenue by customer\n",
    "df_monetary = df2[['customer_id','gross_revenue']].groupby('customer_id').sum().reset_index()\n",
    "df_monetary"
   ]
  },
  {
   "cell_type": "code",
   "execution_count": 166,
   "id": "f6a69d1b",
   "metadata": {
    "ExecuteTime": {
     "end_time": "2022-07-21T21:47:42.363195Z",
     "start_time": "2022-07-21T21:47:42.350614Z"
    }
   },
   "outputs": [],
   "source": [
    "#merge df_ref + df_monetary\n",
    "df_ref = pd.merge( df_ref, df_monetary, on='customer_id', how='left' )"
   ]
  },
  {
   "cell_type": "code",
   "execution_count": 167,
   "id": "985f69ad",
   "metadata": {
    "ExecuteTime": {
     "end_time": "2022-07-21T21:47:46.162512Z",
     "start_time": "2022-07-21T21:47:46.150744Z"
    }
   },
   "outputs": [
    {
     "data": {
      "text/plain": [
       "customer_id      0\n",
       "gross_revenue    0\n",
       "dtype: int64"
      ]
     },
     "execution_count": 167,
     "metadata": {},
     "output_type": "execute_result"
    }
   ],
   "source": [
    "#check possible join problems\n",
    "df_ref.isna().sum()"
   ]
  },
  {
   "cell_type": "code",
   "execution_count": 168,
   "id": "670bf081",
   "metadata": {
    "ExecuteTime": {
     "end_time": "2022-07-21T21:47:48.097553Z",
     "start_time": "2022-07-21T21:47:48.078888Z"
    }
   },
   "outputs": [
    {
     "data": {
      "text/html": [
       "<div>\n",
       "<style scoped>\n",
       "    .dataframe tbody tr th:only-of-type {\n",
       "        vertical-align: middle;\n",
       "    }\n",
       "\n",
       "    .dataframe tbody tr th {\n",
       "        vertical-align: top;\n",
       "    }\n",
       "\n",
       "    .dataframe thead th {\n",
       "        text-align: right;\n",
       "    }\n",
       "</style>\n",
       "<table border=\"1\" class=\"dataframe\">\n",
       "  <thead>\n",
       "    <tr style=\"text-align: right;\">\n",
       "      <th></th>\n",
       "      <th>customer_id</th>\n",
       "      <th>gross_revenue</th>\n",
       "    </tr>\n",
       "  </thead>\n",
       "  <tbody>\n",
       "    <tr>\n",
       "      <th>0</th>\n",
       "      <td>17850</td>\n",
       "      <td>5288.63</td>\n",
       "    </tr>\n",
       "    <tr>\n",
       "      <th>1</th>\n",
       "      <td>13047</td>\n",
       "      <td>3079.10</td>\n",
       "    </tr>\n",
       "    <tr>\n",
       "      <th>2</th>\n",
       "      <td>12583</td>\n",
       "      <td>7187.34</td>\n",
       "    </tr>\n",
       "    <tr>\n",
       "      <th>3</th>\n",
       "      <td>13748</td>\n",
       "      <td>948.25</td>\n",
       "    </tr>\n",
       "    <tr>\n",
       "      <th>4</th>\n",
       "      <td>15100</td>\n",
       "      <td>635.10</td>\n",
       "    </tr>\n",
       "  </tbody>\n",
       "</table>\n",
       "</div>"
      ],
      "text/plain": [
       "   customer_id  gross_revenue\n",
       "0        17850        5288.63\n",
       "1        13047        3079.10\n",
       "2        12583        7187.34\n",
       "3        13748         948.25\n",
       "4        15100         635.10"
      ]
     },
     "execution_count": 168,
     "metadata": {},
     "output_type": "execute_result"
    }
   ],
   "source": [
    "#reference table of customer_id with first var\n",
    "df_ref.head()"
   ]
  },
  {
   "cell_type": "markdown",
   "id": "a66fa478",
   "metadata": {},
   "source": [
    "### recency"
   ]
  },
  {
   "cell_type": "code",
   "execution_count": null,
   "id": "30037ba4",
   "metadata": {},
   "outputs": [],
   "source": [
    "# Recency: number of days since last purchase"
   ]
  },
  {
   "cell_type": "code",
   "execution_count": 169,
   "id": "0d04ee9b",
   "metadata": {
    "ExecuteTime": {
     "end_time": "2022-07-21T21:49:09.546238Z",
     "start_time": "2022-07-21T21:49:09.495424Z"
    }
   },
   "outputs": [
    {
     "data": {
      "text/html": [
       "<div>\n",
       "<style scoped>\n",
       "    .dataframe tbody tr th:only-of-type {\n",
       "        vertical-align: middle;\n",
       "    }\n",
       "\n",
       "    .dataframe tbody tr th {\n",
       "        vertical-align: top;\n",
       "    }\n",
       "\n",
       "    .dataframe thead th {\n",
       "        text-align: right;\n",
       "    }\n",
       "</style>\n",
       "<table border=\"1\" class=\"dataframe\">\n",
       "  <thead>\n",
       "    <tr style=\"text-align: right;\">\n",
       "      <th></th>\n",
       "      <th>customer_id</th>\n",
       "      <th>invoice_date</th>\n",
       "    </tr>\n",
       "  </thead>\n",
       "  <tbody>\n",
       "    <tr>\n",
       "      <th>0</th>\n",
       "      <td>12346</td>\n",
       "      <td>2017-01-16</td>\n",
       "    </tr>\n",
       "    <tr>\n",
       "      <th>1</th>\n",
       "      <td>12347</td>\n",
       "      <td>2017-12-05</td>\n",
       "    </tr>\n",
       "    <tr>\n",
       "      <th>2</th>\n",
       "      <td>12348</td>\n",
       "      <td>2017-09-23</td>\n",
       "    </tr>\n",
       "    <tr>\n",
       "      <th>3</th>\n",
       "      <td>12349</td>\n",
       "      <td>2017-11-19</td>\n",
       "    </tr>\n",
       "    <tr>\n",
       "      <th>4</th>\n",
       "      <td>12350</td>\n",
       "      <td>2017-01-31</td>\n",
       "    </tr>\n",
       "  </tbody>\n",
       "</table>\n",
       "</div>"
      ],
      "text/plain": [
       "   customer_id invoice_date\n",
       "0        12346   2017-01-16\n",
       "1        12347   2017-12-05\n",
       "2        12348   2017-09-23\n",
       "3        12349   2017-11-19\n",
       "4        12350   2017-01-31"
      ]
     },
     "execution_count": 169,
     "metadata": {},
     "output_type": "execute_result"
    }
   ],
   "source": [
    "# get each customer's last day of purchase \n",
    "df_recency = df2[['customer_id','invoice_date']].groupby('customer_id').max().reset_index()\n",
    "df_recency.head()"
   ]
  },
  {
   "cell_type": "code",
   "execution_count": 173,
   "id": "3638df7c",
   "metadata": {
    "ExecuteTime": {
     "end_time": "2022-07-21T21:52:09.164101Z",
     "start_time": "2022-07-21T21:52:09.152898Z"
    }
   },
   "outputs": [
    {
     "data": {
      "text/plain": [
       "Timestamp('2017-12-07 00:00:00')"
      ]
     },
     "execution_count": 173,
     "metadata": {},
     "output_type": "execute_result"
    }
   ],
   "source": [
    "#'2017-12-07' is the last day with purchases on this dataset. \n",
    "# Let's assume '2017-12-07' is today, avoiding big distortions. Using updated dataset, last purchase would be recent (dataset is 4y/o +).\n",
    "# In real cases, this variable would be dt.date.today(), and could be updated daily.\n",
    "today = df2['invoice_date'].max()\n",
    "today"
   ]
  },
  {
   "cell_type": "code",
   "execution_count": 183,
   "id": "621c3f8f",
   "metadata": {
    "ExecuteTime": {
     "end_time": "2022-07-21T21:59:35.290154Z",
     "start_time": "2022-07-21T21:59:35.264379Z"
    }
   },
   "outputs": [
    {
     "data": {
      "text/html": [
       "<div>\n",
       "<style scoped>\n",
       "    .dataframe tbody tr th:only-of-type {\n",
       "        vertical-align: middle;\n",
       "    }\n",
       "\n",
       "    .dataframe tbody tr th {\n",
       "        vertical-align: top;\n",
       "    }\n",
       "\n",
       "    .dataframe thead th {\n",
       "        text-align: right;\n",
       "    }\n",
       "</style>\n",
       "<table border=\"1\" class=\"dataframe\">\n",
       "  <thead>\n",
       "    <tr style=\"text-align: right;\">\n",
       "      <th></th>\n",
       "      <th>customer_id</th>\n",
       "      <th>invoice_date</th>\n",
       "      <th>recency_days</th>\n",
       "    </tr>\n",
       "  </thead>\n",
       "  <tbody>\n",
       "    <tr>\n",
       "      <th>0</th>\n",
       "      <td>12346</td>\n",
       "      <td>2017-01-16</td>\n",
       "      <td>325</td>\n",
       "    </tr>\n",
       "    <tr>\n",
       "      <th>1</th>\n",
       "      <td>12347</td>\n",
       "      <td>2017-12-05</td>\n",
       "      <td>2</td>\n",
       "    </tr>\n",
       "    <tr>\n",
       "      <th>2</th>\n",
       "      <td>12348</td>\n",
       "      <td>2017-09-23</td>\n",
       "      <td>75</td>\n",
       "    </tr>\n",
       "    <tr>\n",
       "      <th>3</th>\n",
       "      <td>12349</td>\n",
       "      <td>2017-11-19</td>\n",
       "      <td>18</td>\n",
       "    </tr>\n",
       "    <tr>\n",
       "      <th>4</th>\n",
       "      <td>12350</td>\n",
       "      <td>2017-01-31</td>\n",
       "      <td>310</td>\n",
       "    </tr>\n",
       "    <tr>\n",
       "      <th>...</th>\n",
       "      <td>...</td>\n",
       "      <td>...</td>\n",
       "      <td>...</td>\n",
       "    </tr>\n",
       "    <tr>\n",
       "      <th>4367</th>\n",
       "      <td>18280</td>\n",
       "      <td>2017-03-05</td>\n",
       "      <td>277</td>\n",
       "    </tr>\n",
       "    <tr>\n",
       "      <th>4368</th>\n",
       "      <td>18281</td>\n",
       "      <td>2017-06-10</td>\n",
       "      <td>180</td>\n",
       "    </tr>\n",
       "    <tr>\n",
       "      <th>4369</th>\n",
       "      <td>18282</td>\n",
       "      <td>2017-11-30</td>\n",
       "      <td>7</td>\n",
       "    </tr>\n",
       "    <tr>\n",
       "      <th>4370</th>\n",
       "      <td>18283</td>\n",
       "      <td>2017-12-04</td>\n",
       "      <td>3</td>\n",
       "    </tr>\n",
       "    <tr>\n",
       "      <th>4371</th>\n",
       "      <td>18287</td>\n",
       "      <td>2017-10-26</td>\n",
       "      <td>42</td>\n",
       "    </tr>\n",
       "  </tbody>\n",
       "</table>\n",
       "<p>4372 rows × 3 columns</p>\n",
       "</div>"
      ],
      "text/plain": [
       "      customer_id invoice_date  recency_days\n",
       "0           12346   2017-01-16           325\n",
       "1           12347   2017-12-05             2\n",
       "2           12348   2017-09-23            75\n",
       "3           12349   2017-11-19            18\n",
       "4           12350   2017-01-31           310\n",
       "...           ...          ...           ...\n",
       "4367        18280   2017-03-05           277\n",
       "4368        18281   2017-06-10           180\n",
       "4369        18282   2017-11-30             7\n",
       "4370        18283   2017-12-04             3\n",
       "4371        18287   2017-10-26            42\n",
       "\n",
       "[4372 rows x 3 columns]"
      ]
     },
     "execution_count": 183,
     "metadata": {},
     "output_type": "execute_result"
    }
   ],
   "source": [
    "#Calculate number of days since last purchase\n",
    "#\"today\" (being '2017-12-07') - invoice_date (last day of purchase of each customer)\n",
    "df_recency['recency_days'] = (df2['invoice_date'].max() - df_recency['invoice_date']).dt.days\n",
    "df_recency"
   ]
  },
  {
   "cell_type": "code",
   "execution_count": 187,
   "id": "5a0e0d90",
   "metadata": {
    "ExecuteTime": {
     "end_time": "2022-07-21T22:01:26.452316Z",
     "start_time": "2022-07-21T22:01:26.440889Z"
    }
   },
   "outputs": [
    {
     "data": {
      "text/plain": [
       "Timestamp('2017-12-07 00:00:00')"
      ]
     },
     "execution_count": 187,
     "metadata": {},
     "output_type": "execute_result"
    }
   ],
   "source": [
    "#check recency days (2017-12-07 -> 2017-01-16) = 325 days\n",
    "df2['invoice_date'].max()"
   ]
  },
  {
   "cell_type": "code",
   "execution_count": 188,
   "id": "d2227c25",
   "metadata": {
    "ExecuteTime": {
     "end_time": "2022-07-21T22:03:42.759249Z",
     "start_time": "2022-07-21T22:03:42.742077Z"
    }
   },
   "outputs": [
    {
     "data": {
      "text/html": [
       "<div>\n",
       "<style scoped>\n",
       "    .dataframe tbody tr th:only-of-type {\n",
       "        vertical-align: middle;\n",
       "    }\n",
       "\n",
       "    .dataframe tbody tr th {\n",
       "        vertical-align: top;\n",
       "    }\n",
       "\n",
       "    .dataframe thead th {\n",
       "        text-align: right;\n",
       "    }\n",
       "</style>\n",
       "<table border=\"1\" class=\"dataframe\">\n",
       "  <thead>\n",
       "    <tr style=\"text-align: right;\">\n",
       "      <th></th>\n",
       "      <th>customer_id</th>\n",
       "      <th>invoice_date</th>\n",
       "      <th>recency_days</th>\n",
       "    </tr>\n",
       "  </thead>\n",
       "  <tbody>\n",
       "    <tr>\n",
       "      <th>0</th>\n",
       "      <td>12346</td>\n",
       "      <td>2017-01-16</td>\n",
       "      <td>325</td>\n",
       "    </tr>\n",
       "    <tr>\n",
       "      <th>1</th>\n",
       "      <td>12347</td>\n",
       "      <td>2017-12-05</td>\n",
       "      <td>2</td>\n",
       "    </tr>\n",
       "    <tr>\n",
       "      <th>2</th>\n",
       "      <td>12348</td>\n",
       "      <td>2017-09-23</td>\n",
       "      <td>75</td>\n",
       "    </tr>\n",
       "    <tr>\n",
       "      <th>3</th>\n",
       "      <td>12349</td>\n",
       "      <td>2017-11-19</td>\n",
       "      <td>18</td>\n",
       "    </tr>\n",
       "    <tr>\n",
       "      <th>4</th>\n",
       "      <td>12350</td>\n",
       "      <td>2017-01-31</td>\n",
       "      <td>310</td>\n",
       "    </tr>\n",
       "    <tr>\n",
       "      <th>...</th>\n",
       "      <td>...</td>\n",
       "      <td>...</td>\n",
       "      <td>...</td>\n",
       "    </tr>\n",
       "    <tr>\n",
       "      <th>4367</th>\n",
       "      <td>18280</td>\n",
       "      <td>2017-03-05</td>\n",
       "      <td>277</td>\n",
       "    </tr>\n",
       "    <tr>\n",
       "      <th>4368</th>\n",
       "      <td>18281</td>\n",
       "      <td>2017-06-10</td>\n",
       "      <td>180</td>\n",
       "    </tr>\n",
       "    <tr>\n",
       "      <th>4369</th>\n",
       "      <td>18282</td>\n",
       "      <td>2017-11-30</td>\n",
       "      <td>7</td>\n",
       "    </tr>\n",
       "    <tr>\n",
       "      <th>4370</th>\n",
       "      <td>18283</td>\n",
       "      <td>2017-12-04</td>\n",
       "      <td>3</td>\n",
       "    </tr>\n",
       "    <tr>\n",
       "      <th>4371</th>\n",
       "      <td>18287</td>\n",
       "      <td>2017-10-26</td>\n",
       "      <td>42</td>\n",
       "    </tr>\n",
       "  </tbody>\n",
       "</table>\n",
       "<p>4372 rows × 3 columns</p>\n",
       "</div>"
      ],
      "text/plain": [
       "      customer_id invoice_date  recency_days\n",
       "0           12346   2017-01-16           325\n",
       "1           12347   2017-12-05             2\n",
       "2           12348   2017-09-23            75\n",
       "3           12349   2017-11-19            18\n",
       "4           12350   2017-01-31           310\n",
       "...           ...          ...           ...\n",
       "4367        18280   2017-03-05           277\n",
       "4368        18281   2017-06-10           180\n",
       "4369        18282   2017-11-30             7\n",
       "4370        18283   2017-12-04             3\n",
       "4371        18287   2017-10-26            42\n",
       "\n",
       "[4372 rows x 3 columns]"
      ]
     },
     "execution_count": 188,
     "metadata": {},
     "output_type": "execute_result"
    }
   ],
   "source": [
    "df_recency"
   ]
  },
  {
   "cell_type": "code",
   "execution_count": 191,
   "id": "68a486a9",
   "metadata": {
    "ExecuteTime": {
     "end_time": "2022-07-21T22:05:25.342076Z",
     "start_time": "2022-07-21T22:05:25.324455Z"
    }
   },
   "outputs": [
    {
     "data": {
      "text/html": [
       "<div>\n",
       "<style scoped>\n",
       "    .dataframe tbody tr th:only-of-type {\n",
       "        vertical-align: middle;\n",
       "    }\n",
       "\n",
       "    .dataframe tbody tr th {\n",
       "        vertical-align: top;\n",
       "    }\n",
       "\n",
       "    .dataframe thead th {\n",
       "        text-align: right;\n",
       "    }\n",
       "</style>\n",
       "<table border=\"1\" class=\"dataframe\">\n",
       "  <thead>\n",
       "    <tr style=\"text-align: right;\">\n",
       "      <th></th>\n",
       "      <th>customer_id</th>\n",
       "      <th>recency_days</th>\n",
       "    </tr>\n",
       "  </thead>\n",
       "  <tbody>\n",
       "    <tr>\n",
       "      <th>0</th>\n",
       "      <td>12346</td>\n",
       "      <td>325</td>\n",
       "    </tr>\n",
       "    <tr>\n",
       "      <th>1</th>\n",
       "      <td>12347</td>\n",
       "      <td>2</td>\n",
       "    </tr>\n",
       "    <tr>\n",
       "      <th>2</th>\n",
       "      <td>12348</td>\n",
       "      <td>75</td>\n",
       "    </tr>\n",
       "    <tr>\n",
       "      <th>3</th>\n",
       "      <td>12349</td>\n",
       "      <td>18</td>\n",
       "    </tr>\n",
       "    <tr>\n",
       "      <th>4</th>\n",
       "      <td>12350</td>\n",
       "      <td>310</td>\n",
       "    </tr>\n",
       "    <tr>\n",
       "      <th>...</th>\n",
       "      <td>...</td>\n",
       "      <td>...</td>\n",
       "    </tr>\n",
       "    <tr>\n",
       "      <th>4367</th>\n",
       "      <td>18280</td>\n",
       "      <td>277</td>\n",
       "    </tr>\n",
       "    <tr>\n",
       "      <th>4368</th>\n",
       "      <td>18281</td>\n",
       "      <td>180</td>\n",
       "    </tr>\n",
       "    <tr>\n",
       "      <th>4369</th>\n",
       "      <td>18282</td>\n",
       "      <td>7</td>\n",
       "    </tr>\n",
       "    <tr>\n",
       "      <th>4370</th>\n",
       "      <td>18283</td>\n",
       "      <td>3</td>\n",
       "    </tr>\n",
       "    <tr>\n",
       "      <th>4371</th>\n",
       "      <td>18287</td>\n",
       "      <td>42</td>\n",
       "    </tr>\n",
       "  </tbody>\n",
       "</table>\n",
       "<p>4372 rows × 2 columns</p>\n",
       "</div>"
      ],
      "text/plain": [
       "      customer_id  recency_days\n",
       "0           12346           325\n",
       "1           12347             2\n",
       "2           12348            75\n",
       "3           12349            18\n",
       "4           12350           310\n",
       "...           ...           ...\n",
       "4367        18280           277\n",
       "4368        18281           180\n",
       "4369        18282             7\n",
       "4370        18283             3\n",
       "4371        18287            42\n",
       "\n",
       "[4372 rows x 2 columns]"
      ]
     },
     "execution_count": 191,
     "metadata": {},
     "output_type": "execute_result"
    }
   ],
   "source": [
    "#drop invoice_date (max purchase date) from df_recency\n",
    "df_recency = df_recency[['customer_id', 'recency_days']].copy()\n",
    "df_recency"
   ]
  },
  {
   "cell_type": "code",
   "execution_count": 192,
   "id": "c01fbd39",
   "metadata": {
    "ExecuteTime": {
     "end_time": "2022-07-21T22:06:22.696421Z",
     "start_time": "2022-07-21T22:06:22.672881Z"
    }
   },
   "outputs": [
    {
     "data": {
      "text/html": [
       "<div>\n",
       "<style scoped>\n",
       "    .dataframe tbody tr th:only-of-type {\n",
       "        vertical-align: middle;\n",
       "    }\n",
       "\n",
       "    .dataframe tbody tr th {\n",
       "        vertical-align: top;\n",
       "    }\n",
       "\n",
       "    .dataframe thead th {\n",
       "        text-align: right;\n",
       "    }\n",
       "</style>\n",
       "<table border=\"1\" class=\"dataframe\">\n",
       "  <thead>\n",
       "    <tr style=\"text-align: right;\">\n",
       "      <th></th>\n",
       "      <th>customer_id</th>\n",
       "      <th>gross_revenue</th>\n",
       "      <th>recency_days</th>\n",
       "    </tr>\n",
       "  </thead>\n",
       "  <tbody>\n",
       "    <tr>\n",
       "      <th>0</th>\n",
       "      <td>17850</td>\n",
       "      <td>5288.63</td>\n",
       "      <td>302</td>\n",
       "    </tr>\n",
       "    <tr>\n",
       "      <th>1</th>\n",
       "      <td>13047</td>\n",
       "      <td>3079.10</td>\n",
       "      <td>31</td>\n",
       "    </tr>\n",
       "    <tr>\n",
       "      <th>2</th>\n",
       "      <td>12583</td>\n",
       "      <td>7187.34</td>\n",
       "      <td>2</td>\n",
       "    </tr>\n",
       "    <tr>\n",
       "      <th>3</th>\n",
       "      <td>13748</td>\n",
       "      <td>948.25</td>\n",
       "      <td>95</td>\n",
       "    </tr>\n",
       "    <tr>\n",
       "      <th>4</th>\n",
       "      <td>15100</td>\n",
       "      <td>635.10</td>\n",
       "      <td>330</td>\n",
       "    </tr>\n",
       "    <tr>\n",
       "      <th>...</th>\n",
       "      <td>...</td>\n",
       "      <td>...</td>\n",
       "      <td>...</td>\n",
       "    </tr>\n",
       "    <tr>\n",
       "      <th>4367</th>\n",
       "      <td>13436</td>\n",
       "      <td>196.89</td>\n",
       "      <td>1</td>\n",
       "    </tr>\n",
       "    <tr>\n",
       "      <th>4368</th>\n",
       "      <td>15520</td>\n",
       "      <td>343.50</td>\n",
       "      <td>1</td>\n",
       "    </tr>\n",
       "    <tr>\n",
       "      <th>4369</th>\n",
       "      <td>13298</td>\n",
       "      <td>360.00</td>\n",
       "      <td>1</td>\n",
       "    </tr>\n",
       "    <tr>\n",
       "      <th>4370</th>\n",
       "      <td>14569</td>\n",
       "      <td>227.39</td>\n",
       "      <td>1</td>\n",
       "    </tr>\n",
       "    <tr>\n",
       "      <th>4371</th>\n",
       "      <td>12713</td>\n",
       "      <td>848.55</td>\n",
       "      <td>0</td>\n",
       "    </tr>\n",
       "  </tbody>\n",
       "</table>\n",
       "<p>4372 rows × 3 columns</p>\n",
       "</div>"
      ],
      "text/plain": [
       "      customer_id  gross_revenue  recency_days\n",
       "0           17850        5288.63           302\n",
       "1           13047        3079.10            31\n",
       "2           12583        7187.34             2\n",
       "3           13748         948.25            95\n",
       "4           15100         635.10           330\n",
       "...           ...            ...           ...\n",
       "4367        13436         196.89             1\n",
       "4368        15520         343.50             1\n",
       "4369        13298         360.00             1\n",
       "4370        14569         227.39             1\n",
       "4371        12713         848.55             0\n",
       "\n",
       "[4372 rows x 3 columns]"
      ]
     },
     "execution_count": 192,
     "metadata": {},
     "output_type": "execute_result"
    }
   ],
   "source": [
    "# merge df_recency w/ df_ref\n",
    "df_ref = pd.merge( df_ref, df_recency, on='customer_id', how='left' )\n",
    "df_ref"
   ]
  },
  {
   "cell_type": "code",
   "execution_count": 193,
   "id": "b044438d",
   "metadata": {
    "ExecuteTime": {
     "end_time": "2022-07-21T22:06:49.645746Z",
     "start_time": "2022-07-21T22:06:49.634051Z"
    }
   },
   "outputs": [
    {
     "data": {
      "text/plain": [
       "customer_id      0\n",
       "gross_revenue    0\n",
       "recency_days     0\n",
       "dtype: int64"
      ]
     },
     "execution_count": 193,
     "metadata": {},
     "output_type": "execute_result"
    }
   ],
   "source": [
    "#check NA\n",
    "df_ref.isna().sum()"
   ]
  },
  {
   "cell_type": "markdown",
   "id": "1ddc2374",
   "metadata": {},
   "source": [
    "### frequency"
   ]
  },
  {
   "cell_type": "code",
   "execution_count": null,
   "id": "45bc89ad",
   "metadata": {},
   "outputs": [],
   "source": [
    "# Frequency (number of purchases)"
   ]
  },
  {
   "cell_type": "code",
   "execution_count": null,
   "id": "76808374",
   "metadata": {},
   "outputs": [],
   "source": []
  },
  {
   "cell_type": "code",
   "execution_count": null,
   "id": "1dd2b440",
   "metadata": {},
   "outputs": [],
   "source": []
  },
  {
   "cell_type": "code",
   "execution_count": null,
   "id": "0e406873",
   "metadata": {},
   "outputs": [],
   "source": [
    "#Frequency - Average time between purchases (in days). Measure engagement.\n",
    "# I need data on every line, to get the avg time betweeb purchases"
   ]
  },
  {
   "cell_type": "markdown",
   "id": "7b8b7f1d",
   "metadata": {},
   "source": [
    "# Variable Filtering"
   ]
  },
  {
   "cell_type": "markdown",
   "id": "f4e57285",
   "metadata": {},
   "source": [
    "# EDA"
   ]
  },
  {
   "cell_type": "markdown",
   "id": "6dd6495b",
   "metadata": {},
   "source": [
    "# Data Preparation"
   ]
  },
  {
   "cell_type": "markdown",
   "id": "6254dadd",
   "metadata": {},
   "source": [
    "# Feature Selection"
   ]
  },
  {
   "cell_type": "markdown",
   "id": "3ad3eee9",
   "metadata": {},
   "source": [
    "# Model Training"
   ]
  },
  {
   "cell_type": "markdown",
   "id": "e8ef8fec",
   "metadata": {},
   "source": [
    "# Cluster Analysis"
   ]
  },
  {
   "cell_type": "markdown",
   "id": "df701f6b",
   "metadata": {},
   "source": [
    "# Deploy"
   ]
  }
 ],
 "metadata": {
  "kernelspec": {
   "display_name": "Python 3 (ipykernel)",
   "language": "python",
   "name": "python3"
  },
  "language_info": {
   "codemirror_mode": {
    "name": "ipython",
    "version": 3
   },
   "file_extension": ".py",
   "mimetype": "text/x-python",
   "name": "python",
   "nbconvert_exporter": "python",
   "pygments_lexer": "ipython3",
   "version": "3.8.12"
  },
  "toc": {
   "base_numbering": 1,
   "nav_menu": {},
   "number_sections": true,
   "sideBar": true,
   "skip_h1_title": false,
   "title_cell": "Table of Contents",
   "title_sidebar": "Contents",
   "toc_cell": false,
   "toc_position": {},
   "toc_section_display": true,
   "toc_window_display": false
  },
  "varInspector": {
   "cols": {
    "lenName": 16,
    "lenType": 16,
    "lenVar": 40
   },
   "kernels_config": {
    "python": {
     "delete_cmd_postfix": "",
     "delete_cmd_prefix": "del ",
     "library": "var_list.py",
     "varRefreshCmd": "print(var_dic_list())"
    },
    "r": {
     "delete_cmd_postfix": ") ",
     "delete_cmd_prefix": "rm(",
     "library": "var_list.r",
     "varRefreshCmd": "cat(var_dic_list()) "
    }
   },
   "position": {
    "height": "294.85px",
    "left": "500px",
    "right": "20px",
    "top": "101px",
    "width": "510px"
   },
   "types_to_exclude": [
    "module",
    "function",
    "builtin_function_or_method",
    "instance",
    "_Feature"
   ],
   "window_display": false
  }
 },
 "nbformat": 4,
 "nbformat_minor": 5
}
