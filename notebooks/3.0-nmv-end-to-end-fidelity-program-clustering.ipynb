{
 "cells": [
  {
   "cell_type": "markdown",
   "id": "4570add8",
   "metadata": {},
   "source": [
    "# Delivered"
   ]
  },
  {
   "cell_type": "markdown",
   "id": "e04570fa",
   "metadata": {},
   "source": [
    "Description of incremental development throughout the project."
   ]
  },
  {
   "cell_type": "markdown",
   "id": "ff7380c5",
   "metadata": {
    "heading_collapsed": true
   },
   "source": [
    "## Cycle 1"
   ]
  },
  {
   "cell_type": "markdown",
   "id": "8e95897f",
   "metadata": {
    "ExecuteTime": {
     "end_time": "2022-07-31T11:21:28.222701Z",
     "start_time": "2022-07-31T11:21:28.218942Z"
    },
    "hidden": true
   },
   "source": [
    "1. Business Planning\n",
    "     - Business problem\n",
    "     - Input\n",
    "     - Output\n",
    "     - Process\n",
    "     - Desk research\n",
    "     \n",
    "2. Feature Engineering\n",
    "     - Recency\n",
    "     - Frequency\n",
    "     - Monetization\n",
    "    \n",
    "3. Clustering Validation Metrics\n",
    "     - WSS (Within-Cluster Sum of Square)\n",
    "     - SS (Silhouette Score)\n",
    "       \n",
    "4. Cluster Analysis\n",
    "     - 3D plot\n",
    "     - Cluster Profile\n",
    "     \n",
    "     "
   ]
  },
  {
   "cell_type": "markdown",
   "id": "c7d30257",
   "metadata": {
    "heading_collapsed": true
   },
   "source": [
    "## Cycle 2"
   ]
  },
  {
   "cell_type": "markdown",
   "id": "c9373892",
   "metadata": {
    "ExecuteTime": {
     "end_time": "2022-07-31T11:25:31.909676Z",
     "start_time": "2022-07-31T11:25:31.899974Z"
    },
    "hidden": true
   },
   "source": [
    "1. Feature Engineering\n",
    "     - Average Ticket\n",
    "    \n",
    "2. Silhouette Analysis\n",
    "     - Silhouette Analysis\n",
    "     \n",
    "3. Cluster Visualization\n",
    "     - UMAP\n",
    "     \n",
    "4. Cluster Profile Analysis\n",
    "     - Description of cluster centroids"
   ]
  },
  {
   "cell_type": "markdown",
   "id": "edd4305c",
   "metadata": {
    "heading_collapsed": true
   },
   "source": [
    "## Cycle 3"
   ]
  },
  {
   "cell_type": "markdown",
   "id": "d04255e1",
   "metadata": {
    "hidden": true
   },
   "source": [
    "1. Descriptive Analysis\n",
    "     - Numerical attributes\n",
    "     - Categorical attributes\n",
    "    \n",
    "2. Feature Engineering\n",
    "     - Average Recency\n",
    "     - Number of Returns\n",
    "     \n",
    "2. Data preparation\n",
    "     - Standard Scaler"
   ]
  },
  {
   "cell_type": "markdown",
   "id": "393a8d6e",
   "metadata": {},
   "source": [
    "# Solution Planning"
   ]
  },
  {
   "cell_type": "markdown",
   "id": "8ba630f1",
   "metadata": {},
   "source": [
    "## Business Problem"
   ]
  },
  {
   "cell_type": "markdown",
   "id": "d6cb6fc1",
   "metadata": {},
   "source": [
    "**What is the business problem?**\n",
    "1. Select the most valuable customers to join the \"Loyals\" loyalty program.\n",
    "\n",
    "2. Answering business questions to the marketing team."
   ]
  },
  {
   "cell_type": "markdown",
   "id": "0eadb9d0",
   "metadata": {},
   "source": [
    "### Output"
   ]
  },
  {
   "cell_type": "markdown",
   "id": "a87bb00b",
   "metadata": {},
   "source": [
    "**What will I deliver? / Where does the business team want to see it?**\n",
    "\n",
    "* 1) List in xls / send by email. It must contain customers who will join Loyals (loyalty program).\n",
    "    - Format:\n",
    "   \n",
    "| client_id | is_loyal |\n",
    "|-----------|----------|\n",
    "|1          |yes       |\n",
    "|2          |no        |\n",
    "\n",
    "* 2) PDF report answering business questions / send by email and present to the marketing team:\n",
    "     - Who are the people eligible to participate in the Loyals program?\n",
    "     - How many customers will be part of the group?\n",
    "     - What are the main characteristics of these customers?\n",
    "     - What is the percentage of revenue contribution from Loyals?\n",
    "     - What is the expected revenue for this group for the coming months?\n",
    "     - What are the conditions for a person to be eligible for Loyals?\n",
    "     - What are the conditions for a person to be removed from Loyals?\n",
    "     - What is the guarantee that the Loyals program is better than the rest of the base?\n",
    "     - What actions can the marketing team take to increase revenue?"
   ]
  },
  {
   "cell_type": "markdown",
   "id": "af458db5",
   "metadata": {},
   "source": [
    "### Input"
   ]
  },
  {
   "cell_type": "markdown",
   "id": "766f61b9",
   "metadata": {},
   "source": [
    "**Data sources:**\n",
    "     Dataset \"Ecommerce.csv\", containing e-commerce sales for the period of one year.\n",
    "\n",
    "**Tools:**\n",
    "     Python 3.8.12, Jupyter Notebook, Git, Github."
   ]
  },
  {
   "cell_type": "markdown",
   "id": "825ddf04",
   "metadata": {},
   "source": [
    "### Process"
   ]
  },
  {
   "cell_type": "markdown",
   "id": "6fdd3b08",
   "metadata": {},
   "source": [
    "**Type of problem:**\n",
    "Separation of customers by groups.\n",
    "    \n",
    "**Main methods:**\n",
    "    clustering.\n",
    "\n",
    "**Business Questions:**\n",
    "* 1) Who are the people eligible to participate in the Loyals program?\n",
    "    - What does it mean to be eligible? / What are higher \"value\" customers? (depending on business area)\n",
    "        - Invoicing:\n",
    "             - High average ticket\n",
    "             - High LTV (sum of customer revenue)\n",
    "             - Low recency (time since last purchase)\n",
    "             - High basket size (qty products purchased per purchase)\n",
    "             - Low churn probability (would use the output of a model)\n",
    "             - High LTV Prediction (would use output from a model)\n",
    "             - High propensity to buy (would use the output of a model)\n",
    "        - Cost:\n",
    "             - Low return rate\n",
    "        - Shopping experience:\n",
    "             - High average of the evaluations\n",
    "\n",
    " PS: the features will be created in feature engineering.\n",
    " \n",
    " \n",
    "* 2) How many customers will be part of the group?\n",
    "    - Number of customers\n",
    "    - % in relation to the total number of clients\n",
    "    \n",
    "    \n",
    "* 3) What are the main characteristics of these customers?\n",
    "    - Write customer characteristics:\n",
    "        - Age\n",
    "        - Country\n",
    "        - Wage\n",
    "        - Location\n",
    "     - Write key customer buying behaviors (business metrics)\n",
    "        - See clustering features (question 1)\n",
    "         \n",
    " For look alike: prospecting similar customers on the internet\n",
    "\n",
    "\n",
    "* 4) What percentage of revenue contribution comes from Loyals?\n",
    "    - Calculate the company's total revenue during the year.\n",
    "    - Calculate the revenue (%) for the Loyals cluster only.\n",
    "   \n",
    "   \n",
    "* 5) What is the expected revenue for this group for the coming months?\n",
    "    - Loyals LTV calculation (with moving average, time series, arima..)\n",
    "    - Time Series (ARMA, ARIMA, HoltWinter, etc.)\n",
    "    - Cohort analysis (with time, location, product..)\n",
    "\n",
    " There must be a billing target, consult business.\n",
    "    \n",
    "    \n",
    "* 6) What are the conditions for a person to be eligible for Loyals?\n",
    "    - Set the evaluation interval (every 1 month, 3 months..)\n",
    "    - The client's \"performance\" should be close to the Loyals cluster average.\n",
    "    \n",
    "    \n",
    "* 7) What are the conditions for a person to be removed from Loyals?\n",
    "    - Customer \"performance\" is no longer closer to the Loyals cluster average.\n",
    "   \n",
    "   \n",
    "* 8) What is the guarantee that the Loyals program is better than the rest of the base?\n",
    "    - A/B test\n",
    "    - Hypothesis test\n",
    "\n",
    "\n",
    "* 9) What actions can the marketing team take to increase revenue?\n",
    "    - Discount\n",
    "    - Purchase preference\n",
    "    - Cheaper shipping\n",
    "    - Visit the company\n",
    "    - Offer personal stylist\n",
    "    - Recommend cross selling\n",
    "    - Offer exclusive content"
   ]
  },
  {
   "cell_type": "markdown",
   "id": "4ba495a2",
   "metadata": {},
   "source": [
    "## Solution Benchmarking"
   ]
  },
  {
   "cell_type": "markdown",
   "id": "0a3310ad",
   "metadata": {},
   "source": [
    "### Desk Research"
   ]
  },
  {
   "cell_type": "markdown",
   "id": "832d0ac1",
   "metadata": {},
   "source": [
    "Reading articles on customer segmentation on the internet to understand what the market is doing.\n",
    "\n",
    "Identify from market solutions, with the business team, what we can do as an MVP.\n",
    "\n",
    "1. RFM segmentation model."
   ]
  },
  {
   "cell_type": "markdown",
   "id": "2937db83",
   "metadata": {},
   "source": [
    "# Environment Preparation"
   ]
  },
  {
   "cell_type": "markdown",
   "id": "cc04421c",
   "metadata": {},
   "source": [
    "## Imports"
   ]
  },
  {
   "cell_type": "code",
   "execution_count": 419,
   "id": "ed64e6b3",
   "metadata": {
    "ExecuteTime": {
     "end_time": "2022-08-01T10:47:22.356460Z",
     "start_time": "2022-08-01T10:47:22.349317Z"
    }
   },
   "outputs": [],
   "source": [
    "import pandas            as pd\n",
    "import seaborn           as sns\n",
    "import datetime          as dt\n",
    "import umap.umap_        as umap\n",
    "import numpy             as np\n",
    "import re\n",
    "\n",
    "from matplotlib               import pyplot as plt\n",
    "from tabulate                 import tabulate\n",
    "from IPython.core.display     import HTML\n",
    "from sklearn                  import cluster as c\n",
    "from sklearn                  import metrics as m\n",
    "from yellowbrick.cluster      import KElbowVisualizer, SilhouetteVisualizer\n",
    "from plotly                   import express as px\n",
    "from sklearn                  import preprocessing as pp\n",
    "#from IPython.display         import Image"
   ]
  },
  {
   "cell_type": "markdown",
   "id": "bac6d040",
   "metadata": {
    "heading_collapsed": true
   },
   "source": [
    "## Helper Functions"
   ]
  },
  {
   "cell_type": "code",
   "execution_count": 3,
   "id": "639e8d35",
   "metadata": {
    "ExecuteTime": {
     "end_time": "2022-07-30T17:00:11.144082Z",
     "start_time": "2022-07-30T17:00:11.119936Z"
    },
    "hidden": true
   },
   "outputs": [
    {
     "data": {
      "text/html": [
       "<style>.container { width:100% !important; }</style>"
      ],
      "text/plain": [
       "<IPython.core.display.HTML object>"
      ]
     },
     "metadata": {},
     "output_type": "display_data"
    }
   ],
   "source": [
    "def jupyter_settings():\n",
    "    \"\"\" Optimize general settings, standardize plot sizes, etc. \"\"\"\n",
    "    %matplotlib inline\n",
    "    plt.style.use( 'bmh' )\n",
    "    plt.rcParams['figure.figsize'] = [12, 6]\n",
    "    plt.rcParams['font.size'] = 20\n",
    "    display( HTML( '<style>.container { width:100% !important; }</style>') )\n",
    "    pd.set_option( 'display.expand_frame_repr', False )\n",
    "    pd.set_option('display.max_columns', 30)\n",
    "    pd.set_option('display.max_rows', 30)\n",
    "    sns.set()\n",
    "jupyter_settings()"
   ]
  },
  {
   "cell_type": "markdown",
   "id": "5ba20e9e",
   "metadata": {
    "heading_collapsed": true
   },
   "source": [
    "# Data Collection"
   ]
  },
  {
   "cell_type": "code",
   "execution_count": 4,
   "id": "41805473",
   "metadata": {
    "ExecuteTime": {
     "end_time": "2022-07-30T17:00:15.141734Z",
     "start_time": "2022-07-30T17:00:13.934336Z"
    },
    "hidden": true
   },
   "outputs": [],
   "source": [
    "#read data\n",
    "df_raw = pd.read_csv('../data/raw/Ecommerce.csv', encoding='unicode_escape')"
   ]
  },
  {
   "cell_type": "code",
   "execution_count": 5,
   "id": "77213542",
   "metadata": {
    "ExecuteTime": {
     "end_time": "2022-07-30T17:00:17.207162Z",
     "start_time": "2022-07-30T17:00:17.160221Z"
    },
    "hidden": true
   },
   "outputs": [
    {
     "data": {
      "text/html": [
       "<div>\n",
       "<style scoped>\n",
       "    .dataframe tbody tr th:only-of-type {\n",
       "        vertical-align: middle;\n",
       "    }\n",
       "\n",
       "    .dataframe tbody tr th {\n",
       "        vertical-align: top;\n",
       "    }\n",
       "\n",
       "    .dataframe thead th {\n",
       "        text-align: right;\n",
       "    }\n",
       "</style>\n",
       "<table border=\"1\" class=\"dataframe\">\n",
       "  <thead>\n",
       "    <tr style=\"text-align: right;\">\n",
       "      <th></th>\n",
       "      <th>InvoiceNo</th>\n",
       "      <th>StockCode</th>\n",
       "      <th>Description</th>\n",
       "      <th>Quantity</th>\n",
       "      <th>InvoiceDate</th>\n",
       "      <th>UnitPrice</th>\n",
       "      <th>CustomerID</th>\n",
       "      <th>Country</th>\n",
       "      <th>Unnamed: 8</th>\n",
       "    </tr>\n",
       "  </thead>\n",
       "  <tbody>\n",
       "    <tr>\n",
       "      <th>0</th>\n",
       "      <td>536365</td>\n",
       "      <td>85123A</td>\n",
       "      <td>WHITE HANGING HEART T-LIGHT HOLDER</td>\n",
       "      <td>6</td>\n",
       "      <td>29-Nov-16</td>\n",
       "      <td>2.55</td>\n",
       "      <td>17850.0</td>\n",
       "      <td>United Kingdom</td>\n",
       "      <td>NaN</td>\n",
       "    </tr>\n",
       "    <tr>\n",
       "      <th>1</th>\n",
       "      <td>536365</td>\n",
       "      <td>71053</td>\n",
       "      <td>WHITE METAL LANTERN</td>\n",
       "      <td>6</td>\n",
       "      <td>29-Nov-16</td>\n",
       "      <td>3.39</td>\n",
       "      <td>17850.0</td>\n",
       "      <td>United Kingdom</td>\n",
       "      <td>NaN</td>\n",
       "    </tr>\n",
       "    <tr>\n",
       "      <th>2</th>\n",
       "      <td>536365</td>\n",
       "      <td>84406B</td>\n",
       "      <td>CREAM CUPID HEARTS COAT HANGER</td>\n",
       "      <td>8</td>\n",
       "      <td>29-Nov-16</td>\n",
       "      <td>2.75</td>\n",
       "      <td>17850.0</td>\n",
       "      <td>United Kingdom</td>\n",
       "      <td>NaN</td>\n",
       "    </tr>\n",
       "    <tr>\n",
       "      <th>3</th>\n",
       "      <td>536365</td>\n",
       "      <td>84029G</td>\n",
       "      <td>KNITTED UNION FLAG HOT WATER BOTTLE</td>\n",
       "      <td>6</td>\n",
       "      <td>29-Nov-16</td>\n",
       "      <td>3.39</td>\n",
       "      <td>17850.0</td>\n",
       "      <td>United Kingdom</td>\n",
       "      <td>NaN</td>\n",
       "    </tr>\n",
       "    <tr>\n",
       "      <th>4</th>\n",
       "      <td>536365</td>\n",
       "      <td>84029E</td>\n",
       "      <td>RED WOOLLY HOTTIE WHITE HEART.</td>\n",
       "      <td>6</td>\n",
       "      <td>29-Nov-16</td>\n",
       "      <td>3.39</td>\n",
       "      <td>17850.0</td>\n",
       "      <td>United Kingdom</td>\n",
       "      <td>NaN</td>\n",
       "    </tr>\n",
       "  </tbody>\n",
       "</table>\n",
       "</div>"
      ],
      "text/plain": [
       "  InvoiceNo StockCode                          Description  Quantity InvoiceDate  UnitPrice  CustomerID         Country  Unnamed: 8\n",
       "0    536365    85123A   WHITE HANGING HEART T-LIGHT HOLDER         6   29-Nov-16       2.55     17850.0  United Kingdom         NaN\n",
       "1    536365     71053                  WHITE METAL LANTERN         6   29-Nov-16       3.39     17850.0  United Kingdom         NaN\n",
       "2    536365    84406B       CREAM CUPID HEARTS COAT HANGER         8   29-Nov-16       2.75     17850.0  United Kingdom         NaN\n",
       "3    536365    84029G  KNITTED UNION FLAG HOT WATER BOTTLE         6   29-Nov-16       3.39     17850.0  United Kingdom         NaN\n",
       "4    536365    84029E       RED WOOLLY HOTTIE WHITE HEART.         6   29-Nov-16       3.39     17850.0  United Kingdom         NaN"
      ]
     },
     "execution_count": 5,
     "metadata": {},
     "output_type": "execute_result"
    }
   ],
   "source": [
    "df_raw.head()"
   ]
  },
  {
   "cell_type": "code",
   "execution_count": 6,
   "id": "fcc67daf",
   "metadata": {
    "ExecuteTime": {
     "end_time": "2022-07-30T17:00:17.500721Z",
     "start_time": "2022-07-30T17:00:17.351322Z"
    },
    "hidden": true
   },
   "outputs": [
    {
     "data": {
      "text/html": [
       "<div>\n",
       "<style scoped>\n",
       "    .dataframe tbody tr th:only-of-type {\n",
       "        vertical-align: middle;\n",
       "    }\n",
       "\n",
       "    .dataframe tbody tr th {\n",
       "        vertical-align: top;\n",
       "    }\n",
       "\n",
       "    .dataframe thead th {\n",
       "        text-align: right;\n",
       "    }\n",
       "</style>\n",
       "<table border=\"1\" class=\"dataframe\">\n",
       "  <thead>\n",
       "    <tr style=\"text-align: right;\">\n",
       "      <th></th>\n",
       "      <th>InvoiceNo</th>\n",
       "      <th>StockCode</th>\n",
       "      <th>Description</th>\n",
       "      <th>Quantity</th>\n",
       "      <th>InvoiceDate</th>\n",
       "      <th>UnitPrice</th>\n",
       "      <th>CustomerID</th>\n",
       "      <th>Country</th>\n",
       "    </tr>\n",
       "  </thead>\n",
       "  <tbody>\n",
       "    <tr>\n",
       "      <th>271891</th>\n",
       "      <td>560723</td>\n",
       "      <td>21933</td>\n",
       "      <td>PINK VINTAGE PAISLEY PICNIC BAG</td>\n",
       "      <td>2</td>\n",
       "      <td>18-Jul-17</td>\n",
       "      <td>1.65</td>\n",
       "      <td>16464.0</td>\n",
       "      <td>United Kingdom</td>\n",
       "    </tr>\n",
       "    <tr>\n",
       "      <th>329611</th>\n",
       "      <td>565847</td>\n",
       "      <td>82494l</td>\n",
       "      <td>WOODEN FRAME ANTIQUE WHITE</td>\n",
       "      <td>3</td>\n",
       "      <td>5-Sep-17</td>\n",
       "      <td>8.29</td>\n",
       "      <td>NaN</td>\n",
       "      <td>United Kingdom</td>\n",
       "    </tr>\n",
       "    <tr>\n",
       "      <th>42305</th>\n",
       "      <td>539981</td>\n",
       "      <td>22196</td>\n",
       "      <td>SMALL HEART MEASURING SPOONS</td>\n",
       "      <td>12</td>\n",
       "      <td>21-Dec-16</td>\n",
       "      <td>0.85</td>\n",
       "      <td>13304.0</td>\n",
       "      <td>United Kingdom</td>\n",
       "    </tr>\n",
       "  </tbody>\n",
       "</table>\n",
       "</div>"
      ],
      "text/plain": [
       "       InvoiceNo StockCode                      Description  Quantity InvoiceDate  UnitPrice  CustomerID         Country\n",
       "271891    560723     21933  PINK VINTAGE PAISLEY PICNIC BAG         2   18-Jul-17       1.65     16464.0  United Kingdom\n",
       "329611    565847    82494l      WOODEN FRAME ANTIQUE WHITE          3    5-Sep-17       8.29         NaN  United Kingdom\n",
       "42305     539981     22196     SMALL HEART MEASURING SPOONS        12   21-Dec-16       0.85     13304.0  United Kingdom"
      ]
     },
     "execution_count": 6,
     "metadata": {},
     "output_type": "execute_result"
    }
   ],
   "source": [
    "df_raw = df_raw.drop('Unnamed: 8', axis=1).copy()\n",
    "df_raw.sample(3)"
   ]
  },
  {
   "cell_type": "markdown",
   "id": "a6c46880",
   "metadata": {
    "ExecuteTime": {
     "end_time": "2022-07-20T15:55:51.244105Z",
     "start_time": "2022-07-20T15:55:51.239421Z"
    },
    "heading_collapsed": true
   },
   "source": [
    "# Data Description"
   ]
  },
  {
   "cell_type": "code",
   "execution_count": 7,
   "id": "bd7cde91",
   "metadata": {
    "ExecuteTime": {
     "end_time": "2022-07-30T17:00:17.623847Z",
     "start_time": "2022-07-30T17:00:17.593651Z"
    },
    "hidden": true
   },
   "outputs": [],
   "source": [
    "df1 = df_raw.copy()"
   ]
  },
  {
   "cell_type": "markdown",
   "id": "e6da193c",
   "metadata": {
    "heading_collapsed": true,
    "hidden": true
   },
   "source": [
    "## Rename Columns"
   ]
  },
  {
   "cell_type": "code",
   "execution_count": 8,
   "id": "2b99ad07",
   "metadata": {
    "ExecuteTime": {
     "end_time": "2022-07-30T17:00:17.929538Z",
     "start_time": "2022-07-30T17:00:17.871744Z"
    },
    "hidden": true
   },
   "outputs": [
    {
     "data": {
      "text/html": [
       "<div>\n",
       "<style scoped>\n",
       "    .dataframe tbody tr th:only-of-type {\n",
       "        vertical-align: middle;\n",
       "    }\n",
       "\n",
       "    .dataframe tbody tr th {\n",
       "        vertical-align: top;\n",
       "    }\n",
       "\n",
       "    .dataframe thead th {\n",
       "        text-align: right;\n",
       "    }\n",
       "</style>\n",
       "<table border=\"1\" class=\"dataframe\">\n",
       "  <thead>\n",
       "    <tr style=\"text-align: right;\">\n",
       "      <th></th>\n",
       "      <th>InvoiceNo</th>\n",
       "      <th>StockCode</th>\n",
       "      <th>Description</th>\n",
       "      <th>Quantity</th>\n",
       "      <th>InvoiceDate</th>\n",
       "      <th>UnitPrice</th>\n",
       "      <th>CustomerID</th>\n",
       "      <th>Country</th>\n",
       "    </tr>\n",
       "  </thead>\n",
       "  <tbody>\n",
       "    <tr>\n",
       "      <th>398351</th>\n",
       "      <td>571239</td>\n",
       "      <td>22689</td>\n",
       "      <td>DOORMAT MERRY CHRISTMAS RED</td>\n",
       "      <td>10</td>\n",
       "      <td>12-Oct-17</td>\n",
       "      <td>7.08</td>\n",
       "      <td>12744.0</td>\n",
       "      <td>Singapore</td>\n",
       "    </tr>\n",
       "    <tr>\n",
       "      <th>115954</th>\n",
       "      <td>546165</td>\n",
       "      <td>22499</td>\n",
       "      <td>WOODEN UNION JACK BUNTING</td>\n",
       "      <td>3</td>\n",
       "      <td>8-Mar-17</td>\n",
       "      <td>5.95</td>\n",
       "      <td>18183.0</td>\n",
       "      <td>United Kingdom</td>\n",
       "    </tr>\n",
       "    <tr>\n",
       "      <th>465063</th>\n",
       "      <td>576202</td>\n",
       "      <td>21314</td>\n",
       "      <td>SMALL GLASS HEART TRINKET POT</td>\n",
       "      <td>48</td>\n",
       "      <td>12-Nov-17</td>\n",
       "      <td>1.85</td>\n",
       "      <td>13767.0</td>\n",
       "      <td>United Kingdom</td>\n",
       "    </tr>\n",
       "  </tbody>\n",
       "</table>\n",
       "</div>"
      ],
      "text/plain": [
       "       InvoiceNo StockCode                    Description  Quantity InvoiceDate  UnitPrice  CustomerID         Country\n",
       "398351    571239     22689   DOORMAT MERRY CHRISTMAS RED         10   12-Oct-17       7.08     12744.0       Singapore\n",
       "115954    546165     22499      WOODEN UNION JACK BUNTING         3    8-Mar-17       5.95     18183.0  United Kingdom\n",
       "465063    576202     21314  SMALL GLASS HEART TRINKET POT        48   12-Nov-17       1.85     13767.0  United Kingdom"
      ]
     },
     "execution_count": 8,
     "metadata": {},
     "output_type": "execute_result"
    }
   ],
   "source": [
    "df1.sample(3)"
   ]
  },
  {
   "cell_type": "code",
   "execution_count": 9,
   "id": "09d1f8f6",
   "metadata": {
    "ExecuteTime": {
     "end_time": "2022-07-30T17:00:18.034709Z",
     "start_time": "2022-07-30T17:00:18.025440Z"
    },
    "hidden": true
   },
   "outputs": [
    {
     "data": {
      "text/plain": [
       "Index(['InvoiceNo', 'StockCode', 'Description', 'Quantity', 'InvoiceDate',\n",
       "       'UnitPrice', 'CustomerID', 'Country'],\n",
       "      dtype='object')"
      ]
     },
     "execution_count": 9,
     "metadata": {},
     "output_type": "execute_result"
    }
   ],
   "source": [
    "df1.columns"
   ]
  },
  {
   "cell_type": "code",
   "execution_count": 10,
   "id": "0850ceab",
   "metadata": {
    "ExecuteTime": {
     "end_time": "2022-07-30T17:00:18.199078Z",
     "start_time": "2022-07-30T17:00:18.190395Z"
    },
    "hidden": true
   },
   "outputs": [],
   "source": [
    "df1.columns = ['invoice_no', 'stock_code', 'description', 'quantity', 'invoice_date',\n",
    "       'unit_price', 'customer_id', 'country']"
   ]
  },
  {
   "cell_type": "markdown",
   "id": "eed7bf84",
   "metadata": {
    "heading_collapsed": true,
    "hidden": true
   },
   "source": [
    "## Feature Description "
   ]
  },
  {
   "cell_type": "code",
   "execution_count": 11,
   "id": "e7b46e03",
   "metadata": {
    "ExecuteTime": {
     "end_time": "2022-07-30T17:00:18.867900Z",
     "start_time": "2022-07-30T17:00:18.856734Z"
    },
    "hidden": true,
    "scrolled": true
   },
   "outputs": [
    {
     "name": "stdout",
     "output_type": "stream",
     "text": [
      "Columns       Meaning\n",
      "------------  -----------------------------------------------\n",
      "invoice_no    unique identifier of each transaction\n",
      "stock_code    item code\n",
      "description   item name\n",
      "quantity      quantity of each item purchased per transaction\n",
      "invoice_date  the day the transaction took place\n",
      "unit_price    product price per unit\n",
      "customer_id   unique customer identifier\n",
      "country       customer's country of residence\n"
     ]
    }
   ],
   "source": [
    "# Explain feature meanings\n",
    "tab_meanings = [['Columns', 'Meaning'],\n",
    "        ['invoice_no', 'unique identifier of each transaction'],\n",
    "        ['stock_code', 'item code'],\n",
    "        ['description', 'item name'],\n",
    "        ['quantity', 'quantity of each item purchased per transaction'],\n",
    "        ['invoice_date', 'the day the transaction took place'],\n",
    "        ['unit_price', 'product price per unit'],\n",
    "        ['customer_id', 'unique customer identifier'],\n",
    "        ['country', 'customer\\'s country of residence']\n",
    "      ]\n",
    "print(tabulate(tab_meanings, headers='firstrow', stralign='left', tablefmt='simple'))"
   ]
  },
  {
   "cell_type": "code",
   "execution_count": 12,
   "id": "fec30a18",
   "metadata": {
    "ExecuteTime": {
     "end_time": "2022-07-30T17:00:19.083185Z",
     "start_time": "2022-07-30T17:00:19.035859Z"
    },
    "hidden": true
   },
   "outputs": [
    {
     "data": {
      "text/html": [
       "<div>\n",
       "<style scoped>\n",
       "    .dataframe tbody tr th:only-of-type {\n",
       "        vertical-align: middle;\n",
       "    }\n",
       "\n",
       "    .dataframe tbody tr th {\n",
       "        vertical-align: top;\n",
       "    }\n",
       "\n",
       "    .dataframe thead th {\n",
       "        text-align: right;\n",
       "    }\n",
       "</style>\n",
       "<table border=\"1\" class=\"dataframe\">\n",
       "  <thead>\n",
       "    <tr style=\"text-align: right;\">\n",
       "      <th></th>\n",
       "      <th>invoice_no</th>\n",
       "      <th>stock_code</th>\n",
       "      <th>description</th>\n",
       "      <th>quantity</th>\n",
       "      <th>invoice_date</th>\n",
       "      <th>unit_price</th>\n",
       "      <th>customer_id</th>\n",
       "      <th>country</th>\n",
       "    </tr>\n",
       "  </thead>\n",
       "  <tbody>\n",
       "    <tr>\n",
       "      <th>277654</th>\n",
       "      <td>561128</td>\n",
       "      <td>23061</td>\n",
       "      <td>VINTAGE EMBOSSED HEART</td>\n",
       "      <td>24</td>\n",
       "      <td>23-Jul-17</td>\n",
       "      <td>1.25</td>\n",
       "      <td>16249.0</td>\n",
       "      <td>United Kingdom</td>\n",
       "    </tr>\n",
       "    <tr>\n",
       "      <th>145334</th>\n",
       "      <td>548893</td>\n",
       "      <td>21507</td>\n",
       "      <td>ELEPHANT, BIRTHDAY CARD,</td>\n",
       "      <td>1</td>\n",
       "      <td>2-Apr-17</td>\n",
       "      <td>0.83</td>\n",
       "      <td>NaN</td>\n",
       "      <td>United Kingdom</td>\n",
       "    </tr>\n",
       "    <tr>\n",
       "      <th>434393</th>\n",
       "      <td>574043</td>\n",
       "      <td>23202</td>\n",
       "      <td>JUMBO BAG VINTAGE LEAF</td>\n",
       "      <td>5</td>\n",
       "      <td>31-Oct-17</td>\n",
       "      <td>2.08</td>\n",
       "      <td>16367.0</td>\n",
       "      <td>United Kingdom</td>\n",
       "    </tr>\n",
       "  </tbody>\n",
       "</table>\n",
       "</div>"
      ],
      "text/plain": [
       "       invoice_no stock_code                description  quantity invoice_date  unit_price  customer_id         country\n",
       "277654     561128      23061     VINTAGE EMBOSSED HEART        24    23-Jul-17        1.25      16249.0  United Kingdom\n",
       "145334     548893      21507  ELEPHANT, BIRTHDAY CARD,          1     2-Apr-17        0.83          NaN  United Kingdom\n",
       "434393     574043      23202     JUMBO BAG VINTAGE LEAF         5    31-Oct-17        2.08      16367.0  United Kingdom"
      ]
     },
     "execution_count": 12,
     "metadata": {},
     "output_type": "execute_result"
    }
   ],
   "source": [
    "df1.sample(3)"
   ]
  },
  {
   "cell_type": "markdown",
   "id": "63fe798c",
   "metadata": {
    "heading_collapsed": true,
    "hidden": true
   },
   "source": [
    "## Data Dimensions"
   ]
  },
  {
   "cell_type": "code",
   "execution_count": 22,
   "id": "0f709bde",
   "metadata": {
    "ExecuteTime": {
     "end_time": "2022-07-30T17:00:42.989520Z",
     "start_time": "2022-07-30T17:00:42.981150Z"
    },
    "hidden": true
   },
   "outputs": [
    {
     "name": "stdout",
     "output_type": "stream",
     "text": [
      "Number of rows: 406829\n",
      "Number of columns: 8\n"
     ]
    }
   ],
   "source": [
    "print(f'Number of rows: {df1.shape[0]}')\n",
    "print(f'Number of columns: {df1.shape[1]}')"
   ]
  },
  {
   "cell_type": "code",
   "execution_count": 23,
   "id": "a5883742",
   "metadata": {
    "ExecuteTime": {
     "end_time": "2022-07-30T17:00:43.912634Z",
     "start_time": "2022-07-30T17:00:43.505129Z"
    },
    "hidden": true
   },
   "outputs": [
    {
     "name": "stdout",
     "output_type": "stream",
     "text": [
      "<class 'pandas.core.frame.DataFrame'>\n",
      "RangeIndex: 406829 entries, 0 to 406828\n",
      "Data columns (total 8 columns):\n",
      " #   Column        Non-Null Count   Dtype  \n",
      "---  ------        --------------   -----  \n",
      " 0   invoice_no    406829 non-null  object \n",
      " 1   stock_code    406829 non-null  object \n",
      " 2   description   406829 non-null  object \n",
      " 3   quantity      406829 non-null  int64  \n",
      " 4   invoice_date  406829 non-null  object \n",
      " 5   unit_price    406829 non-null  float64\n",
      " 6   customer_id   406829 non-null  float64\n",
      " 7   country       406829 non-null  object \n",
      "dtypes: float64(2), int64(1), object(5)\n",
      "memory usage: 24.8+ MB\n"
     ]
    }
   ],
   "source": [
    "df1.info()"
   ]
  },
  {
   "cell_type": "markdown",
   "id": "5102fd78",
   "metadata": {
    "heading_collapsed": true,
    "hidden": true
   },
   "source": [
    "## Check NA"
   ]
  },
  {
   "cell_type": "code",
   "execution_count": 24,
   "id": "582d6bd2",
   "metadata": {
    "ExecuteTime": {
     "end_time": "2022-07-30T17:00:44.664639Z",
     "start_time": "2022-07-30T17:00:44.213473Z"
    },
    "hidden": true
   },
   "outputs": [
    {
     "data": {
      "text/plain": [
       "invoice_no      0\n",
       "stock_code      0\n",
       "description     0\n",
       "quantity        0\n",
       "invoice_date    0\n",
       "unit_price      0\n",
       "customer_id     0\n",
       "country         0\n",
       "dtype: int64"
      ]
     },
     "execution_count": 24,
     "metadata": {},
     "output_type": "execute_result"
    }
   ],
   "source": [
    "df1.isna().sum()"
   ]
  },
  {
   "cell_type": "markdown",
   "id": "e7dcb25c",
   "metadata": {
    "heading_collapsed": true,
    "hidden": true
   },
   "source": [
    "## Replace NA"
   ]
  },
  {
   "cell_type": "code",
   "execution_count": 25,
   "id": "042a7ec1",
   "metadata": {
    "ExecuteTime": {
     "end_time": "2022-07-30T17:00:44.967763Z",
     "start_time": "2022-07-30T17:00:44.791683Z"
    },
    "hidden": true
   },
   "outputs": [],
   "source": [
    "#remove rows with NA\n",
    "df1 = df1.dropna( subset=['description','customer_id'] )"
   ]
  },
  {
   "cell_type": "code",
   "execution_count": 26,
   "id": "7f6d63a2",
   "metadata": {
    "ExecuteTime": {
     "end_time": "2022-07-30T17:00:45.054358Z",
     "start_time": "2022-07-30T17:00:45.044592Z"
    },
    "hidden": true
   },
   "outputs": [
    {
     "name": "stdout",
     "output_type": "stream",
     "text": [
      "Removed data: 0.25%\n"
     ]
    }
   ],
   "source": [
    "print (f'Removed data: { 1-(df1.shape[0] / df_raw.shape[0]):.2f}%')"
   ]
  },
  {
   "cell_type": "code",
   "execution_count": 27,
   "id": "88382435",
   "metadata": {
    "ExecuteTime": {
     "end_time": "2022-07-30T17:00:45.346720Z",
     "start_time": "2022-07-30T17:00:45.324128Z"
    },
    "hidden": true
   },
   "outputs": [
    {
     "data": {
      "text/html": [
       "<div>\n",
       "<style scoped>\n",
       "    .dataframe tbody tr th:only-of-type {\n",
       "        vertical-align: middle;\n",
       "    }\n",
       "\n",
       "    .dataframe tbody tr th {\n",
       "        vertical-align: top;\n",
       "    }\n",
       "\n",
       "    .dataframe thead th {\n",
       "        text-align: right;\n",
       "    }\n",
       "</style>\n",
       "<table border=\"1\" class=\"dataframe\">\n",
       "  <thead>\n",
       "    <tr style=\"text-align: right;\">\n",
       "      <th></th>\n",
       "      <th>invoice_no</th>\n",
       "      <th>stock_code</th>\n",
       "      <th>description</th>\n",
       "      <th>quantity</th>\n",
       "      <th>invoice_date</th>\n",
       "      <th>unit_price</th>\n",
       "      <th>customer_id</th>\n",
       "      <th>country</th>\n",
       "    </tr>\n",
       "  </thead>\n",
       "  <tbody>\n",
       "    <tr>\n",
       "      <th>406824</th>\n",
       "      <td>581587</td>\n",
       "      <td>22613</td>\n",
       "      <td>PACK OF 20 SPACEBOY NAPKINS</td>\n",
       "      <td>12</td>\n",
       "      <td>7-Dec-17</td>\n",
       "      <td>0.85</td>\n",
       "      <td>12680.0</td>\n",
       "      <td>France</td>\n",
       "    </tr>\n",
       "    <tr>\n",
       "      <th>406825</th>\n",
       "      <td>581587</td>\n",
       "      <td>22899</td>\n",
       "      <td>CHILDREN'S APRON DOLLY GIRL</td>\n",
       "      <td>6</td>\n",
       "      <td>7-Dec-17</td>\n",
       "      <td>2.10</td>\n",
       "      <td>12680.0</td>\n",
       "      <td>France</td>\n",
       "    </tr>\n",
       "    <tr>\n",
       "      <th>406826</th>\n",
       "      <td>581587</td>\n",
       "      <td>23254</td>\n",
       "      <td>CHILDRENS CUTLERY DOLLY GIRL</td>\n",
       "      <td>4</td>\n",
       "      <td>7-Dec-17</td>\n",
       "      <td>4.15</td>\n",
       "      <td>12680.0</td>\n",
       "      <td>France</td>\n",
       "    </tr>\n",
       "    <tr>\n",
       "      <th>406827</th>\n",
       "      <td>581587</td>\n",
       "      <td>23255</td>\n",
       "      <td>CHILDRENS CUTLERY CIRCUS PARADE</td>\n",
       "      <td>4</td>\n",
       "      <td>7-Dec-17</td>\n",
       "      <td>4.15</td>\n",
       "      <td>12680.0</td>\n",
       "      <td>France</td>\n",
       "    </tr>\n",
       "    <tr>\n",
       "      <th>406828</th>\n",
       "      <td>581587</td>\n",
       "      <td>22138</td>\n",
       "      <td>BAKING SET 9 PIECE RETROSPOT</td>\n",
       "      <td>3</td>\n",
       "      <td>7-Dec-17</td>\n",
       "      <td>4.95</td>\n",
       "      <td>12680.0</td>\n",
       "      <td>France</td>\n",
       "    </tr>\n",
       "  </tbody>\n",
       "</table>\n",
       "</div>"
      ],
      "text/plain": [
       "       invoice_no stock_code                      description  quantity invoice_date  unit_price  customer_id country\n",
       "406824     581587      22613      PACK OF 20 SPACEBOY NAPKINS        12     7-Dec-17        0.85      12680.0  France\n",
       "406825     581587      22899     CHILDREN'S APRON DOLLY GIRL          6     7-Dec-17        2.10      12680.0  France\n",
       "406826     581587      23254    CHILDRENS CUTLERY DOLLY GIRL          4     7-Dec-17        4.15      12680.0  France\n",
       "406827     581587      23255  CHILDRENS CUTLERY CIRCUS PARADE         4     7-Dec-17        4.15      12680.0  France\n",
       "406828     581587      22138    BAKING SET 9 PIECE RETROSPOT          3     7-Dec-17        4.95      12680.0  France"
      ]
     },
     "execution_count": 27,
     "metadata": {},
     "output_type": "execute_result"
    }
   ],
   "source": [
    "df1.tail()"
   ]
  },
  {
   "cell_type": "code",
   "execution_count": 28,
   "id": "23fd7839",
   "metadata": {
    "ExecuteTime": {
     "end_time": "2022-07-30T17:00:45.610169Z",
     "start_time": "2022-07-30T17:00:45.588394Z"
    },
    "hidden": true
   },
   "outputs": [],
   "source": [
    "#reset index\n",
    "df1 = df1.reset_index(drop=True)"
   ]
  },
  {
   "cell_type": "code",
   "execution_count": 29,
   "id": "b424bfc1",
   "metadata": {
    "ExecuteTime": {
     "end_time": "2022-07-30T17:00:45.847969Z",
     "start_time": "2022-07-30T17:00:45.841708Z"
    },
    "hidden": true
   },
   "outputs": [
    {
     "data": {
      "text/plain": [
       "(406829, 8)"
      ]
     },
     "execution_count": 29,
     "metadata": {},
     "output_type": "execute_result"
    }
   ],
   "source": [
    "#new num of rows\n",
    "df1.shape"
   ]
  },
  {
   "cell_type": "code",
   "execution_count": 30,
   "id": "c173d82c",
   "metadata": {
    "ExecuteTime": {
     "end_time": "2022-07-30T17:00:46.706407Z",
     "start_time": "2022-07-30T17:00:46.229825Z"
    },
    "hidden": true
   },
   "outputs": [
    {
     "data": {
      "text/plain": [
       "invoice_no      0\n",
       "stock_code      0\n",
       "description     0\n",
       "quantity        0\n",
       "invoice_date    0\n",
       "unit_price      0\n",
       "customer_id     0\n",
       "country         0\n",
       "dtype: int64"
      ]
     },
     "execution_count": 30,
     "metadata": {},
     "output_type": "execute_result"
    }
   ],
   "source": [
    "#check\n",
    "df1.isna().sum()"
   ]
  },
  {
   "cell_type": "markdown",
   "id": "c11f139f",
   "metadata": {
    "heading_collapsed": true,
    "hidden": true
   },
   "source": [
    "## Change Types"
   ]
  },
  {
   "cell_type": "code",
   "execution_count": 31,
   "id": "12007e71",
   "metadata": {
    "ExecuteTime": {
     "end_time": "2022-07-30T17:00:47.221150Z",
     "start_time": "2022-07-30T17:00:47.215070Z"
    },
    "hidden": true
   },
   "outputs": [],
   "source": [
    "#correct data types ensure correct calculations using the columns on next sessions"
   ]
  },
  {
   "cell_type": "code",
   "execution_count": 32,
   "id": "1aaa482b",
   "metadata": {
    "ExecuteTime": {
     "end_time": "2022-07-30T17:00:47.601762Z",
     "start_time": "2022-07-30T17:00:47.588122Z"
    },
    "hidden": true,
    "scrolled": true
   },
   "outputs": [
    {
     "data": {
      "text/plain": [
       "invoice_no       object\n",
       "stock_code       object\n",
       "description      object\n",
       "quantity          int64\n",
       "invoice_date     object\n",
       "unit_price      float64\n",
       "customer_id     float64\n",
       "country          object\n",
       "dtype: object"
      ]
     },
     "execution_count": 32,
     "metadata": {},
     "output_type": "execute_result"
    }
   ],
   "source": [
    "df1.dtypes"
   ]
  },
  {
   "cell_type": "code",
   "execution_count": 33,
   "id": "ebaed9b9",
   "metadata": {
    "ExecuteTime": {
     "end_time": "2022-07-30T17:00:47.982646Z",
     "start_time": "2022-07-30T17:00:47.943067Z"
    },
    "hidden": true
   },
   "outputs": [
    {
     "data": {
      "text/html": [
       "<div>\n",
       "<style scoped>\n",
       "    .dataframe tbody tr th:only-of-type {\n",
       "        vertical-align: middle;\n",
       "    }\n",
       "\n",
       "    .dataframe tbody tr th {\n",
       "        vertical-align: top;\n",
       "    }\n",
       "\n",
       "    .dataframe thead th {\n",
       "        text-align: right;\n",
       "    }\n",
       "</style>\n",
       "<table border=\"1\" class=\"dataframe\">\n",
       "  <thead>\n",
       "    <tr style=\"text-align: right;\">\n",
       "      <th></th>\n",
       "      <th>invoice_no</th>\n",
       "      <th>stock_code</th>\n",
       "      <th>description</th>\n",
       "      <th>quantity</th>\n",
       "      <th>invoice_date</th>\n",
       "      <th>unit_price</th>\n",
       "      <th>customer_id</th>\n",
       "      <th>country</th>\n",
       "    </tr>\n",
       "  </thead>\n",
       "  <tbody>\n",
       "    <tr>\n",
       "      <th>311925</th>\n",
       "      <td>572658</td>\n",
       "      <td>21636</td>\n",
       "      <td>MADRAS NOTEBOOK MEDIUM</td>\n",
       "      <td>12</td>\n",
       "      <td>23-Oct-17</td>\n",
       "      <td>0.75</td>\n",
       "      <td>17690.0</td>\n",
       "      <td>United Kingdom</td>\n",
       "    </tr>\n",
       "    <tr>\n",
       "      <th>298564</th>\n",
       "      <td>571434</td>\n",
       "      <td>22579</td>\n",
       "      <td>WOODEN TREE CHRISTMAS SCANDINAVIAN</td>\n",
       "      <td>15</td>\n",
       "      <td>15-Oct-17</td>\n",
       "      <td>0.29</td>\n",
       "      <td>13069.0</td>\n",
       "      <td>United Kingdom</td>\n",
       "    </tr>\n",
       "    <tr>\n",
       "      <th>160439</th>\n",
       "      <td>556503</td>\n",
       "      <td>16161U</td>\n",
       "      <td>WRAP SUKI AND FRIENDS</td>\n",
       "      <td>25</td>\n",
       "      <td>11-Jun-17</td>\n",
       "      <td>0.42</td>\n",
       "      <td>13517.0</td>\n",
       "      <td>United Kingdom</td>\n",
       "    </tr>\n",
       "  </tbody>\n",
       "</table>\n",
       "</div>"
      ],
      "text/plain": [
       "       invoice_no stock_code                         description  quantity invoice_date  unit_price  customer_id         country\n",
       "311925     572658      21636              MADRAS NOTEBOOK MEDIUM        12    23-Oct-17        0.75      17690.0  United Kingdom\n",
       "298564     571434      22579  WOODEN TREE CHRISTMAS SCANDINAVIAN        15    15-Oct-17        0.29      13069.0  United Kingdom\n",
       "160439     556503     16161U               WRAP SUKI AND FRIENDS        25    11-Jun-17        0.42      13517.0  United Kingdom"
      ]
     },
     "execution_count": 33,
     "metadata": {},
     "output_type": "execute_result"
    }
   ],
   "source": [
    "df1.sample(3)"
   ]
  },
  {
   "cell_type": "code",
   "execution_count": 34,
   "id": "ed266645",
   "metadata": {
    "ExecuteTime": {
     "end_time": "2022-07-30T17:00:48.345958Z",
     "start_time": "2022-07-30T17:00:48.226366Z"
    },
    "hidden": true
   },
   "outputs": [],
   "source": [
    "#invoice_date\n",
    "df1['invoice_date'] = pd.to_datetime(df1['invoice_date'], format='%d-%b-%y')"
   ]
  },
  {
   "cell_type": "code",
   "execution_count": 35,
   "id": "48b76240",
   "metadata": {
    "ExecuteTime": {
     "end_time": "2022-07-30T17:00:48.675116Z",
     "start_time": "2022-07-30T17:00:48.663073Z"
    },
    "hidden": true
   },
   "outputs": [],
   "source": [
    "#customer_id\n",
    "df1['customer_id'] = df1['customer_id'].astype(int)"
   ]
  },
  {
   "cell_type": "code",
   "execution_count": 36,
   "id": "1084dde9",
   "metadata": {
    "ExecuteTime": {
     "end_time": "2022-07-30T17:00:51.461625Z",
     "start_time": "2022-07-30T17:00:51.455700Z"
    },
    "hidden": true
   },
   "outputs": [],
   "source": [
    "# invoice_no\n",
    "#df1['invoice_no'] = df1['invoice_no'].astype(int)\n",
    "#there are letters on invoice, so let it like object(string). Ex: 'C536379', 'C554197'"
   ]
  },
  {
   "cell_type": "code",
   "execution_count": 37,
   "id": "174bdf5e",
   "metadata": {
    "ExecuteTime": {
     "end_time": "2022-07-30T17:00:51.697807Z",
     "start_time": "2022-07-30T17:00:51.693921Z"
    },
    "hidden": true
   },
   "outputs": [],
   "source": [
    "# stock_code\n",
    "#df1['stock_code'] = df1['stock_code'].astype(int)\n",
    "#there are letters on stock_code, so let it like object(string). Ex: '85123A', '84406B'"
   ]
  },
  {
   "cell_type": "code",
   "execution_count": 38,
   "id": "830e0230",
   "metadata": {
    "ExecuteTime": {
     "end_time": "2022-07-30T17:00:51.956133Z",
     "start_time": "2022-07-30T17:00:51.908578Z"
    },
    "hidden": true
   },
   "outputs": [
    {
     "data": {
      "text/html": [
       "<div>\n",
       "<style scoped>\n",
       "    .dataframe tbody tr th:only-of-type {\n",
       "        vertical-align: middle;\n",
       "    }\n",
       "\n",
       "    .dataframe tbody tr th {\n",
       "        vertical-align: top;\n",
       "    }\n",
       "\n",
       "    .dataframe thead th {\n",
       "        text-align: right;\n",
       "    }\n",
       "</style>\n",
       "<table border=\"1\" class=\"dataframe\">\n",
       "  <thead>\n",
       "    <tr style=\"text-align: right;\">\n",
       "      <th></th>\n",
       "      <th>invoice_no</th>\n",
       "      <th>stock_code</th>\n",
       "      <th>description</th>\n",
       "      <th>quantity</th>\n",
       "      <th>invoice_date</th>\n",
       "      <th>unit_price</th>\n",
       "      <th>customer_id</th>\n",
       "      <th>country</th>\n",
       "    </tr>\n",
       "  </thead>\n",
       "  <tbody>\n",
       "    <tr>\n",
       "      <th>5128</th>\n",
       "      <td>537036</td>\n",
       "      <td>85135C</td>\n",
       "      <td>RED DRAGONFLY HELICOPTER</td>\n",
       "      <td>1</td>\n",
       "      <td>2016-12-01</td>\n",
       "      <td>7.95</td>\n",
       "      <td>15545</td>\n",
       "      <td>United Kingdom</td>\n",
       "    </tr>\n",
       "    <tr>\n",
       "      <th>254792</th>\n",
       "      <td>567429</td>\n",
       "      <td>22398</td>\n",
       "      <td>MAGNETS PACK OF 4 SWALLOWS</td>\n",
       "      <td>12</td>\n",
       "      <td>2017-09-18</td>\n",
       "      <td>0.39</td>\n",
       "      <td>17686</td>\n",
       "      <td>United Kingdom</td>\n",
       "    </tr>\n",
       "    <tr>\n",
       "      <th>346713</th>\n",
       "      <td>575902</td>\n",
       "      <td>20975</td>\n",
       "      <td>12 PENCILS SMALL TUBE RED RETROSPOT</td>\n",
       "      <td>24</td>\n",
       "      <td>2017-11-09</td>\n",
       "      <td>0.65</td>\n",
       "      <td>15544</td>\n",
       "      <td>United Kingdom</td>\n",
       "    </tr>\n",
       "  </tbody>\n",
       "</table>\n",
       "</div>"
      ],
      "text/plain": [
       "       invoice_no stock_code                          description  quantity invoice_date  unit_price  customer_id         country\n",
       "5128       537036     85135C             RED DRAGONFLY HELICOPTER         1   2016-12-01        7.95        15545  United Kingdom\n",
       "254792     567429      22398           MAGNETS PACK OF 4 SWALLOWS        12   2017-09-18        0.39        17686  United Kingdom\n",
       "346713     575902      20975  12 PENCILS SMALL TUBE RED RETROSPOT        24   2017-11-09        0.65        15544  United Kingdom"
      ]
     },
     "execution_count": 38,
     "metadata": {},
     "output_type": "execute_result"
    }
   ],
   "source": [
    "df1.sample(3)"
   ]
  },
  {
   "cell_type": "code",
   "execution_count": 39,
   "id": "e2dbcf96",
   "metadata": {
    "ExecuteTime": {
     "end_time": "2022-07-30T17:00:52.155776Z",
     "start_time": "2022-07-30T17:00:52.141585Z"
    },
    "hidden": true
   },
   "outputs": [
    {
     "data": {
      "text/plain": [
       "invoice_no              object\n",
       "stock_code              object\n",
       "description             object\n",
       "quantity                 int64\n",
       "invoice_date    datetime64[ns]\n",
       "unit_price             float64\n",
       "customer_id              int64\n",
       "country                 object\n",
       "dtype: object"
      ]
     },
     "execution_count": 39,
     "metadata": {},
     "output_type": "execute_result"
    }
   ],
   "source": [
    "df1.dtypes"
   ]
  },
  {
   "cell_type": "markdown",
   "id": "fc7b827e",
   "metadata": {
    "heading_collapsed": true,
    "hidden": true
   },
   "source": [
    "## Descriptive Statistics"
   ]
  },
  {
   "cell_type": "code",
   "execution_count": 42,
   "id": "a83cb33a",
   "metadata": {
    "ExecuteTime": {
     "end_time": "2022-07-30T17:03:22.183859Z",
     "start_time": "2022-07-30T17:03:22.177070Z"
    },
    "hidden": true
   },
   "outputs": [],
   "source": [
    "#here we identify state of variables, but take action just on proper sections ahead.\n",
    "num_attributes = df1.select_dtypes(include=['int64','float64'])\n",
    "cat_attributes = df1.select_dtypes(exclude=['int64','float64','datetime64[ns]'])"
   ]
  },
  {
   "cell_type": "markdown",
   "id": "510c3d39",
   "metadata": {
    "ExecuteTime": {
     "end_time": "2022-07-30T11:49:56.570625Z",
     "start_time": "2022-07-30T11:49:56.565975Z"
    },
    "heading_collapsed": true,
    "hidden": true
   },
   "source": [
    "### Numerical Attributes"
   ]
  },
  {
   "cell_type": "code",
   "execution_count": 44,
   "id": "79fa6e48",
   "metadata": {
    "ExecuteTime": {
     "end_time": "2022-07-30T17:03:40.092260Z",
     "start_time": "2022-07-30T17:03:40.075032Z"
    },
    "hidden": true
   },
   "outputs": [
    {
     "data": {
      "text/html": [
       "<div>\n",
       "<style scoped>\n",
       "    .dataframe tbody tr th:only-of-type {\n",
       "        vertical-align: middle;\n",
       "    }\n",
       "\n",
       "    .dataframe tbody tr th {\n",
       "        vertical-align: top;\n",
       "    }\n",
       "\n",
       "    .dataframe thead th {\n",
       "        text-align: right;\n",
       "    }\n",
       "</style>\n",
       "<table border=\"1\" class=\"dataframe\">\n",
       "  <thead>\n",
       "    <tr style=\"text-align: right;\">\n",
       "      <th></th>\n",
       "      <th>quantity</th>\n",
       "      <th>unit_price</th>\n",
       "      <th>customer_id</th>\n",
       "    </tr>\n",
       "  </thead>\n",
       "  <tbody>\n",
       "    <tr>\n",
       "      <th>0</th>\n",
       "      <td>6</td>\n",
       "      <td>2.55</td>\n",
       "      <td>17850</td>\n",
       "    </tr>\n",
       "    <tr>\n",
       "      <th>1</th>\n",
       "      <td>6</td>\n",
       "      <td>3.39</td>\n",
       "      <td>17850</td>\n",
       "    </tr>\n",
       "    <tr>\n",
       "      <th>2</th>\n",
       "      <td>8</td>\n",
       "      <td>2.75</td>\n",
       "      <td>17850</td>\n",
       "    </tr>\n",
       "    <tr>\n",
       "      <th>3</th>\n",
       "      <td>6</td>\n",
       "      <td>3.39</td>\n",
       "      <td>17850</td>\n",
       "    </tr>\n",
       "    <tr>\n",
       "      <th>4</th>\n",
       "      <td>6</td>\n",
       "      <td>3.39</td>\n",
       "      <td>17850</td>\n",
       "    </tr>\n",
       "  </tbody>\n",
       "</table>\n",
       "</div>"
      ],
      "text/plain": [
       "   quantity  unit_price  customer_id\n",
       "0         6        2.55        17850\n",
       "1         6        3.39        17850\n",
       "2         8        2.75        17850\n",
       "3         6        3.39        17850\n",
       "4         6        3.39        17850"
      ]
     },
     "execution_count": 44,
     "metadata": {},
     "output_type": "execute_result"
    }
   ],
   "source": [
    "num_attributes.head()"
   ]
  },
  {
   "cell_type": "code",
   "execution_count": 48,
   "id": "add0cee3",
   "metadata": {
    "ExecuteTime": {
     "end_time": "2022-07-30T17:10:48.805635Z",
     "start_time": "2022-07-30T17:10:48.658825Z"
    },
    "hidden": true
   },
   "outputs": [
    {
     "data": {
      "text/html": [
       "<div>\n",
       "<style scoped>\n",
       "    .dataframe tbody tr th:only-of-type {\n",
       "        vertical-align: middle;\n",
       "    }\n",
       "\n",
       "    .dataframe tbody tr th {\n",
       "        vertical-align: top;\n",
       "    }\n",
       "\n",
       "    .dataframe thead th {\n",
       "        text-align: right;\n",
       "    }\n",
       "</style>\n",
       "<table border=\"1\" class=\"dataframe\">\n",
       "  <thead>\n",
       "    <tr style=\"text-align: right;\">\n",
       "      <th></th>\n",
       "      <th>attributes</th>\n",
       "      <th>min</th>\n",
       "      <th>max</th>\n",
       "      <th>range</th>\n",
       "      <th>mean</th>\n",
       "      <th>median</th>\n",
       "      <th>std</th>\n",
       "      <th>skew</th>\n",
       "      <th>kurtosis</th>\n",
       "    </tr>\n",
       "  </thead>\n",
       "  <tbody>\n",
       "    <tr>\n",
       "      <th>0</th>\n",
       "      <td>quantity</td>\n",
       "      <td>-80995.0</td>\n",
       "      <td>80995.0</td>\n",
       "      <td>161990.0</td>\n",
       "      <td>12.061303</td>\n",
       "      <td>5.00</td>\n",
       "      <td>248.693064</td>\n",
       "      <td>0.182663</td>\n",
       "      <td>94317.563673</td>\n",
       "    </tr>\n",
       "    <tr>\n",
       "      <th>1</th>\n",
       "      <td>unit_price</td>\n",
       "      <td>0.0</td>\n",
       "      <td>38970.0</td>\n",
       "      <td>38970.0</td>\n",
       "      <td>3.460471</td>\n",
       "      <td>1.95</td>\n",
       "      <td>69.315077</td>\n",
       "      <td>452.219019</td>\n",
       "      <td>246924.542988</td>\n",
       "    </tr>\n",
       "    <tr>\n",
       "      <th>2</th>\n",
       "      <td>customer_id</td>\n",
       "      <td>12346.0</td>\n",
       "      <td>18287.0</td>\n",
       "      <td>5941.0</td>\n",
       "      <td>15287.690570</td>\n",
       "      <td>15152.00</td>\n",
       "      <td>1713.598197</td>\n",
       "      <td>0.029835</td>\n",
       "      <td>-1.179982</td>\n",
       "    </tr>\n",
       "  </tbody>\n",
       "</table>\n",
       "</div>"
      ],
      "text/plain": [
       "    attributes      min      max     range          mean    median          std        skew       kurtosis\n",
       "0     quantity -80995.0  80995.0  161990.0     12.061303      5.00   248.693064    0.182663   94317.563673\n",
       "1   unit_price      0.0  38970.0   38970.0      3.460471      1.95    69.315077  452.219019  246924.542988\n",
       "2  customer_id  12346.0  18287.0    5941.0  15287.690570  15152.00  1713.598197    0.029835      -1.179982"
      ]
     },
     "execution_count": 48,
     "metadata": {},
     "output_type": "execute_result"
    }
   ],
   "source": [
    "# central tendency - mean, median\n",
    "ct1 = pd.DataFrame( num_attributes.apply( np.mean ) ).T\n",
    "ct2 = pd.DataFrame( num_attributes.apply( np.median ) ).T\n",
    "             \n",
    "# dispersion - desvio padrão, minimo, maximo, range, skew, kurtosis\n",
    "d1 = pd.DataFrame( num_attributes.apply( np.std ) ).T\n",
    "d2 = pd.DataFrame( num_attributes.apply( np.min ) ).T\n",
    "d3 = pd.DataFrame( num_attributes.apply( np.max ) ).T\n",
    "d4 = pd.DataFrame( num_attributes.apply( lambda x: x.max() - x.min() ) ).T\n",
    "d5 = pd.DataFrame( num_attributes.apply( lambda x: x.skew() ) ).T\n",
    "d6 = pd.DataFrame( num_attributes.apply( lambda x: x.kurtosis() ) ).T\n",
    "\n",
    "# concatenate\n",
    "m = pd.concat( [d2, d3, d4, ct1, ct2, d1, d5, d6] ).T.reset_index()\n",
    "m.columns = ['attributes', 'min', 'max', 'range', 'mean', 'median', 'std', 'skew', 'kurtosis']\n",
    "m"
   ]
  },
  {
   "cell_type": "markdown",
   "id": "aff5561c",
   "metadata": {
    "heading_collapsed": true,
    "hidden": true
   },
   "source": [
    "#### quantity"
   ]
  },
  {
   "cell_type": "code",
   "execution_count": null,
   "id": "16a04176",
   "metadata": {
    "hidden": true
   },
   "outputs": [],
   "source": [
    "#1. quantity has negative numbers\n",
    "    # ACTION: separate our dataset into sales and devolutions [variable filtering]"
   ]
  },
  {
   "cell_type": "markdown",
   "id": "fcc5bd64",
   "metadata": {
    "heading_collapsed": true,
    "hidden": true
   },
   "source": [
    "#### unit_price"
   ]
  },
  {
   "cell_type": "code",
   "execution_count": null,
   "id": "5d16509b",
   "metadata": {
    "hidden": true
   },
   "outputs": [],
   "source": [
    "#2. unit_price = zero\n",
    "    #ACTION: remove them, and analyse if threshold e really zero [variable filtering]"
   ]
  },
  {
   "cell_type": "markdown",
   "id": "281b24af",
   "metadata": {
    "heading_collapsed": true,
    "hidden": true
   },
   "source": [
    "### Cathegorical Attributes"
   ]
  },
  {
   "cell_type": "code",
   "execution_count": 49,
   "id": "3683eb6e",
   "metadata": {
    "ExecuteTime": {
     "end_time": "2022-07-30T17:22:19.861443Z",
     "start_time": "2022-07-30T17:22:19.844565Z"
    },
    "hidden": true
   },
   "outputs": [
    {
     "data": {
      "text/html": [
       "<div>\n",
       "<style scoped>\n",
       "    .dataframe tbody tr th:only-of-type {\n",
       "        vertical-align: middle;\n",
       "    }\n",
       "\n",
       "    .dataframe tbody tr th {\n",
       "        vertical-align: top;\n",
       "    }\n",
       "\n",
       "    .dataframe thead th {\n",
       "        text-align: right;\n",
       "    }\n",
       "</style>\n",
       "<table border=\"1\" class=\"dataframe\">\n",
       "  <thead>\n",
       "    <tr style=\"text-align: right;\">\n",
       "      <th></th>\n",
       "      <th>invoice_no</th>\n",
       "      <th>stock_code</th>\n",
       "      <th>description</th>\n",
       "      <th>country</th>\n",
       "    </tr>\n",
       "  </thead>\n",
       "  <tbody>\n",
       "    <tr>\n",
       "      <th>0</th>\n",
       "      <td>536365</td>\n",
       "      <td>85123A</td>\n",
       "      <td>WHITE HANGING HEART T-LIGHT HOLDER</td>\n",
       "      <td>United Kingdom</td>\n",
       "    </tr>\n",
       "    <tr>\n",
       "      <th>1</th>\n",
       "      <td>536365</td>\n",
       "      <td>71053</td>\n",
       "      <td>WHITE METAL LANTERN</td>\n",
       "      <td>United Kingdom</td>\n",
       "    </tr>\n",
       "    <tr>\n",
       "      <th>2</th>\n",
       "      <td>536365</td>\n",
       "      <td>84406B</td>\n",
       "      <td>CREAM CUPID HEARTS COAT HANGER</td>\n",
       "      <td>United Kingdom</td>\n",
       "    </tr>\n",
       "    <tr>\n",
       "      <th>3</th>\n",
       "      <td>536365</td>\n",
       "      <td>84029G</td>\n",
       "      <td>KNITTED UNION FLAG HOT WATER BOTTLE</td>\n",
       "      <td>United Kingdom</td>\n",
       "    </tr>\n",
       "    <tr>\n",
       "      <th>4</th>\n",
       "      <td>536365</td>\n",
       "      <td>84029E</td>\n",
       "      <td>RED WOOLLY HOTTIE WHITE HEART.</td>\n",
       "      <td>United Kingdom</td>\n",
       "    </tr>\n",
       "  </tbody>\n",
       "</table>\n",
       "</div>"
      ],
      "text/plain": [
       "  invoice_no stock_code                          description         country\n",
       "0     536365     85123A   WHITE HANGING HEART T-LIGHT HOLDER  United Kingdom\n",
       "1     536365      71053                  WHITE METAL LANTERN  United Kingdom\n",
       "2     536365     84406B       CREAM CUPID HEARTS COAT HANGER  United Kingdom\n",
       "3     536365     84029G  KNITTED UNION FLAG HOT WATER BOTTLE  United Kingdom\n",
       "4     536365     84029E       RED WOOLLY HOTTIE WHITE HEART.  United Kingdom"
      ]
     },
     "execution_count": 49,
     "metadata": {},
     "output_type": "execute_result"
    }
   ],
   "source": [
    "cat_attributes.head()"
   ]
  },
  {
   "cell_type": "markdown",
   "id": "fa4c3017",
   "metadata": {
    "heading_collapsed": true,
    "hidden": true
   },
   "source": [
    "#### invoice_no"
   ]
  },
  {
   "cell_type": "code",
   "execution_count": 158,
   "id": "699a0aac",
   "metadata": {
    "ExecuteTime": {
     "end_time": "2022-07-31T11:52:21.876130Z",
     "start_time": "2022-07-31T11:52:21.860256Z"
    },
    "hidden": true
   },
   "outputs": [
    {
     "data": {
      "text/plain": [
       "invoice_no     object\n",
       "stock_code     object\n",
       "description    object\n",
       "country        object\n",
       "dtype: object"
      ]
     },
     "execution_count": 158,
     "metadata": {},
     "output_type": "execute_result"
    }
   ],
   "source": [
    "cat_attributes.dtypes"
   ]
  },
  {
   "cell_type": "code",
   "execution_count": 140,
   "id": "dc3e567e",
   "metadata": {
    "ExecuteTime": {
     "end_time": "2022-07-31T11:39:23.133971Z",
     "start_time": "2022-07-31T11:39:23.128117Z"
    },
    "hidden": true
   },
   "outputs": [],
   "source": [
    "# problem: we have invoice_no with letters and numbers\n",
    "#cat_attributes['invoice_no'].astype( int )  # -> error: ex.'C536379'"
   ]
  },
  {
   "cell_type": "code",
   "execution_count": 149,
   "id": "bd751047",
   "metadata": {
    "ExecuteTime": {
     "end_time": "2022-07-31T11:45:20.864245Z",
     "start_time": "2022-07-31T11:45:19.839951Z"
    },
    "code_folding": [],
    "hidden": true
   },
   "outputs": [
    {
     "data": {
      "text/html": [
       "<div>\n",
       "<style scoped>\n",
       "    .dataframe tbody tr th:only-of-type {\n",
       "        vertical-align: middle;\n",
       "    }\n",
       "\n",
       "    .dataframe tbody tr th {\n",
       "        vertical-align: top;\n",
       "    }\n",
       "\n",
       "    .dataframe thead th {\n",
       "        text-align: right;\n",
       "    }\n",
       "</style>\n",
       "<table border=\"1\" class=\"dataframe\">\n",
       "  <thead>\n",
       "    <tr style=\"text-align: right;\">\n",
       "      <th></th>\n",
       "      <th>invoice_no</th>\n",
       "      <th>stock_code</th>\n",
       "      <th>description</th>\n",
       "      <th>quantity</th>\n",
       "      <th>invoice_date</th>\n",
       "      <th>unit_price</th>\n",
       "      <th>customer_id</th>\n",
       "      <th>country</th>\n",
       "    </tr>\n",
       "  </thead>\n",
       "  <tbody>\n",
       "    <tr>\n",
       "      <th>141</th>\n",
       "      <td>C536379</td>\n",
       "      <td>D</td>\n",
       "      <td>Discount</td>\n",
       "      <td>-1</td>\n",
       "      <td>2016-11-29</td>\n",
       "      <td>27.50</td>\n",
       "      <td>14527</td>\n",
       "      <td>United Kingdom</td>\n",
       "    </tr>\n",
       "    <tr>\n",
       "      <th>154</th>\n",
       "      <td>C536383</td>\n",
       "      <td>35004C</td>\n",
       "      <td>SET OF 3 COLOURED  FLYING DUCKS</td>\n",
       "      <td>-1</td>\n",
       "      <td>2016-11-29</td>\n",
       "      <td>4.65</td>\n",
       "      <td>15311</td>\n",
       "      <td>United Kingdom</td>\n",
       "    </tr>\n",
       "    <tr>\n",
       "      <th>235</th>\n",
       "      <td>C536391</td>\n",
       "      <td>22556</td>\n",
       "      <td>PLASTERS IN TIN CIRCUS PARADE</td>\n",
       "      <td>-12</td>\n",
       "      <td>2016-11-29</td>\n",
       "      <td>1.65</td>\n",
       "      <td>17548</td>\n",
       "      <td>United Kingdom</td>\n",
       "    </tr>\n",
       "    <tr>\n",
       "      <th>236</th>\n",
       "      <td>C536391</td>\n",
       "      <td>21984</td>\n",
       "      <td>PACK OF 12 PINK PAISLEY TISSUES</td>\n",
       "      <td>-24</td>\n",
       "      <td>2016-11-29</td>\n",
       "      <td>0.29</td>\n",
       "      <td>17548</td>\n",
       "      <td>United Kingdom</td>\n",
       "    </tr>\n",
       "    <tr>\n",
       "      <th>237</th>\n",
       "      <td>C536391</td>\n",
       "      <td>21983</td>\n",
       "      <td>PACK OF 12 BLUE PAISLEY TISSUES</td>\n",
       "      <td>-24</td>\n",
       "      <td>2016-11-29</td>\n",
       "      <td>0.29</td>\n",
       "      <td>17548</td>\n",
       "      <td>United Kingdom</td>\n",
       "    </tr>\n",
       "    <tr>\n",
       "      <th>...</th>\n",
       "      <td>...</td>\n",
       "      <td>...</td>\n",
       "      <td>...</td>\n",
       "      <td>...</td>\n",
       "      <td>...</td>\n",
       "      <td>...</td>\n",
       "      <td>...</td>\n",
       "      <td>...</td>\n",
       "    </tr>\n",
       "    <tr>\n",
       "      <th>406377</th>\n",
       "      <td>C581490</td>\n",
       "      <td>23144</td>\n",
       "      <td>ZINC T-LIGHT HOLDER STARS SMALL</td>\n",
       "      <td>-11</td>\n",
       "      <td>2017-12-07</td>\n",
       "      <td>0.83</td>\n",
       "      <td>14397</td>\n",
       "      <td>United Kingdom</td>\n",
       "    </tr>\n",
       "    <tr>\n",
       "      <th>406461</th>\n",
       "      <td>C581499</td>\n",
       "      <td>M</td>\n",
       "      <td>Manual</td>\n",
       "      <td>-1</td>\n",
       "      <td>2017-12-07</td>\n",
       "      <td>224.69</td>\n",
       "      <td>15498</td>\n",
       "      <td>United Kingdom</td>\n",
       "    </tr>\n",
       "    <tr>\n",
       "      <th>406635</th>\n",
       "      <td>C581568</td>\n",
       "      <td>21258</td>\n",
       "      <td>VICTORIAN SEWING BOX LARGE</td>\n",
       "      <td>-5</td>\n",
       "      <td>2017-12-07</td>\n",
       "      <td>10.95</td>\n",
       "      <td>15311</td>\n",
       "      <td>United Kingdom</td>\n",
       "    </tr>\n",
       "    <tr>\n",
       "      <th>406636</th>\n",
       "      <td>C581569</td>\n",
       "      <td>84978</td>\n",
       "      <td>HANGING HEART JAR T-LIGHT HOLDER</td>\n",
       "      <td>-1</td>\n",
       "      <td>2017-12-07</td>\n",
       "      <td>1.25</td>\n",
       "      <td>17315</td>\n",
       "      <td>United Kingdom</td>\n",
       "    </tr>\n",
       "    <tr>\n",
       "      <th>406637</th>\n",
       "      <td>C581569</td>\n",
       "      <td>20979</td>\n",
       "      <td>36 PENCILS TUBE RED RETROSPOT</td>\n",
       "      <td>-5</td>\n",
       "      <td>2017-12-07</td>\n",
       "      <td>1.25</td>\n",
       "      <td>17315</td>\n",
       "      <td>United Kingdom</td>\n",
       "    </tr>\n",
       "  </tbody>\n",
       "</table>\n",
       "<p>8905 rows × 8 columns</p>\n",
       "</div>"
      ],
      "text/plain": [
       "       invoice_no stock_code                       description  quantity invoice_date  unit_price  customer_id         country\n",
       "141       C536379          D                          Discount        -1   2016-11-29       27.50        14527  United Kingdom\n",
       "154       C536383     35004C   SET OF 3 COLOURED  FLYING DUCKS        -1   2016-11-29        4.65        15311  United Kingdom\n",
       "235       C536391      22556    PLASTERS IN TIN CIRCUS PARADE        -12   2016-11-29        1.65        17548  United Kingdom\n",
       "236       C536391      21984  PACK OF 12 PINK PAISLEY TISSUES        -24   2016-11-29        0.29        17548  United Kingdom\n",
       "237       C536391      21983  PACK OF 12 BLUE PAISLEY TISSUES        -24   2016-11-29        0.29        17548  United Kingdom\n",
       "...           ...        ...                               ...       ...          ...         ...          ...             ...\n",
       "406377    C581490      23144   ZINC T-LIGHT HOLDER STARS SMALL       -11   2017-12-07        0.83        14397  United Kingdom\n",
       "406461    C581499          M                            Manual        -1   2017-12-07      224.69        15498  United Kingdom\n",
       "406635    C581568      21258        VICTORIAN SEWING BOX LARGE        -5   2017-12-07       10.95        15311  United Kingdom\n",
       "406636    C581569      84978  HANGING HEART JAR T-LIGHT HOLDER        -1   2017-12-07        1.25        17315  United Kingdom\n",
       "406637    C581569      20979     36 PENCILS TUBE RED RETROSPOT        -5   2017-12-07        1.25        17315  United Kingdom\n",
       "\n",
       "[8905 rows x 8 columns]"
      ]
     },
     "execution_count": 149,
     "metadata": {},
     "output_type": "execute_result"
    }
   ],
   "source": [
    "# identify number of sales with characters on invoice_no: \n",
    "df_letter_invoices = df1.loc[df1['invoice_no'].apply( lambda x: bool( re.search( '[^0-9]+', x ) ) ), :]\n",
    "df_letter_invoices"
   ]
  },
  {
   "cell_type": "code",
   "execution_count": 156,
   "id": "e674e1fe",
   "metadata": {
    "ExecuteTime": {
     "end_time": "2022-07-31T11:48:40.896313Z",
     "start_time": "2022-07-31T11:48:40.882297Z"
    },
    "hidden": true
   },
   "outputs": [
    {
     "name": "stdout",
     "output_type": "stream",
     "text": [
      "Total number of invoices: 8905\n",
      "Total number of negative quantity: 8905\n"
     ]
    }
   ],
   "source": [
    "#looks like all invoice_no with C, has negative quantity. Lets check:\n",
    "print( f'Total number of invoices: {len( df_letter_invoices )}')\n",
    "print( f'Total number of negative quantity: {len( df_letter_invoices[ df_letter_invoices[\"quantity\"] < 0 ] )}')"
   ]
  },
  {
   "cell_type": "code",
   "execution_count": null,
   "id": "1904cfca",
   "metadata": {
    "hidden": true
   },
   "outputs": [],
   "source": [
    "#1. since quantity variable will separate into 2 purchase and return datasets, the invoice_no with letters will automatically separated at the return dataset. \n",
    "    #ACTION: No action."
   ]
  },
  {
   "cell_type": "markdown",
   "id": "0d0ca697",
   "metadata": {
    "heading_collapsed": true,
    "hidden": true
   },
   "source": [
    "#### stock_code"
   ]
  },
  {
   "cell_type": "code",
   "execution_count": 65,
   "id": "75b2b04a",
   "metadata": {
    "ExecuteTime": {
     "end_time": "2022-07-30T17:41:16.120827Z",
     "start_time": "2022-07-30T17:41:16.106739Z"
    },
    "hidden": true
   },
   "outputs": [
    {
     "data": {
      "text/plain": [
       "0         85123A\n",
       "1          71053\n",
       "2         84406B\n",
       "3         84029G\n",
       "4         84029E\n",
       "           ...  \n",
       "406824     22613\n",
       "406825     22899\n",
       "406826     23254\n",
       "406827     23255\n",
       "406828     22138\n",
       "Name: stock_code, Length: 406829, dtype: object"
      ]
     },
     "execution_count": 65,
     "metadata": {},
     "output_type": "execute_result"
    }
   ],
   "source": [
    "df1['stock_code']"
   ]
  },
  {
   "cell_type": "code",
   "execution_count": 160,
   "id": "bd2eab2f",
   "metadata": {
    "ExecuteTime": {
     "end_time": "2022-07-31T12:16:06.469225Z",
     "start_time": "2022-07-31T12:16:05.575556Z"
    },
    "hidden": true
   },
   "outputs": [
    {
     "data": {
      "text/plain": [
       "array(['POST', 'D', 'M', 'PADS', 'DOT', 'CRUK'], dtype=object)"
      ]
     },
     "execution_count": 160,
     "metadata": {},
     "output_type": "execute_result"
    }
   ],
   "source": [
    "# get stock_codes with only letters\n",
    "df1.loc[df1['stock_code'].apply( lambda x: bool( re.search( '^[a-zA-Z]+$', x ) ) ), 'stock_code'].unique()"
   ]
  },
  {
   "cell_type": "code",
   "execution_count": 162,
   "id": "b73043de",
   "metadata": {
    "ExecuteTime": {
     "end_time": "2022-07-31T12:20:22.604360Z",
     "start_time": "2022-07-31T12:20:21.745570Z"
    },
    "hidden": true
   },
   "outputs": [
    {
     "data": {
      "text/html": [
       "<div>\n",
       "<style scoped>\n",
       "    .dataframe tbody tr th:only-of-type {\n",
       "        vertical-align: middle;\n",
       "    }\n",
       "\n",
       "    .dataframe tbody tr th {\n",
       "        vertical-align: top;\n",
       "    }\n",
       "\n",
       "    .dataframe thead th {\n",
       "        text-align: right;\n",
       "    }\n",
       "</style>\n",
       "<table border=\"1\" class=\"dataframe\">\n",
       "  <thead>\n",
       "    <tr style=\"text-align: right;\">\n",
       "      <th></th>\n",
       "      <th>invoice_no</th>\n",
       "      <th>stock_code</th>\n",
       "      <th>description</th>\n",
       "      <th>quantity</th>\n",
       "      <th>invoice_date</th>\n",
       "      <th>unit_price</th>\n",
       "      <th>customer_id</th>\n",
       "      <th>country</th>\n",
       "    </tr>\n",
       "  </thead>\n",
       "  <tbody>\n",
       "    <tr>\n",
       "      <th>279996</th>\n",
       "      <td>569686</td>\n",
       "      <td>POST</td>\n",
       "      <td>POSTAGE</td>\n",
       "      <td>2</td>\n",
       "      <td>2017-10-03</td>\n",
       "      <td>18.00</td>\n",
       "      <td>12719</td>\n",
       "      <td>France</td>\n",
       "    </tr>\n",
       "    <tr>\n",
       "      <th>118454</th>\n",
       "      <td>551270</td>\n",
       "      <td>M</td>\n",
       "      <td>Manual</td>\n",
       "      <td>1</td>\n",
       "      <td>2017-04-25</td>\n",
       "      <td>2.55</td>\n",
       "      <td>15891</td>\n",
       "      <td>United Kingdom</td>\n",
       "    </tr>\n",
       "    <tr>\n",
       "      <th>69502</th>\n",
       "      <td>545235</td>\n",
       "      <td>POST</td>\n",
       "      <td>POSTAGE</td>\n",
       "      <td>2</td>\n",
       "      <td>2017-02-27</td>\n",
       "      <td>18.00</td>\n",
       "      <td>12683</td>\n",
       "      <td>France</td>\n",
       "    </tr>\n",
       "    <tr>\n",
       "      <th>309661</th>\n",
       "      <td>572344</td>\n",
       "      <td>M</td>\n",
       "      <td>Manual</td>\n",
       "      <td>48</td>\n",
       "      <td>2017-10-22</td>\n",
       "      <td>1.50</td>\n",
       "      <td>14607</td>\n",
       "      <td>United Kingdom</td>\n",
       "    </tr>\n",
       "    <tr>\n",
       "      <th>153716</th>\n",
       "      <td>555648</td>\n",
       "      <td>M</td>\n",
       "      <td>Manual</td>\n",
       "      <td>12</td>\n",
       "      <td>2017-06-04</td>\n",
       "      <td>0.39</td>\n",
       "      <td>14623</td>\n",
       "      <td>United Kingdom</td>\n",
       "    </tr>\n",
       "    <tr>\n",
       "      <th>392111</th>\n",
       "      <td>580265</td>\n",
       "      <td>POST</td>\n",
       "      <td>POSTAGE</td>\n",
       "      <td>1</td>\n",
       "      <td>2017-11-30</td>\n",
       "      <td>40.00</td>\n",
       "      <td>12587</td>\n",
       "      <td>Finland</td>\n",
       "    </tr>\n",
       "    <tr>\n",
       "      <th>291777</th>\n",
       "      <td>570798</td>\n",
       "      <td>POST</td>\n",
       "      <td>POSTAGE</td>\n",
       "      <td>2</td>\n",
       "      <td>2017-10-10</td>\n",
       "      <td>18.00</td>\n",
       "      <td>12679</td>\n",
       "      <td>France</td>\n",
       "    </tr>\n",
       "    <tr>\n",
       "      <th>248821</th>\n",
       "      <td>566773</td>\n",
       "      <td>POST</td>\n",
       "      <td>POSTAGE</td>\n",
       "      <td>2</td>\n",
       "      <td>2017-09-13</td>\n",
       "      <td>40.00</td>\n",
       "      <td>12444</td>\n",
       "      <td>Norway</td>\n",
       "    </tr>\n",
       "    <tr>\n",
       "      <th>119196</th>\n",
       "      <td>551346</td>\n",
       "      <td>POST</td>\n",
       "      <td>POSTAGE</td>\n",
       "      <td>3</td>\n",
       "      <td>2017-04-26</td>\n",
       "      <td>15.00</td>\n",
       "      <td>12362</td>\n",
       "      <td>Belgium</td>\n",
       "    </tr>\n",
       "    <tr>\n",
       "      <th>366365</th>\n",
       "      <td>577606</td>\n",
       "      <td>POST</td>\n",
       "      <td>POSTAGE</td>\n",
       "      <td>3</td>\n",
       "      <td>2017-11-19</td>\n",
       "      <td>28.00</td>\n",
       "      <td>12462</td>\n",
       "      <td>Spain</td>\n",
       "    </tr>\n",
       "  </tbody>\n",
       "</table>\n",
       "</div>"
      ],
      "text/plain": [
       "       invoice_no stock_code description  quantity invoice_date  unit_price  customer_id         country\n",
       "279996     569686       POST     POSTAGE         2   2017-10-03       18.00        12719          France\n",
       "118454     551270          M      Manual         1   2017-04-25        2.55        15891  United Kingdom\n",
       "69502      545235       POST     POSTAGE         2   2017-02-27       18.00        12683          France\n",
       "309661     572344          M      Manual        48   2017-10-22        1.50        14607  United Kingdom\n",
       "153716     555648          M      Manual        12   2017-06-04        0.39        14623  United Kingdom\n",
       "392111     580265       POST     POSTAGE         1   2017-11-30       40.00        12587         Finland\n",
       "291777     570798       POST     POSTAGE         2   2017-10-10       18.00        12679          France\n",
       "248821     566773       POST     POSTAGE         2   2017-09-13       40.00        12444          Norway\n",
       "119196     551346       POST     POSTAGE         3   2017-04-26       15.00        12362         Belgium\n",
       "366365     577606       POST     POSTAGE         3   2017-11-19       28.00        12462           Spain"
      ]
     },
     "execution_count": 162,
     "metadata": {},
     "output_type": "execute_result"
    }
   ],
   "source": [
    "df1.loc[df1['stock_code'].apply( lambda x: bool( re.search( '^[a-zA-Z]+$', x ) ) ) ].sample(10)"
   ]
  },
  {
   "cell_type": "code",
   "execution_count": 161,
   "id": "2b4a5ea9",
   "metadata": {
    "ExecuteTime": {
     "end_time": "2022-07-31T12:20:09.322458Z",
     "start_time": "2022-07-31T12:20:08.497414Z"
    },
    "hidden": true
   },
   "outputs": [
    {
     "data": {
      "text/plain": [
       "1774"
      ]
     },
     "execution_count": 161,
     "metadata": {},
     "output_type": "execute_result"
    }
   ],
   "source": [
    "#check stock_code with letters only \n",
    "df1.loc[df1['stock_code'].apply( lambda x: bool( re.search( '^[a-zA-Z]+$', x ) ) ), 'stock_code'].count()"
   ]
  },
  {
   "cell_type": "code",
   "execution_count": null,
   "id": "1688ff8a",
   "metadata": {
    "hidden": true
   },
   "outputs": [],
   "source": [
    "#2. stock_code has values useless values: ['POST', 'D', 'M', 'PADS', 'DOT', 'CRUK']\n",
    "    #ACTION: remove them [variable filtering]"
   ]
  },
  {
   "cell_type": "markdown",
   "id": "aec54cb5",
   "metadata": {
    "heading_collapsed": true,
    "hidden": true
   },
   "source": [
    "#### description"
   ]
  },
  {
   "cell_type": "code",
   "execution_count": 163,
   "id": "08428dd1",
   "metadata": {
    "ExecuteTime": {
     "end_time": "2022-07-31T12:21:00.036581Z",
     "start_time": "2022-07-31T12:21:00.008927Z"
    },
    "hidden": true
   },
   "outputs": [
    {
     "data": {
      "text/html": [
       "<div>\n",
       "<style scoped>\n",
       "    .dataframe tbody tr th:only-of-type {\n",
       "        vertical-align: middle;\n",
       "    }\n",
       "\n",
       "    .dataframe tbody tr th {\n",
       "        vertical-align: top;\n",
       "    }\n",
       "\n",
       "    .dataframe thead th {\n",
       "        text-align: right;\n",
       "    }\n",
       "</style>\n",
       "<table border=\"1\" class=\"dataframe\">\n",
       "  <thead>\n",
       "    <tr style=\"text-align: right;\">\n",
       "      <th></th>\n",
       "      <th>invoice_no</th>\n",
       "      <th>stock_code</th>\n",
       "      <th>description</th>\n",
       "      <th>quantity</th>\n",
       "      <th>invoice_date</th>\n",
       "      <th>unit_price</th>\n",
       "      <th>customer_id</th>\n",
       "      <th>country</th>\n",
       "    </tr>\n",
       "  </thead>\n",
       "  <tbody>\n",
       "    <tr>\n",
       "      <th>0</th>\n",
       "      <td>536365</td>\n",
       "      <td>85123A</td>\n",
       "      <td>WHITE HANGING HEART T-LIGHT HOLDER</td>\n",
       "      <td>6</td>\n",
       "      <td>2016-11-29</td>\n",
       "      <td>2.55</td>\n",
       "      <td>17850</td>\n",
       "      <td>United Kingdom</td>\n",
       "    </tr>\n",
       "    <tr>\n",
       "      <th>1</th>\n",
       "      <td>536365</td>\n",
       "      <td>71053</td>\n",
       "      <td>WHITE METAL LANTERN</td>\n",
       "      <td>6</td>\n",
       "      <td>2016-11-29</td>\n",
       "      <td>3.39</td>\n",
       "      <td>17850</td>\n",
       "      <td>United Kingdom</td>\n",
       "    </tr>\n",
       "    <tr>\n",
       "      <th>2</th>\n",
       "      <td>536365</td>\n",
       "      <td>84406B</td>\n",
       "      <td>CREAM CUPID HEARTS COAT HANGER</td>\n",
       "      <td>8</td>\n",
       "      <td>2016-11-29</td>\n",
       "      <td>2.75</td>\n",
       "      <td>17850</td>\n",
       "      <td>United Kingdom</td>\n",
       "    </tr>\n",
       "    <tr>\n",
       "      <th>3</th>\n",
       "      <td>536365</td>\n",
       "      <td>84029G</td>\n",
       "      <td>KNITTED UNION FLAG HOT WATER BOTTLE</td>\n",
       "      <td>6</td>\n",
       "      <td>2016-11-29</td>\n",
       "      <td>3.39</td>\n",
       "      <td>17850</td>\n",
       "      <td>United Kingdom</td>\n",
       "    </tr>\n",
       "    <tr>\n",
       "      <th>4</th>\n",
       "      <td>536365</td>\n",
       "      <td>84029E</td>\n",
       "      <td>RED WOOLLY HOTTIE WHITE HEART.</td>\n",
       "      <td>6</td>\n",
       "      <td>2016-11-29</td>\n",
       "      <td>3.39</td>\n",
       "      <td>17850</td>\n",
       "      <td>United Kingdom</td>\n",
       "    </tr>\n",
       "  </tbody>\n",
       "</table>\n",
       "</div>"
      ],
      "text/plain": [
       "  invoice_no stock_code                          description  quantity invoice_date  unit_price  customer_id         country\n",
       "0     536365     85123A   WHITE HANGING HEART T-LIGHT HOLDER         6   2016-11-29        2.55        17850  United Kingdom\n",
       "1     536365      71053                  WHITE METAL LANTERN         6   2016-11-29        3.39        17850  United Kingdom\n",
       "2     536365     84406B       CREAM CUPID HEARTS COAT HANGER         8   2016-11-29        2.75        17850  United Kingdom\n",
       "3     536365     84029G  KNITTED UNION FLAG HOT WATER BOTTLE         6   2016-11-29        3.39        17850  United Kingdom\n",
       "4     536365     84029E       RED WOOLLY HOTTIE WHITE HEART.         6   2016-11-29        3.39        17850  United Kingdom"
      ]
     },
     "execution_count": 163,
     "metadata": {},
     "output_type": "execute_result"
    }
   ],
   "source": [
    "df1.head()"
   ]
  },
  {
   "cell_type": "code",
   "execution_count": null,
   "id": "14ffa88c",
   "metadata": {
    "hidden": true
   },
   "outputs": [],
   "source": [
    "#3. description is an useless feature so far\n",
    "    #ACTION: Delete them [variable filtering] "
   ]
  },
  {
   "cell_type": "markdown",
   "id": "c655f1e3",
   "metadata": {
    "heading_collapsed": true,
    "hidden": true
   },
   "source": [
    "#### country"
   ]
  },
  {
   "cell_type": "code",
   "execution_count": 164,
   "id": "3b0fa532",
   "metadata": {
    "ExecuteTime": {
     "end_time": "2022-07-31T12:23:00.508950Z",
     "start_time": "2022-07-31T12:23:00.452530Z"
    },
    "hidden": true
   },
   "outputs": [
    {
     "data": {
      "text/plain": [
       "array(['United Kingdom', 'France', 'Australia', 'Netherlands', 'Germany',\n",
       "       'Norway', 'EIRE', 'Switzerland', 'Spain', 'Poland', 'Portugal',\n",
       "       'Italy', 'Belgium', 'Lithuania', 'Japan', 'Iceland',\n",
       "       'Channel Islands', 'Denmark', 'Cyprus', 'Sweden', 'Austria',\n",
       "       'Israel', 'Finland', 'Greece', 'Singapore', 'Lebanon',\n",
       "       'United Arab Emirates', 'Saudi Arabia', 'Czech Republic', 'Canada',\n",
       "       'Unspecified', 'Brazil', 'USA', 'European Community', 'Bahrain',\n",
       "       'Malta', 'RSA'], dtype=object)"
      ]
     },
     "execution_count": 164,
     "metadata": {},
     "output_type": "execute_result"
    }
   ],
   "source": [
    "df1['country'].unique()"
   ]
  },
  {
   "cell_type": "code",
   "execution_count": 169,
   "id": "28b45132",
   "metadata": {
    "ExecuteTime": {
     "end_time": "2022-07-31T12:36:50.127994Z",
     "start_time": "2022-07-31T12:36:50.089890Z"
    },
    "hidden": true
   },
   "outputs": [
    {
     "data": {
      "text/plain": [
       "37"
      ]
     },
     "execution_count": 169,
     "metadata": {},
     "output_type": "execute_result"
    }
   ],
   "source": [
    "len(df1['country'].unique())"
   ]
  },
  {
   "cell_type": "code",
   "execution_count": 166,
   "id": "fdf660d4",
   "metadata": {
    "ExecuteTime": {
     "end_time": "2022-07-31T12:35:34.444239Z",
     "start_time": "2022-07-31T12:35:34.379284Z"
    },
    "hidden": true
   },
   "outputs": [
    {
     "data": {
      "text/plain": [
       "United Kingdom    0.889509\n",
       "Germany           0.023339\n",
       "France            0.020871\n",
       "EIRE              0.018398\n",
       "Spain             0.006226\n",
       "                    ...   \n",
       "Lithuania         0.000086\n",
       "Brazil            0.000079\n",
       "Czech Republic    0.000074\n",
       "Bahrain           0.000042\n",
       "Saudi Arabia      0.000025\n",
       "Name: country, Length: 37, dtype: float64"
      ]
     },
     "execution_count": 166,
     "metadata": {},
     "output_type": "execute_result"
    }
   ],
   "source": [
    "df1['country'].value_counts(normalize=True)"
   ]
  },
  {
   "cell_type": "code",
   "execution_count": 226,
   "id": "d6d60d21",
   "metadata": {
    "ExecuteTime": {
     "end_time": "2022-07-31T13:48:10.521964Z",
     "start_time": "2022-07-31T13:48:10.419555Z"
    },
    "hidden": true
   },
   "outputs": [
    {
     "data": {
      "text/html": [
       "<div>\n",
       "<style scoped>\n",
       "    .dataframe tbody tr th:only-of-type {\n",
       "        vertical-align: middle;\n",
       "    }\n",
       "\n",
       "    .dataframe tbody tr th {\n",
       "        vertical-align: top;\n",
       "    }\n",
       "\n",
       "    .dataframe thead th {\n",
       "        text-align: right;\n",
       "    }\n",
       "</style>\n",
       "<table border=\"1\" class=\"dataframe\">\n",
       "  <thead>\n",
       "    <tr style=\"text-align: right;\">\n",
       "      <th></th>\n",
       "      <th>country</th>\n",
       "      <th>customer_id</th>\n",
       "    </tr>\n",
       "  </thead>\n",
       "  <tbody>\n",
       "    <tr>\n",
       "      <th>35</th>\n",
       "      <td>United Kingdom</td>\n",
       "      <td>3950</td>\n",
       "    </tr>\n",
       "    <tr>\n",
       "      <th>14</th>\n",
       "      <td>Germany</td>\n",
       "      <td>95</td>\n",
       "    </tr>\n",
       "    <tr>\n",
       "      <th>13</th>\n",
       "      <td>France</td>\n",
       "      <td>87</td>\n",
       "    </tr>\n",
       "    <tr>\n",
       "      <th>30</th>\n",
       "      <td>Spain</td>\n",
       "      <td>31</td>\n",
       "    </tr>\n",
       "    <tr>\n",
       "      <th>3</th>\n",
       "      <td>Belgium</td>\n",
       "      <td>25</td>\n",
       "    </tr>\n",
       "    <tr>\n",
       "      <th>32</th>\n",
       "      <td>Switzerland</td>\n",
       "      <td>21</td>\n",
       "    </tr>\n",
       "    <tr>\n",
       "      <th>26</th>\n",
       "      <td>Portugal</td>\n",
       "      <td>19</td>\n",
       "    </tr>\n",
       "    <tr>\n",
       "      <th>18</th>\n",
       "      <td>Italy</td>\n",
       "      <td>15</td>\n",
       "    </tr>\n",
       "    <tr>\n",
       "      <th>12</th>\n",
       "      <td>Finland</td>\n",
       "      <td>12</td>\n",
       "    </tr>\n",
       "    <tr>\n",
       "      <th>1</th>\n",
       "      <td>Austria</td>\n",
       "      <td>11</td>\n",
       "    </tr>\n",
       "    <tr>\n",
       "      <th>24</th>\n",
       "      <td>Norway</td>\n",
       "      <td>10</td>\n",
       "    </tr>\n",
       "    <tr>\n",
       "      <th>23</th>\n",
       "      <td>Netherlands</td>\n",
       "      <td>9</td>\n",
       "    </tr>\n",
       "    <tr>\n",
       "      <th>0</th>\n",
       "      <td>Australia</td>\n",
       "      <td>9</td>\n",
       "    </tr>\n",
       "    <tr>\n",
       "      <th>9</th>\n",
       "      <td>Denmark</td>\n",
       "      <td>9</td>\n",
       "    </tr>\n",
       "    <tr>\n",
       "      <th>6</th>\n",
       "      <td>Channel Islands</td>\n",
       "      <td>9</td>\n",
       "    </tr>\n",
       "    <tr>\n",
       "      <th>7</th>\n",
       "      <td>Cyprus</td>\n",
       "      <td>8</td>\n",
       "    </tr>\n",
       "    <tr>\n",
       "      <th>31</th>\n",
       "      <td>Sweden</td>\n",
       "      <td>8</td>\n",
       "    </tr>\n",
       "    <tr>\n",
       "      <th>19</th>\n",
       "      <td>Japan</td>\n",
       "      <td>8</td>\n",
       "    </tr>\n",
       "    <tr>\n",
       "      <th>25</th>\n",
       "      <td>Poland</td>\n",
       "      <td>6</td>\n",
       "    </tr>\n",
       "    <tr>\n",
       "      <th>33</th>\n",
       "      <td>USA</td>\n",
       "      <td>4</td>\n",
       "    </tr>\n",
       "    <tr>\n",
       "      <th>5</th>\n",
       "      <td>Canada</td>\n",
       "      <td>4</td>\n",
       "    </tr>\n",
       "    <tr>\n",
       "      <th>36</th>\n",
       "      <td>Unspecified</td>\n",
       "      <td>4</td>\n",
       "    </tr>\n",
       "    <tr>\n",
       "      <th>17</th>\n",
       "      <td>Israel</td>\n",
       "      <td>4</td>\n",
       "    </tr>\n",
       "    <tr>\n",
       "      <th>15</th>\n",
       "      <td>Greece</td>\n",
       "      <td>4</td>\n",
       "    </tr>\n",
       "    <tr>\n",
       "      <th>10</th>\n",
       "      <td>EIRE</td>\n",
       "      <td>3</td>\n",
       "    </tr>\n",
       "    <tr>\n",
       "      <th>22</th>\n",
       "      <td>Malta</td>\n",
       "      <td>2</td>\n",
       "    </tr>\n",
       "    <tr>\n",
       "      <th>34</th>\n",
       "      <td>United Arab Emirates</td>\n",
       "      <td>2</td>\n",
       "    </tr>\n",
       "    <tr>\n",
       "      <th>2</th>\n",
       "      <td>Bahrain</td>\n",
       "      <td>2</td>\n",
       "    </tr>\n",
       "    <tr>\n",
       "      <th>8</th>\n",
       "      <td>Czech Republic</td>\n",
       "      <td>1</td>\n",
       "    </tr>\n",
       "    <tr>\n",
       "      <th>21</th>\n",
       "      <td>Lithuania</td>\n",
       "      <td>1</td>\n",
       "    </tr>\n",
       "  </tbody>\n",
       "</table>\n",
       "</div>"
      ],
      "text/plain": [
       "                 country  customer_id\n",
       "35        United Kingdom         3950\n",
       "14               Germany           95\n",
       "13                France           87\n",
       "30                 Spain           31\n",
       "3                Belgium           25\n",
       "32           Switzerland           21\n",
       "26              Portugal           19\n",
       "18                 Italy           15\n",
       "12               Finland           12\n",
       "1                Austria           11\n",
       "24                Norway           10\n",
       "23           Netherlands            9\n",
       "0              Australia            9\n",
       "9                Denmark            9\n",
       "6        Channel Islands            9\n",
       "7                 Cyprus            8\n",
       "31                Sweden            8\n",
       "19                 Japan            8\n",
       "25                Poland            6\n",
       "33                   USA            4\n",
       "5                 Canada            4\n",
       "36           Unspecified            4\n",
       "17                Israel            4\n",
       "15                Greece            4\n",
       "10                  EIRE            3\n",
       "22                 Malta            2\n",
       "34  United Arab Emirates            2\n",
       "2                Bahrain            2\n",
       "8         Czech Republic            1\n",
       "21             Lithuania            1"
      ]
     },
     "execution_count": 226,
     "metadata": {},
     "output_type": "execute_result"
    }
   ],
   "source": [
    "#unique users per country\n",
    "df1[['customer_id','country']].drop_duplicates().groupby('country').count().reset_index().sort_values('customer_id', ascending=False).head(30)"
   ]
  },
  {
   "cell_type": "code",
   "execution_count": 177,
   "id": "384f0a9b",
   "metadata": {
    "ExecuteTime": {
     "end_time": "2022-07-31T12:54:10.064200Z",
     "start_time": "2022-07-31T12:54:10.057451Z"
    },
    "hidden": true
   },
   "outputs": [],
   "source": [
    "#4. country can be a new feature, but needs cleaning\n",
    "    #ACTION: remove \"European Community\", since it's just 1 customer from this location, and \"Unspecified\" too, since it's just 4 customers from there. [variable filtering]\n",
    "    #ACTION 2: # let's also replace the country name by its lat and lon (center of country) [feature engeneering]"
   ]
  },
  {
   "cell_type": "markdown",
   "id": "0a7b199c",
   "metadata": {
    "heading_collapsed": true
   },
   "source": [
    "# Variable Filtering"
   ]
  },
  {
   "cell_type": "code",
   "execution_count": 81,
   "id": "f0e59705",
   "metadata": {
    "ExecuteTime": {
     "end_time": "2022-07-30T18:01:02.377576Z",
     "start_time": "2022-07-30T18:01:02.372911Z"
    },
    "hidden": true
   },
   "outputs": [],
   "source": [
    "#In our scenario, it's needed to do the Variable Filtering BEFORE the Feature Engeneering.\n",
    "  #Thats because on F.E, we change our granularity, and keep the variable filter after this won't make sense!"
   ]
  },
  {
   "cell_type": "code",
   "execution_count": 233,
   "id": "4ce003dc",
   "metadata": {
    "ExecuteTime": {
     "end_time": "2022-07-31T14:42:19.623038Z",
     "start_time": "2022-07-31T14:42:19.618017Z"
    },
    "hidden": true
   },
   "outputs": [],
   "source": [
    "# In this section, let's execute actions identified on Descriptive Statistical\n",
    "\n",
    "#Numerical Attributes\n",
    "#1. quantity has negative numbers\n",
    "    #ACTION: separate our dataset into sales and devolutions [variable filtering] \n",
    "        #-> LAST TO DO!\n",
    "    \n",
    "#2. unit_price = zero\n",
    "    #ACTION: remove them, and analyse if threshold e really zero [variable filtering]\n",
    "    \n",
    "#Cathegorical Attributes\n",
    "#2. stock_code has values useless values: ['POST', 'D', 'M', 'PADS', 'DOT', 'CRUK']\n",
    "    #ACTION: remove them [variable filtering]\n",
    "    \n",
    "#3. description is an useless feature so far\n",
    "    #ACTION: remove them [variable filtering] \n",
    "\n",
    "#4. country can be a new feature, but needs cleaning\n",
    "    #ACTION: remove \"European Community\", since it's just 1 customer from this location, and \"Unspecified\" too, since it's just 4 customers from there. [variable filtering]"
   ]
  },
  {
   "cell_type": "code",
   "execution_count": 240,
   "id": "bad3a028",
   "metadata": {
    "ExecuteTime": {
     "end_time": "2022-07-31T14:42:57.776788Z",
     "start_time": "2022-07-31T14:42:57.760420Z"
    },
    "hidden": true
   },
   "outputs": [],
   "source": [
    "df2 = df1.copy()"
   ]
  },
  {
   "cell_type": "markdown",
   "id": "9e511d6a",
   "metadata": {
    "heading_collapsed": true,
    "hidden": true
   },
   "source": [
    "## Cathegorical Attributes"
   ]
  },
  {
   "cell_type": "markdown",
   "id": "1de973f5",
   "metadata": {
    "heading_collapsed": true,
    "hidden": true
   },
   "source": [
    "### [2] stock_code"
   ]
  },
  {
   "cell_type": "code",
   "execution_count": 241,
   "id": "224559d1",
   "metadata": {
    "ExecuteTime": {
     "end_time": "2022-07-31T14:42:58.967286Z",
     "start_time": "2022-07-31T14:42:58.887612Z"
    },
    "hidden": true
   },
   "outputs": [
    {
     "data": {
      "text/html": [
       "<div>\n",
       "<style scoped>\n",
       "    .dataframe tbody tr th:only-of-type {\n",
       "        vertical-align: middle;\n",
       "    }\n",
       "\n",
       "    .dataframe tbody tr th {\n",
       "        vertical-align: top;\n",
       "    }\n",
       "\n",
       "    .dataframe thead th {\n",
       "        text-align: right;\n",
       "    }\n",
       "</style>\n",
       "<table border=\"1\" class=\"dataframe\">\n",
       "  <thead>\n",
       "    <tr style=\"text-align: right;\">\n",
       "      <th></th>\n",
       "      <th>invoice_no</th>\n",
       "      <th>stock_code</th>\n",
       "      <th>description</th>\n",
       "      <th>quantity</th>\n",
       "      <th>invoice_date</th>\n",
       "      <th>unit_price</th>\n",
       "      <th>customer_id</th>\n",
       "      <th>country</th>\n",
       "    </tr>\n",
       "  </thead>\n",
       "  <tbody>\n",
       "    <tr>\n",
       "      <th>45</th>\n",
       "      <td>536370</td>\n",
       "      <td>POST</td>\n",
       "      <td>POSTAGE</td>\n",
       "      <td>3</td>\n",
       "      <td>2016-11-29</td>\n",
       "      <td>18.00</td>\n",
       "      <td>12583</td>\n",
       "      <td>France</td>\n",
       "    </tr>\n",
       "    <tr>\n",
       "      <th>141</th>\n",
       "      <td>C536379</td>\n",
       "      <td>D</td>\n",
       "      <td>Discount</td>\n",
       "      <td>-1</td>\n",
       "      <td>2016-11-29</td>\n",
       "      <td>27.50</td>\n",
       "      <td>14527</td>\n",
       "      <td>United Kingdom</td>\n",
       "    </tr>\n",
       "    <tr>\n",
       "      <th>386</th>\n",
       "      <td>536403</td>\n",
       "      <td>POST</td>\n",
       "      <td>POSTAGE</td>\n",
       "      <td>1</td>\n",
       "      <td>2016-11-29</td>\n",
       "      <td>15.00</td>\n",
       "      <td>12791</td>\n",
       "      <td>Netherlands</td>\n",
       "    </tr>\n",
       "    <tr>\n",
       "      <th>1122</th>\n",
       "      <td>536527</td>\n",
       "      <td>POST</td>\n",
       "      <td>POSTAGE</td>\n",
       "      <td>1</td>\n",
       "      <td>2016-11-29</td>\n",
       "      <td>18.00</td>\n",
       "      <td>12662</td>\n",
       "      <td>Germany</td>\n",
       "    </tr>\n",
       "    <tr>\n",
       "      <th>1698</th>\n",
       "      <td>536569</td>\n",
       "      <td>M</td>\n",
       "      <td>Manual</td>\n",
       "      <td>1</td>\n",
       "      <td>2016-11-29</td>\n",
       "      <td>1.25</td>\n",
       "      <td>16274</td>\n",
       "      <td>United Kingdom</td>\n",
       "    </tr>\n",
       "    <tr>\n",
       "      <th>...</th>\n",
       "      <td>...</td>\n",
       "      <td>...</td>\n",
       "      <td>...</td>\n",
       "      <td>...</td>\n",
       "      <td>...</td>\n",
       "      <td>...</td>\n",
       "      <td>...</td>\n",
       "      <td>...</td>\n",
       "    </tr>\n",
       "    <tr>\n",
       "      <th>406413</th>\n",
       "      <td>581494</td>\n",
       "      <td>POST</td>\n",
       "      <td>POSTAGE</td>\n",
       "      <td>2</td>\n",
       "      <td>2017-12-07</td>\n",
       "      <td>18.00</td>\n",
       "      <td>12518</td>\n",
       "      <td>Germany</td>\n",
       "    </tr>\n",
       "    <tr>\n",
       "      <th>406461</th>\n",
       "      <td>C581499</td>\n",
       "      <td>M</td>\n",
       "      <td>Manual</td>\n",
       "      <td>-1</td>\n",
       "      <td>2017-12-07</td>\n",
       "      <td>224.69</td>\n",
       "      <td>15498</td>\n",
       "      <td>United Kingdom</td>\n",
       "    </tr>\n",
       "    <tr>\n",
       "      <th>406650</th>\n",
       "      <td>581570</td>\n",
       "      <td>POST</td>\n",
       "      <td>POSTAGE</td>\n",
       "      <td>1</td>\n",
       "      <td>2017-12-07</td>\n",
       "      <td>18.00</td>\n",
       "      <td>12662</td>\n",
       "      <td>Germany</td>\n",
       "    </tr>\n",
       "    <tr>\n",
       "      <th>406687</th>\n",
       "      <td>581574</td>\n",
       "      <td>POST</td>\n",
       "      <td>POSTAGE</td>\n",
       "      <td>2</td>\n",
       "      <td>2017-12-07</td>\n",
       "      <td>18.00</td>\n",
       "      <td>12526</td>\n",
       "      <td>Germany</td>\n",
       "    </tr>\n",
       "    <tr>\n",
       "      <th>406688</th>\n",
       "      <td>581578</td>\n",
       "      <td>POST</td>\n",
       "      <td>POSTAGE</td>\n",
       "      <td>3</td>\n",
       "      <td>2017-12-07</td>\n",
       "      <td>18.00</td>\n",
       "      <td>12713</td>\n",
       "      <td>Germany</td>\n",
       "    </tr>\n",
       "  </tbody>\n",
       "</table>\n",
       "<p>1774 rows × 8 columns</p>\n",
       "</div>"
      ],
      "text/plain": [
       "       invoice_no stock_code description  quantity invoice_date  unit_price  customer_id         country\n",
       "45         536370       POST     POSTAGE         3   2016-11-29       18.00        12583          France\n",
       "141       C536379          D    Discount        -1   2016-11-29       27.50        14527  United Kingdom\n",
       "386        536403       POST     POSTAGE         1   2016-11-29       15.00        12791     Netherlands\n",
       "1122       536527       POST     POSTAGE         1   2016-11-29       18.00        12662         Germany\n",
       "1698       536569          M      Manual         1   2016-11-29        1.25        16274  United Kingdom\n",
       "...           ...        ...         ...       ...          ...         ...          ...             ...\n",
       "406413     581494       POST     POSTAGE         2   2017-12-07       18.00        12518         Germany\n",
       "406461    C581499          M      Manual        -1   2017-12-07      224.69        15498  United Kingdom\n",
       "406650     581570       POST     POSTAGE         1   2017-12-07       18.00        12662         Germany\n",
       "406687     581574       POST     POSTAGE         2   2017-12-07       18.00        12526         Germany\n",
       "406688     581578       POST     POSTAGE         3   2017-12-07       18.00        12713         Germany\n",
       "\n",
       "[1774 rows x 8 columns]"
      ]
     },
     "execution_count": 241,
     "metadata": {},
     "output_type": "execute_result"
    }
   ],
   "source": [
    "#2. stock_code has values useless values: ['POST', 'D', 'M', 'PADS', 'DOT', 'CRUK']\n",
    "    #ACTION: remove them [variable filtering]\n",
    "    \n",
    "#identify them\n",
    "df2.loc[df2['stock_code'].isin(['POST', 'D', 'M', 'PADS', 'DOT', 'CRUK']) ] #1761 rows"
   ]
  },
  {
   "cell_type": "code",
   "execution_count": 242,
   "id": "2314ff64",
   "metadata": {
    "ExecuteTime": {
     "end_time": "2022-07-31T14:42:59.652020Z",
     "start_time": "2022-07-31T14:42:59.552781Z"
    },
    "hidden": true
   },
   "outputs": [],
   "source": [
    "#keem just not in list\n",
    "df2 = df2.loc[~df2['stock_code'].isin(['POST', 'D', 'M', 'PADS', 'DOT', 'CRUK']) ] #405020 rows"
   ]
  },
  {
   "cell_type": "markdown",
   "id": "1efc86e7",
   "metadata": {
    "heading_collapsed": true,
    "hidden": true
   },
   "source": [
    "### [3] description"
   ]
  },
  {
   "cell_type": "code",
   "execution_count": 243,
   "id": "9de3650f",
   "metadata": {
    "ExecuteTime": {
     "end_time": "2022-07-31T14:43:00.545777Z",
     "start_time": "2022-07-31T14:43:00.519533Z"
    },
    "hidden": true
   },
   "outputs": [],
   "source": [
    "#3. description is an useless feature so far\n",
    "    #ACTION: remove them [variable filtering] \n",
    "df2 = df2.drop('description', axis=1)"
   ]
  },
  {
   "cell_type": "markdown",
   "id": "d98f3f9e",
   "metadata": {
    "heading_collapsed": true,
    "hidden": true
   },
   "source": [
    "### [4] country"
   ]
  },
  {
   "cell_type": "code",
   "execution_count": 244,
   "id": "251690a1",
   "metadata": {
    "ExecuteTime": {
     "end_time": "2022-07-31T14:43:05.171458Z",
     "start_time": "2022-07-31T14:43:05.136002Z"
    },
    "hidden": true
   },
   "outputs": [
    {
     "data": {
      "text/html": [
       "<div>\n",
       "<style scoped>\n",
       "    .dataframe tbody tr th:only-of-type {\n",
       "        vertical-align: middle;\n",
       "    }\n",
       "\n",
       "    .dataframe tbody tr th {\n",
       "        vertical-align: top;\n",
       "    }\n",
       "\n",
       "    .dataframe thead th {\n",
       "        text-align: right;\n",
       "    }\n",
       "</style>\n",
       "<table border=\"1\" class=\"dataframe\">\n",
       "  <thead>\n",
       "    <tr style=\"text-align: right;\">\n",
       "      <th></th>\n",
       "      <th>invoice_no</th>\n",
       "      <th>stock_code</th>\n",
       "      <th>quantity</th>\n",
       "      <th>invoice_date</th>\n",
       "      <th>unit_price</th>\n",
       "      <th>customer_id</th>\n",
       "      <th>country</th>\n",
       "    </tr>\n",
       "  </thead>\n",
       "  <tbody>\n",
       "    <tr>\n",
       "      <th>105769</th>\n",
       "      <td>549687</td>\n",
       "      <td>20685</td>\n",
       "      <td>2</td>\n",
       "      <td>2017-04-09</td>\n",
       "      <td>7.95</td>\n",
       "      <td>12363</td>\n",
       "      <td>Unspecified</td>\n",
       "    </tr>\n",
       "    <tr>\n",
       "      <th>105770</th>\n",
       "      <td>549687</td>\n",
       "      <td>22691</td>\n",
       "      <td>2</td>\n",
       "      <td>2017-04-09</td>\n",
       "      <td>7.95</td>\n",
       "      <td>12363</td>\n",
       "      <td>Unspecified</td>\n",
       "    </tr>\n",
       "    <tr>\n",
       "      <th>105771</th>\n",
       "      <td>549687</td>\n",
       "      <td>48116</td>\n",
       "      <td>2</td>\n",
       "      <td>2017-04-09</td>\n",
       "      <td>7.95</td>\n",
       "      <td>12363</td>\n",
       "      <td>Unspecified</td>\n",
       "    </tr>\n",
       "    <tr>\n",
       "      <th>105772</th>\n",
       "      <td>549687</td>\n",
       "      <td>21213</td>\n",
       "      <td>24</td>\n",
       "      <td>2017-04-09</td>\n",
       "      <td>0.55</td>\n",
       "      <td>12363</td>\n",
       "      <td>Unspecified</td>\n",
       "    </tr>\n",
       "    <tr>\n",
       "      <th>105773</th>\n",
       "      <td>549687</td>\n",
       "      <td>21977</td>\n",
       "      <td>24</td>\n",
       "      <td>2017-04-09</td>\n",
       "      <td>0.55</td>\n",
       "      <td>12363</td>\n",
       "      <td>Unspecified</td>\n",
       "    </tr>\n",
       "    <tr>\n",
       "      <th>...</th>\n",
       "      <td>...</td>\n",
       "      <td>...</td>\n",
       "      <td>...</td>\n",
       "      <td>...</td>\n",
       "      <td>...</td>\n",
       "      <td>...</td>\n",
       "      <td>...</td>\n",
       "    </tr>\n",
       "    <tr>\n",
       "      <th>223981</th>\n",
       "      <td>564051</td>\n",
       "      <td>23007</td>\n",
       "      <td>1</td>\n",
       "      <td>2017-08-20</td>\n",
       "      <td>16.95</td>\n",
       "      <td>14265</td>\n",
       "      <td>Unspecified</td>\n",
       "    </tr>\n",
       "    <tr>\n",
       "      <th>223982</th>\n",
       "      <td>564051</td>\n",
       "      <td>21833</td>\n",
       "      <td>12</td>\n",
       "      <td>2017-08-20</td>\n",
       "      <td>1.69</td>\n",
       "      <td>14265</td>\n",
       "      <td>Unspecified</td>\n",
       "    </tr>\n",
       "    <tr>\n",
       "      <th>223983</th>\n",
       "      <td>564051</td>\n",
       "      <td>23081</td>\n",
       "      <td>2</td>\n",
       "      <td>2017-08-20</td>\n",
       "      <td>8.25</td>\n",
       "      <td>14265</td>\n",
       "      <td>Unspecified</td>\n",
       "    </tr>\n",
       "    <tr>\n",
       "      <th>223984</th>\n",
       "      <td>564051</td>\n",
       "      <td>23046</td>\n",
       "      <td>2</td>\n",
       "      <td>2017-08-20</td>\n",
       "      <td>6.65</td>\n",
       "      <td>14265</td>\n",
       "      <td>Unspecified</td>\n",
       "    </tr>\n",
       "    <tr>\n",
       "      <th>223985</th>\n",
       "      <td>564051</td>\n",
       "      <td>23045</td>\n",
       "      <td>4</td>\n",
       "      <td>2017-08-20</td>\n",
       "      <td>4.15</td>\n",
       "      <td>14265</td>\n",
       "      <td>Unspecified</td>\n",
       "    </tr>\n",
       "  </tbody>\n",
       "</table>\n",
       "<p>302 rows × 7 columns</p>\n",
       "</div>"
      ],
      "text/plain": [
       "       invoice_no stock_code  quantity invoice_date  unit_price  customer_id      country\n",
       "105769     549687      20685         2   2017-04-09        7.95        12363  Unspecified\n",
       "105770     549687      22691         2   2017-04-09        7.95        12363  Unspecified\n",
       "105771     549687      48116         2   2017-04-09        7.95        12363  Unspecified\n",
       "105772     549687      21213        24   2017-04-09        0.55        12363  Unspecified\n",
       "105773     549687      21977        24   2017-04-09        0.55        12363  Unspecified\n",
       "...           ...        ...       ...          ...         ...          ...          ...\n",
       "223981     564051      23007         1   2017-08-20       16.95        14265  Unspecified\n",
       "223982     564051      21833        12   2017-08-20        1.69        14265  Unspecified\n",
       "223983     564051      23081         2   2017-08-20        8.25        14265  Unspecified\n",
       "223984     564051      23046         2   2017-08-20        6.65        14265  Unspecified\n",
       "223985     564051      23045         4   2017-08-20        4.15        14265  Unspecified\n",
       "\n",
       "[302 rows x 7 columns]"
      ]
     },
     "execution_count": 244,
     "metadata": {},
     "output_type": "execute_result"
    }
   ],
   "source": [
    "#4. country can be a new feature, but needs cleaning\n",
    "    #ACTION: remove \"European Community\", since it's just 1 customer from this location, and \"Unspecified\" too, since it's just 4 customers from there. [variable filtering]\n",
    "df2[df2['country'].isin( ['European Community', 'Unspecified' ] ) ] #302 rows"
   ]
  },
  {
   "cell_type": "code",
   "execution_count": 245,
   "id": "01ab2cea",
   "metadata": {
    "ExecuteTime": {
     "end_time": "2022-07-31T14:43:07.213029Z",
     "start_time": "2022-07-31T14:43:07.162189Z"
    },
    "hidden": true
   },
   "outputs": [],
   "source": [
    "#remove them:\n",
    "df2 = df2[~df2['country'].isin( ['European Community', 'Unspecified' ] ) ]"
   ]
  },
  {
   "cell_type": "markdown",
   "id": "15c78d84",
   "metadata": {
    "hidden": true
   },
   "source": [
    "## Numerical Attributes"
   ]
  },
  {
   "cell_type": "markdown",
   "id": "4fe4e81f",
   "metadata": {
    "heading_collapsed": true,
    "hidden": true
   },
   "source": [
    "### [2] unit_price"
   ]
  },
  {
   "cell_type": "code",
   "execution_count": 246,
   "id": "eaa6f193",
   "metadata": {
    "ExecuteTime": {
     "end_time": "2022-07-31T14:43:16.293540Z",
     "start_time": "2022-07-31T14:43:16.263735Z"
    },
    "hidden": true
   },
   "outputs": [
    {
     "data": {
      "text/html": [
       "<div>\n",
       "<style scoped>\n",
       "    .dataframe tbody tr th:only-of-type {\n",
       "        vertical-align: middle;\n",
       "    }\n",
       "\n",
       "    .dataframe tbody tr th {\n",
       "        vertical-align: top;\n",
       "    }\n",
       "\n",
       "    .dataframe thead th {\n",
       "        text-align: right;\n",
       "    }\n",
       "</style>\n",
       "<table border=\"1\" class=\"dataframe\">\n",
       "  <thead>\n",
       "    <tr style=\"text-align: right;\">\n",
       "      <th></th>\n",
       "      <th>invoice_no</th>\n",
       "      <th>stock_code</th>\n",
       "      <th>quantity</th>\n",
       "      <th>invoice_date</th>\n",
       "      <th>unit_price</th>\n",
       "      <th>customer_id</th>\n",
       "      <th>country</th>\n",
       "    </tr>\n",
       "  </thead>\n",
       "  <tbody>\n",
       "    <tr>\n",
       "      <th>7012</th>\n",
       "      <td>537197</td>\n",
       "      <td>22841</td>\n",
       "      <td>1</td>\n",
       "      <td>2016-12-03</td>\n",
       "      <td>0.0</td>\n",
       "      <td>12647</td>\n",
       "      <td>Germany</td>\n",
       "    </tr>\n",
       "    <tr>\n",
       "      <th>23071</th>\n",
       "      <td>539263</td>\n",
       "      <td>22580</td>\n",
       "      <td>4</td>\n",
       "      <td>2016-12-14</td>\n",
       "      <td>0.0</td>\n",
       "      <td>16560</td>\n",
       "      <td>United Kingdom</td>\n",
       "    </tr>\n",
       "    <tr>\n",
       "      <th>26046</th>\n",
       "      <td>539722</td>\n",
       "      <td>22423</td>\n",
       "      <td>10</td>\n",
       "      <td>2016-12-19</td>\n",
       "      <td>0.0</td>\n",
       "      <td>14911</td>\n",
       "      <td>EIRE</td>\n",
       "    </tr>\n",
       "    <tr>\n",
       "      <th>29881</th>\n",
       "      <td>540372</td>\n",
       "      <td>22090</td>\n",
       "      <td>24</td>\n",
       "      <td>2017-01-04</td>\n",
       "      <td>0.0</td>\n",
       "      <td>13081</td>\n",
       "      <td>United Kingdom</td>\n",
       "    </tr>\n",
       "    <tr>\n",
       "      <th>29883</th>\n",
       "      <td>540372</td>\n",
       "      <td>22553</td>\n",
       "      <td>24</td>\n",
       "      <td>2017-01-04</td>\n",
       "      <td>0.0</td>\n",
       "      <td>13081</td>\n",
       "      <td>United Kingdom</td>\n",
       "    </tr>\n",
       "    <tr>\n",
       "      <th>...</th>\n",
       "      <td>...</td>\n",
       "      <td>...</td>\n",
       "      <td>...</td>\n",
       "      <td>...</td>\n",
       "      <td>...</td>\n",
       "      <td>...</td>\n",
       "      <td>...</td>\n",
       "    </tr>\n",
       "    <tr>\n",
       "      <th>342114</th>\n",
       "      <td>575579</td>\n",
       "      <td>22437</td>\n",
       "      <td>20</td>\n",
       "      <td>2017-11-08</td>\n",
       "      <td>0.0</td>\n",
       "      <td>13081</td>\n",
       "      <td>United Kingdom</td>\n",
       "    </tr>\n",
       "    <tr>\n",
       "      <th>342115</th>\n",
       "      <td>575579</td>\n",
       "      <td>22089</td>\n",
       "      <td>24</td>\n",
       "      <td>2017-11-08</td>\n",
       "      <td>0.0</td>\n",
       "      <td>13081</td>\n",
       "      <td>United Kingdom</td>\n",
       "    </tr>\n",
       "    <tr>\n",
       "      <th>360854</th>\n",
       "      <td>577129</td>\n",
       "      <td>22464</td>\n",
       "      <td>4</td>\n",
       "      <td>2017-11-15</td>\n",
       "      <td>0.0</td>\n",
       "      <td>15602</td>\n",
       "      <td>United Kingdom</td>\n",
       "    </tr>\n",
       "    <tr>\n",
       "      <th>362308</th>\n",
       "      <td>577314</td>\n",
       "      <td>23407</td>\n",
       "      <td>2</td>\n",
       "      <td>2017-11-16</td>\n",
       "      <td>0.0</td>\n",
       "      <td>12444</td>\n",
       "      <td>Norway</td>\n",
       "    </tr>\n",
       "    <tr>\n",
       "      <th>378894</th>\n",
       "      <td>578841</td>\n",
       "      <td>84826</td>\n",
       "      <td>12540</td>\n",
       "      <td>2017-11-23</td>\n",
       "      <td>0.0</td>\n",
       "      <td>13256</td>\n",
       "      <td>United Kingdom</td>\n",
       "    </tr>\n",
       "  </tbody>\n",
       "</table>\n",
       "<p>33 rows × 7 columns</p>\n",
       "</div>"
      ],
      "text/plain": [
       "       invoice_no stock_code  quantity invoice_date  unit_price  customer_id         country\n",
       "7012       537197      22841         1   2016-12-03         0.0        12647         Germany\n",
       "23071      539263      22580         4   2016-12-14         0.0        16560  United Kingdom\n",
       "26046      539722      22423        10   2016-12-19         0.0        14911            EIRE\n",
       "29881      540372      22090        24   2017-01-04         0.0        13081  United Kingdom\n",
       "29883      540372      22553        24   2017-01-04         0.0        13081  United Kingdom\n",
       "...           ...        ...       ...          ...         ...          ...             ...\n",
       "342114     575579      22437        20   2017-11-08         0.0        13081  United Kingdom\n",
       "342115     575579      22089        24   2017-11-08         0.0        13081  United Kingdom\n",
       "360854     577129      22464         4   2017-11-15         0.0        15602  United Kingdom\n",
       "362308     577314      23407         2   2017-11-16         0.0        12444          Norway\n",
       "378894     578841      84826     12540   2017-11-23         0.0        13256  United Kingdom\n",
       "\n",
       "[33 rows x 7 columns]"
      ]
     },
     "execution_count": 246,
     "metadata": {},
     "output_type": "execute_result"
    }
   ],
   "source": [
    "#2. unit_price = zero\n",
    "    #ACTION: remove them, and analyse if threshold e really zero [variable filtering]\n",
    "    #(starting with item #2, since we are removing lines here, and will separate dataset next)\n",
    "    \n",
    "#check products with unit_price = 0\n",
    "df2.loc[df2['unit_price'] == 0 ].drop_duplicates()"
   ]
  },
  {
   "cell_type": "code",
   "execution_count": 247,
   "id": "de116080",
   "metadata": {
    "ExecuteTime": {
     "end_time": "2022-07-31T14:43:56.560666Z",
     "start_time": "2022-07-31T14:43:56.360058Z"
    },
    "hidden": true
   },
   "outputs": [
    {
     "data": {
      "text/html": [
       "<div>\n",
       "<style scoped>\n",
       "    .dataframe tbody tr th:only-of-type {\n",
       "        vertical-align: middle;\n",
       "    }\n",
       "\n",
       "    .dataframe tbody tr th {\n",
       "        vertical-align: top;\n",
       "    }\n",
       "\n",
       "    .dataframe thead th {\n",
       "        text-align: right;\n",
       "    }\n",
       "</style>\n",
       "<table border=\"1\" class=\"dataframe\">\n",
       "  <thead>\n",
       "    <tr style=\"text-align: right;\">\n",
       "      <th></th>\n",
       "      <th>invoice_no</th>\n",
       "      <th>stock_code</th>\n",
       "      <th>quantity</th>\n",
       "      <th>invoice_date</th>\n",
       "      <th>unit_price</th>\n",
       "      <th>customer_id</th>\n",
       "      <th>country</th>\n",
       "    </tr>\n",
       "  </thead>\n",
       "  <tbody>\n",
       "    <tr>\n",
       "      <th>265506</th>\n",
       "      <td>568375</td>\n",
       "      <td>BANK CHARGES</td>\n",
       "      <td>1</td>\n",
       "      <td>2017-09-24</td>\n",
       "      <td>0.001</td>\n",
       "      <td>13405</td>\n",
       "      <td>United Kingdom</td>\n",
       "    </tr>\n",
       "    <tr>\n",
       "      <th>3102</th>\n",
       "      <td>C536757</td>\n",
       "      <td>84347</td>\n",
       "      <td>-9360</td>\n",
       "      <td>2016-11-30</td>\n",
       "      <td>0.030</td>\n",
       "      <td>15838</td>\n",
       "      <td>United Kingdom</td>\n",
       "    </tr>\n",
       "    <tr>\n",
       "      <th>251195</th>\n",
       "      <td>567102</td>\n",
       "      <td>16045</td>\n",
       "      <td>500</td>\n",
       "      <td>2017-09-14</td>\n",
       "      <td>0.040</td>\n",
       "      <td>14124</td>\n",
       "      <td>United Kingdom</td>\n",
       "    </tr>\n",
       "    <tr>\n",
       "      <th>222602</th>\n",
       "      <td>563917</td>\n",
       "      <td>16045</td>\n",
       "      <td>100</td>\n",
       "      <td>2017-08-19</td>\n",
       "      <td>0.040</td>\n",
       "      <td>14572</td>\n",
       "      <td>United Kingdom</td>\n",
       "    </tr>\n",
       "    <tr>\n",
       "      <th>297710</th>\n",
       "      <td>571312</td>\n",
       "      <td>16045</td>\n",
       "      <td>100</td>\n",
       "      <td>2017-10-15</td>\n",
       "      <td>0.040</td>\n",
       "      <td>12474</td>\n",
       "      <td>Germany</td>\n",
       "    </tr>\n",
       "    <tr>\n",
       "      <th>359801</th>\n",
       "      <td>577057</td>\n",
       "      <td>16045</td>\n",
       "      <td>100</td>\n",
       "      <td>2017-11-15</td>\n",
       "      <td>0.040</td>\n",
       "      <td>12748</td>\n",
       "      <td>United Kingdom</td>\n",
       "    </tr>\n",
       "    <tr>\n",
       "      <th>297650</th>\n",
       "      <td>571308</td>\n",
       "      <td>16045</td>\n",
       "      <td>100</td>\n",
       "      <td>2017-10-15</td>\n",
       "      <td>0.040</td>\n",
       "      <td>12475</td>\n",
       "      <td>Germany</td>\n",
       "    </tr>\n",
       "    <tr>\n",
       "      <th>396025</th>\n",
       "      <td>580619</td>\n",
       "      <td>16045</td>\n",
       "      <td>100</td>\n",
       "      <td>2017-12-03</td>\n",
       "      <td>0.040</td>\n",
       "      <td>15053</td>\n",
       "      <td>United Kingdom</td>\n",
       "    </tr>\n",
       "    <tr>\n",
       "      <th>218438</th>\n",
       "      <td>563503</td>\n",
       "      <td>16045</td>\n",
       "      <td>200</td>\n",
       "      <td>2017-08-15</td>\n",
       "      <td>0.040</td>\n",
       "      <td>16488</td>\n",
       "      <td>United Kingdom</td>\n",
       "    </tr>\n",
       "    <tr>\n",
       "      <th>299572</th>\n",
       "      <td>571496</td>\n",
       "      <td>16045</td>\n",
       "      <td>100</td>\n",
       "      <td>2017-10-15</td>\n",
       "      <td>0.040</td>\n",
       "      <td>13265</td>\n",
       "      <td>United Kingdom</td>\n",
       "    </tr>\n",
       "  </tbody>\n",
       "</table>\n",
       "</div>"
      ],
      "text/plain": [
       "       invoice_no    stock_code  quantity invoice_date  unit_price  customer_id         country\n",
       "265506     568375  BANK CHARGES         1   2017-09-24       0.001        13405  United Kingdom\n",
       "3102      C536757         84347     -9360   2016-11-30       0.030        15838  United Kingdom\n",
       "251195     567102         16045       500   2017-09-14       0.040        14124  United Kingdom\n",
       "222602     563917         16045       100   2017-08-19       0.040        14572  United Kingdom\n",
       "297710     571312         16045       100   2017-10-15       0.040        12474         Germany\n",
       "359801     577057         16045       100   2017-11-15       0.040        12748  United Kingdom\n",
       "297650     571308         16045       100   2017-10-15       0.040        12475         Germany\n",
       "396025     580619         16045       100   2017-12-03       0.040        15053  United Kingdom\n",
       "218438     563503         16045       200   2017-08-15       0.040        16488  United Kingdom\n",
       "299572     571496         16045       100   2017-10-15       0.040        13265  United Kingdom"
      ]
     },
     "execution_count": 247,
     "metadata": {},
     "output_type": "execute_result"
    }
   ],
   "source": [
    "#check > 0 asc\n",
    "df2.loc[df2['unit_price'] > 0 ].sort_values('unit_price').head(10)"
   ]
  },
  {
   "cell_type": "code",
   "execution_count": 248,
   "id": "deaaa359",
   "metadata": {
    "ExecuteTime": {
     "end_time": "2022-07-31T14:44:05.334429Z",
     "start_time": "2022-07-31T14:44:05.135378Z"
    },
    "hidden": true
   },
   "outputs": [
    {
     "data": {
      "text/html": [
       "<div>\n",
       "<style scoped>\n",
       "    .dataframe tbody tr th:only-of-type {\n",
       "        vertical-align: middle;\n",
       "    }\n",
       "\n",
       "    .dataframe tbody tr th {\n",
       "        vertical-align: top;\n",
       "    }\n",
       "\n",
       "    .dataframe thead th {\n",
       "        text-align: right;\n",
       "    }\n",
       "</style>\n",
       "<table border=\"1\" class=\"dataframe\">\n",
       "  <thead>\n",
       "    <tr style=\"text-align: right;\">\n",
       "      <th></th>\n",
       "      <th>invoice_no</th>\n",
       "      <th>stock_code</th>\n",
       "      <th>quantity</th>\n",
       "      <th>invoice_date</th>\n",
       "      <th>unit_price</th>\n",
       "      <th>customer_id</th>\n",
       "      <th>country</th>\n",
       "    </tr>\n",
       "  </thead>\n",
       "  <tbody>\n",
       "    <tr>\n",
       "      <th>321366</th>\n",
       "      <td>573405</td>\n",
       "      <td>16045</td>\n",
       "      <td>100</td>\n",
       "      <td>2017-10-28</td>\n",
       "      <td>0.04</td>\n",
       "      <td>13822</td>\n",
       "      <td>United Kingdom</td>\n",
       "    </tr>\n",
       "    <tr>\n",
       "      <th>303945</th>\n",
       "      <td>571937</td>\n",
       "      <td>16045</td>\n",
       "      <td>100</td>\n",
       "      <td>2017-10-18</td>\n",
       "      <td>0.04</td>\n",
       "      <td>14911</td>\n",
       "      <td>EIRE</td>\n",
       "    </tr>\n",
       "    <tr>\n",
       "      <th>192597</th>\n",
       "      <td>560504</td>\n",
       "      <td>16045</td>\n",
       "      <td>100</td>\n",
       "      <td>2017-07-17</td>\n",
       "      <td>0.04</td>\n",
       "      <td>13081</td>\n",
       "      <td>United Kingdom</td>\n",
       "    </tr>\n",
       "    <tr>\n",
       "      <th>297650</th>\n",
       "      <td>571308</td>\n",
       "      <td>16045</td>\n",
       "      <td>100</td>\n",
       "      <td>2017-10-15</td>\n",
       "      <td>0.04</td>\n",
       "      <td>12475</td>\n",
       "      <td>Germany</td>\n",
       "    </tr>\n",
       "    <tr>\n",
       "      <th>353496</th>\n",
       "      <td>576513</td>\n",
       "      <td>16045</td>\n",
       "      <td>100</td>\n",
       "      <td>2017-11-13</td>\n",
       "      <td>0.04</td>\n",
       "      <td>14715</td>\n",
       "      <td>United Kingdom</td>\n",
       "    </tr>\n",
       "    <tr>\n",
       "      <th>188809</th>\n",
       "      <td>560106</td>\n",
       "      <td>16045</td>\n",
       "      <td>100</td>\n",
       "      <td>2017-07-12</td>\n",
       "      <td>0.04</td>\n",
       "      <td>17554</td>\n",
       "      <td>United Kingdom</td>\n",
       "    </tr>\n",
       "    <tr>\n",
       "      <th>349665</th>\n",
       "      <td>576076</td>\n",
       "      <td>16045</td>\n",
       "      <td>100</td>\n",
       "      <td>2017-11-11</td>\n",
       "      <td>0.04</td>\n",
       "      <td>14382</td>\n",
       "      <td>United Kingdom</td>\n",
       "    </tr>\n",
       "    <tr>\n",
       "      <th>258948</th>\n",
       "      <td>567866</td>\n",
       "      <td>16045</td>\n",
       "      <td>100</td>\n",
       "      <td>2017-09-20</td>\n",
       "      <td>0.04</td>\n",
       "      <td>16669</td>\n",
       "      <td>United Kingdom</td>\n",
       "    </tr>\n",
       "    <tr>\n",
       "      <th>203377</th>\n",
       "      <td>561870</td>\n",
       "      <td>16045</td>\n",
       "      <td>100</td>\n",
       "      <td>2017-07-29</td>\n",
       "      <td>0.04</td>\n",
       "      <td>14911</td>\n",
       "      <td>EIRE</td>\n",
       "    </tr>\n",
       "    <tr>\n",
       "      <th>280338</th>\n",
       "      <td>569714</td>\n",
       "      <td>16045</td>\n",
       "      <td>100</td>\n",
       "      <td>2017-10-03</td>\n",
       "      <td>0.04</td>\n",
       "      <td>18033</td>\n",
       "      <td>United Kingdom</td>\n",
       "    </tr>\n",
       "  </tbody>\n",
       "</table>\n",
       "</div>"
      ],
      "text/plain": [
       "       invoice_no stock_code  quantity invoice_date  unit_price  customer_id         country\n",
       "321366     573405      16045       100   2017-10-28        0.04        13822  United Kingdom\n",
       "303945     571937      16045       100   2017-10-18        0.04        14911            EIRE\n",
       "192597     560504      16045       100   2017-07-17        0.04        13081  United Kingdom\n",
       "297650     571308      16045       100   2017-10-15        0.04        12475         Germany\n",
       "353496     576513      16045       100   2017-11-13        0.04        14715  United Kingdom\n",
       "188809     560106      16045       100   2017-07-12        0.04        17554  United Kingdom\n",
       "349665     576076      16045       100   2017-11-11        0.04        14382  United Kingdom\n",
       "258948     567866      16045       100   2017-09-20        0.04        16669  United Kingdom\n",
       "203377     561870      16045       100   2017-07-29        0.04        14911            EIRE\n",
       "280338     569714      16045       100   2017-10-03        0.04        18033  United Kingdom"
      ]
     },
     "execution_count": 248,
     "metadata": {},
     "output_type": "execute_result"
    }
   ],
   "source": [
    "#let's define as threshold products >= 0.04 cents\n",
    "df2.loc[df2['unit_price'] >= 0.04 ].sort_values('unit_price').head(10)"
   ]
  },
  {
   "cell_type": "code",
   "execution_count": 249,
   "id": "948e4b2d",
   "metadata": {
    "ExecuteTime": {
     "end_time": "2022-07-31T14:44:07.974243Z",
     "start_time": "2022-07-31T14:44:07.935118Z"
    },
    "hidden": true
   },
   "outputs": [],
   "source": [
    "df2 = df2.loc[df2['unit_price'] >= 0.04 ]"
   ]
  },
  {
   "cell_type": "markdown",
   "id": "2deafc20",
   "metadata": {
    "heading_collapsed": true,
    "hidden": true
   },
   "source": [
    "### [1] quantity"
   ]
  },
  {
   "cell_type": "code",
   "execution_count": 250,
   "id": "111f627b",
   "metadata": {
    "ExecuteTime": {
     "end_time": "2022-07-31T14:45:05.081632Z",
     "start_time": "2022-07-31T14:45:05.030634Z"
    },
    "hidden": true
   },
   "outputs": [],
   "source": [
    "#1. quantity has negative numbers\n",
    "    # ACTION: separate our dataset into sales and devolutions [variable filtering]\n",
    "    \n",
    "df2_returns = df2.loc[df2['quantity'] < 0]\n",
    "df2_purchases = df2.loc[df2['quantity'] > 0] #there is no quantity == 0.\n",
    "#done, we will use these to create features soon."
   ]
  },
  {
   "cell_type": "markdown",
   "id": "ba944cad",
   "metadata": {
    "heading_collapsed": true
   },
   "source": [
    "# Feature Engeneering"
   ]
  },
  {
   "cell_type": "markdown",
   "id": "42517042",
   "metadata": {
    "heading_collapsed": true,
    "hidden": true
   },
   "source": [
    "## Feature Creation"
   ]
  },
  {
   "cell_type": "code",
   "execution_count": 254,
   "id": "8d22c305",
   "metadata": {
    "ExecuteTime": {
     "end_time": "2022-07-31T14:49:59.675595Z",
     "start_time": "2022-07-31T14:49:41.584095Z"
    },
    "hidden": true
   },
   "outputs": [],
   "source": [
    "#save dataset\n",
    "df2.to_csv(\"../data/interim/cycle3/df2_data_description_done.csv\")\n",
    "df2_returns.to_csv(\"../data/interim/cycle3/df2_returns_raw.csv\")\n",
    "df2_purchases.to_csv(\"../data/interim/cycle3/df2_purchases_raw.csv\")"
   ]
  },
  {
   "cell_type": "code",
   "execution_count": 347,
   "id": "9d609193",
   "metadata": {
    "ExecuteTime": {
     "end_time": "2022-07-31T16:06:53.456496Z",
     "start_time": "2022-07-31T16:06:53.417555Z"
    },
    "hidden": true
   },
   "outputs": [],
   "source": [
    "df3 = df2.copy()\n",
    "df3_returns = df2_returns.copy()\n",
    "df3_purchases = df2_purchases.copy()"
   ]
  },
  {
   "cell_type": "code",
   "execution_count": 348,
   "id": "77bb043d",
   "metadata": {
    "ExecuteTime": {
     "end_time": "2022-07-31T16:06:53.897678Z",
     "start_time": "2022-07-31T16:06:53.889660Z"
    },
    "hidden": true
   },
   "outputs": [],
   "source": [
    "# our current granularity is: stock_code + invoice_date,\n",
    "# we need to have customer as granularity, to have is's features on a new table.\n",
    "# let's start adjusting the dataset to build an RFM Segmentation Model (Recency, Frequency, Monetary Value)"
   ]
  },
  {
   "cell_type": "code",
   "execution_count": 349,
   "id": "634c60c9",
   "metadata": {
    "ExecuteTime": {
     "end_time": "2022-07-31T16:06:54.332369Z",
     "start_time": "2022-07-31T16:06:54.292595Z"
    },
    "hidden": true
   },
   "outputs": [],
   "source": [
    "#create the referente table with uniques customer_id (and reset index) \n",
    "    #description removed on this cycle\n",
    "df_ref = df3.drop(['invoice_no', 'stock_code', 'quantity', 'invoice_date',\n",
    "       'unit_price', 'country'], axis=1).drop_duplicates(ignore_index=True).copy()"
   ]
  },
  {
   "cell_type": "code",
   "execution_count": 350,
   "id": "698f7e11",
   "metadata": {
    "ExecuteTime": {
     "end_time": "2022-07-31T16:06:54.695953Z",
     "start_time": "2022-07-31T16:06:54.690575Z"
    },
    "hidden": true
   },
   "outputs": [],
   "source": [
    "#now, since we have df3_returns and df3_purchases, let's define wich features will consider just df3_purchases and with will consider also df3_returns"
   ]
  },
  {
   "cell_type": "markdown",
   "id": "70cddd8a",
   "metadata": {
    "heading_collapsed": true,
    "hidden": true
   },
   "source": [
    "### Based on Purchases"
   ]
  },
  {
   "cell_type": "code",
   "execution_count": 351,
   "id": "3e448cda",
   "metadata": {
    "ExecuteTime": {
     "end_time": "2022-07-31T16:06:55.361182Z",
     "start_time": "2022-07-31T16:06:55.318567Z"
    },
    "hidden": true
   },
   "outputs": [],
   "source": [
    "# Gross Revenue: (quantity * price of each purchase)\n",
    "    #here, we just want to consider gross revenue from sales, not discounting returns, so lets use df3_purchases\n",
    "df3_purchases['gross_revenue'] = df3_purchases['quantity'] * df3_purchases['unit_price']\n",
    "df_monetary = df3_purchases[['customer_id','gross_revenue']].groupby('customer_id').sum().reset_index()\n",
    "df_ref = pd.merge( df_ref, df_monetary, on='customer_id', how='left' )"
   ]
  },
  {
   "cell_type": "code",
   "execution_count": 352,
   "id": "d3462806",
   "metadata": {
    "ExecuteTime": {
     "end_time": "2022-07-31T16:06:55.612799Z",
     "start_time": "2022-07-31T16:06:55.593866Z"
    },
    "hidden": true
   },
   "outputs": [
    {
     "data": {
      "text/html": [
       "<div>\n",
       "<style scoped>\n",
       "    .dataframe tbody tr th:only-of-type {\n",
       "        vertical-align: middle;\n",
       "    }\n",
       "\n",
       "    .dataframe tbody tr th {\n",
       "        vertical-align: top;\n",
       "    }\n",
       "\n",
       "    .dataframe thead th {\n",
       "        text-align: right;\n",
       "    }\n",
       "</style>\n",
       "<table border=\"1\" class=\"dataframe\">\n",
       "  <thead>\n",
       "    <tr style=\"text-align: right;\">\n",
       "      <th></th>\n",
       "      <th>customer_id</th>\n",
       "      <th>gross_revenue</th>\n",
       "    </tr>\n",
       "  </thead>\n",
       "  <tbody>\n",
       "    <tr>\n",
       "      <th>574</th>\n",
       "      <td>13102</td>\n",
       "      <td>6424.09</td>\n",
       "    </tr>\n",
       "    <tr>\n",
       "      <th>1479</th>\n",
       "      <td>12576</td>\n",
       "      <td>1315.83</td>\n",
       "    </tr>\n",
       "    <tr>\n",
       "      <th>2047</th>\n",
       "      <td>15132</td>\n",
       "      <td>977.93</td>\n",
       "    </tr>\n",
       "  </tbody>\n",
       "</table>\n",
       "</div>"
      ],
      "text/plain": [
       "      customer_id  gross_revenue\n",
       "574         13102        6424.09\n",
       "1479        12576        1315.83\n",
       "2047        15132         977.93"
      ]
     },
     "execution_count": 352,
     "metadata": {},
     "output_type": "execute_result"
    }
   ],
   "source": [
    "df_ref.sample(3) #4357 rows"
   ]
  },
  {
   "cell_type": "code",
   "execution_count": 353,
   "id": "986c61f7",
   "metadata": {
    "ExecuteTime": {
     "end_time": "2022-07-31T16:06:55.854411Z",
     "start_time": "2022-07-31T16:06:55.841006Z"
    },
    "hidden": true
   },
   "outputs": [
    {
     "data": {
      "text/plain": [
       "customer_id       0\n",
       "gross_revenue    27\n",
       "dtype: int64"
      ]
     },
     "execution_count": 353,
     "metadata": {},
     "output_type": "execute_result"
    }
   ],
   "source": [
    "df_ref.isna().sum()"
   ]
  },
  {
   "cell_type": "code",
   "execution_count": 354,
   "id": "1e3d70f4",
   "metadata": {
    "ExecuteTime": {
     "end_time": "2022-07-31T16:06:56.132204Z",
     "start_time": "2022-07-31T16:06:56.109604Z"
    },
    "hidden": true
   },
   "outputs": [
    {
     "data": {
      "text/html": [
       "<div>\n",
       "<style scoped>\n",
       "    .dataframe tbody tr th:only-of-type {\n",
       "        vertical-align: middle;\n",
       "    }\n",
       "\n",
       "    .dataframe tbody tr th {\n",
       "        vertical-align: top;\n",
       "    }\n",
       "\n",
       "    .dataframe thead th {\n",
       "        text-align: right;\n",
       "    }\n",
       "</style>\n",
       "<table border=\"1\" class=\"dataframe\">\n",
       "  <thead>\n",
       "    <tr style=\"text-align: right;\">\n",
       "      <th></th>\n",
       "      <th>customer_id</th>\n",
       "      <th>gross_revenue</th>\n",
       "    </tr>\n",
       "  </thead>\n",
       "  <tbody>\n",
       "    <tr>\n",
       "      <th>152</th>\n",
       "      <td>17547</td>\n",
       "      <td>NaN</td>\n",
       "    </tr>\n",
       "    <tr>\n",
       "      <th>177</th>\n",
       "      <td>13958</td>\n",
       "      <td>NaN</td>\n",
       "    </tr>\n",
       "    <tr>\n",
       "      <th>180</th>\n",
       "      <td>16995</td>\n",
       "      <td>NaN</td>\n",
       "    </tr>\n",
       "    <tr>\n",
       "      <th>206</th>\n",
       "      <td>14213</td>\n",
       "      <td>NaN</td>\n",
       "    </tr>\n",
       "    <tr>\n",
       "      <th>209</th>\n",
       "      <td>14679</td>\n",
       "      <td>NaN</td>\n",
       "    </tr>\n",
       "  </tbody>\n",
       "</table>\n",
       "</div>"
      ],
      "text/plain": [
       "     customer_id  gross_revenue\n",
       "152        17547            NaN\n",
       "177        13958            NaN\n",
       "180        16995            NaN\n",
       "206        14213            NaN\n",
       "209        14679            NaN"
      ]
     },
     "execution_count": 354,
     "metadata": {},
     "output_type": "execute_result"
    }
   ],
   "source": [
    "df_ref.loc[df_ref['gross_revenue'].isna() ].head()\n",
    "#we left joined gross_revenue of customers from df3_purchases with df_ref (from df3, who has all customers, (df3_returns + df3_purchases))\n",
    "#so, there are 27 customer who don't have purchases, just returns, thats why they are NA for gross_revenue here"
   ]
  },
  {
   "cell_type": "code",
   "execution_count": 355,
   "id": "902cf65b",
   "metadata": {
    "ExecuteTime": {
     "end_time": "2022-07-31T16:06:56.415119Z",
     "start_time": "2022-07-31T16:06:56.363261Z"
    },
    "hidden": true
   },
   "outputs": [],
   "source": [
    "# Recency: number of days since last purchase\n",
    "    #here, we want to know the last day this customer bought. If he returned, we don't want to count that day as last purchase, so let's consider just df3_purchases\n",
    "df_recency = df3_purchases[['customer_id','invoice_date']].groupby('customer_id').max().reset_index()\n",
    "df_recency['recency_days'] = (df3_purchases['invoice_date'].max() - df_recency['invoice_date']).dt.days\n",
    "df_recency = df_recency[['customer_id', 'recency_days']].copy()\n",
    "df_ref = pd.merge( df_ref, df_recency, on='customer_id', how='left' )"
   ]
  },
  {
   "cell_type": "code",
   "execution_count": 356,
   "id": "7fac04d1",
   "metadata": {
    "ExecuteTime": {
     "end_time": "2022-07-31T16:06:56.633460Z",
     "start_time": "2022-07-31T16:06:56.617869Z"
    },
    "hidden": true
   },
   "outputs": [
    {
     "data": {
      "text/html": [
       "<div>\n",
       "<style scoped>\n",
       "    .dataframe tbody tr th:only-of-type {\n",
       "        vertical-align: middle;\n",
       "    }\n",
       "\n",
       "    .dataframe tbody tr th {\n",
       "        vertical-align: top;\n",
       "    }\n",
       "\n",
       "    .dataframe thead th {\n",
       "        text-align: right;\n",
       "    }\n",
       "</style>\n",
       "<table border=\"1\" class=\"dataframe\">\n",
       "  <thead>\n",
       "    <tr style=\"text-align: right;\">\n",
       "      <th></th>\n",
       "      <th>customer_id</th>\n",
       "      <th>gross_revenue</th>\n",
       "      <th>recency_days</th>\n",
       "    </tr>\n",
       "  </thead>\n",
       "  <tbody>\n",
       "    <tr>\n",
       "      <th>2211</th>\n",
       "      <td>15289</td>\n",
       "      <td>939.78</td>\n",
       "      <td>29.0</td>\n",
       "    </tr>\n",
       "    <tr>\n",
       "      <th>2157</th>\n",
       "      <td>16788</td>\n",
       "      <td>595.83</td>\n",
       "      <td>123.0</td>\n",
       "    </tr>\n",
       "    <tr>\n",
       "      <th>484</th>\n",
       "      <td>15529</td>\n",
       "      <td>3992.68</td>\n",
       "      <td>22.0</td>\n",
       "    </tr>\n",
       "  </tbody>\n",
       "</table>\n",
       "</div>"
      ],
      "text/plain": [
       "      customer_id  gross_revenue  recency_days\n",
       "2211        15289         939.78          29.0\n",
       "2157        16788         595.83         123.0\n",
       "484         15529        3992.68          22.0"
      ]
     },
     "execution_count": 356,
     "metadata": {},
     "output_type": "execute_result"
    }
   ],
   "source": [
    "df_ref.sample(3) \n",
    "#4357 rows"
   ]
  },
  {
   "cell_type": "code",
   "execution_count": 357,
   "id": "6af3f8c1",
   "metadata": {
    "ExecuteTime": {
     "end_time": "2022-07-31T16:06:57.346822Z",
     "start_time": "2022-07-31T16:06:57.335935Z"
    },
    "hidden": true
   },
   "outputs": [
    {
     "data": {
      "text/plain": [
       "customer_id       0\n",
       "gross_revenue    27\n",
       "recency_days     27\n",
       "dtype: int64"
      ]
     },
     "execution_count": 357,
     "metadata": {},
     "output_type": "execute_result"
    }
   ],
   "source": [
    "#check NAs\n",
    "df_ref.isna().sum()\n",
    "#there are 27 customers who never bought anything, just returned"
   ]
  },
  {
   "cell_type": "code",
   "execution_count": 358,
   "id": "24e7da1a",
   "metadata": {
    "ExecuteTime": {
     "end_time": "2022-07-31T16:06:58.658871Z",
     "start_time": "2022-07-31T16:06:58.551618Z"
    },
    "hidden": true
   },
   "outputs": [],
   "source": [
    "# Frequency (number of purchases)\n",
    "    #we also want to consider just number of purchases, not considering number of returns\n",
    "df_freq = df3_purchases[['customer_id','invoice_no']].drop_duplicates().groupby('customer_id').count().reset_index()\n",
    "df_ref = pd.merge( df_ref, df_freq, on='customer_id', how='left')"
   ]
  },
  {
   "cell_type": "code",
   "execution_count": 359,
   "id": "5b962b58",
   "metadata": {
    "ExecuteTime": {
     "end_time": "2022-07-31T16:07:01.786367Z",
     "start_time": "2022-07-31T16:07:01.775545Z"
    },
    "hidden": true
   },
   "outputs": [
    {
     "data": {
      "text/plain": [
       "customer_id       0\n",
       "gross_revenue    27\n",
       "recency_days     27\n",
       "invoice_no       27\n",
       "dtype: int64"
      ]
     },
     "execution_count": 359,
     "metadata": {},
     "output_type": "execute_result"
    }
   ],
   "source": [
    "df_ref.isna().sum()\n",
    "#4357 rows, same 27 people just returned"
   ]
  },
  {
   "cell_type": "code",
   "execution_count": 360,
   "id": "af55108f",
   "metadata": {
    "ExecuteTime": {
     "end_time": "2022-07-31T16:08:50.776184Z",
     "start_time": "2022-07-31T16:08:50.732597Z"
    },
    "hidden": true
   },
   "outputs": [],
   "source": [
    "#average_ticket (average gross_revenue customers spend on all purchases)\n",
    "df_avg_ticket = df3_purchases[['customer_id','gross_revenue']].groupby('customer_id').mean().reset_index().rename(columns={'gross_revenue':'avg_ticket'})\n",
    "df_ref = pd.merge( df_ref, df_avg_ticket, on='customer_id', how='left')"
   ]
  },
  {
   "cell_type": "code",
   "execution_count": 362,
   "id": "4c4ec3b5",
   "metadata": {
    "ExecuteTime": {
     "end_time": "2022-07-31T16:09:09.102769Z",
     "start_time": "2022-07-31T16:09:09.083075Z"
    },
    "hidden": true
   },
   "outputs": [
    {
     "data": {
      "text/html": [
       "<div>\n",
       "<style scoped>\n",
       "    .dataframe tbody tr th:only-of-type {\n",
       "        vertical-align: middle;\n",
       "    }\n",
       "\n",
       "    .dataframe tbody tr th {\n",
       "        vertical-align: top;\n",
       "    }\n",
       "\n",
       "    .dataframe thead th {\n",
       "        text-align: right;\n",
       "    }\n",
       "</style>\n",
       "<table border=\"1\" class=\"dataframe\">\n",
       "  <thead>\n",
       "    <tr style=\"text-align: right;\">\n",
       "      <th></th>\n",
       "      <th>customer_id</th>\n",
       "      <th>gross_revenue</th>\n",
       "      <th>recency_days</th>\n",
       "      <th>invoice_no</th>\n",
       "      <th>avg_ticket</th>\n",
       "    </tr>\n",
       "  </thead>\n",
       "  <tbody>\n",
       "    <tr>\n",
       "      <th>3051</th>\n",
       "      <td>16989</td>\n",
       "      <td>1133.25</td>\n",
       "      <td>7.0</td>\n",
       "      <td>6.0</td>\n",
       "      <td>94.43750</td>\n",
       "    </tr>\n",
       "    <tr>\n",
       "      <th>3564</th>\n",
       "      <td>13536</td>\n",
       "      <td>3448.29</td>\n",
       "      <td>1.0</td>\n",
       "      <td>7.0</td>\n",
       "      <td>19.26419</td>\n",
       "    </tr>\n",
       "    <tr>\n",
       "      <th>2890</th>\n",
       "      <td>16257</td>\n",
       "      <td>46.95</td>\n",
       "      <td>176.0</td>\n",
       "      <td>1.0</td>\n",
       "      <td>23.47500</td>\n",
       "    </tr>\n",
       "  </tbody>\n",
       "</table>\n",
       "</div>"
      ],
      "text/plain": [
       "      customer_id  gross_revenue  recency_days  invoice_no  avg_ticket\n",
       "3051        16989        1133.25           7.0         6.0    94.43750\n",
       "3564        13536        3448.29           1.0         7.0    19.26419\n",
       "2890        16257          46.95         176.0         1.0    23.47500"
      ]
     },
     "execution_count": 362,
     "metadata": {},
     "output_type": "execute_result"
    }
   ],
   "source": [
    "df_ref.sample(3) #4357 rows "
   ]
  },
  {
   "cell_type": "code",
   "execution_count": 363,
   "id": "22985832",
   "metadata": {
    "ExecuteTime": {
     "end_time": "2022-07-31T16:09:19.078692Z",
     "start_time": "2022-07-31T16:09:19.066637Z"
    },
    "hidden": true
   },
   "outputs": [
    {
     "data": {
      "text/plain": [
       "customer_id       0\n",
       "gross_revenue    27\n",
       "recency_days     27\n",
       "invoice_no       27\n",
       "avg_ticket       27\n",
       "dtype: int64"
      ]
     },
     "execution_count": 363,
     "metadata": {},
     "output_type": "execute_result"
    }
   ],
   "source": [
    "df_ref.isna().sum()\n",
    "#Same 27 NAs"
   ]
  },
  {
   "cell_type": "code",
   "execution_count": 369,
   "id": "ef3017fa",
   "metadata": {
    "ExecuteTime": {
     "end_time": "2022-07-31T16:16:16.158803Z",
     "start_time": "2022-07-31T16:16:16.137539Z"
    },
    "hidden": true
   },
   "outputs": [
    {
     "data": {
      "text/html": [
       "<div>\n",
       "<style scoped>\n",
       "    .dataframe tbody tr th:only-of-type {\n",
       "        vertical-align: middle;\n",
       "    }\n",
       "\n",
       "    .dataframe tbody tr th {\n",
       "        vertical-align: top;\n",
       "    }\n",
       "\n",
       "    .dataframe thead th {\n",
       "        text-align: right;\n",
       "    }\n",
       "</style>\n",
       "<table border=\"1\" class=\"dataframe\">\n",
       "  <thead>\n",
       "    <tr style=\"text-align: right;\">\n",
       "      <th></th>\n",
       "      <th>customer_id</th>\n",
       "      <th>gross_revenue</th>\n",
       "      <th>recency_days</th>\n",
       "      <th>invoice_no</th>\n",
       "      <th>avg_ticket</th>\n",
       "    </tr>\n",
       "  </thead>\n",
       "  <tbody>\n",
       "    <tr>\n",
       "      <th>0</th>\n",
       "      <td>17850</td>\n",
       "      <td>5391.21</td>\n",
       "      <td>372.0</td>\n",
       "      <td>34.0</td>\n",
       "      <td>18.152222</td>\n",
       "    </tr>\n",
       "    <tr>\n",
       "      <th>1</th>\n",
       "      <td>13047</td>\n",
       "      <td>3232.59</td>\n",
       "      <td>56.0</td>\n",
       "      <td>9.0</td>\n",
       "      <td>18.904035</td>\n",
       "    </tr>\n",
       "    <tr>\n",
       "      <th>2</th>\n",
       "      <td>12583</td>\n",
       "      <td>6705.38</td>\n",
       "      <td>2.0</td>\n",
       "      <td>15.0</td>\n",
       "      <td>28.902500</td>\n",
       "    </tr>\n",
       "    <tr>\n",
       "      <th>3</th>\n",
       "      <td>13748</td>\n",
       "      <td>948.25</td>\n",
       "      <td>95.0</td>\n",
       "      <td>5.0</td>\n",
       "      <td>33.866071</td>\n",
       "    </tr>\n",
       "    <tr>\n",
       "      <th>4</th>\n",
       "      <td>15100</td>\n",
       "      <td>876.00</td>\n",
       "      <td>333.0</td>\n",
       "      <td>3.0</td>\n",
       "      <td>292.000000</td>\n",
       "    </tr>\n",
       "  </tbody>\n",
       "</table>\n",
       "</div>"
      ],
      "text/plain": [
       "   customer_id  gross_revenue  recency_days  invoice_no  avg_ticket\n",
       "0        17850        5391.21         372.0        34.0   18.152222\n",
       "1        13047        3232.59          56.0         9.0   18.904035\n",
       "2        12583        6705.38           2.0        15.0   28.902500\n",
       "3        13748         948.25          95.0         5.0   33.866071\n",
       "4        15100         876.00         333.0         3.0  292.000000"
      ]
     },
     "execution_count": 369,
     "metadata": {},
     "output_type": "execute_result"
    }
   ],
   "source": [
    "#27/4357 = 0.6% of data\n",
    "#lets drop these guys\n",
    "df_ref = df_ref.dropna()\n",
    "df_ref.head() #4330 rows"
   ]
  },
  {
   "cell_type": "markdown",
   "id": "40b51c05",
   "metadata": {
    "heading_collapsed": true
   },
   "source": [
    "# EDA"
   ]
  },
  {
   "cell_type": "code",
   "execution_count": 377,
   "id": "ace63fdd",
   "metadata": {
    "ExecuteTime": {
     "end_time": "2022-07-31T16:19:59.882298Z",
     "start_time": "2022-07-31T16:19:59.816639Z"
    },
    "hidden": true
   },
   "outputs": [],
   "source": [
    "df_ref.to_csv(\"../data/interim/cycle3/df_ref_feature_engineering_done.csv\")\n",
    "df4 = df_ref.copy()"
   ]
  },
  {
   "cell_type": "code",
   "execution_count": 380,
   "id": "0641ca6d",
   "metadata": {
    "ExecuteTime": {
     "end_time": "2022-08-01T10:17:26.776806Z",
     "start_time": "2022-08-01T10:17:26.758298Z"
    },
    "hidden": true
   },
   "outputs": [
    {
     "data": {
      "text/html": [
       "<div>\n",
       "<style scoped>\n",
       "    .dataframe tbody tr th:only-of-type {\n",
       "        vertical-align: middle;\n",
       "    }\n",
       "\n",
       "    .dataframe tbody tr th {\n",
       "        vertical-align: top;\n",
       "    }\n",
       "\n",
       "    .dataframe thead th {\n",
       "        text-align: right;\n",
       "    }\n",
       "</style>\n",
       "<table border=\"1\" class=\"dataframe\">\n",
       "  <thead>\n",
       "    <tr style=\"text-align: right;\">\n",
       "      <th></th>\n",
       "      <th>customer_id</th>\n",
       "      <th>gross_revenue</th>\n",
       "      <th>recency_days</th>\n",
       "      <th>invoice_no</th>\n",
       "      <th>avg_ticket</th>\n",
       "    </tr>\n",
       "  </thead>\n",
       "  <tbody>\n",
       "    <tr>\n",
       "      <th>0</th>\n",
       "      <td>17850</td>\n",
       "      <td>5391.21</td>\n",
       "      <td>372.0</td>\n",
       "      <td>34.0</td>\n",
       "      <td>18.152222</td>\n",
       "    </tr>\n",
       "    <tr>\n",
       "      <th>1</th>\n",
       "      <td>13047</td>\n",
       "      <td>3232.59</td>\n",
       "      <td>56.0</td>\n",
       "      <td>9.0</td>\n",
       "      <td>18.904035</td>\n",
       "    </tr>\n",
       "    <tr>\n",
       "      <th>2</th>\n",
       "      <td>12583</td>\n",
       "      <td>6705.38</td>\n",
       "      <td>2.0</td>\n",
       "      <td>15.0</td>\n",
       "      <td>28.902500</td>\n",
       "    </tr>\n",
       "    <tr>\n",
       "      <th>3</th>\n",
       "      <td>13748</td>\n",
       "      <td>948.25</td>\n",
       "      <td>95.0</td>\n",
       "      <td>5.0</td>\n",
       "      <td>33.866071</td>\n",
       "    </tr>\n",
       "    <tr>\n",
       "      <th>4</th>\n",
       "      <td>15100</td>\n",
       "      <td>876.00</td>\n",
       "      <td>333.0</td>\n",
       "      <td>3.0</td>\n",
       "      <td>292.000000</td>\n",
       "    </tr>\n",
       "  </tbody>\n",
       "</table>\n",
       "</div>"
      ],
      "text/plain": [
       "   customer_id  gross_revenue  recency_days  invoice_no  avg_ticket\n",
       "0        17850        5391.21         372.0        34.0   18.152222\n",
       "1        13047        3232.59          56.0         9.0   18.904035\n",
       "2        12583        6705.38           2.0        15.0   28.902500\n",
       "3        13748         948.25          95.0         5.0   33.866071\n",
       "4        15100         876.00         333.0         3.0  292.000000"
      ]
     },
     "execution_count": 380,
     "metadata": {},
     "output_type": "execute_result"
    }
   ],
   "source": [
    "df4.head() \n",
    "#4330 rows"
   ]
  },
  {
   "cell_type": "markdown",
   "id": "b58fe3a3",
   "metadata": {},
   "source": [
    "# Data Preparation"
   ]
  },
  {
   "cell_type": "code",
   "execution_count": 450,
   "id": "1ceaddcf",
   "metadata": {
    "ExecuteTime": {
     "end_time": "2022-08-01T11:45:31.165247Z",
     "start_time": "2022-08-01T11:45:31.158500Z"
    }
   },
   "outputs": [],
   "source": [
    "#pass by now\n",
    "df5 = df4.copy()"
   ]
  },
  {
   "cell_type": "code",
   "execution_count": null,
   "id": "fb07e551",
   "metadata": {},
   "outputs": [],
   "source": [
    "# cycle 3: since we had worst results with StandardScaler than without it, let's finish this cycle without it!"
   ]
  },
  {
   "cell_type": "code",
   "execution_count": 415,
   "id": "7f024e2b",
   "metadata": {
    "ExecuteTime": {
     "end_time": "2022-08-01T10:36:29.856221Z",
     "start_time": "2022-08-01T10:36:29.233286Z"
    }
   },
   "outputs": [
    {
     "name": "stderr",
     "output_type": "stream",
     "text": [
      "/Users/home/opt/anaconda3/envs/pa005_clustering/lib/python3.8/site-packages/seaborn/distributions.py:2619: FutureWarning: `distplot` is a deprecated function and will be removed in a future version. Please adapt your code to use either `displot` (a figure-level function with similar flexibility) or `histplot` (an axes-level function for histograms).\n",
      "  warnings.warn(msg, FutureWarning)\n"
     ]
    },
    {
     "data": {
      "image/png": "[encoded data removed]",
      "text/plain": [
       "<Figure size 864x432 with 1 Axes>"
      ]
     },
     "metadata": {},
     "output_type": "display_data"
    }
   ],
   "source": [
    "#data is too concentrated\n",
    "#sns.distplot(df5['gross_revenue']);"
   ]
  },
  {
   "cell_type": "code",
   "execution_count": 417,
   "id": "dd08aca9",
   "metadata": {
    "ExecuteTime": {
     "end_time": "2022-08-01T10:46:11.852330Z",
     "start_time": "2022-08-01T10:46:11.826762Z"
    }
   },
   "outputs": [
    {
     "data": {
      "text/html": [
       "<div>\n",
       "<style scoped>\n",
       "    .dataframe tbody tr th:only-of-type {\n",
       "        vertical-align: middle;\n",
       "    }\n",
       "\n",
       "    .dataframe tbody tr th {\n",
       "        vertical-align: top;\n",
       "    }\n",
       "\n",
       "    .dataframe thead th {\n",
       "        text-align: right;\n",
       "    }\n",
       "</style>\n",
       "<table border=\"1\" class=\"dataframe\">\n",
       "  <thead>\n",
       "    <tr style=\"text-align: right;\">\n",
       "      <th></th>\n",
       "      <th>customer_id</th>\n",
       "      <th>gross_revenue</th>\n",
       "      <th>recency_days</th>\n",
       "      <th>invoice_no</th>\n",
       "      <th>avg_ticket</th>\n",
       "    </tr>\n",
       "  </thead>\n",
       "  <tbody>\n",
       "    <tr>\n",
       "      <th>0</th>\n",
       "      <td>17850</td>\n",
       "      <td>5391.21</td>\n",
       "      <td>372.0</td>\n",
       "      <td>34.0</td>\n",
       "      <td>18.152222</td>\n",
       "    </tr>\n",
       "    <tr>\n",
       "      <th>1</th>\n",
       "      <td>13047</td>\n",
       "      <td>3232.59</td>\n",
       "      <td>56.0</td>\n",
       "      <td>9.0</td>\n",
       "      <td>18.904035</td>\n",
       "    </tr>\n",
       "    <tr>\n",
       "      <th>2</th>\n",
       "      <td>12583</td>\n",
       "      <td>6705.38</td>\n",
       "      <td>2.0</td>\n",
       "      <td>15.0</td>\n",
       "      <td>28.902500</td>\n",
       "    </tr>\n",
       "    <tr>\n",
       "      <th>3</th>\n",
       "      <td>13748</td>\n",
       "      <td>948.25</td>\n",
       "      <td>95.0</td>\n",
       "      <td>5.0</td>\n",
       "      <td>33.866071</td>\n",
       "    </tr>\n",
       "    <tr>\n",
       "      <th>4</th>\n",
       "      <td>15100</td>\n",
       "      <td>876.00</td>\n",
       "      <td>333.0</td>\n",
       "      <td>3.0</td>\n",
       "      <td>292.000000</td>\n",
       "    </tr>\n",
       "    <tr>\n",
       "      <th>...</th>\n",
       "      <td>...</td>\n",
       "      <td>...</td>\n",
       "      <td>...</td>\n",
       "      <td>...</td>\n",
       "      <td>...</td>\n",
       "    </tr>\n",
       "    <tr>\n",
       "      <th>4352</th>\n",
       "      <td>13436</td>\n",
       "      <td>196.89</td>\n",
       "      <td>1.0</td>\n",
       "      <td>1.0</td>\n",
       "      <td>16.407500</td>\n",
       "    </tr>\n",
       "    <tr>\n",
       "      <th>4353</th>\n",
       "      <td>15520</td>\n",
       "      <td>343.50</td>\n",
       "      <td>1.0</td>\n",
       "      <td>1.0</td>\n",
       "      <td>19.083333</td>\n",
       "    </tr>\n",
       "    <tr>\n",
       "      <th>4354</th>\n",
       "      <td>13298</td>\n",
       "      <td>360.00</td>\n",
       "      <td>1.0</td>\n",
       "      <td>1.0</td>\n",
       "      <td>180.000000</td>\n",
       "    </tr>\n",
       "    <tr>\n",
       "      <th>4355</th>\n",
       "      <td>14569</td>\n",
       "      <td>227.39</td>\n",
       "      <td>1.0</td>\n",
       "      <td>1.0</td>\n",
       "      <td>18.949167</td>\n",
       "    </tr>\n",
       "    <tr>\n",
       "      <th>4356</th>\n",
       "      <td>12713</td>\n",
       "      <td>794.55</td>\n",
       "      <td>0.0</td>\n",
       "      <td>1.0</td>\n",
       "      <td>21.474324</td>\n",
       "    </tr>\n",
       "  </tbody>\n",
       "</table>\n",
       "<p>4330 rows × 5 columns</p>\n",
       "</div>"
      ],
      "text/plain": [
       "      customer_id  gross_revenue  recency_days  invoice_no  avg_ticket\n",
       "0           17850        5391.21         372.0        34.0   18.152222\n",
       "1           13047        3232.59          56.0         9.0   18.904035\n",
       "2           12583        6705.38           2.0        15.0   28.902500\n",
       "3           13748         948.25          95.0         5.0   33.866071\n",
       "4           15100         876.00         333.0         3.0  292.000000\n",
       "...           ...            ...           ...         ...         ...\n",
       "4352        13436         196.89           1.0         1.0   16.407500\n",
       "4353        15520         343.50           1.0         1.0   19.083333\n",
       "4354        13298         360.00           1.0         1.0  180.000000\n",
       "4355        14569         227.39           1.0         1.0   18.949167\n",
       "4356        12713         794.55           0.0         1.0   21.474324\n",
       "\n",
       "[4330 rows x 5 columns]"
      ]
     },
     "execution_count": 417,
     "metadata": {},
     "output_type": "execute_result"
    }
   ],
   "source": [
    "#before tranforming\n",
    "df5"
   ]
  },
  {
   "cell_type": "code",
   "execution_count": 420,
   "id": "da0ee55c",
   "metadata": {
    "ExecuteTime": {
     "end_time": "2022-08-01T10:47:55.699875Z",
     "start_time": "2022-08-01T10:47:55.666014Z"
    }
   },
   "outputs": [],
   "source": [
    "#Standard Scaler, normalizing variables\n",
    "# ss = pp.StandardScaler()\n",
    "\n",
    "# df5['gross_revenue'] = ss.fit_transform(df5[['gross_revenue']])\n",
    "# df5['recency_days'] = ss.fit_transform(df5[['recency_days']])\n",
    "# df5['invoice_no'] = ss.fit_transform(df5[['invoice_no']])\n",
    "# df5['avg_ticket'] = ss.fit_transform(df5[['avg_ticket']])"
   ]
  },
  {
   "cell_type": "code",
   "execution_count": 421,
   "id": "084f80dc",
   "metadata": {
    "ExecuteTime": {
     "end_time": "2022-08-01T10:48:09.524579Z",
     "start_time": "2022-08-01T10:48:09.504134Z"
    }
   },
   "outputs": [
    {
     "data": {
      "text/html": [
       "<div>\n",
       "<style scoped>\n",
       "    .dataframe tbody tr th:only-of-type {\n",
       "        vertical-align: middle;\n",
       "    }\n",
       "\n",
       "    .dataframe tbody tr th {\n",
       "        vertical-align: top;\n",
       "    }\n",
       "\n",
       "    .dataframe thead th {\n",
       "        text-align: right;\n",
       "    }\n",
       "</style>\n",
       "<table border=\"1\" class=\"dataframe\">\n",
       "  <thead>\n",
       "    <tr style=\"text-align: right;\">\n",
       "      <th></th>\n",
       "      <th>customer_id</th>\n",
       "      <th>gross_revenue</th>\n",
       "      <th>recency_days</th>\n",
       "      <th>invoice_no</th>\n",
       "      <th>avg_ticket</th>\n",
       "    </tr>\n",
       "  </thead>\n",
       "  <tbody>\n",
       "    <tr>\n",
       "      <th>0</th>\n",
       "      <td>17850</td>\n",
       "      <td>0.377179</td>\n",
       "      <td>2.791504</td>\n",
       "      <td>3.889207</td>\n",
       "      <td>-0.033935</td>\n",
       "    </tr>\n",
       "    <tr>\n",
       "      <th>1</th>\n",
       "      <td>13047</td>\n",
       "      <td>0.135378</td>\n",
       "      <td>-0.360996</td>\n",
       "      <td>0.620902</td>\n",
       "      <td>-0.033423</td>\n",
       "    </tr>\n",
       "    <tr>\n",
       "      <th>2</th>\n",
       "      <td>12583</td>\n",
       "      <td>0.524388</td>\n",
       "      <td>-0.899714</td>\n",
       "      <td>1.405296</td>\n",
       "      <td>-0.026618</td>\n",
       "    </tr>\n",
       "    <tr>\n",
       "      <th>3</th>\n",
       "      <td>13748</td>\n",
       "      <td>-0.120506</td>\n",
       "      <td>0.028079</td>\n",
       "      <td>0.097974</td>\n",
       "      <td>-0.023240</td>\n",
       "    </tr>\n",
       "    <tr>\n",
       "      <th>4</th>\n",
       "      <td>15100</td>\n",
       "      <td>-0.128600</td>\n",
       "      <td>2.402430</td>\n",
       "      <td>-0.163491</td>\n",
       "      <td>0.152447</td>\n",
       "    </tr>\n",
       "    <tr>\n",
       "      <th>...</th>\n",
       "      <td>...</td>\n",
       "      <td>...</td>\n",
       "      <td>...</td>\n",
       "      <td>...</td>\n",
       "      <td>...</td>\n",
       "    </tr>\n",
       "    <tr>\n",
       "      <th>4352</th>\n",
       "      <td>13436</td>\n",
       "      <td>-0.204671</td>\n",
       "      <td>-0.909690</td>\n",
       "      <td>-0.424955</td>\n",
       "      <td>-0.035122</td>\n",
       "    </tr>\n",
       "    <tr>\n",
       "      <th>4353</th>\n",
       "      <td>15520</td>\n",
       "      <td>-0.188249</td>\n",
       "      <td>-0.909690</td>\n",
       "      <td>-0.424955</td>\n",
       "      <td>-0.033301</td>\n",
       "    </tr>\n",
       "    <tr>\n",
       "      <th>4354</th>\n",
       "      <td>13298</td>\n",
       "      <td>-0.186400</td>\n",
       "      <td>-0.909690</td>\n",
       "      <td>-0.424955</td>\n",
       "      <td>0.076219</td>\n",
       "    </tr>\n",
       "    <tr>\n",
       "      <th>4355</th>\n",
       "      <td>14569</td>\n",
       "      <td>-0.201255</td>\n",
       "      <td>-0.909690</td>\n",
       "      <td>-0.424955</td>\n",
       "      <td>-0.033393</td>\n",
       "    </tr>\n",
       "    <tr>\n",
       "      <th>4356</th>\n",
       "      <td>12713</td>\n",
       "      <td>-0.137723</td>\n",
       "      <td>-0.919667</td>\n",
       "      <td>-0.424955</td>\n",
       "      <td>-0.031674</td>\n",
       "    </tr>\n",
       "  </tbody>\n",
       "</table>\n",
       "<p>4330 rows × 5 columns</p>\n",
       "</div>"
      ],
      "text/plain": [
       "      customer_id  gross_revenue  recency_days  invoice_no  avg_ticket\n",
       "0           17850       0.377179      2.791504    3.889207   -0.033935\n",
       "1           13047       0.135378     -0.360996    0.620902   -0.033423\n",
       "2           12583       0.524388     -0.899714    1.405296   -0.026618\n",
       "3           13748      -0.120506      0.028079    0.097974   -0.023240\n",
       "4           15100      -0.128600      2.402430   -0.163491    0.152447\n",
       "...           ...            ...           ...         ...         ...\n",
       "4352        13436      -0.204671     -0.909690   -0.424955   -0.035122\n",
       "4353        15520      -0.188249     -0.909690   -0.424955   -0.033301\n",
       "4354        13298      -0.186400     -0.909690   -0.424955    0.076219\n",
       "4355        14569      -0.201255     -0.909690   -0.424955   -0.033393\n",
       "4356        12713      -0.137723     -0.919667   -0.424955   -0.031674\n",
       "\n",
       "[4330 rows x 5 columns]"
      ]
     },
     "execution_count": 421,
     "metadata": {},
     "output_type": "execute_result"
    }
   ],
   "source": [
    "#transformedb\n",
    "#df5"
   ]
  },
  {
   "cell_type": "code",
   "execution_count": 426,
   "id": "6ec1dc5e",
   "metadata": {
    "ExecuteTime": {
     "end_time": "2022-08-01T11:00:16.685094Z",
     "start_time": "2022-08-01T11:00:16.152251Z"
    }
   },
   "outputs": [
    {
     "name": "stderr",
     "output_type": "stream",
     "text": [
      "/Users/home/opt/anaconda3/envs/pa005_clustering/lib/python3.8/site-packages/seaborn/distributions.py:2619: FutureWarning: `distplot` is a deprecated function and will be removed in a future version. Please adapt your code to use either `displot` (a figure-level function with similar flexibility) or `histplot` (an axes-level function for histograms).\n",
      "  warnings.warn(msg, FutureWarning)\n"
     ]
    },
    {
     "data": {
      "image/png": "[encoded data removed]",
      "text/plain": [
       "<Figure size 864x432 with 1 Axes>"
      ]
     },
     "metadata": {},
     "output_type": "display_data"
    }
   ],
   "source": [
    "#distribution kept, but new scale now\n",
    "sns.distplot(df5['gross_revenue']);"
   ]
  },
  {
   "cell_type": "markdown",
   "id": "87099f69",
   "metadata": {},
   "source": [
    "# Feature Selection"
   ]
  },
  {
   "cell_type": "code",
   "execution_count": 451,
   "id": "a2dd5cf6",
   "metadata": {
    "ExecuteTime": {
     "end_time": "2022-08-01T11:46:31.292707Z",
     "start_time": "2022-08-01T11:46:31.288304Z"
    }
   },
   "outputs": [],
   "source": [
    "#pass by now\n",
    "df6 = df5.copy()"
   ]
  },
  {
   "cell_type": "markdown",
   "id": "74a3664f",
   "metadata": {},
   "source": [
    "# Hyperparameter Fine-Tuning"
   ]
  },
  {
   "cell_type": "code",
   "execution_count": 452,
   "id": "b3863e99",
   "metadata": {
    "ExecuteTime": {
     "end_time": "2022-08-01T11:46:33.158990Z",
     "start_time": "2022-08-01T11:46:33.139165Z"
    }
   },
   "outputs": [
    {
     "data": {
      "text/html": [
       "<div>\n",
       "<style scoped>\n",
       "    .dataframe tbody tr th:only-of-type {\n",
       "        vertical-align: middle;\n",
       "    }\n",
       "\n",
       "    .dataframe tbody tr th {\n",
       "        vertical-align: top;\n",
       "    }\n",
       "\n",
       "    .dataframe thead th {\n",
       "        text-align: right;\n",
       "    }\n",
       "</style>\n",
       "<table border=\"1\" class=\"dataframe\">\n",
       "  <thead>\n",
       "    <tr style=\"text-align: right;\">\n",
       "      <th></th>\n",
       "      <th>gross_revenue</th>\n",
       "      <th>recency_days</th>\n",
       "      <th>invoice_no</th>\n",
       "      <th>avg_ticket</th>\n",
       "    </tr>\n",
       "  </thead>\n",
       "  <tbody>\n",
       "    <tr>\n",
       "      <th>0</th>\n",
       "      <td>5391.21</td>\n",
       "      <td>372.0</td>\n",
       "      <td>34.0</td>\n",
       "      <td>18.152222</td>\n",
       "    </tr>\n",
       "    <tr>\n",
       "      <th>1</th>\n",
       "      <td>3232.59</td>\n",
       "      <td>56.0</td>\n",
       "      <td>9.0</td>\n",
       "      <td>18.904035</td>\n",
       "    </tr>\n",
       "    <tr>\n",
       "      <th>2</th>\n",
       "      <td>6705.38</td>\n",
       "      <td>2.0</td>\n",
       "      <td>15.0</td>\n",
       "      <td>28.902500</td>\n",
       "    </tr>\n",
       "    <tr>\n",
       "      <th>3</th>\n",
       "      <td>948.25</td>\n",
       "      <td>95.0</td>\n",
       "      <td>5.0</td>\n",
       "      <td>33.866071</td>\n",
       "    </tr>\n",
       "    <tr>\n",
       "      <th>4</th>\n",
       "      <td>876.00</td>\n",
       "      <td>333.0</td>\n",
       "      <td>3.0</td>\n",
       "      <td>292.000000</td>\n",
       "    </tr>\n",
       "  </tbody>\n",
       "</table>\n",
       "</div>"
      ],
      "text/plain": [
       "   gross_revenue  recency_days  invoice_no  avg_ticket\n",
       "0        5391.21         372.0        34.0   18.152222\n",
       "1        3232.59          56.0         9.0   18.904035\n",
       "2        6705.38           2.0        15.0   28.902500\n",
       "3         948.25          95.0         5.0   33.866071\n",
       "4         876.00         333.0         3.0  292.000000"
      ]
     },
     "execution_count": 452,
     "metadata": {},
     "output_type": "execute_result"
    }
   ],
   "source": [
    "#drop customer_id\n",
    "X = df6.drop('customer_id', axis=1).copy()\n",
    "X.head()\n",
    "#agora, temos 4 variáveis:"
   ]
  },
  {
   "cell_type": "markdown",
   "id": "a2bd4725",
   "metadata": {
    "ExecuteTime": {
     "end_time": "2022-07-23T11:02:58.917535Z",
     "start_time": "2022-07-23T11:02:58.913258Z"
    }
   },
   "source": [
    "For a good clustering, we need clusters to have two properties:\n",
    "\n",
    "- Compactness: smallest possible distance between the points of the same cluster.\n",
    "- Separation: greatest possible distance between the points of different clusters.\n",
    "\n",
    "Let's use k-means with 2 metrics: \n",
    "\n",
    "1 - Within-Cluster Sum of Square (WSS) - calculates Compactness \n",
    "\n",
    "2 - Silhouette Score (SS) - calculates Compactness and Separation\n",
    "\n",
    " \n"
   ]
  },
  {
   "cell_type": "markdown",
   "id": "8b30d3a2",
   "metadata": {},
   "source": [
    "## Within-Cluster Sum of Square (WSS)"
   ]
  },
  {
   "cell_type": "code",
   "execution_count": 453,
   "id": "5afadb92",
   "metadata": {
    "ExecuteTime": {
     "end_time": "2022-08-01T11:46:36.074362Z",
     "start_time": "2022-08-01T11:46:36.069704Z"
    }
   },
   "outputs": [],
   "source": [
    "#up to 7 possible clusters now\n",
    "clusters = [2, 3, 4, 5, 6, 7]"
   ]
  },
  {
   "cell_type": "code",
   "execution_count": 454,
   "id": "314b36f3",
   "metadata": {
    "ExecuteTime": {
     "end_time": "2022-08-01T11:46:37.902118Z",
     "start_time": "2022-08-01T11:46:36.585304Z"
    },
    "scrolled": false
   },
   "outputs": [
    {
     "data": {
      "image/png": "[encoded data removed]",
      "text/plain": [
       "<Figure size 864x432 with 1 Axes>"
      ]
     },
     "metadata": {},
     "output_type": "display_data"
    }
   ],
   "source": [
    "#let's use yellowbrick library, that inherits some functions from sklearn, and makes it easier to use performance metrics like WSS and SS\n",
    "kmeans = KElbowVisualizer(c.KMeans(), k=clusters, timings=False )\n",
    "kmeans.fit(X)\n",
    "kmeans.show();\n",
    "#it will sugest the number of clusters (dotted lines)"
   ]
  },
  {
   "cell_type": "code",
   "execution_count": 455,
   "id": "8c9544bc",
   "metadata": {
    "ExecuteTime": {
     "end_time": "2022-08-01T11:46:45.349454Z",
     "start_time": "2022-08-01T11:46:45.343093Z"
    }
   },
   "outputs": [],
   "source": [
    "#The smaller the WSS, the smaller the sum of the distances within the clusters, which means that the points are closer to their centroid, so the cluster is more compact!\n",
    "\n",
    "#even though with more cluster (5, 6, 7), we would have (a bit) more condensed clusters, the optimized number of clusters according to WSS is now 4."
   ]
  },
  {
   "cell_type": "markdown",
   "id": "0421adbc",
   "metadata": {},
   "source": [
    "## Silhouette Score"
   ]
  },
  {
   "cell_type": "code",
   "execution_count": 456,
   "id": "d181e200",
   "metadata": {
    "ExecuteTime": {
     "end_time": "2022-08-01T11:46:52.263889Z",
     "start_time": "2022-08-01T11:46:47.934259Z"
    }
   },
   "outputs": [
    {
     "data": {
      "image/png": "[encoded data removed]",
      "text/plain": [
       "<Figure size 864x432 with 1 Axes>"
      ]
     },
     "metadata": {},
     "output_type": "display_data"
    }
   ],
   "source": [
    "#calculate silhouette score also with yellowbrick library\n",
    "kmeans = KElbowVisualizer(c.KMeans(), k=clusters, metric='silhouette', timings=False )\n",
    "kmeans.fit(X)\n",
    "kmeans.show();"
   ]
  },
  {
   "cell_type": "code",
   "execution_count": 457,
   "id": "9ffba795",
   "metadata": {
    "ExecuteTime": {
     "end_time": "2022-08-01T11:46:59.310822Z",
     "start_time": "2022-08-01T11:46:59.305481Z"
    }
   },
   "outputs": [],
   "source": [
    "#being SS=1 the best clustering result:\n",
    "    # with 2 clusters, the result is 0.99 (awesome)\n",
    "    # with 3 clusters, it is 0,96 (awesome)\n",
    "    # with 4, or 5, we still have SS > 0.8, it's still very good!\n",
    "\n",
    "#according to SS, the sugested cluster number is now 4, and it's SS IS over 0.95, what is great! \n",
    "#even 5 > 0.85, is still very good! Let's keep going with 5 by now. "
   ]
  },
  {
   "cell_type": "markdown",
   "id": "70bbfdd2",
   "metadata": {},
   "source": [
    "# Silhouette Analysis"
   ]
  },
  {
   "cell_type": "code",
   "execution_count": 458,
   "id": "22a860b1",
   "metadata": {
    "ExecuteTime": {
     "end_time": "2022-08-01T11:47:15.605923Z",
     "start_time": "2022-08-01T11:47:04.647016Z"
    }
   },
   "outputs": [
    {
     "data": {
      "image/png": "[encoded data removed]",
      "text/plain": [
       "<Figure size 1440x1440 with 6 Axes>"
      ]
     },
     "metadata": {},
     "output_type": "display_data"
    }
   ],
   "source": [
    "fig, ax = plt.subplots(3, 2, figsize=(20,20))\n",
    "for k in clusters:\n",
    "    #run kmeans\n",
    "    km = c.KMeans(n_clusters=k, init='random', n_init=10, max_iter=100, random_state=42)\n",
    "    #build positions to plot\n",
    "    q, mod = divmod(k, 2)\n",
    "    #plot silhouette\n",
    "    visualizer = SilhouetteVisualizer(km, color='yellowbrick', ax=ax[q-1][mod])\n",
    "    #plot silhouette analysis\n",
    "    visualizer.fit(X)\n",
    "    visualizer.finalize() #centers = clusters"
   ]
  },
  {
   "cell_type": "code",
   "execution_count": 459,
   "id": "9005f457",
   "metadata": {
    "ExecuteTime": {
     "end_time": "2022-08-01T11:47:15.621048Z",
     "start_time": "2022-08-01T11:47:15.609403Z"
    }
   },
   "outputs": [],
   "source": [
    "#with our features, our data is still too grouped, and it's generating a cluster too big! It's absorving other minors.\n",
    "#so, we it can be improved on next cycle. \n",
    "#for this third cycle, let's keep on with k=5."
   ]
  },
  {
   "cell_type": "markdown",
   "id": "459f527c",
   "metadata": {},
   "source": [
    "# Model Training"
   ]
  },
  {
   "cell_type": "markdown",
   "id": "7be4ba21",
   "metadata": {},
   "source": [
    "## K-Means"
   ]
  },
  {
   "cell_type": "code",
   "execution_count": 460,
   "id": "99823f9a",
   "metadata": {
    "ExecuteTime": {
     "end_time": "2022-08-01T11:47:15.961280Z",
     "start_time": "2022-08-01T11:47:15.636612Z"
    }
   },
   "outputs": [],
   "source": [
    "# Let's then continue with the projectand train the k-means model with 4 clusters.\n",
    "\n",
    "#model definition\n",
    "k = 5\n",
    "kmeans = c.KMeans( init='random', #init centroids ramdomly\n",
    "                  n_clusters=k, #3\n",
    "                  n_init=10, #Num of times k-means will be run with different centroid seeds.\n",
    "                  max_iter=300, #up to 300 times\n",
    "                 random_state=42) #seed, to generate the same random init\n",
    "#model training\n",
    "kmeans.fit(X)\n",
    "\n",
    "#get cluster of each row\n",
    "labels = kmeans.labels_"
   ]
  },
  {
   "cell_type": "markdown",
   "id": "1095fd70",
   "metadata": {},
   "source": [
    "## Cluster Validation"
   ]
  },
  {
   "cell_type": "code",
   "execution_count": 461,
   "id": "f0a33a79",
   "metadata": {
    "ExecuteTime": {
     "end_time": "2022-08-01T11:47:15.977172Z",
     "start_time": "2022-08-01T11:47:15.967871Z"
    }
   },
   "outputs": [
    {
     "name": "stdout",
     "output_type": "stream",
     "text": [
      "WSS Value: 37802566787.37714\n"
     ]
    }
   ],
   "source": [
    "#Metric: WSS (Within-cluster sum of square)\n",
    "\n",
    "#this method of k-means (sklearn) returns the WSS\n",
    "print(f'WSS Value: {kmeans.inertia_}')"
   ]
  },
  {
   "cell_type": "code",
   "execution_count": 462,
   "id": "666963fb",
   "metadata": {
    "ExecuteTime": {
     "end_time": "2022-08-01T11:47:16.711980Z",
     "start_time": "2022-08-01T11:47:15.988038Z"
    }
   },
   "outputs": [
    {
     "name": "stdout",
     "output_type": "stream",
     "text": [
      "SS Value: 0.7732515336579786\n"
     ]
    }
   ],
   "source": [
    "#Metric: SS (Silhouette Score)\n",
    "\n",
    "#this method of k-means (sklearn) returns the SS\n",
    "print(f'SS Value: {m.silhouette_score(X, labels, metric=\"euclidean\")}')"
   ]
  },
  {
   "cell_type": "code",
   "execution_count": 464,
   "id": "ca9cfafb",
   "metadata": {
    "ExecuteTime": {
     "end_time": "2022-08-01T11:47:53.313892Z",
     "start_time": "2022-08-01T11:47:53.309188Z"
    }
   },
   "outputs": [],
   "source": [
    "#the result for 5 clusters of SS=0.77 is in theory great!\n",
    "#but, as can be seen on Silhouette Analysis, with 5 cluster, we still have 1 that represents almost all data! \n",
    "#So, thats obvious it will perform well, because is't almost all the data of the dataset."
   ]
  },
  {
   "cell_type": "markdown",
   "id": "ea0c1fa1",
   "metadata": {},
   "source": [
    "# Cluster Analysis"
   ]
  },
  {
   "cell_type": "code",
   "execution_count": 465,
   "id": "043ff18b",
   "metadata": {
    "ExecuteTime": {
     "end_time": "2022-08-01T11:47:56.042002Z",
     "start_time": "2022-08-01T11:47:56.021540Z"
    }
   },
   "outputs": [
    {
     "data": {
      "text/html": [
       "<div>\n",
       "<style scoped>\n",
       "    .dataframe tbody tr th:only-of-type {\n",
       "        vertical-align: middle;\n",
       "    }\n",
       "\n",
       "    .dataframe tbody tr th {\n",
       "        vertical-align: top;\n",
       "    }\n",
       "\n",
       "    .dataframe thead th {\n",
       "        text-align: right;\n",
       "    }\n",
       "</style>\n",
       "<table border=\"1\" class=\"dataframe\">\n",
       "  <thead>\n",
       "    <tr style=\"text-align: right;\">\n",
       "      <th></th>\n",
       "      <th>customer_id</th>\n",
       "      <th>gross_revenue</th>\n",
       "      <th>recency_days</th>\n",
       "      <th>invoice_no</th>\n",
       "      <th>avg_ticket</th>\n",
       "      <th>cluster</th>\n",
       "    </tr>\n",
       "  </thead>\n",
       "  <tbody>\n",
       "    <tr>\n",
       "      <th>0</th>\n",
       "      <td>17850</td>\n",
       "      <td>5391.21</td>\n",
       "      <td>372.0</td>\n",
       "      <td>34.0</td>\n",
       "      <td>18.152222</td>\n",
       "      <td>1</td>\n",
       "    </tr>\n",
       "    <tr>\n",
       "      <th>1</th>\n",
       "      <td>13047</td>\n",
       "      <td>3232.59</td>\n",
       "      <td>56.0</td>\n",
       "      <td>9.0</td>\n",
       "      <td>18.904035</td>\n",
       "      <td>2</td>\n",
       "    </tr>\n",
       "    <tr>\n",
       "      <th>2</th>\n",
       "      <td>12583</td>\n",
       "      <td>6705.38</td>\n",
       "      <td>2.0</td>\n",
       "      <td>15.0</td>\n",
       "      <td>28.902500</td>\n",
       "      <td>1</td>\n",
       "    </tr>\n",
       "    <tr>\n",
       "      <th>3</th>\n",
       "      <td>13748</td>\n",
       "      <td>948.25</td>\n",
       "      <td>95.0</td>\n",
       "      <td>5.0</td>\n",
       "      <td>33.866071</td>\n",
       "      <td>2</td>\n",
       "    </tr>\n",
       "    <tr>\n",
       "      <th>4</th>\n",
       "      <td>15100</td>\n",
       "      <td>876.00</td>\n",
       "      <td>333.0</td>\n",
       "      <td>3.0</td>\n",
       "      <td>292.000000</td>\n",
       "      <td>2</td>\n",
       "    </tr>\n",
       "  </tbody>\n",
       "</table>\n",
       "</div>"
      ],
      "text/plain": [
       "   customer_id  gross_revenue  recency_days  invoice_no  avg_ticket  cluster\n",
       "0        17850        5391.21         372.0        34.0   18.152222        1\n",
       "1        13047        3232.59          56.0         9.0   18.904035        2\n",
       "2        12583        6705.38           2.0        15.0   28.902500        1\n",
       "3        13748         948.25          95.0         5.0   33.866071        2\n",
       "4        15100         876.00         333.0         3.0  292.000000        2"
      ]
     },
     "execution_count": 465,
     "metadata": {},
     "output_type": "execute_result"
    }
   ],
   "source": [
    "df9 = df6.copy()\n",
    "#create a cluster column with labels of it's cluster from k-means, to be able to plot colored clusters\n",
    "df9['cluster'] = labels\n",
    "df9.head()"
   ]
  },
  {
   "cell_type": "markdown",
   "id": "671e7af0",
   "metadata": {},
   "source": [
    "## Visualization Inspection"
   ]
  },
  {
   "cell_type": "code",
   "execution_count": 440,
   "id": "84c9a8fb",
   "metadata": {
    "ExecuteTime": {
     "end_time": "2022-08-01T11:02:45.500258Z",
     "start_time": "2022-08-01T11:02:43.780725Z"
    }
   },
   "outputs": [
    {
     "name": "stderr",
     "output_type": "stream",
     "text": [
      "/Users/home/opt/anaconda3/envs/pa005_clustering/lib/python3.8/site-packages/sklearn/base.py:450: UserWarning: X does not have valid feature names, but KMeans was fitted with feature names\n",
      "  warnings.warn(\n"
     ]
    },
    {
     "data": {
      "image/png": "[encoded data removed]",
      "text/plain": [
       "<Figure size 864x432 with 1 Axes>"
      ]
     },
     "metadata": {},
     "output_type": "display_data"
    }
   ],
   "source": [
    "#there is no way to plot more than 3D charts, so let's use the Silhouette Plot\n",
    "visualizer = SilhouetteVisualizer( kmeans, colors='yellowbrick' )\n",
    "visualizer.fit( X )\n",
    "visualizer.finalize()"
   ]
  },
  {
   "cell_type": "markdown",
   "id": "4cc18374",
   "metadata": {},
   "source": [
    "## 2d Plot"
   ]
  },
  {
   "cell_type": "code",
   "execution_count": 466,
   "id": "0ecd885b",
   "metadata": {
    "ExecuteTime": {
     "end_time": "2022-08-01T11:48:06.061629Z",
     "start_time": "2022-08-01T11:48:06.043885Z"
    }
   },
   "outputs": [
    {
     "data": {
      "text/html": [
       "<div>\n",
       "<style scoped>\n",
       "    .dataframe tbody tr th:only-of-type {\n",
       "        vertical-align: middle;\n",
       "    }\n",
       "\n",
       "    .dataframe tbody tr th {\n",
       "        vertical-align: top;\n",
       "    }\n",
       "\n",
       "    .dataframe thead th {\n",
       "        text-align: right;\n",
       "    }\n",
       "</style>\n",
       "<table border=\"1\" class=\"dataframe\">\n",
       "  <thead>\n",
       "    <tr style=\"text-align: right;\">\n",
       "      <th></th>\n",
       "      <th>customer_id</th>\n",
       "      <th>gross_revenue</th>\n",
       "      <th>recency_days</th>\n",
       "      <th>invoice_no</th>\n",
       "      <th>avg_ticket</th>\n",
       "      <th>cluster</th>\n",
       "    </tr>\n",
       "  </thead>\n",
       "  <tbody>\n",
       "    <tr>\n",
       "      <th>0</th>\n",
       "      <td>17850</td>\n",
       "      <td>5391.21</td>\n",
       "      <td>372.0</td>\n",
       "      <td>34.0</td>\n",
       "      <td>18.152222</td>\n",
       "      <td>1</td>\n",
       "    </tr>\n",
       "    <tr>\n",
       "      <th>1</th>\n",
       "      <td>13047</td>\n",
       "      <td>3232.59</td>\n",
       "      <td>56.0</td>\n",
       "      <td>9.0</td>\n",
       "      <td>18.904035</td>\n",
       "      <td>2</td>\n",
       "    </tr>\n",
       "    <tr>\n",
       "      <th>2</th>\n",
       "      <td>12583</td>\n",
       "      <td>6705.38</td>\n",
       "      <td>2.0</td>\n",
       "      <td>15.0</td>\n",
       "      <td>28.902500</td>\n",
       "      <td>1</td>\n",
       "    </tr>\n",
       "    <tr>\n",
       "      <th>3</th>\n",
       "      <td>13748</td>\n",
       "      <td>948.25</td>\n",
       "      <td>95.0</td>\n",
       "      <td>5.0</td>\n",
       "      <td>33.866071</td>\n",
       "      <td>2</td>\n",
       "    </tr>\n",
       "    <tr>\n",
       "      <th>4</th>\n",
       "      <td>15100</td>\n",
       "      <td>876.00</td>\n",
       "      <td>333.0</td>\n",
       "      <td>3.0</td>\n",
       "      <td>292.000000</td>\n",
       "      <td>2</td>\n",
       "    </tr>\n",
       "  </tbody>\n",
       "</table>\n",
       "</div>"
      ],
      "text/plain": [
       "   customer_id  gross_revenue  recency_days  invoice_no  avg_ticket  cluster\n",
       "0        17850        5391.21         372.0        34.0   18.152222        1\n",
       "1        13047        3232.59          56.0         9.0   18.904035        2\n",
       "2        12583        6705.38           2.0        15.0   28.902500        1\n",
       "3        13748         948.25          95.0         5.0   33.866071        2\n",
       "4        15100         876.00         333.0         3.0  292.000000        2"
      ]
     },
     "execution_count": 466,
     "metadata": {},
     "output_type": "execute_result"
    }
   ],
   "source": [
    "#chech wich features are messing up with the clustering, but it's not good do take a decision just looking at the plot, because two \"bad\" features combined, can turn into a \"good\" feature\n",
    "df9.head()"
   ]
  },
  {
   "cell_type": "code",
   "execution_count": 467,
   "id": "81c67aa8",
   "metadata": {
    "ExecuteTime": {
     "end_time": "2022-08-01T11:48:19.133706Z",
     "start_time": "2022-08-01T11:48:06.644278Z"
    }
   },
   "outputs": [
    {
     "data": {
      "text/plain": [
       "<seaborn.axisgrid.PairGrid at 0x7fe3fb92f280>"
      ]
     },
     "execution_count": 467,
     "metadata": {},
     "output_type": "execute_result"
    },
    {
     "data": {
      "image/png": "[encoded data removed]",
      "text/plain": [
       "<Figure size 765.725x720 with 20 Axes>"
      ]
     },
     "metadata": {},
     "output_type": "display_data"
    }
   ],
   "source": [
    "#plot pairplot to try to see patterns\n",
    "df_viz = df9.drop(columns='customer_id', axis=1)\n",
    "sns.pairplot(df_viz, hue='cluster')"
   ]
  },
  {
   "cell_type": "markdown",
   "id": "8964acb8",
   "metadata": {
    "ExecuteTime": {
     "end_time": "2022-07-26T21:57:42.296216Z",
     "start_time": "2022-07-26T21:57:42.290687Z"
    }
   },
   "source": [
    "## UMAP"
   ]
  },
  {
   "cell_type": "code",
   "execution_count": 468,
   "id": "4b94ea6a",
   "metadata": {
    "ExecuteTime": {
     "end_time": "2022-08-01T11:48:19.168839Z",
     "start_time": "2022-08-01T11:48:19.138019Z"
    }
   },
   "outputs": [
    {
     "data": {
      "text/html": [
       "<div>\n",
       "<style scoped>\n",
       "    .dataframe tbody tr th:only-of-type {\n",
       "        vertical-align: middle;\n",
       "    }\n",
       "\n",
       "    .dataframe tbody tr th {\n",
       "        vertical-align: top;\n",
       "    }\n",
       "\n",
       "    .dataframe thead th {\n",
       "        text-align: right;\n",
       "    }\n",
       "</style>\n",
       "<table border=\"1\" class=\"dataframe\">\n",
       "  <thead>\n",
       "    <tr style=\"text-align: right;\">\n",
       "      <th></th>\n",
       "      <th>gross_revenue</th>\n",
       "      <th>recency_days</th>\n",
       "      <th>invoice_no</th>\n",
       "      <th>avg_ticket</th>\n",
       "    </tr>\n",
       "  </thead>\n",
       "  <tbody>\n",
       "    <tr>\n",
       "      <th>0</th>\n",
       "      <td>5391.21</td>\n",
       "      <td>372.0</td>\n",
       "      <td>34.0</td>\n",
       "      <td>18.152222</td>\n",
       "    </tr>\n",
       "    <tr>\n",
       "      <th>1</th>\n",
       "      <td>3232.59</td>\n",
       "      <td>56.0</td>\n",
       "      <td>9.0</td>\n",
       "      <td>18.904035</td>\n",
       "    </tr>\n",
       "    <tr>\n",
       "      <th>2</th>\n",
       "      <td>6705.38</td>\n",
       "      <td>2.0</td>\n",
       "      <td>15.0</td>\n",
       "      <td>28.902500</td>\n",
       "    </tr>\n",
       "    <tr>\n",
       "      <th>3</th>\n",
       "      <td>948.25</td>\n",
       "      <td>95.0</td>\n",
       "      <td>5.0</td>\n",
       "      <td>33.866071</td>\n",
       "    </tr>\n",
       "    <tr>\n",
       "      <th>4</th>\n",
       "      <td>876.00</td>\n",
       "      <td>333.0</td>\n",
       "      <td>3.0</td>\n",
       "      <td>292.000000</td>\n",
       "    </tr>\n",
       "  </tbody>\n",
       "</table>\n",
       "</div>"
      ],
      "text/plain": [
       "   gross_revenue  recency_days  invoice_no  avg_ticket\n",
       "0        5391.21         372.0        34.0   18.152222\n",
       "1        3232.59          56.0         9.0   18.904035\n",
       "2        6705.38           2.0        15.0   28.902500\n",
       "3         948.25          95.0         5.0   33.866071\n",
       "4         876.00         333.0         3.0  292.000000"
      ]
     },
     "execution_count": 468,
     "metadata": {},
     "output_type": "execute_result"
    }
   ],
   "source": [
    "X.head()"
   ]
  },
  {
   "cell_type": "code",
   "execution_count": 469,
   "id": "a05597c3",
   "metadata": {
    "ExecuteTime": {
     "end_time": "2022-08-01T11:48:26.575397Z",
     "start_time": "2022-08-01T11:48:19.175843Z"
    }
   },
   "outputs": [
    {
     "name": "stderr",
     "output_type": "stream",
     "text": [
      "/Users/home/opt/anaconda3/envs/pa005_clustering/lib/python3.8/site-packages/sklearn/manifold/_spectral_embedding.py:259: UserWarning: Graph is not fully connected, spectral embedding may not work as expected.\n",
      "  warnings.warn(\n"
     ]
    },
    {
     "data": {
      "text/plain": [
       "<AxesSubplot:xlabel='embedding_x', ylabel='embedding_y'>"
      ]
     },
     "execution_count": 469,
     "metadata": {},
     "output_type": "execute_result"
    },
    {
     "data": {
      "image/png": "[encoded data removed]",
      "text/plain": [
       "<Figure size 864x432 with 1 Axes>"
      ]
     },
     "metadata": {},
     "output_type": "display_data"
    }
   ],
   "source": [
    "#n_neighbors=5\n",
    "\n",
    "#reducer: high dimensionality projection\n",
    "reducer = umap.UMAP( n_neighbors=5, #bigger: global structures, smaller: local structures (like a zoom!)\n",
    "                    random_state=42 )\n",
    "#fit variables in high dimensionality (x), projecting them in low dimensionality, generating the enbedding space\n",
    "embedding = reducer.fit_transform( X )\n",
    "\n",
    "# embedding\n",
    "df_viz['embedding_x'] = embedding[:, 0] #component 1\n",
    "df_viz['embedding_y'] = embedding[:, 1] #component 2\n",
    "\n",
    "# plot UMAP\n",
    "sns.scatterplot( x='embedding_x', y='embedding_y', \n",
    "                 hue='cluster', #cluster color\n",
    "                 palette=sns.color_palette( 'hls', n_colors=len( df_viz['cluster'].unique() ) ),# formula to get the number of clusters automatically)\n",
    "                 data=df_viz )"
   ]
  },
  {
   "cell_type": "code",
   "execution_count": 470,
   "id": "674f9ab8",
   "metadata": {
    "ExecuteTime": {
     "end_time": "2022-08-01T11:48:37.754161Z",
     "start_time": "2022-08-01T11:48:26.584342Z"
    },
    "scrolled": false
   },
   "outputs": [
    {
     "data": {
      "text/plain": [
       "<AxesSubplot:xlabel='embedding_x', ylabel='embedding_y'>"
      ]
     },
     "execution_count": 470,
     "metadata": {},
     "output_type": "execute_result"
    },
    {
     "data": {
      "image/png": "[encoded data removed]",
      "text/plain": [
       "<Figure size 864x432 with 1 Axes>"
      ]
     },
     "metadata": {},
     "output_type": "display_data"
    }
   ],
   "source": [
    "#n_neighbors=15\n",
    "reducer = umap.UMAP( n_neighbors=15, random_state=42 )\n",
    "embedding = reducer.fit_transform( X )\n",
    "df_viz['embedding_x'] = embedding[:, 0]\n",
    "df_viz['embedding_y'] = embedding[:, 1]\n",
    "sns.scatterplot( x='embedding_x', y='embedding_y', hue='cluster', palette=sns.color_palette( 'hls', n_colors=len( df_viz['cluster'].unique() ) ), data=df_viz )"
   ]
  },
  {
   "cell_type": "code",
   "execution_count": 471,
   "id": "b85c8298",
   "metadata": {
    "ExecuteTime": {
     "end_time": "2022-08-01T11:48:57.013312Z",
     "start_time": "2022-08-01T11:48:37.761178Z"
    }
   },
   "outputs": [
    {
     "data": {
      "text/plain": [
       "<AxesSubplot:xlabel='embedding_x', ylabel='embedding_y'>"
      ]
     },
     "execution_count": 471,
     "metadata": {},
     "output_type": "execute_result"
    },
    {
     "data": {
      "image/png": "[encoded data removed]",
      "text/plain": [
       "<Figure size 864x432 with 1 Axes>"
      ]
     },
     "metadata": {},
     "output_type": "display_data"
    }
   ],
   "source": [
    "#n_neighbors=80\n",
    "reducer = umap.UMAP( n_neighbors=80, random_state=42 )\n",
    "embedding = reducer.fit_transform( X )\n",
    "df_viz['embedding_x'] = embedding[:, 0]\n",
    "df_viz['embedding_y'] = embedding[:, 1]\n",
    "sns.scatterplot( x='embedding_x', y='embedding_y', hue='cluster', palette=sns.color_palette( 'hls', n_colors=len( df_viz['cluster'].unique() ) ), data=df_viz )"
   ]
  },
  {
   "cell_type": "code",
   "execution_count": 472,
   "id": "119770bd",
   "metadata": {
    "ExecuteTime": {
     "end_time": "2022-08-01T11:48:57.041042Z",
     "start_time": "2022-08-01T11:48:57.022152Z"
    }
   },
   "outputs": [],
   "source": [
    "#Clustering is good better at umap in third cycle, but we still have more than 90% of being one big cluster, so let's work on data on next cycles to improve this."
   ]
  },
  {
   "cell_type": "markdown",
   "id": "d0437fc3",
   "metadata": {},
   "source": [
    "## t-SNE"
   ]
  },
  {
   "cell_type": "code",
   "execution_count": 473,
   "id": "00d0c702",
   "metadata": {
    "ExecuteTime": {
     "end_time": "2022-08-01T11:48:57.070843Z",
     "start_time": "2022-08-01T11:48:57.045881Z"
    }
   },
   "outputs": [],
   "source": [
    "#next cycles\n",
    "pass"
   ]
  },
  {
   "cell_type": "markdown",
   "id": "03ba8b43",
   "metadata": {},
   "source": [
    "## Cluster Profile"
   ]
  },
  {
   "cell_type": "code",
   "execution_count": 474,
   "id": "b5519711",
   "metadata": {
    "ExecuteTime": {
     "end_time": "2022-08-01T11:49:18.793365Z",
     "start_time": "2022-08-01T11:49:18.787370Z"
    }
   },
   "outputs": [],
   "source": [
    "#using 4 metrics, with avg_ticket to represent the centroid of the group (mean), let's understand who are the people inside each cluster"
   ]
  },
  {
   "cell_type": "code",
   "execution_count": 475,
   "id": "9f4529da",
   "metadata": {
    "ExecuteTime": {
     "end_time": "2022-08-01T11:49:19.429429Z",
     "start_time": "2022-08-01T11:49:19.412204Z"
    }
   },
   "outputs": [
    {
     "data": {
      "text/html": [
       "<div>\n",
       "<style scoped>\n",
       "    .dataframe tbody tr th:only-of-type {\n",
       "        vertical-align: middle;\n",
       "    }\n",
       "\n",
       "    .dataframe tbody tr th {\n",
       "        vertical-align: top;\n",
       "    }\n",
       "\n",
       "    .dataframe thead th {\n",
       "        text-align: right;\n",
       "    }\n",
       "</style>\n",
       "<table border=\"1\" class=\"dataframe\">\n",
       "  <thead>\n",
       "    <tr style=\"text-align: right;\">\n",
       "      <th></th>\n",
       "      <th>customer_id</th>\n",
       "      <th>gross_revenue</th>\n",
       "      <th>recency_days</th>\n",
       "      <th>invoice_no</th>\n",
       "      <th>avg_ticket</th>\n",
       "      <th>cluster</th>\n",
       "    </tr>\n",
       "  </thead>\n",
       "  <tbody>\n",
       "    <tr>\n",
       "      <th>0</th>\n",
       "      <td>17850</td>\n",
       "      <td>5391.21</td>\n",
       "      <td>372.0</td>\n",
       "      <td>34.0</td>\n",
       "      <td>18.152222</td>\n",
       "      <td>1</td>\n",
       "    </tr>\n",
       "    <tr>\n",
       "      <th>1</th>\n",
       "      <td>13047</td>\n",
       "      <td>3232.59</td>\n",
       "      <td>56.0</td>\n",
       "      <td>9.0</td>\n",
       "      <td>18.904035</td>\n",
       "      <td>2</td>\n",
       "    </tr>\n",
       "    <tr>\n",
       "      <th>2</th>\n",
       "      <td>12583</td>\n",
       "      <td>6705.38</td>\n",
       "      <td>2.0</td>\n",
       "      <td>15.0</td>\n",
       "      <td>28.902500</td>\n",
       "      <td>1</td>\n",
       "    </tr>\n",
       "    <tr>\n",
       "      <th>3</th>\n",
       "      <td>13748</td>\n",
       "      <td>948.25</td>\n",
       "      <td>95.0</td>\n",
       "      <td>5.0</td>\n",
       "      <td>33.866071</td>\n",
       "      <td>2</td>\n",
       "    </tr>\n",
       "    <tr>\n",
       "      <th>4</th>\n",
       "      <td>15100</td>\n",
       "      <td>876.00</td>\n",
       "      <td>333.0</td>\n",
       "      <td>3.0</td>\n",
       "      <td>292.000000</td>\n",
       "      <td>2</td>\n",
       "    </tr>\n",
       "  </tbody>\n",
       "</table>\n",
       "</div>"
      ],
      "text/plain": [
       "   customer_id  gross_revenue  recency_days  invoice_no  avg_ticket  cluster\n",
       "0        17850        5391.21         372.0        34.0   18.152222        1\n",
       "1        13047        3232.59          56.0         9.0   18.904035        2\n",
       "2        12583        6705.38           2.0        15.0   28.902500        1\n",
       "3        13748         948.25          95.0         5.0   33.866071        2\n",
       "4        15100         876.00         333.0         3.0  292.000000        2"
      ]
     },
     "execution_count": 475,
     "metadata": {},
     "output_type": "execute_result"
    }
   ],
   "source": [
    "df9.head()"
   ]
  },
  {
   "cell_type": "code",
   "execution_count": 476,
   "id": "75849f8e",
   "metadata": {
    "ExecuteTime": {
     "end_time": "2022-08-01T11:49:20.449456Z",
     "start_time": "2022-08-01T11:49:20.382176Z"
    }
   },
   "outputs": [
    {
     "data": {
      "text/html": [
       "<div>\n",
       "<style scoped>\n",
       "    .dataframe tbody tr th:only-of-type {\n",
       "        vertical-align: middle;\n",
       "    }\n",
       "\n",
       "    .dataframe tbody tr th {\n",
       "        vertical-align: top;\n",
       "    }\n",
       "\n",
       "    .dataframe thead th {\n",
       "        text-align: right;\n",
       "    }\n",
       "</style>\n",
       "<table border=\"1\" class=\"dataframe\">\n",
       "  <thead>\n",
       "    <tr style=\"text-align: right;\">\n",
       "      <th></th>\n",
       "      <th>cluster</th>\n",
       "      <th>customer_id</th>\n",
       "      <th>perc_customer</th>\n",
       "      <th>gross_revenue</th>\n",
       "      <th>recency_days</th>\n",
       "      <th>invoice_no</th>\n",
       "      <th>avg_ticket</th>\n",
       "    </tr>\n",
       "  </thead>\n",
       "  <tbody>\n",
       "    <tr>\n",
       "      <th>0</th>\n",
       "      <td>0</td>\n",
       "      <td>15</td>\n",
       "      <td>0.346420</td>\n",
       "      <td>70563.601333</td>\n",
       "      <td>29.333333</td>\n",
       "      <td>41.800000</td>\n",
       "      <td>5319.257814</td>\n",
       "    </tr>\n",
       "    <tr>\n",
       "      <th>1</th>\n",
       "      <td>1</td>\n",
       "      <td>413</td>\n",
       "      <td>9.538106</td>\n",
       "      <td>5932.363584</td>\n",
       "      <td>26.193705</td>\n",
       "      <td>12.377724</td>\n",
       "      <td>60.568214</td>\n",
       "    </tr>\n",
       "    <tr>\n",
       "      <th>2</th>\n",
       "      <td>2</td>\n",
       "      <td>3859</td>\n",
       "      <td>89.122402</td>\n",
       "      <td>843.890329</td>\n",
       "      <td>100.341798</td>\n",
       "      <td>2.847370</td>\n",
       "      <td>28.490561</td>\n",
       "    </tr>\n",
       "    <tr>\n",
       "      <th>3</th>\n",
       "      <td>3</td>\n",
       "      <td>38</td>\n",
       "      <td>0.877598</td>\n",
       "      <td>25177.080000</td>\n",
       "      <td>17.789474</td>\n",
       "      <td>34.184211</td>\n",
       "      <td>585.440059</td>\n",
       "    </tr>\n",
       "    <tr>\n",
       "      <th>4</th>\n",
       "      <td>4</td>\n",
       "      <td>5</td>\n",
       "      <td>0.115473</td>\n",
       "      <td>208453.866000</td>\n",
       "      <td>2.000000</td>\n",
       "      <td>75.800000</td>\n",
       "      <td>11499.503365</td>\n",
       "    </tr>\n",
       "  </tbody>\n",
       "</table>\n",
       "</div>"
      ],
      "text/plain": [
       "   cluster  customer_id  perc_customer  gross_revenue  recency_days  invoice_no    avg_ticket\n",
       "0        0           15       0.346420   70563.601333     29.333333   41.800000   5319.257814\n",
       "1        1          413       9.538106    5932.363584     26.193705   12.377724     60.568214\n",
       "2        2         3859      89.122402     843.890329    100.341798    2.847370     28.490561\n",
       "3        3           38       0.877598   25177.080000     17.789474   34.184211    585.440059\n",
       "4        4            5       0.115473  208453.866000      2.000000   75.800000  11499.503365"
      ]
     },
     "execution_count": 476,
     "metadata": {},
     "output_type": "execute_result"
    }
   ],
   "source": [
    "#building df_cluster\n",
    "\n",
    "# Number of customer\n",
    "df_cluster = df9[['customer_id', 'cluster']].groupby('cluster').count().reset_index()\n",
    "df_cluster['perc_customer'] = df_cluster['customer_id'] / df_cluster['customer_id'].sum()*100\n",
    "# Agg gross revenue\n",
    "df_avg_gross_revenue = df9[['gross_revenue','cluster']].groupby('cluster').mean().reset_index()\n",
    "df_cluster = pd.merge(df_cluster, df_avg_gross_revenue, how='inner', on='cluster')\n",
    "# Avg recency days\n",
    "df_avg_recency_days = df9[['recency_days','cluster']].groupby('cluster').mean().reset_index()\n",
    "df_cluster = pd.merge(df_cluster, df_avg_recency_days, how='inner', on='cluster')\n",
    "# Avg invoice number\n",
    "df_avg_invoice_no = df9[['invoice_no','cluster']].groupby('cluster').mean().reset_index()\n",
    "df_cluster = pd.merge(df_cluster, df_avg_invoice_no, how='inner', on='cluster')\n",
    "# Avg ticket\n",
    "df_avg_ticket = df9[['avg_ticket','cluster']].groupby('cluster').mean().reset_index()\n",
    "df_cluster = pd.merge(df_cluster, df_avg_ticket, how='inner', on='cluster')\n",
    "# cluster profiles\n",
    "df_cluster"
   ]
  },
  {
   "cell_type": "code",
   "execution_count": 477,
   "id": "7c1653f8",
   "metadata": {
    "ExecuteTime": {
     "end_time": "2022-08-01T11:49:21.316930Z",
     "start_time": "2022-08-01T11:49:21.307000Z"
    }
   },
   "outputs": [
    {
     "name": "stdout",
     "output_type": "stream",
     "text": [
      " Cluster 0:\n",
      "    -Number of customers: 15 (0.3%)\n",
      "    -Average revenue: $70564\n",
      "    -Average recency: by each 29 days (4 week(s))\n",
      "    -Average purchases: 42  \n",
      "    -Average ticket: $5319 \n",
      " \n",
      " Cluster 1:\n",
      "    -Number of customers: 413 (9.5%)\n",
      "    -Average revenue: $5932\n",
      "    -Average recency: by each 26 days (4 week(s))\n",
      "    -Average purchases: 12  \n",
      "    -Average ticket: $61 \n",
      " \n",
      " Cluster 2:\n",
      "    -Number of customers: 3859 (89.1%)\n",
      "    -Average revenue: $844\n",
      "    -Average recency: by each 100 days (14 week(s))\n",
      "    -Average purchases: 3  \n",
      "    -Average ticket: $28 \n",
      " \n",
      " Cluster 3:\n",
      "    -Number of customers: 38 (0.9%)\n",
      "    -Average revenue: $25177\n",
      "    -Average recency: by each 18 days (3 week(s))\n",
      "    -Average purchases: 34  \n",
      "    -Average ticket: $585 \n",
      " \n",
      " Cluster 4:\n",
      "    -Number of customers: 5 (0.1%)\n",
      "    -Average revenue: $208454\n",
      "    -Average recency: by each 2 days (0 week(s))\n",
      "    -Average purchases: 76  \n",
      "    -Average ticket: $11500 \n",
      " \n"
     ]
    }
   ],
   "source": [
    "#generate the repport dinamically:\n",
    "for i in range(len(df_cluster['customer_id'])):\n",
    "    print(f\"\"\" Cluster {df_cluster['cluster'][i]}:\n",
    "    -Number of customers: {df_cluster['customer_id'][i]} ({round(df_cluster['perc_customer'][i],1)}%)\n",
    "    -Average revenue: ${round(df_cluster['gross_revenue'][i])}\n",
    "    -Average recency: by each {round(df_cluster['recency_days'][i])} days ({round(df_cluster['recency_days'][i]/7)} week(s))\n",
    "    -Average purchases: {round(df_cluster['invoice_no'][i])}  \n",
    "    -Average ticket: ${round(df_cluster['avg_ticket'][i])} \\n \"\"\")"
   ]
  },
  {
   "cell_type": "code",
   "execution_count": 478,
   "id": "2cc137ab",
   "metadata": {
    "ExecuteTime": {
     "end_time": "2022-08-01T11:49:28.234125Z",
     "start_time": "2022-08-01T11:49:28.227158Z"
    }
   },
   "outputs": [],
   "source": [
    "#there is more than 89% of customers in one cluster (2), so we need to keep work on data to improve this on next cycle."
   ]
  },
  {
   "cell_type": "markdown",
   "id": "04f29b79",
   "metadata": {
    "heading_collapsed": true
   },
   "source": [
    "# Deploy"
   ]
  },
  {
   "cell_type": "code",
   "execution_count": 145,
   "id": "11651e67",
   "metadata": {
    "ExecuteTime": {
     "end_time": "2022-07-25T00:01:30.743491Z",
     "start_time": "2022-07-25T00:01:30.736620Z"
    },
    "hidden": true
   },
   "outputs": [],
   "source": [
    "#in the future"
   ]
  }
 ],
 "metadata": {
  "kernelspec": {
   "display_name": "Python 3 (ipykernel)",
   "language": "python",
   "name": "python3"
  },
  "language_info": {
   "codemirror_mode": {
    "name": "ipython",
    "version": 3
   },
   "file_extension": ".py",
   "mimetype": "text/x-python",
   "name": "python",
   "nbconvert_exporter": "python",
   "pygments_lexer": "ipython3",
   "version": "3.8.0"
  },
  "toc": {
   "base_numbering": 1,
   "nav_menu": {},
   "number_sections": true,
   "sideBar": true,
   "skip_h1_title": false,
   "title_cell": "Table of Contents",
   "title_sidebar": "Contents",
   "toc_cell": false,
   "toc_position": {},
   "toc_section_display": true,
   "toc_window_display": false
  },
  "varInspector": {
   "cols": {
    "lenName": 16,
    "lenType": 16,
    "lenVar": 40
   },
   "kernels_config": {
    "python": {
     "delete_cmd_postfix": "",
     "delete_cmd_prefix": "del ",
     "library": "var_list.py",
     "varRefreshCmd": "print(var_dic_list())"
    },
    "r": {
     "delete_cmd_postfix": ") ",
     "delete_cmd_prefix": "rm(",
     "library": "var_list.r",
     "varRefreshCmd": "cat(var_dic_list()) "
    }
   },
   "position": {
    "height": "294.85px",
    "left": "500px",
    "right": "20px",
    "top": "101px",
    "width": "510px"
   },
   "types_to_exclude": [
    "module",
    "function",
    "builtin_function_or_method",
    "instance",
    "_Feature"
   ],
   "window_display": false
  }
 },
 "nbformat": 4,
 "nbformat_minor": 5
}
